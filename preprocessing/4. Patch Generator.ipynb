{
 "cells": [
  {
   "cell_type": "markdown",
   "metadata": {},
   "source": [
    "# Patch Generator\n",
    "### On this notebook, we will generate the patches to be used for training.\n",
    "\n",
    "### We can choose the patch zise, the stride to generate patches, which type of images will be used for validation, the minimum amount of positive pixels for a patch to be considered as positive, and some other features of the patches to be generated (see full explanation further below)."
   ]
  },
  {
   "cell_type": "markdown",
   "metadata": {},
   "source": [
    "### Data was already downloaded into the Git Repository, in the folder '../Data', which contains the following subfolders:\n",
    "    1. Serial: Folder containing all 'Serial' type images.\n",
    "    2. Control: Folder containing all 'Control' type images.\n",
    "    3. Streak: Folder containing all 'Streak' type images.\n",
    "\n",
    "### In addition, <span style=\"color:blue\">*prepocessed images*</span>  can already be found in <span style=\"color:blue\">'../Data/no_dish_border/'</span> folder also containing the following subfolders:\n",
    "    1. Serial: Folder containing all pre-processed 'Serial' type images.\n",
    "    2. Control: Folder containing all pre-processed 'Control' type images.\n",
    "    3. Streak: Folder containing all pre-processed 'Streak' type images.\n",
    "    \n",
    "### Positive pixel <span style=\"color:blue\">*Masks*</span> were already obtained and can be found in <span style=\"color:blue\">'../Data/Masks'</span> folder also containing the following subfolders:\n",
    "    1. Serial: Folder containing all positive masks for 'Serial' type images.\n",
    "    2. Control: Folder containing all positive masks for 'Control' type images.\n",
    "    3. Streak: Folder containing all positive masks for 'Streak' type images.\n",
    "    \n",
    "### Using the positive pixel masks, <span style=\"color:blue\">*positive-pixels-only images*</span> were generated and can be found in <span style=\"color:blue\">'../Data/pos_pixel_only/'</span> folder also containing the following subfolders:\n",
    "    1. Serial: Folder containing all positive-pixels-only images for 'Serial' type images.\n",
    "    2. Control: Folder containing all positive-pixels-only images for 'Control' type images.\n",
    "    3. Streak: Folder containing all positive-pixels-only images for 'Streak' type images."
   ]
  },
  {
   "cell_type": "markdown",
   "metadata": {},
   "source": [
    "### Let's import necessary libraries / modules:"
   ]
  },
  {
   "cell_type": "code",
   "execution_count": 1,
   "metadata": {
    "colab": {},
    "colab_type": "code",
    "id": "jucLaN6XuI0G"
   },
   "outputs": [],
   "source": [
    "import matplotlib.pyplot as plt\n",
    "import numpy as np\n",
    "import os\n",
    "import shutil\n",
    "from PIL import Image\n",
    "import cv2 as cv\n",
    "\n",
    "%matplotlib inline\n",
    "%reload_ext autoreload\n",
    "%autoreload 2"
   ]
  },
  {
   "cell_type": "markdown",
   "metadata": {},
   "source": [
    "### Helper Function: get a list of 'complete' file paths of all images in a given folder:"
   ]
  },
  {
   "cell_type": "code",
   "execution_count": 2,
   "metadata": {},
   "outputs": [],
   "source": [
    "def get_files(folder):\n",
    "    \"\"\"\n",
    "    Returns a list of file_paths for each file in the specified folder. \n",
    "    :param folder: The folder where files are located.\n",
    "    :return: A list of file_paths for each file in the specified folder.\n",
    "    \"\"\"\n",
    "    files = os.listdir(folder)\n",
    "    paths = []\n",
    "    for x in files:\n",
    "        paths.append(os.path.join(folder, x))\n",
    "    return paths"
   ]
  },
  {
   "cell_type": "markdown",
   "metadata": {},
   "source": [
    "### Helper Function: \n",
    "#### Create all needed folders and subfolders."
   ]
  },
  {
   "cell_type": "code",
   "execution_count": 3,
   "metadata": {},
   "outputs": [],
   "source": [
    "def create_folders(patch_size, types, patch_types):\n",
    "    \"\"\"\n",
    "    Create all needed folders to save the created Patches.\n",
    "    :param patch_size: Tuple. (Patch_width, Patch_height) e.g. (64 ,64).\n",
    "    :return: save_dir. The root directory where Patches will be saved.\n",
    "    \"\"\" \n",
    "    folder_name = 'Patches_' + str(patch_size[0]) + 'x' + str(patch_size[1])\n",
    "    save_dir = '../Data/' + folder_name + '/'\n",
    "    \n",
    "    if folder_name in os.listdir('../Data'):\n",
    "        shutil.rmtree(save_dir)\n",
    "    os.mkdir(save_dir)\n",
    "    \n",
    "    for folder in ['Positive', 'Negative']:\n",
    "        path = save_dir + '/' + folder\n",
    "        os.mkdir(path)\n",
    "        for type in ['Serial', 'Control', 'Streak']:\n",
    "            type_path = path + '/' + type\n",
    "            os.mkdir(type_path)\n",
    "            for i in range(1,11):\n",
    "                loc = 'C{}_{}'.format(i, folder.lower()[:3])\n",
    "                loc_path = type_path + '/' + loc\n",
    "                os.mkdir(loc_path)           \n",
    "    return save_dir"
   ]
  },
  {
   "cell_type": "markdown",
   "metadata": {},
   "source": [
    "## Patch Generator function"
   ]
  },
  {
   "cell_type": "code",
   "execution_count": 4,
   "metadata": {},
   "outputs": [],
   "source": [
    "def create_patches(img_types, patch_types, patch_size, stride, min_pos_pixels, validation_type,\n",
    "                   val_stride, include_dish_border=False, positive_pixels_only=False):\n",
    "    \"\"\"\n",
    "    Creates patches for training.\n",
    "    :param img_types: List. List of images types patching. Any combination from ['Serial',\n",
    "                         'Control', 'Stride'] -one, two or all three-.\n",
    "    :param patch_types: List. List with types of patches to generate for each location.\n",
    "                        Either ['Positive'] or ['Negative'] or ['Positive','Negative'].\n",
    "    :param patch_size: Tuple. (patch_width, patch_height) e.g. (64 ,64).\n",
    "    :param stride: Tuple. (horizontal_stride, vertical_stride).\n",
    "                   Amount of pixels to move right or down  to generate next patch.\n",
    "    :param min_pos_pixels: Integer. Minimum positive pixels in patches.\n",
    "                           Values from 1 pixel to patch_width*patch_height (all pixels).\n",
    "    :param validation_type: Str. Type of images to be used for model validation.\n",
    "                                 either 'Control', 'Serial', 'Strike' or None.\n",
    "    :param val_stride: Tuple. (horizontal_stride, vertical_stride) for validation patches.\n",
    "                   Amount of pixels to move right or down  to generate next validation patch.\n",
    "    :param include_dish_border: Boolean. True ->  include petri-dish border in training patches.\n",
    "    :param positive_pixels_only: Boolean. True -> patches with positive pixels only.\n",
    "                                 False -> natural images including dish background (default).\n",
    "    :return: save_dir. The root directory where Patches were saved.\n",
    "    \"\"\" \n",
    "    if positive_pixels_only and include_dish_border:\n",
    "        print(\"No border will be included when 'positive_pixels_only=TRUE'\")\n",
    "    if positive_pixels_only and 'Negative' in patch_types:\n",
    "        print(\"No negative patches will be generated when 'positive_pixels_only=TRUE'\")\n",
    "        \n",
    "    save_dir = create_folders(patch_size, img_types, patch_types)\n",
    "    width, height = patch_size\n",
    "    max_pixels = width * height * 255 # maximum pixel sum if all pixels in patch were white (255)\n",
    "    root = '../Data/no_dish_border/'\n",
    "    if include_dish_border: root = '../Data/'\n",
    "    if positive_pixels_only: root = '../Data/pos_pixel_only/'\n",
    "    \n",
    "    for type in img_types:\n",
    "        print('\\ngenerating \"{}\" patches...............'.format(type)) \n",
    "        img_folder = root + type\n",
    "        if type == validation_type: img_folder = '../Data/' + type\n",
    "        images = get_files(img_folder) # Returns array of all file_paths in the specified folder.\n",
    "        move = stride\n",
    "        if type == validation_type: move = val_stride\n",
    "        \n",
    "        for img_path in images:\n",
    "            if 'no_blue_numbers' in img_path: continue\n",
    "            img = Image.open(img_path)\n",
    "            imgwidth, imgheight = img.size \n",
    "            for i in range(1,11):\n",
    "                if 'C{}_'.format(i) in img_path:\n",
    "                    loc = '/C{}_'.format(i)\n",
    "            mask_path = '../Data/Masks/' + type + img_path[len(img_folder):]\n",
    "            mask = Image.open(mask_path)\n",
    "\n",
    "            for i in range(0,imgheight,move[1]):\n",
    "                for j in range(0,imgwidth,move[0]):\n",
    "                    if j+width > imgwidth or i+height > imgheight: continue\n",
    "                    box = (j, i, j+width, i+height)\n",
    "                    mask_patch = mask.crop(box)\n",
    "                    mask_pixels = np.sum(mask_patch.convert('L'))\n",
    "                    n_mask_pixels = int(mask_pixels/255.0)\n",
    "                    patch = img.crop(box)\n",
    "                    patch_grey = patch.convert('L')\n",
    "                    pixels = np.sum(patch_grey)\n",
    "                    patch_grey_cv = np.array(patch_grey)\n",
    "                    patch_grey_cv[patch_grey_cv < 255] = 0 # set all pixels inside dish to 0 / black\n",
    "                    pixels_cv = np.sum(patch_grey_cv)\n",
    "\n",
    "                    if 'Positive' in patch_types and n_mask_pixels >= min_pos_pixels:\n",
    "                        pos_save_path = save_dir+'Positive/'+type+loc+'pos'+img_path[:-4][len(img_folder):] \\\n",
    "                            + '_' + '{}_{}.jpg'.format(int(i/move[1]),int(j/move[0]))\n",
    "                        patch.save(pos_save_path)\n",
    "\n",
    "                    if 'Negative' in patch_types and not positive_pixels_only: # No neg patches if 'pos_pixels_only'\n",
    "                        if  mask_pixels==0 and pixels_cv<=max_pixels*0.6: #Negative but at least 40% within dish                            \n",
    "                            if include_dish_border or type == validation_type:\n",
    "                                if pixels >= 0.8 * max_pixels: continue # just white background                          \n",
    "                            neg_save_path = save_dir+'Negative/'+type+loc+'neg'+img_path[:-4][len(img_folder):] \\\n",
    "                                + '_' + '{}_{}.jpg'.format(int(i/move[1]),int(j/move[0]))\n",
    "                            patch.save(neg_save_path)\n",
    "                        \n",
    "    print(\"\\npatches sucesfully created and saved in: '{}'\".format(save_dir))\n",
    "    return save_dir"
   ]
  },
  {
   "cell_type": "markdown",
   "metadata": {},
   "source": [
    "# Detailed explanation of the parameters for the Patch Generator function:\n",
    "\n",
    "## img_types:\n",
    "This is a list containing strings describing the type of images for which you wish to generate the patches. <br><br>\n",
    "As example, if you with to generate patches for 'Serial' and 'Control' types, use:\n",
    "__img_types = ['Serial', 'Control']__\n",
    "\n",
    "## patch_types:\n",
    "This is also list containing strings describing the type of patches that you want to generate. Options are either 'Positive' or 'Negative' of both. 'Negative' patches are those patches still within the Petri-Dish but containing zero positive pixels (pixels actually corresponding bacterial colonies instead of petri-dish background, border, or noise). <br><br>\n",
    "As example, if you want to generate both Positive and Negative patches, use: __patch_types = ['Positive', 'Negative']__\n",
    "\n",
    "\n",
    "## patch_size:\n",
    "This is a tuple containing the size of the patches to be generate, in pixels (patch_width, patch_height).<br><br>\n",
    "As example, if you want to generate patches of 64 pixels width by 64 pixels height, use:  __patch_size = (64, 64)__\n",
    "\n",
    "## stride:\n",
    "Tuple with (horizontal_stride, vertical_stride). To generate the patches, a window with the desire patch_size will move around the original image, extracting the patches. This window will move from the left corner first horizontally (first 'row') and then it will move vertically before moving horizontally again (second row). <br><br>\n",
    "\n",
    "The horizontal stride will then correspond to the amount of pixels that the window will move to the right to generate the next patch. Similarly, the vertical stride will correspond to the amount of pixels that the window will move down to the next row of patches. <br><br>\n",
    "\n",
    "As a toy example, in the picture below, the original image size is (6, 6) = 6x6 pixels, the patch_size is (3, 3) and the horizontal stride is 2:\n",
    "\n",
    "![alt text](../notebook_pictures/stride.png \"toy example for stride\")\n",
    "<br><br>\n",
    "If horizontal_stride = patch_width, no patches will be overlapping horizontally. <br>\n",
    "If horizontal_stride > patch_width, we will be loosing data which is not recommended. <br>\n",
    "If horizontal_stride < patch_width, we will be getting overlapping patches which is highly recommended as a __Data Augmentation__ technique. <br><br>\n",
    "The same applies for the vertical_stride and the patch_height.\n",
    "\n",
    "## min_pos_pixels:\n",
    "Integer. minimum amount of positive pixels in a patch for it to be classified as a positive patch. <br><br>\n",
    "For a patch to be considered positive, we need to define a desired treshold on how many positive pixels must each patch contain in order to be classified as positive. <br>\n",
    "If we set __min_pos_pixels = 1__, this means that a patch will be considered positive as long as it cotains a least one positive pixel. <br>\n",
    "If we set __min_pos_pixels = patch_width*patch_height__,this means that only thos patches containing 100% positive pixels, will be considered as positive. <br><br>\n",
    "As you can imagine, a good choice will probably be in between. Be careful when requiring large minimums, as you may end up generating no positive patches at all.  \n",
    "\n",
    "__Note:__ One option for the treshold to use for a patch to be considered positive could have been the percentage (%) of positive pixels within the patch but this has the issue that if we train our model and find that for example, selecting patches with 30% positive pixels wroks very well and we now try a larger patch size, 30% of a larger patch size would mean that many of the patches that were positive before will not be considered positive anymore and we could even have the situation where no patches would be considered positive at all.\n",
    "\n",
    "## validation_type:\n",
    "\n",
    "String indicating the type of images to be used for model validation. It could be either 'Control', 'Serial', 'Strike' or None. <br><br>\n",
    "Since we performed image preprocessing for training only but most probably we won't be able to perform image preprocessing for test images (e.g. creating positive masks and then creating images with positive pixels only), we should validate our model on non-preprocessed image (natural images including petri-dish background and even petri-dish border). <br><br>\n",
    "The patches for the type of image indicated as validation_type, will be generated as patches from the original (non-preprocessed) images so we can better test/validate the performance of our model. If you still want all patches to be generated from preprocessed images, just set __validation_type = 'None'__\n",
    "\n",
    "## val_stride:\n",
    "Same concept than 'stride' (see above) but in this case it will be the stride used to generate validation patches, as you may wish a different stride for training than for validation.\n",
    "\n",
    "## include_dish_border:\n",
    "Boolean to indicate whether you want training patches to include the petri-dish border or not.<br>\n",
    "True ->  include petri-dish border in training patches\n",
    "\n",
    "## positive_pixels_only:\n",
    "Boolean to indicate if you want the patches to contain positive pixels only (no petri-dish background nor petri-dish border).\n",
    "#### Example:\n",
    "![alt text](../notebook_pictures/positive_only.jpg \"example of patch with poxitive pixels only\")\n",
    "\n",
    "True-> positive pixels only. <br>\n",
    "False-> natural images including dish background. <br>\n",
    "\n",
    "If __positive_pixels_only = True__, then negative patches won't be generated, even if you include 'Negative' within the list for the parameter 'patch_types'. Similarly, no petri-dish broder will be included, even if you set include_dish_border = True."
   ]
  },
  {
   "cell_type": "markdown",
   "metadata": {},
   "source": [
    "## Enter the parameters for the Patch Generator function:"
   ]
  },
  {
   "cell_type": "code",
   "execution_count": 5,
   "metadata": {},
   "outputs": [],
   "source": [
    "img_types = ['Serial', 'Control', 'Streak']   # types of images for which patches will be generated\n",
    "patch_types = ['Positive', 'Negative']        # types of patches to generate (Positive or Negative or both)\n",
    "patch_size = (224, 224)                   # (patch_width, patch_height) \n",
    "stride = (112, 112)                         # (Horizontal_stride, Vertical_stride)\n",
    "min_pos_pixels = 1625                      # minimum positive pixels in patches: from 1 to patch_width*patch_height \n",
    "validation_type = 'Control'             # either 'Control', 'Serial', 'Strike' or 'None'\n",
    "val_stride = stride                     # (Horizontal_stride, Vertical_stride) for validation patches\n",
    "include_dish_border = False              # True ->  include petri-dish border in training patches\n",
    "positive_pixels_only = True             # True-> positive pixels only. False-> natural images incl. dish background"
   ]
  },
  {
   "cell_type": "markdown",
   "metadata": {},
   "source": [
    "## Let's generate the patches!:\n",
    "\n",
    "###  <span style=\"color:red\">*NOTE: THIS WILL REPLACE PREVIOUS PATCHES OF THE SAME SIZE, UNLESS YOU RENAME THE PREVIOUS PATCH FOLDER*</span>"
   ]
  },
  {
   "cell_type": "code",
   "execution_count": null,
   "metadata": {
    "scrolled": false
   },
   "outputs": [
    {
     "name": "stdout",
     "output_type": "stream",
     "text": [
      "No negative patches will be generated when 'positive_pixels_only=TRUE'\n",
      "\n",
      "generating \"Serial\" patches...............\n"
     ]
    }
   ],
   "source": [
    "\"\"\"Be CAREFUL, this will replace previously produced Patches of the same size\"\"\"\n",
    "patch_dir = create_patches(img_types, patch_types, patch_size, stride, min_pos_pixels, validation_type,\n",
    "                           val_stride, include_dish_border, positive_pixels_only)\n",
    "\n",
    "# Let's count patches by type and location:\n",
    "grand_total, pos_total, neg_total = 0, 0, 0\n",
    "for type in ['Serial', 'Control', 'Streak']:\n",
    "    print(\"\\nTotal '{}' Patches per location:\".format(type))\n",
    "    n_type, type_pos, type_neg = 0, 0, 0\n",
    "    for i in range(1,11):\n",
    "        pos_folder = '../Data/{}/Positive/{}/C{}_pos'.format(patch_dir,type,i)\n",
    "        neg_folder = '../Data/{}/Negative/{}/C{}_neg'.format(patch_dir,type,i)\n",
    "        n_pos = len(os.listdir(pos_folder))\n",
    "        n_neg = len(os.listdir(neg_folder))\n",
    "        total = n_pos + n_neg\n",
    "        n_type += total\n",
    "        type_pos += n_pos\n",
    "        type_neg += n_neg\n",
    "        print('total_C{}: {} = {} positive + {} negative'.format(i,total,n_pos,n_neg))\n",
    "    print('Total {}: {} = {} positive + {} negative'.format(type,n_type,type_pos,type_neg))\n",
    "    grand_total += n_type\n",
    "    pos_total += type_pos\n",
    "    neg_total += type_neg\n",
    "print('\\nGRAND TOTAL: {} = {} positive + {} negative'.format(grand_total,pos_total,neg_total))"
   ]
  },
  {
   "cell_type": "markdown",
   "metadata": {},
   "source": []
  }
 ],
 "metadata": {
  "colab": {
   "collapsed_sections": [],
   "name": "image_crop.ipynb",
   "provenance": []
  },
  "kernelspec": {
   "display_name": "Python 3",
   "language": "python",
   "name": "python3"
  },
  "language_info": {
   "codemirror_mode": {
    "name": "ipython",
    "version": 3
   },
   "file_extension": ".py",
   "mimetype": "text/x-python",
   "name": "python",
   "nbconvert_exporter": "python",
   "pygments_lexer": "ipython3",
   "version": "3.6.9"
  }
 },
 "nbformat": 4,
 "nbformat_minor": 1
}
