{
 "cells": [
  {
   "cell_type": "code",
   "execution_count": 1,
   "metadata": {
    "colab": {
     "base_uri": "https://localhost:8080/",
     "height": 80
    },
    "colab_type": "code",
    "id": "LDcYHHYJuTPg",
    "outputId": "3e300a8c-cab2-412f-9879-3d59390c848c"
   },
   "outputs": [
    {
     "name": "stderr",
     "output_type": "stream",
     "text": [
      "Using TensorFlow backend.\n"
     ]
    },
    {
     "data": {
      "text/html": [
       "<p style=\"color: red;\">\n",
       "The default version of TensorFlow in Colab will soon switch to TensorFlow 2.x.<br>\n",
       "We recommend you <a href=\"https://www.tensorflow.org/guide/migrate\" target=\"_blank\">upgrade</a> now \n",
       "or ensure your notebook will continue to use TensorFlow 1.x via the <code>%tensorflow_version 1.x</code> magic:\n",
       "<a href=\"https://colab.research.google.com/notebooks/tensorflow_version.ipynb\" target=\"_blank\">more info</a>.</p>\n"
      ],
      "text/plain": [
       "<IPython.core.display.HTML object>"
      ]
     },
     "metadata": {
      "tags": []
     },
     "output_type": "display_data"
    }
   ],
   "source": [
    "import matplotlib.image as mpimg\n",
    "import math\n",
    "import copy\n",
    "import time\n",
    "import cv2 as cv\n",
    "import glob\n",
    "import random\n",
    "import torch\n",
    "import torchvision\n",
    "import numpy as np \n",
    "from torchvision import transforms, datasets\n",
    "import pandas as pd\n",
    "import matplotlib.pyplot as plt\n",
    "import seaborn as sb\n",
    "import cv2\n",
    "from torch import nn\n",
    "from torch import optim\n",
    "import torch.nn.functional as F\n",
    "import torchvision\n",
    "from torchvision import datasets, transforms, models\n",
    "from skimage import io\n",
    "import re\n",
    "import warnings\n",
    "import os\n",
    "from scipy.ndimage.measurements import label\n",
    "from torch.utils.data.sampler import SubsetRandomSampler\n",
    "warnings.filterwarnings('ignore')\n",
    "\n",
    "from pydrive.auth import GoogleAuth\n",
    "from pydrive.drive import GoogleDrive\n",
    "from google.colab import auth\n",
    "from oauth2client.client import GoogleCredentials\n",
    "\n",
    "import numpy as np\n",
    "import matplotlib.pyplot as plt\n",
    "%matplotlib inline\n",
    "import os\n",
    "import zipfile\n",
    "import shutil\n",
    "from google.colab import files\n",
    "import json\n",
    "import time\n",
    "import pandas as pd\n",
    "\n",
    "import keras\n",
    "from keras.models import Model, Sequential, load_model\n",
    "from keras.applications.resnet50 import ResNet50\n",
    "from keras.layers import Input, Dense, Activation, Dropout, BatchNormalization,\\\n",
    "                          Conv2D, MaxPooling2D, Flatten, AveragePooling2D,\\\n",
    "                          GlobalAveragePooling2D, ZeroPadding2D\n",
    "from keras.initializers import glorot_uniform\n",
    "from keras import regularizers\n",
    "from keras.preprocessing.image import ImageDataGenerator\n",
    "from keras.optimizers import RMSprop, Adam, Adamax, Nadam, SGD\n",
    "from keras.callbacks import EarlyStopping, ReduceLROnPlateau, ModelCheckpoint\n",
    "\n",
    "from sklearn.metrics import roc_auc_score, accuracy_score, confusion_matrix, \\\n",
    "                            classification_report\n",
    "import pickle"
   ]
  },
  {
   "cell_type": "code",
   "execution_count": 0,
   "metadata": {
    "colab": {},
    "colab_type": "code",
    "id": "SYdG_m0d24Aw"
   },
   "outputs": [],
   "source": [
    "from shutil import rmtree\n",
    "#rmtree('./Patch')\n",
    "rmtree('./Outputs')\n",
    "#rmtree('/content/mixed_colony_images_nogt')"
   ]
  },
  {
   "cell_type": "code",
   "execution_count": 2,
   "metadata": {
    "colab": {
     "base_uri": "https://localhost:8080/",
     "height": 122
    },
    "colab_type": "code",
    "id": "RP6-N0TSRGLL",
    "outputId": "e0c11d2b-bea3-4ddd-c608-6b79262ddd03"
   },
   "outputs": [
    {
     "name": "stdout",
     "output_type": "stream",
     "text": [
      "Go to this URL in a browser: https://accounts.google.com/o/oauth2/auth?client_id=947318989803-6bn6qk8qdgf4n4g3pfee6491hc0brc4i.apps.googleusercontent.com&redirect_uri=urn%3aietf%3awg%3aoauth%3a2.0%3aoob&response_type=code&scope=email%20https%3a%2f%2fwww.googleapis.com%2fauth%2fdocs.test%20https%3a%2f%2fwww.googleapis.com%2fauth%2fdrive%20https%3a%2f%2fwww.googleapis.com%2fauth%2fdrive.photos.readonly%20https%3a%2f%2fwww.googleapis.com%2fauth%2fpeopleapi.readonly\n",
      "\n",
      "Enter your authorization code:\n",
      "··········\n",
      "Mounted at /content/drive\n"
     ]
    }
   ],
   "source": [
    "from google.colab import drive\n",
    "drive.mount('/content/drive')"
   ]
  },
  {
   "cell_type": "code",
   "execution_count": 3,
   "metadata": {
    "colab": {
     "base_uri": "https://localhost:8080/",
     "height": 34
    },
    "colab_type": "code",
    "id": "rISlnEqzuPPv",
    "outputId": "60d3c137-0f27-487e-f5d9-9d1868574c47"
   },
   "outputs": [
    {
     "name": "stdout",
     "output_type": "stream",
     "text": [
      "Using TensorFlow version: 1.15.0 , GPU: /device:GPU:0\n"
     ]
    }
   ],
   "source": [
    "from keras import backend as K\n",
    "if K.backend() == \"tensorflow\":\n",
    "    import tensorflow as tf\n",
    "    device_name = tf.test.gpu_device_name()\n",
    "    if device_name == '':\n",
    "        device_name = \"None\"\n",
    "    print('Using TensorFlow version:', tf.__version__, ', GPU:', device_name)"
   ]
  },
  {
   "cell_type": "markdown",
   "metadata": {
    "colab_type": "text",
    "id": "kJ8Z8W6ZjfD6"
   },
   "source": [
    "## Load the well trained model \n",
    "\n",
    "Replace this with most updated classifier "
   ]
  },
  {
   "cell_type": "code",
   "execution_count": 4,
   "metadata": {
    "colab": {
     "base_uri": "https://localhost:8080/",
     "height": 887
    },
    "colab_type": "code",
    "id": "Kz4JTKRqjc8M",
    "outputId": "2fb2cef9-fcc9-43d5-ef0e-ef18e575d782"
   },
   "outputs": [
    {
     "name": "stdout",
     "output_type": "stream",
     "text": [
      "Downloaded content: \"model_8_classes_08465.h5\"\n",
      "Downloaded content: \"model_C1_C2-3_08983.h5\"\n",
      "Downloaded content: \"model_C4-7_C5_083.h5\"\n",
      "Downloaded content: \"model_pos_neg_09973.h5\"\n",
      "\n",
      "cnn_models_names_dict: {\n",
      "  \"model_eight_classes\": \"model_8_classes_08465.h5\",\n",
      "  \"model_C1_C2_3\": \"model_C1_C2-3_08983.h5\",\n",
      "  \"model_C4_7_C5\": \"model_C4-7_C5_083.h5\",\n",
      "  \"model_pos_vs_neg\": \"model_pos_neg_09973.h5\"\n",
      "}\n",
      "\n",
      "Downloaded content: \"combine_model_0.9100.sav\"\n",
      "\n",
      "Root dir content: ['.config', 'model_C1_C2-3_08983.h5', 'model_pos_neg_09973.h5', 'model_8_classes_08465.h5', 'adc.json', 'drive', 'combine_model_0.9100.sav', 'model_C4-7_C5_083.h5', 'sample_data']\n",
      "WARNING:tensorflow:From /usr/local/lib/python3.6/dist-packages/keras/backend/tensorflow_backend.py:541: The name tf.placeholder is deprecated. Please use tf.compat.v1.placeholder instead.\n",
      "\n",
      "WARNING:tensorflow:From /usr/local/lib/python3.6/dist-packages/keras/backend/tensorflow_backend.py:4432: The name tf.random_uniform is deprecated. Please use tf.random.uniform instead.\n",
      "\n",
      "WARNING:tensorflow:From /usr/local/lib/python3.6/dist-packages/keras/backend/tensorflow_backend.py:66: The name tf.get_default_graph is deprecated. Please use tf.compat.v1.get_default_graph instead.\n",
      "\n",
      "WARNING:tensorflow:From /usr/local/lib/python3.6/dist-packages/keras/backend/tensorflow_backend.py:190: The name tf.get_default_session is deprecated. Please use tf.compat.v1.get_default_session instead.\n",
      "\n",
      "WARNING:tensorflow:From /usr/local/lib/python3.6/dist-packages/keras/backend/tensorflow_backend.py:197: The name tf.ConfigProto is deprecated. Please use tf.compat.v1.ConfigProto instead.\n",
      "\n",
      "WARNING:tensorflow:From /usr/local/lib/python3.6/dist-packages/keras/backend/tensorflow_backend.py:203: The name tf.Session is deprecated. Please use tf.compat.v1.Session instead.\n",
      "\n",
      "WARNING:tensorflow:From /usr/local/lib/python3.6/dist-packages/keras/backend/tensorflow_backend.py:207: The name tf.global_variables is deprecated. Please use tf.compat.v1.global_variables instead.\n",
      "\n",
      "WARNING:tensorflow:From /usr/local/lib/python3.6/dist-packages/keras/backend/tensorflow_backend.py:216: The name tf.is_variable_initialized is deprecated. Please use tf.compat.v1.is_variable_initialized instead.\n",
      "\n",
      "WARNING:tensorflow:From /usr/local/lib/python3.6/dist-packages/keras/backend/tensorflow_backend.py:223: The name tf.variables_initializer is deprecated. Please use tf.compat.v1.variables_initializer instead.\n",
      "\n",
      "WARNING:tensorflow:From /usr/local/lib/python3.6/dist-packages/keras/backend/tensorflow_backend.py:2041: The name tf.nn.fused_batch_norm is deprecated. Please use tf.compat.v1.nn.fused_batch_norm instead.\n",
      "\n",
      "WARNING:tensorflow:From /usr/local/lib/python3.6/dist-packages/keras/backend/tensorflow_backend.py:148: The name tf.placeholder_with_default is deprecated. Please use tf.compat.v1.placeholder_with_default instead.\n",
      "\n",
      "WARNING:tensorflow:From /usr/local/lib/python3.6/dist-packages/keras/backend/tensorflow_backend.py:4267: The name tf.nn.max_pool is deprecated. Please use tf.nn.max_pool2d instead.\n",
      "\n",
      "WARNING:tensorflow:From /usr/local/lib/python3.6/dist-packages/keras/optimizers.py:793: The name tf.train.Optimizer is deprecated. Please use tf.compat.v1.train.Optimizer instead.\n",
      "\n",
      "WARNING:tensorflow:From /usr/local/lib/python3.6/dist-packages/keras/backend/tensorflow_backend.py:3576: The name tf.log is deprecated. Please use tf.math.log instead.\n",
      "\n",
      "WARNING:tensorflow:From /usr/local/lib/python3.6/dist-packages/tensorflow_core/python/ops/math_grad.py:1424: where (from tensorflow.python.ops.array_ops) is deprecated and will be removed in a future version.\n",
      "Instructions for updating:\n",
      "Use tf.where in 2.0, which has the same broadcast rule as np.where\n",
      "WARNING:tensorflow:From /usr/local/lib/python3.6/dist-packages/keras/backend/tensorflow_backend.py:1033: The name tf.assign_add is deprecated. Please use tf.compat.v1.assign_add instead.\n",
      "\n",
      "WARNING:tensorflow:From /usr/local/lib/python3.6/dist-packages/keras/backend/tensorflow_backend.py:1020: The name tf.assign is deprecated. Please use tf.compat.v1.assign instead.\n",
      "\n"
     ]
    }
   ],
   "source": [
    "# Authenticate and create the PyDrive client.\n",
    "auth.authenticate_user()\n",
    "gauth = GoogleAuth()\n",
    "gauth.credentials = GoogleCredentials.get_application_default()\n",
    "drive = GoogleDrive(gauth)\n",
    "\n",
    "eight_classes_id = '1w0u_EKaSG8zkMRtYkNjFd3IOnR3IpQsJ' # model_8_classes_0.8465\n",
    "C1_C2_3_id = '18De1DbqyxD1JlNpue6LIUZXd73VgAN-f' # model C1 vs C2-3 vs all_other\n",
    "C4_7_C5_id = '1-4e6W-yR13q3ckpgo8O9QVMTncWITHwg' # model_C4-7_vs_C5_vs_all-other\n",
    "pos_vs_neg_id = '1-BxPnguFXE7PHmzKadW0AnwWO9VqTywR' # model pos-neg\n",
    "\n",
    "files_ids_dict = {'model_eight_classes': eight_classes_id,\n",
    "                  'model_C1_C2_3': C1_C2_3_id,\n",
    "                  'model_C4_7_C5': C4_7_C5_id,\n",
    "                  'model_pos_vs_neg': pos_vs_neg_id}\n",
    "\n",
    "models_names_dict = {}\n",
    "for model_name, file_id in files_ids_dict.items():\n",
    "    downloaded = drive.CreateFile({'id': file_id})\n",
    "    downloaded.GetContentFile(downloaded['title'])\n",
    "    print('Downloaded content: \"{}\"'.format(downloaded['title']))\n",
    "    models_names_dict[model_name] = downloaded['title']\n",
    "\n",
    "print('\\ncnn_models_names_dict:', str(json.dumps(models_names_dict, indent=2, default=str)))\n",
    "\n",
    "file_id = '1npIUvxesxWQVMOr8V5enHsTYz-x7-nuE' # 'combine' model_09100\n",
    "#file_id = '1aw3Bv1vXDlU_9ZTWeMTEzA44Jo3LlIzA' # 'combine' model_09203\n",
    "downloaded = drive.CreateFile({'id': file_id})\n",
    "downloaded.GetContentFile(downloaded['title'])\n",
    "print('\\nDownloaded content: \"{}\"'.format(downloaded['title']))\n",
    "print('\\nRoot dir content: {}'.format(os.listdir()))\n",
    "model_combine = downloaded['title']\n",
    "\n",
    "\n",
    "eight_classes_model = load_model(models_names_dict['model_eight_classes'])\n",
    "C1_C2_3_model = load_model(models_names_dict['model_C1_C2_3'])\n",
    "C4_7_C5_model = load_model(models_names_dict['model_C4_7_C5'])\n",
    "pos_vs_neg_model = load_model(models_names_dict['model_pos_vs_neg'])\n",
    "combine_model = pickle.load(open(model_combine, 'rb'))\n"
   ]
  },
  {
   "cell_type": "code",
   "execution_count": 0,
   "metadata": {
    "colab": {},
    "colab_type": "code",
    "id": "hEeDHxobjxeB"
   },
   "outputs": [],
   "source": [
    "def predict_patches(X, scaled=False):\n",
    "    \"\"\"\n",
    "    Generates output predictions for the input 128x128 patches.\n",
    "    :param X: A Numpy array (or array-like) containing the patches.\n",
    "              X.shape is (N_samples,patch_width,patch_height,channels)\n",
    "              patch_width,patch_height = 128,128\n",
    "              channels = 3 (RGB) \n",
    "    :param scaled: Boolean. Used to indicate if the patches were already\n",
    "              scaled from [0-255] to [0-1].          \n",
    "    :return: predictions, class_dict\n",
    "             predictions: array of shape (N_samples,) with the class indices\n",
    "             classs_dict: class dictionary mapping indices to class_names\n",
    "    \"\"\" \n",
    "    if not scaled: X = X.astype('float64')/255\n",
    "    eight_classes_scores = eight_classes_model.predict(X)\n",
    "    C1_C2_3_scores = C1_C2_3_model.predict(X)\n",
    "    C4_7_C5_scores = C4_7_C5_model.predict(X)\n",
    "    pos_vs_neg_scores = pos_vs_neg_model.predict(X)\n",
    "    X_probs = np.hstack((eight_classes_scores,C1_C2_3_scores,C4_7_C5_scores,pos_vs_neg_scores))\n",
    "    #print(X_probs)\n",
    "    y_pred = combine_model.predict(X_probs)\n",
    "    y_pos_neg = np.argmax(pos_vs_neg_scores, axis=1)\n",
    "    y_pred[y_pos_neg==0] = 8\n",
    "    class_dict = {0: \"C10_pos\",\n",
    "                  1 :\"C1_pos\",\n",
    "                  2: \"C2-3_pos\",\n",
    "                  3: \"C4-7_pos\",\n",
    "                  4: \"C5_pos\",\n",
    "                  5: \"C6_pos\",\n",
    "                  6: \"C8_pos\",\n",
    "                  7: \"C9_pos\",\n",
    "                  8: \"neg\"}\n",
    "    return y_pred, class_dict"
   ]
  },
  {
   "cell_type": "code",
   "execution_count": 6,
   "metadata": {
    "colab": {
     "base_uri": "https://localhost:8080/",
     "height": 34
    },
    "colab_type": "code",
    "id": "ObZ1jQl1JLCK",
    "outputId": "43ae21a7-a531-4994-d3fc-4bc32a2cd2f7"
   },
   "outputs": [
    {
     "name": "stdout",
     "output_type": "stream",
     "text": [
      "ls: cannot access './mixed_colony_images/mixed_colony_images_gt/Mixed-colony_01_010.jpg': No such file or directory\n"
     ]
    }
   ],
   "source": [
    "ls './mixed_colony_images/mixed_colony_images_gt/Mixed-colony_01_010.jpg'"
   ]
  },
  {
   "cell_type": "code",
   "execution_count": 13,
   "metadata": {
    "colab": {
     "base_uri": "https://localhost:8080/",
     "height": 286
    },
    "colab_type": "code",
    "id": "Ll-RCgb7JB0_",
    "outputId": "caee1437-8c58-4f44-9152-ca72f41cd20e"
   },
   "outputs": [
    {
     "data": {
      "text/plain": [
       "<matplotlib.image.AxesImage at 0x7fc9cf2c9cc0>"
      ]
     },
     "execution_count": 13,
     "metadata": {
      "tags": []
     },
     "output_type": "execute_result"
    },
    {
     "data": {
      "image/png": "[encoded data removed]",
      "text/plain": [
       "<Figure size 432x288 with 1 Axes>"
      ]
     },
     "metadata": {
      "tags": []
     },
     "output_type": "display_data"
    }
   ],
   "source": [
    "img=io.imread('./mixed_colony_images/mixed_colony_images_gt/Mixed-colony_01_010.jpg')\n",
    "plt.imshow(img)"
   ]
  },
  {
   "cell_type": "code",
   "execution_count": 0,
   "metadata": {
    "colab": {},
    "colab_type": "code",
    "id": "urKre97DJYSG"
   },
   "outputs": [],
   "source": [
    "t=np.expand_dims(img,axis=0)\n",
    "plt.imshow(t[0,200:328,400:528,:])\n",
    "patch=t[:,500:628,400:528,:]\n",
    "predict_patches(patch, scaled=False)"
   ]
  },
  {
   "cell_type": "markdown",
   "metadata": {
    "colab_type": "text",
    "id": "HGS6RJq5yZgJ"
   },
   "source": [
    "## Object detection on mixed colony data"
   ]
  },
  {
   "cell_type": "code",
   "execution_count": 0,
   "metadata": {
    "colab": {},
    "colab_type": "code",
    "id": "TaQD6-q733Gg"
   },
   "outputs": [],
   "source": [
    "!unzip './drive/My Drive/Capstone/mixed_colony_images.zip' "
   ]
  },
  {
   "cell_type": "code",
   "execution_count": 0,
   "metadata": {
    "colab": {},
    "colab_type": "code",
    "id": "K4Im0OYx4OZP"
   },
   "outputs": [],
   "source": [
    "!mkdir 'mixed_colony_images'"
   ]
  },
  {
   "cell_type": "code",
   "execution_count": 0,
   "metadata": {
    "colab": {},
    "colab_type": "code",
    "id": "PmdxQ6kB4UAD"
   },
   "outputs": [],
   "source": [
    "!mv './mixed_colony_images_gt' 'mixed_colony_images/'"
   ]
  },
  {
   "cell_type": "markdown",
   "metadata": {
    "colab_type": "text",
    "id": "pWuAr0GQMIV-"
   },
   "source": [
    "## No preprocessing the data "
   ]
  },
  {
   "cell_type": "code",
   "execution_count": 0,
   "metadata": {
    "colab": {},
    "colab_type": "code",
    "id": "CzGC-BkpNwzx"
   },
   "outputs": [],
   "source": [
    "file_list=os.listdir('./mixed_colony_images/mixed_colony_images_gt')\n",
    "if 'Patch' not in os.listdir('./'):\n",
    "  os.mkdir('./Patch')\n",
    "  for i in range(len(file_list)):\n",
    "    os.mkdir('./Patch/'+file_list[i])\n",
    "    os.mkdir('./Patch/'+file_list[i]+'/'+file_list[i])"
   ]
  },
  {
   "cell_type": "code",
   "execution_count": 0,
   "metadata": {
    "colab": {},
    "colab_type": "code",
    "id": "Cit_iuWFOyIv"
   },
   "outputs": [],
   "source": [
    "def generate_patch(save_path,img,window,step):\n",
    "  \"\"\"img.shape is like (1444,1444,3)\n",
    "  \"\"\"\n",
    "  H, W  = img.shape[0:2]\n",
    "  num_boxes  = 0 \n",
    "  y_start = 0\n",
    "  x_start = 0\n",
    "  for x_start in range(0,W-window,step):\n",
    "    for y_start in range(0,H-window,step):\n",
    "      img_patch = img[y_start:y_start+window,x_start:x_start+window,:]\n",
    "      if img_patch.shape != (window,window,3):\n",
    "        continue \n",
    "      name=str(x_start)+'_'+str(y_start)+'_'+str(window)\n",
    "      io.imsave(save_path+name+'.jpg',img_patch)\n",
    "  return"
   ]
  },
  {
   "cell_type": "code",
   "execution_count": 0,
   "metadata": {
    "colab": {},
    "colab_type": "code",
    "id": "fXjQRo96NM9s"
   },
   "outputs": [],
   "source": [
    "folder='./mixed_colony_images/mixed_colony_images_gt/'\n",
    "for im in os.listdir(folder):\n",
    "  save_path='./Patch/'+im+'/'+im+'/'\n",
    "  img=io.imread(folder+im)\n",
    "  window=128\n",
    "  step=window//4\n",
    "  generate_patch(save_path,img,window,step)"
   ]
  },
  {
   "cell_type": "code",
   "execution_count": 43,
   "metadata": {
    "colab": {
     "base_uri": "https://localhost:8080/",
     "height": 285
    },
    "colab_type": "code",
    "id": "r4_cOY2KTwPA",
    "outputId": "02296f44-be45-4914-f745-1cd915c8ccd7"
   },
   "outputs": [
    {
     "name": "stdout",
     "output_type": "stream",
     "text": [
      "(128, 128, 3)\n"
     ]
    },
    {
     "data": {
      "image/png": "[encoded data removed]",
      "text/plain": [
       "<Figure size 432x288 with 1 Axes>"
      ]
     },
     "metadata": {
      "tags": []
     },
     "output_type": "display_data"
    }
   ],
   "source": [
    "# read in data to the generator  \n",
    "c1_pos_folder = './Patch/Mixed-colony_01_010.jpg/Mixed-colony_01_010.jpg'\n",
    "img = plt.imread(c1_pos_folder + '/' + os.listdir(c1_pos_folder)[100])\n",
    "plt.imshow(img)\n",
    "img_size = img.shape\n",
    "print(img_size)"
   ]
  },
  {
   "cell_type": "code",
   "execution_count": 0,
   "metadata": {
    "colab": {},
    "colab_type": "code",
    "id": "KVmrgKhcfsPg"
   },
   "outputs": [],
   "source": [
    "def get_coordinate(s):\n",
    "  l=s.split('_')\n",
    "  x_start=int(l[0])\n",
    "  y_start=int(l[1])\n",
    "  window=int(l[2][:-4])\n",
    "  return ((x_start, y_start),(window+x_start,window+y_start))\n"
   ]
  },
  {
   "cell_type": "code",
   "execution_count": 0,
   "metadata": {
    "colab": {},
    "colab_type": "code",
    "id": "awzP3EGFoA4l"
   },
   "outputs": [],
   "source": [
    "class_dict = {0: \"C10\",\n",
    "                  1 :\"C1\",\n",
    "                  2: \"C2-3\",\n",
    "                  3: \"C4-7\",\n",
    "                  4: \"C5\",\n",
    "                  5: \"C6\",\n",
    "                  6: \"C8\",\n",
    "                  7: \"C9\",\n",
    "                  8: \"neg\"}"
   ]
  },
  {
   "cell_type": "code",
   "execution_count": 0,
   "metadata": {
    "colab": {},
    "colab_type": "code",
    "id": "8VYORX4G3nUh"
   },
   "outputs": [],
   "source": [
    "def add_heat(heatmap, bbox_list):\n",
    "    for box in bbox_list:\n",
    "        # Assuming each \"box\" takes the form ((x1, y1), (x2, y2))\n",
    "        heatmap[box[0][1]:box[1][1], box[0][0]:box[1][0]] += 1\n",
    "    return heatmap\n",
    "\n",
    "def apply_threshold(heatmap, threshold):\n",
    "    heatmap[heatmap <= threshold] = 0 \n",
    "    return heatmap\n",
    "    \n",
    "def draw_labeled_heatmap(img, labels):\n",
    "    # loop over all distinctly detected patches\n",
    "    for car_number in range(1, labels[1]+1):\n",
    "        # get pixel indices for current car_number\n",
    "        nonzero = (labels[0] == car_number).nonzero()\n",
    "        # Identify x and y values of those pixels\n",
    "        nonzeroy = np.array(nonzero[0])\n",
    "        nonzerox = np.array(nonzero[1])\n",
    "        # Define a bounding box based on min/max x and y\n",
    "        bbox = ((np.min(nonzerox), np.min(nonzeroy)), (np.max(nonzerox), np.max(nonzeroy)))\n",
    "        img = cv2.rectangle(img, bbox[0], bbox[1], (255,0,255), 6)\n",
    "    return img\n",
    "\n",
    "def heatmap_generation(heat_threshold,image,boxes,savepath): \n",
    "    \"\"\"image shape is like (1354, 1354, 3)\n",
    "      boxes is generated from the function get_hot_bboxes()\n",
    "      draw the heatmap \n",
    "    \"\"\"\n",
    "    # intialize heat map\n",
    "    heat = np.zeros_like(image[:,:,0]).astype(np.uint16)\n",
    "    # add all positive box detections to the heat map\n",
    "    heat = add_heat(heat,boxes)\n",
    "    # threshold the heat map\n",
    "    heat_thresh = apply_threshold(np.copy(heat), heat_threshold)\n",
    "    # combine the resulting heat map into continuous patches with identifier, and get number of identifications\n",
    "    labels = label(heat_thresh)\n",
    "    num_car_det = labels[1]\n",
    "    # draw the resulting labels on the original test image\n",
    "    test_img_ann = draw_labeled_heatmap(np.copy(image), labels)\n",
    "    # Visualize the heat map approach\n",
    "    fig, plts = plt.subplots(1, 4, figsize=(32,8))\n",
    "    plts[0].imshow(heat, cmap='gray'); plts[0].axis('off');\n",
    "    plts[0].set_title('Initial heat map', fontsize=25)\n",
    "    plts[1].imshow(heat_thresh, cmap='gray'); plts[1].axis('off');\n",
    "    plts[1].set_title('Thresholding.{}'.format(heat_threshold), fontsize=25)\n",
    "    # plts[2].imshow(labels[0], cmap='gray'); plts[2].axis('off');\n",
    "    # plts[2].set_title('After combining', fontsize=25)\n",
    "    plts[2].imshow(test_img_ann); plts[2].axis('off');\n",
    "    plts[2].set_title('class '+class_dict[target], fontsize=25)\n",
    "    \n",
    "    plts[3].imshow(image); plts[3].axis('off');\n",
    "    plts[3].set_title('Original Image', fontsize=25)\n",
    "    \n",
    "    plt.savefig(savepath)\n",
    "    plt.show()\n"
   ]
  },
  {
   "cell_type": "code",
   "execution_count": 0,
   "metadata": {
    "colab": {},
    "colab_type": "code",
    "id": "2jsJ1XtR4iTn"
   },
   "outputs": [],
   "source": [
    "if \"Outputs\" not in os.listdir('./'):\n",
    "    os.mkdir('./Outputs')"
   ]
  },
  {
   "cell_type": "code",
   "execution_count": 0,
   "metadata": {
    "colab": {},
    "colab_type": "code",
    "id": "DxU6Wp0BaGi9"
   },
   "outputs": [],
   "source": [
    "val_batch_size=64\n",
    "val_datagen = ImageDataGenerator()\n",
    "for im in file_list:\n",
    "  folder='./Patch/'+im+'/'\n",
    "  val_generator = val_datagen.flow_from_directory(\n",
    "          folder,\n",
    "          target_size=(img_size[0],img_size[1]),\n",
    "          batch_size=val_batch_size,\n",
    "          class_mode='categorical',\n",
    "          shuffle=False)\n",
    "  X, y_true = next(val_generator)\n",
    "  y_pred=predict_patches(X, scaled=False)[0]\n",
    "  for i in range(1, len(val_generator)):\n",
    "    X, y = next(val_generator)\n",
    "\n",
    "    y_pred = np.hstack((y_pred, predict_patches(X, scaled=False)[0]))\n",
    "  \n",
    "  patch_list=[x.split('/')[1] for x in val_generator.filenames]\n",
    "  img=io.imread('./mixed_colony_images/mixed_colony_images_gt/'+im)\n",
    "  \n",
    "  for target in [0,1,2,3,4,5,6,7]:\n",
    "      print(\"Looking for \"+ class_dict[target])\n",
    "      boxes=[get_coordinate(name) for name in np.array(patch_list)[[y_pred==target]]]\n",
    "      print(len(boxes))\n",
    "      image=np.copy(img)\n",
    "      for bb in boxes:\n",
    "        image2=cv2.rectangle(image,bb[0],bb[1], color=(255,0,0), thickness=6) \n",
    "        #plt.imshow(image2)\n",
    "      if len(boxes)!=0:\n",
    "        heat_threshold=3\n",
    "        save_path='./Outputs/'+im+'_'+class_dict[target]+'.jpg'\n",
    "        heatmap_generation(heat_threshold,np.copy(img),boxes,save_path)\n",
    "      print(\"\\n\")\n",
    "  "
   ]
  },
  {
   "cell_type": "code",
   "execution_count": 0,
   "metadata": {
    "colab": {},
    "colab_type": "code",
    "id": "KMchBMFB98Li"
   },
   "outputs": [],
   "source": [
    "#save the file in the drive \n",
    "from google.colab import files\n",
    "!zip -r /Heatmap_128_new.zip ./Outputs\n",
    "!mv /Heatmap_128_new.zip /content/drive/My\\ Drive/Capstone/"
   ]
  }
 ],
 "metadata": {
  "accelerator": "GPU",
  "colab": {
   "collapsed_sections": [],
   "name": "heatmap_obj_detection_combinemodel_nopreprocessing.ipynb",
   "provenance": [],
   "toc_visible": true
  },
  "kernelspec": {
   "display_name": "Python 3",
   "language": "python",
   "name": "python3"
  },
  "language_info": {
   "codemirror_mode": {
    "name": "ipython",
    "version": 3
   },
   "file_extension": ".py",
   "mimetype": "text/x-python",
   "name": "python",
   "nbconvert_exporter": "python",
   "pygments_lexer": "ipython3",
   "version": "3.6.9"
  }
 },
 "nbformat": 4,
 "nbformat_minor": 1
}
