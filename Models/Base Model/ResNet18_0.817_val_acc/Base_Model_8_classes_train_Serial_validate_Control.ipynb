{
  "nbformat": 4,
  "nbformat_minor": 0,
  "metadata": {
    "colab": {
      "name": "Base_Model 8 classes train Serial validate Control.ipynb",
      "provenance": [],
      "collapsed_sections": [],
      "machine_shape": "hm"
    },
    "kernelspec": {
      "name": "python3",
      "display_name": "Python 3"
    },
    "accelerator": "GPU"
  },
  "cells": [
    {
      "cell_type": "code",
      "metadata": {
        "id": "kOP-GdfHXmLs",
        "colab_type": "code",
        "colab": {}
      },
      "source": [
        "import numpy as np\n",
        "import matplotlib.pyplot as plt\n",
        "%matplotlib inline\n",
        "import os\n",
        "import zipfile\n",
        "import shutil\n",
        "from google.colab import files\n",
        "import json\n",
        "import time\n",
        "import pandas as pd\n",
        "\n",
        "import keras\n",
        "from keras.models import Model, Sequential\n",
        "from keras.applications.resnet50 import ResNet50\n",
        "from keras.layers import Input, Dense, Activation, Dropout, BatchNormalization,\\\n",
        "                          Conv2D, MaxPooling2D, Flatten, AveragePooling2D,\\\n",
        "                          GlobalAveragePooling2D, ZeroPadding2D\n",
        "from keras.initializers import glorot_uniform\n",
        "from keras import regularizers\n",
        "from keras.preprocessing.image import ImageDataGenerator\n",
        "from keras.optimizers import RMSprop, Adam, Adamax, Nadam, SGD\n",
        "from keras.callbacks import EarlyStopping, ReduceLROnPlateau, ModelCheckpoint\n",
        "\n",
        "from sklearn.metrics import roc_auc_score, accuracy_score, confusion_matrix, \\\n",
        "                            classification_report\n",
        "\n",
        "# Import PyDrive and associated libraries (to connect with GoogleDrive)\n",
        "from pydrive.auth import GoogleAuth\n",
        "from pydrive.drive import GoogleDrive\n",
        "from google.colab import auth\n",
        "from oauth2client.client import GoogleCredentials\n",
        "\n",
        "# disable warnings\n",
        "import warnings\n",
        "warnings.simplefilter(\"ignore\")\n",
        "os.environ['TF_CPP_MIN_LOG_LEVEL'] = '3' "
      ],
      "execution_count": 0,
      "outputs": []
    },
    {
      "cell_type": "markdown",
      "metadata": {
        "id": "DItexGaqdfEA",
        "colab_type": "text"
      },
      "source": [
        "### **Check if we are using GPU:**"
      ]
    },
    {
      "cell_type": "code",
      "metadata": {
        "id": "vn7AYx74dNq6",
        "colab_type": "code",
        "outputId": "3a1e622a-19df-4c66-88dc-e5549a7da336",
        "colab": {
          "base_uri": "https://localhost:8080/",
          "height": 34
        }
      },
      "source": [
        "from keras import backend as K\n",
        "if K.backend() == \"tensorflow\":\n",
        "    import tensorflow as tf\n",
        "    device_name = tf.test.gpu_device_name()\n",
        "    if device_name == '':\n",
        "        device_name = \"None\"\n",
        "    print('Using TensorFlow version:', tf.__version__, ', GPU:', device_name)"
      ],
      "execution_count": 24,
      "outputs": [
        {
          "output_type": "stream",
          "text": [
            "Using TensorFlow version: 1.15.0 , GPU: /device:GPU:0\n"
          ],
          "name": "stdout"
        }
      ]
    },
    {
      "cell_type": "markdown",
      "metadata": {
        "id": "QQXfhMrHlqrz",
        "colab_type": "text"
      },
      "source": [
        "### **Download Patches from GoogleDrive:**"
      ]
    },
    {
      "cell_type": "code",
      "metadata": {
        "id": "ACvUlEucnnY0",
        "colab_type": "code",
        "outputId": "1c01584b-e978-48e4-f06f-df3ecd61e660",
        "colab": {
          "base_uri": "https://localhost:8080/",
          "height": 71
        }
      },
      "source": [
        "# Authenticate and create the PyDrive client.\n",
        "auth.authenticate_user()\n",
        "gauth = GoogleAuth()\n",
        "gauth.credentials = GoogleCredentials.get_application_default()\n",
        "drive = GoogleDrive(gauth)\n",
        "\n",
        "#file_id = '1M_CrRxfsb5y2STHQGGA5IvcUTtA6HidU' #128x128_s60_no border_minpospix_1250 minposval_1024 Downsampled Control\n",
        "#file_id = '1Dwc0vZ-Atmq1-y3bQoMS_M0ReBB5-ewS' #128x128_s56_no border_minpospix_1250 minposval_1024 Downsampled Control\n",
        "#file_id = '1kttFmwfFRrIVTq_ERVWV83wAi4arr1Q0' #128x128_s60_no border_minpospix_1024 minposval_1024 Downsampled Control\n",
        "\n",
        "file_id = '1JQy5pWNTP-VcLfogtbR0PedDMtd_Meke' #128x128_s60_no border_minpospix_1250 minposval_1024 Downsampled Control_rot_0_120_240\n",
        "\n",
        "\n",
        "downloaded = drive.CreateFile({'id': file_id})\n",
        "downloaded.GetContentFile(downloaded['title'])\n",
        "print('Downloaded content: \"{}\"'.format(downloaded['title']))\n",
        "print('Root dir content: {}'.format(os.listdir()))"
      ],
      "execution_count": 25,
      "outputs": [
        {
          "output_type": "stream",
          "text": [
            "Downloaded content: \"Patches_128_s60_min1024_minval_1024_no_border_nonNeg_noStreak_downsampledControl_rot_0_120_240.zip\"\n",
            "Root dir content: ['.config', 'base_model_.h5', 'base_model.h5', 'Patches', 'Patches_128_s60_min1024_minval_1024_no_border_nonNeg_noStreak_downsampledControl_rot_0_120_240.zip', 'history_dict.json', 'adc.json', 'sample_data']\n"
          ],
          "name": "stdout"
        }
      ]
    },
    {
      "cell_type": "markdown",
      "metadata": {
        "id": "HSdGQav-qEJM",
        "colab_type": "text"
      },
      "source": [
        "### **Unzip the Patches:**"
      ]
    },
    {
      "cell_type": "code",
      "metadata": {
        "id": "jP1-2THkn47w",
        "colab_type": "code",
        "outputId": "28c2f255-3370-4ff5-adf9-2cbafb854703",
        "colab": {
          "base_uri": "https://localhost:8080/",
          "height": 34
        }
      },
      "source": [
        "# Remove 'Patches' dir if it already exists\n",
        "if 'Patches' in os.listdir():\n",
        "  shutil.rmtree('./Patches')\n",
        "with zipfile.ZipFile(downloaded['title'],\"r\") as zip:\n",
        "    zip.extractall()\n",
        "os.remove(downloaded['title'])\n",
        "print('Root dir content: {}'.format(os.listdir()))"
      ],
      "execution_count": 26,
      "outputs": [
        {
          "output_type": "stream",
          "text": [
            "Root dir content: ['.config', 'base_model_.h5', 'base_model.h5', 'Patches', 'history_dict.json', 'adc.json', 'sample_data']\n"
          ],
          "name": "stdout"
        }
      ]
    },
    {
      "cell_type": "markdown",
      "metadata": {
        "id": "nd7htfD3rJ6V",
        "colab_type": "text"
      },
      "source": [
        "### **Let's count patches by type and location:**"
      ]
    },
    {
      "cell_type": "code",
      "metadata": {
        "id": "DjJy7FFsvm5H",
        "colab_type": "code",
        "outputId": "449219cc-1399-4cd1-e8b7-8ce449310181",
        "colab": {
          "base_uri": "https://localhost:8080/",
          "height": 612
        }
      },
      "source": [
        "class_weights = {} # empty dictionary to store class weights\n",
        "classes = ['C1','C2-3','C4-7','C5','C6','C8','C9','C10']\n",
        "\n",
        "grand_total, pos_total, neg_total = 0, 0, 0\n",
        "for type in ['Serial', 'Control', 'Streak']:\n",
        "    print(\"\\nTotal '{}' Patches per location:\".format(type))\n",
        "    n_type, type_pos, type_neg = 0, 0, 0\n",
        "    class_weights[type] = {} # nested empty dictionary to store class weights\n",
        "    class_weights[type]['pos'] = {} # nested dictionary to store class weights\n",
        "    class_weights[type]['neg'] = {} # nested dictionary to store class weights\n",
        "    for cls in classes:\n",
        "        pos_folder = './Patches/Positive/{}/{}_pos'.format(type,cls)\n",
        "        neg_folder = './Patches/Negative/{}/{}_neg'.format(type,cls)\n",
        "        n_pos = len(os.listdir(pos_folder))\n",
        "        n_neg = len(os.listdir(neg_folder))\n",
        "        total = n_pos + n_neg\n",
        "        n_type += total\n",
        "        type_pos += n_pos\n",
        "        type_neg += n_neg\n",
        "        print('total_{}: {} = {} positive + {} negative'.format(cls,total,n_pos,n_neg))\n",
        "        class_weights[type]['pos']['{}'.format(cls)] = 1/n_pos if n_pos else 0\n",
        "        class_weights[type]['neg']['{}'.format(cls)] = 1/n_neg if n_neg else 0\n",
        "    print('Total {}: {} = {} positive + {} negative'.format(type,n_type,type_pos,type_neg))\n",
        "    for loc in class_weights[type]['pos'].keys():\n",
        "        class_weights[type]['pos'][loc] *= type_pos\n",
        "    for loc in class_weights[type]['neg'].keys():\n",
        "        class_weights[type]['neg'][loc] *= type_neg\n",
        "    grand_total += n_type\n",
        "    pos_total += type_pos\n",
        "    neg_total += type_neg\n",
        "print('\\nGRAND TOTAL: {} = {} positive + {} negative'.format(grand_total,pos_total,neg_total))"
      ],
      "execution_count": 27,
      "outputs": [
        {
          "output_type": "stream",
          "text": [
            "\n",
            "Total 'Serial' Patches per location:\n",
            "total_C1: 2230 = 2230 positive + 0 negative\n",
            "total_C2-3: 4227 = 4227 positive + 0 negative\n",
            "total_C4-7: 9162 = 9162 positive + 0 negative\n",
            "total_C5: 4539 = 4539 positive + 0 negative\n",
            "total_C6: 2512 = 2512 positive + 0 negative\n",
            "total_C8: 3338 = 3338 positive + 0 negative\n",
            "total_C9: 1544 = 1544 positive + 0 negative\n",
            "total_C10: 5882 = 5882 positive + 0 negative\n",
            "Total Serial: 33434 = 33434 positive + 0 negative\n",
            "\n",
            "Total 'Control' Patches per location:\n",
            "total_C1: 373 = 373 positive + 0 negative\n",
            "total_C2-3: 373 = 373 positive + 0 negative\n",
            "total_C4-7: 373 = 373 positive + 0 negative\n",
            "total_C5: 373 = 373 positive + 0 negative\n",
            "total_C6: 373 = 373 positive + 0 negative\n",
            "total_C8: 373 = 373 positive + 0 negative\n",
            "total_C9: 373 = 373 positive + 0 negative\n",
            "total_C10: 373 = 373 positive + 0 negative\n",
            "Total Control: 2984 = 2984 positive + 0 negative\n",
            "\n",
            "Total 'Streak' Patches per location:\n",
            "total_C1: 0 = 0 positive + 0 negative\n",
            "total_C2-3: 0 = 0 positive + 0 negative\n",
            "total_C4-7: 0 = 0 positive + 0 negative\n",
            "total_C5: 0 = 0 positive + 0 negative\n",
            "total_C6: 0 = 0 positive + 0 negative\n",
            "total_C8: 0 = 0 positive + 0 negative\n",
            "total_C9: 0 = 0 positive + 0 negative\n",
            "total_C10: 0 = 0 positive + 0 negative\n",
            "Total Streak: 0 = 0 positive + 0 negative\n",
            "\n",
            "GRAND TOTAL: 36418 = 36418 positive + 0 negative\n"
          ],
          "name": "stdout"
        }
      ]
    },
    {
      "cell_type": "markdown",
      "metadata": {
        "id": "_pnI1G0ywLOp",
        "colab_type": "text"
      },
      "source": [
        "#### **Since we have imbalanced training data, we have set different class weights to give more importance to the minority classes:**"
      ]
    },
    {
      "cell_type": "code",
      "metadata": {
        "id": "zCcbwQX7mKQq",
        "colab_type": "code",
        "outputId": "a4ddd282-10f9-46b5-fe17-48038b4c8cbd",
        "colab": {
          "base_uri": "https://localhost:8080/",
          "height": 391
        }
      },
      "source": [
        "print('Class Weights:', str(json.dumps(class_weights['Serial'], indent=2, default=str)))"
      ],
      "execution_count": 28,
      "outputs": [
        {
          "output_type": "stream",
          "text": [
            "Class Weights: {\n",
            "  \"pos\": {\n",
            "    \"C1\": 14.992825112107623,\n",
            "    \"C2-3\": 7.90962857818784,\n",
            "    \"C4-7\": 3.649203230735647,\n",
            "    \"C5\": 7.365939634280679,\n",
            "    \"C6\": 13.309713375796179,\n",
            "    \"C8\": 10.01617735170761,\n",
            "    \"C9\": 21.65414507772021,\n",
            "    \"C10\": 5.684121047262836\n",
            "  },\n",
            "  \"neg\": {\n",
            "    \"C1\": 0,\n",
            "    \"C2-3\": 0,\n",
            "    \"C4-7\": 0,\n",
            "    \"C5\": 0,\n",
            "    \"C6\": 0,\n",
            "    \"C8\": 0,\n",
            "    \"C9\": 0,\n",
            "    \"C10\": 0\n",
            "  }\n",
            "}\n"
          ],
          "name": "stdout"
        }
      ]
    },
    {
      "cell_type": "markdown",
      "metadata": {
        "id": "GNJ7lSKQpdOT",
        "colab_type": "text"
      },
      "source": [
        "#### **Let's build image generators, using keras.preprocessing.image.ImageDataGenerator, rescaling image pixel values from [0,  255] to [0, 1]:**"
      ]
    },
    {
      "cell_type": "code",
      "metadata": {
        "id": "UANfdA6IUFKt",
        "colab_type": "code",
        "outputId": "db44adb8-540f-4274-99a5-f922ae2301f1",
        "colab": {
          "base_uri": "https://localhost:8080/",
          "height": 102
        }
      },
      "source": [
        "#warnings.filterwarnings(\"ignore\")\n",
        "\n",
        "c1_pos_folder = './Patches/Positive/Serial/C1_pos'\n",
        "img = plt.imread(c1_pos_folder + '/' + os.listdir(c1_pos_folder)[:5][0])\n",
        "img_size = img.shape\n",
        "train_batch_size = 32\n",
        "val_batch_size = 64\n",
        "\n",
        "# datagen = ImageDataGenerator(rescale=1./255, horizontal_flip=True,\n",
        "#                              vertical_flip=True)\n",
        "datagen = ImageDataGenerator(rescale=1./255)\n",
        "val_datagen = ImageDataGenerator(rescale=1./255)\n",
        "\n",
        "print(\"For training:\")\n",
        "train_generator = datagen.flow_from_directory(\n",
        "        './Patches/Positive/Serial',\n",
        "        target_size=(img_size[0],img_size[1]),\n",
        "        batch_size=train_batch_size,\n",
        "        class_mode='categorical',\n",
        "        shuffle=True)\n",
        "\n",
        "print(\"\\nFor validation:\")\n",
        "val_generator = val_datagen.flow_from_directory(\n",
        "        './Patches/Positive/Control',\n",
        "        target_size=(img_size[0],img_size[1]),\n",
        "        batch_size=val_batch_size,\n",
        "        class_mode='categorical',\n",
        "        shuffle=False)\n",
        "#warnings.filterwarnings(\"once\")"
      ],
      "execution_count": 29,
      "outputs": [
        {
          "output_type": "stream",
          "text": [
            "For training:\n",
            "Found 33434 images belonging to 8 classes.\n",
            "\n",
            "For validation:\n",
            "Found 2984 images belonging to 8 classes.\n"
          ],
          "name": "stdout"
        }
      ]
    },
    {
      "cell_type": "markdown",
      "metadata": {
        "id": "44ZzUGXvwqUn",
        "colab_type": "text"
      },
      "source": [
        "#### **Let's check what is the training generator's index for each class, so we can correclty set up the class weights:**"
      ]
    },
    {
      "cell_type": "code",
      "metadata": {
        "id": "tSHQNC2awn84",
        "colab_type": "code",
        "outputId": "ed90a40d-8fe9-412d-91a3-4c9f3255d677",
        "colab": {
          "base_uri": "https://localhost:8080/",
          "height": 187
        }
      },
      "source": [
        "print('train_generator.class_indices:', str(json.dumps(train_generator.class_indices, indent=2, default=str)))\n",
        "#print('validation_generator.class_indices:', str(json.dumps(val_generator.class_indices, indent=2, default=str)))"
      ],
      "execution_count": 30,
      "outputs": [
        {
          "output_type": "stream",
          "text": [
            "train_generator.class_indices: {\n",
            "  \"C10_pos\": 0,\n",
            "  \"C1_pos\": 1,\n",
            "  \"C2-3_pos\": 2,\n",
            "  \"C4-7_pos\": 3,\n",
            "  \"C5_pos\": 4,\n",
            "  \"C6_pos\": 5,\n",
            "  \"C8_pos\": 6,\n",
            "  \"C9_pos\": 7\n",
            "}\n"
          ],
          "name": "stdout"
        }
      ]
    },
    {
      "cell_type": "markdown",
      "metadata": {
        "id": "o30MT4e2O7gk",
        "colab_type": "text"
      },
      "source": [
        "#### **Let's set up the class weights in correct order:**"
      ]
    },
    {
      "cell_type": "code",
      "metadata": {
        "id": "U2gsR9n6w2vm",
        "colab_type": "code",
        "outputId": "55152de2-fb8d-4b59-8337-0ef59a215ca9",
        "colab": {
          "base_uri": "https://localhost:8080/",
          "height": 391
        }
      },
      "source": [
        "serial_pos_weights = [class_weights['Serial']['pos']['C10']] # C10 has index 0\n",
        "for cls in classes:\n",
        "    if cls == 'C10': continue\n",
        "    serial_pos_weights.append(class_weights['Serial']['pos']['{}'.format(cls)])\n",
        "print('original class weights dictionary:')\n",
        "print(str(json.dumps(class_weights['Serial']['pos'], indent=2, default=str)))\n",
        "print('class weights for generator, re-arranging indexes:')\n",
        "print(str(json.dumps(serial_pos_weights, indent=2, default=str)))"
      ],
      "execution_count": 31,
      "outputs": [
        {
          "output_type": "stream",
          "text": [
            "original class weights dictionary:\n",
            "{\n",
            "  \"C1\": 14.992825112107623,\n",
            "  \"C2-3\": 7.90962857818784,\n",
            "  \"C4-7\": 3.649203230735647,\n",
            "  \"C5\": 7.365939634280679,\n",
            "  \"C6\": 13.309713375796179,\n",
            "  \"C8\": 10.01617735170761,\n",
            "  \"C9\": 21.65414507772021,\n",
            "  \"C10\": 5.684121047262836\n",
            "}\n",
            "class weights for generator, re-arranging indexes:\n",
            "[\n",
            "  5.684121047262836,\n",
            "  14.992825112107623,\n",
            "  7.90962857818784,\n",
            "  3.649203230735647,\n",
            "  7.365939634280679,\n",
            "  13.309713375796179,\n",
            "  10.01617735170761,\n",
            "  21.65414507772021\n",
            "]\n"
          ],
          "name": "stdout"
        }
      ]
    },
    {
      "cell_type": "markdown",
      "metadata": {
        "id": "gdXBPBsVxA39",
        "colab_type": "text"
      },
      "source": [
        "## **Let's build our Base Model. We will use Resnet:**"
      ]
    },
    {
      "cell_type": "markdown",
      "metadata": {
        "id": "AjNmNKdHw4tM",
        "colab_type": "text"
      },
      "source": [
        "#### **First. let's create a function to build a residual block.**\n",
        "\n",
        "#### We will use the residual block proposed in  [ResNetV2](https://arxiv.org/pdf/1603.05027.pdf) and will implement it by ourselves:\n",
        "\n",
        "\n",
        ">![Google's logo](https://camo.githubusercontent.com/7ae470c333cd76078e1c669055ad98bcedaf523f/68747470733a2f2f71696974612d696d6167652d73746f72652e73332e616d617a6f6e6177732e636f6d2f302f3130303532332f61313536613563322d303236622d646535352d613666622d6534666131373732623432632e706e67)"
      ]
    },
    {
      "cell_type": "code",
      "metadata": {
        "id": "e-DqZH20w3ji",
        "colab_type": "code",
        "colab": {}
      },
      "source": [
        "def res_block(X, filters, kernel_size=(3,3), l2_reg=1e-6, residual=True,\n",
        "              first=False, subsampling=False):\n",
        "    \"\"\"\n",
        "    Function to build a residual block as proposed in ResNetV2:\n",
        "             https://arxiv.org/pdf/1603.05027.pdf:\n",
        "    :param X: The input to the residual block\n",
        "    :param filters: Integer. Number of filters / channels in the output\n",
        "    :param kernel_size: Tuple (Int, Int). kernel size for convolution operations\n",
        "    :param l2_reg: Float. L2 norm for L2 regularization\n",
        "    :param residual: Boolean. True if residual block. Otherwise 'plain' block.\n",
        "    :param first: Boolean. True if first residual block -> ZeroPad and Maxpool.\n",
        "    :param subsampling: Boolean. True if subsampling within the residual block.\n",
        "    :return: the addition output from the residual block proposed in ResNetV2:\n",
        "              https://arxiv.org/pdf/1603.05027.pdf\n",
        "    \"\"\"\n",
        "    bn = BatchNormalization()(X)\n",
        "    relu = Activation(\"relu\")(bn)\n",
        "    \n",
        "    if first: #The first layer is subsampled with Maxpool\n",
        "      pad = ZeroPadding2D(padding=(1, 1))(relu)\n",
        "      relu = MaxPooling2D(pool_size=(3, 3), strides=(2,2))(pad)    \n",
        "    \n",
        "    if subsampling: #Resnet reduces size just by using stride=2 instead of pool\n",
        "      #Here we will reduce the size (subsample) by using stride 2 \n",
        "      conv_1 = Conv2D(filters, kernel_size, strides=(2,2), padding='same',\n",
        "                         kernel_regularizer=regularizers.l2(l2_reg),\n",
        "                         kernel_initializer = glorot_uniform(0),\n",
        "                         bias_initializer = glorot_uniform(0))(relu)\n",
        "      if residual:\n",
        "        #To be able to add, we also need to reduce size of input\n",
        "        #For this, we will just use a 1x1 Conv2D with stride 2  \n",
        "        res = Conv2D(filters, kernel_size=[1,1], strides=(2,2),\n",
        "                     padding='same')(X)\n",
        "    else: #No subsampling, same size as input\n",
        "      conv_1 = Conv2D(filters, kernel_size, strides=(1,1), padding='same',\n",
        "                   kernel_regularizer=regularizers.l2(l2_reg),\n",
        "                   kernel_initializer = glorot_uniform(0),\n",
        "                   bias_initializer = glorot_uniform(0))(relu)\n",
        "      if residual:\n",
        "        if first: #The first layer is subsampled with Maxpool so, resize X\n",
        "          #For this, we will just use a 1x1 Conv2D with stride 2\n",
        "          res = Conv2D(filters, kernel_size=[1,1], strides=(2,2),\n",
        "                     padding='same')(X)\n",
        "        else:\n",
        "          res = X\n",
        "    bn = BatchNormalization()(conv_1)\n",
        "    relu = Activation(\"relu\")(bn)\n",
        "\n",
        "    conv_2 = Conv2D(filters, kernel_size, padding='same',\n",
        "                       kernel_regularizer=regularizers.l2(l2_reg),\n",
        "                       kernel_initializer = glorot_uniform(0),\n",
        "                       bias_initializer = glorot_uniform(0))(relu)\n",
        "    if residual:\n",
        "      add = keras.layers.add([res, conv_2])\n",
        "      return add\n",
        "    else:\n",
        "      return conv_2"
      ],
      "execution_count": 0,
      "outputs": []
    },
    {
      "cell_type": "markdown",
      "metadata": {
        "id": "0K3-02NNUXOV",
        "colab_type": "text"
      },
      "source": [
        "#### **Second, let's create a function to build a Resnet network:**"
      ]
    },
    {
      "cell_type": "code",
      "metadata": {
        "id": "32s7rai-609p",
        "colab_type": "code",
        "colab": {}
      },
      "source": [
        "#from keras.layers import AveragePooling2D, GlobalAveragePooling2D\n",
        "\n",
        "def make_resnet(img_size, n_classes, layers_per_group, n_filters, \n",
        "                    kernel_sizes, l2_reg=1e-6, optimizer=keras.optimizers.SGD,\n",
        "                    lr=1e-1, decay=1e-4, momentum=0.9, residual=True):\n",
        "  \n",
        "    \"\"\"\n",
        "    Function to build ResNet network, but with some user defined parameters.\n",
        "        \n",
        "        ResNet network input size is (224,224,3) then it starts with one \n",
        "        convolution layer, (7x7x64, stride 2) followed by maxpool (3x3, stride2) \n",
        "        then it will build 4 layer groups and the user will define the number of\n",
        "        residual layers per group.\n",
        "        \n",
        "        As example, ResNet34, after the first convolution layer, it has 4 groups\n",
        "        of layers with the following number of residual 'layers_per_group':\n",
        "        [6,8,12,6]\n",
        "        Because the residual connections are made between pair of layers, the\n",
        "        number of layers for each group must be a pair number.\n",
        "        \n",
        "        The user will also be able to define the number of filters and size of\n",
        "        each filter, independently for each group of layers. All layers in the\n",
        "        same group group will have the same number of filters and each filter\n",
        "        within the group will have the same size.\n",
        "        \n",
        "        Same as ResNet, an average pooling layer follows after the 4 groups\n",
        "        of layers.\n",
        "    \n",
        "    :param img_size: Size of input image, in the form: (size, size, #channels)\n",
        "    :param n_classes: Integer. Number of classes for classification.\n",
        "    :param layers_per_group: List with # of layers per group (e.g.[6,8,12,6])\n",
        "    :param n_filters: List of length 4, with number of filters for each group of\n",
        "                      layers.\n",
        "    :param kernel_sizes: List of length 4, with kernel sizes tuples for each \n",
        "                          group of layers\n",
        "    :param l2_reg: Float. L2 norm for L2 regularization\n",
        "    :param optimizer: A keras optimizer from keras.optimizers\n",
        "    :param lr: Float. learning rate for the optimizer.\n",
        "    :param decay: Float. learning rate decay for the optimizer.\n",
        "    :param momentum: Float. Momentum for SGD if optimizer=keras.optimizers.SGD\n",
        "    :param residual: Boolean. True if residual net. Otherwise 'plain' net.\n",
        "    :return: CNN with residual connections, similar to ResNet32\n",
        "    \"\"\"\n",
        "    \n",
        "    if len(layers_per_block) != len(n_filters) or len(layers_per_block) !=\\\n",
        "        len(kernel_sizes) or len(n_filters) != len(n_filters):\n",
        "        e = \"Length of 'layers_per_block', 'n_filters' and 'kernel_sizes'\" +\\\n",
        "        \" must be the same\"\n",
        "        raise Exception(e)  \n",
        "\n",
        "    for layers in layers_per_block:\n",
        "      if layers % 2 == 1:\n",
        "        e = \"Number of 'layers_per_block' must be even/pair numbers\"\n",
        "        raise Exception(e)\n",
        "      \n",
        "    inputs = Input(shape=img_size)\n",
        "    \n",
        "    n_filters_conv1 = 64\n",
        "    #kernel_sizes_conv1 = (5,5)\n",
        "    kernel_sizes_conv1 = (3,3)\n",
        "    #kernel_sizes_conv1 = (7,7)\n",
        "    strides_conv1 = (2,2)\n",
        "    \n",
        "    conv1 = Conv2D(n_filters_conv1, kernel_sizes_conv1, strides=strides_conv1,\n",
        "                   padding='same', kernel_regularizer=regularizers.l2(l2_reg),\n",
        "                   kernel_initializer = glorot_uniform(0),\n",
        "                   bias_initializer = glorot_uniform(0))(inputs)\n",
        "    \n",
        "    layer_count = 1 # counter for the number of layers\n",
        "    \n",
        "   \n",
        "    for i in range(len(layers_per_block)):\n",
        "      for j in range(int(layers_per_block[i]/2)):\n",
        "        if j == 0:\n",
        "          if i == 0:\n",
        "            add = res_block(conv1, n_filters[i], kernel_sizes[i], l2_reg,\n",
        "                            residual, first=True)\n",
        "            #add = res_block(conv0_1, n_filters[i], kernel_sizes[i], l2_reg,\n",
        "            #                residual, subsampling=True)\n",
        "          else:\n",
        "            add = res_block(add, n_filters[i], kernel_sizes[i], l2_reg,\n",
        "                            residual, subsampling=True)\n",
        "        else:\n",
        "          add = res_block(add, n_filters[i], kernel_sizes[i], l2_reg,\n",
        "                          residual)\n",
        "          \n",
        "    bn = BatchNormalization()(add)\n",
        "    relu = Activation(\"relu\")(bn)\n",
        "\n",
        "    #pool = AveragePooling2D(pool_size=(2 ,2), padding='same')(relu)\n",
        "    #flat = Flatten()(pool)\n",
        "    flat = GlobalAveragePooling2D()(relu)\n",
        "\n",
        "    out = Dense(n_classes, activation='softmax',\n",
        "                      kernel_regularizer=regularizers.l2(l2_reg),\n",
        "                      kernel_initializer=glorot_uniform(0),\n",
        "                      bias_initializer=glorot_uniform(0))(flat)\n",
        "\n",
        "    res_cnn = Model(inputs=inputs, outputs=out)\n",
        "\n",
        "    if optimizer == keras.optimizers.Nadam:\n",
        "        res_cnn.compile(optimizer(lr=lr, schedule_decay=decay),\n",
        "                    \"categorical_crossentropy\", metrics=['accuracy'])\n",
        "    elif optimizer == keras.optimizers.SGD:\n",
        "        res_cnn.compile(optimizer(lr=lr, momentum=momentum, decay=decay),\n",
        "                        \"categorical_crossentropy\", metrics=['accuracy'])\n",
        "    else:\n",
        "        res_cnn.compile(optimizer(lr=lr, decay=decay),\n",
        "                        \"categorical_crossentropy\", metrics=['accuracy'])\n",
        "    return res_cnn"
      ],
      "execution_count": 0,
      "outputs": []
    },
    {
      "cell_type": "markdown",
      "metadata": {
        "id": "m21vIzndbOIZ",
        "colab_type": "text"
      },
      "source": [
        "### **Let's build a ResNet18:**"
      ]
    },
    {
      "cell_type": "code",
      "metadata": {
        "id": "rLvSCOTsAuKF",
        "colab_type": "code",
        "outputId": "7195ee7c-db76-4705-bccd-3859a756d875",
        "colab": {
          "base_uri": "https://localhost:8080/",
          "height": 1000
        }
      },
      "source": [
        "classes = list(iter(train_generator.class_indices))\n",
        "n_classes = len(classes)\n",
        "layers_per_block = [4, 4, 4, 4] #18 layers total with first conv and last FC\n",
        "n_filters = [64, 128, 256, 512]\n",
        "kernel_sizes = [(3,3), (3,3), (3,3), (3,3)]\n",
        "l2_reg = 1e-5\n",
        "optimizer = RMSprop # Adamax, RMSprop, Adam (No: Nadam, SGD)\n",
        "lr = 1e-3\n",
        "decay = 0.01\n",
        "momentum = 0.9\n",
        "\n",
        "res_cnn = make_resnet(img_size, n_classes, layers_per_block, n_filters,\n",
        "                       kernel_sizes, l2_reg, optimizer, lr, decay, momentum)\n",
        "res_cnn.summary()"
      ],
      "execution_count": 34,
      "outputs": [
        {
          "output_type": "stream",
          "text": [
            "Model: \"model_2\"\n",
            "__________________________________________________________________________________________________\n",
            "Layer (type)                    Output Shape         Param #     Connected to                     \n",
            "==================================================================================================\n",
            "input_2 (InputLayer)            (None, 128, 128, 3)  0                                            \n",
            "__________________________________________________________________________________________________\n",
            "conv2d_22 (Conv2D)              (None, 64, 64, 64)   1792        input_2[0][0]                    \n",
            "__________________________________________________________________________________________________\n",
            "batch_normalization_18 (BatchNo (None, 64, 64, 64)   256         conv2d_22[0][0]                  \n",
            "__________________________________________________________________________________________________\n",
            "activation_18 (Activation)      (None, 64, 64, 64)   0           batch_normalization_18[0][0]     \n",
            "__________________________________________________________________________________________________\n",
            "zero_padding2d_2 (ZeroPadding2D (None, 66, 66, 64)   0           activation_18[0][0]              \n",
            "__________________________________________________________________________________________________\n",
            "max_pooling2d_2 (MaxPooling2D)  (None, 32, 32, 64)   0           zero_padding2d_2[0][0]           \n",
            "__________________________________________________________________________________________________\n",
            "conv2d_23 (Conv2D)              (None, 32, 32, 64)   36928       max_pooling2d_2[0][0]            \n",
            "__________________________________________________________________________________________________\n",
            "batch_normalization_19 (BatchNo (None, 32, 32, 64)   256         conv2d_23[0][0]                  \n",
            "__________________________________________________________________________________________________\n",
            "activation_19 (Activation)      (None, 32, 32, 64)   0           batch_normalization_19[0][0]     \n",
            "__________________________________________________________________________________________________\n",
            "conv2d_24 (Conv2D)              (None, 32, 32, 64)   4160        conv2d_22[0][0]                  \n",
            "__________________________________________________________________________________________________\n",
            "conv2d_25 (Conv2D)              (None, 32, 32, 64)   36928       activation_19[0][0]              \n",
            "__________________________________________________________________________________________________\n",
            "add_9 (Add)                     (None, 32, 32, 64)   0           conv2d_24[0][0]                  \n",
            "                                                                 conv2d_25[0][0]                  \n",
            "__________________________________________________________________________________________________\n",
            "batch_normalization_20 (BatchNo (None, 32, 32, 64)   256         add_9[0][0]                      \n",
            "__________________________________________________________________________________________________\n",
            "activation_20 (Activation)      (None, 32, 32, 64)   0           batch_normalization_20[0][0]     \n",
            "__________________________________________________________________________________________________\n",
            "conv2d_26 (Conv2D)              (None, 32, 32, 64)   36928       activation_20[0][0]              \n",
            "__________________________________________________________________________________________________\n",
            "batch_normalization_21 (BatchNo (None, 32, 32, 64)   256         conv2d_26[0][0]                  \n",
            "__________________________________________________________________________________________________\n",
            "activation_21 (Activation)      (None, 32, 32, 64)   0           batch_normalization_21[0][0]     \n",
            "__________________________________________________________________________________________________\n",
            "conv2d_27 (Conv2D)              (None, 32, 32, 64)   36928       activation_21[0][0]              \n",
            "__________________________________________________________________________________________________\n",
            "add_10 (Add)                    (None, 32, 32, 64)   0           add_9[0][0]                      \n",
            "                                                                 conv2d_27[0][0]                  \n",
            "__________________________________________________________________________________________________\n",
            "batch_normalization_22 (BatchNo (None, 32, 32, 64)   256         add_10[0][0]                     \n",
            "__________________________________________________________________________________________________\n",
            "activation_22 (Activation)      (None, 32, 32, 64)   0           batch_normalization_22[0][0]     \n",
            "__________________________________________________________________________________________________\n",
            "conv2d_28 (Conv2D)              (None, 16, 16, 128)  73856       activation_22[0][0]              \n",
            "__________________________________________________________________________________________________\n",
            "batch_normalization_23 (BatchNo (None, 16, 16, 128)  512         conv2d_28[0][0]                  \n",
            "__________________________________________________________________________________________________\n",
            "activation_23 (Activation)      (None, 16, 16, 128)  0           batch_normalization_23[0][0]     \n",
            "__________________________________________________________________________________________________\n",
            "conv2d_29 (Conv2D)              (None, 16, 16, 128)  8320        add_10[0][0]                     \n",
            "__________________________________________________________________________________________________\n",
            "conv2d_30 (Conv2D)              (None, 16, 16, 128)  147584      activation_23[0][0]              \n",
            "__________________________________________________________________________________________________\n",
            "add_11 (Add)                    (None, 16, 16, 128)  0           conv2d_29[0][0]                  \n",
            "                                                                 conv2d_30[0][0]                  \n",
            "__________________________________________________________________________________________________\n",
            "batch_normalization_24 (BatchNo (None, 16, 16, 128)  512         add_11[0][0]                     \n",
            "__________________________________________________________________________________________________\n",
            "activation_24 (Activation)      (None, 16, 16, 128)  0           batch_normalization_24[0][0]     \n",
            "__________________________________________________________________________________________________\n",
            "conv2d_31 (Conv2D)              (None, 16, 16, 128)  147584      activation_24[0][0]              \n",
            "__________________________________________________________________________________________________\n",
            "batch_normalization_25 (BatchNo (None, 16, 16, 128)  512         conv2d_31[0][0]                  \n",
            "__________________________________________________________________________________________________\n",
            "activation_25 (Activation)      (None, 16, 16, 128)  0           batch_normalization_25[0][0]     \n",
            "__________________________________________________________________________________________________\n",
            "conv2d_32 (Conv2D)              (None, 16, 16, 128)  147584      activation_25[0][0]              \n",
            "__________________________________________________________________________________________________\n",
            "add_12 (Add)                    (None, 16, 16, 128)  0           add_11[0][0]                     \n",
            "                                                                 conv2d_32[0][0]                  \n",
            "__________________________________________________________________________________________________\n",
            "batch_normalization_26 (BatchNo (None, 16, 16, 128)  512         add_12[0][0]                     \n",
            "__________________________________________________________________________________________________\n",
            "activation_26 (Activation)      (None, 16, 16, 128)  0           batch_normalization_26[0][0]     \n",
            "__________________________________________________________________________________________________\n",
            "conv2d_33 (Conv2D)              (None, 8, 8, 256)    295168      activation_26[0][0]              \n",
            "__________________________________________________________________________________________________\n",
            "batch_normalization_27 (BatchNo (None, 8, 8, 256)    1024        conv2d_33[0][0]                  \n",
            "__________________________________________________________________________________________________\n",
            "activation_27 (Activation)      (None, 8, 8, 256)    0           batch_normalization_27[0][0]     \n",
            "__________________________________________________________________________________________________\n",
            "conv2d_34 (Conv2D)              (None, 8, 8, 256)    33024       add_12[0][0]                     \n",
            "__________________________________________________________________________________________________\n",
            "conv2d_35 (Conv2D)              (None, 8, 8, 256)    590080      activation_27[0][0]              \n",
            "__________________________________________________________________________________________________\n",
            "add_13 (Add)                    (None, 8, 8, 256)    0           conv2d_34[0][0]                  \n",
            "                                                                 conv2d_35[0][0]                  \n",
            "__________________________________________________________________________________________________\n",
            "batch_normalization_28 (BatchNo (None, 8, 8, 256)    1024        add_13[0][0]                     \n",
            "__________________________________________________________________________________________________\n",
            "activation_28 (Activation)      (None, 8, 8, 256)    0           batch_normalization_28[0][0]     \n",
            "__________________________________________________________________________________________________\n",
            "conv2d_36 (Conv2D)              (None, 8, 8, 256)    590080      activation_28[0][0]              \n",
            "__________________________________________________________________________________________________\n",
            "batch_normalization_29 (BatchNo (None, 8, 8, 256)    1024        conv2d_36[0][0]                  \n",
            "__________________________________________________________________________________________________\n",
            "activation_29 (Activation)      (None, 8, 8, 256)    0           batch_normalization_29[0][0]     \n",
            "__________________________________________________________________________________________________\n",
            "conv2d_37 (Conv2D)              (None, 8, 8, 256)    590080      activation_29[0][0]              \n",
            "__________________________________________________________________________________________________\n",
            "add_14 (Add)                    (None, 8, 8, 256)    0           add_13[0][0]                     \n",
            "                                                                 conv2d_37[0][0]                  \n",
            "__________________________________________________________________________________________________\n",
            "batch_normalization_30 (BatchNo (None, 8, 8, 256)    1024        add_14[0][0]                     \n",
            "__________________________________________________________________________________________________\n",
            "activation_30 (Activation)      (None, 8, 8, 256)    0           batch_normalization_30[0][0]     \n",
            "__________________________________________________________________________________________________\n",
            "conv2d_38 (Conv2D)              (None, 4, 4, 512)    1180160     activation_30[0][0]              \n",
            "__________________________________________________________________________________________________\n",
            "batch_normalization_31 (BatchNo (None, 4, 4, 512)    2048        conv2d_38[0][0]                  \n",
            "__________________________________________________________________________________________________\n",
            "activation_31 (Activation)      (None, 4, 4, 512)    0           batch_normalization_31[0][0]     \n",
            "__________________________________________________________________________________________________\n",
            "conv2d_39 (Conv2D)              (None, 4, 4, 512)    131584      add_14[0][0]                     \n",
            "__________________________________________________________________________________________________\n",
            "conv2d_40 (Conv2D)              (None, 4, 4, 512)    2359808     activation_31[0][0]              \n",
            "__________________________________________________________________________________________________\n",
            "add_15 (Add)                    (None, 4, 4, 512)    0           conv2d_39[0][0]                  \n",
            "                                                                 conv2d_40[0][0]                  \n",
            "__________________________________________________________________________________________________\n",
            "batch_normalization_32 (BatchNo (None, 4, 4, 512)    2048        add_15[0][0]                     \n",
            "__________________________________________________________________________________________________\n",
            "activation_32 (Activation)      (None, 4, 4, 512)    0           batch_normalization_32[0][0]     \n",
            "__________________________________________________________________________________________________\n",
            "conv2d_41 (Conv2D)              (None, 4, 4, 512)    2359808     activation_32[0][0]              \n",
            "__________________________________________________________________________________________________\n",
            "batch_normalization_33 (BatchNo (None, 4, 4, 512)    2048        conv2d_41[0][0]                  \n",
            "__________________________________________________________________________________________________\n",
            "activation_33 (Activation)      (None, 4, 4, 512)    0           batch_normalization_33[0][0]     \n",
            "__________________________________________________________________________________________________\n",
            "conv2d_42 (Conv2D)              (None, 4, 4, 512)    2359808     activation_33[0][0]              \n",
            "__________________________________________________________________________________________________\n",
            "add_16 (Add)                    (None, 4, 4, 512)    0           add_15[0][0]                     \n",
            "                                                                 conv2d_42[0][0]                  \n",
            "__________________________________________________________________________________________________\n",
            "batch_normalization_34 (BatchNo (None, 4, 4, 512)    2048        add_16[0][0]                     \n",
            "__________________________________________________________________________________________________\n",
            "activation_34 (Activation)      (None, 4, 4, 512)    0           batch_normalization_34[0][0]     \n",
            "__________________________________________________________________________________________________\n",
            "global_average_pooling2d_2 (Glo (None, 512)          0           activation_34[0][0]              \n",
            "__________________________________________________________________________________________________\n",
            "dense_2 (Dense)                 (None, 8)            4104        global_average_pooling2d_2[0][0] \n",
            "==================================================================================================\n",
            "Total params: 11,187,912\n",
            "Trainable params: 11,180,104\n",
            "Non-trainable params: 7,808\n",
            "__________________________________________________________________________________________________\n"
          ],
          "name": "stdout"
        }
      ]
    },
    {
      "cell_type": "markdown",
      "metadata": {
        "id": "JUL3HGj4dyft",
        "colab_type": "text"
      },
      "source": [
        "### **Let's train and validate our Base Model:**"
      ]
    },
    {
      "cell_type": "code",
      "metadata": {
        "id": "cphDumA0nUjo",
        "colab_type": "code",
        "outputId": "244f42ae-dd43-4d4f-c726-64e315aee5be",
        "colab": {
          "base_uri": "https://localhost:8080/",
          "height": 1000
        }
      },
      "source": [
        "## Balanced Control Validation\n",
        "## Rot 0, 120, 240\n",
        "\n",
        "## ReduceLROnPlateau(monitor='val_loss'... )\n",
        "\n",
        "## Grouping C3 into C2 AND C7 into C4, no dish border\n",
        "## l2_reg = 1e-5 stride_60, \n",
        "## 128x128, min_pos_pix_1250, mivalpos_1024\n",
        "## train_batch_32, opt_RMSprop, Kernel_3x3:\n",
        "\n",
        "epochs = 50 #100\n",
        "\n",
        "train_steps = train_generator.n//train_generator.batch_size\n",
        "val_steps = val_generator.n//val_generator.batch_size\n",
        "\n",
        "# Callbacks:\n",
        "reduce_lr = ReduceLROnPlateau(monitor='val_loss', factor=0.85, patience=5, \n",
        "                                   verbose=1, mode='min', min_lr=1e-9)\n",
        "EarlyStop = EarlyStopping(monitor='val_acc', patience=35, verbose=1,\n",
        "                          min_delta=0, mode='max')\n",
        "checkpoint = ModelCheckpoint('base_model.h5', monitor='val_acc', verbose=1, \n",
        "                             save_best_only=True, mode='max')\n",
        "\n",
        "callbacks_list = [reduce_lr, checkpoint, EarlyStop] #order matters!\n",
        "\n",
        "#res_cnn.load_weights('base_model.h5')\n",
        "\n",
        "history = res_cnn.fit_generator(train_generator, steps_per_epoch=train_steps,\n",
        "                            validation_data=val_generator,\n",
        "                            validation_steps=val_steps, epochs=epochs,\n",
        "                            verbose=1, callbacks=callbacks_list, shuffle=False,\n",
        "                            class_weight=serial_pos_weights)"
      ],
      "execution_count": 35,
      "outputs": [
        {
          "output_type": "stream",
          "text": [
            "Epoch 1/50\n",
            "1044/1044 [==============================] - 53s 51ms/step - loss: 0.7599 - acc: 0.6881 - val_loss: 1.7191 - val_acc: 0.4834\n",
            "\n",
            "Epoch 00001: val_acc improved from -inf to 0.48336, saving model to base_model.h5\n",
            "Epoch 2/50\n",
            "1044/1044 [==============================] - 49s 47ms/step - loss: 0.4276 - acc: 0.8176 - val_loss: 1.2538 - val_acc: 0.6010\n",
            "\n",
            "Epoch 00002: val_acc improved from 0.48336 to 0.60103, saving model to base_model.h5\n",
            "Epoch 3/50\n",
            "1044/1044 [==============================] - 49s 47ms/step - loss: 0.3586 - acc: 0.8461 - val_loss: 1.2442 - val_acc: 0.6503\n",
            "\n",
            "Epoch 00003: val_acc improved from 0.60103 to 0.65034, saving model to base_model.h5\n",
            "Epoch 4/50\n",
            "1044/1044 [==============================] - 49s 46ms/step - loss: 0.3286 - acc: 0.8621 - val_loss: 0.7791 - val_acc: 0.7534\n",
            "\n",
            "Epoch 00004: val_acc improved from 0.65034 to 0.75342, saving model to base_model.h5\n",
            "Epoch 5/50\n",
            "1044/1044 [==============================] - 49s 47ms/step - loss: 0.3113 - acc: 0.8697 - val_loss: 0.8581 - val_acc: 0.7428\n",
            "\n",
            "Epoch 00005: val_acc did not improve from 0.75342\n",
            "Epoch 6/50\n",
            "1044/1044 [==============================] - 49s 47ms/step - loss: 0.2936 - acc: 0.8778 - val_loss: 1.2886 - val_acc: 0.6664\n",
            "\n",
            "Epoch 00006: val_acc did not improve from 0.75342\n",
            "Epoch 7/50\n",
            "1044/1044 [==============================] - 49s 47ms/step - loss: 0.2792 - acc: 0.8839 - val_loss: 0.9414 - val_acc: 0.7377\n",
            "\n",
            "Epoch 00007: val_acc did not improve from 0.75342\n",
            "Epoch 8/50\n",
            "1044/1044 [==============================] - 48s 46ms/step - loss: 0.2706 - acc: 0.8882 - val_loss: 1.0528 - val_acc: 0.7408\n",
            "\n",
            "Epoch 00008: val_acc did not improve from 0.75342\n",
            "Epoch 9/50\n",
            "1044/1044 [==============================] - 48s 46ms/step - loss: 0.2597 - acc: 0.8951 - val_loss: 0.6957 - val_acc: 0.7849\n",
            "\n",
            "Epoch 00009: val_acc improved from 0.75342 to 0.78493, saving model to base_model.h5\n",
            "Epoch 10/50\n",
            "1044/1044 [==============================] - 48s 46ms/step - loss: 0.2561 - acc: 0.8952 - val_loss: 1.0039 - val_acc: 0.7305\n",
            "\n",
            "Epoch 00010: val_acc did not improve from 0.78493\n",
            "Epoch 11/50\n",
            "1044/1044 [==============================] - 48s 46ms/step - loss: 0.2470 - acc: 0.9011 - val_loss: 0.6572 - val_acc: 0.8031\n",
            "\n",
            "Epoch 00011: val_acc improved from 0.78493 to 0.80308, saving model to base_model.h5\n",
            "Epoch 12/50\n",
            "1044/1044 [==============================] - 48s 46ms/step - loss: 0.2442 - acc: 0.9017 - val_loss: 0.7842 - val_acc: 0.7640\n",
            "\n",
            "Epoch 00012: val_acc did not improve from 0.80308\n",
            "Epoch 13/50\n",
            "1044/1044 [==============================] - 48s 46ms/step - loss: 0.2352 - acc: 0.9068 - val_loss: 0.5983 - val_acc: 0.8106\n",
            "\n",
            "Epoch 00013: val_acc improved from 0.80308 to 0.81062, saving model to base_model.h5\n",
            "Epoch 14/50\n",
            "1044/1044 [==============================] - 48s 46ms/step - loss: 0.2316 - acc: 0.9096 - val_loss: 0.7045 - val_acc: 0.7856\n",
            "\n",
            "Epoch 00014: val_acc did not improve from 0.81062\n",
            "Epoch 15/50\n",
            "1044/1044 [==============================] - 48s 46ms/step - loss: 0.2257 - acc: 0.9111 - val_loss: 0.7394 - val_acc: 0.7726\n",
            "\n",
            "Epoch 00015: val_acc did not improve from 0.81062\n",
            "Epoch 16/50\n",
            "1044/1044 [==============================] - 49s 47ms/step - loss: 0.2224 - acc: 0.9132 - val_loss: 0.5957 - val_acc: 0.8243\n",
            "\n",
            "Epoch 00016: val_acc improved from 0.81062 to 0.82432, saving model to base_model.h5\n",
            "Epoch 17/50\n",
            "1044/1044 [==============================] - 49s 47ms/step - loss: 0.2179 - acc: 0.9150 - val_loss: 0.8134 - val_acc: 0.7517\n",
            "\n",
            "Epoch 00017: val_acc did not improve from 0.82432\n",
            "Epoch 18/50\n",
            "1044/1044 [==============================] - 49s 47ms/step - loss: 0.2157 - acc: 0.9158 - val_loss: 0.6177 - val_acc: 0.8134\n",
            "\n",
            "Epoch 00018: val_acc did not improve from 0.82432\n",
            "Epoch 19/50\n",
            "1044/1044 [==============================] - 48s 46ms/step - loss: 0.2159 - acc: 0.9165 - val_loss: 0.8484 - val_acc: 0.7760\n",
            "\n",
            "Epoch 00019: val_acc did not improve from 0.82432\n",
            "Epoch 20/50\n",
            "1044/1044 [==============================] - 47s 45ms/step - loss: 0.2148 - acc: 0.9173 - val_loss: 0.6492 - val_acc: 0.7983\n",
            "\n",
            "Epoch 00020: val_acc did not improve from 0.82432\n",
            "Epoch 21/50\n",
            "1044/1044 [==============================] - 47s 45ms/step - loss: 0.2099 - acc: 0.9206 - val_loss: 0.6572 - val_acc: 0.8065\n",
            "\n",
            "Epoch 00021: ReduceLROnPlateau reducing learning rate to 0.0008500000403728336.\n",
            "\n",
            "Epoch 00021: val_acc did not improve from 0.82432\n",
            "Epoch 22/50\n",
            "1044/1044 [==============================] - 48s 46ms/step - loss: 0.2047 - acc: 0.9228 - val_loss: 0.5879 - val_acc: 0.8247\n",
            "\n",
            "Epoch 00022: val_acc improved from 0.82432 to 0.82466, saving model to base_model.h5\n",
            "Epoch 23/50\n",
            "1044/1044 [==============================] - 48s 46ms/step - loss: 0.2040 - acc: 0.9225 - val_loss: 0.6229 - val_acc: 0.8188\n",
            "\n",
            "Epoch 00023: val_acc did not improve from 0.82466\n",
            "Epoch 24/50\n",
            "1044/1044 [==============================] - 48s 46ms/step - loss: 0.1997 - acc: 0.9251 - val_loss: 0.6595 - val_acc: 0.8140\n",
            "\n",
            "Epoch 00024: val_acc did not improve from 0.82466\n",
            "Epoch 25/50\n",
            "1044/1044 [==============================] - 48s 46ms/step - loss: 0.2002 - acc: 0.9235 - val_loss: 0.6951 - val_acc: 0.7990\n",
            "\n",
            "Epoch 00025: val_acc did not improve from 0.82466\n",
            "Epoch 26/50\n",
            "1044/1044 [==============================] - 48s 46ms/step - loss: 0.1969 - acc: 0.9272 - val_loss: 0.6517 - val_acc: 0.8127\n",
            "\n",
            "Epoch 00026: val_acc did not improve from 0.82466\n",
            "Epoch 27/50\n",
            "1044/1044 [==============================] - 48s 46ms/step - loss: 0.1978 - acc: 0.9259 - val_loss: 0.7239 - val_acc: 0.7873\n",
            "\n",
            "Epoch 00027: ReduceLROnPlateau reducing learning rate to 0.0007225000590551645.\n",
            "\n",
            "Epoch 00027: val_acc did not improve from 0.82466\n",
            "Epoch 28/50\n",
            "1044/1044 [==============================] - 48s 46ms/step - loss: 0.1944 - acc: 0.9276 - val_loss: 0.7456 - val_acc: 0.7894\n",
            "\n",
            "Epoch 00028: val_acc did not improve from 0.82466\n",
            "Epoch 29/50\n",
            "1044/1044 [==============================] - 48s 46ms/step - loss: 0.1942 - acc: 0.9280 - val_loss: 0.6806 - val_acc: 0.7904\n",
            "\n",
            "Epoch 00029: val_acc did not improve from 0.82466\n",
            "Epoch 30/50\n",
            "1044/1044 [==============================] - 48s 46ms/step - loss: 0.1889 - acc: 0.9308 - val_loss: 0.6413 - val_acc: 0.8079\n",
            "\n",
            "Epoch 00030: val_acc did not improve from 0.82466\n",
            "Epoch 31/50\n",
            "1044/1044 [==============================] - 48s 46ms/step - loss: 0.1884 - acc: 0.9306 - val_loss: 0.7304 - val_acc: 0.7914\n",
            "\n",
            "Epoch 00031: val_acc did not improve from 0.82466\n",
            "Epoch 32/50\n",
            "1044/1044 [==============================] - 48s 46ms/step - loss: 0.1909 - acc: 0.9297 - val_loss: 0.6402 - val_acc: 0.8099\n",
            "\n",
            "Epoch 00032: ReduceLROnPlateau reducing learning rate to 0.0006141250254586339.\n",
            "\n",
            "Epoch 00032: val_acc did not improve from 0.82466\n",
            "Epoch 33/50\n",
            "1044/1044 [==============================] - 48s 46ms/step - loss: 0.1852 - acc: 0.9318 - val_loss: 0.7222 - val_acc: 0.7979\n",
            "\n",
            "Epoch 00033: val_acc did not improve from 0.82466\n",
            "Epoch 34/50\n",
            "1044/1044 [==============================] - 48s 46ms/step - loss: 0.1852 - acc: 0.9340 - val_loss: 0.6727 - val_acc: 0.8021\n",
            "\n",
            "Epoch 00034: val_acc did not improve from 0.82466\n",
            "Epoch 35/50\n",
            "1044/1044 [==============================] - 48s 46ms/step - loss: 0.1835 - acc: 0.9347 - val_loss: 0.5903 - val_acc: 0.8164\n",
            "\n",
            "Epoch 00035: val_acc did not improve from 0.82466\n",
            "Epoch 36/50\n",
            "1044/1044 [==============================] - 48s 46ms/step - loss: 0.1831 - acc: 0.9346 - val_loss: 0.5551 - val_acc: 0.8168\n",
            "\n",
            "Epoch 00036: val_acc did not improve from 0.82466\n",
            "Epoch 37/50\n",
            "1044/1044 [==============================] - 48s 46ms/step - loss: 0.1839 - acc: 0.9342 - val_loss: 0.6676 - val_acc: 0.8000\n",
            "\n",
            "Epoch 00037: val_acc did not improve from 0.82466\n",
            "Epoch 38/50\n",
            "1044/1044 [==============================] - 48s 46ms/step - loss: 0.1793 - acc: 0.9364 - val_loss: 0.7300 - val_acc: 0.7952\n",
            "\n",
            "Epoch 00038: val_acc did not improve from 0.82466\n",
            "Epoch 39/50\n",
            "1044/1044 [==============================] - 48s 46ms/step - loss: 0.1819 - acc: 0.9341 - val_loss: 0.7492 - val_acc: 0.7932\n",
            "\n",
            "Epoch 00039: val_acc did not improve from 0.82466\n",
            "Epoch 40/50\n",
            "1044/1044 [==============================] - 48s 46ms/step - loss: 0.1807 - acc: 0.9353 - val_loss: 0.6570 - val_acc: 0.8089\n",
            "\n",
            "Epoch 00040: val_acc did not improve from 0.82466\n",
            "Epoch 41/50\n",
            "1044/1044 [==============================] - 48s 46ms/step - loss: 0.1765 - acc: 0.9374 - val_loss: 0.7127 - val_acc: 0.7986\n",
            "\n",
            "Epoch 00041: ReduceLROnPlateau reducing learning rate to 0.0005220062914304435.\n",
            "\n",
            "Epoch 00041: val_acc did not improve from 0.82466\n",
            "Epoch 42/50\n",
            "1044/1044 [==============================] - 48s 46ms/step - loss: 0.1774 - acc: 0.9376 - val_loss: 0.6794 - val_acc: 0.8014\n",
            "\n",
            "Epoch 00042: val_acc did not improve from 0.82466\n",
            "Epoch 43/50\n",
            "1044/1044 [==============================] - 48s 46ms/step - loss: 0.1744 - acc: 0.9391 - val_loss: 0.7599 - val_acc: 0.7884\n",
            "\n",
            "Epoch 00043: val_acc did not improve from 0.82466\n",
            "Epoch 44/50\n",
            "1044/1044 [==============================] - 47s 45ms/step - loss: 0.1746 - acc: 0.9381 - val_loss: 0.7065 - val_acc: 0.8021\n",
            "\n",
            "Epoch 00044: val_acc did not improve from 0.82466\n",
            "Epoch 45/50\n",
            "1044/1044 [==============================] - 48s 46ms/step - loss: 0.1724 - acc: 0.9399 - val_loss: 0.7475 - val_acc: 0.7894\n",
            "\n",
            "Epoch 00045: val_acc did not improve from 0.82466\n",
            "Epoch 46/50\n",
            "1044/1044 [==============================] - 48s 46ms/step - loss: 0.1746 - acc: 0.9378 - val_loss: 0.6827 - val_acc: 0.8045\n",
            "\n",
            "Epoch 00046: ReduceLROnPlateau reducing learning rate to 0.00044370535761117935.\n",
            "\n",
            "Epoch 00046: val_acc did not improve from 0.82466\n",
            "Epoch 47/50\n",
            "1044/1044 [==============================] - 48s 46ms/step - loss: 0.1730 - acc: 0.9397 - val_loss: 0.6833 - val_acc: 0.8058\n",
            "\n",
            "Epoch 00047: val_acc did not improve from 0.82466\n",
            "Epoch 48/50\n",
            "1044/1044 [==============================] - 48s 46ms/step - loss: 0.1733 - acc: 0.9386 - val_loss: 0.7103 - val_acc: 0.8037\n",
            "\n",
            "Epoch 00048: val_acc did not improve from 0.82466\n",
            "Epoch 49/50\n",
            "1044/1044 [==============================] - 48s 46ms/step - loss: 0.1707 - acc: 0.9415 - val_loss: 0.7119 - val_acc: 0.8045\n",
            "\n",
            "Epoch 00049: val_acc did not improve from 0.82466\n",
            "Epoch 50/50\n",
            "1044/1044 [==============================] - 48s 46ms/step - loss: 0.1732 - acc: 0.9391 - val_loss: 0.7290 - val_acc: 0.7942\n",
            "\n",
            "Epoch 00050: val_acc did not improve from 0.82466\n"
          ],
          "name": "stdout"
        }
      ]
    },
    {
      "cell_type": "markdown",
      "metadata": {
        "id": "CZoWGz1EIuF2",
        "colab_type": "text"
      },
      "source": [
        "#### **Let's download the best model to a local file (just in case colab's session is interrupted):**"
      ]
    },
    {
      "cell_type": "code",
      "metadata": {
        "id": "buUlQRadcxui",
        "colab_type": "code",
        "colab": {}
      },
      "source": [
        "try:\n",
        "    files.download('base_model.h5')\n",
        "except:\n",
        "  pass"
      ],
      "execution_count": 0,
      "outputs": []
    },
    {
      "cell_type": "markdown",
      "metadata": {
        "id": "MRz_1oJzJRFH",
        "colab_type": "text"
      },
      "source": [
        "#### **Let's download the training history to a local file (just in case colab's session is interrupted):**"
      ]
    },
    {
      "cell_type": "code",
      "metadata": {
        "id": "k5Y5GUUhcyAt",
        "colab_type": "code",
        "colab": {}
      },
      "source": [
        "for k,v in history.history.items():\n",
        "  history.history[k] = str(v)\n",
        "\n",
        "with open('history_dict.json', 'w') as f:\n",
        "    json.dump(history.history, f)\n",
        "\n",
        "try:\n",
        "    time.sleep(3) # To avoid warning when downloading various files at once\n",
        "    files.download('history_dict.json')\n",
        "except:\n",
        "    pass"
      ],
      "execution_count": 0,
      "outputs": []
    },
    {
      "cell_type": "code",
      "metadata": {
        "id": "jxEpvYPVcyUb",
        "colab_type": "code",
        "colab": {}
      },
      "source": [
        "#uploaded = files.upload()\n",
        "with open('history_dict.json') as f:\n",
        "    history_dict = json.load(f)\n",
        "    \n",
        "for k,v in history_dict.items():\n",
        "  history_dict[k] = json.loads(v)\n",
        "\n",
        "history_df = pd.DataFrame(history_dict)"
      ],
      "execution_count": 0,
      "outputs": []
    },
    {
      "cell_type": "markdown",
      "metadata": {
        "id": "_eAC27OxKOLY",
        "colab_type": "text"
      },
      "source": [
        "#### **Let's plot training and validation loss vs epochs:**"
      ]
    },
    {
      "cell_type": "code",
      "metadata": {
        "id": "DCtryy1abrRA",
        "colab_type": "code",
        "colab": {
          "base_uri": "https://localhost:8080/",
          "height": 407
        },
        "outputId": "e746282e-a63e-460e-edb4-535adc096c63"
      },
      "source": [
        "loss = history_df[['loss','val_loss']]\n",
        "loss.columns = ['train_loss', 'val_loss']\n",
        "loss.plot(figsize=(10, 6), title='Loss vs epochs')"
      ],
      "execution_count": 40,
      "outputs": [
        {
          "output_type": "execute_result",
          "data": {
            "text/plain": [
              "<matplotlib.axes._subplots.AxesSubplot at 0x7f79f0234da0>"
            ]
          },
          "metadata": {
            "tags": []
          },
          "execution_count": 40
        },
        {
          "output_type": "display_data",
          "data": {
            "image/png": "[encoded data removed]",
            "text/plain": [
              "<Figure size 720x432 with 1 Axes>"
            ]
          },
          "metadata": {
            "tags": []
          }
        }
      ]
    },
    {
      "cell_type": "code",
      "metadata": {
        "id": "-40xWOMYdDre",
        "colab_type": "code",
        "outputId": "3f12a7b3-4cf9-4527-da12-3c548602ec72",
        "colab": {
          "base_uri": "https://localhost:8080/",
          "height": 407
        }
      },
      "source": [
        "loss = history_df[['loss','val_loss']]\n",
        "loss.columns = ['train_loss', 'val_loss']\n",
        "loss.plot(figsize=(10, 6), title='Loss vs epochs')"
      ],
      "execution_count": 0,
      "outputs": [
        {
          "output_type": "execute_result",
          "data": {
            "text/plain": [
              "<matplotlib.axes._subplots.AxesSubplot at 0x7f9598c19438>"
            ]
          },
          "metadata": {
            "tags": []
          },
          "execution_count": 39
        },
        {
          "output_type": "display_data",
          "data": {
            "image/png": "[encoded data removed]",
            "text/plain": [
              "<Figure size 720x432 with 1 Axes>"
            ]
          },
          "metadata": {
            "tags": []
          }
        }
      ]
    },
    {
      "cell_type": "markdown",
      "metadata": {
        "id": "VSFAqg-gKlR0",
        "colab_type": "text"
      },
      "source": [
        "#### **Let's plot training and validation accuracy vs epochs:**"
      ]
    },
    {
      "cell_type": "code",
      "metadata": {
        "id": "bAbt9je3b1x1",
        "colab_type": "code",
        "colab": {
          "base_uri": "https://localhost:8080/",
          "height": 407
        },
        "outputId": "24be775c-3f15-41c3-f907-898e8cf8d431"
      },
      "source": [
        "acc = history_df[['val_acc','acc']]\n",
        "acc.columns = ['val_acc', 'train_acc']\n",
        "acc.plot(figsize=(10, 6), title='Val acc & Train acc vs epochs')"
      ],
      "execution_count": 41,
      "outputs": [
        {
          "output_type": "execute_result",
          "data": {
            "text/plain": [
              "<matplotlib.axes._subplots.AxesSubplot at 0x7f79f0212dd8>"
            ]
          },
          "metadata": {
            "tags": []
          },
          "execution_count": 41
        },
        {
          "output_type": "display_data",
          "data": {
            "image/png": "[encoded data removed]",
            "text/plain": [
              "<Figure size 720x432 with 1 Axes>"
            ]
          },
          "metadata": {
            "tags": []
          }
        }
      ]
    },
    {
      "cell_type": "code",
      "metadata": {
        "id": "D4oZpeo-dF_F",
        "colab_type": "code",
        "outputId": "c1aca375-9161-44ab-c7f0-35ad02d378f2",
        "colab": {
          "base_uri": "https://localhost:8080/",
          "height": 407
        }
      },
      "source": [
        "acc = history_df[['val_acc','acc']]\n",
        "acc.columns = ['val_acc', 'train_acc']\n",
        "acc.plot(figsize=(10, 6), title='Val acc & Train acc vs epochs')"
      ],
      "execution_count": 0,
      "outputs": [
        {
          "output_type": "execute_result",
          "data": {
            "text/plain": [
              "<matplotlib.axes._subplots.AxesSubplot at 0x7f9599e41d30>"
            ]
          },
          "metadata": {
            "tags": []
          },
          "execution_count": 40
        },
        {
          "output_type": "display_data",
          "data": {
            "image/png": "[encoded data removed]",
            "text/plain": [
              "<Figure size 720x432 with 1 Axes>"
            ]
          },
          "metadata": {
            "tags": []
          }
        }
      ]
    },
    {
      "cell_type": "markdown",
      "metadata": {
        "id": "B8RiTO3yLDXy",
        "colab_type": "text"
      },
      "source": [
        "#### **Let's plot learning rate vs epochs:**"
      ]
    },
    {
      "cell_type": "code",
      "metadata": {
        "id": "vv0fg0V0b8fX",
        "colab_type": "code",
        "colab": {
          "base_uri": "https://localhost:8080/",
          "height": 407
        },
        "outputId": "e64eaaf5-50ad-40ee-e0ba-b1aadc1a5663"
      },
      "source": [
        "lr = history_df[['lr']]\n",
        "lr.plot(figsize=(10, 6), title='Learning rate vs epochs')"
      ],
      "execution_count": 42,
      "outputs": [
        {
          "output_type": "execute_result",
          "data": {
            "text/plain": [
              "<matplotlib.axes._subplots.AxesSubplot at 0x7f79f1669278>"
            ]
          },
          "metadata": {
            "tags": []
          },
          "execution_count": 42
        },
        {
          "output_type": "display_data",
          "data": {
            "image/png": "[encoded data removed]",
            "text/plain": [
              "<Figure size 720x432 with 1 Axes>"
            ]
          },
          "metadata": {
            "tags": []
          }
        }
      ]
    },
    {
      "cell_type": "code",
      "metadata": {
        "id": "tOff4R-QdJFB",
        "colab_type": "code",
        "outputId": "353c367f-d707-4e9c-9956-759b4881dff3",
        "colab": {
          "base_uri": "https://localhost:8080/",
          "height": 407
        }
      },
      "source": [
        "lr = history_df[['lr']]\n",
        "lr.plot(figsize=(10, 6), title='Learning rate vs epochs')"
      ],
      "execution_count": 0,
      "outputs": [
        {
          "output_type": "execute_result",
          "data": {
            "text/plain": [
              "<matplotlib.axes._subplots.AxesSubplot at 0x7f9599e31080>"
            ]
          },
          "metadata": {
            "tags": []
          },
          "execution_count": 41
        },
        {
          "output_type": "display_data",
          "data": {
            "image/png": "[encoded data removed]",
            "text/plain": [
              "<Figure size 720x432 with 1 Axes>"
            ]
          },
          "metadata": {
            "tags": []
          }
        }
      ]
    },
    {
      "cell_type": "markdown",
      "metadata": {
        "id": "pEjAnQK9Mhfy",
        "colab_type": "text"
      },
      "source": [
        "#### **Let's evaluate the best model, on the validation set and compute relevant metrics:**"
      ]
    },
    {
      "cell_type": "code",
      "metadata": {
        "id": "pc4dm0GKcCb7",
        "colab_type": "code",
        "colab": {
          "resources": {
            "http://localhost:8080/nbextensions/google.colab/files.js": {
              "data": "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",
              "ok": true,
              "headers": [
                [
                  "content-type",
                  "application/javascript"
                ]
              ],
              "status": 200,
              "status_text": ""
            }
          },
          "base_uri": "https://localhost:8080/",
          "height": 74
        },
        "outputId": "c893ad6c-bdc4-4565-d264-d83af080a9b6"
      },
      "source": [
        "#uploaded = files.upload()\n",
        "res_cnn.load_weights('base_model.h5')"
      ],
      "execution_count": 43,
      "outputs": [
        {
          "output_type": "display_data",
          "data": {
            "text/html": [
              "\n",
              "     <input type=\"file\" id=\"files-8ec3a2a4-6129-49f5-a833-9db5c1753653\" name=\"files[]\" multiple disabled />\n",
              "     <output id=\"result-8ec3a2a4-6129-49f5-a833-9db5c1753653\">\n",
              "      Upload widget is only available when the cell has been executed in the\n",
              "      current browser session. Please rerun this cell to enable.\n",
              "      </output>\n",
              "      <script src=\"/nbextensions/google.colab/files.js\"></script> "
            ],
            "text/plain": [
              "<IPython.core.display.HTML object>"
            ]
          },
          "metadata": {
            "tags": []
          }
        },
        {
          "output_type": "stream",
          "text": [
            "Saving base_model _.h5 to base_model _.h5\n"
          ],
          "name": "stdout"
        }
      ]
    },
    {
      "cell_type": "code",
      "metadata": {
        "id": "a3W5oX7pcD3_",
        "colab_type": "code",
        "colab": {
          "base_uri": "https://localhost:8080/",
          "height": 527
        },
        "outputId": "a15fe75e-834a-41bc-fdb9-06b065b4d7fc"
      },
      "source": [
        "## Downsampled/Leveled Control Validation\n",
        "## l2_reg = 5e-5\n",
        "\n",
        "## ReduceLROnPlateau(monitor='val_loss'... )\n",
        "\n",
        "## Grouping C3 into C2 AND C7 into C4, no dish border\n",
        "## 128x128, min_pos_pix_1250_s60 mivalpos_1024\n",
        "## train_batch_32, opt_RMSprop, Kernel_3x3:\n",
        "\n",
        "X, y_true = next(val_generator)\n",
        "y_pred = res_cnn.predict(X)\n",
        "for i in range(1, len(val_generator)):\n",
        "  X, y = next(val_generator)\n",
        "  y_true = np.vstack((y_true, y))\n",
        "  y_pred = np.vstack((y_pred, res_cnn.predict(X)))\n",
        "\n",
        "y_true = np.argmax(y_true, axis=1)\n",
        "y_pred = np.argmax(y_pred, axis=1)\n",
        "\n",
        "val_acc = accuracy_score(y_true, y_pred)\n",
        "#roc_auc = roc_auc_score(y_true, y_pred)\n",
        "cm = confusion_matrix(y_true, y_pred)\n",
        "class_names = [k for k in val_generator.class_indices]\n",
        "c_report = classification_report(y_true, y_pred, target_names=class_names)\n",
        "\n",
        "print('\\nval_acc:\\n', val_acc)\n",
        "print('\\nConfusion Matrix:\\n', cm)\n",
        "print('\\nClassification Report:\\n', c_report)"
      ],
      "execution_count": 44,
      "outputs": [
        {
          "output_type": "stream",
          "text": [
            "\n",
            "val_acc:\n",
            " 0.8170241286863271\n",
            "\n",
            "Confusion Matrix:\n",
            " [[369   0   4   0   0   0   0   0]\n",
            " [  0 300  44   0   0   0  29   0]\n",
            " [  0 102 260   0   0   0  11   0]\n",
            " [  0   0   6 336  30   1   0   0]\n",
            " [  0   0   0 224 149   0   0   0]\n",
            " [  0   0   2  44   1 323   3   0]\n",
            " [  0  19   5  20   1   0 328   0]\n",
            " [  0   0   0   0   0   0   0 373]]\n",
            "\n",
            "Classification Report:\n",
            "               precision    recall  f1-score   support\n",
            "\n",
            "     C10_pos       1.00      0.99      0.99       373\n",
            "      C1_pos       0.71      0.80      0.76       373\n",
            "    C2-3_pos       0.81      0.70      0.75       373\n",
            "    C4-7_pos       0.54      0.90      0.67       373\n",
            "      C5_pos       0.82      0.40      0.54       373\n",
            "      C6_pos       1.00      0.87      0.93       373\n",
            "      C8_pos       0.88      0.88      0.88       373\n",
            "      C9_pos       1.00      1.00      1.00       373\n",
            "\n",
            "    accuracy                           0.82      2984\n",
            "   macro avg       0.85      0.82      0.82      2984\n",
            "weighted avg       0.85      0.82      0.82      2984\n",
            "\n"
          ],
          "name": "stdout"
        }
      ]
    }
  ]
}