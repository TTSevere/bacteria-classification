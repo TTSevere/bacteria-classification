{
  "nbformat": 4,
  "nbformat_minor": 0,
  "metadata": {
    "colab": {
      "name": "bacteria-cnn-128x128.ipynb",
      "provenance": [],
      "collapsed_sections": [],
      "toc_visible": true
    },
    "kernelspec": {
      "name": "python3",
      "display_name": "Python 3"
    },
    "accelerator": "GPU"
  },
  "cells": [
    {
      "cell_type": "markdown",
      "metadata": {
        "id": "QoRNDsO6tgOB",
        "colab_type": "text"
      },
      "source": [
        "# Shallow Convolutional Neural Network\n",
        "\n",
        "Author: Akhil Punia\n",
        "\n",
        "Date: 11.24.19\n",
        "\n",
        "**Completed:**\n",
        "\n",
        "1.   Build Basic CNN Architecture\n",
        "2.   Set Train, Test & Valid Routine\n",
        "3.   Reweigh Loss Function for Class Imabalance\n",
        "4.   Normalize Images\n",
        "5.   He Weight Initialisation & Adam Optimizer\n",
        "6.   Confusion Matrix\n",
        "\n",
        "**TO DO:**\n",
        "\n",
        "1.   Log Train, Test Error to Tensorboard  \n",
        "2.   Log PR Curve to Tensorboard\n",
        "3.   Plot Class Activation Maps\n",
        "4.   Use Learning Rate Scheduler for setting  Cyclical Learning Rate [link](https://pytorch.org/docs/stable/optim.html#torch.optim.lr_scheduler.CyclicLR)\n",
        "\n"
      ]
    },
    {
      "cell_type": "markdown",
      "metadata": {
        "id": "MnCrERbQtrvG",
        "colab_type": "text"
      },
      "source": [
        "\n",
        "## Setting up the Environment\n"
      ]
    },
    {
      "cell_type": "code",
      "metadata": {
        "id": "eBYv15xvlOR_",
        "colab_type": "code",
        "colab": {}
      },
      "source": [
        "import torch\n",
        "import torchvision\n",
        "\n",
        "import numpy as np \n",
        "from torchvision import transforms, datasets"
      ],
      "execution_count": 0,
      "outputs": []
    },
    {
      "cell_type": "markdown",
      "metadata": {
        "id": "soHVzYt_t0NB",
        "colab_type": "text"
      },
      "source": [
        "## Preparing the Dataset\n"
      ]
    },
    {
      "cell_type": "code",
      "metadata": {
        "id": "mdbTZ-pmoXUs",
        "colab_type": "code",
        "colab": {}
      },
      "source": [
        "! wget -q 'https://storage.googleapis.com/capstone-fs7/img_patches_128_c8.zip'\n",
        "! unzip -q '/content/img_patches_128_c8.zip' "
      ],
      "execution_count": 0,
      "outputs": []
    },
    {
      "cell_type": "code",
      "metadata": {
        "id": "HnQYLhjAlPPM",
        "colab_type": "code",
        "outputId": "eab2087e-5c31-4060-b9b5-32071af70572",
        "colab": {
          "base_uri": "https://localhost:8080/",
          "height": 35
        }
      },
      "source": [
        "n_epochs = 10\n",
        "log_interval = 20\n",
        "\n",
        "data_dir='/content/img_patches_128_c8'\n",
        "train_dir = data_dir + '/serial-train'\n",
        "valid_dir = data_dir + '/serial-val'\n",
        "test_dir = data_dir + '/control'\n",
        "\n",
        "batch_size_train = 64\n",
        "batch_size_valid = 4103\n",
        "batch_size_test = 3655\n",
        "\n",
        "random_seed = 1\n",
        "torch.backends.cudnn.enabled = False\n",
        "torch.manual_seed(random_seed)"
      ],
      "execution_count": 7,
      "outputs": [
        {
          "output_type": "execute_result",
          "data": {
            "text/plain": [
              "<torch._C.Generator at 0x7f4220cbdd90>"
            ]
          },
          "metadata": {
            "tags": []
          },
          "execution_count": 7
        }
      ]
    },
    {
      "cell_type": "markdown",
      "metadata": {
        "id": "Aix4dYObt5cf",
        "colab_type": "text"
      },
      "source": [
        "For repeatable experiments we have to set random seeds for anything using random number generation - this means `numpy` and `random` as well! It's also worth mentioning that cuDNN uses nondeterministic algorithms which can be disabled setting `torch.backends.cudnn.enabled = False`.\n"
      ]
    },
    {
      "cell_type": "code",
      "metadata": {
        "id": "r-FKjL_dcIoV",
        "colab_type": "code",
        "colab": {}
      },
      "source": [
        "# scale the image down by it's global mean and std. deviation\n",
        "# https://discuss.pytorch.org/t/about-normalization-using-pre-trained-vgg16-networks/23560/6\n",
        "\n",
        "def mean_std(dir, batch_size):\n",
        "  dataset = datasets.ImageFolder(dir, transform=transforms.Compose([transforms.ToTensor()]))\n",
        "\n",
        "  loader = torch.utils.data.DataLoader(dataset,\n",
        "                                      batch_size=batch_size,\n",
        "                                      num_workers=1,\n",
        "                                      shuffle=False)\n",
        "\n",
        "  mean = 0.\n",
        "  std = 0.\n",
        "\n",
        "  nb_samples = 0.\n",
        "  for data, target in loader:\n",
        "\n",
        "    batch_samples = data.size(0)\n",
        "    data = data.view(batch_samples, data.size(1), -1)\n",
        "    mean += data.mean(2).sum(0)\n",
        "    std += data.std(2).sum(0)\n",
        "    nb_samples += batch_samples\n",
        "\n",
        "  mean /= nb_samples\n",
        "  std /= nb_samples\n",
        "  print(dir+':: \\n Mean: ', mean, '\\t Std: ', std )\n",
        "\n",
        "  mean = list(mean.numpy())\n",
        "  std = list(std.numpy())\n",
        "  return mean, std"
      ],
      "execution_count": 0,
      "outputs": []
    },
    {
      "cell_type": "code",
      "metadata": {
        "id": "jCTZzOjBkdC4",
        "colab_type": "code",
        "outputId": "0de383d7-57d4-4f7a-e51c-3dc52179815c",
        "colab": {
          "base_uri": "https://localhost:8080/",
          "height": 121
        }
      },
      "source": [
        "mean_tr, std_tr = mean_std(train_dir, batch_size_train)\n",
        "mean_va, std_va = mean_std(valid_dir, batch_size_valid)\n",
        "mean_te, std_te = mean_std(test_dir, batch_size_test)"
      ],
      "execution_count": 9,
      "outputs": [
        {
          "output_type": "stream",
          "text": [
            "/content/img_patches_128_c8/serial-train:: \n",
            " Mean:  tensor([0.6451, 0.6023, 0.5343]) \t Std:  tensor([0.1896, 0.2028, 0.2194])\n",
            "/content/img_patches_128_c8/serial-val:: \n",
            " Mean:  tensor([0.6464, 0.6044, 0.5355]) \t Std:  tensor([0.1910, 0.2037, 0.2205])\n",
            "/content/img_patches_128_c8/control:: \n",
            " Mean:  tensor([0.5786, 0.5341, 0.4629]) \t Std:  tensor([0.1486, 0.1513, 0.1590])\n"
          ],
          "name": "stdout"
        }
      ]
    },
    {
      "cell_type": "markdown",
      "metadata": {
        "id": "h8O3g_DsAPWi",
        "colab_type": "text"
      },
      "source": [
        "Now we'll also need DataLoaders for the dataset. This is where TorchVision comes into play. It let's use load the dataset in a handy way. We'll use a `batch_size` of 64 for **training** and size `867` for **testing** on this dataset. \n",
        "\n",
        "The values `[0.6453, 0.6027, 0.5345]` and `[0.1899, 0.2030, 0.2196]` used for the `Normalize()` transformation below are the global mean and standard deviation of the dataset, we'll take them as a given here.\n",
        "\n",
        "TorchVision offers a lot of handy transformations, such as cropping or normalization."
      ]
    },
    {
      "cell_type": "code",
      "metadata": {
        "id": "AiCKXU5MlYZZ",
        "colab_type": "code",
        "colab": {}
      },
      "source": [
        "# 2.1 Define transforms for the training, validation, and testing sets\n",
        "\n",
        "train_transforms = transforms.Compose([#transforms.RandomHorizontalFlip(),\n",
        "                                       transforms.ToTensor(),\n",
        "                                       transforms.Normalize(mean_tr,\n",
        "                                                            std_tr)])\n",
        "\n",
        "valid_transforms = transforms.Compose([transforms.ToTensor(),\n",
        "                                       transforms.Normalize(mean_va, \n",
        "                                                            std_va)])\n",
        "\n",
        "test_transforms  = transforms.Compose([transforms.ToTensor(),\n",
        "                                       transforms.Normalize(mean_te,\n",
        "                                                            std_te)])\n",
        "\n",
        "# 2.2 Load the datasets with ImageFolder\n",
        "\n",
        "train_dataset = datasets.ImageFolder(train_dir, \n",
        "                                     transform=train_transforms)\n",
        "\n",
        "valid_dataset = datasets.ImageFolder(valid_dir, \n",
        "                                     transform=valid_transforms)\n",
        "\n",
        "test_dataset  = datasets.ImageFolder(test_dir, \n",
        "                                     transform=test_transforms)\n",
        "\n",
        "# 2.3 Using the image datasets and the transforms, define the dataloaders\n",
        "\n",
        "train_loader = torch.utils.data.DataLoader(train_dataset, \n",
        "                                           batch_size=batch_size_train, \n",
        "                                           shuffle=True)\n",
        "\n",
        "valid_loader = torch.utils.data.DataLoader(valid_dataset, \n",
        "                                           batch_size=batch_size_valid)\n",
        "\n",
        "test_loader  = torch.utils.data.DataLoader(test_dataset, \n",
        "                                           batch_size=batch_size_test,\n",
        "                                           shuffle=True)"
      ],
      "execution_count": 0,
      "outputs": []
    },
    {
      "cell_type": "code",
      "metadata": {
        "id": "v1PfDOkljSVV",
        "colab_type": "code",
        "colab": {}
      },
      "source": [
        "# train_dataset : 3808\n",
        "# valid_dataset : 956\n",
        "# test_dataset : 867"
      ],
      "execution_count": 0,
      "outputs": []
    },
    {
      "cell_type": "markdown",
      "metadata": {
        "id": "0LAzrs5XuQ3D",
        "colab_type": "text"
      },
      "source": [
        "PyTorch's `DataLoader` contain a few interesting options other than the dataset and batch size. For example we could use `num_workers > 1` to use subprocesses to asynchronously load data or using pinned RAM (via `pin_memory`) to speed up RAM to GPU transfers. But since these mostly matter when we're using a GPU we can omit them here.\n",
        "\n",
        "Now let's take a look at some examples. We'll use the `test_loader` for this."
      ]
    },
    {
      "cell_type": "code",
      "metadata": {
        "id": "c0lfXsovl778",
        "colab_type": "code",
        "colab": {}
      },
      "source": [
        "examples = enumerate(test_loader)\n",
        "batch_idx, (example_data, example_targets) = next(examples)"
      ],
      "execution_count": 0,
      "outputs": []
    },
    {
      "cell_type": "markdown",
      "metadata": {
        "id": "4cxEQ15OuYiN",
        "colab_type": "text"
      },
      "source": [
        "Ok let's see what one test data batch consists of."
      ]
    },
    {
      "cell_type": "code",
      "metadata": {
        "id": "oZZypOoemEjY",
        "colab_type": "code",
        "outputId": "88a0f406-6454-4996-b40c-11e0e94771f7",
        "colab": {
          "base_uri": "https://localhost:8080/",
          "height": 35
        }
      },
      "source": [
        "example_data.shape"
      ],
      "execution_count": 13,
      "outputs": [
        {
          "output_type": "execute_result",
          "data": {
            "text/plain": [
              "torch.Size([867, 3, 128, 128])"
            ]
          },
          "metadata": {
            "tags": []
          },
          "execution_count": 13
        }
      ]
    },
    {
      "cell_type": "code",
      "metadata": {
        "id": "zhF_IHLYsA0v",
        "colab_type": "code",
        "colab": {}
      },
      "source": [
        "# https://discuss.pytorch.org/t/simple-way-to-inverse-transform-normalization/4821/3\n",
        "\n",
        "class UnNormalize(object):\n",
        "    def __init__(self, mean, std):\n",
        "        self.mean = mean\n",
        "        self.std = std\n",
        "\n",
        "    def __call__(self, tensor):\n",
        "        \"\"\"\n",
        "        Args:\n",
        "            tensor (Tensor): Tensor image of size (C, H, W) to be normalized.\n",
        "        Returns:\n",
        "            Tensor: Normalized image.\n",
        "        \"\"\"\n",
        "        for t, m, s in zip(tensor, self.mean, self.std):\n",
        "            t.mul_(s).add_(m)\n",
        "            # The normalize code -> t.sub_(m).div_(s)\n",
        "        return tensor"
      ],
      "execution_count": 0,
      "outputs": []
    },
    {
      "cell_type": "code",
      "metadata": {
        "id": "GHATBVABsXuI",
        "colab_type": "code",
        "colab": {}
      },
      "source": [
        "unorm = UnNormalize(mean=mean_te, std=std_te)"
      ],
      "execution_count": 0,
      "outputs": []
    },
    {
      "cell_type": "code",
      "metadata": {
        "id": "Il7utjffl6UC",
        "colab_type": "code",
        "colab": {}
      },
      "source": [
        "# https://stackoverflow.com/questions/42014545/how-to-change-numpy-array-from-128-128-3-to-3-128-128\n",
        "\n",
        "def disp_image(arr):\n",
        "  arr = unorm(arr) # unnormalize\n",
        "  arr = arr.numpy()\n",
        "  return(np.swapaxes(arr, 2,0))"
      ],
      "execution_count": 0,
      "outputs": []
    },
    {
      "cell_type": "markdown",
      "metadata": {
        "id": "DEDBfyPgubd_",
        "colab_type": "text"
      },
      "source": [
        "So one test data batch is a  tensor of shape: `torch.Size([867, 3, 128, 128])` . This means we have 867 examples of 128x128 pixels (i.e. rgb channels, hence three). We can plot some of them using matplotlib."
      ]
    },
    {
      "cell_type": "code",
      "metadata": {
        "id": "oQyAxAL5mHxC",
        "colab_type": "code",
        "outputId": "2feac939-d23d-4073-e821-5ab968fefe78",
        "colab": {
          "base_uri": "https://localhost:8080/",
          "height": 500
        }
      },
      "source": [
        "import matplotlib.pyplot as plt\n",
        "\n",
        "fig = plt.figure(figsize=(7,7))\n",
        "for i in range(9):\n",
        "  plt.subplot(3,3,i+1)\n",
        "  plt.tight_layout()\n",
        "  plt.imshow(disp_image(example_data[i]), interpolation='none')\n",
        "  plt.title(\"Ground Truth: {}\".format(example_targets[i]))\n",
        "  plt.xticks([])\n",
        "  plt.yticks([])"
      ],
      "execution_count": 17,
      "outputs": [
        {
          "output_type": "display_data",
          "data": {
            "image/png": "[encoded data removed]",
            "text/plain": [
              "<Figure size 504x504 with 9 Axes>"
            ]
          },
          "metadata": {
            "tags": []
          }
        }
      ]
    },
    {
      "cell_type": "markdown",
      "metadata": {
        "id": "6rvKopaZun1U",
        "colab_type": "text"
      },
      "source": [
        "\n",
        "## Building the Network\n",
        "\n",
        "Now let's go ahead and build our network. We'll use two 2-D convolutional layers followed by two fully-connected (or linear) layers. As activation function we'll choose rectified linear units (ReLUs in short) and as a means of regularization we'll use two dropout layers. In PyTorch a nice way to build a network is by creating a new class for the network we wish to build. Let's import a few submodules here for more readable code."
      ]
    },
    {
      "cell_type": "code",
      "metadata": {
        "id": "Vf9tiXIimK90",
        "colab_type": "code",
        "colab": {}
      },
      "source": [
        "import torch.nn as nn\n",
        "import torch.nn.functional as F\n",
        "import torch.optim as optim"
      ],
      "execution_count": 0,
      "outputs": []
    },
    {
      "cell_type": "code",
      "metadata": {
        "id": "TEQEq3p-mVbt",
        "colab_type": "code",
        "colab": {}
      },
      "source": [
        "# https://github.com/rasbt/deeplearning-models/blob/master/pytorch_ipynb/cnn/cnn-he-init.ipynb\n",
        "\n",
        "class Net(nn.Module):\n",
        "    def __init__(self):\n",
        "        super(Net, self).__init__()\n",
        "        \n",
        "        # calculate same padding:\n",
        "        # (w - k + 2*p)/s + 1 = o\n",
        "        # => p = (s(o-1) - w + k)/2\n",
        "        \n",
        "        # 128x128x3 => 128x128x6\n",
        "        self.conv1 = nn.Conv2d(in_channels=3, \n",
        "                               out_channels=6, \n",
        "                               kernel_size=5,\n",
        "                               padding= 2) # p = (1(128-1) - 128 + 5)/2 = 2\n",
        "\n",
        "        # 64x64x6 => 64x64x12\n",
        "        self.conv2 = nn.Conv2d(in_channels=6, \n",
        "                               out_channels=12, \n",
        "                               kernel_size=5,\n",
        "                               padding= 2) # p = (1(64-1) - 64 + 5)/2 = 2\n",
        "        self.conv2_drop = nn.Dropout2d()\n",
        "\n",
        "        # 32x32x12 => 32x32x16\n",
        "        self.conv3 = nn.Conv2d(in_channels=12, \n",
        "                               out_channels=12, \n",
        "                               kernel_size=5,\n",
        "                               padding= 2) # p = (1(64-1) - 64 + 5)/2 = 2\n",
        "        self.conv3_drop = nn.Dropout2d()\n",
        "\n",
        "        # 16x16x16 => 16x16x16\n",
        "        self.conv4 = nn.Conv2d(in_channels=12, \n",
        "                               out_channels=16, \n",
        "                               kernel_size=5,\n",
        "                               padding= 2) # p = (1(64-1) - 64 + 5)/2 = 2\n",
        "        self.conv4_drop = nn.Dropout2d()\n",
        "        \n",
        "        self.fc1 = nn.Linear(1024, 128)\n",
        "        self.fc2 = nn.Linear(128, 10)\n",
        "        \n",
        "        # initialising weights with He initialisation\n",
        "        for m in self.modules():\n",
        "          if isinstance(m, torch.nn.Conv2d):\n",
        "              nn.init.kaiming_normal_(m.weight.detach())\n",
        "              m.bias.detach().zero_()\n",
        "          elif isinstance(m, torch.nn.Linear):\n",
        "              nn.init.kaiming_normal_(m.weight.detach())\n",
        "              m.bias.detach().zero_()\n",
        "\n",
        "    def forward(self, x):\n",
        "        x = F.relu(F.max_pool2d(self.conv1(x), 2))\n",
        "        x = F.relu(F.max_pool2d(self.conv2_drop(self.conv2(x)), 2))\n",
        "        x = F.relu(F.max_pool2d(self.conv3_drop(self.conv3(x)), 2))\n",
        "        x = F.relu(F.max_pool2d(self.conv4_drop(self.conv4(x)), 2))\n",
        "        x = x.view(-1, 1024)\n",
        "        x = F.relu(self.fc1(x))\n",
        "        x = F.dropout(x, training=self.training)\n",
        "        x = self.fc2(x)\n",
        "        return F.log_softmax(x)\n"
      ],
      "execution_count": 0,
      "outputs": []
    },
    {
      "cell_type": "code",
      "metadata": {
        "id": "P4-jgIoorBv0",
        "colab_type": "code",
        "colab": {}
      },
      "source": [
        "for data, target in test_loader:\n",
        "  pass"
      ],
      "execution_count": 0,
      "outputs": []
    },
    {
      "cell_type": "code",
      "metadata": {
        "id": "C-KOINz7DBOr",
        "colab_type": "code",
        "outputId": "dd4ef5b0-3198-45fc-e053-c312a32e0244",
        "colab": {
          "base_uri": "https://localhost:8080/",
          "height": 52
        }
      },
      "source": [
        "def weight_scale(x):\n",
        "  unique, counts = np.unique(x, return_counts=True)\n",
        "  print(counts.sum()/counts)\n",
        "\n",
        "target = target.numpy()\n",
        "\n",
        "# weigh class weights\n",
        "weight = weight_scale(target)"
      ],
      "execution_count": 25,
      "outputs": [
        {
          "output_type": "stream",
          "text": [
            "[26.27272727 16.05555556  3.72103004  7.60526316 27.96774194 17.34\n",
            " 61.92857143  2.56508876]\n"
          ],
          "name": "stdout"
        }
      ]
    },
    {
      "cell_type": "markdown",
      "metadata": {
        "id": "zXnYATg_vDqd",
        "colab_type": "text"
      },
      "source": [
        "Broadly speaking we can think of the torch.nn layers as which contain trainable parameters while `torch.nn.functional` are purely functional. The `forward()` pass defines the way we compute our output using the given layers and functions. It would be perfectly fine to print out tensors somewhere in the forward pass for easier debugging. This comes in handy when experimenting with more complex models. Note that the forward pass could make use of e.g. a member variable or even the data itself to determine the execution path - and it can also make use of multiple arguments!\n",
        "\n",
        "Now let's `initialize` the network and the optimizer."
      ]
    },
    {
      "cell_type": "code",
      "metadata": {
        "id": "OaqjMFWHmc7M",
        "colab_type": "code",
        "colab": {
          "base_uri": "https://localhost:8080/",
          "height": 207
        },
        "outputId": "05fccd29-3713-4a32-fd86-37fe814db468"
      },
      "source": [
        "network = Net()\n",
        "optimizer = optim.Adam(network.parameters())\n",
        "criterion = nn.NLLLoss(weight)\n",
        "\n",
        "device = torch.device(\"cuda:0\" if torch.cuda.is_available() else \"cpu\")\n",
        "network.to(device)"
      ],
      "execution_count": 29,
      "outputs": [
        {
          "output_type": "execute_result",
          "data": {
            "text/plain": [
              "Net(\n",
              "  (conv1): Conv2d(3, 6, kernel_size=(5, 5), stride=(1, 1), padding=(2, 2))\n",
              "  (conv2): Conv2d(6, 12, kernel_size=(5, 5), stride=(1, 1), padding=(2, 2))\n",
              "  (conv2_drop): Dropout2d(p=0.5, inplace=False)\n",
              "  (conv3): Conv2d(12, 12, kernel_size=(5, 5), stride=(1, 1), padding=(2, 2))\n",
              "  (conv3_drop): Dropout2d(p=0.5, inplace=False)\n",
              "  (conv4): Conv2d(12, 16, kernel_size=(5, 5), stride=(1, 1), padding=(2, 2))\n",
              "  (conv4_drop): Dropout2d(p=0.5, inplace=False)\n",
              "  (fc1): Linear(in_features=1024, out_features=128, bias=True)\n",
              "  (fc2): Linear(in_features=128, out_features=10, bias=True)\n",
              ")"
            ]
          },
          "metadata": {
            "tags": []
          },
          "execution_count": 29
        }
      ]
    },
    {
      "cell_type": "markdown",
      "metadata": {
        "id": "oOddIOsMvKUX",
        "colab_type": "text"
      },
      "source": [
        "**Note**: If we were using a GPU for training, we should have also sent the network parameters to the GPU using e.g. `network.cuda()`. It is important to transfer the network's parameters to the appropriate device before passing them to the optimizer, otherwise the optimizer will not be able to keep track of them in the right way.\n",
        "\n",
        "## Training the Model\n",
        "\n",
        "Time to build our training loop. First we want to make sure our network is in training mode. Then we iterate over all training data once per epoch. Loading the individual batches is handled by the DataLoader. First we need to manually set the gradients to zero using `optimizer.zero_grad()` since PyTorch by default accumulates gradients. We then produce the output of our network (forward pass) and compute a negative log-likelihodd loss between the output and the ground truth label. The `backward()` call we now collect a new set of gradients which we propagate back into each of the network's parameters using `optimizer.step()`. For more detailed information about the inner workings of PyTorch's automatic gradient system, see the official docs for autograd (highly recommended).\n",
        "\n",
        "We'll also keep track of the progress with some printouts. In order to create a nice training curve later on we also create two lists for saving training and testing losses. On the x-axis we want to display the number of training examples the network has seen during training. "
      ]
    },
    {
      "cell_type": "code",
      "metadata": {
        "id": "xY95KzWOmo8y",
        "colab_type": "code",
        "colab": {}
      },
      "source": [
        "train_losses = []\n",
        "train_counter = []\n",
        "valid_losses = []\n",
        "valid_counter = [i*len(train_loader.dataset) for i in range(n_epochs + 1)]"
      ],
      "execution_count": 0,
      "outputs": []
    },
    {
      "cell_type": "markdown",
      "metadata": {
        "id": "lryFUMxxvh34",
        "colab_type": "text"
      },
      "source": [
        "We'll run our test loop once before even starting the training to see what accuracy/loss we achieve just with randomly initialized network parameters. Can you guess what our accuracy might look like for this case?"
      ]
    },
    {
      "cell_type": "code",
      "metadata": {
        "id": "TWm0DgoWmrii",
        "colab_type": "code",
        "colab": {}
      },
      "source": [
        "def train(epoch):\n",
        "  network.train()\n",
        "\n",
        "  for batch_idx, (data, target) in enumerate(train_loader):\n",
        "    optimizer.zero_grad()\n",
        "    output = network(data.to(device))\n",
        "    loss = criterion(output, target.to(device))\n",
        "    loss.backward()\n",
        "    optimizer.step()\n",
        "\n",
        "    if batch_idx % log_interval == 0:\n",
        "      print('Train Epoch: {} [{}/{} ({:.0f}%)]\\tLoss: {:.6f}'.format(\n",
        "            epoch, \n",
        "            batch_idx * len(data), \n",
        "            len(train_loader.dataset),\n",
        "            100. * batch_idx / len(train_loader), \n",
        "            loss.item()))\n",
        "      \n",
        "      train_losses.append(loss.item())\n",
        "      train_counter.append(\n",
        "        (batch_idx*64) + ((epoch-1)*len(train_loader.dataset)))\n",
        "      \n",
        "      torch.save(network.state_dict(), '/results/model.pth')\n",
        "      torch.save(optimizer.state_dict(), '/results/optimizer.pth')"
      ],
      "execution_count": 0,
      "outputs": []
    },
    {
      "cell_type": "markdown",
      "metadata": {
        "id": "ZlHQCwD1rhYv",
        "colab_type": "text"
      },
      "source": [
        "Neural network modules as well as optimizers have the ability to save and load their internal state using `.state_dict()`. With this we can continue training from previously saved state dicts if needed - we'd just need to call `.load_state_dict(state_dict)`. \n",
        "\n",
        "Now for our test loop. Here we sum up the test loss and keep track of correctly classified digits to compute the accuracy of the network. "
      ]
    },
    {
      "cell_type": "code",
      "metadata": {
        "id": "pOwJvduYmtlJ",
        "colab_type": "code",
        "colab": {}
      },
      "source": [
        "# def test():\n",
        "#   network.eval()\n",
        "#   test_loss = 0\n",
        "#   correct = 0\n",
        "\n",
        "#   with torch.no_grad():\n",
        "    \n",
        "#     for data, target in test_loader:\n",
        "      \n",
        "#       output = network(data)\n",
        "#       test_loss += criterion(output, \n",
        "#                              target).item()\n",
        "#       pred = output.data.max(1, keepdim=True)[1]\n",
        "#       correct += pred.eq(target.data.view_as(pred)).sum()\n",
        "\n",
        "#   test_loss /= len(test_loader.dataset)\n",
        "#   test_losses.append(test_loss)\n",
        "\n",
        "#   print('\\nTest set: Avg. loss: {:.4f}, Accuracy: {}/{} ({:.0f}%)\\n'.format(\n",
        "#         test_loss, \n",
        "#         correct, \n",
        "#         len(test_loader.dataset),\n",
        "#         100. * correct / len(test_loader.dataset)))\n",
        "\n",
        "from sklearn.metrics import accuracy_score\n",
        "\n",
        "def valid():\n",
        "  network.eval()\n",
        "  valid_loss = 0\n",
        "  correct = 0\n",
        "\n",
        "  with torch.no_grad():\n",
        "    \n",
        "    for data, target in valid_loader:\n",
        "      \n",
        "      output = network(data.to(device))\n",
        "      valid_loss += criterion(output, \n",
        "                             target.to(device)).item()\n",
        "      pred = output.data.max(1, keepdim=True)[1].to(device)\n",
        "      # correct += pred.eq(target.data.view_as(pred)).sum().to(device)\n",
        "      correct = int(accuracy_score(target.cpu(), pred.cpu())*100)\n",
        "\n",
        "  # valid_loss /= len(valid_loader.dataset)\n",
        "  valid_losses.append(valid_loss)\n",
        "\n",
        "  print('\\Vaild set: Avg. loss: {:.4f}, Accuracy: {}/{} ({:.0f}%)\\n'.format(\n",
        "        valid_loss, \n",
        "        correct, \n",
        "        len(valid_loader.dataset),\n",
        "        100. * correct / len(valid_loader.dataset)))"
      ],
      "execution_count": 0,
      "outputs": []
    },
    {
      "cell_type": "code",
      "metadata": {
        "id": "d_-0Dmj6nwzC",
        "colab_type": "code",
        "outputId": "4e98fe84-d9c4-4de0-d7dd-278e87c755c6",
        "colab": {
          "base_uri": "https://localhost:8080/",
          "height": 35
        }
      },
      "source": [
        "! mkdir ../results/ # run once."
      ],
      "execution_count": 53,
      "outputs": [
        {
          "output_type": "stream",
          "text": [
            "mkdir: cannot create directory ‘../results/’: File exists\n"
          ],
          "name": "stdout"
        }
      ]
    },
    {
      "cell_type": "markdown",
      "metadata": {
        "id": "Til15bK4rZRs",
        "colab_type": "text"
      },
      "source": [
        "Using the context manager `no_grad()` we can avoid storing the computations done producing the output of our network in the computation graph.\n",
        "\n",
        "Time to run the training! We'll manually add a `test()` call before we loop over n_epochs to evaluate our model with randomly initialized parameters."
      ]
    },
    {
      "cell_type": "code",
      "metadata": {
        "id": "X3Nr3B7Dm-n2",
        "colab_type": "code",
        "outputId": "ac80ecf0-f84b-4a12-be68-33cfb648dfc6",
        "colab": {
          "base_uri": "https://localhost:8080/",
          "height": 953
        }
      },
      "source": [
        "valid()\n",
        "\n",
        "for epoch in range(1, n_epochs + 1):\n",
        "  train(epoch)\n",
        "  valid()"
      ],
      "execution_count": 54,
      "outputs": [
        {
          "output_type": "stream",
          "text": [
            "/usr/local/lib/python3.6/dist-packages/ipykernel_launcher.py:58: UserWarning: Implicit dimension choice for log_softmax has been deprecated. Change the call to include dim=X as an argument.\n"
          ],
          "name": "stderr"
        },
        {
          "output_type": "stream",
          "text": [
            "\\Vaild set: Avg. loss: 1.1809, Accuracy: 54/956 (6%)\n",
            "\n",
            "Train Epoch: 1 [0/3808 (0%)]\tLoss: 1.381336\n",
            "Train Epoch: 1 [1280/3808 (33%)]\tLoss: 1.426073\n",
            "Train Epoch: 1 [2560/3808 (67%)]\tLoss: 1.429844\n",
            "\\Vaild set: Avg. loss: 1.1882, Accuracy: 54/956 (6%)\n",
            "\n",
            "Train Epoch: 2 [0/3808 (0%)]\tLoss: 1.495468\n",
            "Train Epoch: 2 [1280/3808 (33%)]\tLoss: 1.346572\n",
            "Train Epoch: 2 [2560/3808 (67%)]\tLoss: 1.259599\n",
            "\\Vaild set: Avg. loss: 1.1935, Accuracy: 54/956 (6%)\n",
            "\n",
            "Train Epoch: 3 [0/3808 (0%)]\tLoss: 1.147234\n",
            "Train Epoch: 3 [1280/3808 (33%)]\tLoss: 1.371597\n",
            "Train Epoch: 3 [2560/3808 (67%)]\tLoss: 1.147499\n",
            "\\Vaild set: Avg. loss: 1.1392, Accuracy: 55/956 (6%)\n",
            "\n",
            "Train Epoch: 4 [0/3808 (0%)]\tLoss: 1.046701\n",
            "Train Epoch: 4 [1280/3808 (33%)]\tLoss: 1.128787\n",
            "Train Epoch: 4 [2560/3808 (67%)]\tLoss: 1.196429\n",
            "\\Vaild set: Avg. loss: 1.1810, Accuracy: 55/956 (6%)\n",
            "\n",
            "Train Epoch: 5 [0/3808 (0%)]\tLoss: 1.249764\n",
            "Train Epoch: 5 [1280/3808 (33%)]\tLoss: 1.114714\n",
            "Train Epoch: 5 [2560/3808 (67%)]\tLoss: 1.109078\n",
            "\\Vaild set: Avg. loss: 1.0477, Accuracy: 57/956 (6%)\n",
            "\n",
            "Train Epoch: 6 [0/3808 (0%)]\tLoss: 1.319597\n",
            "Train Epoch: 6 [1280/3808 (33%)]\tLoss: 1.129718\n",
            "Train Epoch: 6 [2560/3808 (67%)]\tLoss: 0.931933\n",
            "\\Vaild set: Avg. loss: 1.1428, Accuracy: 56/956 (6%)\n",
            "\n",
            "Train Epoch: 7 [0/3808 (0%)]\tLoss: 1.078277\n",
            "Train Epoch: 7 [1280/3808 (33%)]\tLoss: 1.056825\n",
            "Train Epoch: 7 [2560/3808 (67%)]\tLoss: 1.220160\n",
            "\\Vaild set: Avg. loss: 1.0943, Accuracy: 56/956 (6%)\n",
            "\n",
            "Train Epoch: 8 [0/3808 (0%)]\tLoss: 1.206251\n",
            "Train Epoch: 8 [1280/3808 (33%)]\tLoss: 1.106644\n",
            "Train Epoch: 8 [2560/3808 (67%)]\tLoss: 1.134914\n",
            "\\Vaild set: Avg. loss: 1.0840, Accuracy: 57/956 (6%)\n",
            "\n",
            "Train Epoch: 9 [0/3808 (0%)]\tLoss: 1.008034\n",
            "Train Epoch: 9 [1280/3808 (33%)]\tLoss: 1.145351\n",
            "Train Epoch: 9 [2560/3808 (67%)]\tLoss: 1.084134\n",
            "\\Vaild set: Avg. loss: 1.0937, Accuracy: 56/956 (6%)\n",
            "\n",
            "Train Epoch: 10 [0/3808 (0%)]\tLoss: 0.721925\n",
            "Train Epoch: 10 [1280/3808 (33%)]\tLoss: 1.210543\n",
            "Train Epoch: 10 [2560/3808 (67%)]\tLoss: 1.208992\n",
            "\\Vaild set: Avg. loss: 1.1695, Accuracy: 56/956 (6%)\n",
            "\n"
          ],
          "name": "stdout"
        }
      ]
    },
    {
      "cell_type": "markdown",
      "metadata": {
        "id": "VQtK0KfarUO3",
        "colab_type": "text"
      },
      "source": [
        "## Evaluating the Model's Performance\n",
        "\n",
        "And that's it. With just 3 epochs of training we  managed to achieve 39% accuracy on the test set! We started out with randomly initialized parameters and as expected only got about 2% accuracy on the test set before starting the training.\n",
        "\n",
        "Let's plot our training curve."
      ]
    },
    {
      "cell_type": "code",
      "metadata": {
        "id": "oqeLSmXonJxU",
        "colab_type": "code",
        "outputId": "9a1e06a6-00c7-42c2-d36c-e2705db2f961",
        "colab": {
          "base_uri": "https://localhost:8080/",
          "height": 351
        }
      },
      "source": [
        "# Fix it to say Valid Loss\n",
        "\n",
        "fig = plt.figure(figsize=(8,5))\n",
        "plt.plot(train_counter, train_losses, color='blue')\n",
        "plt.scatter(valid_counter, valid_losses, color='red')\n",
        "plt.legend(['Train Loss', 'Valid Loss'], loc='upper right')\n",
        "plt.xlabel('number of training examples seen')\n",
        "plt.ylabel('negative log likelihood loss')"
      ],
      "execution_count": 55,
      "outputs": [
        {
          "output_type": "execute_result",
          "data": {
            "text/plain": [
              "Text(0, 0.5, 'negative log likelihood loss')"
            ]
          },
          "metadata": {
            "tags": []
          },
          "execution_count": 55
        },
        {
          "output_type": "display_data",
          "data": {
            "image/png": "[encoded data removed]",
            "text/plain": [
              "<Figure size 576x360 with 1 Axes>"
            ]
          },
          "metadata": {
            "tags": []
          }
        }
      ]
    },
    {
      "cell_type": "markdown",
      "metadata": {
        "id": "AA3PiXm_rOTI",
        "colab_type": "text"
      },
      "source": [
        "Judging from the training curve  it looks like we could even continue training for a few more epochs!\n",
        "\n",
        "\n",
        "But before that let's again look at a few examples as we did earlier and compare the model's output."
      ]
    },
    {
      "cell_type": "code",
      "metadata": {
        "id": "vKZ9FLXjFB9T",
        "colab_type": "code",
        "colab": {}
      },
      "source": [
        "examples = enumerate(test_loader)\n",
        "batch_idx, (example_data, example_targets) = next(examples)"
      ],
      "execution_count": 0,
      "outputs": []
    },
    {
      "cell_type": "code",
      "metadata": {
        "id": "J5j6uvRnophS",
        "colab_type": "code",
        "outputId": "83e88d8a-bc31-42fc-a905-0323e3212754",
        "colab": {
          "base_uri": "https://localhost:8080/",
          "height": 399
        }
      },
      "source": [
        "# sample output\n",
        "\n",
        "with torch.no_grad():\n",
        "  output = network(example_data)\n",
        "\n",
        "output[0]"
      ],
      "execution_count": 57,
      "outputs": [
        {
          "output_type": "error",
          "ename": "RuntimeError",
          "evalue": "ignored",
          "traceback": [
            "\u001b[0;31m---------------------------------------------------------------------------\u001b[0m",
            "\u001b[0;31mRuntimeError\u001b[0m                              Traceback (most recent call last)",
            "\u001b[0;32m<ipython-input-57-973afeff3117>\u001b[0m in \u001b[0;36m<module>\u001b[0;34m()\u001b[0m\n\u001b[1;32m      1\u001b[0m \u001b[0;34m\u001b[0m\u001b[0m\n\u001b[1;32m      2\u001b[0m \u001b[0;32mwith\u001b[0m \u001b[0mtorch\u001b[0m\u001b[0;34m.\u001b[0m\u001b[0mno_grad\u001b[0m\u001b[0;34m(\u001b[0m\u001b[0;34m)\u001b[0m\u001b[0;34m:\u001b[0m\u001b[0;34m\u001b[0m\u001b[0;34m\u001b[0m\u001b[0m\n\u001b[0;32m----> 3\u001b[0;31m   \u001b[0moutput\u001b[0m \u001b[0;34m=\u001b[0m \u001b[0mnetwork\u001b[0m\u001b[0;34m(\u001b[0m\u001b[0mexample_data\u001b[0m\u001b[0;34m)\u001b[0m\u001b[0;34m\u001b[0m\u001b[0;34m\u001b[0m\u001b[0m\n\u001b[0m\u001b[1;32m      4\u001b[0m \u001b[0;34m\u001b[0m\u001b[0m\n\u001b[1;32m      5\u001b[0m \u001b[0moutput\u001b[0m\u001b[0;34m[\u001b[0m\u001b[0;36m0\u001b[0m\u001b[0;34m]\u001b[0m\u001b[0;34m\u001b[0m\u001b[0;34m\u001b[0m\u001b[0m\n",
            "\u001b[0;32m/usr/local/lib/python3.6/dist-packages/torch/nn/modules/module.py\u001b[0m in \u001b[0;36m__call__\u001b[0;34m(self, *input, **kwargs)\u001b[0m\n\u001b[1;32m    539\u001b[0m             \u001b[0mresult\u001b[0m \u001b[0;34m=\u001b[0m \u001b[0mself\u001b[0m\u001b[0;34m.\u001b[0m\u001b[0m_slow_forward\u001b[0m\u001b[0;34m(\u001b[0m\u001b[0;34m*\u001b[0m\u001b[0minput\u001b[0m\u001b[0;34m,\u001b[0m \u001b[0;34m**\u001b[0m\u001b[0mkwargs\u001b[0m\u001b[0;34m)\u001b[0m\u001b[0;34m\u001b[0m\u001b[0;34m\u001b[0m\u001b[0m\n\u001b[1;32m    540\u001b[0m         \u001b[0;32melse\u001b[0m\u001b[0;34m:\u001b[0m\u001b[0;34m\u001b[0m\u001b[0;34m\u001b[0m\u001b[0m\n\u001b[0;32m--> 541\u001b[0;31m             \u001b[0mresult\u001b[0m \u001b[0;34m=\u001b[0m \u001b[0mself\u001b[0m\u001b[0;34m.\u001b[0m\u001b[0mforward\u001b[0m\u001b[0;34m(\u001b[0m\u001b[0;34m*\u001b[0m\u001b[0minput\u001b[0m\u001b[0;34m,\u001b[0m \u001b[0;34m**\u001b[0m\u001b[0mkwargs\u001b[0m\u001b[0;34m)\u001b[0m\u001b[0;34m\u001b[0m\u001b[0;34m\u001b[0m\u001b[0m\n\u001b[0m\u001b[1;32m    542\u001b[0m         \u001b[0;32mfor\u001b[0m \u001b[0mhook\u001b[0m \u001b[0;32min\u001b[0m \u001b[0mself\u001b[0m\u001b[0;34m.\u001b[0m\u001b[0m_forward_hooks\u001b[0m\u001b[0;34m.\u001b[0m\u001b[0mvalues\u001b[0m\u001b[0;34m(\u001b[0m\u001b[0;34m)\u001b[0m\u001b[0;34m:\u001b[0m\u001b[0;34m\u001b[0m\u001b[0;34m\u001b[0m\u001b[0m\n\u001b[1;32m    543\u001b[0m             \u001b[0mhook_result\u001b[0m \u001b[0;34m=\u001b[0m \u001b[0mhook\u001b[0m\u001b[0;34m(\u001b[0m\u001b[0mself\u001b[0m\u001b[0;34m,\u001b[0m \u001b[0minput\u001b[0m\u001b[0;34m,\u001b[0m \u001b[0mresult\u001b[0m\u001b[0;34m)\u001b[0m\u001b[0;34m\u001b[0m\u001b[0;34m\u001b[0m\u001b[0m\n",
            "\u001b[0;32m<ipython-input-27-707ab9ec1210>\u001b[0m in \u001b[0;36mforward\u001b[0;34m(self, x)\u001b[0m\n\u001b[1;32m     48\u001b[0m \u001b[0;34m\u001b[0m\u001b[0m\n\u001b[1;32m     49\u001b[0m     \u001b[0;32mdef\u001b[0m \u001b[0mforward\u001b[0m\u001b[0;34m(\u001b[0m\u001b[0mself\u001b[0m\u001b[0;34m,\u001b[0m \u001b[0mx\u001b[0m\u001b[0;34m)\u001b[0m\u001b[0;34m:\u001b[0m\u001b[0;34m\u001b[0m\u001b[0;34m\u001b[0m\u001b[0m\n\u001b[0;32m---> 50\u001b[0;31m         \u001b[0mx\u001b[0m \u001b[0;34m=\u001b[0m \u001b[0mF\u001b[0m\u001b[0;34m.\u001b[0m\u001b[0mrelu\u001b[0m\u001b[0;34m(\u001b[0m\u001b[0mF\u001b[0m\u001b[0;34m.\u001b[0m\u001b[0mmax_pool2d\u001b[0m\u001b[0;34m(\u001b[0m\u001b[0mself\u001b[0m\u001b[0;34m.\u001b[0m\u001b[0mconv1\u001b[0m\u001b[0;34m(\u001b[0m\u001b[0mx\u001b[0m\u001b[0;34m)\u001b[0m\u001b[0;34m,\u001b[0m \u001b[0;36m2\u001b[0m\u001b[0;34m)\u001b[0m\u001b[0;34m)\u001b[0m\u001b[0;34m\u001b[0m\u001b[0;34m\u001b[0m\u001b[0m\n\u001b[0m\u001b[1;32m     51\u001b[0m         \u001b[0mx\u001b[0m \u001b[0;34m=\u001b[0m \u001b[0mF\u001b[0m\u001b[0;34m.\u001b[0m\u001b[0mrelu\u001b[0m\u001b[0;34m(\u001b[0m\u001b[0mF\u001b[0m\u001b[0;34m.\u001b[0m\u001b[0mmax_pool2d\u001b[0m\u001b[0;34m(\u001b[0m\u001b[0mself\u001b[0m\u001b[0;34m.\u001b[0m\u001b[0mconv2_drop\u001b[0m\u001b[0;34m(\u001b[0m\u001b[0mself\u001b[0m\u001b[0;34m.\u001b[0m\u001b[0mconv2\u001b[0m\u001b[0;34m(\u001b[0m\u001b[0mx\u001b[0m\u001b[0;34m)\u001b[0m\u001b[0;34m)\u001b[0m\u001b[0;34m,\u001b[0m \u001b[0;36m2\u001b[0m\u001b[0;34m)\u001b[0m\u001b[0;34m)\u001b[0m\u001b[0;34m\u001b[0m\u001b[0;34m\u001b[0m\u001b[0m\n\u001b[1;32m     52\u001b[0m         \u001b[0mx\u001b[0m \u001b[0;34m=\u001b[0m \u001b[0mF\u001b[0m\u001b[0;34m.\u001b[0m\u001b[0mrelu\u001b[0m\u001b[0;34m(\u001b[0m\u001b[0mF\u001b[0m\u001b[0;34m.\u001b[0m\u001b[0mmax_pool2d\u001b[0m\u001b[0;34m(\u001b[0m\u001b[0mself\u001b[0m\u001b[0;34m.\u001b[0m\u001b[0mconv3_drop\u001b[0m\u001b[0;34m(\u001b[0m\u001b[0mself\u001b[0m\u001b[0;34m.\u001b[0m\u001b[0mconv3\u001b[0m\u001b[0;34m(\u001b[0m\u001b[0mx\u001b[0m\u001b[0;34m)\u001b[0m\u001b[0;34m)\u001b[0m\u001b[0;34m,\u001b[0m \u001b[0;36m2\u001b[0m\u001b[0;34m)\u001b[0m\u001b[0;34m)\u001b[0m\u001b[0;34m\u001b[0m\u001b[0;34m\u001b[0m\u001b[0m\n",
            "\u001b[0;32m/usr/local/lib/python3.6/dist-packages/torch/nn/modules/module.py\u001b[0m in \u001b[0;36m__call__\u001b[0;34m(self, *input, **kwargs)\u001b[0m\n\u001b[1;32m    539\u001b[0m             \u001b[0mresult\u001b[0m \u001b[0;34m=\u001b[0m \u001b[0mself\u001b[0m\u001b[0;34m.\u001b[0m\u001b[0m_slow_forward\u001b[0m\u001b[0;34m(\u001b[0m\u001b[0;34m*\u001b[0m\u001b[0minput\u001b[0m\u001b[0;34m,\u001b[0m \u001b[0;34m**\u001b[0m\u001b[0mkwargs\u001b[0m\u001b[0;34m)\u001b[0m\u001b[0;34m\u001b[0m\u001b[0;34m\u001b[0m\u001b[0m\n\u001b[1;32m    540\u001b[0m         \u001b[0;32melse\u001b[0m\u001b[0;34m:\u001b[0m\u001b[0;34m\u001b[0m\u001b[0;34m\u001b[0m\u001b[0m\n\u001b[0;32m--> 541\u001b[0;31m             \u001b[0mresult\u001b[0m \u001b[0;34m=\u001b[0m \u001b[0mself\u001b[0m\u001b[0;34m.\u001b[0m\u001b[0mforward\u001b[0m\u001b[0;34m(\u001b[0m\u001b[0;34m*\u001b[0m\u001b[0minput\u001b[0m\u001b[0;34m,\u001b[0m \u001b[0;34m**\u001b[0m\u001b[0mkwargs\u001b[0m\u001b[0;34m)\u001b[0m\u001b[0;34m\u001b[0m\u001b[0;34m\u001b[0m\u001b[0m\n\u001b[0m\u001b[1;32m    542\u001b[0m         \u001b[0;32mfor\u001b[0m \u001b[0mhook\u001b[0m \u001b[0;32min\u001b[0m \u001b[0mself\u001b[0m\u001b[0;34m.\u001b[0m\u001b[0m_forward_hooks\u001b[0m\u001b[0;34m.\u001b[0m\u001b[0mvalues\u001b[0m\u001b[0;34m(\u001b[0m\u001b[0;34m)\u001b[0m\u001b[0;34m:\u001b[0m\u001b[0;34m\u001b[0m\u001b[0;34m\u001b[0m\u001b[0m\n\u001b[1;32m    543\u001b[0m             \u001b[0mhook_result\u001b[0m \u001b[0;34m=\u001b[0m \u001b[0mhook\u001b[0m\u001b[0;34m(\u001b[0m\u001b[0mself\u001b[0m\u001b[0;34m,\u001b[0m \u001b[0minput\u001b[0m\u001b[0;34m,\u001b[0m \u001b[0mresult\u001b[0m\u001b[0;34m)\u001b[0m\u001b[0;34m\u001b[0m\u001b[0;34m\u001b[0m\u001b[0m\n",
            "\u001b[0;32m/usr/local/lib/python3.6/dist-packages/torch/nn/modules/conv.py\u001b[0m in \u001b[0;36mforward\u001b[0;34m(self, input)\u001b[0m\n\u001b[1;32m    343\u001b[0m \u001b[0;34m\u001b[0m\u001b[0m\n\u001b[1;32m    344\u001b[0m     \u001b[0;32mdef\u001b[0m \u001b[0mforward\u001b[0m\u001b[0;34m(\u001b[0m\u001b[0mself\u001b[0m\u001b[0;34m,\u001b[0m \u001b[0minput\u001b[0m\u001b[0;34m)\u001b[0m\u001b[0;34m:\u001b[0m\u001b[0;34m\u001b[0m\u001b[0;34m\u001b[0m\u001b[0m\n\u001b[0;32m--> 345\u001b[0;31m         \u001b[0;32mreturn\u001b[0m \u001b[0mself\u001b[0m\u001b[0;34m.\u001b[0m\u001b[0mconv2d_forward\u001b[0m\u001b[0;34m(\u001b[0m\u001b[0minput\u001b[0m\u001b[0;34m,\u001b[0m \u001b[0mself\u001b[0m\u001b[0;34m.\u001b[0m\u001b[0mweight\u001b[0m\u001b[0;34m)\u001b[0m\u001b[0;34m\u001b[0m\u001b[0;34m\u001b[0m\u001b[0m\n\u001b[0m\u001b[1;32m    346\u001b[0m \u001b[0;34m\u001b[0m\u001b[0m\n\u001b[1;32m    347\u001b[0m \u001b[0;32mclass\u001b[0m \u001b[0mConv3d\u001b[0m\u001b[0;34m(\u001b[0m\u001b[0m_ConvNd\u001b[0m\u001b[0;34m)\u001b[0m\u001b[0;34m:\u001b[0m\u001b[0;34m\u001b[0m\u001b[0;34m\u001b[0m\u001b[0m\n",
            "\u001b[0;32m/usr/local/lib/python3.6/dist-packages/torch/nn/modules/conv.py\u001b[0m in \u001b[0;36mconv2d_forward\u001b[0;34m(self, input, weight)\u001b[0m\n\u001b[1;32m    340\u001b[0m                             _pair(0), self.dilation, self.groups)\n\u001b[1;32m    341\u001b[0m         return F.conv2d(input, weight, self.bias, self.stride,\n\u001b[0;32m--> 342\u001b[0;31m                         self.padding, self.dilation, self.groups)\n\u001b[0m\u001b[1;32m    343\u001b[0m \u001b[0;34m\u001b[0m\u001b[0m\n\u001b[1;32m    344\u001b[0m     \u001b[0;32mdef\u001b[0m \u001b[0mforward\u001b[0m\u001b[0;34m(\u001b[0m\u001b[0mself\u001b[0m\u001b[0;34m,\u001b[0m \u001b[0minput\u001b[0m\u001b[0;34m)\u001b[0m\u001b[0;34m:\u001b[0m\u001b[0;34m\u001b[0m\u001b[0;34m\u001b[0m\u001b[0m\n",
            "\u001b[0;31mRuntimeError\u001b[0m: Input type (torch.FloatTensor) and weight type (torch.cuda.FloatTensor) should be the same"
          ]
        }
      ]
    },
    {
      "cell_type": "code",
      "metadata": {
        "id": "DqRcbIQ9o08g",
        "colab_type": "code",
        "outputId": "936c4e79-05e8-4090-9f48-fc75529d98d6",
        "colab": {
          "base_uri": "https://localhost:8080/",
          "height": 500
        }
      },
      "source": [
        "fig = plt.figure(figsize=(7,7))\n",
        "\n",
        "for i in range(9):\n",
        "  plt.subplot(3,3,i+1)\n",
        "  plt.tight_layout()\n",
        "  plt.imshow(disp_image(example_data[i]), interpolation='none')\n",
        "  plt.title(\"Prediction: {}\".format(\n",
        "    output.data.max(1, keepdim=True)[1][i].item()))\n",
        "  plt.xticks([])\n",
        "  plt.yticks([])"
      ],
      "execution_count": 48,
      "outputs": [
        {
          "output_type": "display_data",
          "data": {
            "image/png": "[encoded data removed]",
            "text/plain": [
              "<Figure size 504x504 with 9 Axes>"
            ]
          },
          "metadata": {
            "tags": []
          }
        }
      ]
    },
    {
      "cell_type": "markdown",
      "metadata": {
        "id": "HJqxzoOgrFok",
        "colab_type": "text"
      },
      "source": [
        "\n",
        "\n",
        "## Continued Training from Checkpoints\n",
        "\n",
        "Now let's continue training the network, or rather see how we can continue training from the state_dicts we saved during our first training run. We'll initialize a new set of network and optimizers."
      ]
    },
    {
      "cell_type": "code",
      "metadata": {
        "id": "wejeP6XGo335",
        "colab_type": "code",
        "colab": {}
      },
      "source": [
        "continued_network = Net()\n",
        "continued_optimizer = optim.Adam(network.parameters())"
      ],
      "execution_count": 0,
      "outputs": []
    },
    {
      "cell_type": "markdown",
      "metadata": {
        "id": "sivwUYHvrA6C",
        "colab_type": "text"
      },
      "source": [
        "Using `.load_state_dict()` we can now load the internal state of the network and optimizer when we last saved them."
      ]
    },
    {
      "cell_type": "code",
      "metadata": {
        "id": "0PsXltKcpDyP",
        "colab_type": "code",
        "colab": {}
      },
      "source": [
        "network_state_dict = torch.load('/results/model.pth')\n",
        "continued_network.load_state_dict(network_state_dict)\n",
        "\n",
        "optimizer_state_dict = torch.load('/results/optimizer.pth')\n",
        "continued_optimizer.load_state_dict(optimizer_state_dict)"
      ],
      "execution_count": 0,
      "outputs": []
    },
    {
      "cell_type": "markdown",
      "metadata": {
        "id": "DzM4XYfDq-Dm",
        "colab_type": "text"
      },
      "source": [
        "Again running a training loop should immediately pick up the training where we left it. To check on that let's simply use the same lists as before to keep track of the loss values. Due to the way we constructed the test counter for the number of training examples seen we manually have to append to it here."
      ]
    },
    {
      "cell_type": "code",
      "metadata": {
        "id": "_uhydGnjpdNP",
        "colab_type": "code",
        "outputId": "31fcc638-4090-4fe3-b78c-04e80bd8ab1c",
        "colab": {
          "base_uri": "https://localhost:8080/",
          "height": 1000
        }
      },
      "source": [
        "# change the range to 11,20 for next run..\n",
        "for i in range(11,50):\n",
        "  valid_counter.append(i*len(train_loader.dataset))\n",
        "  train(i)\n",
        "  valid()"
      ],
      "execution_count": 29,
      "outputs": [
        {
          "output_type": "stream",
          "text": [
            "/usr/local/lib/python3.6/dist-packages/ipykernel_launcher.py:58: UserWarning: Implicit dimension choice for log_softmax has been deprecated. Change the call to include dim=X as an argument.\n"
          ],
          "name": "stderr"
        },
        {
          "output_type": "stream",
          "text": [
            "Train Epoch: 11 [0/16395 (0%)]\tLoss: 1.223330\n",
            "Train Epoch: 11 [3200/16395 (19%)]\tLoss: 1.257095\n",
            "Train Epoch: 11 [6400/16395 (39%)]\tLoss: 0.954348\n",
            "Train Epoch: 11 [9600/16395 (58%)]\tLoss: 1.228190\n",
            "Train Epoch: 11 [12800/16395 (78%)]\tLoss: 0.899025\n",
            "Train Epoch: 11 [16000/16395 (97%)]\tLoss: 0.847650\n",
            "\\Vaild set: Avg. loss: 1.3491, Accuracy: 2162/4103 (53%)\n",
            "\n",
            "Train Epoch: 12 [0/16395 (0%)]\tLoss: 0.999806\n",
            "Train Epoch: 12 [3200/16395 (19%)]\tLoss: 0.988622\n",
            "Train Epoch: 12 [6400/16395 (39%)]\tLoss: 1.047933\n",
            "Train Epoch: 12 [9600/16395 (58%)]\tLoss: 0.924917\n",
            "Train Epoch: 12 [12800/16395 (78%)]\tLoss: 0.893755\n",
            "Train Epoch: 12 [16000/16395 (97%)]\tLoss: 1.205882\n",
            "\\Vaild set: Avg. loss: 1.0331, Accuracy: 2368/4103 (58%)\n",
            "\n",
            "Train Epoch: 13 [0/16395 (0%)]\tLoss: 0.885180\n",
            "Train Epoch: 13 [3200/16395 (19%)]\tLoss: 1.026842\n",
            "Train Epoch: 13 [6400/16395 (39%)]\tLoss: 0.999982\n",
            "Train Epoch: 13 [9600/16395 (58%)]\tLoss: 1.242347\n",
            "Train Epoch: 13 [12800/16395 (78%)]\tLoss: 1.445485\n",
            "Train Epoch: 13 [16000/16395 (97%)]\tLoss: 0.826560\n",
            "\\Vaild set: Avg. loss: 0.9401, Accuracy: 2491/4103 (61%)\n",
            "\n",
            "Train Epoch: 14 [0/16395 (0%)]\tLoss: 1.052557\n",
            "Train Epoch: 14 [3200/16395 (19%)]\tLoss: 0.974028\n",
            "Train Epoch: 14 [6400/16395 (39%)]\tLoss: 0.927938\n",
            "Train Epoch: 14 [9600/16395 (58%)]\tLoss: 1.397477\n",
            "Train Epoch: 14 [12800/16395 (78%)]\tLoss: 0.923391\n",
            "Train Epoch: 14 [16000/16395 (97%)]\tLoss: 1.180353\n",
            "\\Vaild set: Avg. loss: 1.3583, Accuracy: 2159/4103 (53%)\n",
            "\n",
            "Train Epoch: 15 [0/16395 (0%)]\tLoss: 1.112700\n",
            "Train Epoch: 15 [3200/16395 (19%)]\tLoss: 1.073193\n",
            "Train Epoch: 15 [6400/16395 (39%)]\tLoss: 0.768722\n",
            "Train Epoch: 15 [9600/16395 (58%)]\tLoss: 1.274113\n",
            "Train Epoch: 15 [12800/16395 (78%)]\tLoss: 1.210230\n",
            "Train Epoch: 15 [16000/16395 (97%)]\tLoss: 1.259038\n",
            "\\Vaild set: Avg. loss: 0.9306, Accuracy: 2504/4103 (61%)\n",
            "\n",
            "Train Epoch: 16 [0/16395 (0%)]\tLoss: 1.404306\n",
            "Train Epoch: 16 [3200/16395 (19%)]\tLoss: 0.925696\n",
            "Train Epoch: 16 [6400/16395 (39%)]\tLoss: 0.988699\n",
            "Train Epoch: 16 [9600/16395 (58%)]\tLoss: 1.548331\n",
            "Train Epoch: 16 [12800/16395 (78%)]\tLoss: 0.911025\n",
            "Train Epoch: 16 [16000/16395 (97%)]\tLoss: 0.875897\n",
            "\\Vaild set: Avg. loss: 0.9985, Accuracy: 2392/4103 (58%)\n",
            "\n",
            "Train Epoch: 17 [0/16395 (0%)]\tLoss: 1.009170\n",
            "Train Epoch: 17 [3200/16395 (19%)]\tLoss: 0.991056\n",
            "Train Epoch: 17 [6400/16395 (39%)]\tLoss: 0.934339\n",
            "Train Epoch: 17 [9600/16395 (58%)]\tLoss: 1.100292\n",
            "Train Epoch: 17 [12800/16395 (78%)]\tLoss: 0.994173\n",
            "Train Epoch: 17 [16000/16395 (97%)]\tLoss: 1.008097\n",
            "\\Vaild set: Avg. loss: 0.9224, Accuracy: 2532/4103 (62%)\n",
            "\n",
            "Train Epoch: 18 [0/16395 (0%)]\tLoss: 0.983872\n",
            "Train Epoch: 18 [3200/16395 (19%)]\tLoss: 1.147741\n",
            "Train Epoch: 18 [6400/16395 (39%)]\tLoss: 0.813128\n",
            "Train Epoch: 18 [9600/16395 (58%)]\tLoss: 1.148440\n",
            "Train Epoch: 18 [12800/16395 (78%)]\tLoss: 1.002855\n",
            "Train Epoch: 18 [16000/16395 (97%)]\tLoss: 1.438726\n",
            "\\Vaild set: Avg. loss: 0.9983, Accuracy: 2393/4103 (58%)\n",
            "\n",
            "Train Epoch: 19 [0/16395 (0%)]\tLoss: 0.867283\n",
            "Train Epoch: 19 [3200/16395 (19%)]\tLoss: 0.983057\n",
            "Train Epoch: 19 [6400/16395 (39%)]\tLoss: 0.958874\n",
            "Train Epoch: 19 [9600/16395 (58%)]\tLoss: 0.844911\n",
            "Train Epoch: 19 [12800/16395 (78%)]\tLoss: 1.049136\n",
            "Train Epoch: 19 [16000/16395 (97%)]\tLoss: 1.113866\n",
            "\\Vaild set: Avg. loss: 1.1353, Accuracy: 2266/4103 (55%)\n",
            "\n",
            "Train Epoch: 20 [0/16395 (0%)]\tLoss: 0.765303\n",
            "Train Epoch: 20 [3200/16395 (19%)]\tLoss: 0.992001\n",
            "Train Epoch: 20 [6400/16395 (39%)]\tLoss: 1.103456\n",
            "Train Epoch: 20 [9600/16395 (58%)]\tLoss: 1.047548\n",
            "Train Epoch: 20 [12800/16395 (78%)]\tLoss: 0.959176\n",
            "Train Epoch: 20 [16000/16395 (97%)]\tLoss: 0.958400\n",
            "\\Vaild set: Avg. loss: 0.9615, Accuracy: 2464/4103 (60%)\n",
            "\n",
            "Train Epoch: 21 [0/16395 (0%)]\tLoss: 0.942495\n",
            "Train Epoch: 21 [3200/16395 (19%)]\tLoss: 1.075719\n",
            "Train Epoch: 21 [6400/16395 (39%)]\tLoss: 0.754672\n",
            "Train Epoch: 21 [9600/16395 (58%)]\tLoss: 0.808275\n",
            "Train Epoch: 21 [12800/16395 (78%)]\tLoss: 1.077424\n",
            "Train Epoch: 21 [16000/16395 (97%)]\tLoss: 0.970713\n",
            "\\Vaild set: Avg. loss: 0.9782, Accuracy: 2412/4103 (59%)\n",
            "\n",
            "Train Epoch: 22 [0/16395 (0%)]\tLoss: 0.857065\n",
            "Train Epoch: 22 [3200/16395 (19%)]\tLoss: 0.929673\n",
            "Train Epoch: 22 [6400/16395 (39%)]\tLoss: 1.288714\n",
            "Train Epoch: 22 [9600/16395 (58%)]\tLoss: 1.096933\n",
            "Train Epoch: 22 [12800/16395 (78%)]\tLoss: 1.093086\n",
            "Train Epoch: 22 [16000/16395 (97%)]\tLoss: 0.825016\n",
            "\\Vaild set: Avg. loss: 0.8844, Accuracy: 2560/4103 (62%)\n",
            "\n",
            "Train Epoch: 23 [0/16395 (0%)]\tLoss: 0.910919\n",
            "Train Epoch: 23 [3200/16395 (19%)]\tLoss: 0.915492\n",
            "Train Epoch: 23 [6400/16395 (39%)]\tLoss: 1.015573\n",
            "Train Epoch: 23 [9600/16395 (58%)]\tLoss: 0.875100\n",
            "Train Epoch: 23 [12800/16395 (78%)]\tLoss: 0.974741\n",
            "Train Epoch: 23 [16000/16395 (97%)]\tLoss: 0.828762\n",
            "\\Vaild set: Avg. loss: 1.0637, Accuracy: 2344/4103 (57%)\n",
            "\n",
            "Train Epoch: 24 [0/16395 (0%)]\tLoss: 0.940450\n",
            "Train Epoch: 24 [3200/16395 (19%)]\tLoss: 1.059978\n",
            "Train Epoch: 24 [6400/16395 (39%)]\tLoss: 1.097508\n",
            "Train Epoch: 24 [9600/16395 (58%)]\tLoss: 0.969762\n",
            "Train Epoch: 24 [12800/16395 (78%)]\tLoss: 1.072534\n",
            "Train Epoch: 24 [16000/16395 (97%)]\tLoss: 0.919841\n",
            "\\Vaild set: Avg. loss: 0.9777, Accuracy: 2413/4103 (59%)\n",
            "\n",
            "Train Epoch: 25 [0/16395 (0%)]\tLoss: 0.898515\n",
            "Train Epoch: 25 [3200/16395 (19%)]\tLoss: 0.898838\n",
            "Train Epoch: 25 [6400/16395 (39%)]\tLoss: 0.882253\n",
            "Train Epoch: 25 [9600/16395 (58%)]\tLoss: 1.049579\n",
            "Train Epoch: 25 [12800/16395 (78%)]\tLoss: 0.782334\n",
            "Train Epoch: 25 [16000/16395 (97%)]\tLoss: 0.766823\n",
            "\\Vaild set: Avg. loss: 0.9640, Accuracy: 2483/4103 (61%)\n",
            "\n",
            "Train Epoch: 26 [0/16395 (0%)]\tLoss: 0.981914\n",
            "Train Epoch: 26 [3200/16395 (19%)]\tLoss: 0.841371\n",
            "Train Epoch: 26 [6400/16395 (39%)]\tLoss: 0.870439\n",
            "Train Epoch: 26 [9600/16395 (58%)]\tLoss: 0.809600\n",
            "Train Epoch: 26 [12800/16395 (78%)]\tLoss: 0.760864\n",
            "Train Epoch: 26 [16000/16395 (97%)]\tLoss: 1.177699\n",
            "\\Vaild set: Avg. loss: 0.8405, Accuracy: 2669/4103 (65%)\n",
            "\n",
            "Train Epoch: 27 [0/16395 (0%)]\tLoss: 0.872236\n",
            "Train Epoch: 27 [3200/16395 (19%)]\tLoss: 1.080060\n",
            "Train Epoch: 27 [6400/16395 (39%)]\tLoss: 1.099456\n",
            "Train Epoch: 27 [9600/16395 (58%)]\tLoss: 1.213525\n",
            "Train Epoch: 27 [12800/16395 (78%)]\tLoss: 0.997344\n",
            "Train Epoch: 27 [16000/16395 (97%)]\tLoss: 1.006964\n",
            "\\Vaild set: Avg. loss: 0.9547, Accuracy: 2458/4103 (60%)\n",
            "\n",
            "Train Epoch: 28 [0/16395 (0%)]\tLoss: 0.859143\n",
            "Train Epoch: 28 [3200/16395 (19%)]\tLoss: 0.791674\n",
            "Train Epoch: 28 [6400/16395 (39%)]\tLoss: 1.148779\n",
            "Train Epoch: 28 [9600/16395 (58%)]\tLoss: 0.833587\n",
            "Train Epoch: 28 [12800/16395 (78%)]\tLoss: 1.172045\n",
            "Train Epoch: 28 [16000/16395 (97%)]\tLoss: 0.891364\n",
            "\\Vaild set: Avg. loss: 0.8591, Accuracy: 2624/4103 (64%)\n",
            "\n",
            "Train Epoch: 29 [0/16395 (0%)]\tLoss: 0.935851\n",
            "Train Epoch: 29 [3200/16395 (19%)]\tLoss: 0.838524\n",
            "Train Epoch: 29 [6400/16395 (39%)]\tLoss: 1.087404\n",
            "Train Epoch: 29 [9600/16395 (58%)]\tLoss: 0.808713\n",
            "Train Epoch: 29 [12800/16395 (78%)]\tLoss: 0.833315\n",
            "Train Epoch: 29 [16000/16395 (97%)]\tLoss: 1.097737\n",
            "\\Vaild set: Avg. loss: 1.1095, Accuracy: 2309/4103 (56%)\n",
            "\n",
            "Train Epoch: 30 [0/16395 (0%)]\tLoss: 0.761167\n",
            "Train Epoch: 30 [3200/16395 (19%)]\tLoss: 1.132406\n",
            "Train Epoch: 30 [6400/16395 (39%)]\tLoss: 0.942396\n",
            "Train Epoch: 30 [9600/16395 (58%)]\tLoss: 0.851284\n",
            "Train Epoch: 30 [12800/16395 (78%)]\tLoss: 0.966412\n",
            "Train Epoch: 30 [16000/16395 (97%)]\tLoss: 0.897274\n",
            "\\Vaild set: Avg. loss: 0.8903, Accuracy: 2559/4103 (62%)\n",
            "\n",
            "Train Epoch: 31 [0/16395 (0%)]\tLoss: 0.913567\n",
            "Train Epoch: 31 [3200/16395 (19%)]\tLoss: 0.860594\n",
            "Train Epoch: 31 [6400/16395 (39%)]\tLoss: 0.764248\n",
            "Train Epoch: 31 [9600/16395 (58%)]\tLoss: 1.034466\n",
            "Train Epoch: 31 [12800/16395 (78%)]\tLoss: 0.822601\n",
            "Train Epoch: 31 [16000/16395 (97%)]\tLoss: 0.967072\n",
            "\\Vaild set: Avg. loss: 0.8948, Accuracy: 2570/4103 (63%)\n",
            "\n",
            "Train Epoch: 32 [0/16395 (0%)]\tLoss: 1.029445\n",
            "Train Epoch: 32 [3200/16395 (19%)]\tLoss: 1.144626\n",
            "Train Epoch: 32 [6400/16395 (39%)]\tLoss: 0.970455\n",
            "Train Epoch: 32 [9600/16395 (58%)]\tLoss: 0.987581\n",
            "Train Epoch: 32 [12800/16395 (78%)]\tLoss: 0.886101\n",
            "Train Epoch: 32 [16000/16395 (97%)]\tLoss: 0.871709\n",
            "\\Vaild set: Avg. loss: 0.8798, Accuracy: 2566/4103 (63%)\n",
            "\n",
            "Train Epoch: 33 [0/16395 (0%)]\tLoss: 1.152717\n",
            "Train Epoch: 33 [3200/16395 (19%)]\tLoss: 0.912186\n",
            "Train Epoch: 33 [6400/16395 (39%)]\tLoss: 1.055107\n",
            "Train Epoch: 33 [9600/16395 (58%)]\tLoss: 0.749207\n",
            "Train Epoch: 33 [12800/16395 (78%)]\tLoss: 0.818270\n",
            "Train Epoch: 33 [16000/16395 (97%)]\tLoss: 0.924746\n",
            "\\Vaild set: Avg. loss: 0.8837, Accuracy: 2579/4103 (63%)\n",
            "\n",
            "Train Epoch: 34 [0/16395 (0%)]\tLoss: 1.007064\n",
            "Train Epoch: 34 [3200/16395 (19%)]\tLoss: 0.764093\n",
            "Train Epoch: 34 [6400/16395 (39%)]\tLoss: 1.084641\n",
            "Train Epoch: 34 [9600/16395 (58%)]\tLoss: 0.973754\n",
            "Train Epoch: 34 [12800/16395 (78%)]\tLoss: 0.816967\n",
            "Train Epoch: 34 [16000/16395 (97%)]\tLoss: 0.678839\n",
            "\\Vaild set: Avg. loss: 0.8713, Accuracy: 2586/4103 (63%)\n",
            "\n",
            "Train Epoch: 35 [0/16395 (0%)]\tLoss: 0.955213\n",
            "Train Epoch: 35 [3200/16395 (19%)]\tLoss: 0.622104\n",
            "Train Epoch: 35 [6400/16395 (39%)]\tLoss: 0.950750\n",
            "Train Epoch: 35 [9600/16395 (58%)]\tLoss: 0.686660\n",
            "Train Epoch: 35 [12800/16395 (78%)]\tLoss: 0.805791\n",
            "Train Epoch: 35 [16000/16395 (97%)]\tLoss: 0.934821\n",
            "\\Vaild set: Avg. loss: 1.2546, Accuracy: 2307/4103 (56%)\n",
            "\n",
            "Train Epoch: 36 [0/16395 (0%)]\tLoss: 1.174862\n",
            "Train Epoch: 36 [3200/16395 (19%)]\tLoss: 0.897101\n",
            "Train Epoch: 36 [6400/16395 (39%)]\tLoss: 0.849816\n",
            "Train Epoch: 36 [9600/16395 (58%)]\tLoss: 0.759424\n",
            "Train Epoch: 36 [12800/16395 (78%)]\tLoss: 0.905889\n",
            "Train Epoch: 36 [16000/16395 (97%)]\tLoss: 0.789215\n",
            "\\Vaild set: Avg. loss: 0.8868, Accuracy: 2593/4103 (63%)\n",
            "\n",
            "Train Epoch: 37 [0/16395 (0%)]\tLoss: 0.996967\n",
            "Train Epoch: 37 [3200/16395 (19%)]\tLoss: 0.766162\n",
            "Train Epoch: 37 [6400/16395 (39%)]\tLoss: 0.950355\n",
            "Train Epoch: 37 [9600/16395 (58%)]\tLoss: 0.740509\n",
            "Train Epoch: 37 [12800/16395 (78%)]\tLoss: 0.994945\n",
            "Train Epoch: 37 [16000/16395 (97%)]\tLoss: 0.787910\n",
            "\\Vaild set: Avg. loss: 0.9047, Accuracy: 2530/4103 (62%)\n",
            "\n",
            "Train Epoch: 38 [0/16395 (0%)]\tLoss: 1.060385\n",
            "Train Epoch: 38 [3200/16395 (19%)]\tLoss: 1.017134\n",
            "Train Epoch: 38 [6400/16395 (39%)]\tLoss: 0.741252\n",
            "Train Epoch: 38 [9600/16395 (58%)]\tLoss: 0.866134\n",
            "Train Epoch: 38 [12800/16395 (78%)]\tLoss: 0.846082\n",
            "Train Epoch: 38 [16000/16395 (97%)]\tLoss: 0.900237\n",
            "\\Vaild set: Avg. loss: 0.9181, Accuracy: 2502/4103 (61%)\n",
            "\n",
            "Train Epoch: 39 [0/16395 (0%)]\tLoss: 0.761069\n",
            "Train Epoch: 39 [3200/16395 (19%)]\tLoss: 0.790057\n",
            "Train Epoch: 39 [6400/16395 (39%)]\tLoss: 0.787126\n",
            "Train Epoch: 39 [9600/16395 (58%)]\tLoss: 0.907778\n",
            "Train Epoch: 39 [12800/16395 (78%)]\tLoss: 0.806589\n",
            "Train Epoch: 39 [16000/16395 (97%)]\tLoss: 0.928214\n",
            "\\Vaild set: Avg. loss: 0.8650, Accuracy: 2623/4103 (64%)\n",
            "\n",
            "Train Epoch: 40 [0/16395 (0%)]\tLoss: 0.959847\n",
            "Train Epoch: 40 [3200/16395 (19%)]\tLoss: 0.904039\n",
            "Train Epoch: 40 [6400/16395 (39%)]\tLoss: 1.087032\n",
            "Train Epoch: 40 [9600/16395 (58%)]\tLoss: 1.048923\n",
            "Train Epoch: 40 [12800/16395 (78%)]\tLoss: 0.850902\n",
            "Train Epoch: 40 [16000/16395 (97%)]\tLoss: 0.946020\n",
            "\\Vaild set: Avg. loss: 0.9075, Accuracy: 2511/4103 (61%)\n",
            "\n",
            "Train Epoch: 41 [0/16395 (0%)]\tLoss: 0.992033\n",
            "Train Epoch: 41 [3200/16395 (19%)]\tLoss: 0.950832\n",
            "Train Epoch: 41 [6400/16395 (39%)]\tLoss: 1.041917\n",
            "Train Epoch: 41 [9600/16395 (58%)]\tLoss: 1.037800\n",
            "Train Epoch: 41 [12800/16395 (78%)]\tLoss: 0.661124\n",
            "Train Epoch: 41 [16000/16395 (97%)]\tLoss: 0.789122\n",
            "\\Vaild set: Avg. loss: 0.9164, Accuracy: 2518/4103 (61%)\n",
            "\n",
            "Train Epoch: 42 [0/16395 (0%)]\tLoss: 0.952232\n",
            "Train Epoch: 42 [3200/16395 (19%)]\tLoss: 0.990666\n",
            "Train Epoch: 42 [6400/16395 (39%)]\tLoss: 0.911460\n",
            "Train Epoch: 42 [9600/16395 (58%)]\tLoss: 1.085750\n",
            "Train Epoch: 42 [12800/16395 (78%)]\tLoss: 1.163190\n",
            "Train Epoch: 42 [16000/16395 (97%)]\tLoss: 0.754058\n",
            "\\Vaild set: Avg. loss: 0.9315, Accuracy: 2511/4103 (61%)\n",
            "\n",
            "Train Epoch: 43 [0/16395 (0%)]\tLoss: 1.119966\n",
            "Train Epoch: 43 [3200/16395 (19%)]\tLoss: 1.198181\n",
            "Train Epoch: 43 [6400/16395 (39%)]\tLoss: 0.938665\n",
            "Train Epoch: 43 [9600/16395 (58%)]\tLoss: 0.882056\n",
            "Train Epoch: 43 [12800/16395 (78%)]\tLoss: 1.074159\n",
            "Train Epoch: 43 [16000/16395 (97%)]\tLoss: 0.945450\n",
            "\\Vaild set: Avg. loss: 0.8054, Accuracy: 2719/4103 (66%)\n",
            "\n",
            "Train Epoch: 44 [0/16395 (0%)]\tLoss: 0.859245\n",
            "Train Epoch: 44 [3200/16395 (19%)]\tLoss: 0.743867\n",
            "Train Epoch: 44 [6400/16395 (39%)]\tLoss: 0.832649\n",
            "Train Epoch: 44 [9600/16395 (58%)]\tLoss: 0.911947\n",
            "Train Epoch: 44 [12800/16395 (78%)]\tLoss: 0.978241\n",
            "Train Epoch: 44 [16000/16395 (97%)]\tLoss: 0.775389\n",
            "\\Vaild set: Avg. loss: 0.8780, Accuracy: 2558/4103 (62%)\n",
            "\n",
            "Train Epoch: 45 [0/16395 (0%)]\tLoss: 0.885591\n",
            "Train Epoch: 45 [3200/16395 (19%)]\tLoss: 0.851483\n",
            "Train Epoch: 45 [6400/16395 (39%)]\tLoss: 0.825723\n",
            "Train Epoch: 45 [9600/16395 (58%)]\tLoss: 0.752731\n",
            "Train Epoch: 45 [12800/16395 (78%)]\tLoss: 0.966908\n",
            "Train Epoch: 45 [16000/16395 (97%)]\tLoss: 0.951554\n",
            "\\Vaild set: Avg. loss: 0.8270, Accuracy: 2665/4103 (65%)\n",
            "\n",
            "Train Epoch: 46 [0/16395 (0%)]\tLoss: 0.925467\n",
            "Train Epoch: 46 [3200/16395 (19%)]\tLoss: 0.961048\n",
            "Train Epoch: 46 [6400/16395 (39%)]\tLoss: 1.024336\n",
            "Train Epoch: 46 [9600/16395 (58%)]\tLoss: 1.005384\n",
            "Train Epoch: 46 [12800/16395 (78%)]\tLoss: 0.875514\n",
            "Train Epoch: 46 [16000/16395 (97%)]\tLoss: 1.002781\n",
            "\\Vaild set: Avg. loss: 0.8756, Accuracy: 2586/4103 (63%)\n",
            "\n",
            "Train Epoch: 47 [0/16395 (0%)]\tLoss: 0.779961\n",
            "Train Epoch: 47 [3200/16395 (19%)]\tLoss: 0.917840\n",
            "Train Epoch: 47 [6400/16395 (39%)]\tLoss: 0.932630\n",
            "Train Epoch: 47 [9600/16395 (58%)]\tLoss: 0.812168\n",
            "Train Epoch: 47 [12800/16395 (78%)]\tLoss: 0.903718\n",
            "Train Epoch: 47 [16000/16395 (97%)]\tLoss: 1.284762\n",
            "\\Vaild set: Avg. loss: 1.0091, Accuracy: 2409/4103 (59%)\n",
            "\n",
            "Train Epoch: 48 [0/16395 (0%)]\tLoss: 0.931239\n",
            "Train Epoch: 48 [3200/16395 (19%)]\tLoss: 0.950756\n",
            "Train Epoch: 48 [6400/16395 (39%)]\tLoss: 0.828847\n",
            "Train Epoch: 48 [9600/16395 (58%)]\tLoss: 0.898291\n",
            "Train Epoch: 48 [12800/16395 (78%)]\tLoss: 0.919036\n",
            "Train Epoch: 48 [16000/16395 (97%)]\tLoss: 0.872105\n",
            "\\Vaild set: Avg. loss: 0.7989, Accuracy: 2715/4103 (66%)\n",
            "\n",
            "Train Epoch: 49 [0/16395 (0%)]\tLoss: 1.102261\n",
            "Train Epoch: 49 [3200/16395 (19%)]\tLoss: 1.031284\n",
            "Train Epoch: 49 [6400/16395 (39%)]\tLoss: 0.887131\n",
            "Train Epoch: 49 [9600/16395 (58%)]\tLoss: 1.122540\n",
            "Train Epoch: 49 [12800/16395 (78%)]\tLoss: 0.875099\n",
            "Train Epoch: 49 [16000/16395 (97%)]\tLoss: 0.779000\n",
            "\\Vaild set: Avg. loss: 0.8018, Accuracy: 2708/4103 (66%)\n",
            "\n"
          ],
          "name": "stdout"
        }
      ]
    },
    {
      "cell_type": "markdown",
      "metadata": {
        "id": "veMHKm7Qq43f",
        "colab_type": "text"
      },
      "source": [
        "Great! We again see a (much slower) increase in test set accuracy from epoch to epoch. Let's visualize this to further inspect the training progress."
      ]
    },
    {
      "cell_type": "code",
      "metadata": {
        "id": "7AAvgZuupfsf",
        "colab_type": "code",
        "outputId": "3f22d9b4-8f71-439a-81c2-b6e77456f8ad",
        "colab": {
          "base_uri": "https://localhost:8080/",
          "height": 351
        }
      },
      "source": [
        "fig = plt.figure(figsize=(12,5))\n",
        "plt.plot(train_counter, train_losses, color='blue')\n",
        "plt.scatter(valid_counter, valid_losses, color='red')\n",
        "plt.legend(['Train Loss', 'Valid Loss'], loc='upper right')\n",
        "plt.xlabel('number of training examples seen')\n",
        "plt.ylabel('negative log likelihood loss')"
      ],
      "execution_count": 30,
      "outputs": [
        {
          "output_type": "execute_result",
          "data": {
            "text/plain": [
              "Text(0, 0.5, 'negative log likelihood loss')"
            ]
          },
          "metadata": {
            "tags": []
          },
          "execution_count": 30
        },
        {
          "output_type": "display_data",
          "data": {
            "image/png": "[encoded data removed]",
            "text/plain": [
              "<Figure size 864x360 with 1 Axes>"
            ]
          },
          "metadata": {
            "tags": []
          }
        }
      ]
    },
    {
      "cell_type": "markdown",
      "metadata": {
        "id": "2YpkFKKfqzbg",
        "colab_type": "text"
      },
      "source": [
        "That still looks like a rather smooth learning curve just as if we initially would've trained for 8 epochs! Remember that we just appended values to the same lists starting from the 5th red dot onward.\n",
        "\n",
        "From this we can conclue two things:\n",
        "\n",
        "1. Continuing from the checkpointed internal state worked as intended.\n",
        "\n",
        "2. We still don't seem to run into overfitting issues! It looks like our dropout layers did a good job regularizing the model.\n",
        "\n",
        "In summary we built a new environment with PyTorch and TorchVision, used it to classifiy handwritten digits from the MNIST dataset and hopefully developed a good intuition using PyTorch. For further information the official PyTorch documentation is really nicely written and the forums are also quite active!"
      ]
    },
    {
      "cell_type": "markdown",
      "metadata": {
        "id": "G-tPut9SKeBO",
        "colab_type": "text"
      },
      "source": [
        "## Confusion Matrix"
      ]
    },
    {
      "cell_type": "code",
      "metadata": {
        "id": "p6D86dpuKKcI",
        "colab_type": "code",
        "outputId": "906b92e2-6a45-4392-c87c-55a1da8335ce",
        "colab": {
          "base_uri": "https://localhost:8080/",
          "height": 55
        }
      },
      "source": [
        "network.eval()\n",
        "\n",
        "with torch.no_grad():\n",
        "  for data, target in test_loader:\n",
        "    output = network(data)\n",
        "    pred = output.data.max(1, keepdim=True)[1]"
      ],
      "execution_count": 32,
      "outputs": [
        {
          "output_type": "stream",
          "text": [
            "/usr/local/lib/python3.6/dist-packages/ipykernel_launcher.py:58: UserWarning: Implicit dimension choice for log_softmax has been deprecated. Change the call to include dim=X as an argument.\n"
          ],
          "name": "stderr"
        }
      ]
    },
    {
      "cell_type": "code",
      "metadata": {
        "id": "Z9N0XHetKsvx",
        "colab_type": "code",
        "colab": {}
      },
      "source": [
        "pred = pred.numpy().reshape(-1)"
      ],
      "execution_count": 0,
      "outputs": []
    },
    {
      "cell_type": "code",
      "metadata": {
        "id": "wEbqaywXKvBm",
        "colab_type": "code",
        "outputId": "91f8820f-4f11-4b2d-8fb9-c1a318362569",
        "colab": {
          "base_uri": "https://localhost:8080/",
          "height": 35
        }
      },
      "source": [
        "pred.shape"
      ],
      "execution_count": 34,
      "outputs": [
        {
          "output_type": "execute_result",
          "data": {
            "text/plain": [
              "(3655,)"
            ]
          },
          "metadata": {
            "tags": []
          },
          "execution_count": 34
        }
      ]
    },
    {
      "cell_type": "code",
      "metadata": {
        "id": "pyOcRfmiK0JP",
        "colab_type": "code",
        "colab": {}
      },
      "source": [
        "target = target.numpy()"
      ],
      "execution_count": 0,
      "outputs": []
    },
    {
      "cell_type": "code",
      "metadata": {
        "id": "WeMlJnSkLGgg",
        "colab_type": "code",
        "colab": {}
      },
      "source": [
        "from pandas import DataFrame as df\n",
        "from sklearn.metrics import confusion_matrix"
      ],
      "execution_count": 0,
      "outputs": []
    },
    {
      "cell_type": "code",
      "metadata": {
        "id": "LqbzrQkiLlRB",
        "colab_type": "code",
        "colab": {}
      },
      "source": [
        "cm = confusion_matrix(target, pred)"
      ],
      "execution_count": 0,
      "outputs": []
    },
    {
      "cell_type": "code",
      "metadata": {
        "id": "N1yRe92bNLvz",
        "colab_type": "code",
        "colab": {}
      },
      "source": [
        "vals = [i+1 for i in range(8)]"
      ],
      "execution_count": 0,
      "outputs": []
    },
    {
      "cell_type": "code",
      "metadata": {
        "id": "OlzaEPKrNWlb",
        "colab_type": "code",
        "outputId": "08494363-0cbd-43ed-e498-4a252b93e2e1",
        "colab": {
          "base_uri": "https://localhost:8080/",
          "height": 288
        }
      },
      "source": [
        "df2 = df(cm, vals, vals)\n",
        "df2"
      ],
      "execution_count": 39,
      "outputs": [
        {
          "output_type": "execute_result",
          "data": {
            "text/html": [
              "<div>\n",
              "<style scoped>\n",
              "    .dataframe tbody tr th:only-of-type {\n",
              "        vertical-align: middle;\n",
              "    }\n",
              "\n",
              "    .dataframe tbody tr th {\n",
              "        vertical-align: top;\n",
              "    }\n",
              "\n",
              "    .dataframe thead th {\n",
              "        text-align: right;\n",
              "    }\n",
              "</style>\n",
              "<table border=\"1\" class=\"dataframe\">\n",
              "  <thead>\n",
              "    <tr style=\"text-align: right;\">\n",
              "      <th></th>\n",
              "      <th>1</th>\n",
              "      <th>2</th>\n",
              "      <th>3</th>\n",
              "      <th>4</th>\n",
              "      <th>5</th>\n",
              "      <th>6</th>\n",
              "      <th>7</th>\n",
              "      <th>8</th>\n",
              "    </tr>\n",
              "  </thead>\n",
              "  <tbody>\n",
              "    <tr>\n",
              "      <th>1</th>\n",
              "      <td>0</td>\n",
              "      <td>80</td>\n",
              "      <td>0</td>\n",
              "      <td>0</td>\n",
              "      <td>0</td>\n",
              "      <td>75</td>\n",
              "      <td>0</td>\n",
              "      <td>0</td>\n",
              "    </tr>\n",
              "    <tr>\n",
              "      <th>2</th>\n",
              "      <td>0</td>\n",
              "      <td>84</td>\n",
              "      <td>0</td>\n",
              "      <td>0</td>\n",
              "      <td>0</td>\n",
              "      <td>177</td>\n",
              "      <td>0</td>\n",
              "      <td>0</td>\n",
              "    </tr>\n",
              "    <tr>\n",
              "      <th>3</th>\n",
              "      <td>0</td>\n",
              "      <td>10</td>\n",
              "      <td>948</td>\n",
              "      <td>0</td>\n",
              "      <td>0</td>\n",
              "      <td>3</td>\n",
              "      <td>0</td>\n",
              "      <td>2</td>\n",
              "    </tr>\n",
              "    <tr>\n",
              "      <th>4</th>\n",
              "      <td>0</td>\n",
              "      <td>0</td>\n",
              "      <td>469</td>\n",
              "      <td>0</td>\n",
              "      <td>0</td>\n",
              "      <td>2</td>\n",
              "      <td>0</td>\n",
              "      <td>0</td>\n",
              "    </tr>\n",
              "    <tr>\n",
              "      <th>5</th>\n",
              "      <td>0</td>\n",
              "      <td>58</td>\n",
              "      <td>42</td>\n",
              "      <td>0</td>\n",
              "      <td>0</td>\n",
              "      <td>41</td>\n",
              "      <td>0</td>\n",
              "      <td>0</td>\n",
              "    </tr>\n",
              "    <tr>\n",
              "      <th>6</th>\n",
              "      <td>0</td>\n",
              "      <td>7</td>\n",
              "      <td>88</td>\n",
              "      <td>0</td>\n",
              "      <td>0</td>\n",
              "      <td>110</td>\n",
              "      <td>0</td>\n",
              "      <td>0</td>\n",
              "    </tr>\n",
              "    <tr>\n",
              "      <th>7</th>\n",
              "      <td>3</td>\n",
              "      <td>15</td>\n",
              "      <td>14</td>\n",
              "      <td>0</td>\n",
              "      <td>0</td>\n",
              "      <td>20</td>\n",
              "      <td>26</td>\n",
              "      <td>5</td>\n",
              "    </tr>\n",
              "    <tr>\n",
              "      <th>8</th>\n",
              "      <td>0</td>\n",
              "      <td>13</td>\n",
              "      <td>0</td>\n",
              "      <td>0</td>\n",
              "      <td>0</td>\n",
              "      <td>0</td>\n",
              "      <td>8</td>\n",
              "      <td>1355</td>\n",
              "    </tr>\n",
              "  </tbody>\n",
              "</table>\n",
              "</div>"
            ],
            "text/plain": [
              "   1   2    3  4  5    6   7     8\n",
              "1  0  80    0  0  0   75   0     0\n",
              "2  0  84    0  0  0  177   0     0\n",
              "3  0  10  948  0  0    3   0     2\n",
              "4  0   0  469  0  0    2   0     0\n",
              "5  0  58   42  0  0   41   0     0\n",
              "6  0   7   88  0  0  110   0     0\n",
              "7  3  15   14  0  0   20  26     5\n",
              "8  0  13    0  0  0    0   8  1355"
            ]
          },
          "metadata": {
            "tags": []
          },
          "execution_count": 39
        }
      ]
    },
    {
      "cell_type": "code",
      "metadata": {
        "id": "gzgrPZNAJzbW",
        "colab_type": "code",
        "colab": {}
      },
      "source": [
        "from sklearn.metrics import balanced_accuracy_score, accuracy_score"
      ],
      "execution_count": 0,
      "outputs": []
    },
    {
      "cell_type": "code",
      "metadata": {
        "id": "TbSXgcT-J556",
        "colab_type": "code",
        "colab": {
          "base_uri": "https://localhost:8080/",
          "height": 35
        },
        "outputId": "05243daf-b2f5-4eb2-ed73-b762248cf7a7"
      },
      "source": [
        "# added balanced accuracy score in evaluation\n",
        "balanced_accuracy_score(target, pred)"
      ],
      "execution_count": 41,
      "outputs": [
        {
          "output_type": "execute_result",
          "data": {
            "text/plain": [
              "0.3926049383083882"
            ]
          },
          "metadata": {
            "tags": []
          },
          "execution_count": 41
        }
      ]
    },
    {
      "cell_type": "code",
      "metadata": {
        "id": "RekTw6X0Na3d",
        "colab_type": "code",
        "colab": {
          "base_uri": "https://localhost:8080/",
          "height": 35
        },
        "outputId": "47fbdc65-ad2c-4dd7-806a-0785906584f8"
      },
      "source": [
        "accuracy_score(target, pred)"
      ],
      "execution_count": 42,
      "outputs": [
        {
          "output_type": "execute_result",
          "data": {
            "text/plain": [
              "0.6902872777017783"
            ]
          },
          "metadata": {
            "tags": []
          },
          "execution_count": 42
        }
      ]
    },
    {
      "cell_type": "code",
      "metadata": {
        "id": "uepyRYXVNtqD",
        "colab_type": "code",
        "colab": {}
      },
      "source": [
        "def value_counts(x):\n",
        "  unique, counts = np.unique(x, return_counts=True)\n",
        "  print(np.asarray((unique, counts)).T)"
      ],
      "execution_count": 0,
      "outputs": []
    },
    {
      "cell_type": "code",
      "metadata": {
        "id": "P9mSxE54NqES",
        "colab_type": "code",
        "outputId": "7bd9ce97-8f5f-41f2-d2a1-6b8157af1b36",
        "colab": {
          "base_uri": "https://localhost:8080/",
          "height": 155
        }
      },
      "source": [
        "value_counts(target)"
      ],
      "execution_count": 44,
      "outputs": [
        {
          "output_type": "stream",
          "text": [
            "[[   0  155]\n",
            " [   1  261]\n",
            " [   2  963]\n",
            " [   3  471]\n",
            " [   4  141]\n",
            " [   5  205]\n",
            " [   6   83]\n",
            " [   7 1376]]\n"
          ],
          "name": "stdout"
        }
      ]
    },
    {
      "cell_type": "code",
      "metadata": {
        "id": "TeYdTBBMNr9s",
        "colab_type": "code",
        "outputId": "d0b9246e-6dc7-47f3-d291-2411f2825f8f",
        "colab": {
          "base_uri": "https://localhost:8080/",
          "height": 121
        }
      },
      "source": [
        "value_counts(pred)"
      ],
      "execution_count": 45,
      "outputs": [
        {
          "output_type": "stream",
          "text": [
            "[[   0    3]\n",
            " [   1  267]\n",
            " [   2 1561]\n",
            " [   5  428]\n",
            " [   6   34]\n",
            " [   7 1362]]\n"
          ],
          "name": "stdout"
        }
      ]
    },
    {
      "cell_type": "markdown",
      "metadata": {
        "id": "rqBgoAueWycl",
        "colab_type": "text"
      },
      "source": [
        "## Visualise Activations & GradCAM"
      ]
    },
    {
      "cell_type": "code",
      "metadata": {
        "id": "NutwEk1WXHTg",
        "colab_type": "code",
        "colab": {}
      },
      "source": [
        "# from torch.utils.tensorboard import SummaryWriter\n",
        "# import numpy as np\n",
        "\n",
        "# writer = SummaryWriter()\n",
        "\n",
        "# writer.add_pr_curve('pr_curve', target, pred, 0)\n",
        "# writer.close()"
      ],
      "execution_count": 0,
      "outputs": []
    },
    {
      "cell_type": "code",
      "metadata": {
        "id": "G25amWNgYf28",
        "colab_type": "code",
        "outputId": "1ff002f8-4c15-4882-a150-af5b2c96c178",
        "colab": {
          "base_uri": "https://localhost:8080/",
          "height": 89
        }
      },
      "source": [
        "# ! zip -r -X runs.zip runs"
      ],
      "execution_count": 0,
      "outputs": [
        {
          "output_type": "stream",
          "text": [
            "  adding: runs/ (stored 0%)\n",
            "  adding: runs/Nov24_07-48-13_6abaa22567ef/ (stored 0%)\n",
            "  adding: runs/Nov24_07-48-13_6abaa22567ef/events.out.tfevents.1574581693.6abaa22567ef.123.5 (deflated 5%)\n"
          ],
          "name": "stdout"
        }
      ]
    },
    {
      "cell_type": "code",
      "metadata": {
        "id": "oLLga_0SZseH",
        "colab_type": "code",
        "colab": {}
      },
      "source": [
        "# https://pytorch.org/docs/stable/tensorboard.html\n",
        "# %load_ext tensorboard\n",
        "# %tensorboard --logdir \"$runs\""
      ],
      "execution_count": 0,
      "outputs": []
    },
    {
      "cell_type": "code",
      "metadata": {
        "id": "_8VNi_mE6oUw",
        "colab_type": "code",
        "colab": {}
      },
      "source": [
        "# http://snappishproductions.com/blog/2018/01/03/class-activation-mapping-in-pytorch.html\n",
        "# https://github.com/utkuozbulak/pytorch-cnn-visualizations/blob/master/src/gradcam.py\n",
        "\n"
      ],
      "execution_count": 0,
      "outputs": []
    },
    {
      "cell_type": "code",
      "metadata": {
        "id": "rWSCi7UPJOg_",
        "colab_type": "code",
        "colab": {}
      },
      "source": [
        "# https://pytorch.org/docs/stable/_modules/torch/optim/lr_scheduler.html"
      ],
      "execution_count": 0,
      "outputs": []
    }
  ]
}