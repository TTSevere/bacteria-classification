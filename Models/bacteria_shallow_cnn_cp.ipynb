{
  "nbformat": 4,
  "nbformat_minor": 0,
  "metadata": {
    "colab": {
      "name": "bacteria_shallow_cnn.ipynb",
      "provenance": [],
      "toc_visible": true
    },
    "kernelspec": {
      "name": "python3",
      "display_name": "Python 3"
    }
  },
  "cells": [
    {
      "cell_type": "markdown",
      "metadata": {
        "id": "QoRNDsO6tgOB",
        "colab_type": "text"
      },
      "source": [
        "# Shallow Convolutional Neural Network - V2\n",
        "\n",
        "This is just a quick experiment based off Akhil Punia's notebook. I changed the \n",
        "size of the convolutional layers to test if the performance on the validation set would improve all else being equal.\n",
        "\n",
        "\n"
      ]
    },
    {
      "cell_type": "markdown",
      "metadata": {
        "id": "MnCrERbQtrvG",
        "colab_type": "text"
      },
      "source": [
        "\n",
        "## Setting up the Environment\n"
      ]
    },
    {
      "cell_type": "code",
      "metadata": {
        "id": "eBYv15xvlOR_",
        "colab_type": "code",
        "colab": {}
      },
      "source": [
        "import torch\n",
        "import torchvision\n",
        "\n",
        "import numpy as np \n",
        "from torchvision import transforms, datasets"
      ],
      "execution_count": 0,
      "outputs": []
    },
    {
      "cell_type": "markdown",
      "metadata": {
        "id": "soHVzYt_t0NB",
        "colab_type": "text"
      },
      "source": [
        "## Preparing the Dataset\n"
      ]
    },
    {
      "cell_type": "code",
      "metadata": {
        "id": "mdbTZ-pmoXUs",
        "colab_type": "code",
        "colab": {}
      },
      "source": [
        "! wget -q https://storage.googleapis.com/capstone-fs7/img_patches_128_c8.zip\n",
        "! unzip -q '/content/img_patches_128_c7.zip' "
      ],
      "execution_count": 0,
      "outputs": []
    },
    {
      "cell_type": "code",
      "metadata": {
        "id": "HnQYLhjAlPPM",
        "colab_type": "code",
        "outputId": "f3a4e79a-a156-4ec6-95ca-3c5a442b4717",
        "colab": {
          "base_uri": "https://localhost:8080/",
          "height": 34
        }
      },
      "source": [
        "n_epochs = 10\n",
        "# learning_rate = 0.01\n",
        "# momentum = 0.5\n",
        "log_interval = 20\n",
        "\n",
        "data_dir='/content/img_patches_128_c7'\n",
        "train_dir = data_dir + '/Serial'\n",
        "val_dir = data_dir + '/Control'\n",
        "\n",
        "batch_size_train = 64\n",
        "batch_size_val = 64\n",
        "#batch_size_test = 867\n",
        "\n",
        "random_seed = 1\n",
        "torch.backends.cudnn.enabled = False\n",
        "torch.manual_seed(random_seed)"
      ],
      "execution_count": 16,
      "outputs": [
        {
          "output_type": "execute_result",
          "data": {
            "text/plain": [
              "<torch._C.Generator at 0x7f885fea2330>"
            ]
          },
          "metadata": {
            "tags": []
          },
          "execution_count": 16
        }
      ]
    },
    {
      "cell_type": "markdown",
      "metadata": {
        "id": "Aix4dYObt5cf",
        "colab_type": "text"
      },
      "source": [
        "For repeatable experiments we have to set random seeds for anything using random number generation - this means `numpy` and `random` as well! It's also worth mentioning that cuDNN uses nondeterministic algorithms which can be disabled setting `torch.backends.cudnn.enabled = False`.\n"
      ]
    },
    {
      "cell_type": "code",
      "metadata": {
        "id": "r-FKjL_dcIoV",
        "colab_type": "code",
        "colab": {}
      },
      "source": [
        "# scale the image down by it's global mean and std. deviation\n",
        "# https://discuss.pytorch.org/t/about-normalization-using-pre-trained-vgg16-networks/23560/6\n",
        "\n",
        "dataset = datasets.ImageFolder(train_dir, transform=transforms.Compose([transforms.ToTensor()]))\n",
        "\n",
        "loader = torch.utils.data.DataLoader(dataset,\n",
        "                                     batch_size=4764,\n",
        "                                     num_workers=1,\n",
        "                                     shuffle=False)\n",
        "\n",
        "mean = 0.\n",
        "std = 0.\n",
        "\n",
        "nb_samples = 0.\n",
        "for data, target in loader:\n",
        "\n",
        "  batch_samples = data.size(0)\n",
        "  data = data.view(batch_samples, data.size(1), -1)\n",
        "  mean += data.mean(2).sum(0)\n",
        "  std += data.std(2).sum(0)\n",
        "  nb_samples += batch_samples\n",
        "\n",
        "mean /= nb_samples\n",
        "std /= nb_samples"
      ],
      "execution_count": 0,
      "outputs": []
    },
    {
      "cell_type": "code",
      "metadata": {
        "id": "jCTZzOjBkdC4",
        "colab_type": "code",
        "outputId": "94356f11-ab54-4d66-ffe6-853c1d21f91f",
        "colab": {
          "base_uri": "https://localhost:8080/",
          "height": 85
        }
      },
      "source": [
        "print('Mean: ', mean,'\\n')\n",
        "print('Std. Dev.: ', std,'\\n')"
      ],
      "execution_count": 18,
      "outputs": [
        {
          "output_type": "stream",
          "text": [
            "Mean:  tensor([0.6453, 0.6027, 0.5345]) \n",
            "\n",
            "Std. Dev.:  tensor([0.1899, 0.2030, 0.2196]) \n",
            "\n"
          ],
          "name": "stdout"
        }
      ]
    },
    {
      "cell_type": "markdown",
      "metadata": {
        "id": "h8O3g_DsAPWi",
        "colab_type": "text"
      },
      "source": [
        "Now we'll also need DataLoaders for the dataset. This is where TorchVision comes into play. It let's use load the dataset in a handy way. We'll use a `batch_size` of 64 for **training** and size `867` for **testing** on this dataset. \n",
        "\n",
        "The values `[0.6453, 0.6027, 0.5345]` and `[0.1899, 0.2030, 0.2196]` used for the `Normalize()` transformation below are the global mean and standard deviation of the dataset, we'll take them as a given here.\n",
        "\n",
        "TorchVision offers a lot of handy transformations, such as cropping or normalization."
      ]
    },
    {
      "cell_type": "code",
      "metadata": {
        "id": "AiCKXU5MlYZZ",
        "colab_type": "code",
        "colab": {}
      },
      "source": [
        "# 2.1 Define transforms for the training, validation, and testing sets\n",
        "\n",
        "train_transforms = transforms.Compose([#transforms.RandomHorizontalFlip(),\n",
        "                                       transforms.ToTensor(),\n",
        "                                       transforms.Normalize([0.6453, 0.6027, 0.5345],\n",
        "                                                            [0.1899, 0.2030, 0.2196])])\n",
        "\n",
        "val_transforms = transforms.Compose([transforms.ToTensor(),\n",
        "                                        transforms.Normalize((0.2907, 0.2054, 0.0691), \n",
        "                                                             (0.3798, 0.4060, 0.4392))])\n",
        "\n",
        "#test_transforms  = transforms.Compose([transforms.ToTensor(),\n",
        "#                                       transforms.Normalize([0.6453, 0.6027, 0.5345],\n",
        "#                                                            [0.1899, 0.2030, 0.2196])])\n",
        "\n",
        "# 2.2 Load the datasets with ImageFolder\n",
        "\n",
        "train_dataset = datasets.ImageFolder(train_dir, \n",
        "                                     transform=train_transforms)\n",
        "\n",
        "val_dataset = datasets.ImageFolder(val_dir, \n",
        "                                   transform=val_transforms)\n",
        "\n",
        "#test_dataset  = datasets.ImageFolder(test_dir, \n",
        "#                                     transform=test_transforms)\n",
        "\n",
        "# 2.3 Using the image datasets and the transforms, define the dataloaders\n",
        "\n",
        "train_loader = torch.utils.data.DataLoader(train_dataset, \n",
        "                                           batch_size=batch_size_train, \n",
        "                                           shuffle=True)\n",
        "\n",
        "val_loader = torch.utils.data.DataLoader(val_dataset, \n",
        "                                           batch_size=batch_size_val)\n",
        "\n",
        "#test_loader  = torch.utils.data.DataLoader(test_dataset, \n",
        "#                                           batch_size=batch_size_test,\n",
        "#                                           shuffle=True)"
      ],
      "execution_count": 0,
      "outputs": []
    },
    {
      "cell_type": "code",
      "metadata": {
        "id": "v1PfDOkljSVV",
        "colab_type": "code",
        "colab": {}
      },
      "source": [
        "# train_dataset : 4764\n",
        "# val_dataset : 8108\n",
        "# test_dataset : 867"
      ],
      "execution_count": 0,
      "outputs": []
    },
    {
      "cell_type": "markdown",
      "metadata": {
        "id": "0LAzrs5XuQ3D",
        "colab_type": "text"
      },
      "source": [
        "PyTorch's `DataLoader` contain a few interesting options other than the dataset and batch size. For example we could use `num_workers > 1` to use subprocesses to asynchronously load data or using pinned RAM (via `pin_memory`) to speed up RAM to GPU transfers. But since these mostly matter when we're using a GPU we can omit them here.\n",
        "\n",
        "Now let's take a look at some examples. We'll use the `val_loader` for this."
      ]
    },
    {
      "cell_type": "code",
      "metadata": {
        "id": "c0lfXsovl778",
        "colab_type": "code",
        "colab": {}
      },
      "source": [
        "examples = enumerate(val_loader)\n",
        "batch_idx, (example_data, example_targets) = next(examples)"
      ],
      "execution_count": 0,
      "outputs": []
    },
    {
      "cell_type": "markdown",
      "metadata": {
        "id": "4cxEQ15OuYiN",
        "colab_type": "text"
      },
      "source": [
        "Ok let's see what one test data batch consists of."
      ]
    },
    {
      "cell_type": "code",
      "metadata": {
        "id": "oZZypOoemEjY",
        "colab_type": "code",
        "outputId": "932d2a5d-ead5-48a6-d8b3-0d975d23840e",
        "colab": {
          "base_uri": "https://localhost:8080/",
          "height": 34
        }
      },
      "source": [
        "example_data.shape"
      ],
      "execution_count": 21,
      "outputs": [
        {
          "output_type": "execute_result",
          "data": {
            "text/plain": [
              "torch.Size([64, 3, 128, 128])"
            ]
          },
          "metadata": {
            "tags": []
          },
          "execution_count": 21
        }
      ]
    },
    {
      "cell_type": "code",
      "metadata": {
        "id": "zhF_IHLYsA0v",
        "colab_type": "code",
        "colab": {}
      },
      "source": [
        "# https://discuss.pytorch.org/t/simple-way-to-inverse-transform-normalization/4821/3\n",
        "\n",
        "class UnNormalize(object):\n",
        "    def __init__(self, mean, std):\n",
        "        self.mean = mean\n",
        "        self.std = std\n",
        "\n",
        "    def __call__(self, tensor):\n",
        "        \"\"\"\n",
        "        Args:\n",
        "            tensor (Tensor): Tensor image of size (C, H, W) to be normalized.\n",
        "        Returns:\n",
        "            Tensor: Normalized image.\n",
        "        \"\"\"\n",
        "        for t, m, s in zip(tensor, self.mean, self.std):\n",
        "            t.mul_(s).add_(m)\n",
        "            # The normalize code -> t.sub_(m).div_(s)\n",
        "        return tensor"
      ],
      "execution_count": 0,
      "outputs": []
    },
    {
      "cell_type": "code",
      "metadata": {
        "id": "GHATBVABsXuI",
        "colab_type": "code",
        "colab": {}
      },
      "source": [
        "unorm = UnNormalize(mean=(0.6453, 0.6027, 0.5345), std=(0.1899, 0.2030, 0.2196))"
      ],
      "execution_count": 0,
      "outputs": []
    },
    {
      "cell_type": "code",
      "metadata": {
        "id": "Il7utjffl6UC",
        "colab_type": "code",
        "colab": {}
      },
      "source": [
        "# https://stackoverflow.com/questions/42014545/how-to-change-numpy-array-from-128-128-3-to-3-128-128\n",
        "\n",
        "def disp_image(arr):\n",
        "  arr = unorm(arr) # unnormalize\n",
        "  arr = arr.numpy()\n",
        "  return(np.swapaxes(arr, 2,0))"
      ],
      "execution_count": 0,
      "outputs": []
    },
    {
      "cell_type": "markdown",
      "metadata": {
        "id": "DEDBfyPgubd_",
        "colab_type": "text"
      },
      "source": [
        "So one test data batch is a  tensor of shape: `torch.Size([867, 3, 128, 128])` . This means we have 867 examples of 128x128 pixels (i.e. rgb channels, hence three). We can plot some of them using matplotlib."
      ]
    },
    {
      "cell_type": "code",
      "metadata": {
        "id": "oQyAxAL5mHxC",
        "colab_type": "code",
        "outputId": "8434c292-7934-4a3f-c5e3-1c2cce861077",
        "colab": {
          "base_uri": "https://localhost:8080/",
          "height": 500
        }
      },
      "source": [
        "import matplotlib.pyplot as plt\n",
        "\n",
        "fig = plt.figure(figsize=(7,7))\n",
        "for i in range(9):\n",
        "  plt.subplot(3,3,i+1)\n",
        "  plt.tight_layout()\n",
        "  plt.imshow(disp_image(example_data[i]), interpolation='none')\n",
        "  plt.title(\"Ground Truth: {}\".format(example_targets[i]))\n",
        "  plt.xticks([])\n",
        "  plt.yticks([])"
      ],
      "execution_count": 25,
      "outputs": [
        {
          "output_type": "display_data",
          "data": {
            "image/png": "[encoded data removed]",
            "text/plain": [
              "<Figure size 504x504 with 9 Axes>"
            ]
          },
          "metadata": {
            "tags": []
          }
        }
      ]
    },
    {
      "cell_type": "markdown",
      "metadata": {
        "id": "6rvKopaZun1U",
        "colab_type": "text"
      },
      "source": [
        "\n",
        "## Building the Network\n",
        "\n",
        "Now let's go ahead and build our network. We'll use two 2-D convolutional layers followed by two fully-connected (or linear) layers. As activation function we'll choose rectified linear units (ReLUs in short) and as a means of regularization we'll use two dropout layers. In PyTorch a nice way to build a network is by creating a new class for the network we wish to build. Let's import a few submodules here for more readable code."
      ]
    },
    {
      "cell_type": "code",
      "metadata": {
        "id": "Vf9tiXIimK90",
        "colab_type": "code",
        "colab": {}
      },
      "source": [
        "import torch.nn as nn\n",
        "import torch.nn.functional as F\n",
        "import torch.optim as optim"
      ],
      "execution_count": 0,
      "outputs": []
    },
    {
      "cell_type": "code",
      "metadata": {
        "id": "TEQEq3p-mVbt",
        "colab_type": "code",
        "colab": {}
      },
      "source": [
        "# https://github.com/rasbt/deeplearning-models/blob/master/pytorch_ipynb/cnn/cnn-he-init.ipynb\n",
        "\n",
        "class Net(nn.Module):\n",
        "    def __init__(self):\n",
        "        super(Net, self).__init__()\n",
        "        \n",
        "        # calculate same padding:\n",
        "        # (w - k + 2*p)/s + 1 = o\n",
        "        # => p = (s(o-1) - w + k)/2\n",
        "        \n",
        "        # 128x128x3 => 128x128x128\n",
        "        self.conv1 = nn.Conv2d(in_channels=3, \n",
        "                               out_channels=128, \n",
        "                               kernel_size = 3,\n",
        "                               padding= 2) # p = (1(128-1) - 128 + 3)/2 = 2\n",
        "\n",
        "        # 64x64x6 => 64x64x12\n",
        "        self.conv2 = nn.Conv2d(in_channels=128, \n",
        "                               out_channels=64, \n",
        "                               kernel_size=3,\n",
        "                               padding= 2) # p = (1(64-1) - 64 + 5)/2 = 2\n",
        "        self.conv2_drop = nn.Dropout2d()\n",
        "\n",
        "        # 32x32x12 => 32x32x12\n",
        "        self.conv3 = nn.Conv2d(in_channels=64, \n",
        "                               out_channels=32, \n",
        "                               kernel_size=3,\n",
        "                               padding= 2) # p = (1(64-1) - 64 + 5)/2 = 2\n",
        "        self.conv3_drop = nn.Dropout2d()\n",
        "\n",
        "        # 16x16x12 => 16x16x16\n",
        "        self.conv4 = nn.Conv2d(in_channels=32, \n",
        "                               out_channels=16, \n",
        "                               kernel_size=5,\n",
        "                               padding= 2) # p = (1(64-1) - 64 + 5)/2 = 2\n",
        "        self.conv4_drop = nn.Dropout2d()\n",
        "        \n",
        "        self.fc1 = nn.Linear(1024, 64)\n",
        "        self.fc2 = nn.Linear(64, 10)\n",
        "        \n",
        "        # initialising weights with He initialisation\n",
        "        for m in self.modules():\n",
        "          if isinstance(m, torch.nn.Conv2d):\n",
        "              nn.init.kaiming_normal_(m.weight.detach())\n",
        "              m.bias.detach().zero_()\n",
        "          elif isinstance(m, torch.nn.Linear):\n",
        "              nn.init.kaiming_normal_(m.weight.detach())\n",
        "              m.bias.detach().zero_()\n",
        "\n",
        "    def forward(self, x):\n",
        "        x = F.relu(F.max_pool2d(self.conv1(x), 2))\n",
        "        #print(x.shape)\n",
        "        x = F.relu(F.max_pool2d(self.conv2_drop(self.conv2(x)), 2))\n",
        "        #print(x.shape)\n",
        "        x = F.relu(F.max_pool2d(self.conv3_drop(self.conv3(x)), 2))\n",
        "        #print(x.shape)\n",
        "        x = F.relu(F.max_pool2d(self.conv4_drop(self.conv4(x)), 2))\n",
        "        #print(x.shape)\n",
        "        x = x.view(-1, 1024)\n",
        "        #print(x.shape)\n",
        "        x = F.relu(self.fc1(x))\n",
        "        #print(x.shape)\n",
        "        x = F.dropout(x, training=self.training)\n",
        "        x = self.fc2(x)\n",
        "        #print(x.shape)\n",
        "        return F.log_softmax(x)\n"
      ],
      "execution_count": 0,
      "outputs": []
    },
    {
      "cell_type": "code",
      "metadata": {
        "id": "P4-jgIoorBv0",
        "colab_type": "code",
        "colab": {}
      },
      "source": [
        "for data, target in loader:\n",
        "  pass"
      ],
      "execution_count": 0,
      "outputs": []
    },
    {
      "cell_type": "code",
      "metadata": {
        "id": "C-KOINz7DBOr",
        "colab_type": "code",
        "outputId": "e6a52a90-ccd3-4eff-8e70-ea0c47cd83e0",
        "colab": {
          "base_uri": "https://localhost:8080/",
          "height": 51
        }
      },
      "source": [
        "def weight_scale(x):\n",
        "  unique, counts = np.unique(x, return_counts=True)\n",
        "  print(counts.sum()/counts)\n",
        "\n",
        "target = target.numpy()\n",
        "\n",
        "# weigh class weights\n",
        "weight = weight_scale(target)"
      ],
      "execution_count": 28,
      "outputs": [
        {
          "output_type": "stream",
          "text": [
            "[19.76763485 11.45192308  3.21891892  6.67226891 17.7761194   2.99434318\n",
            " 88.22222222]\n"
          ],
          "name": "stdout"
        }
      ]
    },
    {
      "cell_type": "markdown",
      "metadata": {
        "id": "zXnYATg_vDqd",
        "colab_type": "text"
      },
      "source": [
        "Broadly speaking we can think of the torch.nn layers as which contain trainable parameters while `torch.nn.functional` are purely functional. The `forward()` pass defines the way we compute our output using the given layers and functions. It would be perfectly fine to print out tensors somewhere in the forward pass for easier debugging. This comes in handy when experimenting with more complex models. Note that the forward pass could make use of e.g. a member variable or even the data itself to determine the execution path - and it can also make use of multiple arguments!\n",
        "\n",
        "Now let's `initialize` the network and the optimizer."
      ]
    },
    {
      "cell_type": "code",
      "metadata": {
        "id": "OaqjMFWHmc7M",
        "colab_type": "code",
        "colab": {}
      },
      "source": [
        "network = Net()\n",
        "optimizer = optim.Adam(network.parameters())\n",
        "criterion = nn.NLLLoss(weight)"
      ],
      "execution_count": 0,
      "outputs": []
    },
    {
      "cell_type": "markdown",
      "metadata": {
        "id": "oOddIOsMvKUX",
        "colab_type": "text"
      },
      "source": [
        "**Note**: If we were using a GPU for training, we should have also sent the network parameters to the GPU using e.g. `network.cuda()`. It is important to transfer the network's parameters to the appropriate device before passing them to the optimizer, otherwise the optimizer will not be able to keep track of them in the right way.\n",
        "\n",
        "## Training the Model\n",
        "\n",
        "Time to build our training loop. First we want to make sure our network is in training mode. Then we iterate over all training data once per epoch. Loading the individual batches is handled by the DataLoader. First we need to manually set the gradients to zero using `optimizer.zero_grad()` since PyTorch by default accumulates gradients. We then produce the output of our network (forward pass) and compute a negative log-likelihodd loss between the output and the ground truth label. The `backward()` call we now collect a new set of gradients which we propagate back into each of the network's parameters using `optimizer.step()`. For more detailed information about the inner workings of PyTorch's automatic gradient system, see the official docs for autograd (highly recommended).\n",
        "\n",
        "We'll also keep track of the progress with some printouts. In order to create a nice training curve later on we also create two lists for saving training and testing losses. On the x-axis we want to display the number of training examples the network has seen during training. "
      ]
    },
    {
      "cell_type": "code",
      "metadata": {
        "id": "xY95KzWOmo8y",
        "colab_type": "code",
        "colab": {}
      },
      "source": [
        "train_losses = []\n",
        "train_counter = []\n",
        "val_losses = []\n",
        "val_counter = [i*len(train_loader.dataset) for i in range(n_epochs + 1)]"
      ],
      "execution_count": 0,
      "outputs": []
    },
    {
      "cell_type": "markdown",
      "metadata": {
        "id": "lryFUMxxvh34",
        "colab_type": "text"
      },
      "source": [
        "We'll run our test loop once before even starting the training to see what accuracy/loss we achieve just with randomly initialized network parameters. Can you guess what our accuracy might look like for this case?"
      ]
    },
    {
      "cell_type": "code",
      "metadata": {
        "id": "TWm0DgoWmrii",
        "colab_type": "code",
        "colab": {}
      },
      "source": [
        "def train(epoch):\n",
        "  network.train()\n",
        "\n",
        "  for batch_idx, (data, target) in enumerate(train_loader):\n",
        "    optimizer.zero_grad()\n",
        "    output = network(data)\n",
        "    loss = criterion(output, target)\n",
        "    loss.backward()\n",
        "    optimizer.step()\n",
        "\n",
        "    if batch_idx % log_interval == 0:\n",
        "      print('Train Epoch: {} [{}/{} ({:.0f}%)]\\tLoss: {:.6f}'.format(\n",
        "            epoch, \n",
        "            batch_idx * len(data), \n",
        "            len(train_loader.dataset),\n",
        "            100. * batch_idx / len(train_loader), \n",
        "            loss.item()))\n",
        "      \n",
        "      train_losses.append(loss.item())\n",
        "      train_counter.append(\n",
        "        (batch_idx*64) + ((epoch-1)*len(train_loader.dataset)))\n",
        "      \n",
        "      torch.save(network.state_dict(), '/results/model.pth')\n",
        "      torch.save(optimizer.state_dict(), '/results/optimizer.pth')"
      ],
      "execution_count": 0,
      "outputs": []
    },
    {
      "cell_type": "markdown",
      "metadata": {
        "id": "ZlHQCwD1rhYv",
        "colab_type": "text"
      },
      "source": [
        "Neural network modules as well as optimizers have the ability to save and load their internal state using `.state_dict()`. With this we can continue training from previously saved state dicts if needed - we'd just need to call `.load_state_dict(state_dict)`. \n",
        "\n",
        "Now for our test loop. Here we sum up the test loss and keep track of correctly classified digits to compute the accuracy of the network. "
      ]
    },
    {
      "cell_type": "code",
      "metadata": {
        "id": "pOwJvduYmtlJ",
        "colab_type": "code",
        "colab": {}
      },
      "source": [
        "def validate():\n",
        "  network.eval()\n",
        "  val_loss = 0\n",
        "  correct = 0\n",
        "\n",
        "  with torch.no_grad():\n",
        "    \n",
        "    for data, target in val_loader:\n",
        "      \n",
        "      output = network(data)\n",
        "      val_loss += criterion(output, \n",
        "                             target).item()\n",
        "      pred = output.data.max(1, keepdim=True)[1]\n",
        "      correct += pred.eq(target.data.view_as(pred)).sum()\n",
        "\n",
        "  val_loss /= len(val_loader.dataset)\n",
        "  val_losses.append(val_loss)\n",
        "\n",
        "  print('\\nTest set: Avg. loss: {:.4f}, Accuracy: {}/{} ({:.0f}%)\\n'.format(\n",
        "        val_loss, \n",
        "        correct, \n",
        "        len(val_loader.dataset),\n",
        "        100. * correct / len(val_loader.dataset)))"
      ],
      "execution_count": 0,
      "outputs": []
    },
    {
      "cell_type": "code",
      "metadata": {
        "id": "d_-0Dmj6nwzC",
        "colab_type": "code",
        "colab": {}
      },
      "source": [
        "! mkdir ../results/ "
      ],
      "execution_count": 0,
      "outputs": []
    },
    {
      "cell_type": "markdown",
      "metadata": {
        "id": "Til15bK4rZRs",
        "colab_type": "text"
      },
      "source": [
        "Using the context manager `no_grad()` we can avoid storing the computations done producing the output of our network in the computation graph.\n",
        "\n",
        "Time to run the training! We'll manually add a `test()` call before we loop over n_epochs to evaluate our model with randomly initialized parameters."
      ]
    },
    {
      "cell_type": "code",
      "metadata": {
        "id": "X3Nr3B7Dm-n2",
        "colab_type": "code",
        "outputId": "29eb5a0e-c106-4b92-eff3-039b3ee7b4da",
        "colab": {
          "base_uri": "https://localhost:8080/",
          "height": 1000
        }
      },
      "source": [
        "validate()\n",
        "\n",
        "for epoch in range(1, n_epochs + 1):\n",
        "  train(epoch)\n",
        "  validate()"
      ],
      "execution_count": 44,
      "outputs": [
        {
          "output_type": "stream",
          "text": [
            "/usr/local/lib/python3.6/dist-packages/ipykernel_launcher.py:65: UserWarning: Implicit dimension choice for log_softmax has been deprecated. Change the call to include dim=X as an argument.\n"
          ],
          "name": "stderr"
        },
        {
          "output_type": "stream",
          "text": [
            "\n",
            "Test set: Avg. loss: 0.0809, Accuracy: 23/867 (3%)\n",
            "\n",
            "Train Epoch: 1 [0/4764 (0%)]\tLoss: 15.592920\n",
            "Train Epoch: 1 [1280/4764 (27%)]\tLoss: 2.165912\n",
            "Train Epoch: 1 [2560/4764 (53%)]\tLoss: 1.802437\n",
            "Train Epoch: 1 [3840/4764 (80%)]\tLoss: 2.043579\n",
            "\n",
            "Test set: Avg. loss: 0.0331, Accuracy: 386/867 (45%)\n",
            "\n",
            "Train Epoch: 2 [0/4764 (0%)]\tLoss: 1.793077\n",
            "Train Epoch: 2 [1280/4764 (27%)]\tLoss: 1.712844\n",
            "Train Epoch: 2 [2560/4764 (53%)]\tLoss: 1.615583\n",
            "Train Epoch: 2 [3840/4764 (80%)]\tLoss: 1.652127\n",
            "\n",
            "Test set: Avg. loss: 0.0309, Accuracy: 241/867 (28%)\n",
            "\n",
            "Train Epoch: 3 [0/4764 (0%)]\tLoss: 1.661838\n",
            "Train Epoch: 3 [1280/4764 (27%)]\tLoss: 1.669114\n",
            "Train Epoch: 3 [2560/4764 (53%)]\tLoss: 1.542693\n",
            "Train Epoch: 3 [3840/4764 (80%)]\tLoss: 1.566392\n",
            "\n",
            "Test set: Avg. loss: 0.0284, Accuracy: 233/867 (27%)\n",
            "\n",
            "Train Epoch: 4 [0/4764 (0%)]\tLoss: 1.579730\n",
            "Train Epoch: 4 [1280/4764 (27%)]\tLoss: 1.705432\n",
            "Train Epoch: 4 [2560/4764 (53%)]\tLoss: 1.411473\n",
            "Train Epoch: 4 [3840/4764 (80%)]\tLoss: 1.543767\n",
            "\n",
            "Test set: Avg. loss: 0.0287, Accuracy: 233/867 (27%)\n",
            "\n",
            "Train Epoch: 5 [0/4764 (0%)]\tLoss: 1.426959\n",
            "Train Epoch: 5 [1280/4764 (27%)]\tLoss: 1.420990\n",
            "Train Epoch: 5 [2560/4764 (53%)]\tLoss: 1.329375\n",
            "Train Epoch: 5 [3840/4764 (80%)]\tLoss: 1.500862\n",
            "\n",
            "Test set: Avg. loss: 0.0290, Accuracy: 233/867 (27%)\n",
            "\n",
            "Train Epoch: 6 [0/4764 (0%)]\tLoss: 1.276056\n",
            "Train Epoch: 6 [1280/4764 (27%)]\tLoss: 1.418464\n",
            "Train Epoch: 6 [2560/4764 (53%)]\tLoss: 1.398926\n",
            "Train Epoch: 6 [3840/4764 (80%)]\tLoss: 1.391484\n",
            "\n",
            "Test set: Avg. loss: 0.0284, Accuracy: 233/867 (27%)\n",
            "\n",
            "Train Epoch: 7 [0/4764 (0%)]\tLoss: 1.410226\n",
            "Train Epoch: 7 [1280/4764 (27%)]\tLoss: 1.492189\n",
            "Train Epoch: 7 [2560/4764 (53%)]\tLoss: 1.321475\n",
            "Train Epoch: 7 [3840/4764 (80%)]\tLoss: 1.440649\n",
            "\n",
            "Test set: Avg. loss: 0.0289, Accuracy: 233/867 (27%)\n",
            "\n",
            "Train Epoch: 8 [0/4764 (0%)]\tLoss: 1.425620\n",
            "Train Epoch: 8 [1280/4764 (27%)]\tLoss: 1.542849\n",
            "Train Epoch: 8 [2560/4764 (53%)]\tLoss: 1.403510\n",
            "Train Epoch: 8 [3840/4764 (80%)]\tLoss: 1.330834\n",
            "\n",
            "Test set: Avg. loss: 0.0289, Accuracy: 233/867 (27%)\n",
            "\n",
            "Train Epoch: 9 [0/4764 (0%)]\tLoss: 1.510906\n",
            "Train Epoch: 9 [1280/4764 (27%)]\tLoss: 1.279952\n",
            "Train Epoch: 9 [2560/4764 (53%)]\tLoss: 1.279678\n",
            "Train Epoch: 9 [3840/4764 (80%)]\tLoss: 1.348501\n",
            "\n",
            "Test set: Avg. loss: 0.0288, Accuracy: 233/867 (27%)\n",
            "\n",
            "Train Epoch: 10 [0/4764 (0%)]\tLoss: 1.371940\n",
            "Train Epoch: 10 [1280/4764 (27%)]\tLoss: 1.188476\n",
            "Train Epoch: 10 [2560/4764 (53%)]\tLoss: 1.343724\n",
            "Train Epoch: 10 [3840/4764 (80%)]\tLoss: 1.134509\n",
            "\n",
            "Test set: Avg. loss: 0.0290, Accuracy: 233/867 (27%)\n",
            "\n"
          ],
          "name": "stdout"
        }
      ]
    },
    {
      "cell_type": "markdown",
      "metadata": {
        "id": "VQtK0KfarUO3",
        "colab_type": "text"
      },
      "source": [
        "## Evaluating the Model's Performance\n",
        "\n",
        "And that's it. With just 3 epochs of training we  managed to achieve 39% accuracy on the test set! We started out with randomly initialized parameters and as expected only got about 2% accuracy on the test set before starting the training.\n",
        "\n",
        "Let's plot our training curve."
      ]
    },
    {
      "cell_type": "code",
      "metadata": {
        "id": "oqeLSmXonJxU",
        "colab_type": "code",
        "outputId": "59b04b9d-dc78-4867-d5e4-2991ac83095c",
        "colab": {
          "base_uri": "https://localhost:8080/",
          "height": 296
        }
      },
      "source": [
        "fig = plt.figure()\n",
        "plt.plot(train_counter, train_losses, color='blue')\n",
        "plt.scatter(val_counter, val_losses, color='red')\n",
        "plt.legend(['Train Loss', 'Test Loss'], loc='upper right')\n",
        "plt.xlabel('number of training examples seen')\n",
        "plt.ylabel('negative log likelihood loss')"
      ],
      "execution_count": 46,
      "outputs": [
        {
          "output_type": "execute_result",
          "data": {
            "text/plain": [
              "Text(0, 0.5, 'negative log likelihood loss')"
            ]
          },
          "metadata": {
            "tags": []
          },
          "execution_count": 46
        },
        {
          "output_type": "display_data",
          "data": {
            "image/png": "[encoded data removed]",
            "text/plain": [
              "<Figure size 432x288 with 1 Axes>"
            ]
          },
          "metadata": {
            "tags": []
          }
        }
      ]
    },
    {
      "cell_type": "markdown",
      "metadata": {
        "id": "AA3PiXm_rOTI",
        "colab_type": "text"
      },
      "source": [
        "Judging from the training curve  it looks like we could even continue training for a few more epochs!\n",
        "\n",
        "\n",
        "But before that let's again look at a few examples as we did earlier and compare the model's output."
      ]
    },
    {
      "cell_type": "code",
      "metadata": {
        "id": "J5j6uvRnophS",
        "colab_type": "code",
        "outputId": "fa1f8078-4604-4352-e5bd-ca1063ace3a1",
        "colab": {
          "base_uri": "https://localhost:8080/",
          "height": 55
        }
      },
      "source": [
        "with torch.no_grad():\n",
        "  output = network(example_data)"
      ],
      "execution_count": 0,
      "outputs": [
        {
          "output_type": "stream",
          "text": [
            "/usr/local/lib/python3.6/dist-packages/ipykernel_launcher.py:48: UserWarning: Implicit dimension choice for log_softmax has been deprecated. Change the call to include dim=X as an argument.\n"
          ],
          "name": "stderr"
        }
      ]
    },
    {
      "cell_type": "code",
      "metadata": {
        "id": "ZgCt-e6FwV6S",
        "colab_type": "code",
        "outputId": "dea7e282-f80e-43f5-9cb1-ba757e126374",
        "colab": {
          "base_uri": "https://localhost:8080/",
          "height": 52
        }
      },
      "source": [
        "output[0]"
      ],
      "execution_count": 0,
      "outputs": [
        {
          "output_type": "execute_result",
          "data": {
            "text/plain": [
              "tensor([-2.5652, -2.0844, -1.0489, -1.6185, -2.3974, -1.9616, -4.0728, -7.6187,\n",
              "        -7.5413, -7.4896])"
            ]
          },
          "metadata": {
            "tags": []
          },
          "execution_count": 28
        }
      ]
    },
    {
      "cell_type": "code",
      "metadata": {
        "id": "DqRcbIQ9o08g",
        "colab_type": "code",
        "outputId": "1219b69f-4d6f-4d29-dc01-8cb62f66cb35",
        "colab": {
          "base_uri": "https://localhost:8080/",
          "height": 284
        }
      },
      "source": [
        "fig = plt.figure()\n",
        "for i in range(6):\n",
        "  plt.subplot(2,3,i+1)\n",
        "  plt.tight_layout()\n",
        "  plt.imshow(disp_image(example_data[i]), interpolation='none')\n",
        "  plt.title(\"Prediction: {}\".format(\n",
        "    output.data.max(1, keepdim=True)[1][i].item()))\n",
        "  plt.xticks([])\n",
        "  plt.yticks([])"
      ],
      "execution_count": 0,
      "outputs": [
        {
          "output_type": "display_data",
          "data": {
            "image/png": "[encoded data removed]",
            "text/plain": [
              "<Figure size 432x288 with 6 Axes>"
            ]
          },
          "metadata": {
            "tags": []
          }
        }
      ]
    },
    {
      "cell_type": "markdown",
      "metadata": {
        "id": "HJqxzoOgrFok",
        "colab_type": "text"
      },
      "source": [
        "\n",
        "\n",
        "## Continued Training from Checkpoints\n",
        "\n",
        "Now let's continue training the network, or rather see how we can continue training from the state_dicts we saved during our first training run. We'll initialize a new set of network and optimizers."
      ]
    },
    {
      "cell_type": "code",
      "metadata": {
        "id": "wejeP6XGo335",
        "colab_type": "code",
        "colab": {}
      },
      "source": [
        "continued_network = Net()\n",
        "continued_optimizer = optim.Adam(network.parameters())"
      ],
      "execution_count": 0,
      "outputs": []
    },
    {
      "cell_type": "markdown",
      "metadata": {
        "id": "sivwUYHvrA6C",
        "colab_type": "text"
      },
      "source": [
        "Using `.load_state_dict()` we can now load the internal state of the network and optimizer when we last saved them."
      ]
    },
    {
      "cell_type": "code",
      "metadata": {
        "id": "0PsXltKcpDyP",
        "colab_type": "code",
        "colab": {}
      },
      "source": [
        "network_state_dict = torch.load('/results/model.pth')\n",
        "continued_network.load_state_dict(network_state_dict)\n",
        "\n",
        "optimizer_state_dict = torch.load('/results/optimizer.pth')\n",
        "continued_optimizer.load_state_dict(optimizer_state_dict)"
      ],
      "execution_count": 0,
      "outputs": []
    },
    {
      "cell_type": "markdown",
      "metadata": {
        "id": "DzM4XYfDq-Dm",
        "colab_type": "text"
      },
      "source": [
        "Again running a training loop should immediately pick up the training where we left it. To check on that let's simply use the same lists as before to keep track of the loss values. Due to the way we constructed the test counter for the number of training examples seen we manually have to append to it here."
      ]
    },
    {
      "cell_type": "code",
      "metadata": {
        "id": "_uhydGnjpdNP",
        "colab_type": "code",
        "outputId": "3103ea92-24d3-4e30-8019-89848b97cb53",
        "colab": {
          "base_uri": "https://localhost:8080/",
          "height": 659
        }
      },
      "source": [
        "for i in range(10,15):\n",
        "  test_counter.append(i*len(train_loader.dataset))\n",
        "  train(i)\n",
        "  test()"
      ],
      "execution_count": 0,
      "outputs": [
        {
          "output_type": "stream",
          "text": [
            "/usr/local/lib/python3.6/dist-packages/ipykernel_launcher.py:58: UserWarning: Implicit dimension choice for log_softmax has been deprecated. Change the call to include dim=X as an argument.\n"
          ],
          "name": "stderr"
        },
        {
          "output_type": "stream",
          "text": [
            "Train Epoch: 10 [0/4764 (0%)]\tLoss: 1.393428\n",
            "Train Epoch: 10 [1280/4764 (27%)]\tLoss: 1.260425\n",
            "Train Epoch: 10 [2560/4764 (53%)]\tLoss: 1.101947\n",
            "Train Epoch: 10 [3840/4764 (80%)]\tLoss: 1.209772\n",
            "\n",
            "Test set: Avg. loss: 0.0011, Accuracy: 562/867 (65%)\n",
            "\n",
            "Train Epoch: 11 [0/4764 (0%)]\tLoss: 1.312651\n",
            "Train Epoch: 11 [1280/4764 (27%)]\tLoss: 1.217531\n",
            "Train Epoch: 11 [2560/4764 (53%)]\tLoss: 1.311427\n",
            "Train Epoch: 11 [3840/4764 (80%)]\tLoss: 1.234426\n",
            "\n",
            "Test set: Avg. loss: 0.0012, Accuracy: 556/867 (64%)\n",
            "\n",
            "Train Epoch: 12 [0/4764 (0%)]\tLoss: 1.104714\n",
            "Train Epoch: 12 [1280/4764 (27%)]\tLoss: 1.563061\n",
            "Train Epoch: 12 [2560/4764 (53%)]\tLoss: 1.175901\n",
            "Train Epoch: 12 [3840/4764 (80%)]\tLoss: 1.210090\n",
            "\n",
            "Test set: Avg. loss: 0.0013, Accuracy: 534/867 (62%)\n",
            "\n",
            "Train Epoch: 13 [0/4764 (0%)]\tLoss: 1.372639\n",
            "Train Epoch: 13 [1280/4764 (27%)]\tLoss: 1.088563\n",
            "Train Epoch: 13 [2560/4764 (53%)]\tLoss: 1.085336\n",
            "Train Epoch: 13 [3840/4764 (80%)]\tLoss: 0.875984\n",
            "\n",
            "Test set: Avg. loss: 0.0013, Accuracy: 549/867 (63%)\n",
            "\n",
            "Train Epoch: 14 [0/4764 (0%)]\tLoss: 1.177255\n",
            "Train Epoch: 14 [1280/4764 (27%)]\tLoss: 1.121119\n",
            "Train Epoch: 14 [2560/4764 (53%)]\tLoss: 0.947337\n",
            "Train Epoch: 14 [3840/4764 (80%)]\tLoss: 1.208385\n",
            "\n",
            "Test set: Avg. loss: 0.0012, Accuracy: 561/867 (65%)\n",
            "\n"
          ],
          "name": "stdout"
        }
      ]
    },
    {
      "cell_type": "markdown",
      "metadata": {
        "id": "veMHKm7Qq43f",
        "colab_type": "text"
      },
      "source": [
        "Great! We again see a (much slower) increase in test set accuracy from epoch to epoch. Let's visualize this to further inspect the training progress."
      ]
    },
    {
      "cell_type": "code",
      "metadata": {
        "id": "7AAvgZuupfsf",
        "colab_type": "code",
        "outputId": "41679a91-c0c9-40da-9a08-27c4ee731358",
        "colab": {
          "base_uri": "https://localhost:8080/",
          "height": 296
        }
      },
      "source": [
        "fig = plt.figure()\n",
        "plt.plot(train_counter, train_losses, color='blue')\n",
        "plt.scatter(test_counter, test_losses, color='red')\n",
        "plt.legend(['Train Loss', 'Test Loss'], loc='upper right')\n",
        "plt.xlabel('number of training examples seen')\n",
        "plt.ylabel('negative log likelihood loss')"
      ],
      "execution_count": 0,
      "outputs": [
        {
          "output_type": "execute_result",
          "data": {
            "text/plain": [
              "Text(0, 0.5, 'negative log likelihood loss')"
            ]
          },
          "metadata": {
            "tags": []
          },
          "execution_count": 99
        },
        {
          "output_type": "display_data",
          "data": {
            "image/png": "[encoded data removed]",
            "text/plain": [
              "<Figure size 432x288 with 1 Axes>"
            ]
          },
          "metadata": {
            "tags": []
          }
        }
      ]
    },
    {
      "cell_type": "markdown",
      "metadata": {
        "id": "2YpkFKKfqzbg",
        "colab_type": "text"
      },
      "source": [
        "That still looks like a rather smooth learning curve just as if we initially would've trained for 8 epochs! Remember that we just appended values to the same lists starting from the 5th red dot onward.\n",
        "\n",
        "From this we can conclue two things:\n",
        "\n",
        "1. Continuing from the checkpointed internal state worked as intended.\n",
        "\n",
        "2. We still don't seem to run into overfitting issues! It looks like our dropout layers did a good job regularizing the model.\n",
        "\n",
        "In summary we built a new environment with PyTorch and TorchVision, used it to classifiy handwritten digits from the MNIST dataset and hopefully developed a good intuition using PyTorch. For further information the official PyTorch documentation is really nicely written and the forums are also quite active!"
      ]
    },
    {
      "cell_type": "markdown",
      "metadata": {
        "id": "G-tPut9SKeBO",
        "colab_type": "text"
      },
      "source": [
        "## Confusion Matrix"
      ]
    },
    {
      "cell_type": "code",
      "metadata": {
        "id": "p6D86dpuKKcI",
        "colab_type": "code",
        "outputId": "54821469-45ba-43ef-d157-b723867efd5a",
        "colab": {
          "base_uri": "https://localhost:8080/",
          "height": 54
        }
      },
      "source": [
        "network.eval()\n",
        "\n",
        "with torch.no_grad():\n",
        "  for data, target in val_loader:\n",
        "    output = network(data)\n",
        "    pred = output.data.max(1, keepdim=True)[1]"
      ],
      "execution_count": 48,
      "outputs": [
        {
          "output_type": "stream",
          "text": [
            "/usr/local/lib/python3.6/dist-packages/ipykernel_launcher.py:65: UserWarning: Implicit dimension choice for log_softmax has been deprecated. Change the call to include dim=X as an argument.\n"
          ],
          "name": "stderr"
        }
      ]
    },
    {
      "cell_type": "code",
      "metadata": {
        "id": "Z9N0XHetKsvx",
        "colab_type": "code",
        "colab": {}
      },
      "source": [
        "pred = pred.numpy().reshape(-1)"
      ],
      "execution_count": 0,
      "outputs": []
    },
    {
      "cell_type": "code",
      "metadata": {
        "id": "wEbqaywXKvBm",
        "colab_type": "code",
        "outputId": "594ddb5f-5bd1-450c-f494-786dab9fae66",
        "colab": {
          "base_uri": "https://localhost:8080/",
          "height": 34
        }
      },
      "source": [
        "pred.shape"
      ],
      "execution_count": 50,
      "outputs": [
        {
          "output_type": "execute_result",
          "data": {
            "text/plain": [
              "(35,)"
            ]
          },
          "metadata": {
            "tags": []
          },
          "execution_count": 50
        }
      ]
    },
    {
      "cell_type": "code",
      "metadata": {
        "id": "pyOcRfmiK0JP",
        "colab_type": "code",
        "colab": {}
      },
      "source": [
        "target = target.numpy()"
      ],
      "execution_count": 0,
      "outputs": []
    },
    {
      "cell_type": "code",
      "metadata": {
        "id": "WeMlJnSkLGgg",
        "colab_type": "code",
        "colab": {}
      },
      "source": [
        "from pandas import DataFrame as df\n",
        "from sklearn.metrics import confusion_matrix"
      ],
      "execution_count": 0,
      "outputs": []
    },
    {
      "cell_type": "code",
      "metadata": {
        "id": "LqbzrQkiLlRB",
        "colab_type": "code",
        "colab": {}
      },
      "source": [
        "cm = confusion_matrix(target, pred)"
      ],
      "execution_count": 0,
      "outputs": []
    },
    {
      "cell_type": "code",
      "metadata": {
        "id": "N1yRe92bNLvz",
        "colab_type": "code",
        "colab": {}
      },
      "source": [
        "vals = [i+1 for i in range(3)]"
      ],
      "execution_count": 0,
      "outputs": []
    },
    {
      "cell_type": "code",
      "metadata": {
        "id": "OlzaEPKrNWlb",
        "colab_type": "code",
        "outputId": "c229eff3-0e7e-49fa-c0b2-aad6bb0184b0",
        "colab": {
          "base_uri": "https://localhost:8080/",
          "height": 142
        }
      },
      "source": [
        "df2 = df(cm, vals, vals)\n",
        "df2"
      ],
      "execution_count": 58,
      "outputs": [
        {
          "output_type": "execute_result",
          "data": {
            "text/html": [
              "<div>\n",
              "<style scoped>\n",
              "    .dataframe tbody tr th:only-of-type {\n",
              "        vertical-align: middle;\n",
              "    }\n",
              "\n",
              "    .dataframe tbody tr th {\n",
              "        vertical-align: top;\n",
              "    }\n",
              "\n",
              "    .dataframe thead th {\n",
              "        text-align: right;\n",
              "    }\n",
              "</style>\n",
              "<table border=\"1\" class=\"dataframe\">\n",
              "  <thead>\n",
              "    <tr style=\"text-align: right;\">\n",
              "      <th></th>\n",
              "      <th>1</th>\n",
              "      <th>2</th>\n",
              "      <th>3</th>\n",
              "    </tr>\n",
              "  </thead>\n",
              "  <tbody>\n",
              "    <tr>\n",
              "      <th>1</th>\n",
              "      <td>0</td>\n",
              "      <td>0</td>\n",
              "      <td>0</td>\n",
              "    </tr>\n",
              "    <tr>\n",
              "      <th>2</th>\n",
              "      <td>21</td>\n",
              "      <td>0</td>\n",
              "      <td>0</td>\n",
              "    </tr>\n",
              "    <tr>\n",
              "      <th>3</th>\n",
              "      <td>14</td>\n",
              "      <td>0</td>\n",
              "      <td>0</td>\n",
              "    </tr>\n",
              "  </tbody>\n",
              "</table>\n",
              "</div>"
            ],
            "text/plain": [
              "    1  2  3\n",
              "1   0  0  0\n",
              "2  21  0  0\n",
              "3  14  0  0"
            ]
          },
          "metadata": {
            "tags": []
          },
          "execution_count": 58
        }
      ]
    },
    {
      "cell_type": "code",
      "metadata": {
        "id": "uepyRYXVNtqD",
        "colab_type": "code",
        "colab": {}
      },
      "source": [
        "def value_counts(x):\n",
        "  unique, counts = np.unique(x, return_counts=True)\n",
        "  print(np.asarray((unique, counts)).T)"
      ],
      "execution_count": 0,
      "outputs": []
    },
    {
      "cell_type": "code",
      "metadata": {
        "id": "P9mSxE54NqES",
        "colab_type": "code",
        "outputId": "5ec01944-eaff-4245-b022-979a5d95ee69",
        "colab": {
          "base_uri": "https://localhost:8080/",
          "height": 138
        }
      },
      "source": [
        "value_counts(target)"
      ],
      "execution_count": 0,
      "outputs": [
        {
          "output_type": "stream",
          "text": [
            "[[  0  33]\n",
            " [  1  54]\n",
            " [  2 233]\n",
            " [  3 114]\n",
            " [  4  31]\n",
            " [  5 388]\n",
            " [  6  14]]\n"
          ],
          "name": "stdout"
        }
      ]
    },
    {
      "cell_type": "code",
      "metadata": {
        "id": "TeYdTBBMNr9s",
        "colab_type": "code",
        "outputId": "93814c3a-bfd3-48b3-a19f-8d1544fb0347",
        "colab": {
          "base_uri": "https://localhost:8080/",
          "height": 52
        }
      },
      "source": [
        "value_counts(pred)"
      ],
      "execution_count": 0,
      "outputs": [
        {
          "output_type": "stream",
          "text": [
            "[[  2 518]\n",
            " [  5 349]]\n"
          ],
          "name": "stdout"
        }
      ]
    },
    {
      "cell_type": "markdown",
      "metadata": {
        "id": "rqBgoAueWycl",
        "colab_type": "text"
      },
      "source": [
        "## Visualise Activations"
      ]
    },
    {
      "cell_type": "code",
      "metadata": {
        "id": "NutwEk1WXHTg",
        "colab_type": "code",
        "colab": {}
      },
      "source": [
        "# from torch.utils.tensorboard import SummaryWriter\n",
        "# import numpy as np\n",
        "\n",
        "# writer = SummaryWriter()\n",
        "\n",
        "# writer.add_pr_curve('pr_curve', target, pred, 0)\n",
        "# writer.close()"
      ],
      "execution_count": 0,
      "outputs": []
    },
    {
      "cell_type": "code",
      "metadata": {
        "id": "G25amWNgYf28",
        "colab_type": "code",
        "outputId": "1ff002f8-4c15-4882-a150-af5b2c96c178",
        "colab": {
          "base_uri": "https://localhost:8080/",
          "height": 89
        }
      },
      "source": [
        "# ! zip -r -X runs.zip runs"
      ],
      "execution_count": 0,
      "outputs": [
        {
          "output_type": "stream",
          "text": [
            "  adding: runs/ (stored 0%)\n",
            "  adding: runs/Nov24_07-48-13_6abaa22567ef/ (stored 0%)\n",
            "  adding: runs/Nov24_07-48-13_6abaa22567ef/events.out.tfevents.1574581693.6abaa22567ef.123.5 (deflated 5%)\n"
          ],
          "name": "stdout"
        }
      ]
    },
    {
      "cell_type": "code",
      "metadata": {
        "id": "oLLga_0SZseH",
        "colab_type": "code",
        "colab": {}
      },
      "source": [
        "# https://pytorch.org/docs/stable/tensorboard.html\n",
        "# %load_ext tensorboard\n",
        "# %tensorboard --logdir \"$runs\""
      ],
      "execution_count": 0,
      "outputs": []
    },
    {
      "cell_type": "code",
      "metadata": {
        "id": "_8VNi_mE6oUw",
        "colab_type": "code",
        "colab": {}
      },
      "source": [
        "# http://snappishproductions.com/blog/2018/01/03/class-activation-mapping-in-pytorch.html\n",
        "# https://github.com/utkuozbulak/pytorch-cnn-visualizations/blob/master/src/gradcam.py\n",
        "\n"
      ],
      "execution_count": 0,
      "outputs": []
    },
    {
      "cell_type": "code",
      "metadata": {
        "id": "rWSCi7UPJOg_",
        "colab_type": "code",
        "colab": {}
      },
      "source": [
        "# https://pytorch.org/docs/stable/_modules/torch/optim/lr_scheduler.html"
      ],
      "execution_count": 0,
      "outputs": []
    },
    {
      "cell_type": "code",
      "metadata": {
        "id": "3M_79UqGJPv6",
        "colab_type": "code",
        "colab": {}
      },
      "source": [
        ""
      ],
      "execution_count": 0,
      "outputs": []
    }
  ]
}