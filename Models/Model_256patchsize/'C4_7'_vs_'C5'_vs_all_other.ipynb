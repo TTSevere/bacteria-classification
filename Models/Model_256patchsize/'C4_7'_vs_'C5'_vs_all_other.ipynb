{
  "nbformat": 4,
  "nbformat_minor": 0,
  "metadata": {
    "accelerator": "GPU",
    "colab": {
      "name": "'C4-7' vs 'C5' vs all_other.ipynb",
      "provenance": [],
      "collapsed_sections": [],
      "machine_shape": "hm"
    },
    "kernelspec": {
      "display_name": "Python 3",
      "language": "python",
      "name": "python3"
    },
    "language_info": {
      "codemirror_mode": {
        "name": "ipython",
        "version": 3
      },
      "file_extension": ".py",
      "mimetype": "text/x-python",
      "name": "python",
      "nbconvert_exporter": "python",
      "pygments_lexer": "ipython3",
      "version": "3.6.9"
    }
  },
  "cells": [
    {
      "cell_type": "markdown",
      "metadata": {
        "id": "dL0TE_c0qu_N",
        "colab_type": "text"
      },
      "source": [
        "###  <span style=\"color:red\">**This Notebook can be run from Google Colab:**</span>\n",
        "\n",
        "https://colab.research.google.com"
      ]
    },
    {
      "cell_type": "code",
      "metadata": {
        "id": "wn7wUdlaqu_V",
        "colab_type": "code",
        "colab": {
          "base_uri": "https://localhost:8080/",
          "height": 81
        },
        "outputId": "16ec0a44-2525-4763-b965-48bb83f05f1f"
      },
      "source": [
        "import numpy as np\n",
        "import matplotlib.pyplot as plt\n",
        "%matplotlib inline\n",
        "import os\n",
        "import zipfile\n",
        "import shutil\n",
        "from google.colab import files\n",
        "import json\n",
        "import time\n",
        "import pandas as pd\n",
        "\n",
        "import keras\n",
        "from keras.models import Model, Sequential, load_model\n",
        "from keras.applications.resnet50 import ResNet50\n",
        "from keras.layers import Input, Dense, Activation, Dropout, BatchNormalization,\\\n",
        "                          Conv2D, MaxPooling2D, Flatten, AveragePooling2D,\\\n",
        "                          GlobalAveragePooling2D, ZeroPadding2D\n",
        "from keras.initializers import glorot_uniform\n",
        "from keras import regularizers\n",
        "from keras.preprocessing.image import ImageDataGenerator\n",
        "from keras.optimizers import RMSprop, Adam, Adamax, Nadam, SGD\n",
        "from keras.callbacks import EarlyStopping, ReduceLROnPlateau, ModelCheckpoint\n",
        "\n",
        "from sklearn.metrics import roc_auc_score, accuracy_score, confusion_matrix, \\\n",
        "                            classification_report\n",
        "\n",
        "# Import PyDrive and associated libraries (to connect with GoogleDrive)\n",
        "from pydrive.auth import GoogleAuth\n",
        "from pydrive.drive import GoogleDrive\n",
        "from google.colab import auth\n",
        "from oauth2client.client import GoogleCredentials\n",
        "\n",
        "# disable warnings\n",
        "import warnings\n",
        "warnings.simplefilter(\"ignore\")\n",
        "os.environ['TF_CPP_MIN_LOG_LEVEL'] = '3' "
      ],
      "execution_count": 4,
      "outputs": [
        {
          "output_type": "stream",
          "text": [
            "Using TensorFlow backend.\n"
          ],
          "name": "stderr"
        },
        {
          "output_type": "display_data",
          "data": {
            "text/html": [
              "<p style=\"color: red;\">\n",
              "The default version of TensorFlow in Colab will soon switch to TensorFlow 2.x.<br>\n",
              "We recommend you <a href=\"https://www.tensorflow.org/guide/migrate\" target=\"_blank\">upgrade</a> now \n",
              "or ensure your notebook will continue to use TensorFlow 1.x via the <code>%tensorflow_version 1.x</code> magic:\n",
              "<a href=\"https://colab.research.google.com/notebooks/tensorflow_version.ipynb\" target=\"_blank\">more info</a>.</p>\n"
            ],
            "text/plain": [
              "<IPython.core.display.HTML object>"
            ]
          },
          "metadata": {
            "tags": []
          }
        }
      ]
    },
    {
      "cell_type": "markdown",
      "metadata": {
        "colab_type": "text",
        "id": "DItexGaqdfEA"
      },
      "source": [
        "### **Check if we are using GPU:**"
      ]
    },
    {
      "cell_type": "code",
      "metadata": {
        "colab_type": "code",
        "id": "vn7AYx74dNq6",
        "outputId": "75110118-5120-46ca-c1df-ede71d87d5bd",
        "colab": {
          "base_uri": "https://localhost:8080/",
          "height": 34
        }
      },
      "source": [
        "from keras import backend as K\n",
        "if K.backend() == \"tensorflow\":\n",
        "    import tensorflow as tf\n",
        "    device_name = tf.test.gpu_device_name()\n",
        "    if device_name == '':\n",
        "        device_name = \"None\"\n",
        "    print('Using TensorFlow version:', tf.__version__, ', GPU:', device_name)"
      ],
      "execution_count": 5,
      "outputs": [
        {
          "output_type": "stream",
          "text": [
            "Using TensorFlow version: 1.15.0 , GPU: /device:GPU:0\n"
          ],
          "name": "stdout"
        }
      ]
    },
    {
      "cell_type": "markdown",
      "metadata": {
        "colab_type": "text",
        "id": "QQXfhMrHlqrz"
      },
      "source": [
        "### **Download Patches from GoogleDrive:**"
      ]
    },
    {
      "cell_type": "code",
      "metadata": {
        "colab_type": "code",
        "id": "ACvUlEucnnY0",
        "outputId": "54543d0f-4a57-4236-e802-1115bc0e96b6",
        "colab": {
          "base_uri": "https://localhost:8080/",
          "height": 52
        }
      },
      "source": [
        "# Authenticate and create the PyDrive client.\n",
        "auth.authenticate_user()\n",
        "gauth = GoogleAuth()\n",
        "gauth.credentials = GoogleCredentials.get_application_default()\n",
        "drive = GoogleDrive(gauth)\n",
        "\n",
        "file_id = '1GrvQWYf90c9lE-qPCovkZA8Ai0cayzkP'\n",
        "\n",
        "downloaded = drive.CreateFile({'id': file_id})\n",
        "downloaded.GetContentFile(downloaded['title'])\n",
        "print('Downloaded content: \"{}\"'.format(downloaded['title']))\n",
        "print('Root dir content: {}'.format(os.listdir()))"
      ],
      "execution_count": 6,
      "outputs": [
        {
          "output_type": "stream",
          "text": [
            "Downloaded content: \"Img_Patches_256.zip\"\n",
            "Root dir content: ['.config', 'Img_Patches_256.zip', 'adc.json', 'sample_data']\n"
          ],
          "name": "stdout"
        }
      ]
    },
    {
      "cell_type": "markdown",
      "metadata": {
        "colab_type": "text",
        "id": "HSdGQav-qEJM"
      },
      "source": [
        "### **Unzip the Patches:**"
      ]
    },
    {
      "cell_type": "code",
      "metadata": {
        "colab_type": "code",
        "id": "jP1-2THkn47w",
        "outputId": "8e33a62f-31f6-401e-8b62-bb78469755af",
        "colab": {
          "base_uri": "https://localhost:8080/",
          "height": 34
        }
      },
      "source": [
        "# Remove 'Patches' dir if it already exists\n",
        "if 'Patches' in os.listdir():\n",
        "  shutil.rmtree('./Patches')\n",
        "with zipfile.ZipFile(downloaded['title'],\"r\") as zip:\n",
        "    zip.extractall()\n",
        "os.remove(downloaded['title'])\n",
        "print('Root dir content: {}'.format(os.listdir()))"
      ],
      "execution_count": 7,
      "outputs": [
        {
          "output_type": "stream",
          "text": [
            "Root dir content: ['.config', 'content', 'adc.json', 'sample_data']\n"
          ],
          "name": "stdout"
        }
      ]
    },
    {
      "cell_type": "code",
      "metadata": {
        "id": "_tLdDGys5Upq",
        "colab_type": "code",
        "colab": {
          "base_uri": "https://localhost:8080/",
          "height": 34
        },
        "outputId": "c2586599-0f98-4fca-9bc6-4222d9fa7c86"
      },
      "source": [
        "cd content/"
      ],
      "execution_count": 8,
      "outputs": [
        {
          "output_type": "stream",
          "text": [
            "/content/content\n"
          ],
          "name": "stdout"
        }
      ]
    },
    {
      "cell_type": "markdown",
      "metadata": {
        "colab_type": "text",
        "id": "nd7htfD3rJ6V"
      },
      "source": [
        "### **Let's count patches by type and class:**"
      ]
    },
    {
      "cell_type": "code",
      "metadata": {
        "colab_type": "code",
        "id": "DjJy7FFsvm5H",
        "outputId": "3bff67fc-91fa-4bf1-a55b-5f9edb899fc0",
        "colab": {
          "base_uri": "https://localhost:8080/",
          "height": 638
        }
      },
      "source": [
        "class_weights = {} # empty dictionary to store class weights\n",
        "classes = ['1','2','3','4','5','6','7','0']\n",
        "\n",
        "grand_total, pos_total, neg_total = 0, 0, 0\n",
        "for type in ['Serial', 'Control', 'Streak']:\n",
        "    print(\"\\nTotal '{}' Patches per location:\".format(type))\n",
        "    n_type, type_pos, type_neg = 0, 0, 0\n",
        "    class_weights[type] = {} # nested empty dictionary to store class weights\n",
        "    # class_weights[type]['pos'] = {} # nested dictionary to store class weights\n",
        "    # class_weights[type]['neg'] = {} # nested dictionary to store class weights\n",
        "    for cls in classes:\n",
        "        pfolder = './Img_Patches/{}/{}'.format(type,cls)\n",
        "        n = len(os.listdir(pfolder))\n",
        "        # total = n_pos + n_neg\n",
        "        n_type += n\n",
        "        # type_pos += n_pos\n",
        "        # type_neg += n_neg\n",
        "        print('total_{}: {} = {} positive + {} negative'.format(cls,n,n,0))\n",
        "        class_weights[type]['{}'.format(cls)] = 1/n if n else 0\n",
        "    print('Total {}: {} = {} positive + {} negative'.format(type,n_type,n_type,0))\n",
        "    for loc in class_weights[type].keys():\n",
        "        class_weights[type][loc] *= n_type\n",
        "    grand_total += n_type\n",
        "print('\\nGRAND TOTAL: {} = {} positive + {} negative'.format(grand_total,grand_total,0))"
      ],
      "execution_count": 9,
      "outputs": [
        {
          "output_type": "stream",
          "text": [
            "\n",
            "Total 'Serial' Patches per location:\n",
            "total_1: 106 = 106 positive + 0 negative\n",
            "total_2: 162 = 162 positive + 0 negative\n",
            "total_3: 614 = 614 positive + 0 negative\n",
            "total_4: 303 = 303 positive + 0 negative\n",
            "total_5: 108 = 108 positive + 0 negative\n",
            "total_6: 169 = 169 positive + 0 negative\n",
            "total_7: 3 = 3 positive + 0 negative\n",
            "total_0: 418 = 418 positive + 0 negative\n",
            "Total Serial: 1883 = 1883 positive + 0 negative\n",
            "\n",
            "Total 'Control' Patches per location:\n",
            "total_1: 13 = 13 positive + 0 negative\n",
            "total_2: 20 = 20 positive + 0 negative\n",
            "total_3: 77 = 77 positive + 0 negative\n",
            "total_4: 40 = 40 positive + 0 negative\n",
            "total_5: 10 = 10 positive + 0 negative\n",
            "total_6: 19 = 19 positive + 0 negative\n",
            "total_7: 3 = 3 positive + 0 negative\n",
            "total_0: 106 = 106 positive + 0 negative\n",
            "Total Control: 288 = 288 positive + 0 negative\n",
            "\n",
            "Total 'Streak' Patches per location:\n",
            "total_1: 305 = 305 positive + 0 negative\n",
            "total_2: 431 = 431 positive + 0 negative\n",
            "total_3: 880 = 880 positive + 0 negative\n",
            "total_4: 522 = 522 positive + 0 negative\n",
            "total_5: 279 = 279 positive + 0 negative\n",
            "total_6: 378 = 378 positive + 0 negative\n",
            "total_7: 56 = 56 positive + 0 negative\n",
            "total_0: 478 = 478 positive + 0 negative\n",
            "Total Streak: 3329 = 3329 positive + 0 negative\n",
            "\n",
            "GRAND TOTAL: 5500 = 5500 positive + 0 negative\n"
          ],
          "name": "stdout"
        }
      ]
    },
    {
      "cell_type": "markdown",
      "metadata": {
        "colab_type": "text",
        "id": "TLfSmpKFPLFu"
      },
      "source": [
        "### **Let's downsample training ('Serial') classes to no more than the minimum between 'C4-7' and 'C5':**"
      ]
    },
    {
      "cell_type": "code",
      "metadata": {
        "colab_type": "code",
        "id": "IPt4zNrWPJed",
        "outputId": "f18f2445-d497-4df9-f6bd-ef6190f5be60",
        "colab": {
          "base_uri": "https://localhost:8080/",
          "height": 407
        }
      },
      "source": [
        "train_type = 'Serial'\n",
        "print('Before downsampling training patches:')\n",
        "totals = {}\n",
        "n_type, type_pos, type_neg = 0, 0, 0\n",
        "for cls in classes:\n",
        "    pos_folder = './Img_Patches/{}/{}'.format(train_type,cls)\n",
        "    n_pos = len(os.listdir(pos_folder))\n",
        "    total = n_pos\n",
        "    n_type += total\n",
        "    print('total_{}: {} = {} positive + {} negative'.format(cls,total,total,0))\n",
        "    totals['{}'.format(cls)] = n_pos if n_pos else 0\n",
        "print('Total {}: {} = {} positive + {} negative\\n'.format(train_type,n_type,n_type,0))\n",
        "\n",
        "if totals['4'] < totals['5']:\n",
        "    minority = '4'\n",
        "else:\n",
        "    minority = '5'\n",
        "n_min = totals[minority]\n",
        "for key, value in totals.items():\n",
        "    #if key != minority and key not in ['C4-7','C5']:\n",
        "    if key != minority:\n",
        "        n_to_delete = max(value-n_min, 0)\n",
        "        root = './Img_Patches/{}/{}/'.format(train_type,key)\n",
        "        patches = os.listdir(root)\n",
        "        patches_to_delete = np.random.choice(patches, n_to_delete, replace=False)\n",
        "        for patch in patches_to_delete:\n",
        "            pass\n",
        "            os.remove(root + patch)\n",
        "\n",
        "print('After downsampling training patches:')\n",
        "totals = {}\n",
        "n_type, type_pos, type_neg = 0, 0, 0\n",
        "for cls in classes:\n",
        "    pos_folder = './Img_Patches/{}/{}'.format(train_type,cls)\n",
        "    n_pos = len(os.listdir(pos_folder))\n",
        "    total = n_pos\n",
        "    n_type += total\n",
        "    print('total_{}: {} = {} positive + {} negative'.format(cls,total,total,0))\n",
        "    totals['{}'.format(cls)] = n_pos if n_pos else 0\n",
        "print('Total {}: {} = {} positive + {} negative\\n'.format(train_type,n_type,n_type,0))"
      ],
      "execution_count": 10,
      "outputs": [
        {
          "output_type": "stream",
          "text": [
            "Before downsampling training patches:\n",
            "total_1: 106 = 106 positive + 0 negative\n",
            "total_2: 162 = 162 positive + 0 negative\n",
            "total_3: 614 = 614 positive + 0 negative\n",
            "total_4: 303 = 303 positive + 0 negative\n",
            "total_5: 108 = 108 positive + 0 negative\n",
            "total_6: 169 = 169 positive + 0 negative\n",
            "total_7: 3 = 3 positive + 0 negative\n",
            "total_0: 418 = 418 positive + 0 negative\n",
            "Total Serial: 1883 = 1883 positive + 0 negative\n",
            "\n",
            "After downsampling training patches:\n",
            "total_1: 106 = 106 positive + 0 negative\n",
            "total_2: 108 = 108 positive + 0 negative\n",
            "total_3: 108 = 108 positive + 0 negative\n",
            "total_4: 108 = 108 positive + 0 negative\n",
            "total_5: 108 = 108 positive + 0 negative\n",
            "total_6: 108 = 108 positive + 0 negative\n",
            "total_7: 3 = 3 positive + 0 negative\n",
            "total_0: 108 = 108 positive + 0 negative\n",
            "Total Serial: 757 = 757 positive + 0 negative\n",
            "\n"
          ],
          "name": "stdout"
        }
      ]
    },
    {
      "cell_type": "markdown",
      "metadata": {
        "colab_type": "text",
        "id": "e8a8ZcfKKvw5"
      },
      "source": [
        "### **Let's move all patches for classes other than 'C4-7' or 'C5', to a single folder called 'all_other':**"
      ]
    },
    {
      "cell_type": "code",
      "metadata": {
        "colab_type": "code",
        "id": "Dz9V2uuxLM50",
        "colab": {}
      },
      "source": [
        "for type_ in ['Serial', 'Control', 'Streak']:\n",
        "    folder = './Img_Patches/{}/'.format(type_)\n",
        "    if 'all_other' not in os.listdir(folder):\n",
        "        dest = folder + 'all_other'\n",
        "        os.mkdir(dest)\n",
        "\n",
        "    for cls in classes:\n",
        "        if cls in ['4','5']: continue\n",
        "        cls_folder = folder + cls\n",
        "        for patch in os.listdir(cls_folder):\n",
        "            source = cls_folder + '/' + patch\n",
        "            shutil.copy(source, dest)\n",
        "        shutil.rmtree(cls_folder)"
      ],
      "execution_count": 0,
      "outputs": []
    },
    {
      "cell_type": "markdown",
      "metadata": {
        "colab_type": "text",
        "id": "1sPAFxK7REM7"
      },
      "source": [
        "### **Let's count patches by type and class again:**"
      ]
    },
    {
      "cell_type": "code",
      "metadata": {
        "colab_type": "code",
        "id": "WmKlpYPZRE-_",
        "outputId": "1a4801d2-5b7a-4ddb-bca2-78ad6c841647",
        "colab": {
          "base_uri": "https://localhost:8080/",
          "height": 372
        }
      },
      "source": [
        "class_weights = {} # empty dictionary to store class weights\n",
        "classes = ['4','5','all_other']\n",
        "grand_total, pos_total, neg_total = 0, 0, 0\n",
        "\n",
        "for type in ['Serial', 'Control', 'Streak']:\n",
        "    print(\"\\nTotal '{}' Patches per location:\".format(type))\n",
        "    n_type, type_pos, type_neg = 0, 0, 0\n",
        "    class_weights[type] = {} # nested empty dictionary to store class weights\n",
        "    for cls in classes:\n",
        "        pos_folder = './Img_Patches/{}/{}'.format(type,cls)\n",
        "        n_pos = len(os.listdir(pos_folder))\n",
        "        total = n_pos\n",
        "        n_type += total\n",
        "        print('total_{}: {} = {} positive + {} negative'.format(cls,total,total,0))\n",
        "        class_weights[type]['{}'.format(cls)] = 1/n_pos if n_pos else 0\n",
        "    print('Total {}: {} = {} positive + {} negative'.format(type,n_type,n_type,0))\n",
        "    for loc in class_weights[type].keys():\n",
        "        class_weights[type][loc] *= type_pos\n",
        "    grand_total += n_type\n",
        "print('\\nGRAND TOTAL: {} = {} positive + {} negative'.format(grand_total,grand_total,0))"
      ],
      "execution_count": 12,
      "outputs": [
        {
          "output_type": "stream",
          "text": [
            "\n",
            "Total 'Serial' Patches per location:\n",
            "total_4: 108 = 108 positive + 0 negative\n",
            "total_5: 108 = 108 positive + 0 negative\n",
            "total_all_other: 541 = 541 positive + 0 negative\n",
            "Total Serial: 757 = 757 positive + 0 negative\n",
            "\n",
            "Total 'Control' Patches per location:\n",
            "total_4: 40 = 40 positive + 0 negative\n",
            "total_5: 10 = 10 positive + 0 negative\n",
            "total_all_other: 238 = 238 positive + 0 negative\n",
            "Total Control: 288 = 288 positive + 0 negative\n",
            "\n",
            "Total 'Streak' Patches per location:\n",
            "total_4: 522 = 522 positive + 0 negative\n",
            "total_5: 279 = 279 positive + 0 negative\n",
            "total_all_other: 2493 = 2493 positive + 0 negative\n",
            "Total Streak: 3294 = 3294 positive + 0 negative\n",
            "\n",
            "GRAND TOTAL: 4339 = 4339 positive + 0 negative\n"
          ],
          "name": "stdout"
        }
      ]
    },
    {
      "cell_type": "markdown",
      "metadata": {
        "colab_type": "text",
        "id": "Vb9BMr39R9LH"
      },
      "source": [
        "### **Since we want to focus on 'C4-7' and 'C5', let's downsample again:**"
      ]
    },
    {
      "cell_type": "code",
      "metadata": {
        "colab_type": "code",
        "id": "31ZsitULR-Ap",
        "outputId": "5e329755-6455-445d-ea9b-b5a11fb5298d",
        "colab": {
          "base_uri": "https://localhost:8080/",
          "height": 230
        }
      },
      "source": [
        "train_type = 'Serial'\n",
        "print('Before downsampling training patches:')\n",
        "totals = {}\n",
        "n_type, type_pos, type_neg = 0, 0, 0\n",
        "for cls in classes:\n",
        "    pos_folder = './Img_Patches/{}/{}'.format(train_type,cls)\n",
        "    n_pos = len(os.listdir(pos_folder))\n",
        "    total = n_pos\n",
        "    n_type += total\n",
        "    print('total_{}: {} = {} positive + {} negative'.format(cls,total,total,0))\n",
        "    totals['{}'.format(cls)] = n_pos if n_pos else 0\n",
        "print('Total {}: {} = {} positive + {} negative\\n'.format(train_type,n_type,type_pos,type_neg))\n",
        "\n",
        "minority = min(totals, key=totals.get)\n",
        "n_min = totals[minority]\n",
        "for key, value in totals.items():\n",
        "    if key != minority and key not in ['4','5']:\n",
        "        n_to_delete = value - n_min\n",
        "        root = './Img_Patches/{}/{}/'.format(train_type,key)\n",
        "        patches = os.listdir(root)\n",
        "        patches_to_delete = np.random.choice(patches, n_to_delete, replace=False)\n",
        "        for patch in patches_to_delete:\n",
        "            pass\n",
        "            os.remove(root + patch)\n",
        "\n",
        "print('After downsampling training patches:')\n",
        "totals = {}\n",
        "n_type, type_pos, type_neg = 0, 0, 0\n",
        "for cls in classes:\n",
        "    pos_folder = './Img_Patches/{}/{}'.format(train_type,cls)\n",
        "    n_pos = len(os.listdir(pos_folder))\n",
        "    total = n_pos\n",
        "    n_type += total\n",
        "    print('total_{}: {} = {} positive + {} negative'.format(cls,total,total,0))\n",
        "    class_weights[train_type]['{}'.format(cls)] = 1/n_pos if n_pos else 0\n",
        "    totals['{}'.format(cls)] = n_pos if n_pos else 0\n",
        "print('Total {}: {} = {} positive + {} negative\\n'.format(train_type,n_type,n_type,0))\n",
        "for loc in class_weights[train_type].keys():\n",
        "    class_weights[train_type][loc] *= n_type"
      ],
      "execution_count": 13,
      "outputs": [
        {
          "output_type": "stream",
          "text": [
            "Before downsampling training patches:\n",
            "total_4: 108 = 108 positive + 0 negative\n",
            "total_5: 108 = 108 positive + 0 negative\n",
            "total_all_other: 541 = 541 positive + 0 negative\n",
            "Total Serial: 757 = 0 positive + 0 negative\n",
            "\n",
            "After downsampling training patches:\n",
            "total_4: 108 = 108 positive + 0 negative\n",
            "total_5: 108 = 108 positive + 0 negative\n",
            "total_all_other: 108 = 108 positive + 0 negative\n",
            "Total Serial: 324 = 324 positive + 0 negative\n",
            "\n"
          ],
          "name": "stdout"
        }
      ]
    },
    {
      "cell_type": "markdown",
      "metadata": {
        "colab_type": "text",
        "id": "i2gctgbsF-fF"
      },
      "source": [
        "### **Let's downsample positive majority classes in validation ('Control')patches**"
      ]
    },
    {
      "cell_type": "code",
      "metadata": {
        "colab_type": "code",
        "id": "tJETu-bSF_R8",
        "outputId": "d06477ea-003b-423b-ab53-2fdf9e6ac4fb",
        "colab": {
          "base_uri": "https://localhost:8080/",
          "height": 230
        }
      },
      "source": [
        "val_type = 'Control'\n",
        "print('Before downsampling validation patches:')\n",
        "totals = {}\n",
        "n_type, type_pos, type_neg = 0, 0, 0\n",
        "for cls in classes:\n",
        "    pos_folder = './Img_Patches/{}/{}'.format(val_type,cls)\n",
        "    n_pos = len(os.listdir(pos_folder))\n",
        "    total = n_pos\n",
        "    n_type += total\n",
        "    print('total_{}: {} = {} positive + {} negative'.format(cls,total,total,0))\n",
        "    totals['{}'.format(cls)] = n_pos if n_pos else 0\n",
        "print('Total {}: {} = {} positive + {} negative\\n'.format(val_type,n_type,n_type,0))\n",
        "\n",
        "minority = min(totals, key=totals.get)\n",
        "n_min = totals[minority]\n",
        "for key, value in totals.items():\n",
        "    if key != minority:\n",
        "        n_to_delete = value - n_min\n",
        "        root = './Img_Patches/{}/{}/'.format(val_type,key)\n",
        "        patches = os.listdir(root)\n",
        "        patches_to_delete = np.random.choice(patches, n_to_delete, replace=False)\n",
        "        for patch in patches_to_delete:\n",
        "            os.remove(root + patch)\n",
        "\n",
        "print('After downsampling validation patches:')\n",
        "totals = {}\n",
        "n_type, type_pos, type_neg = 0, 0, 0\n",
        "for cls in classes:\n",
        "    pos_folder = './Img_Patches/{}/{}'.format(val_type,cls)\n",
        "    n_pos = len(os.listdir(pos_folder))\n",
        "    total = n_pos\n",
        "    n_type += total\n",
        "    print('total_{}: {} = {} positive + {} negative'.format(cls,total,total,0))\n",
        "    totals['{}'.format(cls)] = n_pos if n_pos else 0\n",
        "print('Total {}: {} = {} positive + {} negative\\n'.format(val_type,n_type,n_type,0))"
      ],
      "execution_count": 14,
      "outputs": [
        {
          "output_type": "stream",
          "text": [
            "Before downsampling validation patches:\n",
            "total_4: 40 = 40 positive + 0 negative\n",
            "total_5: 10 = 10 positive + 0 negative\n",
            "total_all_other: 238 = 238 positive + 0 negative\n",
            "Total Control: 288 = 288 positive + 0 negative\n",
            "\n",
            "After downsampling validation patches:\n",
            "total_4: 10 = 10 positive + 0 negative\n",
            "total_5: 10 = 10 positive + 0 negative\n",
            "total_all_other: 10 = 10 positive + 0 negative\n",
            "Total Control: 30 = 30 positive + 0 negative\n",
            "\n"
          ],
          "name": "stdout"
        }
      ]
    },
    {
      "cell_type": "markdown",
      "metadata": {
        "colab_type": "text",
        "id": "GNJ7lSKQpdOT"
      },
      "source": [
        "#### **Let's build image generators, using keras.preprocessing.image.ImageDataGenerator, rescaling image pixel values from [0,  255] to [0, 1]:**"
      ]
    },
    {
      "cell_type": "code",
      "metadata": {
        "colab_type": "code",
        "id": "UANfdA6IUFKt",
        "outputId": "cbcd6db5-a496-4673-d2a0-944b72f0319c",
        "colab": {
          "base_uri": "https://localhost:8080/",
          "height": 105
        }
      },
      "source": [
        "c1_pos_folder = './Img_Patches/Serial/5'\n",
        "img = plt.imread(c1_pos_folder + '/' + os.listdir(c1_pos_folder)[:5][0])\n",
        "img_size = img.shape\n",
        "train_batch_size = 32\n",
        "val_batch_size = 64\n",
        "\n",
        "datagen = ImageDataGenerator(rescale=1./255)\n",
        "val_datagen = ImageDataGenerator(rescale=1./255)\n",
        "\n",
        "print(\"For training:\")\n",
        "train_generator = datagen.flow_from_directory(\n",
        "        './Img_Patches/Serial',\n",
        "        target_size=(img_size[0],img_size[1]),\n",
        "        batch_size=train_batch_size,\n",
        "        class_mode='categorical',\n",
        "        shuffle=True)\n",
        "\n",
        "print(\"\\nFor validation:\")\n",
        "val_generator = val_datagen.flow_from_directory(\n",
        "        './Img_Patches/Control',\n",
        "        target_size=(img_size[0],img_size[1]),\n",
        "        batch_size=val_batch_size,\n",
        "        class_mode='categorical',\n",
        "        shuffle=False)"
      ],
      "execution_count": 15,
      "outputs": [
        {
          "output_type": "stream",
          "text": [
            "For training:\n",
            "Found 324 images belonging to 3 classes.\n",
            "\n",
            "For validation:\n",
            "Found 30 images belonging to 3 classes.\n"
          ],
          "name": "stdout"
        }
      ]
    },
    {
      "cell_type": "markdown",
      "metadata": {
        "colab_type": "text",
        "id": "44ZzUGXvwqUn"
      },
      "source": [
        "#### **Let's check what is the training generator's index for each class, so we can correclty set up the class weights:**"
      ]
    },
    {
      "cell_type": "code",
      "metadata": {
        "colab_type": "code",
        "id": "tSHQNC2awn84",
        "outputId": "87aa76d9-1f93-4260-bd26-f9e07b48ff5a",
        "colab": {
          "base_uri": "https://localhost:8080/",
          "height": 105
        }
      },
      "source": [
        "print('train_generator.class_indices:', str(json.dumps(train_generator.class_indices, indent=2, default=str)))"
      ],
      "execution_count": 16,
      "outputs": [
        {
          "output_type": "stream",
          "text": [
            "train_generator.class_indices: {\n",
            "  \"4\": 0,\n",
            "  \"5\": 1,\n",
            "  \"all_other\": 2\n",
            "}\n"
          ],
          "name": "stdout"
        }
      ]
    },
    {
      "cell_type": "markdown",
      "metadata": {
        "colab_type": "text",
        "id": "o30MT4e2O7gk"
      },
      "source": [
        "#### **Let's set up the class weights in correct order:**"
      ]
    },
    {
      "cell_type": "code",
      "metadata": {
        "colab_type": "code",
        "id": "U2gsR9n6w2vm",
        "outputId": "fa6de317-2468-4761-bf26-3c474af9c172",
        "colab": {
          "base_uri": "https://localhost:8080/",
          "height": 230
        }
      },
      "source": [
        "serial_pos_weights = []\n",
        "for cls in classes:\n",
        "    serial_pos_weights.append(class_weights['Serial']['{}'.format(cls)])\n",
        "print('original class weights dictionary:')\n",
        "print(str(json.dumps(class_weights['Serial'], indent=2, default=str)))\n",
        "print('class weights for generator, re-arranging indexes:')\n",
        "print(str(json.dumps(serial_pos_weights, indent=2, default=str)))"
      ],
      "execution_count": 17,
      "outputs": [
        {
          "output_type": "stream",
          "text": [
            "original class weights dictionary:\n",
            "{\n",
            "  \"4\": 3.0,\n",
            "  \"5\": 3.0,\n",
            "  \"all_other\": 3.0\n",
            "}\n",
            "class weights for generator, re-arranging indexes:\n",
            "[\n",
            "  3.0,\n",
            "  3.0,\n",
            "  3.0\n",
            "]\n"
          ],
          "name": "stdout"
        }
      ]
    },
    {
      "cell_type": "markdown",
      "metadata": {
        "colab_type": "text",
        "id": "gdXBPBsVxA39"
      },
      "source": [
        "## **Let's build our Base Model. We will use Resnet:**"
      ]
    },
    {
      "cell_type": "markdown",
      "metadata": {
        "colab_type": "text",
        "id": "AjNmNKdHw4tM"
      },
      "source": [
        "#### **First. let's create a function to build a residual block.**\n",
        "\n",
        "#### We will use the residual block proposed in  [ResNetV2](https://arxiv.org/pdf/1603.05027.pdf) and will implement it by ourselves:\n",
        "\n",
        "\n",
        ">![Google's logo](https://camo.githubusercontent.com/7ae470c333cd76078e1c669055ad98bcedaf523f/68747470733a2f2f71696974612d696d6167652d73746f72652e73332e616d617a6f6e6177732e636f6d2f302f3130303532332f61313536613563322d303236622d646535352d613666622d6534666131373732623432632e706e67)"
      ]
    },
    {
      "cell_type": "code",
      "metadata": {
        "colab_type": "code",
        "id": "e-DqZH20w3ji",
        "colab": {}
      },
      "source": [
        "def res_block(X, filters, kernel_size=(3,3), l2_reg=1e-6, residual=True,\n",
        "              first=False, subsampling=False):\n",
        "    \"\"\"\n",
        "    Function to build a residual block as proposed in ResNetV2:\n",
        "             https://arxiv.org/pdf/1603.05027.pdf:\n",
        "    :param X: The input to the residual block\n",
        "    :param filters: Integer. Number of filters / channels in the output\n",
        "    :param kernel_size: Tuple (Int, Int). kernel size for convolution operations\n",
        "    :param l2_reg: Float. L2 norm for L2 regularization\n",
        "    :param residual: Boolean. True if residual block. Otherwise 'plain' block.\n",
        "    :param first: Boolean. True if first residual block -> ZeroPad and Maxpool.\n",
        "    :param subsampling: Boolean. True if subsampling within the residual block.\n",
        "    :return: the addition output from the residual block proposed in ResNetV2:\n",
        "              https://arxiv.org/pdf/1603.05027.pdf\n",
        "    \"\"\"\n",
        "    bn = BatchNormalization()(X)\n",
        "    relu = Activation(\"relu\")(bn)\n",
        "    \n",
        "    if first: #The first layer is subsampled with Maxpool\n",
        "      pad = ZeroPadding2D(padding=(1, 1))(relu)\n",
        "      relu = MaxPooling2D(pool_size=(3, 3), strides=(2,2))(pad)    \n",
        "    \n",
        "    if subsampling: #Resnet reduces size just by using stride=2 instead of pool\n",
        "      #Here we will reduce the size (subsample) by using stride 2 \n",
        "      conv_1 = Conv2D(filters, kernel_size, strides=(2,2), padding='same',\n",
        "                         kernel_regularizer=regularizers.l2(l2_reg),\n",
        "                         kernel_initializer = glorot_uniform(0),\n",
        "                         bias_initializer = glorot_uniform(0))(relu)\n",
        "      if residual:\n",
        "        #To be able to add, we also need to reduce size of input\n",
        "        #For this, we will just use a 1x1 Conv2D with stride 2  \n",
        "        res = Conv2D(filters, kernel_size=[1,1], strides=(2,2),\n",
        "                     padding='same')(X)\n",
        "    else: #No subsampling, same size as input\n",
        "      conv_1 = Conv2D(filters, kernel_size, strides=(1,1), padding='same',\n",
        "                   kernel_regularizer=regularizers.l2(l2_reg),\n",
        "                   kernel_initializer = glorot_uniform(0),\n",
        "                   bias_initializer = glorot_uniform(0))(relu)\n",
        "      if residual:\n",
        "        if first: #The first layer is subsampled with Maxpool so, resize X\n",
        "          #For this, we will just use a 1x1 Conv2D with stride 2\n",
        "          res = Conv2D(filters, kernel_size=[1,1], strides=(2,2),\n",
        "                     padding='same')(X)\n",
        "        else:\n",
        "          res = X\n",
        "    bn = BatchNormalization()(conv_1)\n",
        "    relu = Activation(\"relu\")(bn)\n",
        "\n",
        "    conv_2 = Conv2D(filters, kernel_size, padding='same',\n",
        "                       kernel_regularizer=regularizers.l2(l2_reg),\n",
        "                       kernel_initializer = glorot_uniform(0),\n",
        "                       bias_initializer = glorot_uniform(0))(relu)\n",
        "    if residual:\n",
        "      add = keras.layers.add([res, conv_2])\n",
        "      return add\n",
        "    else:\n",
        "      return conv_2"
      ],
      "execution_count": 0,
      "outputs": []
    },
    {
      "cell_type": "markdown",
      "metadata": {
        "colab_type": "text",
        "id": "0K3-02NNUXOV"
      },
      "source": [
        "#### **Second, let's create a function to build a Resnet network:**"
      ]
    },
    {
      "cell_type": "code",
      "metadata": {
        "colab_type": "code",
        "id": "32s7rai-609p",
        "colab": {}
      },
      "source": [
        "#from keras.layers import AveragePooling2D, GlobalAveragePooling2D\n",
        "\n",
        "def make_resnet(img_size, n_classes, layers_per_group, n_filters, \n",
        "                    kernel_sizes, l2_reg=1e-6, optimizer=keras.optimizers.SGD,\n",
        "                    lr=1e-1, decay=1e-4, momentum=0.9, residual=True):\n",
        "  \n",
        "    \"\"\"\n",
        "    Function to build ResNet network, but with some user defined parameters.\n",
        "        \n",
        "        ResNet network input size is (224,224,3) then it starts with one \n",
        "        convolution layer, (7x7x64, stride 2) followed by maxpool (3x3, stride2) \n",
        "        then it will build 4 layer groups and the user will define the number of\n",
        "        residual layers per group.\n",
        "        \n",
        "        As example, ResNet34, after the first convolution layer, it has 4 groups\n",
        "        of layers with the following number of residual 'layers_per_group':\n",
        "        [6,8,12,6]\n",
        "        Because the residual connections are made between pair of layers, the\n",
        "        number of layers for each group must be a pair number.\n",
        "        \n",
        "        The user will also be able to define the number of filters and size of\n",
        "        each filter, independently for each group of layers. All layers in the\n",
        "        same group group will have the same number of filters and each filter\n",
        "        within the group will have the same size.\n",
        "        \n",
        "        Same as ResNet, an average pooling layer follows after the 4 groups\n",
        "        of layers.\n",
        "    \n",
        "    :param img_size: Size of input image, in the form: (size, size, #channels)\n",
        "    :param n_classes: Integer. Number of classes for classification.\n",
        "    :param layers_per_group: List with # of layers per group (e.g.[6,8,12,6])\n",
        "    :param n_filters: List of length 4, with number of filters for each group of\n",
        "                      layers.\n",
        "    :param kernel_sizes: List of length 4, with kernel sizes tuples for each \n",
        "                          group of layers\n",
        "    :param l2_reg: Float. L2 norm for L2 regularization\n",
        "    :param optimizer: A keras optimizer from keras.optimizers\n",
        "    :param lr: Float. learning rate for the optimizer.\n",
        "    :param decay: Float. learning rate decay for the optimizer.\n",
        "    :param momentum: Float. Momentum for SGD if optimizer=keras.optimizers.SGD\n",
        "    :param residual: Boolean. True if residual net. Otherwise 'plain' net.\n",
        "    :return: CNN with residual connections, similar to ResNet32\n",
        "    \"\"\"\n",
        "    \n",
        "    if len(layers_per_block) != len(n_filters) or len(layers_per_block) !=\\\n",
        "        len(kernel_sizes) or len(n_filters) != len(n_filters):\n",
        "        e = \"Length of 'layers_per_block', 'n_filters' and 'kernel_sizes'\" +\\\n",
        "        \" must be the same\"\n",
        "        raise Exception(e)  \n",
        "\n",
        "    for layers in layers_per_block:\n",
        "      if layers % 2 == 1:\n",
        "        e = \"Number of 'layers_per_block' must be even/pair numbers\"\n",
        "        raise Exception(e)\n",
        "      \n",
        "    inputs = Input(shape=img_size)\n",
        "    \n",
        "    n_filters_conv1 = 64\n",
        "    kernel_sizes_conv1 = (5,5) # kernel size for very first conv layer\n",
        "    strides_conv1 = (2,2)\n",
        "    \n",
        "    conv1 = Conv2D(n_filters_conv1, kernel_sizes_conv1, strides=strides_conv1,\n",
        "                   padding='same', kernel_regularizer=regularizers.l2(l2_reg),\n",
        "                   kernel_initializer = glorot_uniform(0),\n",
        "                   bias_initializer = glorot_uniform(0))(inputs)\n",
        "    \n",
        "    layer_count = 1 # counter for the number of layers\n",
        "    for i in range(len(layers_per_block)):\n",
        "      for j in range(int(layers_per_block[i]/2)):\n",
        "        if j == 0:\n",
        "          if i == 0:\n",
        "            add = res_block(conv1, n_filters[i], kernel_sizes[i], l2_reg,\n",
        "                            residual, first=True)\n",
        "            #add = res_block(conv0_1, n_filters[i], kernel_sizes[i], l2_reg,\n",
        "            #                residual, subsampling=True)\n",
        "          else:\n",
        "            add = res_block(add, n_filters[i], kernel_sizes[i], l2_reg,\n",
        "                            residual, subsampling=True)\n",
        "        else:\n",
        "          add = res_block(add, n_filters[i], kernel_sizes[i], l2_reg,\n",
        "                          residual)\n",
        "          \n",
        "    bn = BatchNormalization()(add)\n",
        "    relu = Activation(\"relu\")(bn)\n",
        "\n",
        "    flat = GlobalAveragePooling2D()(relu)\n",
        "\n",
        "    out = Dense(n_classes, activation='softmax',\n",
        "                      kernel_regularizer=regularizers.l2(l2_reg),\n",
        "                      kernel_initializer=glorot_uniform(0),\n",
        "                      bias_initializer=glorot_uniform(0))(flat)\n",
        "\n",
        "    res_cnn = Model(inputs=inputs, outputs=out)\n",
        "\n",
        "    if optimizer == keras.optimizers.Nadam:\n",
        "        res_cnn.compile(optimizer(lr=lr, schedule_decay=decay),\n",
        "                    \"categorical_crossentropy\", metrics=['accuracy'])\n",
        "    elif optimizer == keras.optimizers.SGD:\n",
        "        res_cnn.compile(optimizer(lr=lr, momentum=momentum, decay=decay),\n",
        "                        \"categorical_crossentropy\", metrics=['accuracy'])\n",
        "    else:\n",
        "        res_cnn.compile(optimizer(lr=lr, decay=decay),\n",
        "                        \"categorical_crossentropy\", metrics=['accuracy'])\n",
        "    return res_cnn"
      ],
      "execution_count": 0,
      "outputs": []
    },
    {
      "cell_type": "markdown",
      "metadata": {
        "colab_type": "text",
        "id": "m21vIzndbOIZ"
      },
      "source": [
        "### **Let's build a ResNet18:**"
      ]
    },
    {
      "cell_type": "code",
      "metadata": {
        "colab_type": "code",
        "id": "rLvSCOTsAuKF",
        "outputId": "c37313ee-2607-4f97-c8b8-74dcaad64e16",
        "colab": {
          "base_uri": "https://localhost:8080/",
          "height": 1000
        }
      },
      "source": [
        "classes = list(iter(train_generator.class_indices))\n",
        "n_classes = len(classes)\n",
        "layers_per_block = [4, 4, 4, 4] #18 layers total with first conv and last FC\n",
        "n_filters = [64, 128, 256, 512]\n",
        "kernel_sizes = [(3,3), (3,3), (3,3), (3,3)]\n",
        "l2_reg = 0.1\n",
        "optimizer = RMSprop # Adamax, RMSprop, Adam (No: Nadam, SGD)\n",
        "lr = 1e-3\n",
        "decay = 0.01\n",
        "momentum = 0.9\n",
        "\n",
        "res_cnn = make_resnet(img_size, n_classes, layers_per_block, n_filters,\n",
        "                       kernel_sizes, l2_reg, optimizer, lr, decay, momentum)\n",
        "res_cnn.summary()"
      ],
      "execution_count": 21,
      "outputs": [
        {
          "output_type": "stream",
          "text": [
            "Model: \"model_2\"\n",
            "__________________________________________________________________________________________________\n",
            "Layer (type)                    Output Shape         Param #     Connected to                     \n",
            "==================================================================================================\n",
            "input_2 (InputLayer)            (None, 256, 256, 3)  0                                            \n",
            "__________________________________________________________________________________________________\n",
            "conv2d_22 (Conv2D)              (None, 128, 128, 64) 4864        input_2[0][0]                    \n",
            "__________________________________________________________________________________________________\n",
            "batch_normalization_18 (BatchNo (None, 128, 128, 64) 256         conv2d_22[0][0]                  \n",
            "__________________________________________________________________________________________________\n",
            "activation_18 (Activation)      (None, 128, 128, 64) 0           batch_normalization_18[0][0]     \n",
            "__________________________________________________________________________________________________\n",
            "zero_padding2d_2 (ZeroPadding2D (None, 130, 130, 64) 0           activation_18[0][0]              \n",
            "__________________________________________________________________________________________________\n",
            "max_pooling2d_2 (MaxPooling2D)  (None, 64, 64, 64)   0           zero_padding2d_2[0][0]           \n",
            "__________________________________________________________________________________________________\n",
            "conv2d_23 (Conv2D)              (None, 64, 64, 64)   36928       max_pooling2d_2[0][0]            \n",
            "__________________________________________________________________________________________________\n",
            "batch_normalization_19 (BatchNo (None, 64, 64, 64)   256         conv2d_23[0][0]                  \n",
            "__________________________________________________________________________________________________\n",
            "activation_19 (Activation)      (None, 64, 64, 64)   0           batch_normalization_19[0][0]     \n",
            "__________________________________________________________________________________________________\n",
            "conv2d_24 (Conv2D)              (None, 64, 64, 64)   4160        conv2d_22[0][0]                  \n",
            "__________________________________________________________________________________________________\n",
            "conv2d_25 (Conv2D)              (None, 64, 64, 64)   36928       activation_19[0][0]              \n",
            "__________________________________________________________________________________________________\n",
            "add_9 (Add)                     (None, 64, 64, 64)   0           conv2d_24[0][0]                  \n",
            "                                                                 conv2d_25[0][0]                  \n",
            "__________________________________________________________________________________________________\n",
            "batch_normalization_20 (BatchNo (None, 64, 64, 64)   256         add_9[0][0]                      \n",
            "__________________________________________________________________________________________________\n",
            "activation_20 (Activation)      (None, 64, 64, 64)   0           batch_normalization_20[0][0]     \n",
            "__________________________________________________________________________________________________\n",
            "conv2d_26 (Conv2D)              (None, 64, 64, 64)   36928       activation_20[0][0]              \n",
            "__________________________________________________________________________________________________\n",
            "batch_normalization_21 (BatchNo (None, 64, 64, 64)   256         conv2d_26[0][0]                  \n",
            "__________________________________________________________________________________________________\n",
            "activation_21 (Activation)      (None, 64, 64, 64)   0           batch_normalization_21[0][0]     \n",
            "__________________________________________________________________________________________________\n",
            "conv2d_27 (Conv2D)              (None, 64, 64, 64)   36928       activation_21[0][0]              \n",
            "__________________________________________________________________________________________________\n",
            "add_10 (Add)                    (None, 64, 64, 64)   0           add_9[0][0]                      \n",
            "                                                                 conv2d_27[0][0]                  \n",
            "__________________________________________________________________________________________________\n",
            "batch_normalization_22 (BatchNo (None, 64, 64, 64)   256         add_10[0][0]                     \n",
            "__________________________________________________________________________________________________\n",
            "activation_22 (Activation)      (None, 64, 64, 64)   0           batch_normalization_22[0][0]     \n",
            "__________________________________________________________________________________________________\n",
            "conv2d_28 (Conv2D)              (None, 32, 32, 128)  73856       activation_22[0][0]              \n",
            "__________________________________________________________________________________________________\n",
            "batch_normalization_23 (BatchNo (None, 32, 32, 128)  512         conv2d_28[0][0]                  \n",
            "__________________________________________________________________________________________________\n",
            "activation_23 (Activation)      (None, 32, 32, 128)  0           batch_normalization_23[0][0]     \n",
            "__________________________________________________________________________________________________\n",
            "conv2d_29 (Conv2D)              (None, 32, 32, 128)  8320        add_10[0][0]                     \n",
            "__________________________________________________________________________________________________\n",
            "conv2d_30 (Conv2D)              (None, 32, 32, 128)  147584      activation_23[0][0]              \n",
            "__________________________________________________________________________________________________\n",
            "add_11 (Add)                    (None, 32, 32, 128)  0           conv2d_29[0][0]                  \n",
            "                                                                 conv2d_30[0][0]                  \n",
            "__________________________________________________________________________________________________\n",
            "batch_normalization_24 (BatchNo (None, 32, 32, 128)  512         add_11[0][0]                     \n",
            "__________________________________________________________________________________________________\n",
            "activation_24 (Activation)      (None, 32, 32, 128)  0           batch_normalization_24[0][0]     \n",
            "__________________________________________________________________________________________________\n",
            "conv2d_31 (Conv2D)              (None, 32, 32, 128)  147584      activation_24[0][0]              \n",
            "__________________________________________________________________________________________________\n",
            "batch_normalization_25 (BatchNo (None, 32, 32, 128)  512         conv2d_31[0][0]                  \n",
            "__________________________________________________________________________________________________\n",
            "activation_25 (Activation)      (None, 32, 32, 128)  0           batch_normalization_25[0][0]     \n",
            "__________________________________________________________________________________________________\n",
            "conv2d_32 (Conv2D)              (None, 32, 32, 128)  147584      activation_25[0][0]              \n",
            "__________________________________________________________________________________________________\n",
            "add_12 (Add)                    (None, 32, 32, 128)  0           add_11[0][0]                     \n",
            "                                                                 conv2d_32[0][0]                  \n",
            "__________________________________________________________________________________________________\n",
            "batch_normalization_26 (BatchNo (None, 32, 32, 128)  512         add_12[0][0]                     \n",
            "__________________________________________________________________________________________________\n",
            "activation_26 (Activation)      (None, 32, 32, 128)  0           batch_normalization_26[0][0]     \n",
            "__________________________________________________________________________________________________\n",
            "conv2d_33 (Conv2D)              (None, 16, 16, 256)  295168      activation_26[0][0]              \n",
            "__________________________________________________________________________________________________\n",
            "batch_normalization_27 (BatchNo (None, 16, 16, 256)  1024        conv2d_33[0][0]                  \n",
            "__________________________________________________________________________________________________\n",
            "activation_27 (Activation)      (None, 16, 16, 256)  0           batch_normalization_27[0][0]     \n",
            "__________________________________________________________________________________________________\n",
            "conv2d_34 (Conv2D)              (None, 16, 16, 256)  33024       add_12[0][0]                     \n",
            "__________________________________________________________________________________________________\n",
            "conv2d_35 (Conv2D)              (None, 16, 16, 256)  590080      activation_27[0][0]              \n",
            "__________________________________________________________________________________________________\n",
            "add_13 (Add)                    (None, 16, 16, 256)  0           conv2d_34[0][0]                  \n",
            "                                                                 conv2d_35[0][0]                  \n",
            "__________________________________________________________________________________________________\n",
            "batch_normalization_28 (BatchNo (None, 16, 16, 256)  1024        add_13[0][0]                     \n",
            "__________________________________________________________________________________________________\n",
            "activation_28 (Activation)      (None, 16, 16, 256)  0           batch_normalization_28[0][0]     \n",
            "__________________________________________________________________________________________________\n",
            "conv2d_36 (Conv2D)              (None, 16, 16, 256)  590080      activation_28[0][0]              \n",
            "__________________________________________________________________________________________________\n",
            "batch_normalization_29 (BatchNo (None, 16, 16, 256)  1024        conv2d_36[0][0]                  \n",
            "__________________________________________________________________________________________________\n",
            "activation_29 (Activation)      (None, 16, 16, 256)  0           batch_normalization_29[0][0]     \n",
            "__________________________________________________________________________________________________\n",
            "conv2d_37 (Conv2D)              (None, 16, 16, 256)  590080      activation_29[0][0]              \n",
            "__________________________________________________________________________________________________\n",
            "add_14 (Add)                    (None, 16, 16, 256)  0           add_13[0][0]                     \n",
            "                                                                 conv2d_37[0][0]                  \n",
            "__________________________________________________________________________________________________\n",
            "batch_normalization_30 (BatchNo (None, 16, 16, 256)  1024        add_14[0][0]                     \n",
            "__________________________________________________________________________________________________\n",
            "activation_30 (Activation)      (None, 16, 16, 256)  0           batch_normalization_30[0][0]     \n",
            "__________________________________________________________________________________________________\n",
            "conv2d_38 (Conv2D)              (None, 8, 8, 512)    1180160     activation_30[0][0]              \n",
            "__________________________________________________________________________________________________\n",
            "batch_normalization_31 (BatchNo (None, 8, 8, 512)    2048        conv2d_38[0][0]                  \n",
            "__________________________________________________________________________________________________\n",
            "activation_31 (Activation)      (None, 8, 8, 512)    0           batch_normalization_31[0][0]     \n",
            "__________________________________________________________________________________________________\n",
            "conv2d_39 (Conv2D)              (None, 8, 8, 512)    131584      add_14[0][0]                     \n",
            "__________________________________________________________________________________________________\n",
            "conv2d_40 (Conv2D)              (None, 8, 8, 512)    2359808     activation_31[0][0]              \n",
            "__________________________________________________________________________________________________\n",
            "add_15 (Add)                    (None, 8, 8, 512)    0           conv2d_39[0][0]                  \n",
            "                                                                 conv2d_40[0][0]                  \n",
            "__________________________________________________________________________________________________\n",
            "batch_normalization_32 (BatchNo (None, 8, 8, 512)    2048        add_15[0][0]                     \n",
            "__________________________________________________________________________________________________\n",
            "activation_32 (Activation)      (None, 8, 8, 512)    0           batch_normalization_32[0][0]     \n",
            "__________________________________________________________________________________________________\n",
            "conv2d_41 (Conv2D)              (None, 8, 8, 512)    2359808     activation_32[0][0]              \n",
            "__________________________________________________________________________________________________\n",
            "batch_normalization_33 (BatchNo (None, 8, 8, 512)    2048        conv2d_41[0][0]                  \n",
            "__________________________________________________________________________________________________\n",
            "activation_33 (Activation)      (None, 8, 8, 512)    0           batch_normalization_33[0][0]     \n",
            "__________________________________________________________________________________________________\n",
            "conv2d_42 (Conv2D)              (None, 8, 8, 512)    2359808     activation_33[0][0]              \n",
            "__________________________________________________________________________________________________\n",
            "add_16 (Add)                    (None, 8, 8, 512)    0           add_15[0][0]                     \n",
            "                                                                 conv2d_42[0][0]                  \n",
            "__________________________________________________________________________________________________\n",
            "batch_normalization_34 (BatchNo (None, 8, 8, 512)    2048        add_16[0][0]                     \n",
            "__________________________________________________________________________________________________\n",
            "activation_34 (Activation)      (None, 8, 8, 512)    0           batch_normalization_34[0][0]     \n",
            "__________________________________________________________________________________________________\n",
            "global_average_pooling2d_2 (Glo (None, 512)          0           activation_34[0][0]              \n",
            "__________________________________________________________________________________________________\n",
            "dense_2 (Dense)                 (None, 3)            1539        global_average_pooling2d_2[0][0] \n",
            "==================================================================================================\n",
            "Total params: 11,188,419\n",
            "Trainable params: 11,180,611\n",
            "Non-trainable params: 7,808\n",
            "__________________________________________________________________________________________________\n"
          ],
          "name": "stdout"
        }
      ]
    },
    {
      "cell_type": "markdown",
      "metadata": {
        "colab_type": "text",
        "id": "4GZSdBwZul7U"
      },
      "source": [
        "#### **Let's mount our GoogleDrive to download the best model (need to authenticate again):**"
      ]
    },
    {
      "cell_type": "code",
      "metadata": {
        "colab_type": "code",
        "id": "YjYcj5zrumc5",
        "outputId": "c427a51f-1f03-4ae8-e720-c9ba44d9f86e",
        "colab": {
          "base_uri": "https://localhost:8080/",
          "height": 125
        }
      },
      "source": [
        "from google.colab import drive\n",
        "drive.mount('/content/gdrive')"
      ],
      "execution_count": 22,
      "outputs": [
        {
          "output_type": "stream",
          "text": [
            "Go to this URL in a browser: https://accounts.google.com/o/oauth2/auth?client_id=947318989803-6bn6qk8qdgf4n4g3pfee6491hc0brc4i.apps.googleusercontent.com&redirect_uri=urn%3aietf%3awg%3aoauth%3a2.0%3aoob&response_type=code&scope=email%20https%3a%2f%2fwww.googleapis.com%2fauth%2fdocs.test%20https%3a%2f%2fwww.googleapis.com%2fauth%2fdrive%20https%3a%2f%2fwww.googleapis.com%2fauth%2fdrive.photos.readonly%20https%3a%2f%2fwww.googleapis.com%2fauth%2fpeopleapi.readonly\n",
            "\n",
            "Enter your authorization code:\n",
            "··········\n",
            "Mounted at /content/gdrive\n"
          ],
          "name": "stdout"
        }
      ]
    },
    {
      "cell_type": "markdown",
      "metadata": {
        "colab_type": "text",
        "id": "JUL3HGj4dyft"
      },
      "source": [
        "### **Let's train and validate our Base Model:**"
      ]
    },
    {
      "cell_type": "code",
      "metadata": {
        "colab_type": "code",
        "id": "N1-xGeCJ9jRe",
        "outputId": "4410ff56-18ec-49c1-8cff-01eb1ce6c1ef",
        "colab": {
          "base_uri": "https://localhost:8080/",
          "height": 1000
        }
      },
      "source": [
        "## fully balanced training\n",
        "## Rot 45,135,225,315\n",
        "## 'C4-7' vs 'C5' vs 'all_other' - Downsampling training\n",
        "\n",
        "## 128x128, stride_60,\n",
        "##min_pos_pix_1250, mivalpos_1024\n",
        "## ReduceLROnPlateau(monitor='val_loss'... )\n",
        "## train_batch_32, opt_RMSprop, Kernel_3x3:\n",
        "\n",
        "epochs = 100\n",
        "\n",
        "train_steps = train_generator.n//train_generator.batch_size\n",
        "val_steps = val_generator.n//val_generator.batch_size\n",
        "\n",
        "# Callbacks:\n",
        "reduce_lr = ReduceLROnPlateau(monitor='val_loss', factor=0.85, patience=3, \n",
        "                                   verbose=1, mode='min', min_lr=1e-9)\n",
        "EarlyStop = EarlyStopping(monitor='val_acc', patience=70, verbose=1,\n",
        "                          min_delta=0, mode='max')\n",
        "checkpoint = ModelCheckpoint('base_model.h5', monitor='val_acc', verbose=1, \n",
        "                             save_best_only=True, mode='max')\n",
        "\n",
        "callbacks_list = [reduce_lr, checkpoint, EarlyStop] #order matters!\n",
        "\n",
        "#res_cnn.load_weights('base_model.h5')\n",
        "\n",
        "history = res_cnn.fit_generator(train_generator, steps_per_epoch=train_steps,\n",
        "                            validation_data=val_generator,\n",
        "                            validation_steps=val_steps, epochs=epochs,\n",
        "                            verbose=1, callbacks=callbacks_list, shuffle=False,\n",
        "                            class_weight=serial_pos_weights)"
      ],
      "execution_count": 24,
      "outputs": [
        {
          "output_type": "stream",
          "text": [
            "Epoch 1/100\n",
            "10/10 [==============================] - 9s 873ms/step - loss: 175.6311 - acc: 0.5250 - val_loss: 81.1778 - val_acc: 0.2333\n",
            "\n",
            "Epoch 00001: val_acc improved from -inf to 0.23333, saving model to base_model.h5\n",
            "Epoch 2/100\n",
            "10/10 [==============================] - 1s 108ms/step - loss: 54.6237 - acc: 0.5706 - val_loss: 33.8478 - val_acc: 0.6000\n",
            "\n",
            "Epoch 00002: val_acc improved from 0.23333 to 0.60000, saving model to base_model.h5\n",
            "Epoch 3/100\n",
            "10/10 [==============================] - 1s 95ms/step - loss: 24.9701 - acc: 0.5558 - val_loss: 17.3135 - val_acc: 0.4000\n",
            "\n",
            "Epoch 00003: val_acc did not improve from 0.60000\n",
            "Epoch 4/100\n",
            "10/10 [==============================] - 1s 91ms/step - loss: 13.5532 - acc: 0.6397 - val_loss: 10.4745 - val_acc: 0.3333\n",
            "\n",
            "Epoch 00004: val_acc did not improve from 0.60000\n",
            "Epoch 5/100\n",
            "10/10 [==============================] - 1s 93ms/step - loss: 8.3140 - acc: 0.6586 - val_loss: 14.4329 - val_acc: 0.3333\n",
            "\n",
            "Epoch 00005: val_acc did not improve from 0.60000\n",
            "Epoch 6/100\n",
            "10/10 [==============================] - 1s 91ms/step - loss: 5.6532 - acc: 0.7090 - val_loss: 14.9282 - val_acc: 0.3333\n",
            "\n",
            "Epoch 00006: val_acc did not improve from 0.60000\n",
            "Epoch 7/100\n",
            "10/10 [==============================] - 1s 92ms/step - loss: 4.2859 - acc: 0.6554 - val_loss: 8.3256 - val_acc: 0.3333\n",
            "\n",
            "Epoch 00007: val_acc did not improve from 0.60000\n",
            "Epoch 8/100\n",
            "10/10 [==============================] - 1s 91ms/step - loss: 3.4420 - acc: 0.6198 - val_loss: 4.8995 - val_acc: 0.3333\n",
            "\n",
            "Epoch 00008: val_acc did not improve from 0.60000\n",
            "Epoch 9/100\n",
            "10/10 [==============================] - 1s 92ms/step - loss: 2.9565 - acc: 0.6598 - val_loss: 3.0675 - val_acc: 0.4333\n",
            "\n",
            "Epoch 00009: val_acc did not improve from 0.60000\n",
            "Epoch 10/100\n",
            "10/10 [==============================] - 1s 91ms/step - loss: 2.3668 - acc: 0.7415 - val_loss: 9.1877 - val_acc: 0.3333\n",
            "\n",
            "Epoch 00010: val_acc did not improve from 0.60000\n",
            "Epoch 11/100\n",
            "10/10 [==============================] - 1s 87ms/step - loss: 2.2032 - acc: 0.6807 - val_loss: 11.7464 - val_acc: 0.3333\n",
            "\n",
            "Epoch 00011: val_acc did not improve from 0.60000\n",
            "Epoch 12/100\n",
            "10/10 [==============================] - 1s 94ms/step - loss: 1.8341 - acc: 0.7438 - val_loss: 2.6094 - val_acc: 0.3333\n",
            "\n",
            "Epoch 00012: val_acc did not improve from 0.60000\n",
            "Epoch 13/100\n",
            "10/10 [==============================] - 1s 95ms/step - loss: 1.8769 - acc: 0.6292 - val_loss: 2.4034 - val_acc: 0.3667\n",
            "\n",
            "Epoch 00013: val_acc did not improve from 0.60000\n",
            "Epoch 14/100\n",
            "10/10 [==============================] - 1s 92ms/step - loss: 1.5620 - acc: 0.7279 - val_loss: 2.1491 - val_acc: 0.4333\n",
            "\n",
            "Epoch 00014: val_acc did not improve from 0.60000\n",
            "Epoch 15/100\n",
            "10/10 [==============================] - 1s 92ms/step - loss: 1.4968 - acc: 0.7185 - val_loss: 2.0974 - val_acc: 0.5333\n",
            "\n",
            "Epoch 00015: val_acc did not improve from 0.60000\n",
            "Epoch 16/100\n",
            "10/10 [==============================] - 1s 92ms/step - loss: 1.5609 - acc: 0.7216 - val_loss: 2.4482 - val_acc: 0.3333\n",
            "\n",
            "Epoch 00016: val_acc did not improve from 0.60000\n",
            "Epoch 17/100\n",
            "10/10 [==============================] - 1s 91ms/step - loss: 1.3405 - acc: 0.7721 - val_loss: 2.0790 - val_acc: 0.5000\n",
            "\n",
            "Epoch 00017: val_acc did not improve from 0.60000\n",
            "Epoch 18/100\n",
            "10/10 [==============================] - 1s 92ms/step - loss: 1.4753 - acc: 0.7153 - val_loss: 2.5667 - val_acc: 0.3333\n",
            "\n",
            "Epoch 00018: val_acc did not improve from 0.60000\n",
            "Epoch 19/100\n",
            "10/10 [==============================] - 1s 92ms/step - loss: 1.2568 - acc: 0.7364 - val_loss: 2.7144 - val_acc: 0.3333\n",
            "\n",
            "Epoch 00019: val_acc did not improve from 0.60000\n",
            "Epoch 20/100\n",
            "10/10 [==============================] - 1s 92ms/step - loss: 1.3106 - acc: 0.7311 - val_loss: 1.8114 - val_acc: 0.4667\n",
            "\n",
            "Epoch 00020: val_acc did not improve from 0.60000\n",
            "Epoch 21/100\n",
            "10/10 [==============================] - 1s 91ms/step - loss: 1.2288 - acc: 0.7415 - val_loss: 2.4736 - val_acc: 0.3333\n",
            "\n",
            "Epoch 00021: val_acc did not improve from 0.60000\n",
            "Epoch 22/100\n",
            "10/10 [==============================] - 1s 87ms/step - loss: 1.2068 - acc: 0.7248 - val_loss: 1.5913 - val_acc: 0.5333\n",
            "\n",
            "Epoch 00022: val_acc did not improve from 0.60000\n",
            "Epoch 23/100\n",
            "10/10 [==============================] - 1s 95ms/step - loss: 1.0889 - acc: 0.7844 - val_loss: 2.5810 - val_acc: 0.3333\n",
            "\n",
            "Epoch 00023: val_acc did not improve from 0.60000\n",
            "Epoch 24/100\n",
            "10/10 [==============================] - 1s 94ms/step - loss: 1.1920 - acc: 0.7345 - val_loss: 1.9739 - val_acc: 0.4000\n",
            "\n",
            "Epoch 00024: val_acc did not improve from 0.60000\n",
            "Epoch 25/100\n",
            "10/10 [==============================] - 1s 91ms/step - loss: 1.0878 - acc: 0.7721 - val_loss: 1.9606 - val_acc: 0.5000\n",
            "\n",
            "Epoch 00025: ReduceLROnPlateau reducing learning rate to 0.0008500000403728336.\n",
            "\n",
            "Epoch 00025: val_acc did not improve from 0.60000\n",
            "Epoch 26/100\n",
            "10/10 [==============================] - 1s 94ms/step - loss: 1.0832 - acc: 0.7270 - val_loss: 2.8907 - val_acc: 0.3333\n",
            "\n",
            "Epoch 00026: val_acc did not improve from 0.60000\n",
            "Epoch 27/100\n",
            "10/10 [==============================] - 1s 90ms/step - loss: 1.0211 - acc: 0.7815 - val_loss: 1.3500 - val_acc: 0.5000\n",
            "\n",
            "Epoch 00027: val_acc did not improve from 0.60000\n",
            "Epoch 28/100\n",
            "10/10 [==============================] - 1s 92ms/step - loss: 0.9572 - acc: 0.8162 - val_loss: 2.8901 - val_acc: 0.3333\n",
            "\n",
            "Epoch 00028: val_acc did not improve from 0.60000\n",
            "Epoch 29/100\n",
            "10/10 [==============================] - 1s 91ms/step - loss: 0.9436 - acc: 0.8361 - val_loss: 2.4650 - val_acc: 0.3333\n",
            "\n",
            "Epoch 00029: val_acc did not improve from 0.60000\n",
            "Epoch 30/100\n",
            "10/10 [==============================] - 1s 91ms/step - loss: 0.9978 - acc: 0.7658 - val_loss: 3.4445 - val_acc: 0.3333\n",
            "\n",
            "Epoch 00030: ReduceLROnPlateau reducing learning rate to 0.0007225000590551645.\n",
            "\n",
            "Epoch 00030: val_acc did not improve from 0.60000\n",
            "Epoch 31/100\n",
            "10/10 [==============================] - 1s 90ms/step - loss: 0.9498 - acc: 0.7920 - val_loss: 2.2959 - val_acc: 0.3667\n",
            "\n",
            "Epoch 00031: val_acc did not improve from 0.60000\n",
            "Epoch 32/100\n",
            "10/10 [==============================] - 1s 92ms/step - loss: 0.8560 - acc: 0.8581 - val_loss: 3.3901 - val_acc: 0.3333\n",
            "\n",
            "Epoch 00032: val_acc did not improve from 0.60000\n",
            "Epoch 33/100\n",
            "10/10 [==============================] - 1s 88ms/step - loss: 0.8896 - acc: 0.8266 - val_loss: 3.7620 - val_acc: 0.3333\n",
            "\n",
            "Epoch 00033: ReduceLROnPlateau reducing learning rate to 0.0006141250254586339.\n",
            "\n",
            "Epoch 00033: val_acc did not improve from 0.60000\n",
            "Epoch 34/100\n",
            "10/10 [==============================] - 1s 94ms/step - loss: 0.8753 - acc: 0.8281 - val_loss: 3.0239 - val_acc: 0.3333\n",
            "\n",
            "Epoch 00034: val_acc did not improve from 0.60000\n",
            "Epoch 35/100\n",
            "10/10 [==============================] - 1s 95ms/step - loss: 0.8674 - acc: 0.8026 - val_loss: 2.6844 - val_acc: 0.3333\n",
            "\n",
            "Epoch 00035: val_acc did not improve from 0.60000\n",
            "Epoch 36/100\n",
            "10/10 [==============================] - 1s 93ms/step - loss: 0.8731 - acc: 0.7932 - val_loss: 3.1577 - val_acc: 0.3333\n",
            "\n",
            "Epoch 00036: ReduceLROnPlateau reducing learning rate to 0.0005220062914304435.\n",
            "\n",
            "Epoch 00036: val_acc did not improve from 0.60000\n",
            "Epoch 37/100\n",
            "10/10 [==============================] - 1s 92ms/step - loss: 0.8691 - acc: 0.8026 - val_loss: 3.5052 - val_acc: 0.3333\n",
            "\n",
            "Epoch 00037: val_acc did not improve from 0.60000\n",
            "Epoch 38/100\n",
            "10/10 [==============================] - 1s 91ms/step - loss: 0.8671 - acc: 0.8121 - val_loss: 2.8826 - val_acc: 0.3333\n",
            "\n",
            "Epoch 00038: val_acc did not improve from 0.60000\n",
            "Epoch 39/100\n",
            "10/10 [==============================] - 1s 92ms/step - loss: 0.7740 - acc: 0.8572 - val_loss: 2.9974 - val_acc: 0.3333\n",
            "\n",
            "Epoch 00039: ReduceLROnPlateau reducing learning rate to 0.00044370535761117935.\n",
            "\n",
            "Epoch 00039: val_acc did not improve from 0.60000\n",
            "Epoch 40/100\n",
            "10/10 [==============================] - 1s 92ms/step - loss: 0.8262 - acc: 0.8572 - val_loss: 3.0166 - val_acc: 0.3333\n",
            "\n",
            "Epoch 00040: val_acc did not improve from 0.60000\n",
            "Epoch 41/100\n",
            "10/10 [==============================] - 1s 91ms/step - loss: 0.7940 - acc: 0.8257 - val_loss: 3.5934 - val_acc: 0.3333\n",
            "\n",
            "Epoch 00041: val_acc did not improve from 0.60000\n",
            "Epoch 42/100\n",
            "10/10 [==============================] - 1s 92ms/step - loss: 0.7912 - acc: 0.8487 - val_loss: 3.3518 - val_acc: 0.3333\n",
            "\n",
            "Epoch 00042: ReduceLROnPlateau reducing learning rate to 0.00037714955396950245.\n",
            "\n",
            "Epoch 00042: val_acc did not improve from 0.60000\n",
            "Epoch 43/100\n",
            "10/10 [==============================] - 1s 90ms/step - loss: 0.8280 - acc: 0.8310 - val_loss: 2.8410 - val_acc: 0.3333\n",
            "\n",
            "Epoch 00043: val_acc did not improve from 0.60000\n",
            "Epoch 44/100\n",
            "10/10 [==============================] - 1s 88ms/step - loss: 0.7145 - acc: 0.8645 - val_loss: 3.3282 - val_acc: 0.3333\n",
            "\n",
            "Epoch 00044: val_acc did not improve from 0.60000\n",
            "Epoch 45/100\n",
            "10/10 [==============================] - 1s 96ms/step - loss: 0.7221 - acc: 0.8844 - val_loss: 3.1383 - val_acc: 0.3333\n",
            "\n",
            "Epoch 00045: ReduceLROnPlateau reducing learning rate to 0.0003205771208740771.\n",
            "\n",
            "Epoch 00045: val_acc did not improve from 0.60000\n",
            "Epoch 46/100\n",
            "10/10 [==============================] - 1s 96ms/step - loss: 0.7095 - acc: 0.8739 - val_loss: 3.1711 - val_acc: 0.3333\n",
            "\n",
            "Epoch 00046: val_acc did not improve from 0.60000\n",
            "Epoch 47/100\n",
            "10/10 [==============================] - 1s 99ms/step - loss: 0.6813 - acc: 0.8991 - val_loss: 3.0928 - val_acc: 0.3333\n",
            "\n",
            "Epoch 00047: val_acc did not improve from 0.60000\n",
            "Epoch 48/100\n",
            "10/10 [==============================] - 1s 92ms/step - loss: 0.6545 - acc: 0.9086 - val_loss: 2.7814 - val_acc: 0.3333\n",
            "\n",
            "Epoch 00048: ReduceLROnPlateau reducing learning rate to 0.0002724905527429655.\n",
            "\n",
            "Epoch 00048: val_acc did not improve from 0.60000\n",
            "Epoch 49/100\n",
            "10/10 [==============================] - 1s 92ms/step - loss: 0.6803 - acc: 0.8761 - val_loss: 2.4627 - val_acc: 0.3333\n",
            "\n",
            "Epoch 00049: val_acc did not improve from 0.60000\n",
            "Epoch 50/100\n",
            "10/10 [==============================] - 1s 92ms/step - loss: 0.6252 - acc: 0.9023 - val_loss: 2.3889 - val_acc: 0.3333\n",
            "\n",
            "Epoch 00050: val_acc did not improve from 0.60000\n",
            "Epoch 51/100\n",
            "10/10 [==============================] - 1s 91ms/step - loss: 0.8064 - acc: 0.8206 - val_loss: 2.3992 - val_acc: 0.3333\n",
            "\n",
            "Epoch 00051: ReduceLROnPlateau reducing learning rate to 0.00023161696735769509.\n",
            "\n",
            "Epoch 00051: val_acc did not improve from 0.60000\n",
            "Epoch 52/100\n",
            "10/10 [==============================] - 1s 91ms/step - loss: 0.7078 - acc: 0.8666 - val_loss: 2.3235 - val_acc: 0.3333\n",
            "\n",
            "Epoch 00052: val_acc did not improve from 0.60000\n",
            "Epoch 53/100\n",
            "10/10 [==============================] - 1s 92ms/step - loss: 0.6258 - acc: 0.9117 - val_loss: 2.2879 - val_acc: 0.3333\n",
            "\n",
            "Epoch 00053: val_acc did not improve from 0.60000\n",
            "Epoch 54/100\n",
            "10/10 [==============================] - 1s 91ms/step - loss: 0.6556 - acc: 0.8720 - val_loss: 2.7077 - val_acc: 0.3333\n",
            "\n",
            "Epoch 00054: ReduceLROnPlateau reducing learning rate to 0.00019687442472786642.\n",
            "\n",
            "Epoch 00054: val_acc did not improve from 0.60000\n",
            "Epoch 55/100\n",
            "10/10 [==============================] - 1s 86ms/step - loss: 0.6189 - acc: 0.9149 - val_loss: 2.3478 - val_acc: 0.3667\n",
            "\n",
            "Epoch 00055: val_acc did not improve from 0.60000\n",
            "Epoch 56/100\n",
            "10/10 [==============================] - 1s 96ms/step - loss: 0.6131 - acc: 0.9062 - val_loss: 2.4778 - val_acc: 0.3333\n",
            "\n",
            "Epoch 00056: val_acc did not improve from 0.60000\n",
            "Epoch 57/100\n",
            "10/10 [==============================] - 1s 94ms/step - loss: 0.5893 - acc: 0.9307 - val_loss: 2.4104 - val_acc: 0.3333\n",
            "\n",
            "Epoch 00057: ReduceLROnPlateau reducing learning rate to 0.00016734325545257888.\n",
            "\n",
            "Epoch 00057: val_acc did not improve from 0.60000\n",
            "Epoch 58/100\n",
            "10/10 [==============================] - 1s 90ms/step - loss: 0.6068 - acc: 0.8919 - val_loss: 2.3509 - val_acc: 0.3667\n",
            "\n",
            "Epoch 00058: val_acc did not improve from 0.60000\n",
            "Epoch 59/100\n",
            "10/10 [==============================] - 1s 94ms/step - loss: 0.6178 - acc: 0.9054 - val_loss: 2.2086 - val_acc: 0.3667\n",
            "\n",
            "Epoch 00059: val_acc did not improve from 0.60000\n",
            "Epoch 60/100\n",
            "10/10 [==============================] - 1s 91ms/step - loss: 0.5703 - acc: 0.9401 - val_loss: 2.1827 - val_acc: 0.3667\n",
            "\n",
            "Epoch 00060: ReduceLROnPlateau reducing learning rate to 0.00014224176775314845.\n",
            "\n",
            "Epoch 00060: val_acc did not improve from 0.60000\n",
            "Epoch 61/100\n",
            "10/10 [==============================] - 1s 92ms/step - loss: 0.6270 - acc: 0.8982 - val_loss: 1.8248 - val_acc: 0.3667\n",
            "\n",
            "Epoch 00061: val_acc did not improve from 0.60000\n",
            "Epoch 62/100\n",
            "10/10 [==============================] - 1s 92ms/step - loss: 0.5204 - acc: 0.9433 - val_loss: 1.9196 - val_acc: 0.3667\n",
            "\n",
            "Epoch 00062: val_acc did not improve from 0.60000\n",
            "Epoch 63/100\n",
            "10/10 [==============================] - 1s 92ms/step - loss: 0.5367 - acc: 0.9370 - val_loss: 2.1149 - val_acc: 0.3667\n",
            "\n",
            "Epoch 00063: ReduceLROnPlateau reducing learning rate to 0.00012090550444554538.\n",
            "\n",
            "Epoch 00063: val_acc did not improve from 0.60000\n",
            "Epoch 64/100\n",
            "10/10 [==============================] - 1s 91ms/step - loss: 0.6073 - acc: 0.8950 - val_loss: 1.9778 - val_acc: 0.3667\n",
            "\n",
            "Epoch 00064: val_acc did not improve from 0.60000\n",
            "Epoch 65/100\n",
            "10/10 [==============================] - 1s 92ms/step - loss: 0.5898 - acc: 0.9108 - val_loss: 1.9143 - val_acc: 0.3667\n",
            "\n",
            "Epoch 00065: val_acc did not improve from 0.60000\n",
            "Epoch 66/100\n",
            "10/10 [==============================] - 1s 88ms/step - loss: 0.5934 - acc: 0.8814 - val_loss: 1.8197 - val_acc: 0.3667\n",
            "\n",
            "Epoch 00066: ReduceLROnPlateau reducing learning rate to 0.00010276967877871357.\n",
            "\n",
            "Epoch 00066: val_acc did not improve from 0.60000\n",
            "Epoch 67/100\n",
            "10/10 [==============================] - 1s 95ms/step - loss: 0.5711 - acc: 0.9344 - val_loss: 1.9450 - val_acc: 0.3667\n",
            "\n",
            "Epoch 00067: val_acc did not improve from 0.60000\n",
            "Epoch 68/100\n",
            "10/10 [==============================] - 1s 95ms/step - loss: 0.5961 - acc: 0.8972 - val_loss: 1.9788 - val_acc: 0.3667\n",
            "\n",
            "Epoch 00068: val_acc did not improve from 0.60000\n",
            "Epoch 69/100\n",
            "10/10 [==============================] - 1s 92ms/step - loss: 0.5408 - acc: 0.9307 - val_loss: 1.9756 - val_acc: 0.4000\n",
            "\n",
            "Epoch 00069: ReduceLROnPlateau reducing learning rate to 8.735422634345013e-05.\n",
            "\n",
            "Epoch 00069: val_acc did not improve from 0.60000\n",
            "Epoch 70/100\n",
            "10/10 [==============================] - 1s 92ms/step - loss: 0.6901 - acc: 0.8814 - val_loss: 1.8597 - val_acc: 0.4667\n",
            "\n",
            "Epoch 00070: val_acc did not improve from 0.60000\n",
            "Epoch 71/100\n",
            "10/10 [==============================] - 1s 92ms/step - loss: 0.5541 - acc: 0.9307 - val_loss: 1.9118 - val_acc: 0.4333\n",
            "\n",
            "Epoch 00071: val_acc did not improve from 0.60000\n",
            "Epoch 72/100\n",
            "10/10 [==============================] - 1s 92ms/step - loss: 0.5038 - acc: 0.9464 - val_loss: 1.7255 - val_acc: 0.5000\n",
            "\n",
            "Epoch 00072: ReduceLROnPlateau reducing learning rate to 7.425108960887882e-05.\n",
            "\n",
            "Epoch 00072: val_acc did not improve from 0.60000\n",
            "Epoch 00072: early stopping\n"
          ],
          "name": "stdout"
        }
      ]
    },
    {
      "cell_type": "markdown",
      "metadata": {
        "colab_type": "text",
        "id": "E5mhZnDUvLsL"
      },
      "source": [
        "#### **Let's download the best model to our 'Capstone' folder in GoogleDrive:**"
      ]
    },
    {
      "cell_type": "code",
      "metadata": {
        "colab_type": "code",
        "id": "a4nSrCq4vQCi",
        "colab": {}
      },
      "source": [
        "try:\n",
        "  files.download('base_model.h5')\n",
        "except:\n",
        "  print(\"Not done\")\n",
        "  pass\n"
      ],
      "execution_count": 0,
      "outputs": []
    },
    {
      "cell_type": "markdown",
      "metadata": {
        "colab_type": "text",
        "id": "MRz_1oJzJRFH"
      },
      "source": [
        "#### **Let's download the training history to a local file (just in case colab's session is interrupted):**"
      ]
    },
    {
      "cell_type": "code",
      "metadata": {
        "colab_type": "code",
        "id": "k5Y5GUUhcyAt",
        "colab": {}
      },
      "source": [
        "for k,v in history.history.items():\n",
        "  history.history[k] = str(v)\n",
        "\n",
        "with open('history_dict.json', 'w') as f:\n",
        "    json.dump(history.history, f)\n",
        "\n",
        "try:\n",
        "    time.sleep(3) # To avoid warning when downloading various files at once\n",
        "    files.download('history_dict.json')\n",
        "except:\n",
        "    pass"
      ],
      "execution_count": 0,
      "outputs": []
    },
    {
      "cell_type": "code",
      "metadata": {
        "colab_type": "code",
        "id": "jxEpvYPVcyUb",
        "colab": {}
      },
      "source": [
        "#uploaded = files.upload()\n",
        "with open('history_dict.json') as f:\n",
        "    history_dict = json.load(f)\n",
        "    \n",
        "for k,v in history_dict.items():\n",
        "  history_dict[k] = json.loads(v)\n",
        "\n",
        "history_df = pd.DataFrame(history_dict)"
      ],
      "execution_count": 0,
      "outputs": []
    },
    {
      "cell_type": "markdown",
      "metadata": {
        "colab_type": "text",
        "id": "_eAC27OxKOLY"
      },
      "source": [
        "#### **Let's plot training and validation loss vs epochs:**"
      ]
    },
    {
      "cell_type": "code",
      "metadata": {
        "colab_type": "code",
        "id": "DCtryy1abrRA",
        "outputId": "6a914d65-ca28-4810-9c49-e6a56195fc0b",
        "colab": {
          "base_uri": "https://localhost:8080/",
          "height": 407
        }
      },
      "source": [
        "loss = history_df[['loss','val_loss']]\n",
        "loss.columns = ['train_loss', 'val_loss']\n",
        "loss.plot(figsize=(10, 6), title='Loss vs epochs')"
      ],
      "execution_count": 29,
      "outputs": [
        {
          "output_type": "execute_result",
          "data": {
            "text/plain": [
              "<matplotlib.axes._subplots.AxesSubplot at 0x7f55fe6386a0>"
            ]
          },
          "metadata": {
            "tags": []
          },
          "execution_count": 29
        },
        {
          "output_type": "display_data",
          "data": {
            "image/png": "[encoded data removed]",
            "text/plain": [
              "<Figure size 720x432 with 1 Axes>"
            ]
          },
          "metadata": {
            "tags": []
          }
        }
      ]
    },
    {
      "cell_type": "markdown",
      "metadata": {
        "colab_type": "text",
        "id": "VSFAqg-gKlR0"
      },
      "source": [
        "#### **Let's plot training and validation accuracy vs epochs:**"
      ]
    },
    {
      "cell_type": "code",
      "metadata": {
        "colab_type": "code",
        "id": "bAbt9je3b1x1",
        "outputId": "68fff24c-a702-4dcb-ebd9-563e17e075b1",
        "colab": {
          "base_uri": "https://localhost:8080/",
          "height": 407
        }
      },
      "source": [
        "acc = history_df[['val_acc','acc']]\n",
        "acc.columns = ['val_acc', 'train_acc']\n",
        "acc.plot(figsize=(10, 6), title='Val acc & Train acc vs epochs')"
      ],
      "execution_count": 30,
      "outputs": [
        {
          "output_type": "execute_result",
          "data": {
            "text/plain": [
              "<matplotlib.axes._subplots.AxesSubplot at 0x7f55fe0f17b8>"
            ]
          },
          "metadata": {
            "tags": []
          },
          "execution_count": 30
        },
        {
          "output_type": "display_data",
          "data": {
            "image/png": "[encoded data removed]",
            "text/plain": [
              "<Figure size 720x432 with 1 Axes>"
            ]
          },
          "metadata": {
            "tags": []
          }
        }
      ]
    },
    {
      "cell_type": "markdown",
      "metadata": {
        "colab_type": "text",
        "id": "B8RiTO3yLDXy"
      },
      "source": [
        "#### **Let's plot learning rate vs epochs:**"
      ]
    },
    {
      "cell_type": "code",
      "metadata": {
        "colab_type": "code",
        "id": "o2ggKlccOAHA",
        "outputId": "7730a919-364e-405c-e38d-644aa62fd850",
        "colab": {
          "base_uri": "https://localhost:8080/",
          "height": 407
        }
      },
      "source": [
        "lr = history_df[['lr']]\n",
        "lr.plot(figsize=(10, 6), title='Learning rate vs epochs')"
      ],
      "execution_count": 31,
      "outputs": [
        {
          "output_type": "execute_result",
          "data": {
            "text/plain": [
              "<matplotlib.axes._subplots.AxesSubplot at 0x7f55fe0044e0>"
            ]
          },
          "metadata": {
            "tags": []
          },
          "execution_count": 31
        },
        {
          "output_type": "display_data",
          "data": {
            "image/png": "[encoded data removed]",
            "text/plain": [
              "<Figure size 720x432 with 1 Axes>"
            ]
          },
          "metadata": {
            "tags": []
          }
        }
      ]
    },
    {
      "cell_type": "markdown",
      "metadata": {
        "colab_type": "text",
        "id": "pEjAnQK9Mhfy"
      },
      "source": [
        "#### **Let's evaluate the best model, on the validation set and compute relevant metrics:**"
      ]
    },
    {
      "cell_type": "code",
      "metadata": {
        "colab_type": "code",
        "id": "NKttpsSSFyfD",
        "colab": {}
      },
      "source": [
        "#uploaded = files.upload()\n",
        "res_cnn.load_weights('base_model.h5')"
      ],
      "execution_count": 0,
      "outputs": []
    },
    {
      "cell_type": "code",
      "metadata": {
        "colab_type": "code",
        "id": "hkPgAlWuF0t4",
        "outputId": "420c6a31-037a-43f6-f0a3-0a689e1bff15",
        "colab": {
          "base_uri": "https://localhost:8080/",
          "height": 372
        }
      },
      "source": [
        "X, y_true = next(val_generator)\n",
        "y_pred = res_cnn.predict(X)\n",
        "for i in range(1, len(val_generator)):\n",
        "  X, y = next(val_generator)\n",
        "  y_true = np.vstack((y_true, y))\n",
        "  y_pred = np.vstack((y_pred, res_cnn.predict(X)))\n",
        "\n",
        "y_true = np.argmax(y_true, axis=1)\n",
        "y_pred = np.argmax(y_pred, axis=1)\n",
        "\n",
        "val_acc = accuracy_score(y_true, y_pred)\n",
        "#roc_auc = roc_auc_score(y_true, y_pred)\n",
        "cm = confusion_matrix(y_true, y_pred)\n",
        "class_names = [k for k in val_generator.class_indices]\n",
        "c_report = classification_report(y_true, y_pred, target_names=class_names)\n",
        "\n",
        "print('\\nval_acc:\\n', val_acc)\n",
        "print('\\nConfusion Matrix:\\n', cm)\n",
        "print('\\nClassification Report:\\n', c_report)"
      ],
      "execution_count": 33,
      "outputs": [
        {
          "output_type": "stream",
          "text": [
            "\n",
            "val_acc:\n",
            " 0.6\n",
            "\n",
            "Confusion Matrix:\n",
            " [[ 0  0 10]\n",
            " [ 0  9  1]\n",
            " [ 0  1  9]]\n",
            "\n",
            "Classification Report:\n",
            "               precision    recall  f1-score   support\n",
            "\n",
            "           4       0.00      0.00      0.00        10\n",
            "           5       0.90      0.90      0.90        10\n",
            "   all_other       0.45      0.90      0.60        10\n",
            "\n",
            "    accuracy                           0.60        30\n",
            "   macro avg       0.45      0.60      0.50        30\n",
            "weighted avg       0.45      0.60      0.50        30\n",
            "\n"
          ],
          "name": "stdout"
        }
      ]
    }
  ]
}