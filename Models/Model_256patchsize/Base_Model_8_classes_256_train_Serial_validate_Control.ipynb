{
  "nbformat": 4,
  "nbformat_minor": 0,
  "metadata": {
    "accelerator": "GPU",
    "colab": {
      "name": "Base_Model 8 classes_256_train Serial validate Control.ipynb",
      "provenance": [],
      "collapsed_sections": [],
      "machine_shape": "hm"
    },
    "kernelspec": {
      "name": "python3",
      "display_name": "Python 3"
    },
    "language_info": {
      "codemirror_mode": {
        "name": "ipython",
        "version": 3
      },
      "file_extension": ".py",
      "mimetype": "text/x-python",
      "name": "python",
      "nbconvert_exporter": "python",
      "pygments_lexer": "ipython3",
      "version": "3.6.9"
    }
  },
  "cells": [
    {
      "cell_type": "code",
      "metadata": {
        "colab_type": "code",
        "id": "kOP-GdfHXmLs",
        "colab": {}
      },
      "source": [
        "import numpy as np\n",
        "import matplotlib.pyplot as plt\n",
        "%matplotlib inline\n",
        "import os\n",
        "import zipfile\n",
        "import shutil\n",
        "from google.colab import files\n",
        "import json\n",
        "import time\n",
        "import pandas as pd\n",
        "\n",
        "import keras\n",
        "from keras.models import Model, Sequential\n",
        "from keras.applications.resnet50 import ResNet50\n",
        "from keras.layers import Input, Dense, Activation, Dropout, BatchNormalization,\\\n",
        "                          Conv2D, MaxPooling2D, Flatten, AveragePooling2D,\\\n",
        "                          GlobalAveragePooling2D, ZeroPadding2D\n",
        "from keras.initializers import glorot_uniform\n",
        "from keras import regularizers\n",
        "from keras.preprocessing.image import ImageDataGenerator\n",
        "from keras.optimizers import RMSprop, Adam, Adamax, Nadam, SGD\n",
        "from keras.callbacks import EarlyStopping, ReduceLROnPlateau, ModelCheckpoint\n",
        "\n",
        "from sklearn.metrics import roc_auc_score, accuracy_score, confusion_matrix, \\\n",
        "                            classification_report\n",
        "\n",
        "# Import PyDrive and associated libraries (to connect with GoogleDrive)\n",
        "from pydrive.auth import GoogleAuth\n",
        "from pydrive.drive import GoogleDrive\n",
        "\n",
        "from google.colab import auth\n",
        "from oauth2client.client import GoogleCredentials\n",
        "\n",
        "# disable warnings\n",
        "import warnings\n",
        "warnings.simplefilter(\"ignore\")\n",
        "os.environ['TF_CPP_MIN_LOG_LEVEL'] = '3' "
      ],
      "execution_count": 0,
      "outputs": []
    },
    {
      "cell_type": "markdown",
      "metadata": {
        "colab_type": "text",
        "id": "DItexGaqdfEA"
      },
      "source": [
        "### **Check if we are using GPU:**"
      ]
    },
    {
      "cell_type": "code",
      "metadata": {
        "colab_type": "code",
        "id": "vn7AYx74dNq6",
        "outputId": "f2d6a117-8666-423a-a0e5-9b3f407dac29",
        "colab": {
          "base_uri": "https://localhost:8080/",
          "height": 34
        }
      },
      "source": [
        "from keras import backend as K\n",
        "if K.backend() == \"tensorflow\":\n",
        "    import tensorflow as tf\n",
        "    device_name = tf.test.gpu_device_name()\n",
        "    if device_name == '':\n",
        "        device_name = \"None\"\n",
        "    print('Using TensorFlow version:', tf.__version__, ', GPU:', device_name)"
      ],
      "execution_count": 3,
      "outputs": [
        {
          "output_type": "stream",
          "text": [
            "Using TensorFlow version: 1.15.0 , GPU: /device:GPU:0\n"
          ],
          "name": "stdout"
        }
      ]
    },
    {
      "cell_type": "markdown",
      "metadata": {
        "colab_type": "text",
        "id": "QQXfhMrHlqrz"
      },
      "source": [
        "### **Download Patches from GoogleDrive:**"
      ]
    },
    {
      "cell_type": "code",
      "metadata": {
        "colab_type": "code",
        "id": "ACvUlEucnnY0",
        "outputId": "5fce366d-541d-489a-bf16-faa4937266d8",
        "colab": {
          "base_uri": "https://localhost:8080/",
          "height": 52
        }
      },
      "source": [
        "# Authenticate and create the PyDrive client.\n",
        "auth.authenticate_user()\n",
        "gauth = GoogleAuth()\n",
        "gauth.credentials = GoogleCredentials.get_application_default()\n",
        "drive = GoogleDrive(gauth)\n",
        "\n",
        "#file_id = '1M_CrRxfsb5y2STHQGGA5IvcUTtA6HidU' #128x128_s60_no border_minpospix_1250 minposval_1024 Downsampled Control\n",
        "#file_id = '1Dwc0vZ-Atmq1-y3bQoMS_M0ReBB5-ewS' #128x128_s56_no border_minpospix_1250 minposval_1024 Downsampled Control\n",
        "#file_id = '1kttFmwfFRrIVTq_ERVWV83wAi4arr1Q0' #128x128_s60_no border_minpospix_1024 minposval_1024 Downsampled Control\n",
        "\n",
        "file_id = '1GrvQWYf90c9lE-qPCovkZA8Ai0cayzkP' #128x128_s60_no border_minpospix_1250 minposval_1024 Downsampled Control_rot_0_120_240\n",
        "\n",
        "downloaded = drive.CreateFile({'id': file_id})\n",
        "downloaded.GetContentFile(downloaded['title'])\n",
        "print('Downloaded content: \"{}\"'.format(downloaded['title']))\n",
        "print('Root dir content: {}'.format(os.listdir()))"
      ],
      "execution_count": 4,
      "outputs": [
        {
          "output_type": "stream",
          "text": [
            "Downloaded content: \"Img_Patches_256.zip\"\n",
            "Root dir content: ['.config', 'Img_Patches_256.zip', 'adc.json', 'sample_data']\n"
          ],
          "name": "stdout"
        }
      ]
    },
    {
      "cell_type": "markdown",
      "metadata": {
        "colab_type": "text",
        "id": "HSdGQav-qEJM"
      },
      "source": [
        "### **Unzip the Patches:**"
      ]
    },
    {
      "cell_type": "code",
      "metadata": {
        "colab_type": "code",
        "id": "jP1-2THkn47w",
        "outputId": "6759efc1-ffff-41a8-e4bc-617f7a77d624",
        "colab": {
          "base_uri": "https://localhost:8080/",
          "height": 34
        }
      },
      "source": [
        "# Remove 'Patches' dir if it already exists\n",
        "with zipfile.ZipFile(downloaded['title'],\"r\") as zip:\n",
        "    zip.extractall()\n",
        "os.remove(downloaded['title'])\n",
        "print('Root dir content: {}'.format(os.listdir()))"
      ],
      "execution_count": 5,
      "outputs": [
        {
          "output_type": "stream",
          "text": [
            "Root dir content: ['.config', 'content', 'adc.json', 'sample_data']\n"
          ],
          "name": "stdout"
        }
      ]
    },
    {
      "cell_type": "code",
      "metadata": {
        "id": "TGSpNlxJOKmX",
        "colab_type": "code",
        "colab": {
          "base_uri": "https://localhost:8080/",
          "height": 34
        },
        "outputId": "f96940aa-011a-40a0-aeae-ea7ad7431ef2"
      },
      "source": [
        "ls"
      ],
      "execution_count": 15,
      "outputs": [
        {
          "output_type": "stream",
          "text": [
            "\u001b[0m\u001b[01;34mImg_Patches\u001b[0m/\n"
          ],
          "name": "stdout"
        }
      ]
    },
    {
      "cell_type": "markdown",
      "metadata": {
        "colab_type": "text",
        "id": "nd7htfD3rJ6V"
      },
      "source": [
        "### **Let's count patches by type and location:**"
      ]
    },
    {
      "cell_type": "code",
      "metadata": {
        "colab_type": "code",
        "id": "DjJy7FFsvm5H",
        "outputId": "32bba0bb-2b02-4826-cb32-13b6082ab38b",
        "colab": {
          "base_uri": "https://localhost:8080/",
          "height": 638
        }
      },
      "source": [
        "class_weights = {} # empty dictionary to store class weights\n",
        "classes = ['1','2','3','4','5','6','7','0']\n",
        "\n",
        "grand_total, pos_total, neg_total = 0, 0, 0\n",
        "for type in ['Serial', 'Control', 'Streak']:\n",
        "    print(\"\\nTotal '{}' Patches per location:\".format(type))\n",
        "    n_type, type_pos, type_neg = 0, 0, 0\n",
        "    class_weights[type] = {} # nested empty dictionary to store class weights\n",
        "    # class_weights[type]['pos'] = {} # nested dictionary to store class weights\n",
        "    # class_weights[type]['neg'] = {} # nested dictionary to store class weights\n",
        "    for cls in classes:\n",
        "        pfolder = './Img_Patches/{}/{}'.format(type,cls)\n",
        "        n = len(os.listdir(pfolder))\n",
        "        # total = n_pos + n_neg\n",
        "        n_type += n\n",
        "        # type_pos += n_pos\n",
        "        # type_neg += n_neg\n",
        "        print('total_{}: {} = {} positive + {} negative'.format(cls,n,n,0))\n",
        "        class_weights[type]['{}'.format(cls)] = 1/n if n else 0\n",
        "    print('Total {}: {} = {} positive + {} negative'.format(type,n_type,n_type,0))\n",
        "    for loc in class_weights[type].keys():\n",
        "        class_weights[type][loc] *= n_type\n",
        "    grand_total += n_type\n",
        "print('\\nGRAND TOTAL: {} = {} positive + {} negative'.format(grand_total,grand_total,0))"
      ],
      "execution_count": 18,
      "outputs": [
        {
          "output_type": "stream",
          "text": [
            "\n",
            "Total 'Serial' Patches per location:\n",
            "total_1: 106 = 106 positive + 0 negative\n",
            "total_2: 162 = 162 positive + 0 negative\n",
            "total_3: 614 = 614 positive + 0 negative\n",
            "total_4: 303 = 303 positive + 0 negative\n",
            "total_5: 108 = 108 positive + 0 negative\n",
            "total_6: 169 = 169 positive + 0 negative\n",
            "total_7: 3 = 3 positive + 0 negative\n",
            "total_0: 418 = 418 positive + 0 negative\n",
            "Total Serial: 1883 = 1883 positive + 0 negative\n",
            "\n",
            "Total 'Control' Patches per location:\n",
            "total_1: 13 = 13 positive + 0 negative\n",
            "total_2: 20 = 20 positive + 0 negative\n",
            "total_3: 77 = 77 positive + 0 negative\n",
            "total_4: 40 = 40 positive + 0 negative\n",
            "total_5: 10 = 10 positive + 0 negative\n",
            "total_6: 19 = 19 positive + 0 negative\n",
            "total_7: 3 = 3 positive + 0 negative\n",
            "total_0: 106 = 106 positive + 0 negative\n",
            "Total Control: 288 = 288 positive + 0 negative\n",
            "\n",
            "Total 'Streak' Patches per location:\n",
            "total_1: 305 = 305 positive + 0 negative\n",
            "total_2: 431 = 431 positive + 0 negative\n",
            "total_3: 880 = 880 positive + 0 negative\n",
            "total_4: 522 = 522 positive + 0 negative\n",
            "total_5: 279 = 279 positive + 0 negative\n",
            "total_6: 378 = 378 positive + 0 negative\n",
            "total_7: 56 = 56 positive + 0 negative\n",
            "total_0: 478 = 478 positive + 0 negative\n",
            "Total Streak: 3329 = 3329 positive + 0 negative\n",
            "\n",
            "GRAND TOTAL: 5500 = 5500 positive + 0 negative\n"
          ],
          "name": "stdout"
        }
      ]
    },
    {
      "cell_type": "markdown",
      "metadata": {
        "colab_type": "text",
        "id": "_pnI1G0ywLOp"
      },
      "source": [
        "#### **Since we have imbalanced training data, we have set different class weights to give more importance to the minority classes:**"
      ]
    },
    {
      "cell_type": "code",
      "metadata": {
        "colab_type": "code",
        "id": "zCcbwQX7mKQq",
        "outputId": "fb678263-610f-4192-e089-a16b7fd3eeb3",
        "colab": {
          "base_uri": "https://localhost:8080/",
          "height": 194
        }
      },
      "source": [
        "print('Class Weights:', str(json.dumps(class_weights['Serial'], indent=2, default=str)))"
      ],
      "execution_count": 19,
      "outputs": [
        {
          "output_type": "stream",
          "text": [
            "Class Weights: {\n",
            "  \"1\": 17.764150943396224,\n",
            "  \"2\": 11.623456790123456,\n",
            "  \"3\": 3.0667752442996745,\n",
            "  \"4\": 6.214521452145215,\n",
            "  \"5\": 17.435185185185183,\n",
            "  \"6\": 11.142011834319526,\n",
            "  \"7\": 627.6666666666666,\n",
            "  \"0\": 4.5047846889952154\n",
            "}\n"
          ],
          "name": "stdout"
        }
      ]
    },
    {
      "cell_type": "markdown",
      "metadata": {
        "colab_type": "text",
        "id": "GNJ7lSKQpdOT"
      },
      "source": [
        "#### **Let's build image generators, using keras.preprocessing.image.ImageDataGenerator, rescaling image pixel values from [0,  255] to [0, 1]:**"
      ]
    },
    {
      "cell_type": "code",
      "metadata": {
        "colab_type": "code",
        "id": "UANfdA6IUFKt",
        "outputId": "5fee971a-a6fb-4adc-a52e-2d6a65722011",
        "colab": {
          "base_uri": "https://localhost:8080/",
          "height": 105
        }
      },
      "source": [
        "#warnings.filterwarnings(\"ignore\")\n",
        "\n",
        "c1_pos_folder = './Img_Patches/Serial/1'\n",
        "img = plt.imread(c1_pos_folder + '/' + os.listdir(c1_pos_folder)[:5][0])\n",
        "img_size = img.shape\n",
        "train_batch_size = 32\n",
        "val_batch_size = 64\n",
        "\n",
        "# datagen = ImageDataGenerator(rescale=1./255, horizontal_flip=True,\n",
        "#                              vertical_flip=True)\n",
        "datagen = ImageDataGenerator(rescale=1./255)\n",
        "val_datagen = ImageDataGenerator(rescale=1./255)\n",
        "\n",
        "print(\"For training:\")\n",
        "train_generator = datagen.flow_from_directory(\n",
        "        './Img_Patches/Serial',\n",
        "        target_size=(img_size[0],img_size[1]),\n",
        "        batch_size=train_batch_size,\n",
        "        class_mode='categorical',\n",
        "        shuffle=True)\n",
        "\n",
        "print(\"\\nFor validation:\")\n",
        "val_generator = val_datagen.flow_from_directory(\n",
        "        './Img_Patches/Control',\n",
        "        target_size=(img_size[0],img_size[1]),\n",
        "        batch_size=val_batch_size,\n",
        "        class_mode='categorical',\n",
        "        shuffle=False)\n",
        "#warnings.filterwarnings(\"once\")"
      ],
      "execution_count": 21,
      "outputs": [
        {
          "output_type": "stream",
          "text": [
            "For training:\n",
            "Found 1883 images belonging to 8 classes.\n",
            "\n",
            "For validation:\n",
            "Found 288 images belonging to 8 classes.\n"
          ],
          "name": "stdout"
        }
      ]
    },
    {
      "cell_type": "markdown",
      "metadata": {
        "colab_type": "text",
        "id": "44ZzUGXvwqUn"
      },
      "source": [
        "#### **Let's check what is the training generator's index for each class, so we can correclty set up the class weights:**"
      ]
    },
    {
      "cell_type": "code",
      "metadata": {
        "colab_type": "code",
        "id": "tSHQNC2awn84",
        "outputId": "85ac330c-0003-4b58-f3f0-960c914bf6c9",
        "colab": {
          "base_uri": "https://localhost:8080/",
          "height": 194
        }
      },
      "source": [
        "print('train_generator.class_indices:', str(json.dumps(train_generator.class_indices, indent=2, default=str)))\n",
        "#print('validation_generator.class_indices:', str(json.dumps(val_generator.class_indices, indent=2, default=str)))"
      ],
      "execution_count": 22,
      "outputs": [
        {
          "output_type": "stream",
          "text": [
            "train_generator.class_indices: {\n",
            "  \"0\": 0,\n",
            "  \"1\": 1,\n",
            "  \"2\": 2,\n",
            "  \"3\": 3,\n",
            "  \"4\": 4,\n",
            "  \"5\": 5,\n",
            "  \"6\": 6,\n",
            "  \"7\": 7\n",
            "}\n"
          ],
          "name": "stdout"
        }
      ]
    },
    {
      "cell_type": "markdown",
      "metadata": {
        "colab_type": "text",
        "id": "o30MT4e2O7gk"
      },
      "source": [
        "#### **Let's set up the class weights in correct order:**"
      ]
    },
    {
      "cell_type": "code",
      "metadata": {
        "colab_type": "code",
        "id": "U2gsR9n6w2vm",
        "outputId": "71a37ef9-931b-47c4-ec21-edcd6ca42b1c",
        "colab": {
          "base_uri": "https://localhost:8080/",
          "height": 407
        }
      },
      "source": [
        "serial_pos_weights = [class_weights['Serial']['0']] #class 0 is similar to Deiby's C10\n",
        "for cls in classes:\n",
        "    if cls == '0': continue\n",
        "    serial_pos_weights.append(class_weights['Serial']['{}'.format(cls)])\n",
        "print('original class weights dictionary:')\n",
        "print(str(json.dumps(class_weights['Serial'], indent=2, default=str)))\n",
        "print('class weights for generator, re-arranging indexes:')\n",
        "print(str(json.dumps(serial_pos_weights, indent=2, default=str)))"
      ],
      "execution_count": 23,
      "outputs": [
        {
          "output_type": "stream",
          "text": [
            "original class weights dictionary:\n",
            "{\n",
            "  \"1\": 17.764150943396224,\n",
            "  \"2\": 11.623456790123456,\n",
            "  \"3\": 3.0667752442996745,\n",
            "  \"4\": 6.214521452145215,\n",
            "  \"5\": 17.435185185185183,\n",
            "  \"6\": 11.142011834319526,\n",
            "  \"7\": 627.6666666666666,\n",
            "  \"0\": 4.5047846889952154\n",
            "}\n",
            "class weights for generator, re-arranging indexes:\n",
            "[\n",
            "  4.5047846889952154,\n",
            "  17.764150943396224,\n",
            "  11.623456790123456,\n",
            "  3.0667752442996745,\n",
            "  6.214521452145215,\n",
            "  17.435185185185183,\n",
            "  11.142011834319526,\n",
            "  627.6666666666666\n",
            "]\n"
          ],
          "name": "stdout"
        }
      ]
    },
    {
      "cell_type": "markdown",
      "metadata": {
        "colab_type": "text",
        "id": "gdXBPBsVxA39"
      },
      "source": [
        "## **Let's build our Base Model. We will use Resnet:**"
      ]
    },
    {
      "cell_type": "markdown",
      "metadata": {
        "colab_type": "text",
        "id": "AjNmNKdHw4tM"
      },
      "source": [
        "#### **First. let's create a function to build a residual block.**\n",
        "\n",
        "#### We will use the residual block proposed in  [ResNetV2](https://arxiv.org/pdf/1603.05027.pdf) and will implement it by ourselves:\n",
        "\n",
        "\n",
        ">![Google's logo](https://camo.githubusercontent.com/7ae470c333cd76078e1c669055ad98bcedaf523f/68747470733a2f2f71696974612d696d6167652d73746f72652e73332e616d617a6f6e6177732e636f6d2f302f3130303532332f61313536613563322d303236622d646535352d613666622d6534666131373732623432632e706e67)"
      ]
    },
    {
      "cell_type": "code",
      "metadata": {
        "colab_type": "code",
        "id": "e-DqZH20w3ji",
        "colab": {}
      },
      "source": [
        "def res_block(X, filters, kernel_size=(3,3), l2_reg=1e-6, residual=True,\n",
        "              first=False, subsampling=False):\n",
        "    \"\"\"\n",
        "    Function to build a residual block as proposed in ResNetV2:\n",
        "             https://arxiv.org/pdf/1603.05027.pdf:\n",
        "    :param X: The input to the residual block\n",
        "    :param filters: Integer. Number of filters / channels in the output\n",
        "    :param kernel_size: Tuple (Int, Int). kernel size for convolution operations\n",
        "    :param l2_reg: Float. L2 norm for L2 regularization\n",
        "    :param residual: Boolean. True if residual block. Otherwise 'plain' block.\n",
        "    :param first: Boolean. True if first residual block -> ZeroPad and Maxpool.\n",
        "    :param subsampling: Boolean. True if subsampling within the residual block.\n",
        "    :return: the addition output from the residual block proposed in ResNetV2:\n",
        "              https://arxiv.org/pdf/1603.05027.pdf\n",
        "    \"\"\"\n",
        "    bn = BatchNormalization()(X)\n",
        "    relu = Activation(\"relu\")(bn)\n",
        "    \n",
        "    if first: #The first layer is subsampled with Maxpool\n",
        "      pad = ZeroPadding2D(padding=(1, 1))(relu)\n",
        "      relu = MaxPooling2D(pool_size=(3, 3), strides=(2,2))(pad)    \n",
        "    \n",
        "    if subsampling: #Resnet reduces size just by using stride=2 instead of pool\n",
        "      #Here we will reduce the size (subsample) by using stride 2 \n",
        "      conv_1 = Conv2D(filters, kernel_size, strides=(2,2), padding='same',\n",
        "                         kernel_regularizer=regularizers.l2(l2_reg),\n",
        "                         kernel_initializer = glorot_uniform(0),\n",
        "                         bias_initializer = glorot_uniform(0))(relu)\n",
        "      if residual:\n",
        "        #To be able to add, we also need to reduce size of input\n",
        "        #For this, we will just use a 1x1 Conv2D with stride 2  \n",
        "        res = Conv2D(filters, kernel_size=[1,1], strides=(2,2),\n",
        "                     padding='same')(X)\n",
        "    else: #No subsampling, same size as input\n",
        "      conv_1 = Conv2D(filters, kernel_size, strides=(1,1), padding='same',\n",
        "                   kernel_regularizer=regularizers.l2(l2_reg),\n",
        "                   kernel_initializer = glorot_uniform(0),\n",
        "                   bias_initializer = glorot_uniform(0))(relu)\n",
        "      if residual:\n",
        "        if first: #The first layer is subsampled with Maxpool so, resize X\n",
        "          #For this, we will just use a 1x1 Conv2D with stride 2\n",
        "          res = Conv2D(filters, kernel_size=[1,1], strides=(2,2),\n",
        "                     padding='same')(X)\n",
        "        else:\n",
        "          res = X\n",
        "    bn = BatchNormalization()(conv_1)\n",
        "    relu = Activation(\"relu\")(bn)\n",
        "\n",
        "    conv_2 = Conv2D(filters, kernel_size, padding='same',\n",
        "                       kernel_regularizer=regularizers.l2(l2_reg),\n",
        "                       kernel_initializer = glorot_uniform(0),\n",
        "                       bias_initializer = glorot_uniform(0))(relu)\n",
        "    if residual:\n",
        "      add = keras.layers.add([res, conv_2])\n",
        "      return add\n",
        "    else:\n",
        "      return conv_2"
      ],
      "execution_count": 0,
      "outputs": []
    },
    {
      "cell_type": "markdown",
      "metadata": {
        "colab_type": "text",
        "id": "0K3-02NNUXOV"
      },
      "source": [
        "#### **Second, let's create a function to build a Resnet network:**"
      ]
    },
    {
      "cell_type": "code",
      "metadata": {
        "colab_type": "code",
        "id": "32s7rai-609p",
        "colab": {}
      },
      "source": [
        "#from keras.layers import AveragePooling2D, GlobalAveragePooling2D\n",
        "\n",
        "def make_resnet(img_size, n_classes, layers_per_group, n_filters, \n",
        "                    kernel_sizes, l2_reg=1e-6, optimizer=keras.optimizers.SGD,\n",
        "                    lr=1e-1, decay=1e-4, momentum=0.9, residual=True):\n",
        "  \n",
        "    \"\"\"\n",
        "    Function to build ResNet network, but with some user defined parameters.\n",
        "        \n",
        "        ResNet network input size is (224,224,3) then it starts with one \n",
        "        convolution layer, (7x7x64, stride 2) followed by maxpool (3x3, stride2) \n",
        "        then it will build 4 layer groups and the user will define the number of\n",
        "        residual layers per group.\n",
        "        \n",
        "        As example, ResNet34, after the first convolution layer, it has 4 groups\n",
        "        of layers with the following number of residual 'layers_per_group':\n",
        "        [6,8,12,6]\n",
        "        Because the residual connections are made between pair of layers, the\n",
        "        number of layers for each group must be a pair number.\n",
        "        \n",
        "        The user will also be able to define the number of filters and size of\n",
        "        each filter, independently for each group of layers. All layers in the\n",
        "        same group group will have the same number of filters and each filter\n",
        "        within the group will have the same size.\n",
        "        \n",
        "        Same as ResNet, an average pooling layer follows after the 4 groups\n",
        "        of layers.\n",
        "    \n",
        "    :param img_size: Size of input image, in the form: (size, size, #channels)\n",
        "    :param n_classes: Integer. Number of classes for classification.\n",
        "    :param layers_per_group: List with # of layers per group (e.g.[6,8,12,6])\n",
        "    :param n_filters: List of length 4, with number of filters for each group of\n",
        "                      layers.\n",
        "    :param kernel_sizes: List of length 4, with kernel sizes tuples for each \n",
        "                          group of layers\n",
        "    :param l2_reg: Float. L2 norm for L2 regularization\n",
        "    :param optimizer: A keras optimizer from keras.optimizers\n",
        "    :param lr: Float. learning rate for the optimizer.\n",
        "    :param decay: Float. learning rate decay for the optimizer.\n",
        "    :param momentum: Float. Momentum for SGD if optimizer=keras.optimizers.SGD\n",
        "    :param residual: Boolean. True if residual net. Otherwise 'plain' net.\n",
        "    :return: CNN with residual connections, similar to ResNet32\n",
        "    \"\"\"\n",
        "    \n",
        "    if len(layers_per_block) != len(n_filters) or len(layers_per_block) !=\\\n",
        "        len(kernel_sizes) or len(n_filters) != len(n_filters):\n",
        "        e = \"Length of 'layers_per_block', 'n_filters' and 'kernel_sizes'\" +\\\n",
        "        \" must be the same\"\n",
        "        raise Exception(e)  \n",
        "\n",
        "    for layers in layers_per_block:\n",
        "      if layers % 2 == 1:\n",
        "        e = \"Number of 'layers_per_block' must be even/pair numbers\"\n",
        "        raise Exception(e)\n",
        "      \n",
        "    inputs = Input(shape=img_size)\n",
        "    \n",
        "    n_filters_conv1 = 64\n",
        "    #kernel_sizes_conv1 = (5,5)\n",
        "    # kernel_sizes_conv1 = (3,3)\n",
        "    kernel_sizes_conv1 = (7,7)\n",
        "    strides_conv1 = (2,2)\n",
        "    \n",
        "    conv1 = Conv2D(n_filters_conv1, kernel_sizes_conv1, strides=strides_conv1,\n",
        "                   padding='same', kernel_regularizer=regularizers.l2(l2_reg),\n",
        "                   kernel_initializer = glorot_uniform(0),\n",
        "                   bias_initializer = glorot_uniform(0))(inputs)\n",
        "    \n",
        "    layer_count = 1 # counter for the number of layers\n",
        "    \n",
        "   \n",
        "    for i in range(len(layers_per_block)):\n",
        "      for j in range(int(layers_per_block[i]/2)):\n",
        "        if j == 0:\n",
        "          if i == 0:\n",
        "            add = res_block(conv1, n_filters[i], kernel_sizes[i], l2_reg,\n",
        "                            residual, first=True)\n",
        "            #add = res_block(conv0_1, n_filters[i], kernel_sizes[i], l2_reg,\n",
        "            #                residual, subsampling=True)\n",
        "          else:\n",
        "            add = res_block(add, n_filters[i], kernel_sizes[i], l2_reg,\n",
        "                            residual, subsampling=True)\n",
        "        else:\n",
        "          add = res_block(add, n_filters[i], kernel_sizes[i], l2_reg,\n",
        "                          residual)\n",
        "          \n",
        "    bn = BatchNormalization()(add)\n",
        "    relu = Activation(\"relu\")(bn)\n",
        "\n",
        "    #pool = AveragePooling2D(pool_size=(2 ,2), padding='same')(relu)\n",
        "    #flat = Flatten()(pool)\n",
        "    flat = GlobalAveragePooling2D()(relu)\n",
        "\n",
        "    out = Dense(n_classes, activation='softmax',\n",
        "                      kernel_regularizer=regularizers.l2(l2_reg),\n",
        "                      kernel_initializer=glorot_uniform(0),\n",
        "                      bias_initializer=glorot_uniform(0))(flat)\n",
        "\n",
        "    res_cnn = Model(inputs=inputs, outputs=out)\n",
        "\n",
        "    if optimizer == keras.optimizers.Nadam:\n",
        "        res_cnn.compile(optimizer(lr=lr, schedule_decay=decay),\n",
        "                    \"categorical_crossentropy\", metrics=['accuracy'])\n",
        "    elif optimizer == keras.optimizers.SGD:\n",
        "        res_cnn.compile(optimizer(lr=lr, momentum=momentum, decay=decay),\n",
        "                        \"categorical_crossentropy\", metrics=['accuracy'])\n",
        "    else:\n",
        "        res_cnn.compile(optimizer(lr=lr, decay=decay),\n",
        "                        \"categorical_crossentropy\", metrics=['accuracy'])\n",
        "    return res_cnn"
      ],
      "execution_count": 0,
      "outputs": []
    },
    {
      "cell_type": "markdown",
      "metadata": {
        "colab_type": "text",
        "id": "m21vIzndbOIZ"
      },
      "source": [
        "### **Let's build a ResNet18:**"
      ]
    },
    {
      "cell_type": "code",
      "metadata": {
        "colab_type": "code",
        "id": "rLvSCOTsAuKF",
        "outputId": "da427a58-9fbf-4677-9849-eb0cceb9fa0f",
        "colab": {
          "base_uri": "https://localhost:8080/",
          "height": 1000
        }
      },
      "source": [
        "classes = list(iter(train_generator.class_indices))\n",
        "n_classes = len(classes)\n",
        "layers_per_block = [4, 4, 4, 4] #18 layers total with first conv and last FC\n",
        "n_filters = [64, 128, 256, 512]\n",
        "kernel_sizes = [(3,3), (3,3), (3,3), (3,3)]\n",
        "l2_reg = 1e-5\n",
        "optimizer = RMSprop # Adamax, RMSprop, Adam (No: Nadam, SGD)\n",
        "lr = 1e-3\n",
        "decay = 0.001\n",
        "momentum = 0.5\n",
        "\n",
        "res_cnn = make_resnet(img_size, n_classes, layers_per_block, n_filters,\n",
        "                       kernel_sizes, l2_reg, optimizer, lr, decay, momentum)\n",
        "res_cnn.summary()"
      ],
      "execution_count": 53,
      "outputs": [
        {
          "output_type": "stream",
          "text": [
            "Model: \"model_5\"\n",
            "__________________________________________________________________________________________________\n",
            "Layer (type)                    Output Shape         Param #     Connected to                     \n",
            "==================================================================================================\n",
            "input_5 (InputLayer)            (None, 256, 256, 3)  0                                            \n",
            "__________________________________________________________________________________________________\n",
            "conv2d_85 (Conv2D)              (None, 128, 128, 64) 9472        input_5[0][0]                    \n",
            "__________________________________________________________________________________________________\n",
            "batch_normalization_69 (BatchNo (None, 128, 128, 64) 256         conv2d_85[0][0]                  \n",
            "__________________________________________________________________________________________________\n",
            "activation_69 (Activation)      (None, 128, 128, 64) 0           batch_normalization_69[0][0]     \n",
            "__________________________________________________________________________________________________\n",
            "zero_padding2d_5 (ZeroPadding2D (None, 130, 130, 64) 0           activation_69[0][0]              \n",
            "__________________________________________________________________________________________________\n",
            "max_pooling2d_5 (MaxPooling2D)  (None, 64, 64, 64)   0           zero_padding2d_5[0][0]           \n",
            "__________________________________________________________________________________________________\n",
            "conv2d_86 (Conv2D)              (None, 64, 64, 64)   36928       max_pooling2d_5[0][0]            \n",
            "__________________________________________________________________________________________________\n",
            "batch_normalization_70 (BatchNo (None, 64, 64, 64)   256         conv2d_86[0][0]                  \n",
            "__________________________________________________________________________________________________\n",
            "activation_70 (Activation)      (None, 64, 64, 64)   0           batch_normalization_70[0][0]     \n",
            "__________________________________________________________________________________________________\n",
            "conv2d_87 (Conv2D)              (None, 64, 64, 64)   4160        conv2d_85[0][0]                  \n",
            "__________________________________________________________________________________________________\n",
            "conv2d_88 (Conv2D)              (None, 64, 64, 64)   36928       activation_70[0][0]              \n",
            "__________________________________________________________________________________________________\n",
            "add_33 (Add)                    (None, 64, 64, 64)   0           conv2d_87[0][0]                  \n",
            "                                                                 conv2d_88[0][0]                  \n",
            "__________________________________________________________________________________________________\n",
            "batch_normalization_71 (BatchNo (None, 64, 64, 64)   256         add_33[0][0]                     \n",
            "__________________________________________________________________________________________________\n",
            "activation_71 (Activation)      (None, 64, 64, 64)   0           batch_normalization_71[0][0]     \n",
            "__________________________________________________________________________________________________\n",
            "conv2d_89 (Conv2D)              (None, 64, 64, 64)   36928       activation_71[0][0]              \n",
            "__________________________________________________________________________________________________\n",
            "batch_normalization_72 (BatchNo (None, 64, 64, 64)   256         conv2d_89[0][0]                  \n",
            "__________________________________________________________________________________________________\n",
            "activation_72 (Activation)      (None, 64, 64, 64)   0           batch_normalization_72[0][0]     \n",
            "__________________________________________________________________________________________________\n",
            "conv2d_90 (Conv2D)              (None, 64, 64, 64)   36928       activation_72[0][0]              \n",
            "__________________________________________________________________________________________________\n",
            "add_34 (Add)                    (None, 64, 64, 64)   0           add_33[0][0]                     \n",
            "                                                                 conv2d_90[0][0]                  \n",
            "__________________________________________________________________________________________________\n",
            "batch_normalization_73 (BatchNo (None, 64, 64, 64)   256         add_34[0][0]                     \n",
            "__________________________________________________________________________________________________\n",
            "activation_73 (Activation)      (None, 64, 64, 64)   0           batch_normalization_73[0][0]     \n",
            "__________________________________________________________________________________________________\n",
            "conv2d_91 (Conv2D)              (None, 32, 32, 128)  73856       activation_73[0][0]              \n",
            "__________________________________________________________________________________________________\n",
            "batch_normalization_74 (BatchNo (None, 32, 32, 128)  512         conv2d_91[0][0]                  \n",
            "__________________________________________________________________________________________________\n",
            "activation_74 (Activation)      (None, 32, 32, 128)  0           batch_normalization_74[0][0]     \n",
            "__________________________________________________________________________________________________\n",
            "conv2d_92 (Conv2D)              (None, 32, 32, 128)  8320        add_34[0][0]                     \n",
            "__________________________________________________________________________________________________\n",
            "conv2d_93 (Conv2D)              (None, 32, 32, 128)  147584      activation_74[0][0]              \n",
            "__________________________________________________________________________________________________\n",
            "add_35 (Add)                    (None, 32, 32, 128)  0           conv2d_92[0][0]                  \n",
            "                                                                 conv2d_93[0][0]                  \n",
            "__________________________________________________________________________________________________\n",
            "batch_normalization_75 (BatchNo (None, 32, 32, 128)  512         add_35[0][0]                     \n",
            "__________________________________________________________________________________________________\n",
            "activation_75 (Activation)      (None, 32, 32, 128)  0           batch_normalization_75[0][0]     \n",
            "__________________________________________________________________________________________________\n",
            "conv2d_94 (Conv2D)              (None, 32, 32, 128)  147584      activation_75[0][0]              \n",
            "__________________________________________________________________________________________________\n",
            "batch_normalization_76 (BatchNo (None, 32, 32, 128)  512         conv2d_94[0][0]                  \n",
            "__________________________________________________________________________________________________\n",
            "activation_76 (Activation)      (None, 32, 32, 128)  0           batch_normalization_76[0][0]     \n",
            "__________________________________________________________________________________________________\n",
            "conv2d_95 (Conv2D)              (None, 32, 32, 128)  147584      activation_76[0][0]              \n",
            "__________________________________________________________________________________________________\n",
            "add_36 (Add)                    (None, 32, 32, 128)  0           add_35[0][0]                     \n",
            "                                                                 conv2d_95[0][0]                  \n",
            "__________________________________________________________________________________________________\n",
            "batch_normalization_77 (BatchNo (None, 32, 32, 128)  512         add_36[0][0]                     \n",
            "__________________________________________________________________________________________________\n",
            "activation_77 (Activation)      (None, 32, 32, 128)  0           batch_normalization_77[0][0]     \n",
            "__________________________________________________________________________________________________\n",
            "conv2d_96 (Conv2D)              (None, 16, 16, 256)  295168      activation_77[0][0]              \n",
            "__________________________________________________________________________________________________\n",
            "batch_normalization_78 (BatchNo (None, 16, 16, 256)  1024        conv2d_96[0][0]                  \n",
            "__________________________________________________________________________________________________\n",
            "activation_78 (Activation)      (None, 16, 16, 256)  0           batch_normalization_78[0][0]     \n",
            "__________________________________________________________________________________________________\n",
            "conv2d_97 (Conv2D)              (None, 16, 16, 256)  33024       add_36[0][0]                     \n",
            "__________________________________________________________________________________________________\n",
            "conv2d_98 (Conv2D)              (None, 16, 16, 256)  590080      activation_78[0][0]              \n",
            "__________________________________________________________________________________________________\n",
            "add_37 (Add)                    (None, 16, 16, 256)  0           conv2d_97[0][0]                  \n",
            "                                                                 conv2d_98[0][0]                  \n",
            "__________________________________________________________________________________________________\n",
            "batch_normalization_79 (BatchNo (None, 16, 16, 256)  1024        add_37[0][0]                     \n",
            "__________________________________________________________________________________________________\n",
            "activation_79 (Activation)      (None, 16, 16, 256)  0           batch_normalization_79[0][0]     \n",
            "__________________________________________________________________________________________________\n",
            "conv2d_99 (Conv2D)              (None, 16, 16, 256)  590080      activation_79[0][0]              \n",
            "__________________________________________________________________________________________________\n",
            "batch_normalization_80 (BatchNo (None, 16, 16, 256)  1024        conv2d_99[0][0]                  \n",
            "__________________________________________________________________________________________________\n",
            "activation_80 (Activation)      (None, 16, 16, 256)  0           batch_normalization_80[0][0]     \n",
            "__________________________________________________________________________________________________\n",
            "conv2d_100 (Conv2D)             (None, 16, 16, 256)  590080      activation_80[0][0]              \n",
            "__________________________________________________________________________________________________\n",
            "add_38 (Add)                    (None, 16, 16, 256)  0           add_37[0][0]                     \n",
            "                                                                 conv2d_100[0][0]                 \n",
            "__________________________________________________________________________________________________\n",
            "batch_normalization_81 (BatchNo (None, 16, 16, 256)  1024        add_38[0][0]                     \n",
            "__________________________________________________________________________________________________\n",
            "activation_81 (Activation)      (None, 16, 16, 256)  0           batch_normalization_81[0][0]     \n",
            "__________________________________________________________________________________________________\n",
            "conv2d_101 (Conv2D)             (None, 8, 8, 512)    1180160     activation_81[0][0]              \n",
            "__________________________________________________________________________________________________\n",
            "batch_normalization_82 (BatchNo (None, 8, 8, 512)    2048        conv2d_101[0][0]                 \n",
            "__________________________________________________________________________________________________\n",
            "activation_82 (Activation)      (None, 8, 8, 512)    0           batch_normalization_82[0][0]     \n",
            "__________________________________________________________________________________________________\n",
            "conv2d_102 (Conv2D)             (None, 8, 8, 512)    131584      add_38[0][0]                     \n",
            "__________________________________________________________________________________________________\n",
            "conv2d_103 (Conv2D)             (None, 8, 8, 512)    2359808     activation_82[0][0]              \n",
            "__________________________________________________________________________________________________\n",
            "add_39 (Add)                    (None, 8, 8, 512)    0           conv2d_102[0][0]                 \n",
            "                                                                 conv2d_103[0][0]                 \n",
            "__________________________________________________________________________________________________\n",
            "batch_normalization_83 (BatchNo (None, 8, 8, 512)    2048        add_39[0][0]                     \n",
            "__________________________________________________________________________________________________\n",
            "activation_83 (Activation)      (None, 8, 8, 512)    0           batch_normalization_83[0][0]     \n",
            "__________________________________________________________________________________________________\n",
            "conv2d_104 (Conv2D)             (None, 8, 8, 512)    2359808     activation_83[0][0]              \n",
            "__________________________________________________________________________________________________\n",
            "batch_normalization_84 (BatchNo (None, 8, 8, 512)    2048        conv2d_104[0][0]                 \n",
            "__________________________________________________________________________________________________\n",
            "activation_84 (Activation)      (None, 8, 8, 512)    0           batch_normalization_84[0][0]     \n",
            "__________________________________________________________________________________________________\n",
            "conv2d_105 (Conv2D)             (None, 8, 8, 512)    2359808     activation_84[0][0]              \n",
            "__________________________________________________________________________________________________\n",
            "add_40 (Add)                    (None, 8, 8, 512)    0           add_39[0][0]                     \n",
            "                                                                 conv2d_105[0][0]                 \n",
            "__________________________________________________________________________________________________\n",
            "batch_normalization_85 (BatchNo (None, 8, 8, 512)    2048        add_40[0][0]                     \n",
            "__________________________________________________________________________________________________\n",
            "activation_85 (Activation)      (None, 8, 8, 512)    0           batch_normalization_85[0][0]     \n",
            "__________________________________________________________________________________________________\n",
            "global_average_pooling2d_5 (Glo (None, 512)          0           activation_85[0][0]              \n",
            "__________________________________________________________________________________________________\n",
            "dense_5 (Dense)                 (None, 8)            4104        global_average_pooling2d_5[0][0] \n",
            "==================================================================================================\n",
            "Total params: 11,195,592\n",
            "Trainable params: 11,187,784\n",
            "Non-trainable params: 7,808\n",
            "__________________________________________________________________________________________________\n"
          ],
          "name": "stdout"
        }
      ]
    },
    {
      "cell_type": "markdown",
      "metadata": {
        "colab_type": "text",
        "id": "JUL3HGj4dyft"
      },
      "source": [
        "### **Let's train and validate our Base Model:**"
      ]
    },
    {
      "cell_type": "code",
      "metadata": {
        "colab_type": "code",
        "id": "cphDumA0nUjo",
        "outputId": "b0fb6978-127a-44fc-e76c-eed80523c98f",
        "colab": {
          "base_uri": "https://localhost:8080/",
          "height": 1000
        }
      },
      "source": [
        "## Balanced Control Validation\n",
        "## Rot 0, 120, 240\n",
        "\n",
        "## ReduceLROnPlateau(monitor='val_loss'... )\n",
        "\n",
        "## Grouping C3 into C2 AND C7 into C4, no dish border\n",
        "## l2_reg = 1e-5 stride_60, \n",
        "## 128x128, min_pos_pix_1250, mivalpos_1024\n",
        "## train_batch_32, opt_RMSprop, Kernel_3x3:\n",
        "\n",
        "epochs = 80 #100\n",
        "\n",
        "train_steps = train_generator.n//train_generator.batch_size\n",
        "val_steps = val_generator.n//val_generator.batch_size\n",
        "\n",
        "# Callbacks:\n",
        "reduce_lr = ReduceLROnPlateau(monitor='val_loss', factor=0.85, patience=5, \n",
        "                                   verbose=1, mode='min', min_lr=1e-9)\n",
        "EarlyStop = EarlyStopping(monitor='val_acc', patience=35, verbose=1,\n",
        "                          min_delta=0, mode='max')\n",
        "checkpoint = ModelCheckpoint('base_model.h5', monitor='val_acc', verbose=1, \n",
        "                             save_best_only=True, mode='max')\n",
        "\n",
        "callbacks_list = [reduce_lr, checkpoint, EarlyStop] #order matters!\n",
        "\n",
        "#res_cnn.load_weights('base_model.h5')\n",
        "\n",
        "history = res_cnn.fit_generator(train_generator, steps_per_epoch=train_steps,\n",
        "                            validation_data=val_generator,\n",
        "                            validation_steps=val_steps, epochs=epochs,\n",
        "                            verbose=1, callbacks=callbacks_list, shuffle=False,\n",
        "                            class_weight=serial_pos_weights)"
      ],
      "execution_count": 54,
      "outputs": [
        {
          "output_type": "stream",
          "text": [
            "Epoch 1/80\n",
            "58/58 [==============================] - 12s 207ms/step - loss: 1.3208 - acc: 0.5167 - val_loss: 9.3363 - val_acc: 0.2617\n",
            "\n",
            "Epoch 00001: val_acc improved from -inf to 0.26172, saving model to base_model.h5\n",
            "Epoch 2/80\n",
            "58/58 [==============================] - 6s 101ms/step - loss: 0.9474 - acc: 0.5997 - val_loss: 15.0405 - val_acc: 0.0580\n",
            "\n",
            "Epoch 00002: val_acc did not improve from 0.26172\n",
            "Epoch 3/80\n",
            "58/58 [==============================] - 6s 102ms/step - loss: 0.8495 - acc: 0.6386 - val_loss: 12.9183 - val_acc: 0.0982\n",
            "\n",
            "Epoch 00003: val_acc did not improve from 0.26172\n",
            "Epoch 4/80\n",
            "58/58 [==============================] - 6s 100ms/step - loss: 0.7652 - acc: 0.6781 - val_loss: 13.4219 - val_acc: 0.0848\n",
            "\n",
            "Epoch 00004: val_acc did not improve from 0.26172\n",
            "Epoch 5/80\n",
            "58/58 [==============================] - 6s 97ms/step - loss: 0.6919 - acc: 0.6946 - val_loss: 13.9476 - val_acc: 0.1295\n",
            "\n",
            "Epoch 00005: val_acc did not improve from 0.26172\n",
            "Epoch 6/80\n",
            "58/58 [==============================] - 6s 98ms/step - loss: 0.6796 - acc: 0.7084 - val_loss: 12.7373 - val_acc: 0.1992\n",
            "\n",
            "Epoch 00006: ReduceLROnPlateau reducing learning rate to 0.0008500000403728336.\n",
            "\n",
            "Epoch 00006: val_acc did not improve from 0.26172\n",
            "Epoch 7/80\n",
            "58/58 [==============================] - 6s 101ms/step - loss: 0.5882 - acc: 0.7425 - val_loss: 5.3978 - val_acc: 0.4955\n",
            "\n",
            "Epoch 00007: val_acc improved from 0.26172 to 0.49554, saving model to base_model.h5\n",
            "Epoch 8/80\n",
            "58/58 [==============================] - 6s 100ms/step - loss: 0.5591 - acc: 0.7595 - val_loss: 10.3732 - val_acc: 0.2902\n",
            "\n",
            "Epoch 00008: val_acc did not improve from 0.49554\n",
            "Epoch 9/80\n",
            "58/58 [==============================] - 6s 98ms/step - loss: 0.5249 - acc: 0.7672 - val_loss: 3.0844 - val_acc: 0.4152\n",
            "\n",
            "Epoch 00009: val_acc did not improve from 0.49554\n",
            "Epoch 10/80\n",
            "58/58 [==============================] - 6s 98ms/step - loss: 0.5290 - acc: 0.7624 - val_loss: 4.9249 - val_acc: 0.3304\n",
            "\n",
            "Epoch 00010: val_acc did not improve from 0.49554\n",
            "Epoch 11/80\n",
            "58/58 [==============================] - 6s 98ms/step - loss: 0.4731 - acc: 0.7933 - val_loss: 4.1966 - val_acc: 0.4141\n",
            "\n",
            "Epoch 00011: val_acc did not improve from 0.49554\n",
            "Epoch 12/80\n",
            "58/58 [==============================] - 6s 102ms/step - loss: 0.4912 - acc: 0.7855 - val_loss: 5.1464 - val_acc: 0.4732\n",
            "\n",
            "Epoch 00012: val_acc did not improve from 0.49554\n",
            "Epoch 13/80\n",
            "58/58 [==============================] - 6s 100ms/step - loss: 0.4540 - acc: 0.8099 - val_loss: 4.6445 - val_acc: 0.4420\n",
            "\n",
            "Epoch 00013: val_acc did not improve from 0.49554\n",
            "Epoch 14/80\n",
            "58/58 [==============================] - 6s 100ms/step - loss: 0.4280 - acc: 0.8051 - val_loss: 8.2615 - val_acc: 0.2991\n",
            "\n",
            "Epoch 00014: ReduceLROnPlateau reducing learning rate to 0.0007225000590551645.\n",
            "\n",
            "Epoch 00014: val_acc did not improve from 0.49554\n",
            "Epoch 15/80\n",
            "58/58 [==============================] - 6s 98ms/step - loss: 0.4054 - acc: 0.8342 - val_loss: 1.2534 - val_acc: 0.6518\n",
            "\n",
            "Epoch 00015: val_acc improved from 0.49554 to 0.65179, saving model to base_model.h5\n",
            "Epoch 16/80\n",
            "58/58 [==============================] - 6s 98ms/step - loss: 0.3761 - acc: 0.8493 - val_loss: 4.6064 - val_acc: 0.3203\n",
            "\n",
            "Epoch 00016: val_acc did not improve from 0.65179\n",
            "Epoch 17/80\n",
            "58/58 [==============================] - 6s 102ms/step - loss: 0.3620 - acc: 0.8604 - val_loss: 5.2629 - val_acc: 0.5402\n",
            "\n",
            "Epoch 00017: val_acc did not improve from 0.65179\n",
            "Epoch 18/80\n",
            "58/58 [==============================] - 6s 102ms/step - loss: 0.3443 - acc: 0.8737 - val_loss: 2.1151 - val_acc: 0.5625\n",
            "\n",
            "Epoch 00018: val_acc did not improve from 0.65179\n",
            "Epoch 19/80\n",
            "58/58 [==============================] - 6s 100ms/step - loss: 0.3131 - acc: 0.8804 - val_loss: 1.4033 - val_acc: 0.6250\n",
            "\n",
            "Epoch 00019: val_acc did not improve from 0.65179\n",
            "Epoch 20/80\n",
            "58/58 [==============================] - 6s 99ms/step - loss: 0.2839 - acc: 0.8990 - val_loss: 4.1717 - val_acc: 0.3125\n",
            "\n",
            "Epoch 00020: ReduceLROnPlateau reducing learning rate to 0.0006141250254586339.\n",
            "\n",
            "Epoch 00020: val_acc did not improve from 0.65179\n",
            "Epoch 21/80\n",
            "58/58 [==============================] - 6s 99ms/step - loss: 0.2269 - acc: 0.9255 - val_loss: 2.2895 - val_acc: 0.4531\n",
            "\n",
            "Epoch 00021: val_acc did not improve from 0.65179\n",
            "Epoch 22/80\n",
            "58/58 [==============================] - 6s 101ms/step - loss: 0.2409 - acc: 0.9063 - val_loss: 3.9247 - val_acc: 0.4062\n",
            "\n",
            "Epoch 00022: val_acc did not improve from 0.65179\n",
            "Epoch 23/80\n",
            "58/58 [==============================] - 6s 100ms/step - loss: 0.2221 - acc: 0.9233 - val_loss: 1.8598 - val_acc: 0.5625\n",
            "\n",
            "Epoch 00023: val_acc did not improve from 0.65179\n",
            "Epoch 24/80\n",
            "58/58 [==============================] - 6s 100ms/step - loss: 0.1840 - acc: 0.9406 - val_loss: 1.3505 - val_acc: 0.6161\n",
            "\n",
            "Epoch 00024: val_acc did not improve from 0.65179\n",
            "Epoch 25/80\n",
            "58/58 [==============================] - 6s 99ms/step - loss: 0.1879 - acc: 0.9374 - val_loss: 2.9170 - val_acc: 0.5179\n",
            "\n",
            "Epoch 00025: ReduceLROnPlateau reducing learning rate to 0.0005220062914304435.\n",
            "\n",
            "Epoch 00025: val_acc did not improve from 0.65179\n",
            "Epoch 26/80\n",
            "58/58 [==============================] - 6s 99ms/step - loss: 0.1577 - acc: 0.9492 - val_loss: 1.8742 - val_acc: 0.5508\n",
            "\n",
            "Epoch 00026: val_acc did not improve from 0.65179\n",
            "Epoch 27/80\n",
            "58/58 [==============================] - 6s 102ms/step - loss: 0.1437 - acc: 0.9601 - val_loss: 0.8627 - val_acc: 0.7634\n",
            "\n",
            "Epoch 00027: val_acc improved from 0.65179 to 0.76339, saving model to base_model.h5\n",
            "Epoch 28/80\n",
            "58/58 [==============================] - 6s 100ms/step - loss: 0.1423 - acc: 0.9617 - val_loss: 1.2059 - val_acc: 0.6830\n",
            "\n",
            "Epoch 00028: val_acc did not improve from 0.76339\n",
            "Epoch 29/80\n",
            "58/58 [==============================] - 6s 100ms/step - loss: 0.1292 - acc: 0.9654 - val_loss: 1.0689 - val_acc: 0.7009\n",
            "\n",
            "Epoch 00029: val_acc did not improve from 0.76339\n",
            "Epoch 30/80\n",
            "58/58 [==============================] - 6s 98ms/step - loss: 0.1208 - acc: 0.9687 - val_loss: 2.0611 - val_acc: 0.6429\n",
            "\n",
            "Epoch 00030: val_acc did not improve from 0.76339\n",
            "Epoch 31/80\n",
            "58/58 [==============================] - 6s 99ms/step - loss: 0.1160 - acc: 0.9714 - val_loss: 1.2034 - val_acc: 0.7344\n",
            "\n",
            "Epoch 00031: val_acc did not improve from 0.76339\n",
            "Epoch 32/80\n",
            "58/58 [==============================] - 6s 102ms/step - loss: 0.1079 - acc: 0.9730 - val_loss: 2.5982 - val_acc: 0.6250\n",
            "\n",
            "Epoch 00032: ReduceLROnPlateau reducing learning rate to 0.00044370535761117935.\n",
            "\n",
            "Epoch 00032: val_acc did not improve from 0.76339\n",
            "Epoch 33/80\n",
            "58/58 [==============================] - 6s 101ms/step - loss: 0.0996 - acc: 0.9752 - val_loss: 1.6547 - val_acc: 0.6920\n",
            "\n",
            "Epoch 00033: val_acc did not improve from 0.76339\n",
            "Epoch 34/80\n",
            "58/58 [==============================] - 6s 100ms/step - loss: 0.0855 - acc: 0.9811 - val_loss: 2.5581 - val_acc: 0.5982\n",
            "\n",
            "Epoch 00034: val_acc did not improve from 0.76339\n",
            "Epoch 35/80\n",
            "58/58 [==============================] - 6s 98ms/step - loss: 0.0852 - acc: 0.9821 - val_loss: 3.5316 - val_acc: 0.3839\n",
            "\n",
            "Epoch 00035: val_acc did not improve from 0.76339\n",
            "Epoch 36/80\n",
            "58/58 [==============================] - 6s 98ms/step - loss: 0.0896 - acc: 0.9808 - val_loss: 0.7289 - val_acc: 0.7578\n",
            "\n",
            "Epoch 00036: val_acc did not improve from 0.76339\n",
            "Epoch 37/80\n",
            "58/58 [==============================] - 6s 103ms/step - loss: 0.0758 - acc: 0.9871 - val_loss: 1.3177 - val_acc: 0.8304\n",
            "\n",
            "Epoch 00037: val_acc improved from 0.76339 to 0.83036, saving model to base_model.h5\n",
            "Epoch 38/80\n",
            "58/58 [==============================] - 6s 102ms/step - loss: 0.0741 - acc: 0.9876 - val_loss: 1.1991 - val_acc: 0.7991\n",
            "\n",
            "Epoch 00038: val_acc did not improve from 0.83036\n",
            "Epoch 39/80\n",
            "58/58 [==============================] - 6s 100ms/step - loss: 0.0666 - acc: 0.9891 - val_loss: 2.1898 - val_acc: 0.5625\n",
            "\n",
            "Epoch 00039: val_acc did not improve from 0.83036\n",
            "Epoch 40/80\n",
            "58/58 [==============================] - 6s 98ms/step - loss: 0.0651 - acc: 0.9919 - val_loss: 1.9085 - val_acc: 0.6830\n",
            "\n",
            "Epoch 00040: val_acc did not improve from 0.83036\n",
            "Epoch 41/80\n",
            "58/58 [==============================] - 6s 98ms/step - loss: 0.0594 - acc: 0.9914 - val_loss: 1.0796 - val_acc: 0.7578\n",
            "\n",
            "Epoch 00041: ReduceLROnPlateau reducing learning rate to 0.00037714955396950245.\n",
            "\n",
            "Epoch 00041: val_acc did not improve from 0.83036\n",
            "Epoch 42/80\n",
            "58/58 [==============================] - 6s 102ms/step - loss: 0.0591 - acc: 0.9914 - val_loss: 1.0448 - val_acc: 0.7991\n",
            "\n",
            "Epoch 00042: val_acc did not improve from 0.83036\n",
            "Epoch 43/80\n",
            "58/58 [==============================] - 6s 102ms/step - loss: 0.0505 - acc: 0.9967 - val_loss: 1.6446 - val_acc: 0.7277\n",
            "\n",
            "Epoch 00043: val_acc did not improve from 0.83036\n",
            "Epoch 44/80\n",
            "58/58 [==============================] - 6s 100ms/step - loss: 0.0511 - acc: 0.9944 - val_loss: 1.5544 - val_acc: 0.7902\n",
            "\n",
            "Epoch 00044: val_acc did not improve from 0.83036\n",
            "Epoch 45/80\n",
            "58/58 [==============================] - 6s 98ms/step - loss: 0.0504 - acc: 0.9957 - val_loss: 1.3670 - val_acc: 0.6696\n",
            "\n",
            "Epoch 00045: val_acc did not improve from 0.83036\n",
            "Epoch 46/80\n",
            "58/58 [==============================] - 6s 99ms/step - loss: 0.0468 - acc: 0.9973 - val_loss: 1.2493 - val_acc: 0.8008\n",
            "\n",
            "Epoch 00046: ReduceLROnPlateau reducing learning rate to 0.0003205771208740771.\n",
            "\n",
            "Epoch 00046: val_acc did not improve from 0.83036\n",
            "Epoch 47/80\n",
            "58/58 [==============================] - 6s 102ms/step - loss: 0.0412 - acc: 0.9972 - val_loss: 0.8380 - val_acc: 0.8929\n",
            "\n",
            "Epoch 00047: val_acc improved from 0.83036 to 0.89286, saving model to base_model.h5\n",
            "Epoch 48/80\n",
            "58/58 [==============================] - 6s 101ms/step - loss: 0.0380 - acc: 1.0000 - val_loss: 1.2195 - val_acc: 0.7188\n",
            "\n",
            "Epoch 00048: val_acc did not improve from 0.89286\n",
            "Epoch 49/80\n",
            "58/58 [==============================] - 6s 100ms/step - loss: 0.0502 - acc: 0.9944 - val_loss: 2.6590 - val_acc: 0.5848\n",
            "\n",
            "Epoch 00049: val_acc did not improve from 0.89286\n",
            "Epoch 50/80\n",
            "58/58 [==============================] - 6s 98ms/step - loss: 0.0387 - acc: 1.0000 - val_loss: 3.2827 - val_acc: 0.6652\n",
            "\n",
            "Epoch 00050: val_acc did not improve from 0.89286\n",
            "Epoch 51/80\n",
            "58/58 [==============================] - 6s 98ms/step - loss: 0.0400 - acc: 0.9989 - val_loss: 0.9353 - val_acc: 0.7422\n",
            "\n",
            "Epoch 00051: ReduceLROnPlateau reducing learning rate to 0.0002724905527429655.\n",
            "\n",
            "Epoch 00051: val_acc did not improve from 0.89286\n",
            "Epoch 52/80\n",
            "58/58 [==============================] - 6s 103ms/step - loss: 0.0394 - acc: 0.9978 - val_loss: 1.4906 - val_acc: 0.8080\n",
            "\n",
            "Epoch 00052: val_acc did not improve from 0.89286\n",
            "Epoch 53/80\n",
            "58/58 [==============================] - 6s 102ms/step - loss: 0.0350 - acc: 1.0000 - val_loss: 1.9251 - val_acc: 0.7634\n",
            "\n",
            "Epoch 00053: val_acc did not improve from 0.89286\n",
            "Epoch 54/80\n",
            "58/58 [==============================] - 6s 101ms/step - loss: 0.0368 - acc: 0.9989 - val_loss: 1.6584 - val_acc: 0.7946\n",
            "\n",
            "Epoch 00054: val_acc did not improve from 0.89286\n",
            "Epoch 55/80\n",
            "58/58 [==============================] - 6s 98ms/step - loss: 0.0345 - acc: 0.9989 - val_loss: 1.6644 - val_acc: 0.6920\n",
            "\n",
            "Epoch 00055: val_acc did not improve from 0.89286\n",
            "Epoch 56/80\n",
            "58/58 [==============================] - 6s 99ms/step - loss: 0.0346 - acc: 0.9989 - val_loss: 0.9787 - val_acc: 0.7578\n",
            "\n",
            "Epoch 00056: ReduceLROnPlateau reducing learning rate to 0.00023161696735769509.\n",
            "\n",
            "Epoch 00056: val_acc did not improve from 0.89286\n",
            "Epoch 57/80\n",
            "58/58 [==============================] - 6s 103ms/step - loss: 0.0332 - acc: 0.9995 - val_loss: 0.8106 - val_acc: 0.8929\n",
            "\n",
            "Epoch 00057: val_acc did not improve from 0.89286\n",
            "Epoch 58/80\n",
            "58/58 [==============================] - 6s 101ms/step - loss: 0.0330 - acc: 0.9995 - val_loss: 2.4031 - val_acc: 0.7545\n",
            "\n",
            "Epoch 00058: val_acc did not improve from 0.89286\n",
            "Epoch 59/80\n",
            "58/58 [==============================] - 6s 100ms/step - loss: 0.0325 - acc: 1.0000 - val_loss: 1.3516 - val_acc: 0.7366\n",
            "\n",
            "Epoch 00059: val_acc did not improve from 0.89286\n",
            "Epoch 60/80\n",
            "58/58 [==============================] - 6s 97ms/step - loss: 0.0336 - acc: 0.9984 - val_loss: 1.3632 - val_acc: 0.6875\n",
            "\n",
            "Epoch 00060: val_acc did not improve from 0.89286\n",
            "Epoch 61/80\n",
            "58/58 [==============================] - 6s 98ms/step - loss: 0.0331 - acc: 0.9989 - val_loss: 1.8048 - val_acc: 0.7852\n",
            "\n",
            "Epoch 00061: ReduceLROnPlateau reducing learning rate to 0.00019687442472786642.\n",
            "\n",
            "Epoch 00061: val_acc did not improve from 0.89286\n",
            "Epoch 62/80\n",
            "58/58 [==============================] - 6s 102ms/step - loss: 0.0319 - acc: 0.9995 - val_loss: 0.7464 - val_acc: 0.8929\n",
            "\n",
            "Epoch 00062: val_acc did not improve from 0.89286\n",
            "Epoch 63/80\n",
            "58/58 [==============================] - 6s 101ms/step - loss: 0.0307 - acc: 0.9995 - val_loss: 1.5651 - val_acc: 0.7589\n",
            "\n",
            "Epoch 00063: val_acc did not improve from 0.89286\n",
            "Epoch 64/80\n",
            "58/58 [==============================] - 6s 100ms/step - loss: 0.0297 - acc: 1.0000 - val_loss: 1.5563 - val_acc: 0.7812\n",
            "\n",
            "Epoch 00064: val_acc did not improve from 0.89286\n",
            "Epoch 65/80\n",
            "58/58 [==============================] - 6s 98ms/step - loss: 0.0307 - acc: 0.9995 - val_loss: 1.9659 - val_acc: 0.7143\n",
            "\n",
            "Epoch 00065: val_acc did not improve from 0.89286\n",
            "Epoch 66/80\n",
            "58/58 [==============================] - 6s 98ms/step - loss: 0.0311 - acc: 0.9989 - val_loss: 1.5553 - val_acc: 0.7930\n",
            "\n",
            "Epoch 00066: ReduceLROnPlateau reducing learning rate to 0.00016734325545257888.\n",
            "\n",
            "Epoch 00066: val_acc did not improve from 0.89286\n",
            "Epoch 67/80\n",
            "58/58 [==============================] - 6s 103ms/step - loss: 0.0294 - acc: 1.0000 - val_loss: 0.8253 - val_acc: 0.9018\n",
            "\n",
            "Epoch 00067: val_acc improved from 0.89286 to 0.90179, saving model to base_model.h5\n",
            "Epoch 68/80\n",
            "58/58 [==============================] - 6s 100ms/step - loss: 0.0318 - acc: 0.9989 - val_loss: 0.9353 - val_acc: 0.7545\n",
            "\n",
            "Epoch 00068: val_acc did not improve from 0.90179\n",
            "Epoch 69/80\n",
            "58/58 [==============================] - 6s 98ms/step - loss: 0.0288 - acc: 1.0000 - val_loss: 1.5793 - val_acc: 0.7723\n",
            "\n",
            "Epoch 00069: val_acc did not improve from 0.90179\n",
            "Epoch 70/80\n",
            "58/58 [==============================] - 6s 98ms/step - loss: 0.0281 - acc: 1.0000 - val_loss: 1.6094 - val_acc: 0.7143\n",
            "\n",
            "Epoch 00070: val_acc did not improve from 0.90179\n",
            "Epoch 71/80\n",
            "58/58 [==============================] - 6s 98ms/step - loss: 0.0282 - acc: 1.0000 - val_loss: 1.5542 - val_acc: 0.7969\n",
            "\n",
            "Epoch 00071: ReduceLROnPlateau reducing learning rate to 0.00014224176775314845.\n",
            "\n",
            "Epoch 00071: val_acc did not improve from 0.90179\n",
            "Epoch 72/80\n",
            "58/58 [==============================] - 6s 102ms/step - loss: 0.0279 - acc: 1.0000 - val_loss: 0.9798 - val_acc: 0.8884\n",
            "\n",
            "Epoch 00072: val_acc did not improve from 0.90179\n",
            "Epoch 73/80\n",
            "58/58 [==============================] - 6s 101ms/step - loss: 0.0276 - acc: 1.0000 - val_loss: 1.9737 - val_acc: 0.7723\n",
            "\n",
            "Epoch 00073: val_acc did not improve from 0.90179\n",
            "Epoch 74/80\n",
            "58/58 [==============================] - 6s 100ms/step - loss: 0.0268 - acc: 1.0000 - val_loss: 1.6281 - val_acc: 0.8036\n",
            "\n",
            "Epoch 00074: val_acc did not improve from 0.90179\n",
            "Epoch 75/80\n",
            "58/58 [==============================] - 6s 98ms/step - loss: 0.0266 - acc: 1.0000 - val_loss: 2.1959 - val_acc: 0.7411\n",
            "\n",
            "Epoch 00075: val_acc did not improve from 0.90179\n",
            "Epoch 76/80\n",
            "58/58 [==============================] - 6s 99ms/step - loss: 0.0270 - acc: 0.9995 - val_loss: 1.9030 - val_acc: 0.7852\n",
            "\n",
            "Epoch 00076: ReduceLROnPlateau reducing learning rate to 0.00012090550444554538.\n",
            "\n",
            "Epoch 00076: val_acc did not improve from 0.90179\n",
            "Epoch 77/80\n",
            "58/58 [==============================] - 6s 102ms/step - loss: 0.0272 - acc: 0.9995 - val_loss: 0.6644 - val_acc: 0.9107\n",
            "\n",
            "Epoch 00077: val_acc improved from 0.90179 to 0.91071, saving model to base_model.h5\n",
            "Epoch 78/80\n",
            "58/58 [==============================] - 6s 102ms/step - loss: 0.0267 - acc: 0.9995 - val_loss: 1.6297 - val_acc: 0.7500\n",
            "\n",
            "Epoch 00078: val_acc did not improve from 0.91071\n",
            "Epoch 79/80\n",
            "58/58 [==============================] - 6s 100ms/step - loss: 0.0260 - acc: 1.0000 - val_loss: 1.9976 - val_acc: 0.7991\n",
            "\n",
            "Epoch 00079: val_acc did not improve from 0.91071\n",
            "Epoch 80/80\n",
            "58/58 [==============================] - 6s 99ms/step - loss: 0.0255 - acc: 1.0000 - val_loss: 2.4040 - val_acc: 0.7455\n",
            "\n",
            "Epoch 00080: val_acc did not improve from 0.91071\n"
          ],
          "name": "stdout"
        }
      ]
    },
    {
      "cell_type": "markdown",
      "metadata": {
        "colab_type": "text",
        "id": "CZoWGz1EIuF2"
      },
      "source": [
        "#### **Let's download the best model to a local file (just in case colab's session is interrupted):**"
      ]
    },
    {
      "cell_type": "code",
      "metadata": {
        "colab_type": "code",
        "id": "buUlQRadcxui",
        "colab": {}
      },
      "source": [
        "try:\n",
        "  files.download('base_model.h5')\n",
        "except:\n",
        "  print(\"Not done\")\n",
        "  pass"
      ],
      "execution_count": 0,
      "outputs": []
    },
    {
      "cell_type": "markdown",
      "metadata": {
        "colab_type": "text",
        "id": "MRz_1oJzJRFH"
      },
      "source": [
        "#### **Let's download the training history to a local file (just in case colab's session is interrupted):**"
      ]
    },
    {
      "cell_type": "code",
      "metadata": {
        "colab_type": "code",
        "id": "k5Y5GUUhcyAt",
        "colab": {}
      },
      "source": [
        "for k,v in history.history.items():\n",
        "  history.history[k] = str(v)\n",
        "\n",
        "with open('history_dict_7.json', 'w') as f:\n",
        "    json.dump(history.history, f)\n",
        "\n",
        "try:\n",
        "    time.sleep(3) # To avoid warning when downloading various files at once\n",
        "    files.download('history_dict_7.json')\n",
        "except:\n",
        "    pass"
      ],
      "execution_count": 0,
      "outputs": []
    },
    {
      "cell_type": "code",
      "metadata": {
        "colab_type": "code",
        "id": "jxEpvYPVcyUb",
        "colab": {}
      },
      "source": [
        "#uploaded = files.upload()\n",
        "with open('history_dict_7.json') as f:\n",
        "    history_dict = json.load(f)\n",
        "    \n",
        "for k,v in history_dict.items():\n",
        "  history_dict[k] = json.loads(v)\n",
        "\n",
        "history_df = pd.DataFrame(history_dict)"
      ],
      "execution_count": 0,
      "outputs": []
    },
    {
      "cell_type": "markdown",
      "metadata": {
        "colab_type": "text",
        "id": "_eAC27OxKOLY"
      },
      "source": [
        "#### **Let's plot training and validation loss vs epochs:**"
      ]
    },
    {
      "cell_type": "code",
      "metadata": {
        "id": "7lFu79OTjQAT",
        "colab_type": "code",
        "colab": {
          "base_uri": "https://localhost:8080/",
          "height": 407
        },
        "outputId": "dcec8646-e8f2-4cd4-f8f4-e76c76cf7e77"
      },
      "source": [
        "loss = history_df[['loss','val_loss']]\n",
        "loss.columns = ['train_loss', 'val_loss']\n",
        "loss.plot(figsize=(10, 6), title='Loss vs epochs')"
      ],
      "execution_count": 60,
      "outputs": [
        {
          "output_type": "execute_result",
          "data": {
            "text/plain": [
              "<matplotlib.axes._subplots.AxesSubplot at 0x7f9e76ba7da0>"
            ]
          },
          "metadata": {
            "tags": []
          },
          "execution_count": 60
        },
        {
          "output_type": "display_data",
          "data": {
            "image/png": "[encoded data removed]",
            "text/plain": [
              "<Figure size 720x432 with 1 Axes>"
            ]
          },
          "metadata": {
            "tags": []
          }
        }
      ]
    },
    {
      "cell_type": "code",
      "metadata": {
        "colab_type": "code",
        "id": "DCtryy1abrRA",
        "outputId": "54c7d745-f1df-4534-8842-016d9a975286",
        "colab": {
          "base_uri": "https://localhost:8080/",
          "height": 407
        }
      },
      "source": [
        "loss = history_df[['loss','val_loss']]\n",
        "loss.columns = ['train_loss', 'val_loss']\n",
        "loss.plot(figsize=(10, 6), title='Loss vs epochs')"
      ],
      "execution_count": 47,
      "outputs": [
        {
          "output_type": "execute_result",
          "data": {
            "text/plain": [
              "<matplotlib.axes._subplots.AxesSubplot at 0x7f9e75e79b00>"
            ]
          },
          "metadata": {
            "tags": []
          },
          "execution_count": 47
        },
        {
          "output_type": "display_data",
          "data": {
            "image/png": "[encoded data removed]",
            "text/plain": [
              "<Figure size 720x432 with 1 Axes>"
            ]
          },
          "metadata": {
            "tags": []
          }
        }
      ]
    },
    {
      "cell_type": "markdown",
      "metadata": {
        "colab_type": "text",
        "id": "VSFAqg-gKlR0"
      },
      "source": [
        "#### **Let's plot training and validation accuracy vs epochs:**"
      ]
    },
    {
      "cell_type": "code",
      "metadata": {
        "colab_type": "code",
        "id": "bAbt9je3b1x1",
        "outputId": "36b3f5bf-7aaa-40b1-8e6e-8c921cda6697",
        "colab": {
          "base_uri": "https://localhost:8080/",
          "height": 407
        }
      },
      "source": [
        "acc = history_df[['val_acc','acc']]\n",
        "acc.columns = ['val_acc', 'train_acc']\n",
        "acc.plot(figsize=(10, 6), title='Val acc & Train acc vs epochs')"
      ],
      "execution_count": 61,
      "outputs": [
        {
          "output_type": "execute_result",
          "data": {
            "text/plain": [
              "<matplotlib.axes._subplots.AxesSubplot at 0x7f9e75719470>"
            ]
          },
          "metadata": {
            "tags": []
          },
          "execution_count": 61
        },
        {
          "output_type": "display_data",
          "data": {
            "image/png": "[encoded data removed]",
            "text/plain": [
              "<Figure size 720x432 with 1 Axes>"
            ]
          },
          "metadata": {
            "tags": []
          }
        }
      ]
    },
    {
      "cell_type": "markdown",
      "metadata": {
        "colab_type": "text",
        "id": "B8RiTO3yLDXy"
      },
      "source": [
        "#### **Let's plot learning rate vs epochs:**"
      ]
    },
    {
      "cell_type": "code",
      "metadata": {
        "colab_type": "code",
        "id": "vv0fg0V0b8fX",
        "outputId": "7a63206e-e0b0-4522-dfba-197133664e2b",
        "colab": {
          "base_uri": "https://localhost:8080/",
          "height": 407
        }
      },
      "source": [
        "lr = history_df[['lr']]\n",
        "lr.plot(figsize=(10, 6), title='Learning rate vs epochs')"
      ],
      "execution_count": 62,
      "outputs": [
        {
          "output_type": "execute_result",
          "data": {
            "text/plain": [
              "<matplotlib.axes._subplots.AxesSubplot at 0x7f9e75688390>"
            ]
          },
          "metadata": {
            "tags": []
          },
          "execution_count": 62
        },
        {
          "output_type": "display_data",
          "data": {
            "image/png": "[encoded data removed]",
            "text/plain": [
              "<Figure size 720x432 with 1 Axes>"
            ]
          },
          "metadata": {
            "tags": []
          }
        }
      ]
    },
    {
      "cell_type": "markdown",
      "metadata": {
        "colab_type": "text",
        "id": "pEjAnQK9Mhfy"
      },
      "source": [
        "#### **Let's evaluate the best model, on the validation set and compute relevant metrics:**"
      ]
    },
    {
      "cell_type": "code",
      "metadata": {
        "colab_type": "code",
        "id": "pc4dm0GKcCb7",
        "colab": {}
      },
      "source": [
        "#uploaded = files.upload()\n",
        "res_cnn.load_weights('base_model.h5')"
      ],
      "execution_count": 0,
      "outputs": []
    },
    {
      "cell_type": "code",
      "metadata": {
        "colab_type": "code",
        "id": "a3W5oX7pcD3_",
        "outputId": "db65a84b-4785-49ee-db3c-dda387c8b430",
        "colab": {
          "base_uri": "https://localhost:8080/",
          "height": 550
        }
      },
      "source": [
        "## Downsampled/Leveled Control Validation\n",
        "## l2_reg = 5e-5\n",
        "\n",
        "## ReduceLROnPlateau(monitor='val_loss'... )\n",
        "\n",
        "## Grouping C3 into C2 AND C7 into C4, no dish border\n",
        "## 128x128, min_pos_pix_1250_s60 mivalpos_1024\n",
        "## train_batch_32, opt_RMSprop, Kernel_3x3:\n",
        "\n",
        "X, y_true = next(val_generator)\n",
        "y_pred = res_cnn.predict(X)\n",
        "for i in range(1, len(val_generator)):\n",
        "  X, y = next(val_generator)\n",
        "  y_true = np.vstack((y_true, y))\n",
        "  y_pred = np.vstack((y_pred, res_cnn.predict(X)))\n",
        "\n",
        "y_true = np.argmax(y_true, axis=1)\n",
        "y_pred = np.argmax(y_pred, axis=1)\n",
        "\n",
        "val_acc = accuracy_score(y_true, y_pred)\n",
        "#roc_auc = roc_auc_score(y_true, y_pred)\n",
        "cm = confusion_matrix(y_true, y_pred)\n",
        "class_names = [k for k in val_generator.class_indices]\n",
        "c_report = classification_report(y_true, y_pred, target_names=class_names)\n",
        "\n",
        "print('\\nval_acc:\\n', val_acc)\n",
        "print('\\nConfusion Matrix:\\n', cm)\n",
        "print('\\nClassification Report:\\n', c_report)"
      ],
      "execution_count": 74,
      "outputs": [
        {
          "output_type": "stream",
          "text": [
            "\n",
            "val_acc:\n",
            " 0.8055555555555556\n",
            "\n",
            "Confusion Matrix:\n",
            " [[105   0   1   0   0   0   0   0]\n",
            " [  0  12   0   0   0   1   0   0]\n",
            " [  0   4   8   0   0   1   7   0]\n",
            " [  0   0   0  74   3   0   0   0]\n",
            " [  0   0   0  34   6   0   0   0]\n",
            " [  1   0   0   0   0   9   0   0]\n",
            " [  0   0   0   1   0   0  18   0]\n",
            " [  0   0   0   0   0   3   0   0]]\n",
            "\n",
            "Classification Report:\n",
            "               precision    recall  f1-score   support\n",
            "\n",
            "           0       0.99      0.99      0.99       106\n",
            "           1       0.75      0.92      0.83        13\n",
            "           2       0.89      0.40      0.55        20\n",
            "           3       0.68      0.96      0.80        77\n",
            "           4       0.67      0.15      0.24        40\n",
            "           5       0.64      0.90      0.75        10\n",
            "           6       0.72      0.95      0.82        19\n",
            "           7       0.00      0.00      0.00         3\n",
            "\n",
            "    accuracy                           0.81       288\n",
            "   macro avg       0.67      0.66      0.62       288\n",
            "weighted avg       0.80      0.81      0.77       288\n",
            "\n"
          ],
          "name": "stdout"
        }
      ]
    },
    {
      "cell_type": "code",
      "metadata": {
        "id": "u7QW2XGzoSOh",
        "colab_type": "code",
        "colab": {}
      },
      "source": [
        ""
      ],
      "execution_count": 0,
      "outputs": []
    }
  ]
}