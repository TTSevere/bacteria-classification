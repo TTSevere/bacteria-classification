{
  "nbformat": 4,
  "nbformat_minor": 0,
  "metadata": {
    "accelerator": "GPU",
    "colab": {
      "name": "Model 256 C1 vs C2-3 vs all_other.ipynb",
      "provenance": [],
      "collapsed_sections": [],
      "machine_shape": "hm"
    },
    "kernelspec": {
      "display_name": "Python 3",
      "language": "python",
      "name": "python3"
    },
    "language_info": {
      "codemirror_mode": {
        "name": "ipython",
        "version": 3
      },
      "file_extension": ".py",
      "mimetype": "text/x-python",
      "name": "python",
      "nbconvert_exporter": "python",
      "pygments_lexer": "ipython3",
      "version": "3.6.9"
    }
  },
  "cells": [
    {
      "cell_type": "markdown",
      "metadata": {
        "colab_type": "text",
        "id": "9725RbwsB_ja"
      },
      "source": [
        "###  <span style=\"color:red\">**This Notebook can be run from Google Colab:**</span>\n",
        "\n",
        "https://colab.research.google.com"
      ]
    },
    {
      "cell_type": "code",
      "metadata": {
        "colab_type": "code",
        "id": "Ks-1Im7ECAim",
        "colab": {}
      },
      "source": [
        "import numpy as np\n",
        "import matplotlib.pyplot as plt\n",
        "%matplotlib inline\n",
        "import os\n",
        "import zipfile\n",
        "import shutil\n",
        "from google.colab import files\n",
        "import json\n",
        "import time\n",
        "import pandas as pd\n",
        "\n",
        "import keras\n",
        "from keras.models import Model, Sequential, load_model\n",
        "from keras.applications.resnet50 import ResNet50\n",
        "from keras.layers import Input, Dense, Activation, Dropout, BatchNormalization,\\\n",
        "                          Conv2D, MaxPooling2D, Flatten, AveragePooling2D,\\\n",
        "                          GlobalAveragePooling2D, ZeroPadding2D\n",
        "from keras.initializers import glorot_uniform\n",
        "from keras import regularizers\n",
        "from keras.preprocessing.image import ImageDataGenerator\n",
        "from keras.optimizers import RMSprop, Adam, Adamax, Nadam, SGD\n",
        "from keras.callbacks import EarlyStopping, ReduceLROnPlateau, ModelCheckpoint\n",
        "\n",
        "from sklearn.metrics import roc_auc_score, accuracy_score, confusion_matrix, \\\n",
        "                            classification_report\n",
        "\n",
        "# Import PyDrive and associated libraries (to connect with GoogleDrive)\n",
        "from pydrive.auth import GoogleAuth\n",
        "from pydrive.drive import GoogleDrive\n",
        "from google.colab import auth\n",
        "from oauth2client.client import GoogleCredentials\n",
        "\n",
        "# disable warnings\n",
        "import warnings\n",
        "warnings.simplefilter(\"ignore\")\n",
        "os.environ['TF_CPP_MIN_LOG_LEVEL'] = '3' "
      ],
      "execution_count": 0,
      "outputs": []
    },
    {
      "cell_type": "markdown",
      "metadata": {
        "colab_type": "text",
        "id": "DItexGaqdfEA"
      },
      "source": [
        "### **Check if we are using GPU:**"
      ]
    },
    {
      "cell_type": "code",
      "metadata": {
        "colab_type": "code",
        "id": "vn7AYx74dNq6",
        "outputId": "8169dd15-4a4c-47d5-e686-87ea2bea2eb8",
        "colab": {
          "base_uri": "https://localhost:8080/",
          "height": 34
        }
      },
      "source": [
        "from keras import backend as K\n",
        "if K.backend() == \"tensorflow\":\n",
        "    import tensorflow as tf\n",
        "    device_name = tf.test.gpu_device_name()\n",
        "    if device_name == '':\n",
        "        device_name = \"None\"\n",
        "    print('Using TensorFlow version:', tf.__version__, ', GPU:', device_name)"
      ],
      "execution_count": 98,
      "outputs": [
        {
          "output_type": "stream",
          "text": [
            "Using TensorFlow version: 1.15.0 , GPU: /device:GPU:0\n"
          ],
          "name": "stdout"
        }
      ]
    },
    {
      "cell_type": "markdown",
      "metadata": {
        "colab_type": "text",
        "id": "QQXfhMrHlqrz"
      },
      "source": [
        "### **Download Patches from GoogleDrive:**"
      ]
    },
    {
      "cell_type": "code",
      "metadata": {
        "colab_type": "code",
        "id": "ACvUlEucnnY0",
        "outputId": "847b4513-2748-46d5-828c-935b7d853047",
        "colab": {
          "base_uri": "https://localhost:8080/",
          "height": 52
        }
      },
      "source": [
        "# Authenticate and create the PyDrive client.\n",
        "auth.authenticate_user()\n",
        "gauth = GoogleAuth()\n",
        "gauth.credentials = GoogleCredentials.get_application_default()\n",
        "drive = GoogleDrive(gauth)\n",
        "\n",
        "file_id = '1GrvQWYf90c9lE-qPCovkZA8Ai0cayzkP' #NEW 128x128_s60_no border_minpospix_1250 minposval_1024 ROTATE_EVERY_45\n",
        "\n",
        "downloaded = drive.CreateFile({'id': file_id})\n",
        "downloaded.GetContentFile(downloaded['title'])\n",
        "print('Downloaded content: \"{}\"'.format(downloaded['title']))\n",
        "print('Root dir content: {}'.format(os.listdir()))"
      ],
      "execution_count": 99,
      "outputs": [
        {
          "output_type": "stream",
          "text": [
            "Downloaded content: \"Img_Patches_256.zip\"\n",
            "Root dir content: ['.config', 'Img_Patches_256.zip', 'adc.json', 'sample_data']\n"
          ],
          "name": "stdout"
        }
      ]
    },
    {
      "cell_type": "markdown",
      "metadata": {
        "colab_type": "text",
        "id": "HSdGQav-qEJM"
      },
      "source": [
        "### **Unzip the Patches:**"
      ]
    },
    {
      "cell_type": "code",
      "metadata": {
        "colab_type": "code",
        "id": "jP1-2THkn47w",
        "outputId": "3b1fb866-a2cc-42af-e91c-d1d7ca5bbf1b",
        "colab": {
          "base_uri": "https://localhost:8080/",
          "height": 34
        }
      },
      "source": [
        "# Remove 'Patches' dir if it already exists\n",
        "# if 'Patches' in os.listdir():\n",
        "#   shutil.rmtree('./Patches')\n",
        "with zipfile.ZipFile(downloaded['title'],\"r\") as zip:\n",
        "    zip.extractall()\n",
        "os.remove(downloaded['title'])\n",
        "print('Root dir content: {}'.format(os.listdir()))"
      ],
      "execution_count": 100,
      "outputs": [
        {
          "output_type": "stream",
          "text": [
            "Root dir content: ['.config', 'content', 'adc.json', 'sample_data']\n"
          ],
          "name": "stdout"
        }
      ]
    },
    {
      "cell_type": "code",
      "metadata": {
        "id": "M8a8Y1DhKL5l",
        "colab_type": "code",
        "colab": {
          "base_uri": "https://localhost:8080/",
          "height": 34
        },
        "outputId": "43ff7471-2b15-44d0-f250-cca8ab3d416e"
      },
      "source": [
        ""
      ],
      "execution_count": 102,
      "outputs": [
        {
          "output_type": "stream",
          "text": [
            "/content/content\n"
          ],
          "name": "stdout"
        }
      ]
    },
    {
      "cell_type": "markdown",
      "metadata": {
        "colab_type": "text",
        "id": "nd7htfD3rJ6V"
      },
      "source": [
        "### **Let's count patches by type and class:**"
      ]
    },
    {
      "cell_type": "code",
      "metadata": {
        "colab_type": "code",
        "id": "DjJy7FFsvm5H",
        "outputId": "89dabe90-388e-42ba-bb25-baa9726d11f3",
        "colab": {
          "base_uri": "https://localhost:8080/",
          "height": 638
        }
      },
      "source": [
        "class_weights = {} # empty dictionary to store class weights\n",
        "classes = ['1','2','3','4','5','6','7','0']\n",
        "\n",
        "grand_total, pos_total, neg_total = 0, 0, 0\n",
        "for type in ['Serial', 'Control', 'Streak']:\n",
        "    print(\"\\nTotal '{}' Patches per location:\".format(type))\n",
        "    n_type, type_pos, type_neg = 0, 0, 0\n",
        "    class_weights[type] = {} # nested empty dictionary to store class weights\n",
        "    # class_weights[type]['pos'] = {} # nested dictionary to store class weights\n",
        "    # class_weights[type]['neg'] = {} # nested dictionary to store class weights\n",
        "    for cls in classes:\n",
        "        pfolder = './Img_Patches/{}/{}'.format(type,cls)\n",
        "        n = len(os.listdir(pfolder))\n",
        "        # total = n_pos + n_neg\n",
        "        n_type += n\n",
        "        # type_pos += n_pos\n",
        "        # type_neg += n_neg\n",
        "        print('total_{}: {} = {} positive + {} negative'.format(cls,n,n,0))\n",
        "        class_weights[type]['{}'.format(cls)] = 1/n if n else 0\n",
        "    print('Total {}: {} = {} positive + {} negative'.format(type,n_type,n_type,0))\n",
        "    for loc in class_weights[type].keys():\n",
        "        class_weights[type][loc] *= n_type\n",
        "    grand_total += n_type\n",
        "print('\\nGRAND TOTAL: {} = {} positive + {} negative'.format(grand_total,grand_total,0))"
      ],
      "execution_count": 103,
      "outputs": [
        {
          "output_type": "stream",
          "text": [
            "\n",
            "Total 'Serial' Patches per location:\n",
            "total_1: 106 = 106 positive + 0 negative\n",
            "total_2: 162 = 162 positive + 0 negative\n",
            "total_3: 614 = 614 positive + 0 negative\n",
            "total_4: 303 = 303 positive + 0 negative\n",
            "total_5: 108 = 108 positive + 0 negative\n",
            "total_6: 169 = 169 positive + 0 negative\n",
            "total_7: 3 = 3 positive + 0 negative\n",
            "total_0: 418 = 418 positive + 0 negative\n",
            "Total Serial: 1883 = 1883 positive + 0 negative\n",
            "\n",
            "Total 'Control' Patches per location:\n",
            "total_1: 13 = 13 positive + 0 negative\n",
            "total_2: 20 = 20 positive + 0 negative\n",
            "total_3: 77 = 77 positive + 0 negative\n",
            "total_4: 40 = 40 positive + 0 negative\n",
            "total_5: 10 = 10 positive + 0 negative\n",
            "total_6: 19 = 19 positive + 0 negative\n",
            "total_7: 3 = 3 positive + 0 negative\n",
            "total_0: 106 = 106 positive + 0 negative\n",
            "Total Control: 288 = 288 positive + 0 negative\n",
            "\n",
            "Total 'Streak' Patches per location:\n",
            "total_1: 305 = 305 positive + 0 negative\n",
            "total_2: 431 = 431 positive + 0 negative\n",
            "total_3: 880 = 880 positive + 0 negative\n",
            "total_4: 522 = 522 positive + 0 negative\n",
            "total_5: 279 = 279 positive + 0 negative\n",
            "total_6: 378 = 378 positive + 0 negative\n",
            "total_7: 56 = 56 positive + 0 negative\n",
            "total_0: 478 = 478 positive + 0 negative\n",
            "Total Streak: 3329 = 3329 positive + 0 negative\n",
            "\n",
            "GRAND TOTAL: 5500 = 5500 positive + 0 negative\n"
          ],
          "name": "stdout"
        }
      ]
    },
    {
      "cell_type": "markdown",
      "metadata": {
        "colab_type": "text",
        "id": "TLfSmpKFPLFu"
      },
      "source": [
        "### **Let's downsample training ('Serial') classes to no more than the minimum between 'C1' and 'C2-3':**"
      ]
    },
    {
      "cell_type": "code",
      "metadata": {
        "colab_type": "code",
        "id": "IPt4zNrWPJed",
        "outputId": "b6668f6e-be8b-4096-e47c-b8367e1d36cc",
        "colab": {
          "base_uri": "https://localhost:8080/",
          "height": 407
        }
      },
      "source": [
        "train_type = 'Serial'\n",
        "print('Before downsampling training patches:')\n",
        "totals = {}\n",
        "n_type, type_pos, type_neg = 0, 0, 0\n",
        "for cls in classes:\n",
        "    pfolder = './Img_Patches/{}/{}'.format(train_type,cls)\n",
        "    n = len(os.listdir(pfolder))\n",
        "    total = n\n",
        "    n_type += total\n",
        "    print('total_{}: {} = {} positive + {} negative'.format(cls,total,total,0))\n",
        "    totals['{}'.format(cls)] = n if n else 0\n",
        "print('Total {}: {} = {} positive + {} negative\\n'.format(train_type,n_type,n_type,0))\n",
        "\n",
        "if totals['1'] < totals['2']:\n",
        "    minority = '1'\n",
        "else:\n",
        "    minority = '2'\n",
        "n_min = totals[minority]\n",
        "for key, value in totals.items():\n",
        "    #if key != minority and key not in ['C1','C2-3']:\n",
        "    if key != minority:\n",
        "        n_to_delete = max(value-n_min, 0)\n",
        "        root = './Img_Patches/{}/{}/'.format(train_type,key)\n",
        "        patches = os.listdir(root)\n",
        "        patches_to_delete = np.random.choice(patches, n_to_delete, replace=False)\n",
        "        for patch in patches_to_delete:\n",
        "            pass\n",
        "            os.remove(root + patch)\n",
        "\n",
        "print('After downsampling validation patches:')\n",
        "totals = {}\n",
        "n_type, type_pos, type_neg = 0, 0, 0\n",
        "for cls in classes:\n",
        "    pfolder = './Img_Patches/{}/{}'.format(train_type,cls)\n",
        "    n = len(os.listdir(pfolder))\n",
        "    total = n\n",
        "    n_type += total\n",
        "    print('total_{}: {} = {} positive + {} negative'.format(cls,total,total,0))\n",
        "    totals['{}'.format(cls)] = n if n else 0\n",
        "print('Total {}: {} = {} positive + {} negative\\n'.format(train_type,n_type,n_type,0))"
      ],
      "execution_count": 104,
      "outputs": [
        {
          "output_type": "stream",
          "text": [
            "Before downsampling training patches:\n",
            "total_1: 106 = 106 positive + 0 negative\n",
            "total_2: 162 = 162 positive + 0 negative\n",
            "total_3: 614 = 614 positive + 0 negative\n",
            "total_4: 303 = 303 positive + 0 negative\n",
            "total_5: 108 = 108 positive + 0 negative\n",
            "total_6: 169 = 169 positive + 0 negative\n",
            "total_7: 3 = 3 positive + 0 negative\n",
            "total_0: 418 = 418 positive + 0 negative\n",
            "Total Serial: 1883 = 1883 positive + 0 negative\n",
            "\n",
            "After downsampling validation patches:\n",
            "total_1: 106 = 106 positive + 0 negative\n",
            "total_2: 106 = 106 positive + 0 negative\n",
            "total_3: 106 = 106 positive + 0 negative\n",
            "total_4: 106 = 106 positive + 0 negative\n",
            "total_5: 106 = 106 positive + 0 negative\n",
            "total_6: 106 = 106 positive + 0 negative\n",
            "total_7: 3 = 3 positive + 0 negative\n",
            "total_0: 106 = 106 positive + 0 negative\n",
            "Total Serial: 745 = 745 positive + 0 negative\n",
            "\n"
          ],
          "name": "stdout"
        }
      ]
    },
    {
      "cell_type": "markdown",
      "metadata": {
        "colab_type": "text",
        "id": "e8a8ZcfKKvw5"
      },
      "source": [
        "### **Let's move all patches for classes other than C1 or C2-3, to a single folder called 'all_other':**"
      ]
    },
    {
      "cell_type": "code",
      "metadata": {
        "colab_type": "code",
        "id": "Dz9V2uuxLM50",
        "colab": {}
      },
      "source": [
        "# for patch_type in ['Positive','Negative']:\n",
        "#     if patch_type == 'Positive': sufix = '_pos'\n",
        "#     if patch_type == 'Negative': sufix = '_neg'\n",
        "for type_ in ['Serial', 'Control', 'Streak']:\n",
        "    folder = './Img_Patches/{}/'.format(type_)\n",
        "    if 'all_other' not in os.listdir(folder):\n",
        "        dest = folder + 'all_other'\n",
        "        os.mkdir(dest)\n",
        "    main_folder = '/content/content'\n",
        "    for cls in classes:\n",
        "        if cls in ['1','2']: continue\n",
        "        cls_folder = folder + cls\n",
        "        for patch in os.listdir(cls_folder):\n",
        "            source = cls_folder + '/' + patch\n",
        "            shutil.copy(os.path.join(main_folder, source), os.path.join(main_folder,dest))\n",
        "            # shutil.move(source, dest)\n",
        "        shutil.rmtree(cls_folder)"
      ],
      "execution_count": 0,
      "outputs": []
    },
    {
      "cell_type": "markdown",
      "metadata": {
        "colab_type": "text",
        "id": "1sPAFxK7REM7"
      },
      "source": [
        "### **Let's count patches by type and class again:**"
      ]
    },
    {
      "cell_type": "code",
      "metadata": {
        "colab_type": "code",
        "id": "WmKlpYPZRE-_",
        "outputId": "4a5fae70-c24d-4fdd-f566-9ef93ff92da6",
        "colab": {
          "base_uri": "https://localhost:8080/",
          "height": 372
        }
      },
      "source": [
        "class_weights = {} # empty dictionary to store class weights\n",
        "classes = ['1','2','all_other']\n",
        "grand_total, pos_total, neg_total = 0, 0, 0\n",
        "\n",
        "for type in ['Serial', 'Control', 'Streak']:\n",
        "    print(\"\\nTotal '{}' Patches per location:\".format(type))\n",
        "    n_type, type_pos, type_neg = 0, 0, 0\n",
        "    class_weights[type] = {} # nested empty dictionary to store class weights\n",
        "    # class_weights[type]['pos'] = {} # nested dictionary to store class weights\n",
        "    # class_weights[type]['neg'] = {} # nested dictionary to store class weights\n",
        "    for cls in classes:\n",
        "        pfolder = './Img_Patches/{}/{}'.format(type,cls)\n",
        "        n = len(os.listdir(pfolder))\n",
        "        total = n\n",
        "        n_type += total\n",
        "        print('total_{}: {} = {} positive + {} negative'.format(cls,total,total,0))\n",
        "        class_weights[type]['{}'.format(cls)] = 1/n if n else 0\n",
        "    print('Total {}: {} = {} positive + {} negative'.format(type,n_type,n_type,0))\n",
        "    for loc in class_weights[type].keys():\n",
        "        class_weights[type][loc] *= type_pos\n",
        "    grand_total += n_type\n",
        "print('\\nGRAND TOTAL: {} = {} positive + {} negative'.format(grand_total,grand_total,0))"
      ],
      "execution_count": 107,
      "outputs": [
        {
          "output_type": "stream",
          "text": [
            "\n",
            "Total 'Serial' Patches per location:\n",
            "total_1: 106 = 106 positive + 0 negative\n",
            "total_2: 106 = 106 positive + 0 negative\n",
            "total_all_other: 533 = 533 positive + 0 negative\n",
            "Total Serial: 745 = 745 positive + 0 negative\n",
            "\n",
            "Total 'Control' Patches per location:\n",
            "total_1: 13 = 13 positive + 0 negative\n",
            "total_2: 20 = 20 positive + 0 negative\n",
            "total_all_other: 255 = 255 positive + 0 negative\n",
            "Total Control: 288 = 288 positive + 0 negative\n",
            "\n",
            "Total 'Streak' Patches per location:\n",
            "total_1: 305 = 305 positive + 0 negative\n",
            "total_2: 431 = 431 positive + 0 negative\n",
            "total_all_other: 2491 = 2491 positive + 0 negative\n",
            "Total Streak: 3227 = 3227 positive + 0 negative\n",
            "\n",
            "GRAND TOTAL: 4260 = 4260 positive + 0 negative\n"
          ],
          "name": "stdout"
        }
      ]
    },
    {
      "cell_type": "markdown",
      "metadata": {
        "colab_type": "text",
        "id": "Vb9BMr39R9LH"
      },
      "source": [
        "### **Since we want to focus on 'C1' and 'C2-3', let's downsample again:**"
      ]
    },
    {
      "cell_type": "code",
      "metadata": {
        "colab_type": "code",
        "id": "31ZsitULR-Ap",
        "outputId": "177e9d7e-43be-41a1-9c40-b4911af1ff74",
        "colab": {
          "base_uri": "https://localhost:8080/",
          "height": 230
        }
      },
      "source": [
        "train_type = 'Serial'\n",
        "print('Before downsampling training patches:')\n",
        "totals = {}\n",
        "n_type, type_pos, type_neg = 0, 0, 0\n",
        "for cls in classes:\n",
        "    pfolder = './Img_Patches/{}/{}'.format(train_type,cls)\n",
        "    n = len(os.listdir(pfolder))\n",
        "    total = n\n",
        "    n_type += total\n",
        "    print('total_{}: {} = {} positive + {} negative'.format(cls,total,total,0))\n",
        "    totals['{}'.format(cls)] = n if n else 0\n",
        "print('Total {}: {} = {} positive + {} negative\\n'.format(train_type,n_type,n_type,0))\n",
        "\n",
        "minority = min(totals, key=totals.get)\n",
        "n_min = totals[minority]\n",
        "for key, value in totals.items():\n",
        "    if key != minority and key not in ['1','2']:\n",
        "        n_to_delete = value - n_min\n",
        "        root = './Img_Patches/{}/{}/'.format(train_type,key)\n",
        "        patches = os.listdir(root)\n",
        "        patches_to_delete = np.random.choice(patches, n_to_delete, replace=False)\n",
        "        for patch in patches_to_delete:\n",
        "            pass\n",
        "            os.remove(root + patch)\n",
        "\n",
        "print('After downsampling validation patches:')\n",
        "totals = {}\n",
        "n_type, type_pos, type_neg = 0, 0, 0\n",
        "for cls in classes:\n",
        "    pfolder = './Img_Patches/{}/{}'.format(train_type,cls)\n",
        "    n = len(os.listdir(pfolder))\n",
        "    total = n\n",
        "    n_type += total\n",
        "    print('total_{}: {} = {} positive + {} negative'.format(cls,total,total,0))\n",
        "    class_weights[train_type]['{}'.format(cls)] = 1/n if n else 0\n",
        "    totals['{}'.format(cls)] = n if n else 0\n",
        "print('Total {}: {} = {} positive + {} negative\\n'.format(train_type,n_type,n_type,0))\n",
        "for loc in class_weights[train_type].keys():\n",
        "    class_weights[train_type][loc] *= type_pos"
      ],
      "execution_count": 108,
      "outputs": [
        {
          "output_type": "stream",
          "text": [
            "Before downsampling training patches:\n",
            "total_1: 106 = 106 positive + 0 negative\n",
            "total_2: 106 = 106 positive + 0 negative\n",
            "total_all_other: 533 = 533 positive + 0 negative\n",
            "Total Serial: 745 = 745 positive + 0 negative\n",
            "\n",
            "After downsampling validation patches:\n",
            "total_1: 106 = 106 positive + 0 negative\n",
            "total_2: 106 = 106 positive + 0 negative\n",
            "total_all_other: 106 = 106 positive + 0 negative\n",
            "Total Serial: 318 = 318 positive + 0 negative\n",
            "\n"
          ],
          "name": "stdout"
        }
      ]
    },
    {
      "cell_type": "markdown",
      "metadata": {
        "colab_type": "text",
        "id": "_pnI1G0ywLOp"
      },
      "source": [
        "#### **Since we still have slightly imbalanced training data, we have set different class weights to give more importance to the minority classes:**"
      ]
    },
    {
      "cell_type": "code",
      "metadata": {
        "colab_type": "code",
        "id": "zCcbwQX7mKQq",
        "outputId": "b92c67c7-5b1f-484d-f558-6a29ceeb4409",
        "colab": {
          "base_uri": "https://localhost:8080/",
          "height": 105
        }
      },
      "source": [
        "print('Class Weights:', str(json.dumps(class_weights['Serial'], indent=2, default=str)))"
      ],
      "execution_count": 109,
      "outputs": [
        {
          "output_type": "stream",
          "text": [
            "Class Weights: {\n",
            "  \"1\": 0.0,\n",
            "  \"2\": 0.0,\n",
            "  \"all_other\": 0.0\n",
            "}\n"
          ],
          "name": "stdout"
        }
      ]
    },
    {
      "cell_type": "markdown",
      "metadata": {
        "colab_type": "text",
        "id": "i2gctgbsF-fF"
      },
      "source": [
        "### **Let's downsample positive majority classes in validation ('Control')patches**"
      ]
    },
    {
      "cell_type": "code",
      "metadata": {
        "colab_type": "code",
        "id": "tJETu-bSF_R8",
        "outputId": "e6054864-a42f-43a6-8624-59b33f6f5fc2",
        "colab": {
          "base_uri": "https://localhost:8080/",
          "height": 230
        }
      },
      "source": [
        "val_type = 'Control'\n",
        "print('Before downsampling validation patches:')\n",
        "totals = {}\n",
        "n_type, type_pos, type_neg = 0, 0, 0\n",
        "for cls in classes:\n",
        "    pos_folder = './Img_Patches/{}/{}'.format(val_type,cls)\n",
        "    n = len(os.listdir(pos_folder))\n",
        "    total = n\n",
        "    n_type += total\n",
        "    print('total_{}: {} = {} positive + {} negative'.format(cls,total,total,0))\n",
        "    totals['{}'.format(cls)] = n if n else 0\n",
        "print('Total {}: {} = {} positive + {} negative\\n'.format(val_type,n_type,n_type,0))\n",
        "\n",
        "minority = min(totals, key=totals.get)\n",
        "n_min = totals[minority]\n",
        "for key, value in totals.items():\n",
        "    if key != minority:\n",
        "        n_to_delete = value - n_min\n",
        "        root = './Img_Patches/{}/{}/'.format(val_type,key)\n",
        "        patches = os.listdir(root)\n",
        "        patches_to_delete = np.random.choice(patches, n_to_delete, replace=False)\n",
        "        for patch in patches_to_delete:\n",
        "            os.remove(root + patch)\n",
        "\n",
        "print('After downsampling validation patches:')\n",
        "totals = {}\n",
        "n_type, type_pos, type_neg = 0, 0, 0\n",
        "for cls in classes:\n",
        "    pos_folder = './Img_Patches/{}/{}'.format(val_type,cls)\n",
        "    n = len(os.listdir(pos_folder))\n",
        "    total = n\n",
        "    n_type += total\n",
        "    print('total_{}: {} = {} positive + {} negative'.format(cls,total,total,0))\n",
        "    totals['{}'.format(cls)] = n if n else 0\n",
        "print('Total {}: {} = {} positive + {} negative\\n'.format(val_type,n_type,n_type,0))"
      ],
      "execution_count": 110,
      "outputs": [
        {
          "output_type": "stream",
          "text": [
            "Before downsampling validation patches:\n",
            "total_1: 13 = 13 positive + 0 negative\n",
            "total_2: 20 = 20 positive + 0 negative\n",
            "total_all_other: 255 = 255 positive + 0 negative\n",
            "Total Control: 288 = 288 positive + 0 negative\n",
            "\n",
            "After downsampling validation patches:\n",
            "total_1: 13 = 13 positive + 0 negative\n",
            "total_2: 13 = 13 positive + 0 negative\n",
            "total_all_other: 13 = 13 positive + 0 negative\n",
            "Total Control: 39 = 39 positive + 0 negative\n",
            "\n"
          ],
          "name": "stdout"
        }
      ]
    },
    {
      "cell_type": "markdown",
      "metadata": {
        "colab_type": "text",
        "id": "GNJ7lSKQpdOT"
      },
      "source": [
        "#### **Let's build image generators, using keras.preprocessing.image.ImageDataGenerator, rescaling image pixel values from [0,  255] to [0, 1]:**"
      ]
    },
    {
      "cell_type": "code",
      "metadata": {
        "colab_type": "code",
        "id": "UANfdA6IUFKt",
        "outputId": "416d8033-cb5d-4efa-da98-245a30a5d7e0",
        "colab": {
          "base_uri": "https://localhost:8080/",
          "height": 105
        }
      },
      "source": [
        "c1_pos_folder = './Img_Patches/Serial/1'\n",
        "img = plt.imread(c1_pos_folder + '/' + os.listdir(c1_pos_folder)[:5][0])\n",
        "img_size = img.shape\n",
        "train_batch_size = 32\n",
        "val_batch_size = 64\n",
        "\n",
        "datagen = ImageDataGenerator(rescale=1./255)\n",
        "val_datagen = ImageDataGenerator(rescale=1./255)\n",
        "\n",
        "print(\"For training:\")\n",
        "train_generator = datagen.flow_from_directory(\n",
        "        './Img_Patches/Serial',\n",
        "        target_size=(img_size[0],img_size[1]),\n",
        "        batch_size=train_batch_size,\n",
        "        class_mode='categorical',\n",
        "        shuffle=True)\n",
        "\n",
        "print(\"\\nFor validation:\")\n",
        "val_generator = val_datagen.flow_from_directory(\n",
        "        './Img_Patches/Control',\n",
        "        target_size=(img_size[0],img_size[1]),\n",
        "        batch_size=val_batch_size,\n",
        "        class_mode='categorical',\n",
        "        shuffle=False)"
      ],
      "execution_count": 112,
      "outputs": [
        {
          "output_type": "stream",
          "text": [
            "For training:\n",
            "Found 318 images belonging to 3 classes.\n",
            "\n",
            "For validation:\n",
            "Found 39 images belonging to 3 classes.\n"
          ],
          "name": "stdout"
        }
      ]
    },
    {
      "cell_type": "markdown",
      "metadata": {
        "colab_type": "text",
        "id": "44ZzUGXvwqUn"
      },
      "source": [
        "#### **Let's check what is the training generator's index for each class, so we can correclty set up the class weights:**"
      ]
    },
    {
      "cell_type": "code",
      "metadata": {
        "colab_type": "code",
        "id": "tSHQNC2awn84",
        "outputId": "3e5da8ca-7975-4a1f-8a9d-efbf2a0fdd74",
        "colab": {
          "base_uri": "https://localhost:8080/",
          "height": 105
        }
      },
      "source": [
        "print('train_generator.class_indices:', str(json.dumps(train_generator.class_indices, indent=2, default=str)))"
      ],
      "execution_count": 113,
      "outputs": [
        {
          "output_type": "stream",
          "text": [
            "train_generator.class_indices: {\n",
            "  \"1\": 0,\n",
            "  \"2\": 1,\n",
            "  \"all_other\": 2\n",
            "}\n"
          ],
          "name": "stdout"
        }
      ]
    },
    {
      "cell_type": "markdown",
      "metadata": {
        "colab_type": "text",
        "id": "o30MT4e2O7gk"
      },
      "source": [
        "#### **Let's set up the class weights in correct order:**"
      ]
    },
    {
      "cell_type": "code",
      "metadata": {
        "colab_type": "code",
        "id": "U2gsR9n6w2vm",
        "outputId": "1aa88e12-2766-4180-9676-f5d3c342cdba",
        "colab": {
          "base_uri": "https://localhost:8080/",
          "height": 230
        }
      },
      "source": [
        "serial_pos_weights = []\n",
        "for cls in classes:\n",
        "    serial_pos_weights.append(class_weights['Serial']['{}'.format(cls)])\n",
        "print('original class weights dictionary:')\n",
        "print(str(json.dumps(class_weights['Serial'], indent=2, default=str)))\n",
        "print('class weights for generator, re-arranging indexes:')\n",
        "print(str(json.dumps(serial_pos_weights, indent=2, default=str)))"
      ],
      "execution_count": 114,
      "outputs": [
        {
          "output_type": "stream",
          "text": [
            "original class weights dictionary:\n",
            "{\n",
            "  \"1\": 0.0,\n",
            "  \"2\": 0.0,\n",
            "  \"all_other\": 0.0\n",
            "}\n",
            "class weights for generator, re-arranging indexes:\n",
            "[\n",
            "  0.0,\n",
            "  0.0,\n",
            "  0.0\n",
            "]\n"
          ],
          "name": "stdout"
        }
      ]
    },
    {
      "cell_type": "markdown",
      "metadata": {
        "colab_type": "text",
        "id": "gdXBPBsVxA39"
      },
      "source": [
        "## **Let's build our Base Model. We will use Resnet:**"
      ]
    },
    {
      "cell_type": "markdown",
      "metadata": {
        "colab_type": "text",
        "id": "AjNmNKdHw4tM"
      },
      "source": [
        "#### **First. let's create a function to build a residual block.**\n",
        "\n",
        "#### We will use the residual block proposed in  [ResNetV2](https://arxiv.org/pdf/1603.05027.pdf) and will implement it by ourselves:\n",
        "\n",
        "\n",
        ">![Google's logo](https://camo.githubusercontent.com/7ae470c333cd76078e1c669055ad98bcedaf523f/68747470733a2f2f71696974612d696d6167652d73746f72652e73332e616d617a6f6e6177732e636f6d2f302f3130303532332f61313536613563322d303236622d646535352d613666622d6534666131373732623432632e706e67)"
      ]
    },
    {
      "cell_type": "code",
      "metadata": {
        "colab_type": "code",
        "id": "e-DqZH20w3ji",
        "colab": {}
      },
      "source": [
        "def res_block(X, filters, kernel_size=(3,3), l2_reg=1e-6, residual=True,\n",
        "              first=False, subsampling=False):\n",
        "    \"\"\"\n",
        "    Function to build a residual block as proposed in ResNetV2:\n",
        "             https://arxiv.org/pdf/1603.05027.pdf:\n",
        "    :param X: The input to the residual block\n",
        "    :param filters: Integer. Number of filters / channels in the output\n",
        "    :param kernel_size: Tuple (Int, Int). kernel size for convolution operations\n",
        "    :param l2_reg: Float. L2 norm for L2 regularization\n",
        "    :param residual: Boolean. True if residual block. Otherwise 'plain' block.\n",
        "    :param first: Boolean. True if first residual block -> ZeroPad and Maxpool.\n",
        "    :param subsampling: Boolean. True if subsampling within the residual block.\n",
        "    :return: the addition output from the residual block proposed in ResNetV2:\n",
        "              https://arxiv.org/pdf/1603.05027.pdf\n",
        "    \"\"\"\n",
        "    bn = BatchNormalization()(X)\n",
        "    relu = Activation(\"relu\")(bn)\n",
        "    \n",
        "    if first: #The first layer is subsampled with Maxpool\n",
        "      pad = ZeroPadding2D(padding=(1, 1))(relu)\n",
        "      relu = MaxPooling2D(pool_size=(3, 3), strides=(2,2))(pad)    \n",
        "    \n",
        "    if subsampling: #Resnet reduces size just by using stride=2 instead of pool\n",
        "      #Here we will reduce the size (subsample) by using stride 2 \n",
        "      conv_1 = Conv2D(filters, kernel_size, strides=(2,2), padding='same',\n",
        "                         kernel_regularizer=regularizers.l2(l2_reg),\n",
        "                         kernel_initializer = glorot_uniform(0),\n",
        "                         bias_initializer = glorot_uniform(0))(relu)\n",
        "      if residual:\n",
        "        #To be able to add, we also need to reduce size of input\n",
        "        #For this, we will just use a 1x1 Conv2D with stride 2  \n",
        "        res = Conv2D(filters, kernel_size=[1,1], strides=(2,2),\n",
        "                     padding='same')(X)\n",
        "    else: #No subsampling, same size as input\n",
        "      conv_1 = Conv2D(filters, kernel_size, strides=(1,1), padding='same',\n",
        "                   kernel_regularizer=regularizers.l2(l2_reg),\n",
        "                   kernel_initializer = glorot_uniform(0),\n",
        "                   bias_initializer = glorot_uniform(0))(relu)\n",
        "      if residual:\n",
        "        if first: #The first layer is subsampled with Maxpool so, resize X\n",
        "          #For this, we will just use a 1x1 Conv2D with stride 2\n",
        "          res = Conv2D(filters, kernel_size=[1,1], strides=(2,2),\n",
        "                     padding='same')(X)\n",
        "        else:\n",
        "          res = X\n",
        "    bn = BatchNormalization()(conv_1)\n",
        "    relu = Activation(\"relu\")(bn)\n",
        "\n",
        "    conv_2 = Conv2D(filters, kernel_size, padding='same',\n",
        "                       kernel_regularizer=regularizers.l2(l2_reg),\n",
        "                       kernel_initializer = glorot_uniform(0),\n",
        "                       bias_initializer = glorot_uniform(0))(relu)\n",
        "    if residual:\n",
        "      add = keras.layers.add([res, conv_2])\n",
        "      return add\n",
        "    else:\n",
        "      return conv_2"
      ],
      "execution_count": 0,
      "outputs": []
    },
    {
      "cell_type": "markdown",
      "metadata": {
        "colab_type": "text",
        "id": "0K3-02NNUXOV"
      },
      "source": [
        "#### **Second, let's create a function to build a Resnet network:**"
      ]
    },
    {
      "cell_type": "code",
      "metadata": {
        "colab_type": "code",
        "id": "32s7rai-609p",
        "colab": {}
      },
      "source": [
        "#from keras.layers import AveragePooling2D, GlobalAveragePooling2D\n",
        "\n",
        "def make_resnet(img_size, n_classes, layers_per_group, n_filters, \n",
        "                    kernel_sizes, l2_reg=1e-6, optimizer=keras.optimizers.SGD,\n",
        "                    lr=1e-1, decay=1e-4, momentum=0.9, residual=True):\n",
        "  \n",
        "    \"\"\"\n",
        "    Function to build ResNet network, but with some user defined parameters.\n",
        "        \n",
        "        ResNet network input size is (224,224,3) then it starts with one \n",
        "        convolution layer, (7x7x64, stride 2) followed by maxpool (3x3, stride2) \n",
        "        then it will build 4 layer groups and the user will define the number of\n",
        "        residual layers per group.\n",
        "        \n",
        "        As example, ResNet34, after the first convolution layer, it has 4 groups\n",
        "        of layers with the following number of residual 'layers_per_group':\n",
        "        [6,8,12,6]\n",
        "        Because the residual connections are made between pair of layers, the\n",
        "        number of layers for each group must be a pair number.\n",
        "        \n",
        "        The user will also be able to define the number of filters and size of\n",
        "        each filter, independently for each group of layers. All layers in the\n",
        "        same group group will have the same number of filters and each filter\n",
        "        within the group will have the same size.\n",
        "        \n",
        "        Same as ResNet, an average pooling layer follows after the 4 groups\n",
        "        of layers.\n",
        "    \n",
        "    :param img_size: Size of input image, in the form: (size, size, #channels)\n",
        "    :param n_classes: Integer. Number of classes for classification.\n",
        "    :param layers_per_group: List with # of layers per group (e.g.[6,8,12,6])\n",
        "    :param n_filters: List of length 4, with number of filters for each group of\n",
        "                      layers.\n",
        "    :param kernel_sizes: List of length 4, with kernel sizes tuples for each \n",
        "                          group of layers\n",
        "    :param l2_reg: Float. L2 norm for L2 regularization\n",
        "    :param optimizer: A keras optimizer from keras.optimizers\n",
        "    :param lr: Float. learning rate for the optimizer.\n",
        "    :param decay: Float. learning rate decay for the optimizer.\n",
        "    :param momentum: Float. Momentum for SGD if optimizer=keras.optimizers.SGD\n",
        "    :param residual: Boolean. True if residual net. Otherwise 'plain' net.\n",
        "    :return: CNN with residual connections, similar to ResNet32\n",
        "    \"\"\"\n",
        "    \n",
        "    if len(layers_per_block) != len(n_filters) or len(layers_per_block) !=\\\n",
        "        len(kernel_sizes) or len(n_filters) != len(n_filters):\n",
        "        e = \"Length of 'layers_per_block', 'n_filters' and 'kernel_sizes'\" +\\\n",
        "        \" must be the same\"\n",
        "        raise Exception(e)  \n",
        "\n",
        "    for layers in layers_per_block:\n",
        "      if layers % 2 == 1:\n",
        "        e = \"Number of 'layers_per_block' must be even/pair numbers\"\n",
        "        raise Exception(e)\n",
        "      \n",
        "    inputs = Input(shape=img_size)\n",
        "    \n",
        "    n_filters_conv1 = 64\n",
        "    kernel_sizes_conv1 = (5,5) # kernel size for very first conv layer\n",
        "    strides_conv1 = (2,2)\n",
        "    \n",
        "    conv1 = Conv2D(n_filters_conv1, kernel_sizes_conv1, strides=strides_conv1,\n",
        "                   padding='same', kernel_regularizer=regularizers.l2(l2_reg),\n",
        "                   kernel_initializer = glorot_uniform(0),\n",
        "                   bias_initializer = glorot_uniform(0))(inputs)\n",
        "    \n",
        "    layer_count = 1 # counter for the number of layers\n",
        "    for i in range(len(layers_per_block)):\n",
        "      for j in range(int(layers_per_block[i]/2)):\n",
        "        if j == 0:\n",
        "          if i == 0:\n",
        "            add = res_block(conv1, n_filters[i], kernel_sizes[i], l2_reg,\n",
        "                            residual, first=True)\n",
        "            #add = res_block(conv0_1, n_filters[i], kernel_sizes[i], l2_reg,\n",
        "            #                residual, subsampling=True)\n",
        "          else:\n",
        "            add = res_block(add, n_filters[i], kernel_sizes[i], l2_reg,\n",
        "                            residual, subsampling=True)\n",
        "        else:\n",
        "          add = res_block(add, n_filters[i], kernel_sizes[i], l2_reg,\n",
        "                          residual)\n",
        "          \n",
        "    bn = BatchNormalization()(add)\n",
        "    relu = Activation(\"relu\")(bn)\n",
        "\n",
        "    flat = GlobalAveragePooling2D()(relu)\n",
        "\n",
        "    out = Dense(n_classes, activation='softmax',\n",
        "                      kernel_regularizer=regularizers.l2(l2_reg),\n",
        "                      kernel_initializer=glorot_uniform(0),\n",
        "                      bias_initializer=glorot_uniform(0))(flat)\n",
        "\n",
        "    res_cnn = Model(inputs=inputs, outputs=out)\n",
        "\n",
        "    if optimizer == keras.optimizers.Nadam:\n",
        "        res_cnn.compile(optimizer(lr=lr, schedule_decay=decay),\n",
        "                    \"categorical_crossentropy\", metrics=['accuracy'])\n",
        "    elif optimizer == keras.optimizers.SGD:\n",
        "        res_cnn.compile(optimizer(lr=lr, momentum=momentum, decay=decay),\n",
        "                        \"categorical_crossentropy\", metrics=['accuracy'])\n",
        "    else:\n",
        "        res_cnn.compile(optimizer(lr=lr, decay=decay),\n",
        "                        \"categorical_crossentropy\", metrics=['accuracy'])\n",
        "    return res_cnn"
      ],
      "execution_count": 0,
      "outputs": []
    },
    {
      "cell_type": "markdown",
      "metadata": {
        "colab_type": "text",
        "id": "m21vIzndbOIZ"
      },
      "source": [
        "### **Let's build a ResNet18:**"
      ]
    },
    {
      "cell_type": "code",
      "metadata": {
        "colab_type": "code",
        "id": "rLvSCOTsAuKF",
        "outputId": "afd1a18c-f27a-400a-ed44-945380c229c5",
        "colab": {
          "base_uri": "https://localhost:8080/",
          "height": 1000
        }
      },
      "source": [
        "classes = list(iter(train_generator.class_indices))\n",
        "n_classes = len(classes)\n",
        "layers_per_block = [4, 4, 4, 4] #18 layers total with first conv and last FC\n",
        "n_filters = [64, 128, 256, 512]\n",
        "kernel_sizes = [(3,3), (3,3), (3,3), (3,3)]\n",
        "l2_reg = 0.1\n",
        "optimizer = RMSprop # Adamax, RMSprop, Adam (No: Nadam, SGD)\n",
        "lr = 1e-3\n",
        "decay = 0.01\n",
        "momentum = 0.9\n",
        "\n",
        "res_cnn = make_resnet(img_size, n_classes, layers_per_block, n_filters,\n",
        "                       kernel_sizes, l2_reg, optimizer, lr, decay, momentum)\n",
        "res_cnn.summary()"
      ],
      "execution_count": 123,
      "outputs": [
        {
          "output_type": "stream",
          "text": [
            "Model: \"model_3\"\n",
            "__________________________________________________________________________________________________\n",
            "Layer (type)                    Output Shape         Param #     Connected to                     \n",
            "==================================================================================================\n",
            "input_3 (InputLayer)            (None, 256, 256, 3)  0                                            \n",
            "__________________________________________________________________________________________________\n",
            "conv2d_43 (Conv2D)              (None, 128, 128, 64) 4864        input_3[0][0]                    \n",
            "__________________________________________________________________________________________________\n",
            "batch_normalization_35 (BatchNo (None, 128, 128, 64) 256         conv2d_43[0][0]                  \n",
            "__________________________________________________________________________________________________\n",
            "activation_35 (Activation)      (None, 128, 128, 64) 0           batch_normalization_35[0][0]     \n",
            "__________________________________________________________________________________________________\n",
            "zero_padding2d_3 (ZeroPadding2D (None, 130, 130, 64) 0           activation_35[0][0]              \n",
            "__________________________________________________________________________________________________\n",
            "max_pooling2d_3 (MaxPooling2D)  (None, 64, 64, 64)   0           zero_padding2d_3[0][0]           \n",
            "__________________________________________________________________________________________________\n",
            "conv2d_44 (Conv2D)              (None, 64, 64, 64)   36928       max_pooling2d_3[0][0]            \n",
            "__________________________________________________________________________________________________\n",
            "batch_normalization_36 (BatchNo (None, 64, 64, 64)   256         conv2d_44[0][0]                  \n",
            "__________________________________________________________________________________________________\n",
            "activation_36 (Activation)      (None, 64, 64, 64)   0           batch_normalization_36[0][0]     \n",
            "__________________________________________________________________________________________________\n",
            "conv2d_45 (Conv2D)              (None, 64, 64, 64)   4160        conv2d_43[0][0]                  \n",
            "__________________________________________________________________________________________________\n",
            "conv2d_46 (Conv2D)              (None, 64, 64, 64)   36928       activation_36[0][0]              \n",
            "__________________________________________________________________________________________________\n",
            "add_17 (Add)                    (None, 64, 64, 64)   0           conv2d_45[0][0]                  \n",
            "                                                                 conv2d_46[0][0]                  \n",
            "__________________________________________________________________________________________________\n",
            "batch_normalization_37 (BatchNo (None, 64, 64, 64)   256         add_17[0][0]                     \n",
            "__________________________________________________________________________________________________\n",
            "activation_37 (Activation)      (None, 64, 64, 64)   0           batch_normalization_37[0][0]     \n",
            "__________________________________________________________________________________________________\n",
            "conv2d_47 (Conv2D)              (None, 64, 64, 64)   36928       activation_37[0][0]              \n",
            "__________________________________________________________________________________________________\n",
            "batch_normalization_38 (BatchNo (None, 64, 64, 64)   256         conv2d_47[0][0]                  \n",
            "__________________________________________________________________________________________________\n",
            "activation_38 (Activation)      (None, 64, 64, 64)   0           batch_normalization_38[0][0]     \n",
            "__________________________________________________________________________________________________\n",
            "conv2d_48 (Conv2D)              (None, 64, 64, 64)   36928       activation_38[0][0]              \n",
            "__________________________________________________________________________________________________\n",
            "add_18 (Add)                    (None, 64, 64, 64)   0           add_17[0][0]                     \n",
            "                                                                 conv2d_48[0][0]                  \n",
            "__________________________________________________________________________________________________\n",
            "batch_normalization_39 (BatchNo (None, 64, 64, 64)   256         add_18[0][0]                     \n",
            "__________________________________________________________________________________________________\n",
            "activation_39 (Activation)      (None, 64, 64, 64)   0           batch_normalization_39[0][0]     \n",
            "__________________________________________________________________________________________________\n",
            "conv2d_49 (Conv2D)              (None, 32, 32, 128)  73856       activation_39[0][0]              \n",
            "__________________________________________________________________________________________________\n",
            "batch_normalization_40 (BatchNo (None, 32, 32, 128)  512         conv2d_49[0][0]                  \n",
            "__________________________________________________________________________________________________\n",
            "activation_40 (Activation)      (None, 32, 32, 128)  0           batch_normalization_40[0][0]     \n",
            "__________________________________________________________________________________________________\n",
            "conv2d_50 (Conv2D)              (None, 32, 32, 128)  8320        add_18[0][0]                     \n",
            "__________________________________________________________________________________________________\n",
            "conv2d_51 (Conv2D)              (None, 32, 32, 128)  147584      activation_40[0][0]              \n",
            "__________________________________________________________________________________________________\n",
            "add_19 (Add)                    (None, 32, 32, 128)  0           conv2d_50[0][0]                  \n",
            "                                                                 conv2d_51[0][0]                  \n",
            "__________________________________________________________________________________________________\n",
            "batch_normalization_41 (BatchNo (None, 32, 32, 128)  512         add_19[0][0]                     \n",
            "__________________________________________________________________________________________________\n",
            "activation_41 (Activation)      (None, 32, 32, 128)  0           batch_normalization_41[0][0]     \n",
            "__________________________________________________________________________________________________\n",
            "conv2d_52 (Conv2D)              (None, 32, 32, 128)  147584      activation_41[0][0]              \n",
            "__________________________________________________________________________________________________\n",
            "batch_normalization_42 (BatchNo (None, 32, 32, 128)  512         conv2d_52[0][0]                  \n",
            "__________________________________________________________________________________________________\n",
            "activation_42 (Activation)      (None, 32, 32, 128)  0           batch_normalization_42[0][0]     \n",
            "__________________________________________________________________________________________________\n",
            "conv2d_53 (Conv2D)              (None, 32, 32, 128)  147584      activation_42[0][0]              \n",
            "__________________________________________________________________________________________________\n",
            "add_20 (Add)                    (None, 32, 32, 128)  0           add_19[0][0]                     \n",
            "                                                                 conv2d_53[0][0]                  \n",
            "__________________________________________________________________________________________________\n",
            "batch_normalization_43 (BatchNo (None, 32, 32, 128)  512         add_20[0][0]                     \n",
            "__________________________________________________________________________________________________\n",
            "activation_43 (Activation)      (None, 32, 32, 128)  0           batch_normalization_43[0][0]     \n",
            "__________________________________________________________________________________________________\n",
            "conv2d_54 (Conv2D)              (None, 16, 16, 256)  295168      activation_43[0][0]              \n",
            "__________________________________________________________________________________________________\n",
            "batch_normalization_44 (BatchNo (None, 16, 16, 256)  1024        conv2d_54[0][0]                  \n",
            "__________________________________________________________________________________________________\n",
            "activation_44 (Activation)      (None, 16, 16, 256)  0           batch_normalization_44[0][0]     \n",
            "__________________________________________________________________________________________________\n",
            "conv2d_55 (Conv2D)              (None, 16, 16, 256)  33024       add_20[0][0]                     \n",
            "__________________________________________________________________________________________________\n",
            "conv2d_56 (Conv2D)              (None, 16, 16, 256)  590080      activation_44[0][0]              \n",
            "__________________________________________________________________________________________________\n",
            "add_21 (Add)                    (None, 16, 16, 256)  0           conv2d_55[0][0]                  \n",
            "                                                                 conv2d_56[0][0]                  \n",
            "__________________________________________________________________________________________________\n",
            "batch_normalization_45 (BatchNo (None, 16, 16, 256)  1024        add_21[0][0]                     \n",
            "__________________________________________________________________________________________________\n",
            "activation_45 (Activation)      (None, 16, 16, 256)  0           batch_normalization_45[0][0]     \n",
            "__________________________________________________________________________________________________\n",
            "conv2d_57 (Conv2D)              (None, 16, 16, 256)  590080      activation_45[0][0]              \n",
            "__________________________________________________________________________________________________\n",
            "batch_normalization_46 (BatchNo (None, 16, 16, 256)  1024        conv2d_57[0][0]                  \n",
            "__________________________________________________________________________________________________\n",
            "activation_46 (Activation)      (None, 16, 16, 256)  0           batch_normalization_46[0][0]     \n",
            "__________________________________________________________________________________________________\n",
            "conv2d_58 (Conv2D)              (None, 16, 16, 256)  590080      activation_46[0][0]              \n",
            "__________________________________________________________________________________________________\n",
            "add_22 (Add)                    (None, 16, 16, 256)  0           add_21[0][0]                     \n",
            "                                                                 conv2d_58[0][0]                  \n",
            "__________________________________________________________________________________________________\n",
            "batch_normalization_47 (BatchNo (None, 16, 16, 256)  1024        add_22[0][0]                     \n",
            "__________________________________________________________________________________________________\n",
            "activation_47 (Activation)      (None, 16, 16, 256)  0           batch_normalization_47[0][0]     \n",
            "__________________________________________________________________________________________________\n",
            "conv2d_59 (Conv2D)              (None, 8, 8, 512)    1180160     activation_47[0][0]              \n",
            "__________________________________________________________________________________________________\n",
            "batch_normalization_48 (BatchNo (None, 8, 8, 512)    2048        conv2d_59[0][0]                  \n",
            "__________________________________________________________________________________________________\n",
            "activation_48 (Activation)      (None, 8, 8, 512)    0           batch_normalization_48[0][0]     \n",
            "__________________________________________________________________________________________________\n",
            "conv2d_60 (Conv2D)              (None, 8, 8, 512)    131584      add_22[0][0]                     \n",
            "__________________________________________________________________________________________________\n",
            "conv2d_61 (Conv2D)              (None, 8, 8, 512)    2359808     activation_48[0][0]              \n",
            "__________________________________________________________________________________________________\n",
            "add_23 (Add)                    (None, 8, 8, 512)    0           conv2d_60[0][0]                  \n",
            "                                                                 conv2d_61[0][0]                  \n",
            "__________________________________________________________________________________________________\n",
            "batch_normalization_49 (BatchNo (None, 8, 8, 512)    2048        add_23[0][0]                     \n",
            "__________________________________________________________________________________________________\n",
            "activation_49 (Activation)      (None, 8, 8, 512)    0           batch_normalization_49[0][0]     \n",
            "__________________________________________________________________________________________________\n",
            "conv2d_62 (Conv2D)              (None, 8, 8, 512)    2359808     activation_49[0][0]              \n",
            "__________________________________________________________________________________________________\n",
            "batch_normalization_50 (BatchNo (None, 8, 8, 512)    2048        conv2d_62[0][0]                  \n",
            "__________________________________________________________________________________________________\n",
            "activation_50 (Activation)      (None, 8, 8, 512)    0           batch_normalization_50[0][0]     \n",
            "__________________________________________________________________________________________________\n",
            "conv2d_63 (Conv2D)              (None, 8, 8, 512)    2359808     activation_50[0][0]              \n",
            "__________________________________________________________________________________________________\n",
            "add_24 (Add)                    (None, 8, 8, 512)    0           add_23[0][0]                     \n",
            "                                                                 conv2d_63[0][0]                  \n",
            "__________________________________________________________________________________________________\n",
            "batch_normalization_51 (BatchNo (None, 8, 8, 512)    2048        add_24[0][0]                     \n",
            "__________________________________________________________________________________________________\n",
            "activation_51 (Activation)      (None, 8, 8, 512)    0           batch_normalization_51[0][0]     \n",
            "__________________________________________________________________________________________________\n",
            "global_average_pooling2d_3 (Glo (None, 512)          0           activation_51[0][0]              \n",
            "__________________________________________________________________________________________________\n",
            "dense_3 (Dense)                 (None, 3)            1539        global_average_pooling2d_3[0][0] \n",
            "==================================================================================================\n",
            "Total params: 11,188,419\n",
            "Trainable params: 11,180,611\n",
            "Non-trainable params: 7,808\n",
            "__________________________________________________________________________________________________\n"
          ],
          "name": "stdout"
        }
      ]
    },
    {
      "cell_type": "markdown",
      "metadata": {
        "colab_type": "text",
        "id": "9Snp4w6_wHP_"
      },
      "source": [
        "#### **Let's mount our GoogleDrive to download the best model (We have to authenticate again):**"
      ]
    },
    {
      "cell_type": "code",
      "metadata": {
        "colab_type": "code",
        "id": "F7NpUL6XwImK",
        "outputId": "3cc4abe4-24b0-4304-e7bc-9c6ef018865b",
        "colab": {
          "base_uri": "https://localhost:8080/",
          "height": 125
        }
      },
      "source": [
        "from google.colab import drive\n",
        "drive.mount('/content/gdrive')\n"
      ],
      "execution_count": 119,
      "outputs": [
        {
          "output_type": "stream",
          "text": [
            "Go to this URL in a browser: https://accounts.google.com/o/oauth2/auth?client_id=947318989803-6bn6qk8qdgf4n4g3pfee6491hc0brc4i.apps.googleusercontent.com&redirect_uri=urn%3aietf%3awg%3aoauth%3a2.0%3aoob&response_type=code&scope=email%20https%3a%2f%2fwww.googleapis.com%2fauth%2fdocs.test%20https%3a%2f%2fwww.googleapis.com%2fauth%2fdrive%20https%3a%2f%2fwww.googleapis.com%2fauth%2fdrive.photos.readonly%20https%3a%2f%2fwww.googleapis.com%2fauth%2fpeopleapi.readonly\n",
            "\n",
            "Enter your authorization code:\n",
            "··········\n",
            "Mounted at /content/gdrive\n"
          ],
          "name": "stdout"
        }
      ]
    },
    {
      "cell_type": "markdown",
      "metadata": {
        "colab_type": "text",
        "id": "JUL3HGj4dyft"
      },
      "source": [
        "### **Let's train and validate our Base Model:**"
      ]
    },
    {
      "cell_type": "code",
      "metadata": {
        "colab_type": "code",
        "id": "mDWJ135lVCbR",
        "outputId": "821e5b2e-84a7-4eaa-9d9a-b91e3ab70fd3",
        "colab": {
          "base_uri": "https://localhost:8080/",
          "height": 1000
        }
      },
      "source": [
        "## fully balanced training\n",
        "## Rotate every 45\n",
        "## 'C1' vs 'C2-3' vs 'all_other' - Downsampling training\n",
        "\n",
        "## 128x128, stride_60,\n",
        "##min_pos_pix_1250, mivalpos_1024\n",
        "## ReduceLROnPlateau(monitor='val_loss'... )\n",
        "## train_batch_32, opt_RMSprop, Kernel_3x3:\n",
        "\n",
        "epochs = 80\n",
        "\n",
        "train_steps = train_generator.n//train_generator.batch_size\n",
        "val_steps = val_generator.n//val_generator.batch_size\n",
        "\n",
        "# Callbacks:\n",
        "reduce_lr = ReduceLROnPlateau(monitor='val_loss', factor=0.85, patience=3, \n",
        "                                   verbose=1, mode='min', min_lr=1e-9)\n",
        "EarlyStop = EarlyStopping(monitor='val_acc', patience=70, verbose=1,\n",
        "                          min_delta=0, mode='max')\n",
        "checkpoint = ModelCheckpoint('base_model.h5', monitor='val_acc', verbose=1, \n",
        "                             save_best_only=True, mode='max')\n",
        "\n",
        "callbacks_list = [reduce_lr, checkpoint, EarlyStop] #order matters!\n",
        "\n",
        "#res_cnn.load_weights('base_model.h5')\n",
        "\n",
        "history = res_cnn.fit_generator(train_generator, steps_per_epoch=train_steps,\n",
        "                            validation_data=val_generator,\n",
        "                            validation_steps=val_steps, epochs=epochs,\n",
        "                            verbose=1, callbacks=callbacks_list, shuffle=False,\n",
        "                            class_weight=serial_pos_weights)"
      ],
      "execution_count": 124,
      "outputs": [
        {
          "output_type": "stream",
          "text": [
            "Epoch 1/80\n",
            "9/9 [==============================] - 5s 539ms/step - loss: 185.3959 - acc: 0.5174 - val_loss: 89.2891 - val_acc: 0.5641\n",
            "\n",
            "Epoch 00001: val_acc improved from -inf to 0.56410, saving model to base_model.h5\n",
            "Epoch 2/80\n",
            "9/9 [==============================] - 1s 101ms/step - loss: 62.6343 - acc: 0.5486 - val_loss: 40.0826 - val_acc: 0.5128\n",
            "\n",
            "Epoch 00002: val_acc did not improve from 0.56410\n",
            "Epoch 3/80\n",
            "9/9 [==============================] - 1s 93ms/step - loss: 29.7098 - acc: 0.5671 - val_loss: 20.7573 - val_acc: 0.3590\n",
            "\n",
            "Epoch 00003: val_acc did not improve from 0.56410\n",
            "Epoch 4/80\n",
            "9/9 [==============================] - 1s 98ms/step - loss: 16.3715 - acc: 0.6049 - val_loss: 15.3207 - val_acc: 0.3333\n",
            "\n",
            "Epoch 00004: val_acc did not improve from 0.56410\n",
            "Epoch 5/80\n",
            "9/9 [==============================] - 1s 93ms/step - loss: 10.6225 - acc: 0.5139 - val_loss: 9.3575 - val_acc: 0.3077\n",
            "\n",
            "Epoch 00005: val_acc did not improve from 0.56410\n",
            "Epoch 6/80\n",
            "9/9 [==============================] - 1s 98ms/step - loss: 7.2887 - acc: 0.5795 - val_loss: 6.9135 - val_acc: 0.3333\n",
            "\n",
            "Epoch 00006: val_acc did not improve from 0.56410\n",
            "Epoch 7/80\n",
            "9/9 [==============================] - 1s 93ms/step - loss: 5.3761 - acc: 0.6118 - val_loss: 5.0023 - val_acc: 0.4872\n",
            "\n",
            "Epoch 00007: val_acc did not improve from 0.56410\n",
            "Epoch 8/80\n",
            "9/9 [==============================] - 1s 99ms/step - loss: 4.1565 - acc: 0.6355 - val_loss: 4.9258 - val_acc: 0.3333\n",
            "\n",
            "Epoch 00008: val_acc did not improve from 0.56410\n",
            "Epoch 9/80\n",
            "9/9 [==============================] - 1s 93ms/step - loss: 3.4303 - acc: 0.6233 - val_loss: 4.1915 - val_acc: 0.4872\n",
            "\n",
            "Epoch 00009: val_acc did not improve from 0.56410\n",
            "Epoch 10/80\n",
            "9/9 [==============================] - 1s 93ms/step - loss: 2.9334 - acc: 0.6533 - val_loss: 3.6803 - val_acc: 0.5128\n",
            "\n",
            "Epoch 00010: val_acc did not improve from 0.56410\n",
            "Epoch 11/80\n",
            "9/9 [==============================] - 1s 95ms/step - loss: 2.5438 - acc: 0.6493 - val_loss: 2.5045 - val_acc: 0.6667\n",
            "\n",
            "Epoch 00011: val_acc improved from 0.56410 to 0.66667, saving model to base_model.h5\n",
            "Epoch 12/80\n",
            "9/9 [==============================] - 1s 101ms/step - loss: 2.4162 - acc: 0.6229 - val_loss: 2.7327 - val_acc: 0.5128\n",
            "\n",
            "Epoch 00012: val_acc did not improve from 0.66667\n",
            "Epoch 13/80\n",
            "9/9 [==============================] - 1s 93ms/step - loss: 2.2760 - acc: 0.5756 - val_loss: 5.0099 - val_acc: 0.4872\n",
            "\n",
            "Epoch 00013: val_acc did not improve from 0.66667\n",
            "Epoch 14/80\n",
            "9/9 [==============================] - 1s 97ms/step - loss: 2.4748 - acc: 0.4544 - val_loss: 2.3198 - val_acc: 0.4615\n",
            "\n",
            "Epoch 00014: val_acc did not improve from 0.66667\n",
            "Epoch 15/80\n",
            "9/9 [==============================] - 1s 94ms/step - loss: 2.1645 - acc: 0.5115 - val_loss: 2.5790 - val_acc: 0.5385\n",
            "\n",
            "Epoch 00015: val_acc did not improve from 0.66667\n",
            "Epoch 16/80\n",
            "9/9 [==============================] - 1s 97ms/step - loss: 1.9156 - acc: 0.5789 - val_loss: 2.2497 - val_acc: 0.4359\n",
            "\n",
            "Epoch 00016: val_acc did not improve from 0.66667\n",
            "Epoch 17/80\n",
            "9/9 [==============================] - 1s 93ms/step - loss: 1.8410 - acc: 0.5777 - val_loss: 2.1384 - val_acc: 0.4103\n",
            "\n",
            "Epoch 00017: val_acc did not improve from 0.66667\n",
            "Epoch 18/80\n",
            "9/9 [==============================] - 1s 98ms/step - loss: 1.6689 - acc: 0.6155 - val_loss: 2.6584 - val_acc: 0.1538\n",
            "\n",
            "Epoch 00018: val_acc did not improve from 0.66667\n",
            "Epoch 19/80\n",
            "9/9 [==============================] - 1s 93ms/step - loss: 1.6813 - acc: 0.5916 - val_loss: 2.0283 - val_acc: 0.5385\n",
            "\n",
            "Epoch 00019: val_acc did not improve from 0.66667\n",
            "Epoch 20/80\n",
            "9/9 [==============================] - 1s 93ms/step - loss: 1.5845 - acc: 0.6063 - val_loss: 6.1402 - val_acc: 0.3333\n",
            "\n",
            "Epoch 00020: val_acc did not improve from 0.66667\n",
            "Epoch 21/80\n",
            "9/9 [==============================] - 1s 96ms/step - loss: 1.5379 - acc: 0.6181 - val_loss: 2.5801 - val_acc: 0.3333\n",
            "\n",
            "Epoch 00021: val_acc did not improve from 0.66667\n",
            "Epoch 22/80\n",
            "9/9 [==============================] - 1s 98ms/step - loss: 1.3719 - acc: 0.6789 - val_loss: 2.0671 - val_acc: 0.4615\n",
            "\n",
            "Epoch 00022: ReduceLROnPlateau reducing learning rate to 0.0008500000403728336.\n",
            "\n",
            "Epoch 00022: val_acc did not improve from 0.66667\n",
            "Epoch 23/80\n",
            "9/9 [==============================] - 1s 100ms/step - loss: 1.3891 - acc: 0.6088 - val_loss: 2.7650 - val_acc: 0.3333\n",
            "\n",
            "Epoch 00023: val_acc did not improve from 0.66667\n",
            "Epoch 24/80\n",
            "9/9 [==============================] - 1s 93ms/step - loss: 1.3829 - acc: 0.6394 - val_loss: 2.8116 - val_acc: 0.3333\n",
            "\n",
            "Epoch 00024: val_acc did not improve from 0.66667\n",
            "Epoch 25/80\n",
            "9/9 [==============================] - 1s 99ms/step - loss: 1.2274 - acc: 0.6470 - val_loss: 2.2882 - val_acc: 0.3333\n",
            "\n",
            "Epoch 00025: ReduceLROnPlateau reducing learning rate to 0.0007225000590551645.\n",
            "\n",
            "Epoch 00025: val_acc did not improve from 0.66667\n",
            "Epoch 26/80\n",
            "9/9 [==============================] - 1s 93ms/step - loss: 1.1805 - acc: 0.7054 - val_loss: 2.4565 - val_acc: 0.3333\n",
            "\n",
            "Epoch 00026: val_acc did not improve from 0.66667\n",
            "Epoch 27/80\n",
            "9/9 [==============================] - 1s 97ms/step - loss: 1.2338 - acc: 0.6693 - val_loss: 2.6354 - val_acc: 0.3333\n",
            "\n",
            "Epoch 00027: val_acc did not improve from 0.66667\n",
            "Epoch 28/80\n",
            "9/9 [==============================] - 1s 93ms/step - loss: 1.2919 - acc: 0.6194 - val_loss: 2.8959 - val_acc: 0.3333\n",
            "\n",
            "Epoch 00028: ReduceLROnPlateau reducing learning rate to 0.0006141250254586339.\n",
            "\n",
            "Epoch 00028: val_acc did not improve from 0.66667\n",
            "Epoch 29/80\n",
            "9/9 [==============================] - 1s 97ms/step - loss: 1.1277 - acc: 0.6711 - val_loss: 2.4926 - val_acc: 0.3333\n",
            "\n",
            "Epoch 00029: val_acc did not improve from 0.66667\n",
            "Epoch 30/80\n",
            "9/9 [==============================] - 1s 94ms/step - loss: 1.0723 - acc: 0.7365 - val_loss: 2.5571 - val_acc: 0.3333\n",
            "\n",
            "Epoch 00030: val_acc did not improve from 0.66667\n",
            "Epoch 31/80\n",
            "9/9 [==============================] - 1s 93ms/step - loss: 1.0105 - acc: 0.7569 - val_loss: 2.5355 - val_acc: 0.3333\n",
            "\n",
            "Epoch 00031: ReduceLROnPlateau reducing learning rate to 0.0005220062914304435.\n",
            "\n",
            "Epoch 00031: val_acc did not improve from 0.66667\n",
            "Epoch 32/80\n",
            "9/9 [==============================] - 1s 94ms/step - loss: 0.9898 - acc: 0.7551 - val_loss: 2.5483 - val_acc: 0.3333\n",
            "\n",
            "Epoch 00032: val_acc did not improve from 0.66667\n",
            "Epoch 33/80\n",
            "9/9 [==============================] - 1s 94ms/step - loss: 0.9345 - acc: 0.7896 - val_loss: 3.2920 - val_acc: 0.3333\n",
            "\n",
            "Epoch 00033: val_acc did not improve from 0.66667\n",
            "Epoch 34/80\n",
            "9/9 [==============================] - 1s 98ms/step - loss: 0.9825 - acc: 0.7412 - val_loss: 2.9796 - val_acc: 0.3333\n",
            "\n",
            "Epoch 00034: ReduceLROnPlateau reducing learning rate to 0.00044370535761117935.\n",
            "\n",
            "Epoch 00034: val_acc did not improve from 0.66667\n",
            "Epoch 35/80\n",
            "9/9 [==============================] - 1s 99ms/step - loss: 0.8885 - acc: 0.8111 - val_loss: 3.2110 - val_acc: 0.3333\n",
            "\n",
            "Epoch 00035: val_acc did not improve from 0.66667\n",
            "Epoch 36/80\n",
            "9/9 [==============================] - 1s 94ms/step - loss: 0.8908 - acc: 0.8148 - val_loss: 2.9774 - val_acc: 0.3333\n",
            "\n",
            "Epoch 00036: val_acc did not improve from 0.66667\n",
            "Epoch 37/80\n",
            "9/9 [==============================] - 1s 97ms/step - loss: 0.8905 - acc: 0.7757 - val_loss: 3.6814 - val_acc: 0.3333\n",
            "\n",
            "Epoch 00037: ReduceLROnPlateau reducing learning rate to 0.00037714955396950245.\n",
            "\n",
            "Epoch 00037: val_acc did not improve from 0.66667\n",
            "Epoch 38/80\n",
            "9/9 [==============================] - 1s 93ms/step - loss: 0.8934 - acc: 0.7662 - val_loss: 2.9094 - val_acc: 0.3333\n",
            "\n",
            "Epoch 00038: val_acc did not improve from 0.66667\n",
            "Epoch 39/80\n",
            "9/9 [==============================] - 1s 98ms/step - loss: 0.8277 - acc: 0.8044 - val_loss: 3.3270 - val_acc: 0.2821\n",
            "\n",
            "Epoch 00039: val_acc did not improve from 0.66667\n",
            "Epoch 40/80\n",
            "9/9 [==============================] - 1s 93ms/step - loss: 0.7992 - acc: 0.8252 - val_loss: 3.0165 - val_acc: 0.2564\n",
            "\n",
            "Epoch 00040: ReduceLROnPlateau reducing learning rate to 0.0003205771208740771.\n",
            "\n",
            "Epoch 00040: val_acc did not improve from 0.66667\n",
            "Epoch 41/80\n",
            "9/9 [==============================] - 1s 94ms/step - loss: 0.7646 - acc: 0.8438 - val_loss: 3.2103 - val_acc: 0.2564\n",
            "\n",
            "Epoch 00041: val_acc did not improve from 0.66667\n",
            "Epoch 42/80\n",
            "9/9 [==============================] - 1s 95ms/step - loss: 0.8014 - acc: 0.8005 - val_loss: 2.8943 - val_acc: 0.3077\n",
            "\n",
            "Epoch 00042: val_acc did not improve from 0.66667\n",
            "Epoch 43/80\n",
            "9/9 [==============================] - 1s 98ms/step - loss: 0.7499 - acc: 0.8596 - val_loss: 3.4403 - val_acc: 0.2308\n",
            "\n",
            "Epoch 00043: ReduceLROnPlateau reducing learning rate to 0.0002724905527429655.\n",
            "\n",
            "Epoch 00043: val_acc did not improve from 0.66667\n",
            "Epoch 44/80\n",
            "9/9 [==============================] - 1s 94ms/step - loss: 0.8374 - acc: 0.7901 - val_loss: 3.5586 - val_acc: 0.2308\n",
            "\n",
            "Epoch 00044: val_acc did not improve from 0.66667\n",
            "Epoch 45/80\n",
            "9/9 [==============================] - 1s 98ms/step - loss: 0.6696 - acc: 0.8880 - val_loss: 3.5251 - val_acc: 0.1538\n",
            "\n",
            "Epoch 00045: val_acc did not improve from 0.66667\n",
            "Epoch 46/80\n",
            "9/9 [==============================] - 1s 93ms/step - loss: 0.7315 - acc: 0.8602 - val_loss: 3.4060 - val_acc: 0.1538\n",
            "\n",
            "Epoch 00046: ReduceLROnPlateau reducing learning rate to 0.00023161696735769509.\n",
            "\n",
            "Epoch 00046: val_acc did not improve from 0.66667\n",
            "Epoch 47/80\n",
            "9/9 [==============================] - 1s 98ms/step - loss: 0.7389 - acc: 0.8381 - val_loss: 3.2591 - val_acc: 0.1282\n",
            "\n",
            "Epoch 00047: val_acc did not improve from 0.66667\n",
            "Epoch 48/80\n",
            "9/9 [==============================] - 1s 93ms/step - loss: 0.6516 - acc: 0.8986 - val_loss: 3.1853 - val_acc: 0.1282\n",
            "\n",
            "Epoch 00048: val_acc did not improve from 0.66667\n",
            "Epoch 49/80\n",
            "9/9 [==============================] - 1s 98ms/step - loss: 0.7029 - acc: 0.8708 - val_loss: 3.2609 - val_acc: 0.1538\n",
            "\n",
            "Epoch 00049: ReduceLROnPlateau reducing learning rate to 0.00019687442472786642.\n",
            "\n",
            "Epoch 00049: val_acc did not improve from 0.66667\n",
            "Epoch 50/80\n",
            "9/9 [==============================] - 1s 93ms/step - loss: 0.6977 - acc: 0.8773 - val_loss: 3.3967 - val_acc: 0.1282\n",
            "\n",
            "Epoch 00050: val_acc did not improve from 0.66667\n",
            "Epoch 51/80\n",
            "9/9 [==============================] - 1s 94ms/step - loss: 0.6345 - acc: 0.9097 - val_loss: 2.9498 - val_acc: 0.1795\n",
            "\n",
            "Epoch 00051: val_acc did not improve from 0.66667\n",
            "Epoch 52/80\n",
            "9/9 [==============================] - 1s 94ms/step - loss: 0.6323 - acc: 0.8923 - val_loss: 3.6221 - val_acc: 0.1282\n",
            "\n",
            "Epoch 00052: ReduceLROnPlateau reducing learning rate to 0.00016734325545257888.\n",
            "\n",
            "Epoch 00052: val_acc did not improve from 0.66667\n",
            "Epoch 53/80\n",
            "9/9 [==============================] - 1s 99ms/step - loss: 0.6147 - acc: 0.9088 - val_loss: 2.8563 - val_acc: 0.1795\n",
            "\n",
            "Epoch 00053: val_acc did not improve from 0.66667\n",
            "Epoch 54/80\n",
            "9/9 [==============================] - 1s 93ms/step - loss: 0.6772 - acc: 0.8880 - val_loss: 3.0280 - val_acc: 0.1538\n",
            "\n",
            "Epoch 00054: val_acc did not improve from 0.66667\n",
            "Epoch 55/80\n",
            "9/9 [==============================] - 1s 98ms/step - loss: 0.6108 - acc: 0.8921 - val_loss: 2.6355 - val_acc: 0.1538\n",
            "\n",
            "Epoch 00055: ReduceLROnPlateau reducing learning rate to 0.00014224176775314845.\n",
            "\n",
            "Epoch 00055: val_acc did not improve from 0.66667\n",
            "Epoch 56/80\n",
            "9/9 [==============================] - 1s 93ms/step - loss: 0.5883 - acc: 0.9047 - val_loss: 2.7933 - val_acc: 0.2051\n",
            "\n",
            "Epoch 00056: val_acc did not improve from 0.66667\n",
            "Epoch 57/80\n",
            "9/9 [==============================] - 1s 99ms/step - loss: 0.6291 - acc: 0.8814 - val_loss: 2.6999 - val_acc: 0.1795\n",
            "\n",
            "Epoch 00057: val_acc did not improve from 0.66667\n",
            "Epoch 58/80\n",
            "9/9 [==============================] - 1s 93ms/step - loss: 0.6583 - acc: 0.8847 - val_loss: 2.3770 - val_acc: 0.3077\n",
            "\n",
            "Epoch 00058: ReduceLROnPlateau reducing learning rate to 0.00012090550444554538.\n",
            "\n",
            "Epoch 00058: val_acc did not improve from 0.66667\n",
            "Epoch 59/80\n",
            "9/9 [==============================] - 1s 97ms/step - loss: 0.5523 - acc: 0.9366 - val_loss: 2.3710 - val_acc: 0.3333\n",
            "\n",
            "Epoch 00059: val_acc did not improve from 0.66667\n",
            "Epoch 60/80\n",
            "9/9 [==============================] - 1s 93ms/step - loss: 0.5638 - acc: 0.9299 - val_loss: 2.4287 - val_acc: 0.2308\n",
            "\n",
            "Epoch 00060: val_acc did not improve from 0.66667\n",
            "Epoch 61/80\n",
            "9/9 [==============================] - 1s 93ms/step - loss: 0.5888 - acc: 0.9132 - val_loss: 2.1597 - val_acc: 0.2821\n",
            "\n",
            "Epoch 00061: ReduceLROnPlateau reducing learning rate to 0.00010276967877871357.\n",
            "\n",
            "Epoch 00061: val_acc did not improve from 0.66667\n",
            "Epoch 62/80\n",
            "9/9 [==============================] - 1s 94ms/step - loss: 0.5355 - acc: 0.9442 - val_loss: 2.0354 - val_acc: 0.3077\n",
            "\n",
            "Epoch 00062: val_acc did not improve from 0.66667\n",
            "Epoch 63/80\n",
            "9/9 [==============================] - 1s 93ms/step - loss: 0.5359 - acc: 0.9477 - val_loss: 1.9578 - val_acc: 0.3077\n",
            "\n",
            "Epoch 00063: val_acc did not improve from 0.66667\n",
            "Epoch 64/80\n",
            "9/9 [==============================] - 1s 98ms/step - loss: 0.5208 - acc: 0.9477 - val_loss: 1.9851 - val_acc: 0.2564\n",
            "\n",
            "Epoch 00064: val_acc did not improve from 0.66667\n",
            "Epoch 65/80\n",
            "9/9 [==============================] - 1s 94ms/step - loss: 0.5226 - acc: 0.9514 - val_loss: 1.7785 - val_acc: 0.3590\n",
            "\n",
            "Epoch 00065: val_acc did not improve from 0.66667\n",
            "Epoch 66/80\n",
            "9/9 [==============================] - 1s 98ms/step - loss: 0.5320 - acc: 0.9370 - val_loss: 1.7533 - val_acc: 0.3590\n",
            "\n",
            "Epoch 00066: val_acc did not improve from 0.66667\n",
            "Epoch 67/80\n",
            "9/9 [==============================] - 1s 93ms/step - loss: 0.4856 - acc: 0.9577 - val_loss: 1.9908 - val_acc: 0.1538\n",
            "\n",
            "Epoch 00067: val_acc did not improve from 0.66667\n",
            "Epoch 68/80\n",
            "9/9 [==============================] - 1s 97ms/step - loss: 0.4908 - acc: 0.9442 - val_loss: 1.6957 - val_acc: 0.3333\n",
            "\n",
            "Epoch 00068: val_acc did not improve from 0.66667\n",
            "Epoch 69/80\n",
            "9/9 [==============================] - 1s 95ms/step - loss: 0.5009 - acc: 0.9514 - val_loss: 1.6351 - val_acc: 0.3333\n",
            "\n",
            "Epoch 00069: val_acc did not improve from 0.66667\n",
            "Epoch 70/80\n",
            "9/9 [==============================] - 1s 93ms/step - loss: 0.4503 - acc: 0.9789 - val_loss: 1.8669 - val_acc: 0.2564\n",
            "\n",
            "Epoch 00070: val_acc did not improve from 0.66667\n",
            "Epoch 71/80\n",
            "9/9 [==============================] - 1s 94ms/step - loss: 0.5286 - acc: 0.9201 - val_loss: 3.2495 - val_acc: 0.3590\n",
            "\n",
            "Epoch 00071: val_acc did not improve from 0.66667\n",
            "Epoch 72/80\n",
            "9/9 [==============================] - 1s 100ms/step - loss: 0.4448 - acc: 0.9757 - val_loss: 3.0401 - val_acc: 0.3846\n",
            "\n",
            "Epoch 00072: ReduceLROnPlateau reducing learning rate to 8.735422634345013e-05.\n",
            "\n",
            "Epoch 00072: val_acc did not improve from 0.66667\n",
            "Epoch 73/80\n",
            "9/9 [==============================] - 1s 94ms/step - loss: 0.4517 - acc: 0.9548 - val_loss: 3.2669 - val_acc: 0.3846\n",
            "\n",
            "Epoch 00073: val_acc did not improve from 0.66667\n",
            "Epoch 74/80\n",
            "9/9 [==============================] - 1s 98ms/step - loss: 0.4426 - acc: 0.9757 - val_loss: 3.8032 - val_acc: 0.3590\n",
            "\n",
            "Epoch 00074: val_acc did not improve from 0.66667\n",
            "Epoch 75/80\n",
            "9/9 [==============================] - 1s 94ms/step - loss: 0.4214 - acc: 0.9792 - val_loss: 1.9312 - val_acc: 0.2564\n",
            "\n",
            "Epoch 00075: ReduceLROnPlateau reducing learning rate to 7.425108960887882e-05.\n",
            "\n",
            "Epoch 00075: val_acc did not improve from 0.66667\n",
            "Epoch 76/80\n",
            "9/9 [==============================] - 1s 97ms/step - loss: 0.4292 - acc: 0.9722 - val_loss: 3.7057 - val_acc: 0.3846\n",
            "\n",
            "Epoch 00076: val_acc did not improve from 0.66667\n",
            "Epoch 77/80\n",
            "9/9 [==============================] - 1s 92ms/step - loss: 0.4256 - acc: 0.9748 - val_loss: 3.6517 - val_acc: 0.3846\n",
            "\n",
            "Epoch 00077: val_acc did not improve from 0.66667\n",
            "Epoch 78/80\n",
            "9/9 [==============================] - 1s 98ms/step - loss: 0.4089 - acc: 0.9826 - val_loss: 3.6510 - val_acc: 0.4103\n",
            "\n",
            "Epoch 00078: ReduceLROnPlateau reducing learning rate to 6.31134258583188e-05.\n",
            "\n",
            "Epoch 00078: val_acc did not improve from 0.66667\n",
            "Epoch 79/80\n",
            "9/9 [==============================] - 1s 93ms/step - loss: 0.4250 - acc: 0.9826 - val_loss: 4.0968 - val_acc: 0.4359\n",
            "\n",
            "Epoch 00079: val_acc did not improve from 0.66667\n",
            "Epoch 80/80\n",
            "9/9 [==============================] - 1s 93ms/step - loss: 0.3857 - acc: 0.9896 - val_loss: 4.0836 - val_acc: 0.4359\n",
            "\n",
            "Epoch 00080: val_acc did not improve from 0.66667\n"
          ],
          "name": "stdout"
        }
      ]
    },
    {
      "cell_type": "markdown",
      "metadata": {
        "colab_type": "text",
        "id": "BeQ6tt-mwUW3"
      },
      "source": [
        "#### **Let's download the best model to our 'Capstone' folder in GoogleDrive:**"
      ]
    },
    {
      "cell_type": "code",
      "metadata": {
        "colab_type": "code",
        "id": "SA1xKG_gwVP4",
        "outputId": "18b3daf0-4f09-44f0-cab8-641045172036",
        "colab": {
          "base_uri": "https://localhost:8080/",
          "height": 905
        }
      },
      "source": [
        "try:\n",
        "  files.download('base_model.h5')\n",
        "except:\n",
        "  print(\"Not done\")\n",
        "  pass\n"
      ],
      "execution_count": 138,
      "outputs": [
        {
          "output_type": "stream",
          "text": [
            "----------------------------------------\n",
            "Exception happened during processing of request from ('::ffff:127.0.0.1', 38780, 0, 0)\n",
            "Traceback (most recent call last):\n",
            "  File \"/usr/lib/python3.6/socketserver.py\", line 320, in _handle_request_noblock\n",
            "    self.process_request(request, client_address)\n",
            "  File \"/usr/lib/python3.6/socketserver.py\", line 351, in process_request\n",
            "    self.finish_request(request, client_address)\n",
            "  File \"/usr/lib/python3.6/socketserver.py\", line 364, in finish_request\n",
            "    self.RequestHandlerClass(request, client_address, self)\n",
            "  File \"/usr/lib/python3.6/socketserver.py\", line 724, in __init__\n",
            "    self.handle()\n",
            "  File \"/usr/lib/python3.6/http/server.py\", line 418, in handle\n",
            "    self.handle_one_request()\n",
            "  File \"/usr/lib/python3.6/http/server.py\", line 406, in handle_one_request\n",
            "    method()\n",
            "  File \"/usr/lib/python3.6/http/server.py\", line 639, in do_GET\n",
            "    self.copyfile(f, self.wfile)\n",
            "  File \"/usr/lib/python3.6/http/server.py\", line 800, in copyfile\n",
            "    shutil.copyfileobj(source, outputfile)\n",
            "  File \"/usr/lib/python3.6/shutil.py\", line 82, in copyfileobj\n",
            "    fdst.write(buf)\n",
            "  File \"/usr/lib/python3.6/socketserver.py\", line 803, in write\n",
            "    self._sock.sendall(b)\n",
            "ConnectionResetError: [Errno 104] Connection reset by peer\n",
            "----------------------------------------\n",
            "----------------------------------------\n",
            "Exception happened during processing of request from ('::ffff:127.0.0.1', 36348, 0, 0)\n",
            "Traceback (most recent call last):\n",
            "  File \"/usr/lib/python3.6/socketserver.py\", line 320, in _handle_request_noblock\n",
            "    self.process_request(request, client_address)\n",
            "  File \"/usr/lib/python3.6/socketserver.py\", line 351, in process_request\n",
            "    self.finish_request(request, client_address)\n",
            "  File \"/usr/lib/python3.6/socketserver.py\", line 364, in finish_request\n",
            "    self.RequestHandlerClass(request, client_address, self)\n",
            "  File \"/usr/lib/python3.6/socketserver.py\", line 724, in __init__\n",
            "    self.handle()\n",
            "  File \"/usr/lib/python3.6/http/server.py\", line 418, in handle\n",
            "    self.handle_one_request()\n",
            "  File \"/usr/lib/python3.6/http/server.py\", line 406, in handle_one_request\n",
            "    method()\n",
            "  File \"/usr/lib/python3.6/http/server.py\", line 639, in do_GET\n",
            "    self.copyfile(f, self.wfile)\n",
            "  File \"/usr/lib/python3.6/http/server.py\", line 800, in copyfile\n",
            "    shutil.copyfileobj(source, outputfile)\n",
            "  File \"/usr/lib/python3.6/shutil.py\", line 82, in copyfileobj\n",
            "    fdst.write(buf)\n",
            "  File \"/usr/lib/python3.6/socketserver.py\", line 803, in write\n",
            "    self._sock.sendall(b)\n",
            "ConnectionResetError: [Errno 104] Connection reset by peer\n",
            "----------------------------------------\n"
          ],
          "name": "stderr"
        }
      ]
    },
    {
      "cell_type": "markdown",
      "metadata": {
        "colab_type": "text",
        "id": "MRz_1oJzJRFH"
      },
      "source": [
        "#### **Let's download the training history to a local file:**"
      ]
    },
    {
      "cell_type": "code",
      "metadata": {
        "colab_type": "code",
        "id": "k5Y5GUUhcyAt",
        "colab": {}
      },
      "source": [
        "for k,v in history.history.items():\n",
        "  history.history[k] = str(v)\n",
        "\n",
        "with open('history_1-2.json', 'w') as f:\n",
        "    json.dump(history.history, f)\n",
        "\n",
        "try:\n",
        "    time.sleep(3) # To avoid warning when downloading various files at once\n",
        "    files.download('history_1-2.json')\n",
        "except:\n",
        "    pass"
      ],
      "execution_count": 0,
      "outputs": []
    },
    {
      "cell_type": "code",
      "metadata": {
        "colab_type": "code",
        "id": "jxEpvYPVcyUb",
        "colab": {}
      },
      "source": [
        "#uploaded = files.upload()\n",
        "with open('history_1-2.json') as f:\n",
        "    history_dict = json.load(f)\n",
        "    \n",
        "for k,v in history_dict.items():\n",
        "  history_dict[k] = json.loads(v)\n",
        "\n",
        "history_df = pd.DataFrame(history_dict)"
      ],
      "execution_count": 0,
      "outputs": []
    },
    {
      "cell_type": "markdown",
      "metadata": {
        "colab_type": "text",
        "id": "_eAC27OxKOLY"
      },
      "source": [
        "#### **Let's plot training and validation loss vs epochs:**"
      ]
    },
    {
      "cell_type": "code",
      "metadata": {
        "colab_type": "code",
        "id": "FFs4JAkn-vtq",
        "outputId": "15e7faef-a30d-4f31-8538-cb4a7df8f73a",
        "colab": {
          "base_uri": "https://localhost:8080/",
          "height": 407
        }
      },
      "source": [
        "loss = history_df[['loss','val_loss']]\n",
        "loss.columns = ['train_loss', 'val_loss']\n",
        "loss.plot(figsize=(10, 6), title='Loss vs epochs')"
      ],
      "execution_count": 130,
      "outputs": [
        {
          "output_type": "execute_result",
          "data": {
            "text/plain": [
              "<matplotlib.axes._subplots.AxesSubplot at 0x7ff88ad65898>"
            ]
          },
          "metadata": {
            "tags": []
          },
          "execution_count": 130
        },
        {
          "output_type": "display_data",
          "data": {
            "image/png": "[encoded data removed]",
            "text/plain": [
              "<Figure size 720x432 with 1 Axes>"
            ]
          },
          "metadata": {
            "tags": []
          }
        }
      ]
    },
    {
      "cell_type": "markdown",
      "metadata": {
        "colab_type": "text",
        "id": "VSFAqg-gKlR0"
      },
      "source": [
        "#### **Let's plot training and validation accuracy vs epochs:**"
      ]
    },
    {
      "cell_type": "code",
      "metadata": {
        "colab_type": "code",
        "id": "zux8aIdQN7zN",
        "outputId": "690a41cc-ac7d-4d56-b134-3c1dcac104b9",
        "colab": {
          "base_uri": "https://localhost:8080/",
          "height": 407
        }
      },
      "source": [
        "acc = history_df[['val_acc','acc']]\n",
        "acc.columns = ['val_acc', 'train_acc']\n",
        "acc.plot(figsize=(10, 6), title='Val acc & Train acc vs epochs')"
      ],
      "execution_count": 131,
      "outputs": [
        {
          "output_type": "execute_result",
          "data": {
            "text/plain": [
              "<matplotlib.axes._subplots.AxesSubplot at 0x7ff889d9b748>"
            ]
          },
          "metadata": {
            "tags": []
          },
          "execution_count": 131
        },
        {
          "output_type": "display_data",
          "data": {
            "image/png": "[encoded data removed]",
            "text/plain": [
              "<Figure size 720x432 with 1 Axes>"
            ]
          },
          "metadata": {
            "tags": []
          }
        }
      ]
    },
    {
      "cell_type": "markdown",
      "metadata": {
        "colab_type": "text",
        "id": "B8RiTO3yLDXy"
      },
      "source": [
        "#### **Let's plot learning rate vs epochs:**"
      ]
    },
    {
      "cell_type": "code",
      "metadata": {
        "colab_type": "code",
        "id": "o2ggKlccOAHA",
        "outputId": "9a771542-8259-4142-b9f1-d73ba035814a",
        "colab": {
          "base_uri": "https://localhost:8080/",
          "height": 407
        }
      },
      "source": [
        "lr = history_df[['lr']]\n",
        "lr.plot(figsize=(10, 6), title='Learning rate vs epochs')"
      ],
      "execution_count": 132,
      "outputs": [
        {
          "output_type": "execute_result",
          "data": {
            "text/plain": [
              "<matplotlib.axes._subplots.AxesSubplot at 0x7ff888586710>"
            ]
          },
          "metadata": {
            "tags": []
          },
          "execution_count": 132
        },
        {
          "output_type": "display_data",
          "data": {
            "image/png": "[encoded data removed]",
            "text/plain": [
              "<Figure size 720x432 with 1 Axes>"
            ]
          },
          "metadata": {
            "tags": []
          }
        }
      ]
    },
    {
      "cell_type": "markdown",
      "metadata": {
        "colab_type": "text",
        "id": "pEjAnQK9Mhfy"
      },
      "source": [
        "#### **Let's evaluate the best model, on the validation set and compute relevant metrics:**"
      ]
    },
    {
      "cell_type": "code",
      "metadata": {
        "colab_type": "code",
        "id": "pc4dm0GKcCb7",
        "colab": {}
      },
      "source": [
        "#uploaded = files.upload()\n",
        "res_cnn.load_weights('base_model.h5')"
      ],
      "execution_count": 0,
      "outputs": []
    },
    {
      "cell_type": "code",
      "metadata": {
        "colab_type": "code",
        "id": "_4QyhhkriB7C",
        "outputId": "fa16cdac-04c4-41d4-f0c0-c0c8fed6c0cc",
        "colab": {
          "base_uri": "https://localhost:8080/",
          "height": 372
        }
      },
      "source": [
        "## fully balanced training\n",
        "## Rot every 45\n",
        "## 'C1' vs 'C2-3' vs 'all_other' - Downsampling training\n",
        "\n",
        "## 128x128, stride_60,\n",
        "##min_pos_pix_1250, mivalpos_1024\n",
        "## ReduceLROnPlateau(monitor='val_loss'... )\n",
        "## train_batch_32, opt_RMSprop, Kernel_3x3:\n",
        "\n",
        "X, y_true = next(val_generator)\n",
        "y_pred = res_cnn.predict(X)\n",
        "for i in range(1, len(val_generator)):\n",
        "  X, y = next(val_generator)\n",
        "  y_true = np.vstack((y_true, y))\n",
        "  y_pred = np.vstack((y_pred, res_cnn.predict(X)))\n",
        "\n",
        "y_true = np.argmax(y_true, axis=1)\n",
        "y_pred = np.argmax(y_pred, axis=1)\n",
        "\n",
        "val_acc = accuracy_score(y_true, y_pred)\n",
        "#roc_auc = roc_auc_score(y_true, y_pred)\n",
        "cm = confusion_matrix(y_true, y_pred)\n",
        "class_names = [k for k in val_generator.class_indices]\n",
        "c_report = classification_report(y_true, y_pred, target_names=class_names)\n",
        "\n",
        "print('\\nval_acc:\\n', val_acc)\n",
        "print('\\nConfusion Matrix:\\n', cm)\n",
        "print('\\nClassification Report:\\n', c_report)"
      ],
      "execution_count": 140,
      "outputs": [
        {
          "output_type": "stream",
          "text": [
            "\n",
            "val_acc:\n",
            " 0.6666666666666666\n",
            "\n",
            "Confusion Matrix:\n",
            " [[ 9  4  0]\n",
            " [ 4  6  3]\n",
            " [ 0  2 11]]\n",
            "\n",
            "Classification Report:\n",
            "               precision    recall  f1-score   support\n",
            "\n",
            "           1       0.69      0.69      0.69        13\n",
            "           2       0.50      0.46      0.48        13\n",
            "   all_other       0.79      0.85      0.81        13\n",
            "\n",
            "    accuracy                           0.67        39\n",
            "   macro avg       0.66      0.67      0.66        39\n",
            "weighted avg       0.66      0.67      0.66        39\n",
            "\n"
          ],
          "name": "stdout"
        }
      ]
    }
  ]
}