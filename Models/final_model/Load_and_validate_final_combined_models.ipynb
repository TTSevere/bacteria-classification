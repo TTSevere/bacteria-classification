{
  "nbformat": 4,
  "nbformat_minor": 0,
  "metadata": {
    "colab": {
      "name": "Load and validate final combined models.ipynb",
      "provenance": [],
      "collapsed_sections": [],
      "machine_shape": "hm"
    },
    "kernelspec": {
      "name": "python3",
      "display_name": "Python 3"
    },
    "accelerator": "GPU"
  },
  "cells": [
    {
      "cell_type": "markdown",
      "metadata": {
        "id": "LYUPhq76Zm35",
        "colab_type": "text"
      },
      "source": [
        "###  <span style=\"color:red\">**This Notebook can be run from Google Colab:**</span>\n",
        "\n",
        "https://colab.research.google.com"
      ]
    },
    {
      "cell_type": "markdown",
      "metadata": {
        "id": "kMveENLYCJA9",
        "colab_type": "text"
      },
      "source": [
        "# **<span style=\"color:red\">Background:</span>**\n",
        "\n",
        "#### First, we trained a model using positive patches only (only patches actually containing regions corresponding to growing bacterial colonies in the petri-dish), to specifically differentiate among the 8 bacterial species in our dataset. From the confusion matrix of that model, we could see that the model is having difficulty to differentiate between classes 'C1' and 'C2-3' and between classes 'C4-7' and 'C5'.<br>\n",
        "\n",
        "#### As a next step, we then trained a model to specifically learn to differentiate 'C1' vs 'C2-3' vs 'all_other' classes. This is a model with 3 classes only.<br>\n",
        "\n",
        "#### Similarly, we also trained a model to specifically learn to differentiate 'C4-7' vs 'C5' vs 'all_other' classes.<br>\n",
        "\n",
        "#### WE also trained a model just to differentiate between positive bacterial colony patches (of any class) and negative patches (either petri-dish background, petri-dish border or white image background). For this, we just combined all positive patches (regardless of the bacterial species) in a single 'positive' class and all negative patches in a single 'negative' class.<br> \n",
        "\n",
        "#### We then had 4 models, the first one producing 8 predicted probabilities (one for each baterial species), the second one producing 3 predicted probabilities ('C1','C2-3','all_other'), the third one also producing 3 predicted probabilities ('C4-7','C5','all_other') and the fourth one producing 2 predicted probabilities (positive_patch, negative_patch), for a total of 16 predicted probabilities.<br>\n",
        "\n",
        "#### With those 4 models, using an augmented validation dataset with 9 classes (8 bacterial species + negative_patches), we combined the 16 predicted probabilities as features and y_true, into a training dataset which we used to use to train a simple kernel SVM, to learn to predict either negative or the correct bacterial species, from the probabilities produced by the 4 models above."
      ]
    },
    {
      "cell_type": "code",
      "metadata": {
        "id": "1ZQkKdjUd65L",
        "colab_type": "code",
        "colab": {
          "base_uri": "https://localhost:8080/",
          "height": 83
        },
        "outputId": "b40aa33d-8cf5-4232-ec29-d82510f3fa27"
      },
      "source": [
        "import numpy as np\n",
        "import matplotlib.pyplot as plt\n",
        "%matplotlib inline\n",
        "import os\n",
        "import zipfile\n",
        "import shutil\n",
        "import json\n",
        "import pickle\n",
        "\n",
        "import keras\n",
        "from keras.preprocessing.image import ImageDataGenerator\n",
        "from keras.models import load_model\n",
        "\n",
        "from sklearn.metrics import accuracy_score, confusion_matrix, \\\n",
        "                            classification_report, balanced_accuracy_score\n",
        "\n",
        "# Import PyDrive and associated libraries (to connect with GoogleDrive):\n",
        "from pydrive.auth import GoogleAuth\n",
        "from pydrive.drive import GoogleDrive\n",
        "from google.colab import auth\n",
        "from oauth2client.client import GoogleCredentials\n",
        "\n",
        "# disable warnings\n",
        "import warnings\n",
        "warnings.simplefilter(\"ignore\")\n",
        "os.environ['TF_CPP_MIN_LOG_LEVEL'] = '3' "
      ],
      "execution_count": 1,
      "outputs": [
        {
          "output_type": "stream",
          "text": [
            "Using TensorFlow backend.\n"
          ],
          "name": "stderr"
        },
        {
          "output_type": "display_data",
          "data": {
            "text/html": [
              "<p style=\"color: red;\">\n",
              "The default version of TensorFlow in Colab will soon switch to TensorFlow 2.x.<br>\n",
              "We recommend you <a href=\"https://www.tensorflow.org/guide/migrate\" target=\"_blank\">upgrade</a> now \n",
              "or ensure your notebook will continue to use TensorFlow 1.x via the <code>%tensorflow_version 1.x</code> magic:\n",
              "<a href=\"https://colab.research.google.com/notebooks/tensorflow_version.ipynb\" target=\"_blank\">more info</a>.</p>\n"
            ],
            "text/plain": [
              "<IPython.core.display.HTML object>"
            ]
          },
          "metadata": {
            "tags": []
          }
        }
      ]
    },
    {
      "cell_type": "markdown",
      "metadata": {
        "id": "DItexGaqdfEA",
        "colab_type": "text"
      },
      "source": [
        "### **Check if we are using GPU:**"
      ]
    },
    {
      "cell_type": "code",
      "metadata": {
        "id": "vn7AYx74dNq6",
        "colab_type": "code",
        "outputId": "eed2c621-3489-4270-9eae-2e75fa6bbdf4",
        "colab": {
          "base_uri": "https://localhost:8080/",
          "height": 35
        }
      },
      "source": [
        "from keras import backend as K\n",
        "if K.backend() == \"tensorflow\":\n",
        "    import tensorflow as tf\n",
        "    device_name = tf.test.gpu_device_name()\n",
        "    if device_name == '':\n",
        "        device_name = \"None\"\n",
        "    print('Using TensorFlow version:', tf.__version__, ', GPU:', device_name)"
      ],
      "execution_count": 2,
      "outputs": [
        {
          "output_type": "stream",
          "text": [
            "Using TensorFlow version: 1.15.0 , GPU: /device:GPU:0\n"
          ],
          "name": "stdout"
        }
      ]
    },
    {
      "cell_type": "markdown",
      "metadata": {
        "id": "QQXfhMrHlqrz",
        "colab_type": "text"
      },
      "source": [
        "### **Download Validation ('Control') patches from GoogleDrive:**\n",
        "\n",
        "### This dataset contains 9 classes in total (8 bacterial species + negative patches).\n",
        "\n",
        "#### *Validation Patches were augmented with Patch_Generator, using 'stride=22' and rotations every 20 degrees until a full lap. Patches were then balanced by downsampling majority classes so we can compare accuracy of the model.*\n",
        "\n",
        "###  **NOTE: Validation patches were generated from original, non-preprocessed images. In this way, we will ensure our model perform well at testing time when pre-processing may not be feasible. As example, being able to create masks/image annotation may not be feasible on testing data.**\n",
        "\n"
      ]
    },
    {
      "cell_type": "code",
      "metadata": {
        "id": "ACvUlEucnnY0",
        "colab_type": "code",
        "outputId": "b3569b1c-5e47-4118-bfa5-0bfe6550b9fd",
        "colab": {
          "base_uri": "https://localhost:8080/",
          "height": 54
        }
      },
      "source": [
        "# Authenticate and create the PyDrive client.\n",
        "auth.authenticate_user()\n",
        "gauth = GoogleAuth()\n",
        "gauth.credentials = GoogleCredentials.get_application_default()\n",
        "drive = GoogleDrive(gauth)\n",
        "\n",
        "#\"Control_for_final_training_9_classes_128_vs22_minval_1024_rotate_every_20_full_balance.zip\":\n",
        "file_id = '1bebJEgFoWq04jX-6ZfqZPxAoxH5j4G9e' # Control only, rotate every 20, full balance\n",
        "\n",
        "downloaded = drive.CreateFile({'id': file_id})\n",
        "downloaded.GetContentFile(downloaded['title'])\n",
        "print('Downloaded content: \"{}\"'.format(downloaded['title']))\n",
        "print('Root dir content: {}'.format(os.listdir()))\n",
        "patches_zip = downloaded['title']"
      ],
      "execution_count": 3,
      "outputs": [
        {
          "output_type": "stream",
          "text": [
            "Downloaded content: \"Control_for_final_training_9_classes_128_vs22_minval_1024_rotate_every_20_full_balance.zip\"\n",
            "Root dir content: ['.config', 'adc.json', 'Control_for_final_training_9_classes_128_vs22_minval_1024_rotate_every_20_full_balance.zip', 'sample_data']\n"
          ],
          "name": "stdout"
        }
      ]
    },
    {
      "cell_type": "markdown",
      "metadata": {
        "id": "HSdGQav-qEJM",
        "colab_type": "text"
      },
      "source": [
        "### **Unzip the Validation ('Control') patches:**"
      ]
    },
    {
      "cell_type": "code",
      "metadata": {
        "id": "jP1-2THkn47w",
        "colab_type": "code",
        "outputId": "6f1d56b5-e1b4-479a-b987-72ca3d535953",
        "colab": {
          "base_uri": "https://localhost:8080/",
          "height": 35
        }
      },
      "source": [
        "# Remove 'Patches' dir if it already exists\n",
        "if 'Patches' in os.listdir():\n",
        "  shutil.rmtree('./Patches')\n",
        "with zipfile.ZipFile(patches_zip,\"r\") as zip:\n",
        "    zip.extractall()\n",
        "os.remove(downloaded['title'])\n",
        "print('Root dir content: {}'.format(os.listdir()))"
      ],
      "execution_count": 4,
      "outputs": [
        {
          "output_type": "stream",
          "text": [
            "Root dir content: ['.config', 'Patches', 'adc.json', 'sample_data']\n"
          ],
          "name": "stdout"
        }
      ]
    },
    {
      "cell_type": "markdown",
      "metadata": {
        "id": "nd7htfD3rJ6V",
        "colab_type": "text"
      },
      "source": [
        "### **Let's count patches by type and class:**"
      ]
    },
    {
      "cell_type": "code",
      "metadata": {
        "id": "kH5rSidQbggC",
        "colab_type": "code",
        "outputId": "7ed41ef2-9673-4a66-9130-e20d1a862f0c",
        "colab": {
          "base_uri": "https://localhost:8080/",
          "height": 708
        }
      },
      "source": [
        "classes = ['C1','C2-3','C4-7','C5','C6','C8','C9','C10','neg']\n",
        "class_weights = {} # empty dictionary to store class weights\n",
        "\n",
        "grand_total = 0\n",
        "for type_ in ['Serial', 'Control', 'Streak']:\n",
        "    print(\"\\nTotal '{}' Patches per location:\".format(type_))\n",
        "    n_type = 0\n",
        "    class_weights[type_] = {} # nested empty dictionary to store class weights\n",
        "    for cls in classes:\n",
        "        if cls != 'neg':\n",
        "            pos_folder = './Patches/{}/{}_pos'.format(type_,cls)\n",
        "        else:\n",
        "            pos_folder = './Patches/{}/{}'.format(type_,cls)\n",
        "        n_pos = len(os.listdir(pos_folder))\n",
        "        n_type += n_pos\n",
        "        #print(pos_folder, n_pos)\n",
        "        print('total_{}: {}'.format(cls,n_pos))\n",
        "        class_weights[type_]['{}'.format(cls)] = 1/n_pos if n_pos else 0\n",
        "    print('Total {}: {}'.format(type_,n_type))\n",
        "    for loc in class_weights[type_].keys():\n",
        "        class_weights[type_][loc] *= n_type\n",
        "    grand_total += n_type\n",
        "print('\\nGRAND TOTAL: {}'.format(grand_total))"
      ],
      "execution_count": 5,
      "outputs": [
        {
          "output_type": "stream",
          "text": [
            "\n",
            "Total 'Serial' Patches per location:\n",
            "total_C1: 0\n",
            "total_C2-3: 0\n",
            "total_C4-7: 0\n",
            "total_C5: 0\n",
            "total_C6: 0\n",
            "total_C8: 0\n",
            "total_C9: 0\n",
            "total_C10: 0\n",
            "total_neg: 0\n",
            "Total Serial: 0\n",
            "\n",
            "Total 'Control' Patches per location:\n",
            "total_C1: 6610\n",
            "total_C2-3: 6610\n",
            "total_C4-7: 6610\n",
            "total_C5: 6610\n",
            "total_C6: 6610\n",
            "total_C8: 6610\n",
            "total_C9: 6610\n",
            "total_C10: 6610\n",
            "total_neg: 6610\n",
            "Total Control: 59490\n",
            "\n",
            "Total 'Streak' Patches per location:\n",
            "total_C1: 0\n",
            "total_C2-3: 0\n",
            "total_C4-7: 0\n",
            "total_C5: 0\n",
            "total_C6: 0\n",
            "total_C8: 0\n",
            "total_C9: 0\n",
            "total_C10: 0\n",
            "total_neg: 0\n",
            "Total Streak: 0\n",
            "\n",
            "GRAND TOTAL: 59490\n"
          ],
          "name": "stdout"
        }
      ]
    },
    {
      "cell_type": "markdown",
      "metadata": {
        "id": "GNJ7lSKQpdOT",
        "colab_type": "text"
      },
      "source": [
        "#### **Let's build the validation generator, using keras.preprocessing.image.ImageDataGenerator, rescaling image pixel values from [0,  255] to [0, 1]:**"
      ]
    },
    {
      "cell_type": "code",
      "metadata": {
        "id": "UANfdA6IUFKt",
        "colab_type": "code",
        "outputId": "8839967b-6fdc-4c48-d4d0-301e98b665a8",
        "colab": {
          "base_uri": "https://localhost:8080/",
          "height": 35
        }
      },
      "source": [
        "c1_pos_folder = './Patches/Control/C1_pos'\n",
        "img = plt.imread(c1_pos_folder + '/' + os.listdir(c1_pos_folder)[:5][0])\n",
        "img_size = img.shape\n",
        "val_batch_size = 64\n",
        "\n",
        "val_datagen = ImageDataGenerator(rescale=1./255)\n",
        "\n",
        "val_generator = val_datagen.flow_from_directory(\n",
        "        './Patches/Control',\n",
        "        target_size=(img_size[0],img_size[1]),\n",
        "        batch_size=val_batch_size,\n",
        "        class_mode='categorical',\n",
        "        shuffle=False)"
      ],
      "execution_count": 6,
      "outputs": [
        {
          "output_type": "stream",
          "text": [
            "Found 59490 images belonging to 9 classes.\n"
          ],
          "name": "stdout"
        }
      ]
    },
    {
      "cell_type": "markdown",
      "metadata": {
        "id": "44ZzUGXvwqUn",
        "colab_type": "text"
      },
      "source": [
        "#### **Let's check what is the data generators' index for each class:**"
      ]
    },
    {
      "cell_type": "code",
      "metadata": {
        "id": "tSHQNC2awn84",
        "colab_type": "code",
        "outputId": "d2d81ad0-d5b8-4d9d-8f94-9923ac9dab71",
        "colab": {
          "base_uri": "https://localhost:8080/",
          "height": 217
        }
      },
      "source": [
        "print('validation_generator.class_indices:', str(json.dumps(val_generator.class_indices, indent=2, default=str)))"
      ],
      "execution_count": 7,
      "outputs": [
        {
          "output_type": "stream",
          "text": [
            "validation_generator.class_indices: {\n",
            "  \"C10_pos\": 0,\n",
            "  \"C1_pos\": 1,\n",
            "  \"C2-3_pos\": 2,\n",
            "  \"C4-7_pos\": 3,\n",
            "  \"C5_pos\": 4,\n",
            "  \"C6_pos\": 5,\n",
            "  \"C8_pos\": 6,\n",
            "  \"C9_pos\": 7,\n",
            "  \"neg\": 8\n",
            "}\n"
          ],
          "name": "stdout"
        }
      ]
    },
    {
      "cell_type": "markdown",
      "metadata": {
        "id": "MRz_1oJzJRFH",
        "colab_type": "text"
      },
      "source": [
        "### **Let's download the 4 final CNN models and the 'combine' from GoogleDrive:**\n",
        "\n",
        "---\n",
        "\n"
      ]
    },
    {
      "cell_type": "code",
      "metadata": {
        "id": "k5Y5GUUhcyAt",
        "colab_type": "code",
        "outputId": "98f4eb97-dcd1-4e6d-cc01-4503cdffaeb4",
        "colab": {
          "base_uri": "https://localhost:8080/",
          "height": 310
        }
      },
      "source": [
        "# Authenticate and create the PyDrive client.\n",
        "auth.authenticate_user()\n",
        "gauth = GoogleAuth()\n",
        "gauth.credentials = GoogleCredentials.get_application_default()\n",
        "drive = GoogleDrive(gauth)\n",
        "\n",
        "eight_classes_id = '1w0u_EKaSG8zkMRtYkNjFd3IOnR3IpQsJ' # model_8_classes_0.8465\n",
        "C1_C2_3_id = '18De1DbqyxD1JlNpue6LIUZXd73VgAN-f' # model C1 vs C2-3 vs all_other\n",
        "C4_7_C5_id = '1-4e6W-yR13q3ckpgo8O9QVMTncWITHwg' # model_C4-7_vs_C5_vs_all-other\n",
        "pos_vs_neg_id = '1-BxPnguFXE7PHmzKadW0AnwWO9VqTywR' # model pos-neg\n",
        "\n",
        "files_ids_dict = {'model_eight_classes': eight_classes_id,\n",
        "                  'model_C1_C2_3': C1_C2_3_id,\n",
        "                  'model_C4_7_C5': C4_7_C5_id,\n",
        "                  'model_pos_vs_neg': pos_vs_neg_id}\n",
        "\n",
        "models_names_dict = {}\n",
        "for model_name, file_id in files_ids_dict.items():\n",
        "    downloaded = drive.CreateFile({'id': file_id})\n",
        "    downloaded.GetContentFile(downloaded['title'])\n",
        "    print('Downloaded content: \"{}\"'.format(downloaded['title']))\n",
        "    models_names_dict[model_name] = downloaded['title']\n",
        "\n",
        "print('\\ncnn_models_names_dict:', str(json.dumps(models_names_dict, indent=2, default=str)))\n",
        "\n",
        "file_id = '1aw3Bv1vXDlU_9ZTWeMTEzA44Jo3LlIzA' # 'combine' model_0903\n",
        "downloaded = drive.CreateFile({'id': file_id})\n",
        "downloaded.GetContentFile(downloaded['title'])\n",
        "print('\\nDownloaded content: \"{}\"'.format(downloaded['title']))\n",
        "print('\\nRoot dir content: {}'.format(os.listdir()))\n",
        "model_combine = downloaded['title']"
      ],
      "execution_count": 10,
      "outputs": [
        {
          "output_type": "stream",
          "text": [
            "Downloaded content: \"model_8_classes_08465.h5\"\n",
            "Downloaded content: \"model_C1_C2-3_08983.h5\"\n",
            "Downloaded content: \"model_C4-7_C5_083.h5\"\n",
            "Downloaded content: \"model_pos_neg_09973.h5\"\n",
            "\n",
            "cnn_models_names_dict: {\n",
            "  \"model_eight_classes\": \"model_8_classes_08465.h5\",\n",
            "  \"model_C1_C2_3\": \"model_C1_C2-3_08983.h5\",\n",
            "  \"model_C4_7_C5\": \"model_C4-7_C5_083.h5\",\n",
            "  \"model_pos_vs_neg\": \"model_pos_neg_09973.h5\"\n",
            "}\n",
            "\n",
            "Downloaded content: \"combine_model_0.9203.sav\"\n",
            "\n",
            "Root dir content: ['.config', 'Patches', 'model_C1_C2-3_08983.h5', 'adc.json', 'model_C4-7_C5_083.h5', 'model_pos_neg_09973.h5', 'model_8_classes_08465.h5', 'combine_model_0.9203.sav', 'sample_data']\n"
          ],
          "name": "stdout"
        }
      ]
    },
    {
      "cell_type": "markdown",
      "metadata": {
        "id": "pEjAnQK9Mhfy",
        "colab_type": "text"
      },
      "source": [
        "#### **Let's load all 4 CNN models and the 'combine' model from downloaded files:**"
      ]
    },
    {
      "cell_type": "code",
      "metadata": {
        "id": "cH-tFKnoMjpw",
        "colab_type": "code",
        "colab": {
          "base_uri": "https://localhost:8080/",
          "height": 674
        },
        "outputId": "6fe1ef01-afc9-4ab2-8d80-de0565e9ae58"
      },
      "source": [
        "eight_classes_model = load_model(models_names_dict['model_eight_classes'])\n",
        "#eight_classes_model.summary() # summarize model."
      ],
      "execution_count": 11,
      "outputs": [
        {
          "output_type": "stream",
          "text": [
            "WARNING:tensorflow:From /usr/local/lib/python3.6/dist-packages/keras/backend/tensorflow_backend.py:541: The name tf.placeholder is deprecated. Please use tf.compat.v1.placeholder instead.\n",
            "\n",
            "WARNING:tensorflow:From /usr/local/lib/python3.6/dist-packages/keras/backend/tensorflow_backend.py:4432: The name tf.random_uniform is deprecated. Please use tf.random.uniform instead.\n",
            "\n",
            "WARNING:tensorflow:From /usr/local/lib/python3.6/dist-packages/keras/backend/tensorflow_backend.py:66: The name tf.get_default_graph is deprecated. Please use tf.compat.v1.get_default_graph instead.\n",
            "\n",
            "WARNING:tensorflow:From /usr/local/lib/python3.6/dist-packages/keras/backend/tensorflow_backend.py:190: The name tf.get_default_session is deprecated. Please use tf.compat.v1.get_default_session instead.\n",
            "\n",
            "WARNING:tensorflow:From /usr/local/lib/python3.6/dist-packages/keras/backend/tensorflow_backend.py:197: The name tf.ConfigProto is deprecated. Please use tf.compat.v1.ConfigProto instead.\n",
            "\n",
            "WARNING:tensorflow:From /usr/local/lib/python3.6/dist-packages/keras/backend/tensorflow_backend.py:203: The name tf.Session is deprecated. Please use tf.compat.v1.Session instead.\n",
            "\n",
            "WARNING:tensorflow:From /usr/local/lib/python3.6/dist-packages/keras/backend/tensorflow_backend.py:207: The name tf.global_variables is deprecated. Please use tf.compat.v1.global_variables instead.\n",
            "\n",
            "WARNING:tensorflow:From /usr/local/lib/python3.6/dist-packages/keras/backend/tensorflow_backend.py:216: The name tf.is_variable_initialized is deprecated. Please use tf.compat.v1.is_variable_initialized instead.\n",
            "\n",
            "WARNING:tensorflow:From /usr/local/lib/python3.6/dist-packages/keras/backend/tensorflow_backend.py:223: The name tf.variables_initializer is deprecated. Please use tf.compat.v1.variables_initializer instead.\n",
            "\n",
            "WARNING:tensorflow:From /usr/local/lib/python3.6/dist-packages/keras/backend/tensorflow_backend.py:2041: The name tf.nn.fused_batch_norm is deprecated. Please use tf.compat.v1.nn.fused_batch_norm instead.\n",
            "\n",
            "WARNING:tensorflow:From /usr/local/lib/python3.6/dist-packages/keras/backend/tensorflow_backend.py:148: The name tf.placeholder_with_default is deprecated. Please use tf.compat.v1.placeholder_with_default instead.\n",
            "\n",
            "WARNING:tensorflow:From /usr/local/lib/python3.6/dist-packages/keras/backend/tensorflow_backend.py:4267: The name tf.nn.max_pool is deprecated. Please use tf.nn.max_pool2d instead.\n",
            "\n",
            "WARNING:tensorflow:From /usr/local/lib/python3.6/dist-packages/keras/optimizers.py:793: The name tf.train.Optimizer is deprecated. Please use tf.compat.v1.train.Optimizer instead.\n",
            "\n",
            "WARNING:tensorflow:From /usr/local/lib/python3.6/dist-packages/keras/backend/tensorflow_backend.py:3576: The name tf.log is deprecated. Please use tf.math.log instead.\n",
            "\n",
            "WARNING:tensorflow:From /usr/local/lib/python3.6/dist-packages/tensorflow_core/python/ops/math_grad.py:1424: where (from tensorflow.python.ops.array_ops) is deprecated and will be removed in a future version.\n",
            "Instructions for updating:\n",
            "Use tf.where in 2.0, which has the same broadcast rule as np.where\n",
            "WARNING:tensorflow:From /usr/local/lib/python3.6/dist-packages/keras/backend/tensorflow_backend.py:1033: The name tf.assign_add is deprecated. Please use tf.compat.v1.assign_add instead.\n",
            "\n",
            "WARNING:tensorflow:From /usr/local/lib/python3.6/dist-packages/keras/backend/tensorflow_backend.py:1020: The name tf.assign is deprecated. Please use tf.compat.v1.assign instead.\n",
            "\n"
          ],
          "name": "stdout"
        }
      ]
    },
    {
      "cell_type": "code",
      "metadata": {
        "id": "8O2mjdcllx4H",
        "colab_type": "code",
        "colab": {}
      },
      "source": [
        "C1_C2_3_model = load_model(models_names_dict['model_C1_C2_3'])\n",
        "#C1_C2_3_model.summary() # summarize model."
      ],
      "execution_count": 0,
      "outputs": []
    },
    {
      "cell_type": "code",
      "metadata": {
        "id": "UewyWEJOl_Co",
        "colab_type": "code",
        "colab": {}
      },
      "source": [
        "C4_7_C5_model = load_model(models_names_dict['model_C4_7_C5'])\n",
        "#C4_7_C5_model.summary() # summarize model."
      ],
      "execution_count": 0,
      "outputs": []
    },
    {
      "cell_type": "code",
      "metadata": {
        "id": "TIpwzCLVmRuE",
        "colab_type": "code",
        "colab": {}
      },
      "source": [
        "pos_vs_neg_model = load_model(models_names_dict['model_pos_vs_neg'])\n",
        "#pos_vs_neg_C5_model.summary() # summarize model."
      ],
      "execution_count": 0,
      "outputs": []
    },
    {
      "cell_type": "code",
      "metadata": {
        "id": "LLwDM2w4ts7S",
        "colab_type": "code",
        "colab": {}
      },
      "source": [
        "combine_model = pickle.load(open(model_combine, 'rb'))"
      ],
      "execution_count": 0,
      "outputs": []
    },
    {
      "cell_type": "markdown",
      "metadata": {
        "id": "6oXacV9WmuGf",
        "colab_type": "text"
      },
      "source": [
        "## **Let's *'evaluate'* the performance of our combined model on the validation dataset:**"
      ]
    },
    {
      "cell_type": "code",
      "metadata": {
        "id": "p1GmvrSm1XEg",
        "colab_type": "code",
        "outputId": "9ac574a8-c6b3-48fb-8648-ea59f8087a53",
        "colab": {
          "base_uri": "https://localhost:8080/",
          "height": 599
        }
      },
      "source": [
        "eight_classes_scores = eight_classes_model.predict_generator(val_generator)\n",
        "C1_C2_3_scores = C1_C2_3_model.predict_generator(val_generator)\n",
        "C4_7_C5_scores = C4_7_C5_model.predict_generator(val_generator)\n",
        "pos_vs_neg_scores = pos_vs_neg_model.predict_generator(val_generator)\n",
        "\n",
        "X = np.hstack((eight_classes_scores,C1_C2_3_scores,C4_7_C5_scores,pos_vs_neg_scores))\n",
        "y_pred = combine_model.predict(X)\n",
        "y_true = val_generator.classes\n",
        "\n",
        "val_acc = accuracy_score(y_true, y_pred)\n",
        "cm = confusion_matrix(y_true, y_pred)\n",
        "class_names = [k for k in val_generator.class_indices]\n",
        "c_report = classification_report(y_true, y_pred, target_names=class_names)\n",
        "\n",
        "print('\\nbalanced val_acc:\\n', val_acc)\n",
        "print('\\nConfusion Matrix:\\n', cm)\n",
        "print('\\nClassification Report:\\n', c_report)"
      ],
      "execution_count": 16,
      "outputs": [
        {
          "output_type": "stream",
          "text": [
            "\n",
            "balanced val_acc:\n",
            " 0.9401748192973609\n",
            "\n",
            "Confusion Matrix:\n",
            " [[6610    0    0    0    0    0    0    0    0]\n",
            " [   0 6146  454    0    0    0   10    0    0]\n",
            " [   0  581 6020    0    0    8    1    0    0]\n",
            " [   0    0    0 4473 2128    0    9    0    0]\n",
            " [   0    0    0  338 6272    0    0    0    0]\n",
            " [   1    0    4    0    0 6605    0    0    0]\n",
            " [   0   20    0    0    0    0 6590    0    0]\n",
            " [   0    0    0    0    0    0    0 6610    0]\n",
            " [   5    0    0    0    0    0    0    0 6605]]\n",
            "\n",
            "Classification Report:\n",
            "               precision    recall  f1-score   support\n",
            "\n",
            "     C10_pos       1.00      1.00      1.00      6610\n",
            "      C1_pos       0.91      0.93      0.92      6610\n",
            "    C2-3_pos       0.93      0.91      0.92      6610\n",
            "    C4-7_pos       0.93      0.68      0.78      6610\n",
            "      C5_pos       0.75      0.95      0.84      6610\n",
            "      C6_pos       1.00      1.00      1.00      6610\n",
            "      C8_pos       1.00      1.00      1.00      6610\n",
            "      C9_pos       1.00      1.00      1.00      6610\n",
            "         neg       1.00      1.00      1.00      6610\n",
            "\n",
            "    accuracy                           0.94     59490\n",
            "   macro avg       0.95      0.94      0.94     59490\n",
            "weighted avg       0.95      0.94      0.94     59490\n",
            "\n"
          ],
          "name": "stdout"
        }
      ]
    },
    {
      "cell_type": "markdown",
      "metadata": {
        "id": "Is5M8gnF4nml",
        "colab_type": "text"
      },
      "source": [
        "# **Next Steps:**\n",
        "\n"
      ]
    },
    {
      "cell_type": "markdown",
      "metadata": {
        "id": "qol8Kd1G_J0N",
        "colab_type": "text"
      },
      "source": [
        "#### Evaluate the performance of our combined model on the test dataset."
      ]
    }
  ]
}