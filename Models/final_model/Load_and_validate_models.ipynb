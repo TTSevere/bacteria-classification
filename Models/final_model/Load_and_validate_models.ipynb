{
  "nbformat": 4,
  "nbformat_minor": 0,
  "metadata": {
    "colab": {
      "name": "Load and test Models.ipynb",
      "provenance": [],
      "collapsed_sections": [],
      "machine_shape": "hm"
    },
    "kernelspec": {
      "name": "python3",
      "display_name": "Python 3"
    },
    "accelerator": "GPU"
  },
  "cells": [
    {
      "cell_type": "markdown",
      "metadata": {
        "id": "LYUPhq76Zm35",
        "colab_type": "text"
      },
      "source": [
        "###  <span style=\"color:red\">**This Notebook can be run from Google Colab:**</span>\n",
        "\n",
        "https://colab.research.google.com"
      ]
    },
    {
      "cell_type": "code",
      "metadata": {
        "id": "Yom3XAA8ZnSA",
        "colab_type": "code",
        "colab": {}
      },
      "source": [
        "import numpy as np\n",
        "import matplotlib.pyplot as plt\n",
        "%matplotlib inline\n",
        "import os\n",
        "import zipfile\n",
        "import shutil\n",
        "from google.colab import files\n",
        "import json\n",
        "import time\n",
        "import pandas as pd\n",
        "\n",
        "import keras\n",
        "from keras.models import Model, Sequential, load_model\n",
        "from keras.applications.resnet50 import ResNet50\n",
        "from keras.layers import Input, Dense, Activation, Dropout, BatchNormalization,\\\n",
        "                          Conv2D, MaxPooling2D, Flatten, AveragePooling2D,\\\n",
        "                          GlobalAveragePooling2D, ZeroPadding2D\n",
        "from keras.initializers import glorot_uniform\n",
        "from keras import regularizers\n",
        "from keras.preprocessing.image import ImageDataGenerator\n",
        "from keras.optimizers import RMSprop, Adam, Adamax, Nadam, SGD\n",
        "from keras.callbacks import EarlyStopping, ReduceLROnPlateau, ModelCheckpoint\n",
        "\n",
        "from sklearn.metrics import roc_auc_score, accuracy_score, confusion_matrix, \\\n",
        "                            classification_report\n",
        "\n",
        "# Import PyDrive and associated libraries (to connect with GoogleDrive)\n",
        "from pydrive.auth import GoogleAuth\n",
        "from pydrive.drive import GoogleDrive\n",
        "from google.colab import auth\n",
        "from oauth2client.client import GoogleCredentials\n",
        "\n",
        "# disable warnings\n",
        "import warnings\n",
        "warnings.simplefilter(\"ignore\")\n",
        "os.environ['TF_CPP_MIN_LOG_LEVEL'] = '3' "
      ],
      "execution_count": 0,
      "outputs": []
    },
    {
      "cell_type": "markdown",
      "metadata": {
        "id": "DItexGaqdfEA",
        "colab_type": "text"
      },
      "source": [
        "### **Check if we are using GPU:**"
      ]
    },
    {
      "cell_type": "code",
      "metadata": {
        "id": "vn7AYx74dNq6",
        "colab_type": "code",
        "outputId": "06ac217f-e42b-4319-c436-711dfc136739",
        "colab": {
          "base_uri": "https://localhost:8080/",
          "height": 34
        }
      },
      "source": [
        "from keras import backend as K\n",
        "if K.backend() == \"tensorflow\":\n",
        "    import tensorflow as tf\n",
        "    device_name = tf.test.gpu_device_name()\n",
        "    if device_name == '':\n",
        "        device_name = \"None\"\n",
        "    print('Using TensorFlow version:', tf.__version__, ', GPU:', device_name)"
      ],
      "execution_count": 28,
      "outputs": [
        {
          "output_type": "stream",
          "text": [
            "Using TensorFlow version: 1.15.0 , GPU: /device:GPU:0\n"
          ],
          "name": "stdout"
        }
      ]
    },
    {
      "cell_type": "markdown",
      "metadata": {
        "id": "QQXfhMrHlqrz",
        "colab_type": "text"
      },
      "source": [
        "### **Download Validation ('Control') patches from GoogleDrive:**\n",
        "\n",
        "#### *Validation Patches were augmented with Patch_Generator, using 'stride=22' and then balanced by downsampling majority classes so we can compare accuracy of the model.*\n",
        "\n",
        "###  **NOTE: Validation patches were generated from original, non-preprocessed images. In this way, we will ensure our model perform well at testing time when pre-processing may not be feasible. As example, being able to create masks/image annotation may not be feasible on testing data.**\n",
        "\n"
      ]
    },
    {
      "cell_type": "code",
      "metadata": {
        "id": "ACvUlEucnnY0",
        "colab_type": "code",
        "outputId": "be783e50-8b81-4768-bb55-310887415fd7",
        "colab": {
          "base_uri": "https://localhost:8080/",
          "height": 51
        }
      },
      "source": [
        "# Authenticate and create the PyDrive client.\n",
        "auth.authenticate_user()\n",
        "gauth = GoogleAuth()\n",
        "gauth.credentials = GoogleCredentials.get_application_default()\n",
        "drive = GoogleDrive(gauth)\n",
        "\n",
        "file_id = '1fYVv6VwiotljBXOb2PAfWPCHVyugkbhJ' # Augmented and balanced pos_only\n",
        "\n",
        "downloaded = drive.CreateFile({'id': file_id})\n",
        "downloaded.GetContentFile(downloaded['title'])\n",
        "print('Downloaded content: \"{}\"'.format(downloaded['title']))\n",
        "print('Root dir content: {}'.format(os.listdir()))\n",
        "patches_zip = downloaded['title']"
      ],
      "execution_count": 4,
      "outputs": [
        {
          "output_type": "stream",
          "text": [
            "Downloaded content: \"Control.zip\"\n",
            "Root dir content: ['.config', 'adc.json', 'Control.zip', 'sample_data']\n"
          ],
          "name": "stdout"
        }
      ]
    },
    {
      "cell_type": "markdown",
      "metadata": {
        "id": "HSdGQav-qEJM",
        "colab_type": "text"
      },
      "source": [
        "### **Unzip the Validation ('Control') patches:**"
      ]
    },
    {
      "cell_type": "code",
      "metadata": {
        "id": "jP1-2THkn47w",
        "colab_type": "code",
        "outputId": "d5b9f02c-02b4-4bbe-e5e4-4705265d93aa",
        "colab": {
          "base_uri": "https://localhost:8080/",
          "height": 34
        }
      },
      "source": [
        "# Remove 'Patches' dir if it already exists\n",
        "if 'Control' in os.listdir():\n",
        "  shutil.rmtree('./Control')\n",
        "with zipfile.ZipFile(patches_zip,\"r\") as zip:\n",
        "    zip.extractall()\n",
        "os.remove(downloaded['title'])\n",
        "print('Root dir content: {}'.format(os.listdir()))"
      ],
      "execution_count": 5,
      "outputs": [
        {
          "output_type": "stream",
          "text": [
            "Root dir content: ['.config', 'adc.json', 'Control', 'sample_data']\n"
          ],
          "name": "stdout"
        }
      ]
    },
    {
      "cell_type": "markdown",
      "metadata": {
        "id": "nd7htfD3rJ6V",
        "colab_type": "text"
      },
      "source": [
        "### **Let's count patches by type and class:**"
      ]
    },
    {
      "cell_type": "code",
      "metadata": {
        "id": "DjJy7FFsvm5H",
        "colab_type": "code",
        "outputId": "ee483dfb-62a3-4c73-beec-81465c2c9892",
        "colab": {
          "base_uri": "https://localhost:8080/",
          "height": 204
        }
      },
      "source": [
        "classes = ['C1','C2-3','C4-7','C5','C6','C8','C9','C10']\n",
        "val_type = 'Control'\n",
        "\n",
        "type_pos, pos_total = 0, 0\n",
        "print(\"\\nTotal '{}' Patches per location:\".format(val_type))\n",
        "for cls in classes:\n",
        "    folder = './{}/{}_pos'.format(val_type,cls)\n",
        "    n_pos = len(os.listdir(folder))\n",
        "    type_pos += n_pos\n",
        "    print('total_{}: {}'.format(cls,n_pos))\n",
        "print('Total {}: {}'.format(val_type,type_pos))"
      ],
      "execution_count": 6,
      "outputs": [
        {
          "output_type": "stream",
          "text": [
            "\n",
            "Total 'Control' Patches per location:\n",
            "total_C1: 364\n",
            "total_C2-3: 364\n",
            "total_C4-7: 364\n",
            "total_C5: 364\n",
            "total_C6: 364\n",
            "total_C8: 364\n",
            "total_C9: 364\n",
            "total_C10: 364\n",
            "Total Control: 2912\n"
          ],
          "name": "stdout"
        }
      ]
    },
    {
      "cell_type": "markdown",
      "metadata": {
        "id": "GNJ7lSKQpdOT",
        "colab_type": "text"
      },
      "source": [
        "#### **Let's build the validation generator, using keras.preprocessing.image.ImageDataGenerator, rescaling image pixel values from [0,  255] to [0, 1]:**"
      ]
    },
    {
      "cell_type": "code",
      "metadata": {
        "id": "UANfdA6IUFKt",
        "colab_type": "code",
        "outputId": "f40b1eaa-a6f5-4776-e950-f55394f139f6",
        "colab": {
          "base_uri": "https://localhost:8080/",
          "height": 34
        }
      },
      "source": [
        "c1_pos_folder = './Control/C1_pos'\n",
        "img = plt.imread(c1_pos_folder + '/' + os.listdir(c1_pos_folder)[:5][0])\n",
        "img_size = img.shape\n",
        "val_batch_size = 64\n",
        "\n",
        "val_datagen = ImageDataGenerator(rescale=1./255)\n",
        "\n",
        "val_generator = val_datagen.flow_from_directory(\n",
        "        './Control',\n",
        "        target_size=(img_size[0],img_size[1]),\n",
        "        batch_size=val_batch_size,\n",
        "        class_mode='categorical',\n",
        "        shuffle=False)"
      ],
      "execution_count": 7,
      "outputs": [
        {
          "output_type": "stream",
          "text": [
            "Found 2912 images belonging to 8 classes.\n"
          ],
          "name": "stdout"
        }
      ]
    },
    {
      "cell_type": "markdown",
      "metadata": {
        "id": "44ZzUGXvwqUn",
        "colab_type": "text"
      },
      "source": [
        "#### **Let's check what is the data generators' index for each class:**"
      ]
    },
    {
      "cell_type": "code",
      "metadata": {
        "id": "tSHQNC2awn84",
        "colab_type": "code",
        "outputId": "8d829710-5917-4769-8dfb-5d8aa0a43d79",
        "colab": {
          "base_uri": "https://localhost:8080/",
          "height": 187
        }
      },
      "source": [
        "print('validation_generator.class_indices:', str(json.dumps(val_generator.class_indices, indent=2, default=str)))"
      ],
      "execution_count": 8,
      "outputs": [
        {
          "output_type": "stream",
          "text": [
            "validation_generator.class_indices: {\n",
            "  \"C10_pos\": 0,\n",
            "  \"C1_pos\": 1,\n",
            "  \"C2-3_pos\": 2,\n",
            "  \"C4-7_pos\": 3,\n",
            "  \"C5_pos\": 4,\n",
            "  \"C6_pos\": 5,\n",
            "  \"C8_pos\": 6,\n",
            "  \"C9_pos\": 7\n",
            "}\n"
          ],
          "name": "stdout"
        }
      ]
    },
    {
      "cell_type": "markdown",
      "metadata": {
        "id": "MRz_1oJzJRFH",
        "colab_type": "text"
      },
      "source": [
        "### **Download the final '8_classes' model from GoogleDrive:**"
      ]
    },
    {
      "cell_type": "code",
      "metadata": {
        "id": "k5Y5GUUhcyAt",
        "colab_type": "code",
        "outputId": "712b4691-562e-49e9-cef9-80051d443b84",
        "colab": {
          "base_uri": "https://localhost:8080/",
          "height": 51
        }
      },
      "source": [
        "# Authenticate and create the PyDrive client.\n",
        "auth.authenticate_user()\n",
        "gauth = GoogleAuth()\n",
        "gauth.credentials = GoogleCredentials.get_application_default()\n",
        "drive = GoogleDrive(gauth)\n",
        "\n",
        "file_id = '1w0u_EKaSG8zkMRtYkNjFd3IOnR3IpQsJ' # model_8_classes_0.8465\n",
        "\n",
        "downloaded = drive.CreateFile({'id': file_id})\n",
        "downloaded.GetContentFile(downloaded['title'])\n",
        "print('Downloaded content: \"{}\"'.format(downloaded['title']))\n",
        "print('Root dir content: {}'.format(os.listdir()))\n",
        "model_8_classes = downloaded['title']"
      ],
      "execution_count": 9,
      "outputs": [
        {
          "output_type": "stream",
          "text": [
            "Downloaded content: \"model_8_classes_08465.h5\"\n",
            "Root dir content: ['.config', 'adc.json', 'model_8_classes_08465.h5', 'Control', 'sample_data']\n"
          ],
          "name": "stdout"
        }
      ]
    },
    {
      "cell_type": "markdown",
      "metadata": {
        "id": "pEjAnQK9Mhfy",
        "colab_type": "text"
      },
      "source": [
        "#### **Let's evaluate '8 classes' model, on the validation set and compute relevant metrics:**"
      ]
    },
    {
      "cell_type": "code",
      "metadata": {
        "id": "cH-tFKnoMjpw",
        "colab_type": "code",
        "colab": {}
      },
      "source": [
        "# load model:\n",
        "eight_classes_model = load_model(model_8_classes)\n",
        "#eight_classes_model.summary() # summarize model."
      ],
      "execution_count": 0,
      "outputs": []
    },
    {
      "cell_type": "code",
      "metadata": {
        "id": "HBL8sTDE_cTv",
        "colab_type": "code",
        "outputId": "f8e435ed-e0f2-4f8a-ee74-1c5ac0884aa7",
        "colab": {
          "base_uri": "https://localhost:8080/",
          "height": 527
        }
      },
      "source": [
        "## Evaluate model on balanced validation patches:\n",
        "\n",
        "y_true = val_generator.classes\n",
        "Y_pred = eight_classes_model.predict_generator(val_generator)\n",
        "y_pred = np.argmax(Y_pred, axis=1)\n",
        "\n",
        "val_acc = accuracy_score(y_true, y_pred)\n",
        "cm = confusion_matrix(y_true, y_pred)\n",
        "class_names = [k for k in val_generator.class_indices]\n",
        "c_report = classification_report(y_true, y_pred, target_names=class_names)\n",
        "\n",
        "print('\\nbalanced val_acc:\\n', val_acc)\n",
        "print('\\nConfusion Matrix:\\n', cm)\n",
        "print('\\nClassification Report:\\n', c_report)"
      ],
      "execution_count": 98,
      "outputs": [
        {
          "output_type": "stream",
          "text": [
            "\n",
            "balanced val_acc:\n",
            " 0.8464972527472527\n",
            "\n",
            "Confusion Matrix:\n",
            " [[363   0   1   0   0   0   0   0]\n",
            " [  2 352   3   0   0   0   7   0]\n",
            " [  0 101 254   0   0   0   9   0]\n",
            " [  0   0   1 299  62   0   2   0]\n",
            " [  0   0   0 213 151   0   0   0]\n",
            " [  0   0   1   4   0 359   0   0]\n",
            " [  0   8   0  33   0   0 323   0]\n",
            " [  0   0   0   0   0   0   0 364]]\n",
            "\n",
            "Classification Report:\n",
            "               precision    recall  f1-score   support\n",
            "\n",
            "     C10_pos       0.99      1.00      1.00       364\n",
            "      C1_pos       0.76      0.97      0.85       364\n",
            "    C2-3_pos       0.98      0.70      0.81       364\n",
            "    C4-7_pos       0.54      0.82      0.65       364\n",
            "      C5_pos       0.71      0.41      0.52       364\n",
            "      C6_pos       1.00      0.99      0.99       364\n",
            "      C8_pos       0.95      0.89      0.92       364\n",
            "      C9_pos       1.00      1.00      1.00       364\n",
            "\n",
            "    accuracy                           0.85      2912\n",
            "   macro avg       0.87      0.85      0.84      2912\n",
            "weighted avg       0.87      0.85      0.84      2912\n",
            "\n"
          ],
          "name": "stdout"
        }
      ]
    },
    {
      "cell_type": "markdown",
      "metadata": {
        "id": "jxewsvENjVEU",
        "colab_type": "text"
      },
      "source": [
        "### **Download the final 'C1_vs_C2-3_vs_all_other' model from GoogleDrive:**"
      ]
    },
    {
      "cell_type": "code",
      "metadata": {
        "id": "SDUGZ2dvc_ha",
        "colab_type": "code",
        "colab": {
          "base_uri": "https://localhost:8080/",
          "height": 51
        },
        "outputId": "f7f56d31-e67f-4624-a95f-14c2f5448aca"
      },
      "source": [
        "# Authenticate and create the PyDrive client.\n",
        "auth.authenticate_user()\n",
        "gauth = GoogleAuth()\n",
        "gauth.credentials = GoogleCredentials.get_application_default()\n",
        "drive = GoogleDrive(gauth)\n",
        "\n",
        "file_id = '18De1DbqyxD1JlNpue6LIUZXd73VgAN-f' # final model C1 vs C2-3 vs all_other\n",
        "\n",
        "downloaded = drive.CreateFile({'id': file_id})\n",
        "downloaded.GetContentFile(downloaded['title'])\n",
        "print('Downloaded content: \"{}\"'.format(downloaded['title']))\n",
        "print('Root dir content: {}'.format(os.listdir()))\n",
        "model_C1_C2_3 = downloaded['title']"
      ],
      "execution_count": 29,
      "outputs": [
        {
          "output_type": "stream",
          "text": [
            "Downloaded content: \"model_C1_C2-3_08983.h5\"\n",
            "Root dir content: ['.config', 'model_C1_C2-3_08983.h5', 'model_C1_vs_C2-3_0888.h5', 'adc.json', 'model_C4-7_C5_083.h5', 'model_8_classes_08465.h5', 'Control', 'sample_data']\n"
          ],
          "name": "stdout"
        }
      ]
    },
    {
      "cell_type": "markdown",
      "metadata": {
        "id": "HaV6FXuLjmzX",
        "colab_type": "text"
      },
      "source": [
        "#### **Let's load and evaluate 'C1_vs_C2-3_vs_all_other' model, on the validation set and compute relevant metrics:**"
      ]
    },
    {
      "cell_type": "code",
      "metadata": {
        "id": "IFTk-SNXeB6q",
        "colab_type": "code",
        "colab": {}
      },
      "source": [
        "# load model:\n",
        "C1_C2_3_model = load_model(model_C1_C2_3)\n",
        "#C1_C2_3_model.summary() # summarize model."
      ],
      "execution_count": 0,
      "outputs": []
    },
    {
      "cell_type": "code",
      "metadata": {
        "id": "Io-59ijjf6cu",
        "colab_type": "code",
        "colab": {
          "base_uri": "https://localhost:8080/",
          "height": 51
        },
        "outputId": "ea1b2d43-9e1d-41b6-e428-f382418f5de1"
      },
      "source": [
        "# class indices for C1_C2_3_model are as follows:\n",
        "C1_C2_3_model_class_dict = {0:\"C1_pos\", 1:\"C2-3_pos\",2: \"all_other_pos\"}\n",
        "\n",
        "scores = C1_C2_3_model.predict_generator(val_generator)\n",
        "\n",
        "correct = 0\n",
        "for i, img_path in enumerate(val_generator.filenames):\n",
        "    if i >= len(scores):\n",
        "        break\n",
        "    if 'C1_pos' in img_path and np.argmax(scores[i]) == 0:\n",
        "        correct += 1\n",
        "    elif 'C2-3_pos' in img_path and np.argmax(scores[i]) == 1:\n",
        "        correct += 1\n",
        "    elif np.argmax(scores[i]) == 2:\n",
        "        correct += 1\n",
        "\n",
        "print(\"Correct:\", correct, \" Total: \", len(scores))\n",
        "print('accuracy (non-balanced):', correct/len(scores))"
      ],
      "execution_count": 31,
      "outputs": [
        {
          "output_type": "stream",
          "text": [
            "Correct: 2789  Total:  2912\n",
            "accuracy (non-balanced): 0.957760989010989\n"
          ],
          "name": "stdout"
        }
      ]
    },
    {
      "cell_type": "markdown",
      "metadata": {
        "id": "_mrTY-1zkRfB",
        "colab_type": "text"
      },
      "source": [
        "### **Download the final 'C4-7_vs_C5_vs_all_other' model from GoogleDrive:**"
      ]
    },
    {
      "cell_type": "code",
      "metadata": {
        "id": "65T4TDwpkVYc",
        "colab_type": "code",
        "colab": {
          "base_uri": "https://localhost:8080/",
          "height": 51
        },
        "outputId": "9ab2bf6b-9235-472e-b5b1-2ab1c5698f7a"
      },
      "source": [
        "# Authenticate and create the PyDrive client.\n",
        "auth.authenticate_user()\n",
        "gauth = GoogleAuth()\n",
        "gauth.credentials = GoogleCredentials.get_application_default()\n",
        "drive = GoogleDrive(gauth)\n",
        "\n",
        "file_id = '1-4e6W-yR13q3ckpgo8O9QVMTncWITHwg' # model_C4-7_vs_C5_vs_all-other\n",
        "\n",
        "downloaded = drive.CreateFile({'id': file_id})\n",
        "downloaded.GetContentFile(downloaded['title'])\n",
        "print('Downloaded content: \"{}\"'.format(downloaded['title']))\n",
        "print('Root dir content: {}'.format(os.listdir()))\n",
        "model_C4_7_C5 = downloaded['title']"
      ],
      "execution_count": 24,
      "outputs": [
        {
          "output_type": "stream",
          "text": [
            "Downloaded content: \"model_C4-7_C5_083.h5\"\n",
            "Root dir content: ['.config', 'model_C1_vs_C2-3_0888.h5', 'adc.json', 'model_C4-7_C5_083.h5', 'model_8_classes_08465.h5', 'Control', 'sample_data']\n"
          ],
          "name": "stdout"
        }
      ]
    },
    {
      "cell_type": "markdown",
      "metadata": {
        "id": "uS-SafPIkrJ6",
        "colab_type": "text"
      },
      "source": [
        "\n",
        "#### **Let's load and evaluate 'C4-7_vs_C5_vs_all_other' model, on the validation set and compute relevant metrics:**"
      ]
    },
    {
      "cell_type": "code",
      "metadata": {
        "id": "1pZqbKF7kreu",
        "colab_type": "code",
        "colab": {}
      },
      "source": [
        "# load model:\n",
        "C4_7_C5_model = load_model(model_C4_7_C5)\n",
        "#C4_7_C5_model.summary() # summarize model."
      ],
      "execution_count": 0,
      "outputs": []
    },
    {
      "cell_type": "code",
      "metadata": {
        "id": "XoPWYldkkryC",
        "colab_type": "code",
        "colab": {
          "base_uri": "https://localhost:8080/",
          "height": 51
        },
        "outputId": "355796eb-1cd1-4f4c-eae6-3d139f870826"
      },
      "source": [
        "# class indices for C4-7_C5_model are as follows:\n",
        "\n",
        "C4_7_C5_model_class_dict = {0:\"C4-7_pos\", 1:\"C5_pos\",2: \"all_other_pos\"}\n",
        "\n",
        "scores = C4_7_C5_model.predict_generator(val_generator)\n",
        "\n",
        "correct = 0\n",
        "for i, img_path in enumerate(val_generator.filenames):\n",
        "    if i >= len(scores):\n",
        "        break\n",
        "    if 'C4-7_pos' in img_path and np.argmax(scores[i]) == 0:\n",
        "        correct += 1\n",
        "    elif 'C5_pos' in img_path and np.argmax(scores[i]) == 1:\n",
        "        correct += 1\n",
        "    elif np.argmax(scores[i]) == 2:\n",
        "        correct += 1\n",
        "\n",
        "print(\"Correct:\", correct, \" Total: \", len(scores))\n",
        "print('accuracy (non-balanced):', correct/len(scores))"
      ],
      "execution_count": 96,
      "outputs": [
        {
          "output_type": "stream",
          "text": [
            "Correct: 2660  Total:  2912\n",
            "accuracy (non-balanced): 0.9134615384615384\n"
          ],
          "name": "stdout"
        }
      ]
    },
    {
      "cell_type": "markdown",
      "metadata": {
        "id": "O07MTBOvoNuh",
        "colab_type": "text"
      },
      "source": [
        "### **Download Validation ('Control') patches for Positive vs Negative model:**\n",
        "\n",
        "#### *Validation Patches were augmented with Patch_Generator, using 'stride=22' and then balanced by downsampling majority classes, then grouped all positive and all negative repsectively, then downsample again pos vs neg so we can compare accuracy of the Positive Vs Negative model.*\n",
        "\n",
        "###  **NOTE: Validation patches were generated from original, non-preprocessed images. In this way, we will ensure our model perform well at testing time when pre-processing may not be feasible. As example, being able to create masks/image annotation may not be feasible on testing data.**"
      ]
    },
    {
      "cell_type": "code",
      "metadata": {
        "id": "wOxSxLCvoOK4",
        "colab_type": "code",
        "colab": {
          "base_uri": "https://localhost:8080/",
          "height": 71
        },
        "outputId": "c06cd69d-c81d-4306-8194-1b8a0dc5cf1c"
      },
      "source": [
        "# Authenticate and create the PyDrive client.\n",
        "auth.authenticate_user()\n",
        "gauth = GoogleAuth()\n",
        "gauth.credentials = GoogleCredentials.get_application_default()\n",
        "drive = GoogleDrive(gauth)\n",
        "\n",
        "file_id = '1LDbG7uH1dl_lt5FlIZfe3IhDjDol23c9' # Augmented+ balanced pos+neg\n",
        "\n",
        "downloaded = drive.CreateFile({'id': file_id})\n",
        "downloaded.GetContentFile(downloaded['title'])\n",
        "print('Downloaded content: \"{}\"'.format(downloaded['title']))\n",
        "print('Root dir content: {}'.format(os.listdir()))\n",
        "patches_zip = downloaded['title']"
      ],
      "execution_count": 66,
      "outputs": [
        {
          "output_type": "stream",
          "text": [
            "Downloaded content: \"Control _pos_neg.zip\"\n",
            "Root dir content: ['.config', 'model_C1_C2-3_08983.h5', 'model_C1_vs_C2-3_0888.h5', 'Control _pos_vs_neg_128_vs22_minval_1024_yes_cls_balance_yes_pos_neg_balance.zip', 'adc.json', 'model_C4-7_C5_083.h5', 'Control _pos_neg.zip', 'model_8_classes_08465.h5', 'Control', 'sample_data']\n"
          ],
          "name": "stdout"
        }
      ]
    },
    {
      "cell_type": "markdown",
      "metadata": {
        "id": "c5SBXTW-pcta",
        "colab_type": "text"
      },
      "source": [
        "### **Unzip the Validation ('Control') pos vs neg patches:**"
      ]
    },
    {
      "cell_type": "code",
      "metadata": {
        "id": "dsA801YOoO2p",
        "colab_type": "code",
        "colab": {
          "base_uri": "https://localhost:8080/",
          "height": 54
        },
        "outputId": "808002ba-e290-4dc5-e116-703a129cbe52"
      },
      "source": [
        "# Remove 'Patches' dir if it already exists\n",
        "if 'Control _pos_neg' in os.listdir():\n",
        "  shutil.rmtree('./Control _pos_neg')\n",
        "with zipfile.ZipFile(patches_zip,\"r\") as zip:\n",
        "    zip.extractall()\n",
        "os.remove(downloaded['title'])\n",
        "print('Root dir content: {}'.format(os.listdir()))"
      ],
      "execution_count": 67,
      "outputs": [
        {
          "output_type": "stream",
          "text": [
            "Root dir content: ['.config', 'model_C1_C2-3_08983.h5', 'model_C1_vs_C2-3_0888.h5', 'Control _pos_vs_neg_128_vs22_minval_1024_yes_cls_balance_yes_pos_neg_balance.zip', 'adc.json', 'model_C4-7_C5_083.h5', 'Control _pos_neg', 'model_8_classes_08465.h5', 'Control', 'sample_data']\n"
          ],
          "name": "stdout"
        }
      ]
    },
    {
      "cell_type": "markdown",
      "metadata": {
        "id": "pCjEmfVSrZI-",
        "colab_type": "text"
      },
      "source": [
        "### **Let's count patches by class:**"
      ]
    },
    {
      "cell_type": "code",
      "metadata": {
        "id": "1uVsD4pAoPf_",
        "colab_type": "code",
        "colab": {
          "base_uri": "https://localhost:8080/",
          "height": 34
        },
        "outputId": "018b9249-8ace-4ad6-d84d-eb034395a849"
      },
      "source": [
        "pos_folder = 'Control _pos_neg/Control/pos'\n",
        "neg_folder = 'Control _pos_neg/Control/neg'\n",
        "n_pos = len(os.listdir(pos_folder))\n",
        "n_neg = len(os.listdir(neg_folder))\n",
        "total = n_pos + n_neg\n",
        "print('total: {} = {} positive + {} negative'.format(total,n_pos,n_neg))"
      ],
      "execution_count": 78,
      "outputs": [
        {
          "output_type": "stream",
          "text": [
            "total: 7420 = 3710 positive + 3710 negative\n"
          ],
          "name": "stdout"
        }
      ]
    },
    {
      "cell_type": "markdown",
      "metadata": {
        "id": "6FmTxsiwtJfg",
        "colab_type": "text"
      },
      "source": [
        "#### **Let's build the validation generator, using keras.preprocessing.image.ImageDataGenerator, rescaling image pixel values from [0,  255] to [0, 1]:**"
      ]
    },
    {
      "cell_type": "code",
      "metadata": {
        "id": "gXllkd1ZoPyB",
        "colab_type": "code",
        "colab": {
          "base_uri": "https://localhost:8080/",
          "height": 34
        },
        "outputId": "b25db271-3ca9-4ed6-c304-25a94e913e2e"
      },
      "source": [
        "img = plt.imread(pos_folder + '/' + os.listdir(pos_folder)[:5][0])\n",
        "img_size = img.shape\n",
        "val_batch_size = 64\n",
        "\n",
        "pos_neg_val_datagen = ImageDataGenerator(rescale=1./255)\n",
        "\n",
        "pos_neg_val_generator = pos_neg_val_datagen.flow_from_directory(\n",
        "        'Control _pos_neg/Control',\n",
        "        target_size=(img_size[0],img_size[1]),\n",
        "        batch_size=val_batch_size,\n",
        "        class_mode='categorical',\n",
        "        shuffle=False)"
      ],
      "execution_count": 79,
      "outputs": [
        {
          "output_type": "stream",
          "text": [
            "Found 7420 images belonging to 2 classes.\n"
          ],
          "name": "stdout"
        }
      ]
    },
    {
      "cell_type": "markdown",
      "metadata": {
        "id": "httS4FBOt1Y6",
        "colab_type": "text"
      },
      "source": [
        "#### **Let's check what is the data generators' index for each class:**"
      ]
    },
    {
      "cell_type": "code",
      "metadata": {
        "id": "f0I3bJjEuDkp",
        "colab_type": "code",
        "colab": {
          "base_uri": "https://localhost:8080/",
          "height": 85
        },
        "outputId": "11bc4df6-9e85-4930-e62c-201897cc1026"
      },
      "source": [
        "print('validation_generator.class_indices:', str(json.dumps(pos_neg_val_generator.class_indices, indent=2, default=str)))"
      ],
      "execution_count": 82,
      "outputs": [
        {
          "output_type": "stream",
          "text": [
            "validation_generator.class_indices: {\n",
            "  \"neg\": 0,\n",
            "  \"pos\": 1\n",
            "}\n"
          ],
          "name": "stdout"
        }
      ]
    },
    {
      "cell_type": "markdown",
      "metadata": {
        "id": "_PMMxLlLuWSx",
        "colab_type": "text"
      },
      "source": [
        "### **Download the final 'Positive vs Negative' model from GoogleDrive:**"
      ]
    },
    {
      "cell_type": "code",
      "metadata": {
        "id": "U9BC7fHhuG6c",
        "colab_type": "code",
        "colab": {
          "base_uri": "https://localhost:8080/",
          "height": 71
        },
        "outputId": "edceaec5-4652-4a52-8fe8-ad8b85497d84"
      },
      "source": [
        "# Authenticate and create the PyDrive client.\n",
        "auth.authenticate_user()\n",
        "gauth = GoogleAuth()\n",
        "gauth.credentials = GoogleCredentials.get_application_default()\n",
        "drive = GoogleDrive(gauth)\n",
        "\n",
        "file_id = '1-BxPnguFXE7PHmzKadW0AnwWO9VqTywR' # model pos-neg\n",
        "\n",
        "downloaded = drive.CreateFile({'id': file_id})\n",
        "downloaded.GetContentFile(downloaded['title'])\n",
        "print('Downloaded content: \"{}\"'.format(downloaded['title']))\n",
        "print('Root dir content: {}'.format(os.listdir()))\n",
        "pos_vs_neg = downloaded['title']"
      ],
      "execution_count": 93,
      "outputs": [
        {
          "output_type": "stream",
          "text": [
            "Downloaded content: \"model_pos_neg_2.h5\"\n",
            "Root dir content: ['.config', 'model_C1_C2-3_08983.h5', 'model_C1_vs_C2-3_0888.h5', 'model_pos_neg_2.h5', 'adc.json', 'model_C4-7_C5_083.h5', 'Control _pos_neg', 'model_8_classes_08465.h5', 'model_pos_neg.h5', 'Control', 'sample_data']\n"
          ],
          "name": "stdout"
        }
      ]
    },
    {
      "cell_type": "markdown",
      "metadata": {
        "id": "BaSIcz95vG78",
        "colab_type": "text"
      },
      "source": [
        "#### **Let's load and evaluate 'Positive vs Negative' model, on the validation set and compute relevant metrics:**"
      ]
    },
    {
      "cell_type": "code",
      "metadata": {
        "id": "BCUFlC4cuHNz",
        "colab_type": "code",
        "colab": {}
      },
      "source": [
        "# load model:\n",
        "pos_vs_neg_model = load_model(pos_vs_neg)\n",
        "#pos_vs_neg_C5_model.summary() # summarize model."
      ],
      "execution_count": 0,
      "outputs": []
    },
    {
      "cell_type": "code",
      "metadata": {
        "id": "kPihsRMXuHdo",
        "colab_type": "code",
        "colab": {
          "base_uri": "https://localhost:8080/",
          "height": 323
        },
        "outputId": "fee4d48b-bf41-4250-8d27-104b2ec0d3c0"
      },
      "source": [
        "## Evaluate model on balanced validation patches:\n",
        "\n",
        "y_true = pos_neg_val_generator.classes\n",
        "Y_pred = pos_vs_neg_model.predict_generator(pos_neg_val_generator)\n",
        "y_pred = np.argmax(Y_pred, axis=1)\n",
        "\n",
        "val_acc = accuracy_score(y_true, y_pred)\n",
        "cm = confusion_matrix(y_true, y_pred)\n",
        "class_names = [k for k in pos_neg_val_generator.class_indices]\n",
        "c_report = classification_report(y_true, y_pred, target_names=class_names)\n",
        "\n",
        "print('\\nbalanced val_acc:\\n', val_acc)\n",
        "print('\\nConfusion Matrix:\\n', cm)\n",
        "print('\\nClassification Report:\\n', c_report)"
      ],
      "execution_count": 97,
      "outputs": [
        {
          "output_type": "stream",
          "text": [
            "\n",
            "balanced val_acc:\n",
            " 0.9973045822102425\n",
            "\n",
            "Confusion Matrix:\n",
            " [[3690   20]\n",
            " [   0 3710]]\n",
            "\n",
            "Classification Report:\n",
            "               precision    recall  f1-score   support\n",
            "\n",
            "         neg       1.00      0.99      1.00      3710\n",
            "         pos       0.99      1.00      1.00      3710\n",
            "\n",
            "    accuracy                           1.00      7420\n",
            "   macro avg       1.00      1.00      1.00      7420\n",
            "weighted avg       1.00      1.00      1.00      7420\n",
            "\n"
          ],
          "name": "stdout"
        }
      ]
    }
  ]
}