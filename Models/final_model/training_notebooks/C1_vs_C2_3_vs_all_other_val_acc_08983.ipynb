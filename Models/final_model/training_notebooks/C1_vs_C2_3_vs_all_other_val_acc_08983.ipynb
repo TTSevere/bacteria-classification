{
  "nbformat": 4,
  "nbformat_minor": 0,
  "metadata": {
    "colab": {
      "name": "Model C1 vs C2-3 vs all_other.ipynb",
      "provenance": [],
      "collapsed_sections": [],
      "machine_shape": "hm"
    },
    "kernelspec": {
      "name": "python3",
      "display_name": "Python 3"
    },
    "accelerator": "GPU"
  },
  "cells": [
    {
      "cell_type": "markdown",
      "metadata": {
        "id": "9725RbwsB_ja",
        "colab_type": "text"
      },
      "source": [
        "###  <span style=\"color:red\">**This Notebook can be run from Google Colab:**</span>\n",
        "\n",
        "https://colab.research.google.com"
      ]
    },
    {
      "cell_type": "code",
      "metadata": {
        "id": "Ks-1Im7ECAim",
        "colab_type": "code",
        "colab": {}
      },
      "source": [
        "import numpy as np\n",
        "import matplotlib.pyplot as plt\n",
        "%matplotlib inline\n",
        "import os\n",
        "import zipfile\n",
        "import shutil\n",
        "from google.colab import files\n",
        "import json\n",
        "import time\n",
        "import pandas as pd\n",
        "\n",
        "import keras\n",
        "from keras.models import Model, Sequential, load_model\n",
        "from keras.applications.resnet50 import ResNet50\n",
        "from keras.layers import Input, Dense, Activation, Dropout, BatchNormalization,\\\n",
        "                          Conv2D, MaxPooling2D, Flatten, AveragePooling2D,\\\n",
        "                          GlobalAveragePooling2D, ZeroPadding2D\n",
        "from keras.initializers import glorot_uniform\n",
        "from keras import regularizers\n",
        "from keras.preprocessing.image import ImageDataGenerator\n",
        "from keras.optimizers import RMSprop, Adam, Adamax, Nadam, SGD\n",
        "from keras.callbacks import EarlyStopping, ReduceLROnPlateau, ModelCheckpoint\n",
        "\n",
        "from sklearn.metrics import roc_auc_score, accuracy_score, confusion_matrix, \\\n",
        "                            classification_report\n",
        "\n",
        "# Import PyDrive and associated libraries (to connect with GoogleDrive)\n",
        "from pydrive.auth import GoogleAuth\n",
        "from pydrive.drive import GoogleDrive\n",
        "from google.colab import auth\n",
        "from oauth2client.client import GoogleCredentials\n",
        "\n",
        "# disable warnings\n",
        "import warnings\n",
        "warnings.simplefilter(\"ignore\")\n",
        "os.environ['TF_CPP_MIN_LOG_LEVEL'] = '3' "
      ],
      "execution_count": 0,
      "outputs": []
    },
    {
      "cell_type": "markdown",
      "metadata": {
        "id": "DItexGaqdfEA",
        "colab_type": "text"
      },
      "source": [
        "### **Check if we are using GPU:**"
      ]
    },
    {
      "cell_type": "code",
      "metadata": {
        "id": "vn7AYx74dNq6",
        "colab_type": "code",
        "outputId": "2a97e962-1577-42ba-875a-87124770b23a",
        "colab": {
          "base_uri": "https://localhost:8080/",
          "height": 34
        }
      },
      "source": [
        "from keras import backend as K\n",
        "if K.backend() == \"tensorflow\":\n",
        "    import tensorflow as tf\n",
        "    device_name = tf.test.gpu_device_name()\n",
        "    if device_name == '':\n",
        "        device_name = \"None\"\n",
        "    print('Using TensorFlow version:', tf.__version__, ', GPU:', device_name)"
      ],
      "execution_count": 0,
      "outputs": [
        {
          "output_type": "stream",
          "text": [
            "Using TensorFlow version: 1.15.0 , GPU: /device:GPU:0\n"
          ],
          "name": "stdout"
        }
      ]
    },
    {
      "cell_type": "markdown",
      "metadata": {
        "id": "QQXfhMrHlqrz",
        "colab_type": "text"
      },
      "source": [
        "### **Download Patches from GoogleDrive:**"
      ]
    },
    {
      "cell_type": "code",
      "metadata": {
        "id": "ACvUlEucnnY0",
        "colab_type": "code",
        "outputId": "3700e672-7b83-48df-f7c4-851dbc8966b8",
        "colab": {
          "base_uri": "https://localhost:8080/",
          "height": 71
        }
      },
      "source": [
        "# Authenticate and create the PyDrive client.\n",
        "auth.authenticate_user()\n",
        "gauth = GoogleAuth()\n",
        "gauth.credentials = GoogleCredentials.get_application_default()\n",
        "drive = GoogleDrive(gauth)\n",
        "\n",
        "file_id = '1SM1aFESHTvMJa2bx3X6cd6HAwwYY3gPI' #NEW 128x128_s60_no border_minpospix_1250 minposval_1024 ROTATE_EVERY_45\n",
        "\n",
        "downloaded = drive.CreateFile({'id': file_id})\n",
        "downloaded.GetContentFile(downloaded['title'])\n",
        "print('Downloaded content: \"{}\"'.format(downloaded['title']))\n",
        "print('Root dir content: {}'.format(os.listdir()))"
      ],
      "execution_count": 0,
      "outputs": [
        {
          "output_type": "stream",
          "text": [
            "Downloaded content: \"Patches_new_128_s60_vs22_min1250_minval_1024_pos_only_no_border_nonNeg_rot_every_45_balanced_train-val.zip\"\n",
            "Root dir content: ['.config', 'Patches', 'gdrive', 'adc.json', 'base_model.h5', 'Patches_new_128_s60_vs22_min1250_minval_1024_pos_only_no_border_nonNeg_rot_every_45_balanced_train-val.zip', 'sample_data']\n"
          ],
          "name": "stdout"
        }
      ]
    },
    {
      "cell_type": "markdown",
      "metadata": {
        "id": "HSdGQav-qEJM",
        "colab_type": "text"
      },
      "source": [
        "### **Unzip the Patches:**"
      ]
    },
    {
      "cell_type": "code",
      "metadata": {
        "id": "jP1-2THkn47w",
        "colab_type": "code",
        "outputId": "2de1f88b-78d3-4e95-f851-e7739448d4aa",
        "colab": {
          "base_uri": "https://localhost:8080/",
          "height": 34
        }
      },
      "source": [
        "# Remove 'Patches' dir if it already exists\n",
        "if 'Patches' in os.listdir():\n",
        "  shutil.rmtree('./Patches')\n",
        "with zipfile.ZipFile(downloaded['title'],\"r\") as zip:\n",
        "    zip.extractall()\n",
        "os.remove(downloaded['title'])\n",
        "print('Root dir content: {}'.format(os.listdir()))"
      ],
      "execution_count": 0,
      "outputs": [
        {
          "output_type": "stream",
          "text": [
            "Root dir content: ['.config', 'Patches', 'gdrive', 'adc.json', 'base_model.h5', 'sample_data']\n"
          ],
          "name": "stdout"
        }
      ]
    },
    {
      "cell_type": "markdown",
      "metadata": {
        "id": "nd7htfD3rJ6V",
        "colab_type": "text"
      },
      "source": [
        "### **Let's count patches by type and class:**"
      ]
    },
    {
      "cell_type": "code",
      "metadata": {
        "id": "DjJy7FFsvm5H",
        "colab_type": "code",
        "outputId": "0b97f86a-038f-43a4-8cd7-9287f75cf693",
        "colab": {
          "base_uri": "https://localhost:8080/",
          "height": 612
        }
      },
      "source": [
        "class_weights = {} # empty dictionary to store class weights\n",
        "classes = ['C1','C2-3','C4-7','C5','C6','C8','C9','C10']\n",
        "\n",
        "grand_total, pos_total, neg_total = 0, 0, 0\n",
        "for type in ['Serial', 'Control', 'Streak']:\n",
        "    print(\"\\nTotal '{}' Patches per location:\".format(type))\n",
        "    n_type, type_pos, type_neg = 0, 0, 0\n",
        "    class_weights[type] = {} # nested empty dictionary to store class weights\n",
        "    class_weights[type]['pos'] = {} # nested dictionary to store class weights\n",
        "    class_weights[type]['neg'] = {} # nested dictionary to store class weights\n",
        "    for cls in classes:\n",
        "        pos_folder = './Patches/Positive/{}/{}_pos'.format(type,cls)\n",
        "        neg_folder = './Patches/Negative/{}/{}_neg'.format(type,cls)\n",
        "        n_pos = len(os.listdir(pos_folder))\n",
        "        n_neg = len(os.listdir(neg_folder))\n",
        "        total = n_pos + n_neg\n",
        "        n_type += total\n",
        "        type_pos += n_pos\n",
        "        type_neg += n_neg\n",
        "        print('total_{}: {} = {} positive + {} negative'.format(cls,total,n_pos,n_neg))\n",
        "        class_weights[type]['pos']['{}'.format(cls)] = 1/n_pos if n_pos else 0\n",
        "        class_weights[type]['neg']['{}'.format(cls)] = 1/n_neg if n_neg else 0\n",
        "    print('Total {}: {} = {} positive + {} negative'.format(type,n_type,type_pos,type_neg))\n",
        "    for loc in class_weights[type]['pos'].keys():\n",
        "        class_weights[type]['pos'][loc] *= type_pos\n",
        "    for loc in class_weights[type]['neg'].keys():\n",
        "        class_weights[type]['neg'][loc] *= type_neg\n",
        "    grand_total += n_type\n",
        "    pos_total += type_pos\n",
        "    neg_total += type_neg\n",
        "print('\\nGRAND TOTAL: {} = {} positive + {} negative'.format(grand_total,pos_total,neg_total))"
      ],
      "execution_count": 0,
      "outputs": [
        {
          "output_type": "stream",
          "text": [
            "\n",
            "Total 'Serial' Patches per location:\n",
            "total_C1: 5998 = 5998 positive + 0 negative\n",
            "total_C2-3: 5998 = 5998 positive + 0 negative\n",
            "total_C4-7: 5998 = 5998 positive + 0 negative\n",
            "total_C5: 5998 = 5998 positive + 0 negative\n",
            "total_C6: 5998 = 5998 positive + 0 negative\n",
            "total_C8: 5998 = 5998 positive + 0 negative\n",
            "total_C9: 4100 = 4100 positive + 0 negative\n",
            "total_C10: 5998 = 5998 positive + 0 negative\n",
            "Total Serial: 46086 = 46086 positive + 0 negative\n",
            "\n",
            "Total 'Control' Patches per location:\n",
            "total_C1: 364 = 364 positive + 0 negative\n",
            "total_C2-3: 364 = 364 positive + 0 negative\n",
            "total_C4-7: 364 = 364 positive + 0 negative\n",
            "total_C5: 364 = 364 positive + 0 negative\n",
            "total_C6: 364 = 364 positive + 0 negative\n",
            "total_C8: 364 = 364 positive + 0 negative\n",
            "total_C9: 364 = 364 positive + 0 negative\n",
            "total_C10: 364 = 364 positive + 0 negative\n",
            "Total Control: 2912 = 2912 positive + 0 negative\n",
            "\n",
            "Total 'Streak' Patches per location:\n",
            "total_C1: 0 = 0 positive + 0 negative\n",
            "total_C2-3: 0 = 0 positive + 0 negative\n",
            "total_C4-7: 0 = 0 positive + 0 negative\n",
            "total_C5: 0 = 0 positive + 0 negative\n",
            "total_C6: 0 = 0 positive + 0 negative\n",
            "total_C8: 0 = 0 positive + 0 negative\n",
            "total_C9: 0 = 0 positive + 0 negative\n",
            "total_C10: 0 = 0 positive + 0 negative\n",
            "Total Streak: 0 = 0 positive + 0 negative\n",
            "\n",
            "GRAND TOTAL: 48998 = 48998 positive + 0 negative\n"
          ],
          "name": "stdout"
        }
      ]
    },
    {
      "cell_type": "markdown",
      "metadata": {
        "id": "TLfSmpKFPLFu",
        "colab_type": "text"
      },
      "source": [
        "### **Let's downsample training ('Serial') classes to no more than the minimum between 'C1' and 'C2-3':**"
      ]
    },
    {
      "cell_type": "code",
      "metadata": {
        "id": "IPt4zNrWPJed",
        "colab_type": "code",
        "outputId": "e8278397-1205-4f2f-ab50-c8aa03515265",
        "colab": {
          "base_uri": "https://localhost:8080/",
          "height": 391
        }
      },
      "source": [
        "train_type = 'Serial'\n",
        "print('Before downsampling training patches:')\n",
        "totals = {}\n",
        "n_type, type_pos, type_neg = 0, 0, 0\n",
        "for cls in classes:\n",
        "    pos_folder = './Patches/Positive/{}/{}_pos'.format(train_type,cls)\n",
        "    neg_folder = './Patches/Negative/{}/{}_neg'.format(train_type,cls)\n",
        "    n_pos = len(os.listdir(pos_folder))\n",
        "    n_neg = len(os.listdir(neg_folder))\n",
        "    total = n_pos + n_neg\n",
        "    n_type += total\n",
        "    type_pos += n_pos\n",
        "    type_neg += n_neg\n",
        "    print('total_{}: {} = {} positive + {} negative'.format(cls,total,n_pos,n_neg))\n",
        "    totals['{}'.format(cls)] = n_pos if n_pos else 0\n",
        "print('Total {}: {} = {} positive + {} negative\\n'.format(train_type,n_type,type_pos,type_neg))\n",
        "\n",
        "if totals['C1'] < totals['C2-3']:\n",
        "    minority = 'C1'\n",
        "else:\n",
        "    minority = 'C2-3'\n",
        "n_min = totals[minority]\n",
        "for key, value in totals.items():\n",
        "    #if key != minority and key not in ['C1','C2-3']:\n",
        "    if key != minority:\n",
        "        n_to_delete = max(value-n_min, 0)\n",
        "        root = './Patches/Positive/{}/{}_pos/'.format(train_type,key)\n",
        "        patches = os.listdir(root)\n",
        "        patches_to_delete = np.random.choice(patches, n_to_delete, replace=False)\n",
        "        for patch in patches_to_delete:\n",
        "            pass\n",
        "            os.remove(root + patch)\n",
        "\n",
        "print('After downsampling validation patches:')\n",
        "totals = {}\n",
        "n_type, type_pos, type_neg = 0, 0, 0\n",
        "for cls in classes:\n",
        "    pos_folder = './Patches/Positive/{}/{}_pos'.format(train_type,cls)\n",
        "    neg_folder = './Patches/Negative/{}/{}_neg'.format(train_type,cls)\n",
        "    n_pos = len(os.listdir(pos_folder))\n",
        "    n_neg = len(os.listdir(neg_folder))\n",
        "    total = n_pos + n_neg\n",
        "    n_type += total\n",
        "    type_pos += n_pos\n",
        "    type_neg += n_neg\n",
        "    print('total_{}: {} = {} positive + {} negative'.format(cls,total,n_pos,n_neg))\n",
        "    totals['{}'.format(cls)] = n_pos if n_pos else 0\n",
        "print('Total {}: {} = {} positive + {} negative\\n'.format(train_type,n_type,type_pos,type_neg))"
      ],
      "execution_count": 0,
      "outputs": [
        {
          "output_type": "stream",
          "text": [
            "Before downsampling training patches:\n",
            "total_C1: 5998 = 5998 positive + 0 negative\n",
            "total_C2-3: 5998 = 5998 positive + 0 negative\n",
            "total_C4-7: 5998 = 5998 positive + 0 negative\n",
            "total_C5: 5998 = 5998 positive + 0 negative\n",
            "total_C6: 5998 = 5998 positive + 0 negative\n",
            "total_C8: 5998 = 5998 positive + 0 negative\n",
            "total_C9: 4100 = 4100 positive + 0 negative\n",
            "total_C10: 5998 = 5998 positive + 0 negative\n",
            "Total Serial: 46086 = 46086 positive + 0 negative\n",
            "\n",
            "After downsampling validation patches:\n",
            "total_C1: 5998 = 5998 positive + 0 negative\n",
            "total_C2-3: 5998 = 5998 positive + 0 negative\n",
            "total_C4-7: 5998 = 5998 positive + 0 negative\n",
            "total_C5: 5998 = 5998 positive + 0 negative\n",
            "total_C6: 5998 = 5998 positive + 0 negative\n",
            "total_C8: 5998 = 5998 positive + 0 negative\n",
            "total_C9: 4100 = 4100 positive + 0 negative\n",
            "total_C10: 5998 = 5998 positive + 0 negative\n",
            "Total Serial: 46086 = 46086 positive + 0 negative\n",
            "\n"
          ],
          "name": "stdout"
        }
      ]
    },
    {
      "cell_type": "markdown",
      "metadata": {
        "id": "e8a8ZcfKKvw5",
        "colab_type": "text"
      },
      "source": [
        "### **Let's move all patches for classes other than C1 or C2-3, to a single folder called 'all_other':**"
      ]
    },
    {
      "cell_type": "code",
      "metadata": {
        "id": "Dz9V2uuxLM50",
        "colab_type": "code",
        "colab": {}
      },
      "source": [
        "for patch_type in ['Positive','Negative']:\n",
        "    if patch_type == 'Positive': sufix = '_pos'\n",
        "    if patch_type == 'Negative': sufix = '_neg'\n",
        "    for type_ in ['Serial', 'Control', 'Streak']:\n",
        "        folder = './Patches/{}/{}/'.format(patch_type,type_)\n",
        "        if 'all_other' + sufix not in os.listdir(folder):\n",
        "            dest = folder + 'all_other' + sufix\n",
        "            os.mkdir(dest)\n",
        "\n",
        "        for cls in classes:\n",
        "            if cls in ['C1','C2-3']: continue\n",
        "            cls_folder = folder + cls + sufix\n",
        "            for patch in os.listdir(cls_folder):\n",
        "                source = cls_folder + '/' + patch\n",
        "                shutil.move(source, dest)\n",
        "            shutil.rmtree(cls_folder)"
      ],
      "execution_count": 0,
      "outputs": []
    },
    {
      "cell_type": "markdown",
      "metadata": {
        "id": "1sPAFxK7REM7",
        "colab_type": "text"
      },
      "source": [
        "### **Let's count patches by type and class again:**"
      ]
    },
    {
      "cell_type": "code",
      "metadata": {
        "id": "WmKlpYPZRE-_",
        "colab_type": "code",
        "outputId": "9cd4a9d2-12f9-4727-852c-c94ff6768310",
        "colab": {
          "base_uri": "https://localhost:8080/",
          "height": 357
        }
      },
      "source": [
        "class_weights = {} # empty dictionary to store class weights\n",
        "classes = ['C1','C2-3','all_other']\n",
        "grand_total, pos_total, neg_total = 0, 0, 0\n",
        "\n",
        "for type in ['Serial', 'Control', 'Streak']:\n",
        "    print(\"\\nTotal '{}' Patches per location:\".format(type))\n",
        "    n_type, type_pos, type_neg = 0, 0, 0\n",
        "    class_weights[type] = {} # nested empty dictionary to store class weights\n",
        "    class_weights[type]['pos'] = {} # nested dictionary to store class weights\n",
        "    class_weights[type]['neg'] = {} # nested dictionary to store class weights\n",
        "    for cls in classes:\n",
        "        pos_folder = './Patches/Positive/{}/{}_pos'.format(type,cls)\n",
        "        neg_folder = './Patches/Negative/{}/{}_neg'.format(type,cls)\n",
        "        n_pos = len(os.listdir(pos_folder))\n",
        "        n_neg = len(os.listdir(neg_folder))\n",
        "        total = n_pos + n_neg\n",
        "        n_type += total\n",
        "        type_pos += n_pos\n",
        "        type_neg += n_neg\n",
        "        print('total_{}: {} = {} positive + {} negative'.format(cls,total,n_pos,n_neg))\n",
        "        class_weights[type]['pos']['{}'.format(cls)] = 1/n_pos if n_pos else 0\n",
        "        class_weights[type]['neg']['{}'.format(cls)] = 1/n_neg if n_neg else 0\n",
        "    print('Total {}: {} = {} positive + {} negative'.format(type,n_type,type_pos,type_neg))\n",
        "    for loc in class_weights[type]['pos'].keys():\n",
        "        class_weights[type]['pos'][loc] *= type_pos\n",
        "    for loc in class_weights[type]['neg'].keys():\n",
        "        class_weights[type]['neg'][loc] *= type_neg\n",
        "    grand_total += n_type\n",
        "    pos_total += type_pos\n",
        "    neg_total += type_neg\n",
        "print('\\nGRAND TOTAL: {} = {} positive + {} negative'.format(grand_total,pos_total,neg_total))"
      ],
      "execution_count": 0,
      "outputs": [
        {
          "output_type": "stream",
          "text": [
            "\n",
            "Total 'Serial' Patches per location:\n",
            "total_C1: 5998 = 5998 positive + 0 negative\n",
            "total_C2-3: 5998 = 5998 positive + 0 negative\n",
            "total_all_other: 34090 = 34090 positive + 0 negative\n",
            "Total Serial: 46086 = 46086 positive + 0 negative\n",
            "\n",
            "Total 'Control' Patches per location:\n",
            "total_C1: 364 = 364 positive + 0 negative\n",
            "total_C2-3: 364 = 364 positive + 0 negative\n",
            "total_all_other: 2184 = 2184 positive + 0 negative\n",
            "Total Control: 2912 = 2912 positive + 0 negative\n",
            "\n",
            "Total 'Streak' Patches per location:\n",
            "total_C1: 0 = 0 positive + 0 negative\n",
            "total_C2-3: 0 = 0 positive + 0 negative\n",
            "total_all_other: 0 = 0 positive + 0 negative\n",
            "Total Streak: 0 = 0 positive + 0 negative\n",
            "\n",
            "GRAND TOTAL: 48998 = 48998 positive + 0 negative\n"
          ],
          "name": "stdout"
        }
      ]
    },
    {
      "cell_type": "markdown",
      "metadata": {
        "id": "Vb9BMr39R9LH",
        "colab_type": "text"
      },
      "source": [
        "### **Since we want to focus on 'C1' and 'C2-3', let's downsample again:**"
      ]
    },
    {
      "cell_type": "code",
      "metadata": {
        "id": "31ZsitULR-Ap",
        "colab_type": "code",
        "outputId": "be9d5dd2-982a-4bbe-fc40-d6a0a7603b34",
        "colab": {
          "base_uri": "https://localhost:8080/",
          "height": 221
        }
      },
      "source": [
        "train_type = 'Serial'\n",
        "print('Before downsampling training patches:')\n",
        "totals = {}\n",
        "n_type, type_pos, type_neg = 0, 0, 0\n",
        "for cls in classes:\n",
        "    pos_folder = './Patches/Positive/{}/{}_pos'.format(train_type,cls)\n",
        "    neg_folder = './Patches/Negative/{}/{}_neg'.format(train_type,cls)\n",
        "    n_pos = len(os.listdir(pos_folder))\n",
        "    n_neg = len(os.listdir(neg_folder))\n",
        "    total = n_pos + n_neg\n",
        "    n_type += total\n",
        "    type_pos += n_pos\n",
        "    type_neg += n_neg\n",
        "    print('total_{}: {} = {} positive + {} negative'.format(cls,total,n_pos,n_neg))\n",
        "    totals['{}'.format(cls)] = n_pos if n_pos else 0\n",
        "print('Total {}: {} = {} positive + {} negative\\n'.format(train_type,n_type,type_pos,type_neg))\n",
        "\n",
        "minority = min(totals, key=totals.get)\n",
        "n_min = totals[minority]\n",
        "for key, value in totals.items():\n",
        "    if key != minority and key not in ['C1','C2-3']:\n",
        "        n_to_delete = value - n_min\n",
        "        root = './Patches/Positive/{}/{}_pos/'.format(train_type,key)\n",
        "        patches = os.listdir(root)\n",
        "        patches_to_delete = np.random.choice(patches, n_to_delete, replace=False)\n",
        "        for patch in patches_to_delete:\n",
        "            pass\n",
        "            os.remove(root + patch)\n",
        "\n",
        "print('After downsampling validation patches:')\n",
        "totals = {}\n",
        "n_type, type_pos, type_neg = 0, 0, 0\n",
        "for cls in classes:\n",
        "    pos_folder = './Patches/Positive/{}/{}_pos'.format(train_type,cls)\n",
        "    neg_folder = './Patches/Negative/{}/{}_neg'.format(train_type,cls)\n",
        "    n_pos = len(os.listdir(pos_folder))\n",
        "    n_neg = len(os.listdir(neg_folder))\n",
        "    total = n_pos + n_neg\n",
        "    n_type += total\n",
        "    type_pos += n_pos\n",
        "    type_neg += n_neg\n",
        "    print('total_{}: {} = {} positive + {} negative'.format(cls,total,n_pos,n_neg))\n",
        "    class_weights[train_type]['pos']['{}'.format(cls)] = 1/n_pos if n_pos else 0\n",
        "    totals['{}'.format(cls)] = n_pos if n_pos else 0\n",
        "print('Total {}: {} = {} positive + {} negative\\n'.format(train_type,n_type,type_pos,type_neg))\n",
        "for loc in class_weights[train_type]['pos'].keys():\n",
        "    class_weights[train_type]['pos'][loc] *= type_pos"
      ],
      "execution_count": 0,
      "outputs": [
        {
          "output_type": "stream",
          "text": [
            "Before downsampling training patches:\n",
            "total_C1: 5998 = 5998 positive + 0 negative\n",
            "total_C2-3: 5998 = 5998 positive + 0 negative\n",
            "total_all_other: 34090 = 34090 positive + 0 negative\n",
            "Total Serial: 46086 = 46086 positive + 0 negative\n",
            "\n",
            "After downsampling validation patches:\n",
            "total_C1: 5998 = 5998 positive + 0 negative\n",
            "total_C2-3: 5998 = 5998 positive + 0 negative\n",
            "total_all_other: 5998 = 5998 positive + 0 negative\n",
            "Total Serial: 17994 = 17994 positive + 0 negative\n",
            "\n"
          ],
          "name": "stdout"
        }
      ]
    },
    {
      "cell_type": "markdown",
      "metadata": {
        "id": "_pnI1G0ywLOp",
        "colab_type": "text"
      },
      "source": [
        "#### **Since we still have slightly imbalanced training data, we have set different class weights to give more importance to the minority classes:**"
      ]
    },
    {
      "cell_type": "code",
      "metadata": {
        "id": "zCcbwQX7mKQq",
        "colab_type": "code",
        "outputId": "c50288da-5be1-47bd-f625-021a619b3a14",
        "colab": {
          "base_uri": "https://localhost:8080/",
          "height": 221
        }
      },
      "source": [
        "print('Class Weights:', str(json.dumps(class_weights['Serial'], indent=2, default=str)))"
      ],
      "execution_count": 0,
      "outputs": [
        {
          "output_type": "stream",
          "text": [
            "Class Weights: {\n",
            "  \"pos\": {\n",
            "    \"C1\": 3.0,\n",
            "    \"C2-3\": 3.0,\n",
            "    \"all_other\": 3.0\n",
            "  },\n",
            "  \"neg\": {\n",
            "    \"C1\": 0,\n",
            "    \"C2-3\": 0,\n",
            "    \"all_other\": 0\n",
            "  }\n",
            "}\n"
          ],
          "name": "stdout"
        }
      ]
    },
    {
      "cell_type": "markdown",
      "metadata": {
        "id": "i2gctgbsF-fF",
        "colab_type": "text"
      },
      "source": [
        "### **Let's downsample positive majority classes in validation ('Control')patches**"
      ]
    },
    {
      "cell_type": "code",
      "metadata": {
        "id": "tJETu-bSF_R8",
        "colab_type": "code",
        "outputId": "ad0dc600-33b7-44a9-ebe6-eb2765959261",
        "colab": {
          "base_uri": "https://localhost:8080/",
          "height": 221
        }
      },
      "source": [
        "val_type = 'Control'\n",
        "print('Before downsampling validation patches:')\n",
        "totals = {}\n",
        "n_type, type_pos, type_neg = 0, 0, 0\n",
        "for cls in classes:\n",
        "    pos_folder = './Patches/Positive/{}/{}_pos'.format(val_type,cls)\n",
        "    neg_folder = './Patches/Negative/{}/{}_neg'.format(val_type,cls)\n",
        "    n_pos = len(os.listdir(pos_folder))\n",
        "    n_neg = len(os.listdir(neg_folder))\n",
        "    total = n_pos + n_neg\n",
        "    n_type += total\n",
        "    type_pos += n_pos\n",
        "    type_neg += n_neg\n",
        "    print('total_{}: {} = {} positive + {} negative'.format(cls,total,n_pos,n_neg))\n",
        "    totals['{}'.format(cls)] = n_pos if n_pos else 0\n",
        "print('Total {}: {} = {} positive + {} negative\\n'.format(val_type,n_type,type_pos,type_neg))\n",
        "\n",
        "minority = min(totals, key=totals.get)\n",
        "n_min = totals[minority]\n",
        "for key, value in totals.items():\n",
        "    if key != minority:\n",
        "        n_to_delete = value - n_min\n",
        "        root = './Patches/Positive/{}/{}_pos/'.format(val_type,key)\n",
        "        patches = os.listdir(root)\n",
        "        patches_to_delete = np.random.choice(patches, n_to_delete, replace=False)\n",
        "        for patch in patches_to_delete:\n",
        "            os.remove(root + patch)\n",
        "\n",
        "print('After downsampling validation patches:')\n",
        "totals = {}\n",
        "n_type, type_pos, type_neg = 0, 0, 0\n",
        "for cls in classes:\n",
        "    pos_folder = './Patches/Positive/{}/{}_pos'.format(val_type,cls)\n",
        "    neg_folder = './Patches/Negative/{}/{}_neg'.format(val_type,cls)\n",
        "    n_pos = len(os.listdir(pos_folder))\n",
        "    n_neg = len(os.listdir(neg_folder))\n",
        "    total = n_pos + n_neg\n",
        "    n_type += total\n",
        "    type_pos += n_pos\n",
        "    type_neg += n_neg\n",
        "    print('total_{}: {} = {} positive + {} negative'.format(cls,total,n_pos,n_neg))\n",
        "    totals['{}'.format(cls)] = n_pos if n_pos else 0\n",
        "print('Total {}: {} = {} positive + {} negative\\n'.format(val_type,n_type,type_pos,type_neg))"
      ],
      "execution_count": 0,
      "outputs": [
        {
          "output_type": "stream",
          "text": [
            "Before downsampling validation patches:\n",
            "total_C1: 364 = 364 positive + 0 negative\n",
            "total_C2-3: 364 = 364 positive + 0 negative\n",
            "total_all_other: 2184 = 2184 positive + 0 negative\n",
            "Total Control: 2912 = 2912 positive + 0 negative\n",
            "\n",
            "After downsampling validation patches:\n",
            "total_C1: 364 = 364 positive + 0 negative\n",
            "total_C2-3: 364 = 364 positive + 0 negative\n",
            "total_all_other: 364 = 364 positive + 0 negative\n",
            "Total Control: 1092 = 1092 positive + 0 negative\n",
            "\n"
          ],
          "name": "stdout"
        }
      ]
    },
    {
      "cell_type": "markdown",
      "metadata": {
        "id": "GNJ7lSKQpdOT",
        "colab_type": "text"
      },
      "source": [
        "#### **Let's build image generators, using keras.preprocessing.image.ImageDataGenerator, rescaling image pixel values from [0,  255] to [0, 1]:**"
      ]
    },
    {
      "cell_type": "code",
      "metadata": {
        "id": "UANfdA6IUFKt",
        "colab_type": "code",
        "outputId": "19c15f56-dd84-4132-aa08-7cde5965c6fc",
        "colab": {
          "base_uri": "https://localhost:8080/",
          "height": 102
        }
      },
      "source": [
        "c1_pos_folder = './Patches/Positive/Serial/C1_pos'\n",
        "img = plt.imread(c1_pos_folder + '/' + os.listdir(c1_pos_folder)[:5][0])\n",
        "img_size = img.shape\n",
        "train_batch_size = 24\n",
        "val_batch_size = 64\n",
        "\n",
        "datagen = ImageDataGenerator(rescale=1./255)\n",
        "val_datagen = ImageDataGenerator(rescale=1./255)\n",
        "\n",
        "print(\"For training:\")\n",
        "train_generator = datagen.flow_from_directory(\n",
        "        './Patches/Positive/Serial',\n",
        "        target_size=(img_size[0],img_size[1]),\n",
        "        batch_size=train_batch_size,\n",
        "        class_mode='categorical',\n",
        "        shuffle=True)\n",
        "\n",
        "print(\"\\nFor validation:\")\n",
        "val_generator = val_datagen.flow_from_directory(\n",
        "        './Patches/Positive/Control',\n",
        "        target_size=(img_size[0],img_size[1]),\n",
        "        batch_size=val_batch_size,\n",
        "        class_mode='categorical',\n",
        "        shuffle=False)"
      ],
      "execution_count": 0,
      "outputs": [
        {
          "output_type": "stream",
          "text": [
            "For training:\n",
            "Found 17994 images belonging to 3 classes.\n",
            "\n",
            "For validation:\n",
            "Found 1092 images belonging to 3 classes.\n"
          ],
          "name": "stdout"
        }
      ]
    },
    {
      "cell_type": "markdown",
      "metadata": {
        "id": "44ZzUGXvwqUn",
        "colab_type": "text"
      },
      "source": [
        "#### **Let's check what is the training generator's index for each class, so we can correclty set up the class weights:**"
      ]
    },
    {
      "cell_type": "code",
      "metadata": {
        "id": "tSHQNC2awn84",
        "colab_type": "code",
        "outputId": "da8e37c5-76b5-4093-c7a4-4da0aa09e664",
        "colab": {
          "base_uri": "https://localhost:8080/",
          "height": 102
        }
      },
      "source": [
        "print('train_generator.class_indices:', str(json.dumps(train_generator.class_indices, indent=2, default=str)))"
      ],
      "execution_count": 0,
      "outputs": [
        {
          "output_type": "stream",
          "text": [
            "train_generator.class_indices: {\n",
            "  \"C1_pos\": 0,\n",
            "  \"C2-3_pos\": 1,\n",
            "  \"all_other_pos\": 2\n",
            "}\n"
          ],
          "name": "stdout"
        }
      ]
    },
    {
      "cell_type": "markdown",
      "metadata": {
        "id": "o30MT4e2O7gk",
        "colab_type": "text"
      },
      "source": [
        "#### **Let's set up the class weights in correct order:**"
      ]
    },
    {
      "cell_type": "code",
      "metadata": {
        "id": "U2gsR9n6w2vm",
        "colab_type": "code",
        "outputId": "1eaa0d5e-6849-4098-9461-e09c272723d2",
        "colab": {
          "base_uri": "https://localhost:8080/",
          "height": 221
        }
      },
      "source": [
        "serial_pos_weights = []\n",
        "for cls in classes:\n",
        "    serial_pos_weights.append(class_weights['Serial']['pos']['{}'.format(cls)])\n",
        "print('original class weights dictionary:')\n",
        "print(str(json.dumps(class_weights['Serial']['pos'], indent=2, default=str)))\n",
        "print('class weights for generator, re-arranging indexes:')\n",
        "print(str(json.dumps(serial_pos_weights, indent=2, default=str)))"
      ],
      "execution_count": 0,
      "outputs": [
        {
          "output_type": "stream",
          "text": [
            "original class weights dictionary:\n",
            "{\n",
            "  \"C1\": 3.0,\n",
            "  \"C2-3\": 3.0,\n",
            "  \"all_other\": 3.0\n",
            "}\n",
            "class weights for generator, re-arranging indexes:\n",
            "[\n",
            "  3.0,\n",
            "  3.0,\n",
            "  3.0\n",
            "]\n"
          ],
          "name": "stdout"
        }
      ]
    },
    {
      "cell_type": "markdown",
      "metadata": {
        "id": "gdXBPBsVxA39",
        "colab_type": "text"
      },
      "source": [
        "## **Let's build our Base Model. We will use Resnet:**"
      ]
    },
    {
      "cell_type": "markdown",
      "metadata": {
        "id": "AjNmNKdHw4tM",
        "colab_type": "text"
      },
      "source": [
        "#### **First. let's create a function to build a residual block.**\n",
        "\n",
        "#### We will use the residual block proposed in  [ResNetV2](https://arxiv.org/pdf/1603.05027.pdf) and will implement it by ourselves:\n",
        "\n",
        "\n",
        ">![Google's logo](https://camo.githubusercontent.com/7ae470c333cd76078e1c669055ad98bcedaf523f/68747470733a2f2f71696974612d696d6167652d73746f72652e73332e616d617a6f6e6177732e636f6d2f302f3130303532332f61313536613563322d303236622d646535352d613666622d6534666131373732623432632e706e67)"
      ]
    },
    {
      "cell_type": "code",
      "metadata": {
        "id": "e-DqZH20w3ji",
        "colab_type": "code",
        "colab": {}
      },
      "source": [
        "def res_block(X, filters, kernel_size=(3,3), l2_reg=1e-6, residual=True,\n",
        "              first=False, subsampling=False):\n",
        "    \"\"\"\n",
        "    Function to build a residual block as proposed in ResNetV2:\n",
        "             https://arxiv.org/pdf/1603.05027.pdf:\n",
        "    :param X: The input to the residual block\n",
        "    :param filters: Integer. Number of filters / channels in the output\n",
        "    :param kernel_size: Tuple (Int, Int). kernel size for convolution operations\n",
        "    :param l2_reg: Float. L2 norm for L2 regularization\n",
        "    :param residual: Boolean. True if residual block. Otherwise 'plain' block.\n",
        "    :param first: Boolean. True if first residual block -> ZeroPad and Maxpool.\n",
        "    :param subsampling: Boolean. True if subsampling within the residual block.\n",
        "    :return: the addition output from the residual block proposed in ResNetV2:\n",
        "              https://arxiv.org/pdf/1603.05027.pdf\n",
        "    \"\"\"\n",
        "    bn = BatchNormalization()(X)\n",
        "    relu = Activation(\"relu\")(bn)\n",
        "    \n",
        "    if first: #The first layer is subsampled with Maxpool\n",
        "      pad = ZeroPadding2D(padding=(1, 1))(relu)\n",
        "      relu = MaxPooling2D(pool_size=(3, 3), strides=(2,2))(pad)    \n",
        "    \n",
        "    if subsampling: #Resnet reduces size just by using stride=2 instead of pool\n",
        "      #Here we will reduce the size (subsample) by using stride 2 \n",
        "      conv_1 = Conv2D(filters, kernel_size, strides=(2,2), padding='same',\n",
        "                         kernel_regularizer=regularizers.l2(l2_reg),\n",
        "                         kernel_initializer = glorot_uniform(0),\n",
        "                         bias_initializer = glorot_uniform(0))(relu)\n",
        "      if residual:\n",
        "        #To be able to add, we also need to reduce size of input\n",
        "        #For this, we will just use a 1x1 Conv2D with stride 2  \n",
        "        res = Conv2D(filters, kernel_size=[1,1], strides=(2,2),\n",
        "                     padding='same')(X)\n",
        "    else: #No subsampling, same size as input\n",
        "      conv_1 = Conv2D(filters, kernel_size, strides=(1,1), padding='same',\n",
        "                   kernel_regularizer=regularizers.l2(l2_reg),\n",
        "                   kernel_initializer = glorot_uniform(0),\n",
        "                   bias_initializer = glorot_uniform(0))(relu)\n",
        "      if residual:\n",
        "        if first: #The first layer is subsampled with Maxpool so, resize X\n",
        "          #For this, we will just use a 1x1 Conv2D with stride 2\n",
        "          res = Conv2D(filters, kernel_size=[1,1], strides=(2,2),\n",
        "                     padding='same')(X)\n",
        "        else:\n",
        "          res = X\n",
        "    bn = BatchNormalization()(conv_1)\n",
        "    relu = Activation(\"relu\")(bn)\n",
        "\n",
        "    conv_2 = Conv2D(filters, kernel_size, padding='same',\n",
        "                       kernel_regularizer=regularizers.l2(l2_reg),\n",
        "                       kernel_initializer = glorot_uniform(0),\n",
        "                       bias_initializer = glorot_uniform(0))(relu)\n",
        "    if residual:\n",
        "      add = keras.layers.add([res, conv_2])\n",
        "      return add\n",
        "    else:\n",
        "      return conv_2"
      ],
      "execution_count": 0,
      "outputs": []
    },
    {
      "cell_type": "markdown",
      "metadata": {
        "id": "0K3-02NNUXOV",
        "colab_type": "text"
      },
      "source": [
        "#### **Second, let's create a function to build a Resnet network:**"
      ]
    },
    {
      "cell_type": "code",
      "metadata": {
        "id": "32s7rai-609p",
        "colab_type": "code",
        "colab": {}
      },
      "source": [
        "#from keras.layers import AveragePooling2D, GlobalAveragePooling2D\n",
        "\n",
        "def make_resnet(img_size, n_classes, layers_per_group, n_filters, \n",
        "                    kernel_sizes, l2_reg=1e-6, optimizer=keras.optimizers.SGD,\n",
        "                    lr=1e-1, decay=1e-4, momentum=0.9, residual=True):\n",
        "  \n",
        "    \"\"\"\n",
        "    Function to build ResNet network, but with some user defined parameters.\n",
        "        \n",
        "        ResNet network input size is (224,224,3) then it starts with one \n",
        "        convolution layer, (7x7x64, stride 2) followed by maxpool (3x3, stride2) \n",
        "        then it will build 4 layer groups and the user will define the number of\n",
        "        residual layers per group.\n",
        "        \n",
        "        As example, ResNet34, after the first convolution layer, it has 4 groups\n",
        "        of layers with the following number of residual 'layers_per_group':\n",
        "        [6,8,12,6]\n",
        "        Because the residual connections are made between pair of layers, the\n",
        "        number of layers for each group must be a pair number.\n",
        "        \n",
        "        The user will also be able to define the number of filters and size of\n",
        "        each filter, independently for each group of layers. All layers in the\n",
        "        same group group will have the same number of filters and each filter\n",
        "        within the group will have the same size.\n",
        "        \n",
        "        Same as ResNet, an average pooling layer follows after the 4 groups\n",
        "        of layers.\n",
        "    \n",
        "    :param img_size: Size of input image, in the form: (size, size, #channels)\n",
        "    :param n_classes: Integer. Number of classes for classification.\n",
        "    :param layers_per_group: List with # of layers per group (e.g.[6,8,12,6])\n",
        "    :param n_filters: List of length 4, with number of filters for each group of\n",
        "                      layers.\n",
        "    :param kernel_sizes: List of length 4, with kernel sizes tuples for each \n",
        "                          group of layers\n",
        "    :param l2_reg: Float. L2 norm for L2 regularization\n",
        "    :param optimizer: A keras optimizer from keras.optimizers\n",
        "    :param lr: Float. learning rate for the optimizer.\n",
        "    :param decay: Float. learning rate decay for the optimizer.\n",
        "    :param momentum: Float. Momentum for SGD if optimizer=keras.optimizers.SGD\n",
        "    :param residual: Boolean. True if residual net. Otherwise 'plain' net.\n",
        "    :return: CNN with residual connections, similar to ResNet32\n",
        "    \"\"\"\n",
        "    \n",
        "    if len(layers_per_block) != len(n_filters) or len(layers_per_block) !=\\\n",
        "        len(kernel_sizes) or len(n_filters) != len(n_filters):\n",
        "        e = \"Length of 'layers_per_block', 'n_filters' and 'kernel_sizes'\" +\\\n",
        "        \" must be the same\"\n",
        "        raise Exception(e)  \n",
        "\n",
        "    for layers in layers_per_block:\n",
        "      if layers % 2 == 1:\n",
        "        e = \"Number of 'layers_per_block' must be even/pair numbers\"\n",
        "        raise Exception(e)\n",
        "      \n",
        "    inputs = Input(shape=img_size)\n",
        "    \n",
        "    n_filters_conv1 = 64\n",
        "    kernel_sizes_conv1 = (3,3) # kernel size for very first conv layer\n",
        "    strides_conv1 = (2,2)\n",
        "    \n",
        "    conv1 = Conv2D(n_filters_conv1, kernel_sizes_conv1, strides=strides_conv1,\n",
        "                   padding='same', kernel_regularizer=regularizers.l2(l2_reg),\n",
        "                   kernel_initializer = glorot_uniform(0),\n",
        "                   bias_initializer = glorot_uniform(0))(inputs)\n",
        "    \n",
        "    layer_count = 1 # counter for the number of layers\n",
        "    for i in range(len(layers_per_block)):\n",
        "      for j in range(int(layers_per_block[i]/2)):\n",
        "        if j == 0:\n",
        "          if i == 0:\n",
        "            add = res_block(conv1, n_filters[i], kernel_sizes[i], l2_reg,\n",
        "                            residual, first=True)\n",
        "            #add = res_block(conv0_1, n_filters[i], kernel_sizes[i], l2_reg,\n",
        "            #                residual, subsampling=True)\n",
        "          else:\n",
        "            add = res_block(add, n_filters[i], kernel_sizes[i], l2_reg,\n",
        "                            residual, subsampling=True)\n",
        "        else:\n",
        "          add = res_block(add, n_filters[i], kernel_sizes[i], l2_reg,\n",
        "                          residual)\n",
        "          \n",
        "    bn = BatchNormalization()(add)\n",
        "    relu = Activation(\"relu\")(bn)\n",
        "\n",
        "    flat = GlobalAveragePooling2D()(relu)\n",
        "\n",
        "    out = Dense(n_classes, activation='softmax',\n",
        "                      kernel_regularizer=regularizers.l2(l2_reg),\n",
        "                      kernel_initializer=glorot_uniform(0),\n",
        "                      bias_initializer=glorot_uniform(0))(flat)\n",
        "\n",
        "    res_cnn = Model(inputs=inputs, outputs=out)\n",
        "\n",
        "    if optimizer == keras.optimizers.Nadam:\n",
        "        res_cnn.compile(optimizer(lr=lr, schedule_decay=decay),\n",
        "                    \"categorical_crossentropy\", metrics=['accuracy'])\n",
        "    elif optimizer == keras.optimizers.SGD:\n",
        "        res_cnn.compile(optimizer(lr=lr, momentum=momentum, decay=decay),\n",
        "                        \"categorical_crossentropy\", metrics=['accuracy'])\n",
        "    else:\n",
        "        res_cnn.compile(optimizer(lr=lr, decay=decay),\n",
        "                        \"categorical_crossentropy\", metrics=['accuracy'])\n",
        "    return res_cnn"
      ],
      "execution_count": 0,
      "outputs": []
    },
    {
      "cell_type": "markdown",
      "metadata": {
        "id": "m21vIzndbOIZ",
        "colab_type": "text"
      },
      "source": [
        "### **Let's build a ResNet18:**"
      ]
    },
    {
      "cell_type": "code",
      "metadata": {
        "id": "rLvSCOTsAuKF",
        "colab_type": "code",
        "outputId": "8bc32ce3-e978-4a81-d7c6-ae617daa50dd",
        "colab": {
          "base_uri": "https://localhost:8080/",
          "height": 1000
        }
      },
      "source": [
        "classes = list(iter(train_generator.class_indices))\n",
        "n_classes = len(classes)\n",
        "layers_per_block = [4, 4, 4, 4] #18 layers total with first conv and last FC\n",
        "n_filters = [64, 128, 256, 512]\n",
        "kernel_sizes = [(3,3), (3,3), (3,3), (3,3)]\n",
        "l2_reg = 0.1\n",
        "optimizer = RMSprop # Adamax, RMSprop, Adam (No: Nadam, SGD)\n",
        "lr = 1e-3\n",
        "decay = 0.01\n",
        "momentum = 0.9\n",
        "\n",
        "res_cnn = make_resnet(img_size, n_classes, layers_per_block, n_filters,\n",
        "                       kernel_sizes, l2_reg, optimizer, lr, decay, momentum)\n",
        "res_cnn.summary()"
      ],
      "execution_count": 0,
      "outputs": [
        {
          "output_type": "stream",
          "text": [
            "Model: \"model_4\"\n",
            "__________________________________________________________________________________________________\n",
            "Layer (type)                    Output Shape         Param #     Connected to                     \n",
            "==================================================================================================\n",
            "input_4 (InputLayer)            (None, 128, 128, 3)  0                                            \n",
            "__________________________________________________________________________________________________\n",
            "conv2d_64 (Conv2D)              (None, 64, 64, 64)   1792        input_4[0][0]                    \n",
            "__________________________________________________________________________________________________\n",
            "batch_normalization_52 (BatchNo (None, 64, 64, 64)   256         conv2d_64[0][0]                  \n",
            "__________________________________________________________________________________________________\n",
            "activation_52 (Activation)      (None, 64, 64, 64)   0           batch_normalization_52[0][0]     \n",
            "__________________________________________________________________________________________________\n",
            "zero_padding2d_4 (ZeroPadding2D (None, 66, 66, 64)   0           activation_52[0][0]              \n",
            "__________________________________________________________________________________________________\n",
            "max_pooling2d_4 (MaxPooling2D)  (None, 32, 32, 64)   0           zero_padding2d_4[0][0]           \n",
            "__________________________________________________________________________________________________\n",
            "conv2d_65 (Conv2D)              (None, 32, 32, 64)   36928       max_pooling2d_4[0][0]            \n",
            "__________________________________________________________________________________________________\n",
            "batch_normalization_53 (BatchNo (None, 32, 32, 64)   256         conv2d_65[0][0]                  \n",
            "__________________________________________________________________________________________________\n",
            "activation_53 (Activation)      (None, 32, 32, 64)   0           batch_normalization_53[0][0]     \n",
            "__________________________________________________________________________________________________\n",
            "conv2d_66 (Conv2D)              (None, 32, 32, 64)   4160        conv2d_64[0][0]                  \n",
            "__________________________________________________________________________________________________\n",
            "conv2d_67 (Conv2D)              (None, 32, 32, 64)   36928       activation_53[0][0]              \n",
            "__________________________________________________________________________________________________\n",
            "add_25 (Add)                    (None, 32, 32, 64)   0           conv2d_66[0][0]                  \n",
            "                                                                 conv2d_67[0][0]                  \n",
            "__________________________________________________________________________________________________\n",
            "batch_normalization_54 (BatchNo (None, 32, 32, 64)   256         add_25[0][0]                     \n",
            "__________________________________________________________________________________________________\n",
            "activation_54 (Activation)      (None, 32, 32, 64)   0           batch_normalization_54[0][0]     \n",
            "__________________________________________________________________________________________________\n",
            "conv2d_68 (Conv2D)              (None, 32, 32, 64)   36928       activation_54[0][0]              \n",
            "__________________________________________________________________________________________________\n",
            "batch_normalization_55 (BatchNo (None, 32, 32, 64)   256         conv2d_68[0][0]                  \n",
            "__________________________________________________________________________________________________\n",
            "activation_55 (Activation)      (None, 32, 32, 64)   0           batch_normalization_55[0][0]     \n",
            "__________________________________________________________________________________________________\n",
            "conv2d_69 (Conv2D)              (None, 32, 32, 64)   36928       activation_55[0][0]              \n",
            "__________________________________________________________________________________________________\n",
            "add_26 (Add)                    (None, 32, 32, 64)   0           add_25[0][0]                     \n",
            "                                                                 conv2d_69[0][0]                  \n",
            "__________________________________________________________________________________________________\n",
            "batch_normalization_56 (BatchNo (None, 32, 32, 64)   256         add_26[0][0]                     \n",
            "__________________________________________________________________________________________________\n",
            "activation_56 (Activation)      (None, 32, 32, 64)   0           batch_normalization_56[0][0]     \n",
            "__________________________________________________________________________________________________\n",
            "conv2d_70 (Conv2D)              (None, 16, 16, 128)  73856       activation_56[0][0]              \n",
            "__________________________________________________________________________________________________\n",
            "batch_normalization_57 (BatchNo (None, 16, 16, 128)  512         conv2d_70[0][0]                  \n",
            "__________________________________________________________________________________________________\n",
            "activation_57 (Activation)      (None, 16, 16, 128)  0           batch_normalization_57[0][0]     \n",
            "__________________________________________________________________________________________________\n",
            "conv2d_71 (Conv2D)              (None, 16, 16, 128)  8320        add_26[0][0]                     \n",
            "__________________________________________________________________________________________________\n",
            "conv2d_72 (Conv2D)              (None, 16, 16, 128)  147584      activation_57[0][0]              \n",
            "__________________________________________________________________________________________________\n",
            "add_27 (Add)                    (None, 16, 16, 128)  0           conv2d_71[0][0]                  \n",
            "                                                                 conv2d_72[0][0]                  \n",
            "__________________________________________________________________________________________________\n",
            "batch_normalization_58 (BatchNo (None, 16, 16, 128)  512         add_27[0][0]                     \n",
            "__________________________________________________________________________________________________\n",
            "activation_58 (Activation)      (None, 16, 16, 128)  0           batch_normalization_58[0][0]     \n",
            "__________________________________________________________________________________________________\n",
            "conv2d_73 (Conv2D)              (None, 16, 16, 128)  147584      activation_58[0][0]              \n",
            "__________________________________________________________________________________________________\n",
            "batch_normalization_59 (BatchNo (None, 16, 16, 128)  512         conv2d_73[0][0]                  \n",
            "__________________________________________________________________________________________________\n",
            "activation_59 (Activation)      (None, 16, 16, 128)  0           batch_normalization_59[0][0]     \n",
            "__________________________________________________________________________________________________\n",
            "conv2d_74 (Conv2D)              (None, 16, 16, 128)  147584      activation_59[0][0]              \n",
            "__________________________________________________________________________________________________\n",
            "add_28 (Add)                    (None, 16, 16, 128)  0           add_27[0][0]                     \n",
            "                                                                 conv2d_74[0][0]                  \n",
            "__________________________________________________________________________________________________\n",
            "batch_normalization_60 (BatchNo (None, 16, 16, 128)  512         add_28[0][0]                     \n",
            "__________________________________________________________________________________________________\n",
            "activation_60 (Activation)      (None, 16, 16, 128)  0           batch_normalization_60[0][0]     \n",
            "__________________________________________________________________________________________________\n",
            "conv2d_75 (Conv2D)              (None, 8, 8, 256)    295168      activation_60[0][0]              \n",
            "__________________________________________________________________________________________________\n",
            "batch_normalization_61 (BatchNo (None, 8, 8, 256)    1024        conv2d_75[0][0]                  \n",
            "__________________________________________________________________________________________________\n",
            "activation_61 (Activation)      (None, 8, 8, 256)    0           batch_normalization_61[0][0]     \n",
            "__________________________________________________________________________________________________\n",
            "conv2d_76 (Conv2D)              (None, 8, 8, 256)    33024       add_28[0][0]                     \n",
            "__________________________________________________________________________________________________\n",
            "conv2d_77 (Conv2D)              (None, 8, 8, 256)    590080      activation_61[0][0]              \n",
            "__________________________________________________________________________________________________\n",
            "add_29 (Add)                    (None, 8, 8, 256)    0           conv2d_76[0][0]                  \n",
            "                                                                 conv2d_77[0][0]                  \n",
            "__________________________________________________________________________________________________\n",
            "batch_normalization_62 (BatchNo (None, 8, 8, 256)    1024        add_29[0][0]                     \n",
            "__________________________________________________________________________________________________\n",
            "activation_62 (Activation)      (None, 8, 8, 256)    0           batch_normalization_62[0][0]     \n",
            "__________________________________________________________________________________________________\n",
            "conv2d_78 (Conv2D)              (None, 8, 8, 256)    590080      activation_62[0][0]              \n",
            "__________________________________________________________________________________________________\n",
            "batch_normalization_63 (BatchNo (None, 8, 8, 256)    1024        conv2d_78[0][0]                  \n",
            "__________________________________________________________________________________________________\n",
            "activation_63 (Activation)      (None, 8, 8, 256)    0           batch_normalization_63[0][0]     \n",
            "__________________________________________________________________________________________________\n",
            "conv2d_79 (Conv2D)              (None, 8, 8, 256)    590080      activation_63[0][0]              \n",
            "__________________________________________________________________________________________________\n",
            "add_30 (Add)                    (None, 8, 8, 256)    0           add_29[0][0]                     \n",
            "                                                                 conv2d_79[0][0]                  \n",
            "__________________________________________________________________________________________________\n",
            "batch_normalization_64 (BatchNo (None, 8, 8, 256)    1024        add_30[0][0]                     \n",
            "__________________________________________________________________________________________________\n",
            "activation_64 (Activation)      (None, 8, 8, 256)    0           batch_normalization_64[0][0]     \n",
            "__________________________________________________________________________________________________\n",
            "conv2d_80 (Conv2D)              (None, 4, 4, 512)    1180160     activation_64[0][0]              \n",
            "__________________________________________________________________________________________________\n",
            "batch_normalization_65 (BatchNo (None, 4, 4, 512)    2048        conv2d_80[0][0]                  \n",
            "__________________________________________________________________________________________________\n",
            "activation_65 (Activation)      (None, 4, 4, 512)    0           batch_normalization_65[0][0]     \n",
            "__________________________________________________________________________________________________\n",
            "conv2d_81 (Conv2D)              (None, 4, 4, 512)    131584      add_30[0][0]                     \n",
            "__________________________________________________________________________________________________\n",
            "conv2d_82 (Conv2D)              (None, 4, 4, 512)    2359808     activation_65[0][0]              \n",
            "__________________________________________________________________________________________________\n",
            "add_31 (Add)                    (None, 4, 4, 512)    0           conv2d_81[0][0]                  \n",
            "                                                                 conv2d_82[0][0]                  \n",
            "__________________________________________________________________________________________________\n",
            "batch_normalization_66 (BatchNo (None, 4, 4, 512)    2048        add_31[0][0]                     \n",
            "__________________________________________________________________________________________________\n",
            "activation_66 (Activation)      (None, 4, 4, 512)    0           batch_normalization_66[0][0]     \n",
            "__________________________________________________________________________________________________\n",
            "conv2d_83 (Conv2D)              (None, 4, 4, 512)    2359808     activation_66[0][0]              \n",
            "__________________________________________________________________________________________________\n",
            "batch_normalization_67 (BatchNo (None, 4, 4, 512)    2048        conv2d_83[0][0]                  \n",
            "__________________________________________________________________________________________________\n",
            "activation_67 (Activation)      (None, 4, 4, 512)    0           batch_normalization_67[0][0]     \n",
            "__________________________________________________________________________________________________\n",
            "conv2d_84 (Conv2D)              (None, 4, 4, 512)    2359808     activation_67[0][0]              \n",
            "__________________________________________________________________________________________________\n",
            "add_32 (Add)                    (None, 4, 4, 512)    0           add_31[0][0]                     \n",
            "                                                                 conv2d_84[0][0]                  \n",
            "__________________________________________________________________________________________________\n",
            "batch_normalization_68 (BatchNo (None, 4, 4, 512)    2048        add_32[0][0]                     \n",
            "__________________________________________________________________________________________________\n",
            "activation_68 (Activation)      (None, 4, 4, 512)    0           batch_normalization_68[0][0]     \n",
            "__________________________________________________________________________________________________\n",
            "global_average_pooling2d_4 (Glo (None, 512)          0           activation_68[0][0]              \n",
            "__________________________________________________________________________________________________\n",
            "dense_4 (Dense)                 (None, 3)            1539        global_average_pooling2d_4[0][0] \n",
            "==================================================================================================\n",
            "Total params: 11,185,347\n",
            "Trainable params: 11,177,539\n",
            "Non-trainable params: 7,808\n",
            "__________________________________________________________________________________________________\n"
          ],
          "name": "stdout"
        }
      ]
    },
    {
      "cell_type": "markdown",
      "metadata": {
        "id": "9Snp4w6_wHP_",
        "colab_type": "text"
      },
      "source": [
        "#### **Let's mount our GoogleDrive to download the best model (We have to authenticate again):**"
      ]
    },
    {
      "cell_type": "code",
      "metadata": {
        "id": "F7NpUL6XwImK",
        "colab_type": "code",
        "outputId": "c9e20251-fb0d-47ed-fd98-d0f520cd88de",
        "colab": {
          "base_uri": "https://localhost:8080/",
          "height": 34
        }
      },
      "source": [
        "from google.colab import drive\n",
        "drive.mount('/content/gdrive')"
      ],
      "execution_count": 0,
      "outputs": [
        {
          "output_type": "stream",
          "text": [
            "Drive already mounted at /content/gdrive; to attempt to forcibly remount, call drive.mount(\"/content/gdrive\", force_remount=True).\n"
          ],
          "name": "stdout"
        }
      ]
    },
    {
      "cell_type": "markdown",
      "metadata": {
        "id": "JUL3HGj4dyft",
        "colab_type": "text"
      },
      "source": [
        "### **Let's train and validate our Base Model:**"
      ]
    },
    {
      "cell_type": "code",
      "metadata": {
        "id": "mDWJ135lVCbR",
        "colab_type": "code",
        "outputId": "1fe874f2-259a-411d-b4c7-2bb8bc99d19a",
        "colab": {
          "base_uri": "https://localhost:8080/",
          "height": 1000
        }
      },
      "source": [
        "## fully balanced training\n",
        "## Rotate every 45\n",
        "## 'C1' vs 'C2-3' vs 'all_other' - Downsampling training\n",
        "\n",
        "## 128x128, stride_60,\n",
        "##min_pos_pix_1250, mivalpos_1024\n",
        "## ReduceLROnPlateau(monitor='val_loss'... )\n",
        "## train_batch_32, opt_RMSprop, Kernel_3x3:\n",
        "\n",
        "epochs = 70\n",
        "\n",
        "train_steps = train_generator.n//train_generator.batch_size\n",
        "val_steps = val_generator.n//val_generator.batch_size\n",
        "\n",
        "# Callbacks:\n",
        "reduce_lr = ReduceLROnPlateau(monitor='val_loss', factor=0.85, patience=3, \n",
        "                                   verbose=1, mode='min', min_lr=1e-9)\n",
        "EarlyStop = EarlyStopping(monitor='val_acc', patience=70, verbose=1,\n",
        "                          min_delta=0, mode='max')\n",
        "checkpoint = ModelCheckpoint('base_model.h5', monitor='val_acc', verbose=1, \n",
        "                             save_best_only=True, mode='max')\n",
        "\n",
        "callbacks_list = [reduce_lr, checkpoint, EarlyStop] #order matters!\n",
        "\n",
        "#res_cnn.load_weights('base_model.h5')\n",
        "\n",
        "history = res_cnn.fit_generator(train_generator, steps_per_epoch=train_steps,\n",
        "                            validation_data=val_generator,\n",
        "                            validation_steps=val_steps, epochs=epochs,\n",
        "                            verbose=1, callbacks=callbacks_list, shuffle=False,\n",
        "                            class_weight=serial_pos_weights)"
      ],
      "execution_count": 0,
      "outputs": [
        {
          "output_type": "stream",
          "text": [
            "Epoch 1/70\n",
            "749/749 [==============================] - 33s 44ms/step - loss: 5.2209 - acc: 0.5755 - val_loss: 1.8461 - val_acc: 0.4108\n",
            "\n",
            "Epoch 00001: val_acc improved from -inf to 0.41085, saving model to base_model.h5\n",
            "Epoch 2/70\n",
            "749/749 [==============================] - 27s 36ms/step - loss: 0.7571 - acc: 0.7699 - val_loss: 2.4046 - val_acc: 0.5292\n",
            "\n",
            "Epoch 00002: val_acc improved from 0.41085 to 0.52918, saving model to base_model.h5\n",
            "Epoch 3/70\n",
            "749/749 [==============================] - 27s 36ms/step - loss: 0.5890 - acc: 0.8446 - val_loss: 1.9882 - val_acc: 0.5253\n",
            "\n",
            "Epoch 00003: val_acc did not improve from 0.52918\n",
            "Epoch 4/70\n",
            "749/749 [==============================] - 27s 36ms/step - loss: 0.4881 - acc: 0.8838 - val_loss: 1.1149 - val_acc: 0.6284\n",
            "\n",
            "Epoch 00004: val_acc improved from 0.52918 to 0.62840, saving model to base_model.h5\n",
            "Epoch 5/70\n",
            "749/749 [==============================] - 27s 36ms/step - loss: 0.4277 - acc: 0.9129 - val_loss: 1.8115 - val_acc: 0.5875\n",
            "\n",
            "Epoch 00005: val_acc did not improve from 0.62840\n",
            "Epoch 6/70\n",
            "749/749 [==============================] - 27s 36ms/step - loss: 0.3951 - acc: 0.9217 - val_loss: 0.8179 - val_acc: 0.7374\n",
            "\n",
            "Epoch 00006: val_acc improved from 0.62840 to 0.73735, saving model to base_model.h5\n",
            "Epoch 7/70\n",
            "749/749 [==============================] - 27s 36ms/step - loss: 0.3654 - acc: 0.9337 - val_loss: 0.8235 - val_acc: 0.7296\n",
            "\n",
            "Epoch 00007: val_acc did not improve from 0.73735\n",
            "Epoch 8/70\n",
            "749/749 [==============================] - 27s 36ms/step - loss: 0.3363 - acc: 0.9421 - val_loss: 1.7059 - val_acc: 0.6167\n",
            "\n",
            "Epoch 00008: val_acc did not improve from 0.73735\n",
            "Epoch 9/70\n",
            "749/749 [==============================] - 27s 36ms/step - loss: 0.3178 - acc: 0.9496 - val_loss: 0.9686 - val_acc: 0.7412\n",
            "\n",
            "Epoch 00009: ReduceLROnPlateau reducing learning rate to 0.0008500000403728336.\n",
            "\n",
            "Epoch 00009: val_acc improved from 0.73735 to 0.74125, saving model to base_model.h5\n",
            "Epoch 10/70\n",
            "749/749 [==============================] - 27s 36ms/step - loss: 0.2897 - acc: 0.9593 - val_loss: 0.6977 - val_acc: 0.7821\n",
            "\n",
            "Epoch 00010: val_acc improved from 0.74125 to 0.78210, saving model to base_model.h5\n",
            "Epoch 11/70\n",
            "749/749 [==============================] - 27s 36ms/step - loss: 0.2777 - acc: 0.9622 - val_loss: 0.7574 - val_acc: 0.7656\n",
            "\n",
            "Epoch 00011: val_acc did not improve from 0.78210\n",
            "Epoch 12/70\n",
            "749/749 [==============================] - 27s 36ms/step - loss: 0.2687 - acc: 0.9638 - val_loss: 0.6973 - val_acc: 0.7792\n",
            "\n",
            "Epoch 00012: val_acc did not improve from 0.78210\n",
            "Epoch 13/70\n",
            "749/749 [==============================] - 27s 36ms/step - loss: 0.2505 - acc: 0.9692 - val_loss: 0.7969 - val_acc: 0.7918\n",
            "\n",
            "Epoch 00013: val_acc improved from 0.78210 to 0.79183, saving model to base_model.h5\n",
            "Epoch 14/70\n",
            "749/749 [==============================] - 27s 36ms/step - loss: 0.2469 - acc: 0.9708 - val_loss: 0.9166 - val_acc: 0.7422\n",
            "\n",
            "Epoch 00014: val_acc did not improve from 0.79183\n",
            "Epoch 15/70\n",
            "749/749 [==============================] - 27s 36ms/step - loss: 0.2369 - acc: 0.9734 - val_loss: 1.3562 - val_acc: 0.7023\n",
            "\n",
            "Epoch 00015: ReduceLROnPlateau reducing learning rate to 0.0007225000590551645.\n",
            "\n",
            "Epoch 00015: val_acc did not improve from 0.79183\n",
            "Epoch 16/70\n",
            "749/749 [==============================] - 27s 36ms/step - loss: 0.2247 - acc: 0.9771 - val_loss: 0.5500 - val_acc: 0.8667\n",
            "\n",
            "Epoch 00016: val_acc improved from 0.79183 to 0.86673, saving model to base_model.h5\n",
            "Epoch 17/70\n",
            "749/749 [==============================] - 27s 36ms/step - loss: 0.2146 - acc: 0.9809 - val_loss: 0.5984 - val_acc: 0.8706\n",
            "\n",
            "Epoch 00017: val_acc improved from 0.86673 to 0.87062, saving model to base_model.h5\n",
            "Epoch 18/70\n",
            "749/749 [==============================] - 27s 36ms/step - loss: 0.2076 - acc: 0.9816 - val_loss: 0.5402 - val_acc: 0.8337\n",
            "\n",
            "Epoch 00018: val_acc did not improve from 0.87062\n",
            "Epoch 19/70\n",
            "749/749 [==============================] - 27s 36ms/step - loss: 0.2023 - acc: 0.9826 - val_loss: 0.5612 - val_acc: 0.8575\n",
            "\n",
            "Epoch 00019: val_acc did not improve from 0.87062\n",
            "Epoch 20/70\n",
            "749/749 [==============================] - 27s 36ms/step - loss: 0.1999 - acc: 0.9820 - val_loss: 0.6414 - val_acc: 0.8171\n",
            "\n",
            "Epoch 00020: val_acc did not improve from 0.87062\n",
            "Epoch 21/70\n",
            "749/749 [==============================] - 27s 36ms/step - loss: 0.1954 - acc: 0.9847 - val_loss: 0.6520 - val_acc: 0.8298\n",
            "\n",
            "Epoch 00021: ReduceLROnPlateau reducing learning rate to 0.0006141250254586339.\n",
            "\n",
            "Epoch 00021: val_acc did not improve from 0.87062\n",
            "Epoch 22/70\n",
            "749/749 [==============================] - 27s 36ms/step - loss: 0.1858 - acc: 0.9863 - val_loss: 0.6311 - val_acc: 0.8103\n",
            "\n",
            "Epoch 00022: val_acc did not improve from 0.87062\n",
            "Epoch 23/70\n",
            "749/749 [==============================] - 27s 36ms/step - loss: 0.1834 - acc: 0.9870 - val_loss: 0.6033 - val_acc: 0.8696\n",
            "\n",
            "Epoch 00023: val_acc did not improve from 0.87062\n",
            "Epoch 24/70\n",
            "749/749 [==============================] - 27s 36ms/step - loss: 0.1829 - acc: 0.9870 - val_loss: 0.7691 - val_acc: 0.8268\n",
            "\n",
            "Epoch 00024: ReduceLROnPlateau reducing learning rate to 0.0005220062914304435.\n",
            "\n",
            "Epoch 00024: val_acc did not improve from 0.87062\n",
            "Epoch 25/70\n",
            "749/749 [==============================] - 27s 36ms/step - loss: 0.1725 - acc: 0.9896 - val_loss: 0.7797 - val_acc: 0.8356\n",
            "\n",
            "Epoch 00025: val_acc did not improve from 0.87062\n",
            "Epoch 26/70\n",
            "749/749 [==============================] - 27s 36ms/step - loss: 0.1707 - acc: 0.9904 - val_loss: 0.5129 - val_acc: 0.8872\n",
            "\n",
            "Epoch 00026: val_acc improved from 0.87062 to 0.88716, saving model to base_model.h5\n",
            "Epoch 27/70\n",
            "749/749 [==============================] - 27s 36ms/step - loss: 0.1689 - acc: 0.9902 - val_loss: 0.7296 - val_acc: 0.8171\n",
            "\n",
            "Epoch 00027: val_acc did not improve from 0.88716\n",
            "Epoch 28/70\n",
            "749/749 [==============================] - 27s 36ms/step - loss: 0.1684 - acc: 0.9903 - val_loss: 0.5131 - val_acc: 0.8959\n",
            "\n",
            "Epoch 00028: val_acc improved from 0.88716 to 0.89591, saving model to base_model.h5\n",
            "Epoch 29/70\n",
            "749/749 [==============================] - 27s 36ms/step - loss: 0.1670 - acc: 0.9897 - val_loss: 0.6268 - val_acc: 0.8502\n",
            "\n",
            "Epoch 00029: ReduceLROnPlateau reducing learning rate to 0.00044370535761117935.\n",
            "\n",
            "Epoch 00029: val_acc did not improve from 0.89591\n",
            "Epoch 30/70\n",
            "749/749 [==============================] - 27s 36ms/step - loss: 0.1604 - acc: 0.9925 - val_loss: 0.5140 - val_acc: 0.8911\n",
            "\n",
            "Epoch 00030: val_acc did not improve from 0.89591\n",
            "Epoch 31/70\n",
            "749/749 [==============================] - 27s 36ms/step - loss: 0.1582 - acc: 0.9922 - val_loss: 0.5900 - val_acc: 0.8638\n",
            "\n",
            "Epoch 00031: val_acc did not improve from 0.89591\n",
            "Epoch 32/70\n",
            "749/749 [==============================] - 27s 36ms/step - loss: 0.1561 - acc: 0.9927 - val_loss: 0.5510 - val_acc: 0.8959\n",
            "\n",
            "Epoch 00032: ReduceLROnPlateau reducing learning rate to 0.00037714955396950245.\n",
            "\n",
            "Epoch 00032: val_acc did not improve from 0.89591\n",
            "Epoch 33/70\n",
            "749/749 [==============================] - 27s 36ms/step - loss: 0.1561 - acc: 0.9927 - val_loss: 0.5288 - val_acc: 0.8969\n",
            "\n",
            "Epoch 00033: val_acc improved from 0.89591 to 0.89689, saving model to base_model.h5\n",
            "Epoch 34/70\n",
            "749/749 [==============================] - 27s 36ms/step - loss: 0.1535 - acc: 0.9935 - val_loss: 0.5601 - val_acc: 0.8930\n",
            "\n",
            "Epoch 00034: val_acc did not improve from 0.89689\n",
            "Epoch 35/70\n",
            "749/749 [==============================] - 27s 36ms/step - loss: 0.1547 - acc: 0.9930 - val_loss: 1.0186 - val_acc: 0.7763\n",
            "\n",
            "Epoch 00035: ReduceLROnPlateau reducing learning rate to 0.0003205771208740771.\n",
            "\n",
            "Epoch 00035: val_acc did not improve from 0.89689\n",
            "Epoch 36/70\n",
            "749/749 [==============================] - 27s 36ms/step - loss: 0.1478 - acc: 0.9945 - val_loss: 0.6272 - val_acc: 0.8774\n",
            "\n",
            "Epoch 00036: val_acc did not improve from 0.89689\n",
            "Epoch 37/70\n",
            "749/749 [==============================] - 27s 36ms/step - loss: 0.1476 - acc: 0.9955 - val_loss: 0.5479 - val_acc: 0.8879\n",
            "\n",
            "Epoch 00037: val_acc did not improve from 0.89689\n",
            "Epoch 38/70\n",
            "749/749 [==============================] - 27s 36ms/step - loss: 0.1452 - acc: 0.9957 - val_loss: 0.5034 - val_acc: 0.9027\n",
            "\n",
            "Epoch 00038: val_acc improved from 0.89689 to 0.90272, saving model to base_model.h5\n",
            "Epoch 39/70\n",
            "749/749 [==============================] - 27s 36ms/step - loss: 0.1445 - acc: 0.9957 - val_loss: 0.6445 - val_acc: 0.8901\n",
            "\n",
            "Epoch 00039: val_acc did not improve from 0.90272\n",
            "Epoch 40/70\n",
            "749/749 [==============================] - 27s 36ms/step - loss: 0.1440 - acc: 0.9955 - val_loss: 0.5769 - val_acc: 0.8891\n",
            "\n",
            "Epoch 00040: val_acc did not improve from 0.90272\n",
            "Epoch 41/70\n",
            "749/749 [==============================] - 27s 36ms/step - loss: 0.1442 - acc: 0.9956 - val_loss: 0.6141 - val_acc: 0.8784\n",
            "\n",
            "Epoch 00041: ReduceLROnPlateau reducing learning rate to 0.0002724905527429655.\n",
            "\n",
            "Epoch 00041: val_acc did not improve from 0.90272\n",
            "Epoch 42/70\n",
            "749/749 [==============================] - 27s 36ms/step - loss: 0.1415 - acc: 0.9959 - val_loss: 0.6126 - val_acc: 0.8696\n",
            "\n",
            "Epoch 00042: val_acc did not improve from 0.90272\n",
            "Epoch 43/70\n",
            "749/749 [==============================] - 27s 36ms/step - loss: 0.1409 - acc: 0.9964 - val_loss: 0.6111 - val_acc: 0.8765\n",
            "\n",
            "Epoch 00043: val_acc did not improve from 0.90272\n",
            "Epoch 44/70\n",
            "749/749 [==============================] - 27s 36ms/step - loss: 0.1394 - acc: 0.9968 - val_loss: 0.5520 - val_acc: 0.9115\n",
            "\n",
            "Epoch 00044: ReduceLROnPlateau reducing learning rate to 0.00023161696735769509.\n",
            "\n",
            "Epoch 00044: val_acc improved from 0.90272 to 0.91148, saving model to base_model.h5\n",
            "Epoch 45/70\n",
            "749/749 [==============================] - 27s 36ms/step - loss: 0.1413 - acc: 0.9954 - val_loss: 0.5397 - val_acc: 0.9047\n",
            "\n",
            "Epoch 00045: val_acc did not improve from 0.91148\n",
            "Epoch 46/70\n",
            "749/749 [==============================] - 27s 36ms/step - loss: 0.1396 - acc: 0.9959 - val_loss: 0.4860 - val_acc: 0.9066\n",
            "\n",
            "Epoch 00046: val_acc did not improve from 0.91148\n",
            "Epoch 47/70\n",
            "749/749 [==============================] - 27s 36ms/step - loss: 0.1385 - acc: 0.9964 - val_loss: 0.5965 - val_acc: 0.8804\n",
            "\n",
            "Epoch 00047: val_acc did not improve from 0.91148\n",
            "Epoch 48/70\n",
            "749/749 [==============================] - 27s 36ms/step - loss: 0.1364 - acc: 0.9965 - val_loss: 0.5199 - val_acc: 0.8988\n",
            "\n",
            "Epoch 00048: val_acc did not improve from 0.91148\n",
            "Epoch 49/70\n",
            "749/749 [==============================] - 27s 36ms/step - loss: 0.1382 - acc: 0.9965 - val_loss: 0.5363 - val_acc: 0.8930\n",
            "\n",
            "Epoch 00049: ReduceLROnPlateau reducing learning rate to 0.00019687442472786642.\n",
            "\n",
            "Epoch 00049: val_acc did not improve from 0.91148\n",
            "Epoch 50/70\n",
            "749/749 [==============================] - 27s 36ms/step - loss: 0.1378 - acc: 0.9971 - val_loss: 0.6939 - val_acc: 0.8638\n",
            "\n",
            "Epoch 00050: val_acc did not improve from 0.91148\n",
            "Epoch 51/70\n",
            "749/749 [==============================] - 27s 36ms/step - loss: 0.1387 - acc: 0.9962 - val_loss: 0.6641 - val_acc: 0.8745\n",
            "\n",
            "Epoch 00051: val_acc did not improve from 0.91148\n",
            "Epoch 52/70\n",
            "749/749 [==============================] - 27s 36ms/step - loss: 0.1351 - acc: 0.9973 - val_loss: 0.5685 - val_acc: 0.9008\n",
            "\n",
            "Epoch 00052: ReduceLROnPlateau reducing learning rate to 0.00016734325545257888.\n",
            "\n",
            "Epoch 00052: val_acc did not improve from 0.91148\n",
            "Epoch 53/70\n",
            "749/749 [==============================] - 27s 36ms/step - loss: 0.1330 - acc: 0.9981 - val_loss: 0.5458 - val_acc: 0.8979\n",
            "\n",
            "Epoch 00053: val_acc did not improve from 0.91148\n",
            "Epoch 54/70\n",
            "749/749 [==============================] - 27s 36ms/step - loss: 0.1364 - acc: 0.9968 - val_loss: 0.5976 - val_acc: 0.8930\n",
            "\n",
            "Epoch 00054: val_acc did not improve from 0.91148\n",
            "Epoch 55/70\n",
            "749/749 [==============================] - 27s 36ms/step - loss: 0.1358 - acc: 0.9967 - val_loss: 0.5648 - val_acc: 0.8851\n",
            "\n",
            "Epoch 00055: ReduceLROnPlateau reducing learning rate to 0.00014224176775314845.\n",
            "\n",
            "Epoch 00055: val_acc did not improve from 0.91148\n",
            "Epoch 56/70\n",
            "749/749 [==============================] - 27s 36ms/step - loss: 0.1327 - acc: 0.9979 - val_loss: 0.5754 - val_acc: 0.8940\n",
            "\n",
            "Epoch 00056: val_acc did not improve from 0.91148\n",
            "Epoch 57/70\n",
            "749/749 [==============================] - 27s 36ms/step - loss: 0.1339 - acc: 0.9971 - val_loss: 0.6019 - val_acc: 0.8872\n",
            "\n",
            "Epoch 00057: val_acc did not improve from 0.91148\n",
            "Epoch 58/70\n",
            "749/749 [==============================] - 27s 36ms/step - loss: 0.1323 - acc: 0.9978 - val_loss: 0.5939 - val_acc: 0.8852\n",
            "\n",
            "Epoch 00058: ReduceLROnPlateau reducing learning rate to 0.00012090550444554538.\n",
            "\n",
            "Epoch 00058: val_acc did not improve from 0.91148\n",
            "Epoch 59/70\n",
            "749/749 [==============================] - 27s 36ms/step - loss: 0.1321 - acc: 0.9978 - val_loss: 0.5956 - val_acc: 0.8842\n",
            "\n",
            "Epoch 00059: val_acc did not improve from 0.91148\n",
            "Epoch 60/70\n",
            "749/749 [==============================] - 27s 36ms/step - loss: 0.1325 - acc: 0.9977 - val_loss: 0.5946 - val_acc: 0.8891\n",
            "\n",
            "Epoch 00060: val_acc did not improve from 0.91148\n",
            "Epoch 61/70\n",
            "749/749 [==============================] - 27s 36ms/step - loss: 0.1349 - acc: 0.9966 - val_loss: 0.5632 - val_acc: 0.8979\n",
            "\n",
            "Epoch 00061: ReduceLROnPlateau reducing learning rate to 0.00010276967877871357.\n",
            "\n",
            "Epoch 00061: val_acc did not improve from 0.91148\n",
            "Epoch 62/70\n",
            "749/749 [==============================] - 27s 36ms/step - loss: 0.1341 - acc: 0.9969 - val_loss: 0.5298 - val_acc: 0.9115\n",
            "\n",
            "Epoch 00062: val_acc did not improve from 0.91148\n",
            "Epoch 63/70\n",
            "749/749 [==============================] - 27s 36ms/step - loss: 0.1324 - acc: 0.9976 - val_loss: 0.5829 - val_acc: 0.8842\n",
            "\n",
            "Epoch 00063: val_acc did not improve from 0.91148\n",
            "Epoch 64/70\n",
            "749/749 [==============================] - 27s 36ms/step - loss: 0.1322 - acc: 0.9976 - val_loss: 0.4946 - val_acc: 0.9076\n",
            "\n",
            "Epoch 00064: ReduceLROnPlateau reducing learning rate to 8.735422634345013e-05.\n",
            "\n",
            "Epoch 00064: val_acc did not improve from 0.91148\n",
            "Epoch 65/70\n",
            "749/749 [==============================] - 27s 36ms/step - loss: 0.1332 - acc: 0.9973 - val_loss: 0.6169 - val_acc: 0.8833\n",
            "\n",
            "Epoch 00065: val_acc did not improve from 0.91148\n",
            "Epoch 66/70\n",
            "749/749 [==============================] - 27s 36ms/step - loss: 0.1291 - acc: 0.9983 - val_loss: 0.4630 - val_acc: 0.9212\n",
            "\n",
            "Epoch 00066: val_acc improved from 0.91148 to 0.92121, saving model to base_model.h5\n",
            "Epoch 67/70\n",
            "749/749 [==============================] - 27s 36ms/step - loss: 0.1307 - acc: 0.9975 - val_loss: 0.4762 - val_acc: 0.9125\n",
            "\n",
            "Epoch 00067: val_acc did not improve from 0.92121\n",
            "Epoch 68/70\n",
            "749/749 [==============================] - 27s 36ms/step - loss: 0.1324 - acc: 0.9974 - val_loss: 0.5594 - val_acc: 0.8911\n",
            "\n",
            "Epoch 00068: val_acc did not improve from 0.92121\n",
            "Epoch 69/70\n",
            "749/749 [==============================] - 27s 36ms/step - loss: 0.1309 - acc: 0.9974 - val_loss: 0.5653 - val_acc: 0.8949\n",
            "\n",
            "Epoch 00069: ReduceLROnPlateau reducing learning rate to 7.425108960887882e-05.\n",
            "\n",
            "Epoch 00069: val_acc did not improve from 0.92121\n",
            "Epoch 70/70\n",
            "749/749 [==============================] - 27s 36ms/step - loss: 0.1309 - acc: 0.9977 - val_loss: 0.5975 - val_acc: 0.8891\n",
            "\n",
            "Epoch 00070: val_acc did not improve from 0.92121\n"
          ],
          "name": "stdout"
        }
      ]
    },
    {
      "cell_type": "markdown",
      "metadata": {
        "id": "BeQ6tt-mwUW3",
        "colab_type": "text"
      },
      "source": [
        "#### **Let's download the best model to our 'Capstone' folder in GoogleDrive:**"
      ]
    },
    {
      "cell_type": "code",
      "metadata": {
        "id": "SA1xKG_gwVP4",
        "colab_type": "code",
        "outputId": "e84ef81b-f693-42b1-e822-aadfd1cbef7d",
        "colab": {
          "base_uri": "https://localhost:8080/",
          "height": 34
        }
      },
      "source": [
        "source = './base_model.h5'\n",
        "dest = 'gdrive/My Drive/Capstone/base_model_C1_C2-3_092121.h5'\n",
        "shutil.copyfile(source, dest)\n"
      ],
      "execution_count": 0,
      "outputs": [
        {
          "output_type": "execute_result",
          "data": {
            "text/plain": [
              "'gdrive/My Drive/Capstone/base_model_C1_C2-3_092121.h5'"
            ]
          },
          "metadata": {
            "tags": []
          },
          "execution_count": 43
        }
      ]
    },
    {
      "cell_type": "markdown",
      "metadata": {
        "id": "MRz_1oJzJRFH",
        "colab_type": "text"
      },
      "source": [
        "#### **Let's download the training history to a local file:**"
      ]
    },
    {
      "cell_type": "code",
      "metadata": {
        "id": "k5Y5GUUhcyAt",
        "colab_type": "code",
        "colab": {}
      },
      "source": [
        "for k,v in history.history.items():\n",
        "  history.history[k] = str(v)\n",
        "\n",
        "with open('history_dict.json', 'w') as f:\n",
        "    json.dump(history.history, f)\n",
        "\n",
        "try:\n",
        "    time.sleep(3) # To avoid warning when downloading various files at once\n",
        "    files.download('history_dict.json')\n",
        "except:\n",
        "    pass"
      ],
      "execution_count": 0,
      "outputs": []
    },
    {
      "cell_type": "code",
      "metadata": {
        "id": "jxEpvYPVcyUb",
        "colab_type": "code",
        "colab": {}
      },
      "source": [
        "#uploaded = files.upload()\n",
        "with open('history_dict.json') as f:\n",
        "    history_dict = json.load(f)\n",
        "    \n",
        "for k,v in history_dict.items():\n",
        "  history_dict[k] = json.loads(v)\n",
        "\n",
        "history_df = pd.DataFrame(history_dict)"
      ],
      "execution_count": 0,
      "outputs": []
    },
    {
      "cell_type": "markdown",
      "metadata": {
        "id": "_eAC27OxKOLY",
        "colab_type": "text"
      },
      "source": [
        "#### **Let's plot training and validation loss vs epochs:**"
      ]
    },
    {
      "cell_type": "code",
      "metadata": {
        "id": "FFs4JAkn-vtq",
        "colab_type": "code",
        "outputId": "60dc658c-bf06-45d8-daa7-4217d3466bdb",
        "colab": {
          "base_uri": "https://localhost:8080/",
          "height": 407
        }
      },
      "source": [
        "loss = history_df[['loss','val_loss']]\n",
        "loss.columns = ['train_loss', 'val_loss']\n",
        "loss.plot(figsize=(10, 6), title='Loss vs epochs')"
      ],
      "execution_count": 0,
      "outputs": [
        {
          "output_type": "execute_result",
          "data": {
            "text/plain": [
              "<matplotlib.axes._subplots.AxesSubplot at 0x7f0e1adfc400>"
            ]
          },
          "metadata": {
            "tags": []
          },
          "execution_count": 46
        },
        {
          "output_type": "display_data",
          "data": {
            "image/png": "[encoded data removed]",
            "text/plain": [
              "<Figure size 720x432 with 1 Axes>"
            ]
          },
          "metadata": {
            "tags": []
          }
        }
      ]
    },
    {
      "cell_type": "markdown",
      "metadata": {
        "id": "VSFAqg-gKlR0",
        "colab_type": "text"
      },
      "source": [
        "#### **Let's plot training and validation accuracy vs epochs:**"
      ]
    },
    {
      "cell_type": "code",
      "metadata": {
        "id": "zux8aIdQN7zN",
        "colab_type": "code",
        "outputId": "ce35dba9-49cf-4385-c7a6-9f865d43f391",
        "colab": {
          "base_uri": "https://localhost:8080/",
          "height": 407
        }
      },
      "source": [
        "acc = history_df[['val_acc','acc']]\n",
        "acc.columns = ['val_acc', 'train_acc']\n",
        "acc.plot(figsize=(10, 6), title='Val acc & Train acc vs epochs')"
      ],
      "execution_count": 0,
      "outputs": [
        {
          "output_type": "execute_result",
          "data": {
            "text/plain": [
              "<matplotlib.axes._subplots.AxesSubplot at 0x7f0e1b5f50f0>"
            ]
          },
          "metadata": {
            "tags": []
          },
          "execution_count": 47
        },
        {
          "output_type": "display_data",
          "data": {
            "image/png": "[encoded data removed]",
            "text/plain": [
              "<Figure size 720x432 with 1 Axes>"
            ]
          },
          "metadata": {
            "tags": []
          }
        }
      ]
    },
    {
      "cell_type": "markdown",
      "metadata": {
        "id": "B8RiTO3yLDXy",
        "colab_type": "text"
      },
      "source": [
        "#### **Let's plot learning rate vs epochs:**"
      ]
    },
    {
      "cell_type": "code",
      "metadata": {
        "id": "o2ggKlccOAHA",
        "colab_type": "code",
        "outputId": "01895149-f7b0-4476-c15d-b5197a181cca",
        "colab": {
          "base_uri": "https://localhost:8080/",
          "height": 407
        }
      },
      "source": [
        "lr = history_df[['lr']]\n",
        "lr.plot(figsize=(10, 6), title='Learning rate vs epochs')"
      ],
      "execution_count": 0,
      "outputs": [
        {
          "output_type": "execute_result",
          "data": {
            "text/plain": [
              "<matplotlib.axes._subplots.AxesSubplot at 0x7f0e1b56c198>"
            ]
          },
          "metadata": {
            "tags": []
          },
          "execution_count": 48
        },
        {
          "output_type": "display_data",
          "data": {
            "image/png": "[encoded data removed]",
            "text/plain": [
              "<Figure size 720x432 with 1 Axes>"
            ]
          },
          "metadata": {
            "tags": []
          }
        }
      ]
    },
    {
      "cell_type": "markdown",
      "metadata": {
        "id": "pEjAnQK9Mhfy",
        "colab_type": "text"
      },
      "source": [
        "#### **Let's evaluate the best model, on the validation set and compute relevant metrics:**"
      ]
    },
    {
      "cell_type": "code",
      "metadata": {
        "id": "pc4dm0GKcCb7",
        "colab_type": "code",
        "colab": {}
      },
      "source": [
        "#uploaded = files.upload()\n",
        "res_cnn.load_weights('base_model.h5')"
      ],
      "execution_count": 0,
      "outputs": []
    },
    {
      "cell_type": "code",
      "metadata": {
        "id": "_4QyhhkriB7C",
        "colab_type": "code",
        "outputId": "5e8b082a-83a8-4e19-b8e5-80f6df22fc7c",
        "colab": {
          "base_uri": "https://localhost:8080/",
          "height": 357
        }
      },
      "source": [
        "## fully balanced training\n",
        "## Rot every 45\n",
        "## 'C1' vs 'C2-3' vs 'all_other' - Downsampling training\n",
        "\n",
        "## 128x128, stride_60,\n",
        "##min_pos_pix_1250, mivalpos_1024\n",
        "## ReduceLROnPlateau(monitor='val_loss'... )\n",
        "## train_batch_32, opt_RMSprop, Kernel_3x3:\n",
        "\n",
        "X, y_true = next(val_generator)\n",
        "y_pred = res_cnn.predict(X)\n",
        "for i in range(1, len(val_generator)):\n",
        "  X, y = next(val_generator)\n",
        "  y_true = np.vstack((y_true, y))\n",
        "  y_pred = np.vstack((y_pred, res_cnn.predict(X)))\n",
        "\n",
        "y_true = np.argmax(y_true, axis=1)\n",
        "y_pred = np.argmax(y_pred, axis=1)\n",
        "\n",
        "val_acc = accuracy_score(y_true, y_pred)\n",
        "#roc_auc = roc_auc_score(y_true, y_pred)\n",
        "cm = confusion_matrix(y_true, y_pred)\n",
        "class_names = [k for k in val_generator.class_indices]\n",
        "c_report = classification_report(y_true, y_pred, target_names=class_names)\n",
        "\n",
        "print('\\nval_acc:\\n', val_acc)\n",
        "print('\\nConfusion Matrix:\\n', cm)\n",
        "print('\\nClassification Report:\\n', c_report)"
      ],
      "execution_count": 0,
      "outputs": [
        {
          "output_type": "stream",
          "text": [
            "\n",
            "val_acc:\n",
            " 0.8983516483516484\n",
            "\n",
            "Confusion Matrix:\n",
            " [[362   1   1]\n",
            " [ 92 259  13]\n",
            " [  2   2 360]]\n",
            "\n",
            "Classification Report:\n",
            "                precision    recall  f1-score   support\n",
            "\n",
            "       C1_pos       0.79      0.99      0.88       364\n",
            "     C2-3_pos       0.99      0.71      0.83       364\n",
            "all_other_pos       0.96      0.99      0.98       364\n",
            "\n",
            "     accuracy                           0.90      1092\n",
            "    macro avg       0.91      0.90      0.90      1092\n",
            " weighted avg       0.91      0.90      0.90      1092\n",
            "\n"
          ],
          "name": "stdout"
        }
      ]
    },
    {
      "cell_type": "markdown",
      "metadata": {
        "id": "ZR51ObEzTJ9R",
        "colab_type": "text"
      },
      "source": [
        "## **Let's evaluate the best model, when loaded from GoogleDrive:**"
      ]
    },
    {
      "cell_type": "code",
      "metadata": {
        "id": "RPCfAuGOH1gF",
        "colab_type": "code",
        "outputId": "e65ecdbf-bc5e-44c2-87e9-4d30b4cf876d",
        "colab": {
          "base_uri": "https://localhost:8080/",
          "height": 51
        }
      },
      "source": [
        "# Authenticate and create the PyDrive client.\n",
        "auth.authenticate_user()\n",
        "gauth = GoogleAuth()\n",
        "gauth.credentials = GoogleCredentials.get_application_default()\n",
        "drive = GoogleDrive(gauth)\n",
        "\n",
        "file_id = '18De1DbqyxD1JlNpue6LIUZXd73VgAN-f' # final model C1 vs C2-3 vs all_other\n",
        "\n",
        "downloaded = drive.CreateFile({'id': file_id})\n",
        "downloaded.GetContentFile(downloaded['title'])\n",
        "print('Downloaded content: \"{}\"'.format(downloaded['title']))\n",
        "print('Root dir content: {}'.format(os.listdir()))"
      ],
      "execution_count": 0,
      "outputs": [
        {
          "output_type": "stream",
          "text": [
            "Downloaded content: \"base_model_C1_C2-3_092121.h5\"\n",
            "Root dir content: ['.config', 'Patches', 'gdrive', 'adc.json', 'base_model.h5', 'base_model_C1_C2-3_092121.h5', 'history_dict.json', 'sample_data']\n"
          ],
          "name": "stdout"
        }
      ]
    },
    {
      "cell_type": "markdown",
      "metadata": {
        "id": "iQATUr-sUBpu",
        "colab_type": "text"
      },
      "source": [
        "#### **Results when creating a fresh network and only weights are loaded:**"
      ]
    },
    {
      "cell_type": "code",
      "metadata": {
        "id": "LFwUtvGBSiBW",
        "colab_type": "code",
        "colab": {}
      },
      "source": [
        "classes = list(iter(train_generator.class_indices))\n",
        "n_classes = len(classes)\n",
        "layers_per_block = [4, 4, 4, 4] #18 layers total with first conv and last FC\n",
        "n_filters = [64, 128, 256, 512]\n",
        "kernel_sizes = [(3,3), (3,3), (3,3), (3,3)]\n",
        "l2_reg = 0.1\n",
        "optimizer = RMSprop # Adamax, RMSprop, Adam (No: Nadam, SGD)\n",
        "lr = 1e-3\n",
        "decay = 0.01\n",
        "momentum = 0.9\n",
        "\n",
        "res_cnn = make_resnet(img_size, n_classes, layers_per_block, n_filters,\n",
        "                       kernel_sizes, l2_reg, optimizer, lr, decay, momentum)\n",
        "\n",
        "res_cnn.load_weights(downloaded['title'])"
      ],
      "execution_count": 0,
      "outputs": []
    },
    {
      "cell_type": "code",
      "metadata": {
        "id": "SOkYO5hR_eaO",
        "colab_type": "code",
        "outputId": "d00eed44-aeb6-425a-9706-c2c19f3cbd3c",
        "colab": {
          "base_uri": "https://localhost:8080/",
          "height": 357
        }
      },
      "source": [
        "## fresh network, loading weights\n",
        "\n",
        "X, y_true = next(val_generator)\n",
        "y_pred = res_cnn.predict(X)\n",
        "for i in range(1, len(val_generator)):\n",
        "  X, y = next(val_generator)\n",
        "  y_true = np.vstack((y_true, y))\n",
        "  y_pred = np.vstack((y_pred, res_cnn.predict(X)))\n",
        "\n",
        "y_true = np.argmax(y_true, axis=1)\n",
        "y_pred = np.argmax(y_pred, axis=1)\n",
        "\n",
        "val_acc = accuracy_score(y_true, y_pred)\n",
        "#roc_auc = roc_auc_score(y_true, y_pred)\n",
        "cm = confusion_matrix(y_true, y_pred)\n",
        "class_names = [k for k in val_generator.class_indices]\n",
        "c_report = classification_report(y_true, y_pred, target_names=class_names)\n",
        "\n",
        "print('\\nval_acc:\\n', val_acc)\n",
        "print('\\nConfusion Matrix:\\n', cm)\n",
        "print('\\nClassification Report:\\n', c_report)"
      ],
      "execution_count": 0,
      "outputs": [
        {
          "output_type": "stream",
          "text": [
            "\n",
            "val_acc:\n",
            " 0.8983516483516484\n",
            "\n",
            "Confusion Matrix:\n",
            " [[362   1   1]\n",
            " [ 92 259  13]\n",
            " [  2   2 360]]\n",
            "\n",
            "Classification Report:\n",
            "                precision    recall  f1-score   support\n",
            "\n",
            "       C1_pos       0.79      0.99      0.88       364\n",
            "     C2-3_pos       0.99      0.71      0.83       364\n",
            "all_other_pos       0.96      0.99      0.98       364\n",
            "\n",
            "     accuracy                           0.90      1092\n",
            "    macro avg       0.91      0.90      0.90      1092\n",
            " weighted avg       0.91      0.90      0.90      1092\n",
            "\n"
          ],
          "name": "stdout"
        }
      ]
    },
    {
      "cell_type": "markdown",
      "metadata": {
        "id": "lrsN8yvNUXPf",
        "colab_type": "text"
      },
      "source": [
        "#### **Results when loading the entire model (not just weights):**"
      ]
    },
    {
      "cell_type": "code",
      "metadata": {
        "id": "EkLv3rnDJIpd",
        "colab_type": "code",
        "colab": {}
      },
      "source": [
        "final_model = load_model(downloaded['title'])"
      ],
      "execution_count": 0,
      "outputs": []
    },
    {
      "cell_type": "code",
      "metadata": {
        "id": "CGdaZIe8_pyn",
        "colab_type": "code",
        "outputId": "41a76a9b-9d83-48dc-e6e3-1d6f7038e284",
        "colab": {
          "base_uri": "https://localhost:8080/",
          "height": 357
        }
      },
      "source": [
        "## entire model loaded from GoogleDrive (not just weights)\n",
        "\n",
        "X, y_true = next(val_generator)\n",
        "y_pred = final_model.predict(X)\n",
        "for i in range(1, len(val_generator)):\n",
        "  X, y = next(val_generator)\n",
        "  y_true = np.vstack((y_true, y))\n",
        "  y_pred = np.vstack((y_pred, final_model.predict(X)))\n",
        "\n",
        "y_true = np.argmax(y_true, axis=1)\n",
        "y_pred = np.argmax(y_pred, axis=1)\n",
        "\n",
        "val_acc = accuracy_score(y_true, y_pred)\n",
        "#roc_auc = roc_auc_score(y_true, y_pred)\n",
        "cm = confusion_matrix(y_true, y_pred)\n",
        "class_names = [k for k in val_generator.class_indices]\n",
        "c_report = classification_report(y_true, y_pred, target_names=class_names)\n",
        "\n",
        "print('\\nval_acc:\\n', val_acc)\n",
        "print('\\nConfusion Matrix:\\n', cm)\n",
        "print('\\nClassification Report:\\n', c_report)"
      ],
      "execution_count": 0,
      "outputs": [
        {
          "output_type": "stream",
          "text": [
            "\n",
            "val_acc:\n",
            " 0.8983516483516484\n",
            "\n",
            "Confusion Matrix:\n",
            " [[362   1   1]\n",
            " [ 92 259  13]\n",
            " [  2   2 360]]\n",
            "\n",
            "Classification Report:\n",
            "                precision    recall  f1-score   support\n",
            "\n",
            "       C1_pos       0.79      0.99      0.88       364\n",
            "     C2-3_pos       0.99      0.71      0.83       364\n",
            "all_other_pos       0.96      0.99      0.98       364\n",
            "\n",
            "     accuracy                           0.90      1092\n",
            "    macro avg       0.91      0.90      0.90      1092\n",
            " weighted avg       0.91      0.90      0.90      1092\n",
            "\n"
          ],
          "name": "stdout"
        }
      ]
    }
  ]
}