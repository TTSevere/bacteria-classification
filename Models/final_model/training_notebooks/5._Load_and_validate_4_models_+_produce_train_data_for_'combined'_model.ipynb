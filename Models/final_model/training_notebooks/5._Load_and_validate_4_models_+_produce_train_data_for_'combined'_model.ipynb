{
  "nbformat": 4,
  "nbformat_minor": 0,
  "metadata": {
    "colab": {
      "name": "Load and validate 4 models + produce train data for 'combined' model.ipynb",
      "provenance": [],
      "collapsed_sections": [],
      "machine_shape": "hm"
    },
    "kernelspec": {
      "name": "python3",
      "display_name": "Python 3"
    },
    "accelerator": "GPU"
  },
  "cells": [
    {
      "cell_type": "markdown",
      "metadata": {
        "id": "LYUPhq76Zm35",
        "colab_type": "text"
      },
      "source": [
        "###  <span style=\"color:red\">**This Notebook can be run from Google Colab:**</span>\n",
        "\n",
        "https://colab.research.google.com"
      ]
    },
    {
      "cell_type": "markdown",
      "metadata": {
        "id": "kMveENLYCJA9",
        "colab_type": "text"
      },
      "source": [
        "# **<span style=\"color:red\">Background and motivation:</span>**\n",
        "\n",
        "#### First, we trained a model using positive patches only (only patches actually containing regions corresponding to growing bacterial colonies in the petri-dish), to specifically differentiate among the 8 bacterial species in our dataset. From the confusion matrix of that model, we could see that the model is having difficulty to differentiate between classes 'C1' and 'C2-3' and between classes 'C4-7' and 'C5'.\n",
        "\n",
        "#### As a next step, we then trained a model to specifically learn to differentiate 'C1' vs 'C2-3' vs 'all_other' classes. This is a model with 3 classes only. \n",
        "\n",
        "#### Similarly, we also trained a model to specifically learn to differentiate 'C4-7' vs 'C5' vs 'all_other' classes.\n",
        "\n",
        "#### The last model we trained was a model to specifically differentiate between positive bacterial colony patches (of any class) and negative patches (either petri-dish background, petri-dish border or white image background). For this, we just combined all positive patches (regardless of the bacterial species) in a single 'positive' class and all negative patches in a single 'negative' class.  \n",
        "\n",
        "#### Now, we have 4 models, the first one producing 8 predicted probabilities (one for each baterial species), the second one producing 3 predicted probabilities ('C1', 'C2-3', 'all_other'), the third one also producing 3 predicted probabilities ('C4-7', 'C5', 'all_other') and the fourth one producing 2 predicted probabilities (positive_patch, negative_patch), for a total of 16 predicted probabilities.\n",
        "\n",
        "#### As a final step, before testing our model, we want to **combine** our models. For this, we will try using the 16 predicted probabilities as features and train a SVM or other simple classification model, to learn to predict either negative or the correct bacterial species, from the probabilities produced by the 4 models above."
      ]
    },
    {
      "cell_type": "code",
      "metadata": {
        "id": "Yom3XAA8ZnSA",
        "colab_type": "code",
        "outputId": "00e50a2a-b2be-465e-a39f-8cbb9e812d7a",
        "colab": {
          "base_uri": "https://localhost:8080/",
          "height": 194
        }
      },
      "source": [
        "import numpy as np\n",
        "import matplotlib.pyplot as plt\n",
        "%matplotlib inline\n",
        "import os\n",
        "import zipfile\n",
        "import shutil\n",
        "import json\n",
        "import pickle\n",
        "from google.colab import files\n",
        "\n",
        "import keras\n",
        "from keras.preprocessing.image import ImageDataGenerator\n",
        "from keras.models import load_model\n",
        "\n",
        "from sklearn.metrics import accuracy_score, confusion_matrix, \\\n",
        "                            classification_report, balanced_accuracy_score\n",
        "\n",
        "# Import PyDrive and associated libraries (to connect with GoogleDrive):\n",
        "from pydrive.auth import GoogleAuth\n",
        "from pydrive.drive import GoogleDrive\n",
        "from google.colab import auth\n",
        "from oauth2client.client import GoogleCredentials\n",
        "\n",
        "# Mount my GoogleDrive:\n",
        "from google.colab import drive\n",
        "drive.mount('/content/gdrive')\n",
        "\n",
        "# disable warnings\n",
        "import warnings\n",
        "warnings.simplefilter(\"ignore\")\n",
        "os.environ['TF_CPP_MIN_LOG_LEVEL'] = '3' "
      ],
      "execution_count": 1,
      "outputs": [
        {
          "output_type": "stream",
          "text": [
            "Using TensorFlow backend.\n"
          ],
          "name": "stderr"
        },
        {
          "output_type": "display_data",
          "data": {
            "text/html": [
              "<p style=\"color: red;\">\n",
              "The default version of TensorFlow in Colab will soon switch to TensorFlow 2.x.<br>\n",
              "We recommend you <a href=\"https://www.tensorflow.org/guide/migrate\" target=\"_blank\">upgrade</a> now \n",
              "or ensure your notebook will continue to use TensorFlow 1.x via the <code>%tensorflow_version 1.x</code> magic:\n",
              "<a href=\"https://colab.research.google.com/notebooks/tensorflow_version.ipynb\" target=\"_blank\">more info</a>.</p>\n"
            ],
            "text/plain": [
              "<IPython.core.display.HTML object>"
            ]
          },
          "metadata": {
            "tags": []
          }
        },
        {
          "output_type": "stream",
          "text": [
            "Go to this URL in a browser: https://accounts.google.com/o/oauth2/auth?client_id=947318989803-6bn6qk8qdgf4n4g3pfee6491hc0brc4i.apps.googleusercontent.com&redirect_uri=urn%3aietf%3awg%3aoauth%3a2.0%3aoob&response_type=code&scope=email%20https%3a%2f%2fwww.googleapis.com%2fauth%2fdocs.test%20https%3a%2f%2fwww.googleapis.com%2fauth%2fdrive%20https%3a%2f%2fwww.googleapis.com%2fauth%2fdrive.photos.readonly%20https%3a%2f%2fwww.googleapis.com%2fauth%2fpeopleapi.readonly\n",
            "\n",
            "Enter your authorization code:\n",
            "··········\n",
            "Mounted at /content/gdrive\n"
          ],
          "name": "stdout"
        }
      ]
    },
    {
      "cell_type": "markdown",
      "metadata": {
        "id": "DItexGaqdfEA",
        "colab_type": "text"
      },
      "source": [
        "### **Check if we are using GPU:**"
      ]
    },
    {
      "cell_type": "code",
      "metadata": {
        "id": "vn7AYx74dNq6",
        "colab_type": "code",
        "outputId": "80b984f7-a2f8-4119-f32d-7fef55402c9f",
        "colab": {
          "base_uri": "https://localhost:8080/",
          "height": 35
        }
      },
      "source": [
        "from keras import backend as K\n",
        "if K.backend() == \"tensorflow\":\n",
        "    import tensorflow as tf\n",
        "    device_name = tf.test.gpu_device_name()\n",
        "    if device_name == '':\n",
        "        device_name = \"None\"\n",
        "    print('Using TensorFlow version:', tf.__version__, ', GPU:', device_name)"
      ],
      "execution_count": 2,
      "outputs": [
        {
          "output_type": "stream",
          "text": [
            "Using TensorFlow version: 1.15.0 , GPU: /device:GPU:0\n"
          ],
          "name": "stdout"
        }
      ]
    },
    {
      "cell_type": "markdown",
      "metadata": {
        "id": "QQXfhMrHlqrz",
        "colab_type": "text"
      },
      "source": [
        "### **Download Validation ('Control') patches from GoogleDrive:**\n",
        "\n",
        "### This dataset contains 9 classes in total (8 bacterial species + negative patches).\n",
        "\n",
        "#### *Validation Patches were augmented with Patch_Generator, using 'stride=22' and rotations every 20 degrees until a full lap. Patches were then balanced by downsampling majority classes so we can compare accuracy of the model.*\n",
        "\n",
        "###  **NOTE: Validation patches were generated from original, non-preprocessed images. In this way, we will ensure our model perform well at testing time when pre-processing may not be feasible. As example, being able to create masks/image annotation may not be feasible on testing data.**\n",
        "\n"
      ]
    },
    {
      "cell_type": "code",
      "metadata": {
        "id": "ACvUlEucnnY0",
        "colab_type": "code",
        "outputId": "ce94f229-ffea-402d-f8a0-f284125ecd95",
        "colab": {
          "base_uri": "https://localhost:8080/",
          "height": 54
        }
      },
      "source": [
        "# Authenticate and create the PyDrive client.\n",
        "auth.authenticate_user()\n",
        "gauth = GoogleAuth()\n",
        "gauth.credentials = GoogleCredentials.get_application_default()\n",
        "drive = GoogleDrive(gauth)\n",
        "\n",
        "#\"Control_for_final_training_9_classes_128_vs22_minval_1024_rotate_every_20_full_balance.zip\":\n",
        "file_id = '1bebJEgFoWq04jX-6ZfqZPxAoxH5j4G9e' # Control only, rotate every 20, full balance\n",
        "#file_id = '1ikOi87uvs6wCovfoY2Wyucj7kfod85Ty' # Added Serial positive+border\n",
        "\n",
        "downloaded = drive.CreateFile({'id': file_id})\n",
        "downloaded.GetContentFile(downloaded['title'])\n",
        "print('Downloaded content: \"{}\"'.format(downloaded['title']))\n",
        "print('Root dir content: {}'.format(os.listdir()))\n",
        "patches_zip = downloaded['title']"
      ],
      "execution_count": 7,
      "outputs": [
        {
          "output_type": "stream",
          "text": [
            "Downloaded content: \"Control_for_final_training_9_classes_128_vs22_minval_1024_rotate_every_20_full_balance.zip\"\n",
            "Root dir content: ['.config', 'Patches', 'gdrive', 'adc.json', 'Control_for_final_training_9_classes_128_vs22_minval_1024_rotate_every_20_full_balance.zip', 'sample_data']\n"
          ],
          "name": "stdout"
        }
      ]
    },
    {
      "cell_type": "markdown",
      "metadata": {
        "id": "HSdGQav-qEJM",
        "colab_type": "text"
      },
      "source": [
        "### **Unzip the Validation ('Control') patches:**"
      ]
    },
    {
      "cell_type": "code",
      "metadata": {
        "id": "jP1-2THkn47w",
        "colab_type": "code",
        "outputId": "354a0d5d-66af-4569-a0a5-c92cd7fd32d9",
        "colab": {
          "base_uri": "https://localhost:8080/",
          "height": 35
        }
      },
      "source": [
        "# Remove 'Patches' dir if it already exists\n",
        "if 'Patches' in os.listdir():\n",
        "  shutil.rmtree('./Patches')\n",
        "with zipfile.ZipFile(patches_zip,\"r\") as zip:\n",
        "    zip.extractall()\n",
        "os.remove(downloaded['title'])\n",
        "print('Root dir content: {}'.format(os.listdir()))"
      ],
      "execution_count": 8,
      "outputs": [
        {
          "output_type": "stream",
          "text": [
            "Root dir content: ['.config', 'Patches', 'gdrive', 'adc.json', 'sample_data']\n"
          ],
          "name": "stdout"
        }
      ]
    },
    {
      "cell_type": "markdown",
      "metadata": {
        "id": "nd7htfD3rJ6V",
        "colab_type": "text"
      },
      "source": [
        "### **Let's count patches by type and class:**"
      ]
    },
    {
      "cell_type": "code",
      "metadata": {
        "id": "kH5rSidQbggC",
        "colab_type": "code",
        "outputId": "064d2224-d4ee-4f35-afad-d6d9fdde3f86",
        "colab": {
          "base_uri": "https://localhost:8080/",
          "height": 708
        }
      },
      "source": [
        "classes = ['C1','C2-3','C4-7','C5','C6','C8','C9','C10','neg']\n",
        "class_weights = {} # empty dictionary to store class weights\n",
        "\n",
        "grand_total = 0\n",
        "for type_ in ['Serial', 'Control', 'Streak']:\n",
        "    print(\"\\nTotal '{}' Patches per location:\".format(type_))\n",
        "    n_type = 0\n",
        "    class_weights[type_] = {} # nested empty dictionary to store class weights\n",
        "    for cls in classes:\n",
        "        if cls != 'neg':\n",
        "            pos_folder = './Patches/{}/{}_pos'.format(type_,cls)\n",
        "        else:\n",
        "            pos_folder = './Patches/{}/{}'.format(type_,cls)\n",
        "        n_pos = len(os.listdir(pos_folder))\n",
        "        n_type += n_pos\n",
        "        #print(pos_folder, n_pos)\n",
        "        print('total_{}: {}'.format(cls,n_pos))\n",
        "        class_weights[type_]['{}'.format(cls)] = 1/n_pos if n_pos else 0\n",
        "    print('Total {}: {}'.format(type_,n_type))\n",
        "    for loc in class_weights[type_].keys():\n",
        "        class_weights[type_][loc] *= n_type\n",
        "    grand_total += n_type\n",
        "print('\\nGRAND TOTAL: {}'.format(grand_total))"
      ],
      "execution_count": 9,
      "outputs": [
        {
          "output_type": "stream",
          "text": [
            "\n",
            "Total 'Serial' Patches per location:\n",
            "total_C1: 0\n",
            "total_C2-3: 0\n",
            "total_C4-7: 0\n",
            "total_C5: 0\n",
            "total_C6: 0\n",
            "total_C8: 0\n",
            "total_C9: 0\n",
            "total_C10: 0\n",
            "total_neg: 0\n",
            "Total Serial: 0\n",
            "\n",
            "Total 'Control' Patches per location:\n",
            "total_C1: 6610\n",
            "total_C2-3: 6610\n",
            "total_C4-7: 6610\n",
            "total_C5: 6610\n",
            "total_C6: 6610\n",
            "total_C8: 6610\n",
            "total_C9: 6610\n",
            "total_C10: 6610\n",
            "total_neg: 6610\n",
            "Total Control: 59490\n",
            "\n",
            "Total 'Streak' Patches per location:\n",
            "total_C1: 0\n",
            "total_C2-3: 0\n",
            "total_C4-7: 0\n",
            "total_C5: 0\n",
            "total_C6: 0\n",
            "total_C8: 0\n",
            "total_C9: 0\n",
            "total_C10: 0\n",
            "total_neg: 0\n",
            "Total Streak: 0\n",
            "\n",
            "GRAND TOTAL: 59490\n"
          ],
          "name": "stdout"
        }
      ]
    },
    {
      "cell_type": "markdown",
      "metadata": {
        "id": "GNJ7lSKQpdOT",
        "colab_type": "text"
      },
      "source": [
        "#### **Let's build the validation generator, using keras.preprocessing.image.ImageDataGenerator, rescaling image pixel values from [0,  255] to [0, 1]:**"
      ]
    },
    {
      "cell_type": "code",
      "metadata": {
        "id": "UANfdA6IUFKt",
        "colab_type": "code",
        "outputId": "925d435a-f4de-4c5f-fb75-9d333445dab2",
        "colab": {
          "base_uri": "https://localhost:8080/",
          "height": 35
        }
      },
      "source": [
        "img_size = (128,128,3)\n",
        "val_batch_size = 64\n",
        "\n",
        "val_datagen = ImageDataGenerator(rescale=1./255)\n",
        "\n",
        "val_generator = val_datagen.flow_from_directory(\n",
        "        './Patches/Control',\n",
        "        target_size=(img_size[0],img_size[1]),\n",
        "        batch_size=val_batch_size,\n",
        "        class_mode='categorical',\n",
        "        shuffle=False)"
      ],
      "execution_count": 10,
      "outputs": [
        {
          "output_type": "stream",
          "text": [
            "Found 59490 images belonging to 9 classes.\n"
          ],
          "name": "stdout"
        }
      ]
    },
    {
      "cell_type": "markdown",
      "metadata": {
        "id": "44ZzUGXvwqUn",
        "colab_type": "text"
      },
      "source": [
        "#### **Let's check what is the data generators' index for each class:**"
      ]
    },
    {
      "cell_type": "code",
      "metadata": {
        "id": "tSHQNC2awn84",
        "colab_type": "code",
        "outputId": "3fd85f5b-9a32-41be-fe0c-e458da738367",
        "colab": {
          "base_uri": "https://localhost:8080/",
          "height": 217
        }
      },
      "source": [
        "print('validation_generator.class_indices:', str(json.dumps(val_generator.class_indices, indent=2, default=str)))"
      ],
      "execution_count": 11,
      "outputs": [
        {
          "output_type": "stream",
          "text": [
            "validation_generator.class_indices: {\n",
            "  \"C10_pos\": 0,\n",
            "  \"C1_pos\": 1,\n",
            "  \"C2-3_pos\": 2,\n",
            "  \"C4-7_pos\": 3,\n",
            "  \"C5_pos\": 4,\n",
            "  \"C6_pos\": 5,\n",
            "  \"C8_pos\": 6,\n",
            "  \"C9_pos\": 7,\n",
            "  \"neg\": 8\n",
            "}\n"
          ],
          "name": "stdout"
        }
      ]
    },
    {
      "cell_type": "markdown",
      "metadata": {
        "id": "MRz_1oJzJRFH",
        "colab_type": "text"
      },
      "source": [
        "### **Let's download the 4 final models from GoogleDrive:**"
      ]
    },
    {
      "cell_type": "code",
      "metadata": {
        "id": "k5Y5GUUhcyAt",
        "colab_type": "code",
        "outputId": "041e78da-4186-4521-a74e-5ea07e54bf5f",
        "colab": {
          "base_uri": "https://localhost:8080/",
          "height": 272
        }
      },
      "source": [
        "# Authenticate and create the PyDrive client.\n",
        "auth.authenticate_user()\n",
        "gauth = GoogleAuth()\n",
        "gauth.credentials = GoogleCredentials.get_application_default()\n",
        "drive = GoogleDrive(gauth)\n",
        "\n",
        "eight_classes_id = '1w0u_EKaSG8zkMRtYkNjFd3IOnR3IpQsJ' # model_8_classes_0.8465\n",
        "C1_C2_3_id = '18De1DbqyxD1JlNpue6LIUZXd73VgAN-f' # model C1 vs C2-3 vs all_other\n",
        "C4_7_C5_id = '1-4e6W-yR13q3ckpgo8O9QVMTncWITHwg' # model_C4-7_vs_C5_vs_all-other\n",
        "pos_vs_neg_id = '1-BxPnguFXE7PHmzKadW0AnwWO9VqTywR' # model pos-neg\n",
        "\n",
        "files_ids_dict = {'model_eight_classes': eight_classes_id,\n",
        "                  'model_C1_C2_3': C1_C2_3_id,\n",
        "                  'model_C4_7_C5': C4_7_C5_id,\n",
        "                  'model_pos_vs_neg': pos_vs_neg_id}\n",
        "\n",
        "models_names_dict = {}\n",
        "for model_name, file_id in files_ids_dict.items():\n",
        "    downloaded = drive.CreateFile({'id': file_id})\n",
        "    downloaded.GetContentFile(downloaded['title'])\n",
        "    print('Downloaded content: \"{}\"'.format(downloaded['title']))\n",
        "    models_names_dict[model_name] = downloaded['title']\n",
        "\n",
        "print('\\nmodels_names_dict:', str(json.dumps(models_names_dict, indent=2, default=str)))\n",
        "print('\\nRoot dir content: {}\\n'.format(os.listdir()))"
      ],
      "execution_count": 12,
      "outputs": [
        {
          "output_type": "stream",
          "text": [
            "Downloaded content: \"model_8_classes_08465.h5\"\n",
            "Downloaded content: \"model_C1_C2-3_08983.h5\"\n",
            "Downloaded content: \"model_C4-7_C5_083.h5\"\n",
            "Downloaded content: \"model_pos_neg_09973.h5\"\n",
            "\n",
            "models_names_dict: {\n",
            "  \"model_eight_classes\": \"model_8_classes_08465.h5\",\n",
            "  \"model_C1_C2_3\": \"model_C1_C2-3_08983.h5\",\n",
            "  \"model_C4_7_C5\": \"model_C4-7_C5_083.h5\",\n",
            "  \"model_pos_vs_neg\": \"model_pos_neg_09973.h5\"\n",
            "}\n",
            "\n",
            "Root dir content: ['.config', 'Patches', 'gdrive', 'model_C1_C2-3_08983.h5', 'adc.json', 'model_C4-7_C5_083.h5', 'model_pos_neg_09973.h5', 'model_8_classes_08465.h5', 'sample_data']\n",
            "\n"
          ],
          "name": "stdout"
        }
      ]
    },
    {
      "cell_type": "markdown",
      "metadata": {
        "id": "pEjAnQK9Mhfy",
        "colab_type": "text"
      },
      "source": [
        "#### **Let's load all 4 models from downloaded files:**"
      ]
    },
    {
      "cell_type": "code",
      "metadata": {
        "id": "cH-tFKnoMjpw",
        "colab_type": "code",
        "colab": {}
      },
      "source": [
        "eight_classes_model = load_model(models_names_dict['model_eight_classes'])\n",
        "#eight_classes_model.summary() # summarize model."
      ],
      "execution_count": 0,
      "outputs": []
    },
    {
      "cell_type": "code",
      "metadata": {
        "id": "8O2mjdcllx4H",
        "colab_type": "code",
        "colab": {}
      },
      "source": [
        "C1_C2_3_model = load_model(models_names_dict['model_C1_C2_3'])\n",
        "#C1_C2_3_model.summary() # summarize model."
      ],
      "execution_count": 0,
      "outputs": []
    },
    {
      "cell_type": "code",
      "metadata": {
        "id": "UewyWEJOl_Co",
        "colab_type": "code",
        "colab": {}
      },
      "source": [
        "C4_7_C5_model = load_model(models_names_dict['model_C4_7_C5'])\n",
        "#C4_7_C5_model.summary() # summarize model."
      ],
      "execution_count": 0,
      "outputs": []
    },
    {
      "cell_type": "code",
      "metadata": {
        "id": "TIpwzCLVmRuE",
        "colab_type": "code",
        "colab": {}
      },
      "source": [
        "pos_vs_neg_model = load_model(models_names_dict['model_pos_vs_neg'])\n",
        "#pos_vs_neg_C5_model.summary() # summarize model."
      ],
      "execution_count": 0,
      "outputs": []
    },
    {
      "cell_type": "markdown",
      "metadata": {
        "id": "6oXacV9WmuGf",
        "colab_type": "text"
      },
      "source": [
        "## **Let's *'evaluate'* the models, just to make sure they loaded correctly:**"
      ]
    },
    {
      "cell_type": "markdown",
      "metadata": {
        "id": "r50HcLL8siHo",
        "colab_type": "text"
      },
      "source": [
        "#### **Let's evaluate '8 classes' model on the validation set:**"
      ]
    },
    {
      "cell_type": "code",
      "metadata": {
        "id": "p1GmvrSm1XEg",
        "colab_type": "code",
        "outputId": "bc630c75-ffec-4fc2-b9e9-443bde5830e9",
        "colab": {
          "base_uri": "https://localhost:8080/",
          "height": 563
        }
      },
      "source": [
        "y_true = val_generator.classes\n",
        "eight_classes_scores = eight_classes_model.predict_generator(val_generator)\n",
        "y_pred = np.argmax(eight_classes_scores, axis=1)\n",
        "\n",
        "# remove 'neg' class (index = 8):\n",
        "y_true, y_pred = y_true[(y_true != 8)], y_pred[(y_true != 8)]\n",
        "\n",
        "val_acc = accuracy_score(y_true, y_pred)\n",
        "cm = confusion_matrix(y_true, y_pred)\n",
        "class_names = [k for k in val_generator.class_indices if k != 'neg']\n",
        "c_report = classification_report(y_true, y_pred, target_names=class_names)\n",
        "\n",
        "print('\\nbalanced val_acc:\\n', val_acc)\n",
        "print('\\nConfusion Matrix:\\n', cm)\n",
        "print('\\nClassification Report:\\n', c_report)"
      ],
      "execution_count": 18,
      "outputs": [
        {
          "output_type": "stream",
          "text": [
            "\n",
            "balanced val_acc:\n",
            " 0.8236951588502269\n",
            "\n",
            "Confusion Matrix:\n",
            " [[6545   26   34    0    0    5    0    0]\n",
            " [  30 5824  657    0    0    1   98    0]\n",
            " [   0 2043 4269    0    0  107  187    4]\n",
            " [   0    0   48 5458 1048    2   54    0]\n",
            " [   0   14    0 3891 2696    0    9    0]\n",
            " [  54    1   61   47    5 6359   82    1]\n",
            " [   0  190    9  581   34    0 5796    0]\n",
            " [   0    0    0    0    0    0    0 6610]]\n",
            "\n",
            "Classification Report:\n",
            "               precision    recall  f1-score   support\n",
            "\n",
            "     C10_pos       0.99      0.99      0.99      6610\n",
            "      C1_pos       0.72      0.88      0.79      6610\n",
            "    C2-3_pos       0.84      0.65      0.73      6610\n",
            "    C4-7_pos       0.55      0.83      0.66      6610\n",
            "      C5_pos       0.71      0.41      0.52      6610\n",
            "      C6_pos       0.98      0.96      0.97      6610\n",
            "      C8_pos       0.93      0.88      0.90      6610\n",
            "      C9_pos       1.00      1.00      1.00      6610\n",
            "\n",
            "    accuracy                           0.82     52880\n",
            "   macro avg       0.84      0.82      0.82     52880\n",
            "weighted avg       0.84      0.82      0.82     52880\n",
            "\n"
          ],
          "name": "stdout"
        }
      ]
    },
    {
      "cell_type": "markdown",
      "metadata": {
        "id": "sQDagJTEslfr",
        "colab_type": "text"
      },
      "source": [
        "\n",
        "\n",
        "**Let's remember the val_generator class indices (we will need them next):**"
      ]
    },
    {
      "cell_type": "code",
      "metadata": {
        "id": "ddoNhhyOC_28",
        "colab_type": "code",
        "outputId": "11b14b3a-6e79-4773-b317-2354f3b4456c",
        "colab": {
          "base_uri": "https://localhost:8080/",
          "height": 217
        }
      },
      "source": [
        "print('validation_generator.class_indices:', str(json.dumps(val_generator.class_indices, indent=2, default=str)))"
      ],
      "execution_count": 19,
      "outputs": [
        {
          "output_type": "stream",
          "text": [
            "validation_generator.class_indices: {\n",
            "  \"C10_pos\": 0,\n",
            "  \"C1_pos\": 1,\n",
            "  \"C2-3_pos\": 2,\n",
            "  \"C4-7_pos\": 3,\n",
            "  \"C5_pos\": 4,\n",
            "  \"C6_pos\": 5,\n",
            "  \"C8_pos\": 6,\n",
            "  \"C9_pos\": 7,\n",
            "  \"neg\": 8\n",
            "}\n"
          ],
          "name": "stdout"
        }
      ]
    },
    {
      "cell_type": "markdown",
      "metadata": {
        "id": "OunhDhWzF_no",
        "colab_type": "text"
      },
      "source": [
        "#### **Let's evaluate 'C1_C2_3' model on the validation set:**"
      ]
    },
    {
      "cell_type": "code",
      "metadata": {
        "id": "Io-59ijjf6cu",
        "colab_type": "code",
        "outputId": "0caf6bad-4979-4881-9dd0-02c2c2206e89",
        "colab": {
          "base_uri": "https://localhost:8080/",
          "height": 417
        }
      },
      "source": [
        "y_true = val_generator.classes\n",
        "print('\\nunique values in y_true', np.unique(y_true))\n",
        "\n",
        "C1_C2_3_scores = C1_C2_3_model.predict_generator(val_generator)\n",
        "y_pred = np.argmax(C1_C2_3_scores, axis=1)\n",
        "\n",
        "# remove 'neg' class (index = 8):\n",
        "y_true, y_pred = y_true[(y_true != 8)], y_pred[(y_true != 8)]\n",
        "\n",
        "# class indices for C1_C2_3_model are as follows:\n",
        "C1_C2_3_model_class_dict = {0:\"C1_pos\", 1:\"C2-3_pos\", 2:\"all_other_pos\"}\n",
        "\n",
        "# let's map y_pred class indices from 0,1,2 to 1,2,3 (same as val_generator):\n",
        "y_pred +=1\n",
        "\n",
        "# in y_true, convert classes != 'C1_pos'(1),'C2-3_pos'(2) into 'all_other'(3):\n",
        "y_true[(y_true!=1) & (y_true!=2)] = 3\n",
        "\n",
        "val_acc = balanced_accuracy_score(y_true, y_pred)\n",
        "cm = confusion_matrix(y_true, y_pred)\n",
        "class_names = [v for v in C1_C2_3_model_class_dict.values()]\n",
        "c_report = classification_report(y_true, y_pred, target_names=class_names)\n",
        "\n",
        "print('\\nbalanced val_acc:\\n', val_acc)\n",
        "print('\\nConfusion Matrix:\\n', cm)\n",
        "print('\\nClassification Report:\\n', c_report)"
      ],
      "execution_count": 20,
      "outputs": [
        {
          "output_type": "stream",
          "text": [
            "\n",
            "unique values in y_true [0 1 2 3 4 5 6 7 8]\n",
            "\n",
            "balanced val_acc:\n",
            " 0.8449235165574046\n",
            "\n",
            "Confusion Matrix:\n",
            " [[ 6352   232    26]\n",
            " [ 1995  3890   725]\n",
            " [  271   312 39077]]\n",
            "\n",
            "Classification Report:\n",
            "                precision    recall  f1-score   support\n",
            "\n",
            "       C1_pos       0.74      0.96      0.83      6610\n",
            "     C2-3_pos       0.88      0.59      0.70      6610\n",
            "all_other_pos       0.98      0.99      0.98     39660\n",
            "\n",
            "     accuracy                           0.93     52880\n",
            "    macro avg       0.87      0.84      0.84     52880\n",
            " weighted avg       0.94      0.93      0.93     52880\n",
            "\n"
          ],
          "name": "stdout"
        }
      ]
    },
    {
      "cell_type": "markdown",
      "metadata": {
        "id": "KSiAK3tZJQOV",
        "colab_type": "text"
      },
      "source": [
        "**Again, just remember the val_generator class indices (we will need them next):**"
      ]
    },
    {
      "cell_type": "code",
      "metadata": {
        "id": "mPxGtbtYHRtn",
        "colab_type": "code",
        "outputId": "feeff7e4-846f-4ab4-a3a4-4dbc087bac0e",
        "colab": {
          "base_uri": "https://localhost:8080/",
          "height": 217
        }
      },
      "source": [
        "print('validation_generator.class_indices:', str(json.dumps(val_generator.class_indices, indent=2, default=str)))"
      ],
      "execution_count": 21,
      "outputs": [
        {
          "output_type": "stream",
          "text": [
            "validation_generator.class_indices: {\n",
            "  \"C10_pos\": 0,\n",
            "  \"C1_pos\": 1,\n",
            "  \"C2-3_pos\": 2,\n",
            "  \"C4-7_pos\": 3,\n",
            "  \"C5_pos\": 4,\n",
            "  \"C6_pos\": 5,\n",
            "  \"C8_pos\": 6,\n",
            "  \"C9_pos\": 7,\n",
            "  \"neg\": 8\n",
            "}\n"
          ],
          "name": "stdout"
        }
      ]
    },
    {
      "cell_type": "markdown",
      "metadata": {
        "id": "uyiG-qfFsmTt",
        "colab_type": "text"
      },
      "source": [
        "#### **Let's evaluate 'C4-7_C5' model on the validation set:**"
      ]
    },
    {
      "cell_type": "code",
      "metadata": {
        "id": "XoPWYldkkryC",
        "colab_type": "code",
        "outputId": "b60ab0fd-d50b-4e7b-9628-b17316a04735",
        "colab": {
          "base_uri": "https://localhost:8080/",
          "height": 417
        }
      },
      "source": [
        "y_true = val_generator.classes\n",
        "print('\\nunique values in y_true', np.unique(y_true))\n",
        "\n",
        "C4_7_C5_scores = C4_7_C5_model.predict_generator(val_generator)\n",
        "y_pred = np.argmax(C4_7_C5_scores, axis=1)\n",
        "\n",
        "# remove 'neg' class (index = 8):\n",
        "y_true, y_pred = y_true[(y_true != 8)], y_pred[(y_true != 8)]\n",
        "\n",
        "# class indices for C4-7_C5_model are as follows:\n",
        "C4_7_C5_model_class_dict = {0:\"C4-7_pos\", 1:\"C5_pos\",2: \"all_other_pos\"}\n",
        "\n",
        "# in y_true, convert classes != 'C4-7_pos'(3),'C5_pos'(4) into 'all_other'(2):\n",
        "y_true[(y_true!=3) & (y_true!=4)] = 2\n",
        "\n",
        "# now, let's map 'C4-7_pos' from 3 to 0 and 'C5_pos' from 4 to 1:\n",
        "y_true[y_true==3] = 0\n",
        "y_true[y_true==4] = 1\n",
        "\n",
        "val_acc = balanced_accuracy_score(y_true, y_pred)\n",
        "cm = confusion_matrix(y_true, y_pred)\n",
        "class_names = [v for v in C4_7_C5_model_class_dict.values()]\n",
        "c_report = classification_report(y_true, y_pred, target_names=class_names)\n",
        "\n",
        "print('\\nbalanced val_acc:\\n', val_acc)\n",
        "print('\\nConfusion Matrix:\\n', cm)\n",
        "print('\\nClassification Report:\\n', c_report)"
      ],
      "execution_count": 22,
      "outputs": [
        {
          "output_type": "stream",
          "text": [
            "\n",
            "unique values in y_true [0 1 2 3 4 5 6 7 8]\n",
            "\n",
            "balanced val_acc:\n",
            " 0.82523953605648\n",
            "\n",
            "Confusion Matrix:\n",
            " [[ 3943  2506   161]\n",
            " [  499  6054    57]\n",
            " [ 1005   450 38205]]\n",
            "\n",
            "Classification Report:\n",
            "                precision    recall  f1-score   support\n",
            "\n",
            "     C4-7_pos       0.72      0.60      0.65      6610\n",
            "       C5_pos       0.67      0.92      0.78      6610\n",
            "all_other_pos       0.99      0.96      0.98     39660\n",
            "\n",
            "     accuracy                           0.91     52880\n",
            "    macro avg       0.80      0.83      0.80     52880\n",
            " weighted avg       0.92      0.91      0.91     52880\n",
            "\n"
          ],
          "name": "stdout"
        }
      ]
    },
    {
      "cell_type": "markdown",
      "metadata": {
        "id": "DHdRLbjPJbit",
        "colab_type": "text"
      },
      "source": [
        "**Again, just remember the val_generator class indices (we will need them next):**"
      ]
    },
    {
      "cell_type": "code",
      "metadata": {
        "id": "ofdp6x8EJHWI",
        "colab_type": "code",
        "outputId": "0d7e1e43-aadb-421f-d2ce-f3ab84ddb339",
        "colab": {
          "base_uri": "https://localhost:8080/",
          "height": 217
        }
      },
      "source": [
        "print('validation_generator.class_indices:', str(json.dumps(val_generator.class_indices, indent=2, default=str)))"
      ],
      "execution_count": 23,
      "outputs": [
        {
          "output_type": "stream",
          "text": [
            "validation_generator.class_indices: {\n",
            "  \"C10_pos\": 0,\n",
            "  \"C1_pos\": 1,\n",
            "  \"C2-3_pos\": 2,\n",
            "  \"C4-7_pos\": 3,\n",
            "  \"C5_pos\": 4,\n",
            "  \"C6_pos\": 5,\n",
            "  \"C8_pos\": 6,\n",
            "  \"C9_pos\": 7,\n",
            "  \"neg\": 8\n",
            "}\n"
          ],
          "name": "stdout"
        }
      ]
    },
    {
      "cell_type": "markdown",
      "metadata": {
        "id": "z5n4MADAsplY",
        "colab_type": "text"
      },
      "source": [
        "#### **Let's evaluate 'pos_vs_neg' model on the validation set:**"
      ]
    },
    {
      "cell_type": "code",
      "metadata": {
        "id": "vyIRU25UJeVj",
        "colab_type": "code",
        "outputId": "fe5806c2-2575-4327-e53a-98d2f0800382",
        "colab": {
          "base_uri": "https://localhost:8080/",
          "height": 381
        }
      },
      "source": [
        "y_true = val_generator.classes\n",
        "print('\\nunique values in y_true', np.unique(y_true))\n",
        "\n",
        "pos_vs_neg_scores = pos_vs_neg_model.predict_generator(val_generator)\n",
        "y_pred = np.argmax(pos_vs_neg_scores, axis=1)\n",
        "\n",
        "# class indices for C4-7_C5_model are as follows:\n",
        "pos_vs_neg_model_class_dict = {0:'neg', 1:'pos'}\n",
        "\n",
        "# in y_true, convert classes != 'neg'(8) to 1:\n",
        "y_true[y_true!=8] = 1\n",
        "\n",
        "# now, let's map 'neg' from 8 to 0:\n",
        "y_true[y_true==8] = 0\n",
        "\n",
        "val_acc = balanced_accuracy_score(y_true, y_pred)\n",
        "cm = confusion_matrix(y_true, y_pred)\n",
        "class_names = [v for v in pos_vs_neg_model_class_dict.values()]\n",
        "c_report = classification_report(y_true, y_pred, target_names=class_names)\n",
        "\n",
        "print('\\nbalanced val_acc:\\n', val_acc)\n",
        "print('\\nConfusion Matrix:\\n', cm)\n",
        "print('\\nClassification Report:\\n', c_report)"
      ],
      "execution_count": 24,
      "outputs": [
        {
          "output_type": "stream",
          "text": [
            "\n",
            "unique values in y_true [0 1 2 3 4 5 6 7 8]\n",
            "\n",
            "balanced val_acc:\n",
            " 0.9968891830559758\n",
            "\n",
            "Confusion Matrix:\n",
            " [[ 6575    35]\n",
            " [   49 52831]]\n",
            "\n",
            "Classification Report:\n",
            "               precision    recall  f1-score   support\n",
            "\n",
            "         neg       0.99      0.99      0.99      6610\n",
            "         pos       1.00      1.00      1.00     52880\n",
            "\n",
            "    accuracy                           1.00     59490\n",
            "   macro avg       1.00      1.00      1.00     59490\n",
            "weighted avg       1.00      1.00      1.00     59490\n",
            "\n"
          ],
          "name": "stdout"
        }
      ]
    },
    {
      "cell_type": "markdown",
      "metadata": {
        "id": "q69R2-ZBuY9U",
        "colab_type": "text"
      },
      "source": [
        "### **All models performed as expected let's now produce a composite array of training data with the features being the total 16 scores produced by the 4 models and the target being the actual class from the 9 classes in the downloaded patches:**"
      ]
    },
    {
      "cell_type": "markdown",
      "metadata": {
        "id": "RNCAHUyuLqo7",
        "colab_type": "text"
      },
      "source": [
        "#### **First, let's check the sizes to make sure they are correct:**"
      ]
    },
    {
      "cell_type": "code",
      "metadata": {
        "id": "ARRyzIKguH6_",
        "colab_type": "code",
        "outputId": "95469748-8c85-48ec-b096-6723e17c696f",
        "colab": {
          "base_uri": "https://localhost:8080/",
          "height": 145
        }
      },
      "source": [
        "y_true = val_generator.classes\n",
        "print('\\nunique values in y_true', np.unique(y_true))\n",
        "print('y_true.shape', y_true.shape)\n",
        "print('eight_classes_scores.shape', eight_classes_scores.shape)\n",
        "print('C1_C2_3_scores.shape', C1_C2_3_scores.shape)\n",
        "print('C4_7_C5_scores.shape', C4_7_C5_scores.shape)\n",
        "print('pos_vs_neg_scores.shape', pos_vs_neg_scores.shape)"
      ],
      "execution_count": 25,
      "outputs": [
        {
          "output_type": "stream",
          "text": [
            "\n",
            "unique values in y_true [0 1]\n",
            "y_true.shape (59490,)\n",
            "eight_classes_scores.shape (59490, 8)\n",
            "C1_C2_3_scores.shape (59490, 3)\n",
            "C4_7_C5_scores.shape (59490, 3)\n",
            "pos_vs_neg_scores.shape (59490, 2)\n"
          ],
          "name": "stdout"
        }
      ]
    },
    {
      "cell_type": "markdown",
      "metadata": {
        "id": "WAKrXJIFEMI5",
        "colab_type": "text"
      },
      "source": [
        "#### **For some unknown reason y_true classes are not correct so let's run the val_generator again to get correct y_true:**"
      ]
    },
    {
      "cell_type": "code",
      "metadata": {
        "id": "FeU7tJXzERt5",
        "colab_type": "code",
        "colab": {
          "base_uri": "https://localhost:8080/",
          "height": 72
        },
        "outputId": "9965932f-0f5a-4cd7-a30b-5de4d9150be0"
      },
      "source": [
        "val_datagen = ImageDataGenerator(rescale=1./255)\n",
        "\n",
        "val_generator = val_datagen.flow_from_directory(\n",
        "        './Patches/Control',\n",
        "        target_size=(img_size[0],img_size[1]),\n",
        "        batch_size=val_batch_size,\n",
        "        class_mode='categorical',\n",
        "        shuffle=False)\n",
        "\n",
        "y_true = val_generator.classes\n",
        "print('\\nunique values in y_true', np.unique(y_true))"
      ],
      "execution_count": 26,
      "outputs": [
        {
          "output_type": "stream",
          "text": [
            "Found 59490 images belonging to 9 classes.\n",
            "\n",
            "unique values in y_true [0 1 2 3 4 5 6 7 8]\n"
          ],
          "name": "stdout"
        }
      ]
    },
    {
      "cell_type": "markdown",
      "metadata": {
        "id": "dkep8xq7L0ut",
        "colab_type": "text"
      },
      "source": [
        "#### **Let's combine the outputs from all models:**"
      ]
    },
    {
      "cell_type": "code",
      "metadata": {
        "id": "NlqQ0p3SuIKT",
        "colab_type": "code",
        "outputId": "a14d5d64-f84a-4ea2-e2c9-806cc76129b6",
        "colab": {
          "base_uri": "https://localhost:8080/",
          "height": 35
        }
      },
      "source": [
        "X = np.hstack((eight_classes_scores,C1_C2_3_scores,C4_7_C5_scores,pos_vs_neg_scores))\n",
        "print(X.shape)"
      ],
      "execution_count": 27,
      "outputs": [
        {
          "output_type": "stream",
          "text": [
            "(59490, 16)\n"
          ],
          "name": "stdout"
        }
      ]
    },
    {
      "cell_type": "markdown",
      "metadata": {
        "id": "Eyjy7fS8L_tB",
        "colab_type": "text"
      },
      "source": [
        "#### **Let's add y_true as the last column:**"
      ]
    },
    {
      "cell_type": "code",
      "metadata": {
        "id": "eilt6tSm0cQP",
        "colab_type": "code",
        "outputId": "a50dac0e-0f4a-413e-a8bd-00fc1b907959",
        "colab": {
          "base_uri": "https://localhost:8080/",
          "height": 35
        }
      },
      "source": [
        "y = np.reshape(y_true, (len(y_true),-1)) # reshape from 1D to 2D with isngle column\n",
        "train_data = np.hstack((X, y))\n",
        "print(train_data.shape)"
      ],
      "execution_count": 28,
      "outputs": [
        {
          "output_type": "stream",
          "text": [
            "(59490, 17)\n"
          ],
          "name": "stdout"
        }
      ]
    },
    {
      "cell_type": "markdown",
      "metadata": {
        "id": "LvNUXiIHt9TV",
        "colab_type": "text"
      },
      "source": [
        "#### **Let's download the train_data into a CSV file on GoogleDrive:**"
      ]
    },
    {
      "cell_type": "code",
      "metadata": {
        "id": "mEMCAtvaTYZv",
        "colab_type": "code",
        "colab": {}
      },
      "source": [
        "dest = 'gdrive/My Drive/Capstone/train_data.csv'\n",
        "np.savetxt(dest, train_data, delimiter=\",\") "
      ],
      "execution_count": 0,
      "outputs": []
    },
    {
      "cell_type": "markdown",
      "metadata": {
        "id": "Is5M8gnF4nml",
        "colab_type": "text"
      },
      "source": [
        "# **Next Steps:**\n",
        "\n"
      ]
    },
    {
      "cell_type": "markdown",
      "metadata": {
        "id": "qol8Kd1G_J0N",
        "colab_type": "text"
      },
      "source": [
        "#### As a final step, before testing our model, we will use the combined 16 predicted probabilities as features to train a SVM or other simple classification model, to learn to predict either negative or the correct bacterial species, from the probabilities produced by the 4 models above and stored together with y_true in a CSV file on GoogleDrive."
      ]
    }
  ]
}