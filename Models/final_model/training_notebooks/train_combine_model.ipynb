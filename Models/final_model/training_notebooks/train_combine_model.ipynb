{
 "cells": [
  {
   "cell_type": "markdown",
   "metadata": {
    "colab_type": "text",
    "id": "LYUPhq76Zm35"
   },
   "source": [
    "###  <span style=\"color:red\">**This Notebook can be run from Google Colab:**</span>\n",
    "\n",
    "https://colab.research.google.com"
   ]
  },
  {
   "cell_type": "markdown",
   "metadata": {
    "colab_type": "text",
    "id": "kMveENLYCJA9"
   },
   "source": [
    "# **<span style=\"color:red\">Background and motivation:</span>**\n",
    "\n",
    "#### First, we trained a model using positive patches only (only patches actually containing regions corresponding to growing bacterial colonies in the petri-dish), to specifically differentiate among the 8 bacterial species in our dataset. From the confusion matrix of that model, we could see that the model is having difficulty to differentiate between classes 'C1' and 'C2-3' and between classes 'C4-7' and 'C5'.<br>\n",
    "\n",
    "#### As a next step, we then trained a model to specifically learn to differentiate 'C1' vs 'C2-3' vs 'all_other' classes. This is a model with 3 classes only.<br>\n",
    "\n",
    "#### Similarly, we also trained a model to specifically learn to differentiate 'C4-7' vs 'C5' vs 'all_other' classes.<br>\n",
    "\n",
    "#### Last model we trained was a model to specifically differentiate between positive bacterial colony patches (of any class) and negative patches (either petri-dish background, petri-dish border or white image background). For this, we just combined all positive patches (regardless of the bacterial species) in a single 'positive' class and all negative patches in a single 'negative' class.<br> \n",
    "\n",
    "#### We then had 4 models, the first one producing 8 predicted probabilities (one for each baterial species), the second one producing 3 predicted probabilities ('C1','C2-3','all_other'), the third one also producing 3 predicted probabilities ('C4-7','C5','all_other') and the fourth one producing 2 predicted probabilities (positive_patch, negative_patch), for a total of 16 predicted probabilities.<br>\n",
    "\n",
    "#### With those 4 models, using an augmented validation dataset with 9 classes (8 bacterial species + negative_patches), we combined the 16 predicted probabilities as features and y_true, into a training dataset.<br>\n",
    "\n",
    "#### On this notebook, we now intend to use to train a simple SVM or other simple classification model, to learn to predict either negative or the correct bacterial species, from the probabilities produced by the 4 models above."
   ]
  },
  {
   "cell_type": "code",
   "execution_count": 61,
   "metadata": {
    "colab": {
     "base_uri": "https://localhost:8080/",
     "height": 128
    },
    "colab_type": "code",
    "id": "hwnWgm4Lc_cr",
    "outputId": "5a2e1b8c-4c4e-4e87-ae6a-094ab3493132"
   },
   "outputs": [
    {
     "name": "stdout",
     "output_type": "stream",
     "text": [
      "Go to this URL in a browser: https://accounts.google.com/o/oauth2/auth?client_id=947318989803-6bn6qk8qdgf4n4g3pfee6491hc0brc4i.apps.googleusercontent.com&redirect_uri=urn%3aietf%3awg%3aoauth%3a2.0%3aoob&response_type=code&scope=email%20https%3a%2f%2fwww.googleapis.com%2fauth%2fdocs.test%20https%3a%2f%2fwww.googleapis.com%2fauth%2fdrive%20https%3a%2f%2fwww.googleapis.com%2fauth%2fdrive.photos.readonly%20https%3a%2f%2fwww.googleapis.com%2fauth%2fpeopleapi.readonly\n",
      "\n",
      "Enter your authorization code:\n",
      "··········\n",
      "Mounted at /content/gdrive\n"
     ]
    }
   ],
   "source": [
    "import os\n",
    "import urllib.request\n",
    "import numpy as np\n",
    "import pandas as pd\n",
    "import matplotlib.pyplot as plt\n",
    "%matplotlib inline\n",
    "import pickle\n",
    "\n",
    "from sklearn.model_selection import GridSearchCV, cross_val_score\n",
    "from sklearn.preprocessing import StandardScaler, PolynomialFeatures\n",
    "from sklearn.pipeline import Pipeline, make_pipeline\n",
    "from sklearn.svm import SVC\n",
    "from sklearn.linear_model import LogisticRegression\n",
    "from sklearn.svm import LinearSVC\n",
    "\n",
    "from google.colab import drive\n",
    "drive.mount('/content/gdrive')\n",
    "\n",
    "import warnings\n",
    "warnings.simplefilter(\"ignore\")"
   ]
  },
  {
   "cell_type": "markdown",
   "metadata": {
    "colab_type": "text",
    "id": "CWH9oh354xss"
   },
   "source": [
    "## **Let's download the prevously produced training data:**"
   ]
  },
  {
   "cell_type": "code",
   "execution_count": 2,
   "metadata": {
    "colab": {
     "base_uri": "https://localhost:8080/",
     "height": 72
    },
    "colab_type": "code",
    "id": "3pjWrB1gTiV3",
    "outputId": "a9c604c8-77e7-40f8-c29d-a7d10c23f081"
   },
   "outputs": [
    {
     "name": "stdout",
     "output_type": "stream",
     "text": [
      "Downloading train_data.csv...\n",
      "train_data.csv sucessfully downloaded in root dir.\n",
      "Root dir content: ['.config', 'train_data.csv', 'sample_data']\n"
     ]
    }
   ],
   "source": [
    "if 'train_data.csv' not in os.listdir():\n",
    "    print('Downloading train_data.csv...')\n",
    "    url = 'https://capstone-fs7.s3.amazonaws.com/train_data.csv'\n",
    "    urllib.request.urlretrieve(url, 'train_data.csv')\n",
    "    print('train_data.csv sucessfully downloaded in root dir.')\n",
    "    \n",
    "else:\n",
    "  print(\"'train_data.csv' was already found on root dir\")\n",
    "\n",
    "print('Root dir content: {}'.format(os.listdir()))"
   ]
  },
  {
   "cell_type": "markdown",
   "metadata": {
    "colab_type": "text",
    "id": "GDgyl75X6FuF"
   },
   "source": [
    "### **Let's load the donwnloaded csv into a pandas dataframe:**"
   ]
  },
  {
   "cell_type": "code",
   "execution_count": 3,
   "metadata": {
    "colab": {
     "base_uri": "https://localhost:8080/",
     "height": 272
    },
    "colab_type": "code",
    "id": "1sjr5bSHUMRw",
    "outputId": "a88f412c-a411-4e6e-d06d-1a0ac2720f41"
   },
   "outputs": [
    {
     "name": "stdout",
     "output_type": "stream",
     "text": [
      "              0         1         2  ...        14        15    y\n",
      "0      0.680979  0.020416  0.014917  ...  0.948326  0.051674  0.0\n",
      "1      0.959019  0.004349  0.002977  ...  0.980650  0.019350  0.0\n",
      "2      0.979188  0.002892  0.002136  ...  0.758641  0.241359  0.0\n",
      "3      0.953920  0.005291  0.003936  ...  0.041083  0.958917  0.0\n",
      "4      0.982657  0.002297  0.001645  ...  0.017784  0.982216  0.0\n",
      "...         ...       ...       ...  ...       ...       ...  ...\n",
      "59485  0.252584  0.466202  0.034780  ...  0.994676  0.005324  8.0\n",
      "59486  0.169175  0.093792  0.465270  ...  0.995628  0.004372  8.0\n",
      "59487  0.993871  0.001962  0.000545  ...  0.994964  0.005036  8.0\n",
      "59488  0.302604  0.089480  0.046130  ...  0.994312  0.005688  8.0\n",
      "59489  0.059837  0.126078  0.035875  ...  0.995794  0.004206  8.0\n",
      "\n",
      "[59490 rows x 17 columns]\n"
     ]
    }
   ],
   "source": [
    "column_names = [i for i in range(16)] + ['y']\n",
    "train_df = pd.read_csv('train_data.csv', names = column_names)\n",
    "print(train_df)"
   ]
  },
  {
   "cell_type": "markdown",
   "metadata": {
    "colab_type": "text",
    "id": "qol8Kd1G_J0N"
   },
   "source": [
    "### **Let's create training data (X) and target value (y):**"
   ]
  },
  {
   "cell_type": "code",
   "execution_count": 4,
   "metadata": {
    "colab": {
     "base_uri": "https://localhost:8080/",
     "height": 35
    },
    "colab_type": "code",
    "id": "l6aklnPp_KP5",
    "outputId": "b8131ea7-ad1c-48af-86d9-da7d1c806453"
   },
   "outputs": [
    {
     "name": "stdout",
     "output_type": "stream",
     "text": [
      "(59490, 16) (59490,)\n"
     ]
    }
   ],
   "source": [
    "train_df = train_df.sample(frac=1, random_state=0) # shuffle the data\n",
    "X, y = train_df.drop(columns='y'), train_df['y']\n",
    "print(X.shape, y.shape)"
   ]
  },
  {
   "cell_type": "markdown",
   "metadata": {
    "colab_type": "text",
    "id": "E-3hjTamhtLd"
   },
   "source": [
    "### **Let's create a smaller train set for development (X_dev, y_dev):**"
   ]
  },
  {
   "cell_type": "code",
   "execution_count": 5,
   "metadata": {
    "colab": {
     "base_uri": "https://localhost:8080/",
     "height": 35
    },
    "colab_type": "code",
    "id": "-Mfw0LtFFgMQ",
    "outputId": "254c7dfd-2ae6-4e45-8263-796a595372e8"
   },
   "outputs": [
    {
     "name": "stdout",
     "output_type": "stream",
     "text": [
      "(5949, 16) (5949,)\n"
     ]
    }
   ],
   "source": [
    "train_dev_df = train_df.sample(frac=0.1, random_state=0) # ramdomly select 10% of data for development\n",
    "X_dev, y_dev = train_dev_df.drop(columns='y'), train_dev_df['y']\n",
    "print(X_dev.shape, y_dev.shape)"
   ]
  },
  {
   "cell_type": "markdown",
   "metadata": {
    "colab_type": "text",
    "id": "nm-krYnoi54e"
   },
   "source": [
    "### **Let's quickly compare kernel SVM vs LinearSVM vs LogisticREgression, with default parameters:**"
   ]
  },
  {
   "cell_type": "code",
   "execution_count": 6,
   "metadata": {
    "colab": {
     "base_uri": "https://localhost:8080/",
     "height": 181
    },
    "colab_type": "code",
    "id": "I06ZdoQd7LQA",
    "outputId": "593ae1c9-c5a3-4661-96ec-356295d57891"
   },
   "outputs": [
    {
     "name": "stdout",
     "output_type": "stream",
     "text": [
      "\n",
      "Score SVC (non-scaled): 0.8846793772707612\n",
      "Score Scaled SVC: 0.895277704907216\n",
      "\n",
      "Score Logistic Regression (non-scaled): 0.8930846087331904\n",
      "Score Scaled Logistic Regression: 0.8940947097480949\n",
      "\n",
      "Score LinearSVC (non-scaled): 0.8937575896311729\n",
      "Score Scaled LinearSVC: 0.8940942890184053\n"
     ]
    }
   ],
   "source": [
    "scaled_svc = make_pipeline(StandardScaler(), SVC())\n",
    "print('\\nScore SVC (non-scaled):', np.mean(cross_val_score(SVC(), X_dev, y_dev, cv=5)))\n",
    "print('Score Scaled SVC:', np.mean(cross_val_score(scaled_svc, X_dev, y_dev, cv=5)))\n",
    "\n",
    "scaled_LR = make_pipeline(StandardScaler(), LogisticRegression())\n",
    "print('\\nScore Logistic Regression (non-scaled):', np.mean(cross_val_score(LogisticRegression(), X_dev, y_dev, cv=5)))\n",
    "print('Score Scaled Logistic Regression:', np.mean(cross_val_score(scaled_LR, X_dev, y_dev, cv=5)))\n",
    "\n",
    "scaled_LinearSVC = make_pipeline(StandardScaler(), LinearSVC())\n",
    "print('\\nScore LinearSVC (non-scaled):', np.mean(cross_val_score(LinearSVC(), X_dev, y_dev, cv=5)))\n",
    "print('Score Scaled LinearSVC:', np.mean(cross_val_score(scaled_LinearSVC, X_dev, y_dev, cv=5)))"
   ]
  },
  {
   "cell_type": "markdown",
   "metadata": {
    "colab_type": "text",
    "id": "7fcKs-dhkXin"
   },
   "source": [
    "#### **All 3 models produced better results when data was scaled**\n",
    "\n"
   ]
  },
  {
   "cell_type": "markdown",
   "metadata": {
    "colab_type": "text",
    "id": "iq45viVdlGx1"
   },
   "source": [
    "### **Let's try tuning the 'C' parameter for logistic regression:**"
   ]
  },
  {
   "cell_type": "code",
   "execution_count": 0,
   "metadata": {
    "colab": {
     "base_uri": "https://localhost:8080/",
     "height": 531
    },
    "colab_type": "code",
    "id": "Na0oQtZAnrVG",
    "outputId": "3a4a04eb-50bd-4767-cb32-171d27eaa388"
   },
   "outputs": [
    {
     "name": "stdout",
     "output_type": "stream",
     "text": [
      "Best Parameter: \n",
      " scaled_LR: {'classifier__C': 568.9866029018299}\n",
      "\n",
      "Best Score: \n",
      " scaled_LR: 0.8959488989746176\n",
      "\n"
     ]
    },
    {
     "data": {
      "text/plain": [
       "Text(0.5, 1.0, 'Log Regression Scores vs Parameter C')"
      ]
     },
     "execution_count": 38,
     "metadata": {
      "tags": []
     },
     "output_type": "execute_result"
    },
    {
     "data": {
      "image/png": "[encoded data removed]",
      "text/plain": [
       "<Figure size 576x432 with 1 Axes>"
      ]
     },
     "metadata": {
      "tags": []
     },
     "output_type": "display_data"
    }
   ],
   "source": [
    "LR_C = np.logspace(0, 5, 50)\n",
    "\n",
    "# Tune LR parameters using GridSearchCV:\n",
    "scaled_LR = Pipeline(((\"preprocess\", StandardScaler()),\n",
    "                      (\"classifier\", LogisticRegression())))\n",
    "LR_param_grid = {'classifier__C': LR_C}\n",
    "scaled_LR_grid = GridSearchCV(scaled_LR, LR_param_grid, cv=5)\n",
    "scaled_LR_grid.fit(X_dev, y_dev)\n",
    "\n",
    "print('Best Parameter LR: {}'.format(scaled_LR_grid.best_params_))\n",
    "print('\\nBest Score LR: {}\\n'.format(scaled_LR_grid.best_score_))\n",
    "\n",
    "scaled_LR_scores = scaled_LR_grid.cv_results_['mean_test_score']\n",
    "plt.figure().set_size_inches(8, 6)\n",
    "plt.semilogx(LR_C, scaled_LR_scores)\n",
    "plt.ylabel('Log Regression Scores', fontsize=12, fontweight='bold')\n",
    "plt.xlabel('Parameter C', fontsize=12, fontweight='bold')\n",
    "plt.title('Log Regression Scores vs Parameter C', fontsize=14, fontweight='bold')"
   ]
  },
  {
   "cell_type": "markdown",
   "metadata": {
    "colab_type": "text",
    "id": "aiRGod5gpbS_"
   },
   "source": [
    "### **Let's try tuning the 'C' parameter for kernel SVM:**"
   ]
  },
  {
   "cell_type": "code",
   "execution_count": 0,
   "metadata": {
    "colab": {
     "base_uri": "https://localhost:8080/",
     "height": 480
    },
    "colab_type": "code",
    "id": "OJkYfjKaGWta",
    "outputId": "1c27df34-deae-48ce-fbc4-1f51a92a8906"
   },
   "outputs": [
    {
     "name": "stdout",
     "output_type": "stream",
     "text": [
      "Best Parameter SVM: {'classifier__C': 24420.5309454865}\n",
      "Score SVM: 0.9161203563624138\n",
      "\n"
     ]
    },
    {
     "data": {
      "text/plain": [
       "Text(0.5, 1.0, 'SVM Scores vs Parameter C')"
      ]
     },
     "execution_count": 39,
     "metadata": {
      "tags": []
     },
     "output_type": "execute_result"
    },
    {
     "data": {
      "image/png": "[encoded data removed]",
      "text/plain": [
       "<Figure size 576x432 with 1 Axes>"
      ]
     },
     "metadata": {
      "tags": []
     },
     "output_type": "display_data"
    }
   ],
   "source": [
    "SVM_C = np.logspace(0, 5, 50)\n",
    "\n",
    "SVM = Pipeline(((\"preprocess\", StandardScaler()),\n",
    "                (\"classifier\", SVC(gamma='scale'))))\n",
    "SVM_param_grid = {'classifier__C': SVM_C}\n",
    "SVM_grid = GridSearchCV(SVM, SVM_param_grid, cv=5)\n",
    "SVM_grid.fit(X_dev, y_dev)\n",
    "\n",
    "print('Best Parameter SVM: {}'.format(SVM_grid.best_params_))\n",
    "print('Score SVM: {}\\n'.format(SVM_grid.best_score_))\n",
    "\n",
    "SVM_scores = SVM_grid.cv_results_['mean_test_score']\n",
    "plt.figure().set_size_inches(8, 6)\n",
    "plt.semilogx(SVM_C, SVM_scores)\n",
    "plt.ylabel('SVM Scores', fontsize=12, fontweight='bold')\n",
    "plt.xlabel('Parameter C', fontsize=12, fontweight='bold')\n",
    "plt.title('SVM Scores vs Parameter C', fontsize=14, fontweight='bold')"
   ]
  },
  {
   "cell_type": "markdown",
   "metadata": {
    "colab_type": "text",
    "id": "a-ojteUhsjSY"
   },
   "source": [
    "### **Let's try tuning the 'C' parameter for Linear SVM:**"
   ]
  },
  {
   "cell_type": "code",
   "execution_count": 0,
   "metadata": {
    "colab": {
     "base_uri": "https://localhost:8080/",
     "height": 480
    },
    "colab_type": "code",
    "id": "0orQKCHtsjta",
    "outputId": "b71b33a3-ab51-4fc5-bbb9-a7546df9e182"
   },
   "outputs": [
    {
     "name": "stdout",
     "output_type": "stream",
     "text": [
      "Best Parameter SVM: {'classifier__C': 15.264179671752334}\n",
      "Score SVM: 0.8951084215834594\n",
      "\n"
     ]
    },
    {
     "data": {
      "text/plain": [
       "Text(0.5, 1.0, 'SVM Scores vs Parameter C')"
      ]
     },
     "execution_count": 42,
     "metadata": {
      "tags": []
     },
     "output_type": "execute_result"
    },
    {
     "data": {
      "image/png": "[encoded data removed]",
      "text/plain": [
       "<Figure size 576x432 with 1 Axes>"
      ]
     },
     "metadata": {
      "tags": []
     },
     "output_type": "display_data"
    }
   ],
   "source": [
    "LinearSVM_C = np.logspace(-3, 2, 50)\n",
    "\n",
    "LinearSVM = Pipeline(((\"preprocess\", StandardScaler()),\n",
    "                      (\"classifier\", LinearSVC())))\n",
    "LinearSVM_param_grid = {'classifier__C': LinearSVM_C}\n",
    "LinearSVM_grid = GridSearchCV(LinearSVM, LinearSVM_param_grid, cv=5)\n",
    "LinearSVM_grid.fit(X_dev, y_dev)\n",
    "\n",
    "print('Best Parameter SVM: {}'.format(LinearSVM_grid.best_params_))\n",
    "print('Score LinearSVM: {}\\n'.format(LinearSVM_grid.best_score_))\n",
    "\n",
    "LinearSVM_scores = LinearSVM_grid.cv_results_['mean_test_score']\n",
    "plt.figure().set_size_inches(8, 6)\n",
    "plt.semilogx(LinearSVM_C, LinearSVM_scores)\n",
    "plt.ylabel('LinearSVM Scores', fontsize=12, fontweight='bold')\n",
    "plt.xlabel('Parameter C', fontsize=12, fontweight='bold')\n",
    "plt.title('LinearSVM Scores vs Parameter C', fontsize=14, fontweight='bold')"
   ]
  },
  {
   "cell_type": "markdown",
   "metadata": {
    "colab_type": "text",
    "id": "bnv2XM5stP90"
   },
   "source": [
    "### **Let's test the performance of all 3 models on the entire training dataset:**"
   ]
  },
  {
   "cell_type": "code",
   "execution_count": 0,
   "metadata": {
    "colab": {
     "base_uri": "https://localhost:8080/",
     "height": 119
    },
    "colab_type": "code",
    "id": "Msb8j8B3uITc",
    "outputId": "bd95e66e-f4c6-4734-ef35-6c200dee2591"
   },
   "outputs": [
    {
     "name": "stdout",
     "output_type": "stream",
     "text": [
      "\n",
      "Scores on the entire training dataset:\n",
      "\n",
      "LR score: 0.893\n",
      "SVM score: 0.920\n",
      "LinearSVM score: 0.893\n"
     ]
    }
   ],
   "source": [
    "LR = scaled_LR_grid.best_estimator_\n",
    "SVM = SVM_grid.best_estimator_\n",
    "LinearSVM = LinearSVM_grid.best_estimator_\n",
    "\n",
    "print(\"\\nScores on the entire training dataset:\")\n",
    "\n",
    "print(\"\\nLR score: {:.4f}\".format(LR.score(X, y)))\n",
    "print(\"SVM score: {:.4f}\".format(SVM.score(X, y)))\n",
    "print(\"LinearSVM score: {:.4f}\".format(LinearSVM.score(X, y)))"
   ]
  },
  {
   "cell_type": "markdown",
   "metadata": {
    "colab_type": "text",
    "id": "m7IRgzVDvoh4"
   },
   "source": [
    "#### **We got better results with kernel SVM, which has more capacity / complexity than the linear models**"
   ]
  },
  {
   "cell_type": "markdown",
   "metadata": {
    "colab_type": "text",
    "id": "0qu3c9tTv5wN"
   },
   "source": [
    "### **Let's now try tunning the 'gamma' parameter on the kernel SVM model:**"
   ]
  },
  {
   "cell_type": "code",
   "execution_count": 58,
   "metadata": {
    "colab": {
     "base_uri": "https://localhost:8080/",
     "height": 539
    },
    "colab_type": "code",
    "id": "Otsi1LrvIMxf",
    "outputId": "6721ee99-3c22-4ffe-d7ef-d5dc2845d4e4"
   },
   "outputs": [
    {
     "name": "stdout",
     "output_type": "stream",
     "text": [
      "Best Parameter SVM: {'classifier__gamma': 0.06951927961775606}\n",
      "Score SVM: 0.9162884518406454\n",
      "\n",
      "SVM score on entire training data:\n",
      " 0.9203\n",
      "\n"
     ]
    },
    {
     "data": {
      "text/plain": [
       "Text(0.5, 1.0, 'SVM Scores vs Parameter gamma')"
      ]
     },
     "execution_count": 58,
     "metadata": {
      "tags": []
     },
     "output_type": "execute_result"
    },
    {
     "data": {
      "image/png": "[encoded data removed]",
      "text/plain": [
       "<Figure size 576x432 with 1 Axes>"
      ]
     },
     "metadata": {
      "tags": []
     },
     "output_type": "display_data"
    }
   ],
   "source": [
    "SVM_gamma = np.logspace(-2,0,20)\n",
    "\n",
    "SVM = Pipeline(((\"preprocess\", StandardScaler()),\n",
    "                (\"classifier\", SVC(C=SVM_grid.best_estimator_.get_params('steps')['classifier'].C))))\n",
    "SVM_param_grid = {'classifier__gamma': SVM_gamma}\n",
    "SVM_grid = GridSearchCV(SVM, SVM_param_grid, cv=5)\n",
    "SVM_grid.fit(X_dev, y_dev)\n",
    "\n",
    "print('Best Parameter SVM: {}'.format(SVM_grid.best_params_))\n",
    "print('Score SVM: {}\\n'.format(SVM_grid.best_score_))\n",
    "\n",
    "print(\"SVM score on entire training data:\\n {:.4f}\\n\".format(SVM_grid.best_estimator_.score(X, y)))\n",
    "\n",
    "SVM_scores = SVM_grid.cv_results_['mean_test_score']\n",
    "plt.figure().set_size_inches(8, 6)\n",
    "plt.semilogx(SVM_gamma, SVM_scores)\n",
    "plt.ylabel('SVM Scores', fontsize=12, fontweight='bold')\n",
    "plt.xlabel('Parameter gamma', fontsize=12, fontweight='bold')\n",
    "plt.title('SVM Scores vs Parameter gamma', fontsize=14, fontweight='bold')"
   ]
  },
  {
   "cell_type": "markdown",
   "metadata": {
    "colab_type": "text",
    "id": "1dbUSpfsWcw6"
   },
   "source": [
    "### **Let's train the model on the entire training dataset then save it to GoogleDrive:**"
   ]
  },
  {
   "cell_type": "code",
   "execution_count": 0,
   "metadata": {
    "colab": {},
    "colab_type": "code",
    "id": "qjlp8MUbV_xD"
   },
   "outputs": [],
   "source": [
    "final_model = SVM_grid.best_estimator_.fit(X, y)\n",
    "dest = 'gdrive/My Drive/Capstone/combine_model_0.9203.sav'\n",
    "pickle.dump(final_model, open(dest, 'wb'))"
   ]
  }
 ],
 "metadata": {
  "accelerator": "GPU",
  "colab": {
   "collapsed_sections": [],
   "machine_shape": "hm",
   "name": "Train 'combine' model.ipynb",
   "provenance": []
  },
  "kernelspec": {
   "display_name": "Python 3",
   "language": "python",
   "name": "python3"
  },
  "language_info": {
   "codemirror_mode": {
    "name": "ipython",
    "version": 3
   },
   "file_extension": ".py",
   "mimetype": "text/x-python",
   "name": "python",
   "nbconvert_exporter": "python",
   "pygments_lexer": "ipython3",
   "version": "3.6.9"
  }
 },
 "nbformat": 4,
 "nbformat_minor": 1
}
