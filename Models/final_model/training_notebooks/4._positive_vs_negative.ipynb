{
 "cells": [
  {
   "cell_type": "markdown",
   "metadata": {
    "colab_type": "text",
    "id": "UaXSEE2f1D6c"
   },
   "source": [
    "###  <span style=\"color:red\">**This Notebook can be run from Google Colab:**</span>\n",
    "\n",
    "https://colab.research.google.com"
   ]
  },
  {
   "cell_type": "code",
   "execution_count": 0,
   "metadata": {
    "colab": {},
    "colab_type": "code",
    "id": "QXXypVC31ETj"
   },
   "outputs": [],
   "source": [
    "import numpy as np\n",
    "import matplotlib.pyplot as plt\n",
    "%matplotlib inline\n",
    "import os\n",
    "import zipfile\n",
    "import shutil\n",
    "from google.colab import files\n",
    "import json\n",
    "import time\n",
    "import pandas as pd\n",
    "\n",
    "import keras\n",
    "from keras.models import Model, Sequential, load_model\n",
    "from keras.applications.resnet50 import ResNet50\n",
    "from keras.layers import Input, Dense, Activation, Dropout, BatchNormalization,\\\n",
    "                          Conv2D, MaxPooling2D, Flatten, AveragePooling2D,\\\n",
    "                          GlobalAveragePooling2D, ZeroPadding2D\n",
    "from keras.initializers import glorot_uniform\n",
    "from keras import regularizers\n",
    "from keras.preprocessing.image import ImageDataGenerator\n",
    "from keras.optimizers import RMSprop, Adam, Adamax, Nadam, SGD\n",
    "from keras.callbacks import EarlyStopping, ReduceLROnPlateau, ModelCheckpoint\n",
    "\n",
    "from sklearn.metrics import roc_auc_score, accuracy_score, confusion_matrix, \\\n",
    "                            classification_report\n",
    "\n",
    "# Import PyDrive and associated libraries (to connect with GoogleDrive)\n",
    "from pydrive.auth import GoogleAuth\n",
    "from pydrive.drive import GoogleDrive\n",
    "from google.colab import auth\n",
    "from oauth2client.client import GoogleCredentials\n",
    "\n",
    "# disable warnings\n",
    "import warnings\n",
    "warnings.simplefilter(\"ignore\")\n",
    "os.environ['TF_CPP_MIN_LOG_LEVEL'] = '3' "
   ]
  },
  {
   "cell_type": "markdown",
   "metadata": {
    "colab_type": "text",
    "id": "DItexGaqdfEA"
   },
   "source": [
    "### **Check if we are using GPU:**"
   ]
  },
  {
   "cell_type": "code",
   "execution_count": 0,
   "metadata": {
    "colab": {
     "base_uri": "https://localhost:8080/",
     "height": 34
    },
    "colab_type": "code",
    "id": "vn7AYx74dNq6",
    "outputId": "5b48763f-c7e3-42c3-f083-6f484f95a497"
   },
   "outputs": [
    {
     "name": "stdout",
     "output_type": "stream",
     "text": [
      "Using TensorFlow version: 1.15.0 , GPU: /device:GPU:0\n"
     ]
    }
   ],
   "source": [
    "from keras import backend as K\n",
    "if K.backend() == \"tensorflow\":\n",
    "    import tensorflow as tf\n",
    "    device_name = tf.test.gpu_device_name()\n",
    "    if device_name == '':\n",
    "        device_name = \"None\"\n",
    "    print('Using TensorFlow version:', tf.__version__, ', GPU:', device_name)"
   ]
  },
  {
   "cell_type": "markdown",
   "metadata": {
    "colab_type": "text",
    "id": "QQXfhMrHlqrz"
   },
   "source": [
    "### **Download Patches from GoogleDrive:**"
   ]
  },
  {
   "cell_type": "code",
   "execution_count": 0,
   "metadata": {
    "colab": {
     "base_uri": "https://localhost:8080/",
     "height": 71
    },
    "colab_type": "code",
    "id": "ACvUlEucnnY0",
    "outputId": "1beed7dd-220f-400a-e404-bb6b489c26b5"
   },
   "outputs": [
    {
     "name": "stdout",
     "output_type": "stream",
     "text": [
      "Downloaded content: \"Patches_pos_vs_neg_128_s60_vs22_min1250_minval_1024_inclborder_noStreak_yes_cls_balance_yes_pos_neg_balance.zip\"\n",
      "Root dir content: ['.config', 'Patches', 'gdrive', 'adc.json', 'base_model.h5', 'Patches_pos_vs_neg_128_s60_vs22_min1250_minval_1024_inclborder_noStreak_yes_cls_balance_yes_pos_neg_balance.zip', 'model_pos_neg.h5', 'history_dict.json', 'sample_data']\n"
     ]
    }
   ],
   "source": [
    "# Authenticate and create the PyDrive client.\n",
    "auth.authenticate_user()\n",
    "gauth = GoogleAuth()\n",
    "gauth.credentials = GoogleCredentials.get_application_default()\n",
    "drive = GoogleDrive(gauth)\n",
    "\n",
    "file_id = '1AbZppC-Fe_fVI1mslm7BP8PBSoOu3u36' #Pos_vs_Neg_128_s60_VS_22 .... min1250_minval_1024_inclborder FULL BALANCE\n",
    "\n",
    "downloaded = drive.CreateFile({'id': file_id})\n",
    "downloaded.GetContentFile(downloaded['title'])\n",
    "print('Downloaded content: \"{}\"'.format(downloaded['title']))\n",
    "print('Root dir content: {}'.format(os.listdir()))"
   ]
  },
  {
   "cell_type": "markdown",
   "metadata": {
    "colab_type": "text",
    "id": "HSdGQav-qEJM"
   },
   "source": [
    "### **Unzip the Patches:**"
   ]
  },
  {
   "cell_type": "code",
   "execution_count": 0,
   "metadata": {
    "colab": {
     "base_uri": "https://localhost:8080/",
     "height": 34
    },
    "colab_type": "code",
    "id": "jP1-2THkn47w",
    "outputId": "c486c53e-b036-41dc-bbd3-070fc3039d2c"
   },
   "outputs": [
    {
     "name": "stdout",
     "output_type": "stream",
     "text": [
      "Root dir content: ['.config', 'Patches', 'gdrive', 'adc.json', 'base_model.h5', 'model_pos_neg.h5', 'history_dict.json', 'sample_data']\n"
     ]
    }
   ],
   "source": [
    "# Remove 'Patches' dir if it already exists\n",
    "if 'Patches' in os.listdir():\n",
    "  shutil.rmtree('./Patches')\n",
    "with zipfile.ZipFile(downloaded['title'],\"r\") as zip:\n",
    "    zip.extractall()\n",
    "os.remove(downloaded['title'])\n",
    "print('Root dir content: {}'.format(os.listdir()))"
   ]
  },
  {
   "cell_type": "markdown",
   "metadata": {
    "colab_type": "text",
    "id": "nd7htfD3rJ6V"
   },
   "source": [
    "### **Let's count patches by type and location and save class weights in inverse proportion to the number of patches for each class:**"
   ]
  },
  {
   "cell_type": "code",
   "execution_count": 0,
   "metadata": {
    "colab": {
     "base_uri": "https://localhost:8080/",
     "height": 323
    },
    "colab_type": "code",
    "id": "DjJy7FFsvm5H",
    "outputId": "7ed899fd-72a3-40eb-ab97-d2d5d5a49a1d"
   },
   "outputs": [
    {
     "name": "stdout",
     "output_type": "stream",
     "text": [
      "total_Serial: 45660 = 22830 positive + 22830 negative\n",
      "total_Control: 7420 = 3710 positive + 3710 negative\n",
      "total_Streak: 0 = 0 positive + 0 negative\n",
      "\n",
      "class_weights: {\n",
      "  \"Serial\": {\n",
      "    \"neg\": 2.0,\n",
      "    \"pos\": 2.0\n",
      "  },\n",
      "  \"Control\": {\n",
      "    \"neg\": 2.0,\n",
      "    \"pos\": 2.0\n",
      "  },\n",
      "  \"Streak\": {\n",
      "    \"neg\": 0,\n",
      "    \"pos\": 0\n",
      "  }\n",
      "}\n"
     ]
    }
   ],
   "source": [
    "class_weights = {} # empty dictionary to store class weights\n",
    "for type_ in ['Serial', 'Control', 'Streak']:\n",
    "    class_weights[type_] = {} # nested empty dictionary to store class weights\n",
    "    pos_folder = './Patches/{}/pos'.format(type_)\n",
    "    neg_folder = './Patches/{}/neg'.format(type_)\n",
    "    n_pos = len(os.listdir(pos_folder))\n",
    "    n_neg = len(os.listdir(neg_folder))\n",
    "    total = n_pos + n_neg\n",
    "    class_weights[type_]['neg'] = total/n_neg if n_neg else 0\n",
    "    class_weights[type_]['pos'] = total/n_pos if n_pos else 0\n",
    "    print('total_{}: {} = {} positive + {} negative'.format(type_,total,n_pos,n_neg))\n",
    "print('\\nclass_weights:', str(json.dumps(class_weights, indent=2, default=str)))"
   ]
  },
  {
   "cell_type": "markdown",
   "metadata": {
    "colab_type": "text",
    "id": "GNJ7lSKQpdOT"
   },
   "source": [
    "#### **Let's build image generators, using keras.preprocessing.image.ImageDataGenerator, rescaling image pixel values from [0,  255] to [0, 1]:**"
   ]
  },
  {
   "cell_type": "code",
   "execution_count": 0,
   "metadata": {
    "colab": {
     "base_uri": "https://localhost:8080/",
     "height": 102
    },
    "colab_type": "code",
    "id": "UANfdA6IUFKt",
    "outputId": "51334524-dc59-4a4c-cd2c-2a38d6cb1470"
   },
   "outputs": [
    {
     "name": "stdout",
     "output_type": "stream",
     "text": [
      "For training:\n",
      "Found 45660 images belonging to 2 classes.\n",
      "\n",
      "For validation:\n",
      "Found 7420 images belonging to 2 classes.\n"
     ]
    }
   ],
   "source": [
    "serial_pos_folder = './Patches/Serial/pos'\n",
    "img = plt.imread(serial_pos_folder + '/' + os.listdir(serial_pos_folder)[:5][0])\n",
    "img_size = img.shape\n",
    "train_batch_size = 32\n",
    "val_batch_size = 64\n",
    "\n",
    "datagen = ImageDataGenerator(rescale=1./255)\n",
    "val_datagen = ImageDataGenerator(rescale=1./255)\n",
    "\n",
    "print(\"For training:\")\n",
    "train_generator = datagen.flow_from_directory(\n",
    "        './Patches/Serial',\n",
    "        target_size=(img_size[0],img_size[1]),\n",
    "        batch_size=train_batch_size,\n",
    "        class_mode='categorical',\n",
    "        shuffle=True)\n",
    "\n",
    "print(\"\\nFor validation:\")\n",
    "val_generator = val_datagen.flow_from_directory(\n",
    "        './Patches/Control',\n",
    "        target_size=(img_size[0],img_size[1]),\n",
    "        batch_size=val_batch_size,\n",
    "        class_mode='categorical',\n",
    "        shuffle=False)"
   ]
  },
  {
   "cell_type": "markdown",
   "metadata": {
    "colab_type": "text",
    "id": "44ZzUGXvwqUn"
   },
   "source": [
    "#### **Let's check what is the train generators' index for each class, so we can correclty set up the class weights:**"
   ]
  },
  {
   "cell_type": "code",
   "execution_count": 0,
   "metadata": {
    "colab": {
     "base_uri": "https://localhost:8080/",
     "height": 85
    },
    "colab_type": "code",
    "id": "tSHQNC2awn84",
    "outputId": "f11f5196-e5ac-4d0d-ae1a-873a01d88451"
   },
   "outputs": [
    {
     "name": "stdout",
     "output_type": "stream",
     "text": [
      "train_generator.class_indices: {\n",
      "  \"neg\": 0,\n",
      "  \"pos\": 1\n",
      "}\n"
     ]
    }
   ],
   "source": [
    "print('train_generator.class_indices:', str(json.dumps(train_generator.class_indices, indent=2, default=str)))"
   ]
  },
  {
   "cell_type": "markdown",
   "metadata": {
    "colab_type": "text",
    "id": "o30MT4e2O7gk"
   },
   "source": [
    "#### **Let's set up the class weights in correct order:**"
   ]
  },
  {
   "cell_type": "code",
   "execution_count": 0,
   "metadata": {
    "colab": {
     "base_uri": "https://localhost:8080/",
     "height": 187
    },
    "colab_type": "code",
    "id": "U2gsR9n6w2vm",
    "outputId": "e38d3491-3ddf-4505-a0fe-777180475bb8"
   },
   "outputs": [
    {
     "name": "stdout",
     "output_type": "stream",
     "text": [
      "original class weights dictionary:\n",
      "{\n",
      "  \"neg\": 2.0,\n",
      "  \"pos\": 2.0\n",
      "}\n",
      "class weights for generator, re-arranging indexes:\n",
      "[\n",
      "  2.0,\n",
      "  2.0\n",
      "]\n"
     ]
    }
   ],
   "source": [
    "serial_pos_weights = []\n",
    "classes = ['neg','pos']\n",
    "for cls in classes:\n",
    "    serial_pos_weights.append(class_weights['Serial']['{}'.format(cls)])\n",
    "print('original class weights dictionary:')\n",
    "print(str(json.dumps(class_weights['Serial'], indent=2, default=str)))\n",
    "print('class weights for generator, re-arranging indexes:')\n",
    "print(str(json.dumps(serial_pos_weights, indent=2, default=str)))"
   ]
  },
  {
   "cell_type": "markdown",
   "metadata": {
    "colab_type": "text",
    "id": "gdXBPBsVxA39"
   },
   "source": [
    "## **Let's build our Base Model. We will use Resnet:**"
   ]
  },
  {
   "cell_type": "markdown",
   "metadata": {
    "colab_type": "text",
    "id": "AjNmNKdHw4tM"
   },
   "source": [
    "#### **First. let's create a function to build a residual block.**\n",
    "\n",
    "#### We will use the residual block proposed in  [ResNetV2](https://arxiv.org/pdf/1603.05027.pdf) and will implement it by ourselves:\n",
    "\n",
    "\n",
    ">![Google's logo](https://camo.githubusercontent.com/7ae470c333cd76078e1c669055ad98bcedaf523f/68747470733a2f2f71696974612d696d6167652d73746f72652e73332e616d617a6f6e6177732e636f6d2f302f3130303532332f61313536613563322d303236622d646535352d613666622d6534666131373732623432632e706e67)"
   ]
  },
  {
   "cell_type": "code",
   "execution_count": 0,
   "metadata": {
    "colab": {},
    "colab_type": "code",
    "id": "e-DqZH20w3ji"
   },
   "outputs": [],
   "source": [
    "def res_block(X, filters, kernel_size=(3,3), l2_reg=1e-6, residual=True,\n",
    "              first=False, subsampling=False):\n",
    "    \"\"\"\n",
    "    Function to build a residual block as proposed in ResNetV2:\n",
    "             https://arxiv.org/pdf/1603.05027.pdf:\n",
    "    :param X: The input to the residual block\n",
    "    :param filters: Integer. Number of filters / channels in the output\n",
    "    :param kernel_size: Tuple (Int, Int). kernel size for convolution operations\n",
    "    :param l2_reg: Float. L2 norm for L2 regularization\n",
    "    :param residual: Boolean. True if residual block. Otherwise 'plain' block.\n",
    "    :param first: Boolean. True if first residual block -> ZeroPad and Maxpool.\n",
    "    :param subsampling: Boolean. True if subsampling within the residual block.\n",
    "    :return: the addition output from the residual block proposed in ResNetV2:\n",
    "              https://arxiv.org/pdf/1603.05027.pdf\n",
    "    \"\"\"\n",
    "    bn = BatchNormalization()(X)\n",
    "    relu = Activation(\"relu\")(bn)\n",
    "    \n",
    "    if first: #The first layer is subsampled with Maxpool\n",
    "      pad = ZeroPadding2D(padding=(1, 1))(relu)\n",
    "      relu = MaxPooling2D(pool_size=(3, 3), strides=(2,2))(pad)    \n",
    "    \n",
    "    if subsampling: #Resnet reduces size just by using stride=2 instead of pool\n",
    "      #Here we will reduce the size (subsample) by using stride 2 \n",
    "      conv_1 = Conv2D(filters, kernel_size, strides=(2,2), padding='same',\n",
    "                         kernel_regularizer=regularizers.l2(l2_reg),\n",
    "                         kernel_initializer = glorot_uniform(0),\n",
    "                         bias_initializer = glorot_uniform(0))(relu)\n",
    "      if residual:\n",
    "        #To be able to add, we also need to reduce size of input\n",
    "        #For this, we will just use a 1x1 Conv2D with stride 2  \n",
    "        res = Conv2D(filters, kernel_size=[1,1], strides=(2,2),\n",
    "                     padding='same')(X)\n",
    "    else: #No subsampling, same size as input\n",
    "      conv_1 = Conv2D(filters, kernel_size, strides=(1,1), padding='same',\n",
    "                   kernel_regularizer=regularizers.l2(l2_reg),\n",
    "                   kernel_initializer = glorot_uniform(0),\n",
    "                   bias_initializer = glorot_uniform(0))(relu)\n",
    "      if residual:\n",
    "        if first: #The first layer is subsampled with Maxpool so, resize X\n",
    "          #For this, we will just use a 1x1 Conv2D with stride 2\n",
    "          res = Conv2D(filters, kernel_size=[1,1], strides=(2,2),\n",
    "                     padding='same')(X)\n",
    "        else:\n",
    "          res = X\n",
    "    bn = BatchNormalization()(conv_1)\n",
    "    relu = Activation(\"relu\")(bn)\n",
    "\n",
    "    conv_2 = Conv2D(filters, kernel_size, padding='same',\n",
    "                       kernel_regularizer=regularizers.l2(l2_reg),\n",
    "                       kernel_initializer = glorot_uniform(0),\n",
    "                       bias_initializer = glorot_uniform(0))(relu)\n",
    "    if residual:\n",
    "      add = keras.layers.add([res, conv_2])\n",
    "      return add\n",
    "    else:\n",
    "      return conv_2"
   ]
  },
  {
   "cell_type": "markdown",
   "metadata": {
    "colab_type": "text",
    "id": "0K3-02NNUXOV"
   },
   "source": [
    "#### **Second, let's create a function to build a Resnet network:**"
   ]
  },
  {
   "cell_type": "code",
   "execution_count": 0,
   "metadata": {
    "colab": {},
    "colab_type": "code",
    "id": "32s7rai-609p"
   },
   "outputs": [],
   "source": [
    "#from keras.layers import AveragePooling2D, GlobalAveragePooling2D\n",
    "\n",
    "def make_resnet(img_size, n_classes, layers_per_group, n_filters, \n",
    "                    kernel_sizes, l2_reg=1e-6, optimizer=keras.optimizers.SGD,\n",
    "                    lr=1e-1, decay=1e-4, momentum=0.9, residual=True):\n",
    "  \n",
    "    \"\"\"\n",
    "    Function to build ResNet network, but with some user defined parameters.\n",
    "        \n",
    "        ResNet network input size is (224,224,3) then it starts with one \n",
    "        convolution layer, (7x7x64, stride 2) followed by maxpool (3x3, stride2) \n",
    "        then it will build 4 layer groups and the user will define the number of\n",
    "        residual layers per group.\n",
    "        \n",
    "        As example, ResNet34, after the first convolution layer, it has 4 groups\n",
    "        of layers with the following number of residual 'layers_per_group':\n",
    "        [6,8,12,6]\n",
    "        Because the residual connections are made between pair of layers, the\n",
    "        number of layers for each group must be a pair number.\n",
    "        \n",
    "        The user will also be able to define the number of filters and size of\n",
    "        each filter, independently for each group of layers. All layers in the\n",
    "        same group group will have the same number of filters and each filter\n",
    "        within the group will have the same size.\n",
    "        \n",
    "        Same as ResNet, an average pooling layer follows after the 4 groups\n",
    "        of layers.\n",
    "    \n",
    "    :param img_size: Size of input image, in the form: (size, size, #channels)\n",
    "    :param n_classes: Integer. Number of classes for classification.\n",
    "    :param layers_per_group: List with # of layers per group (e.g.[6,8,12,6])\n",
    "    :param n_filters: List of length 4, with number of filters for each group of\n",
    "                      layers.\n",
    "    :param kernel_sizes: List of length 4, with kernel sizes tuples for each \n",
    "                          group of layers\n",
    "    :param l2_reg: Float. L2 norm for L2 regularization\n",
    "    :param optimizer: A keras optimizer from keras.optimizers\n",
    "    :param lr: Float. learning rate for the optimizer.\n",
    "    :param decay: Float. learning rate decay for the optimizer.\n",
    "    :param momentum: Float. Momentum for SGD if optimizer=keras.optimizers.SGD\n",
    "    :param residual: Boolean. True if residual net. Otherwise 'plain' net.\n",
    "    :return: CNN with residual connections, similar to ResNet32\n",
    "    \"\"\"\n",
    "    \n",
    "    if len(layers_per_block) != len(n_filters) or len(layers_per_block) !=\\\n",
    "        len(kernel_sizes) or len(n_filters) != len(n_filters):\n",
    "        e = \"Length of 'layers_per_block', 'n_filters' and 'kernel_sizes'\" +\\\n",
    "        \" must be the same\"\n",
    "        raise Exception(e)  \n",
    "\n",
    "    for layers in layers_per_block:\n",
    "      if layers % 2 == 1:\n",
    "        e = \"Number of 'layers_per_block' must be even/pair numbers\"\n",
    "        raise Exception(e)\n",
    "      \n",
    "    inputs = Input(shape=img_size)\n",
    "    \n",
    "    n_filters_conv1 = 64\n",
    "    kernel_sizes_conv1 = (3,3)\n",
    "    #kernel_sizes_conv1 = (5,5)\n",
    "    #kernel_sizes_conv1 = (7,7)\n",
    "    strides_conv1 = (2,2)\n",
    "    \n",
    "    conv1 = Conv2D(n_filters_conv1, kernel_sizes_conv1, strides=strides_conv1,\n",
    "                   padding='same', kernel_regularizer=regularizers.l2(l2_reg),\n",
    "                   kernel_initializer = glorot_uniform(0),\n",
    "                   bias_initializer = glorot_uniform(0))(inputs)\n",
    "    \n",
    "    layer_count = 1 # counter for the number of layers\n",
    "    \n",
    "   \n",
    "    for i in range(len(layers_per_block)):\n",
    "      for j in range(int(layers_per_block[i]/2)):\n",
    "        if j == 0:\n",
    "          if i == 0:\n",
    "            add = res_block(conv1, n_filters[i], kernel_sizes[i], l2_reg,\n",
    "                            residual, first=True)\n",
    "            #add = res_block(conv0_1, n_filters[i], kernel_sizes[i], l2_reg,\n",
    "            #                residual, subsampling=True)\n",
    "          else:\n",
    "            add = res_block(add, n_filters[i], kernel_sizes[i], l2_reg,\n",
    "                            residual, subsampling=True)\n",
    "        else:\n",
    "          add = res_block(add, n_filters[i], kernel_sizes[i], l2_reg,\n",
    "                          residual)\n",
    "          \n",
    "    bn = BatchNormalization()(add)\n",
    "    relu = Activation(\"relu\")(bn)\n",
    "\n",
    "    #pool = AveragePooling2D(pool_size=(2 ,2), padding='same')(relu)\n",
    "    #flat = Flatten()(pool)\n",
    "    flat = GlobalAveragePooling2D()(relu)\n",
    "\n",
    "    out = Dense(n_classes, activation='softmax',\n",
    "                      kernel_regularizer=regularizers.l2(l2_reg),\n",
    "                      kernel_initializer=glorot_uniform(0),\n",
    "                      bias_initializer=glorot_uniform(0))(flat)\n",
    "\n",
    "    res_cnn = Model(inputs=inputs, outputs=out)\n",
    "\n",
    "    if optimizer == keras.optimizers.Nadam:\n",
    "        res_cnn.compile(optimizer(lr=lr, schedule_decay=decay),\n",
    "                    \"categorical_crossentropy\", metrics=['accuracy'])\n",
    "    elif optimizer == keras.optimizers.SGD:\n",
    "        res_cnn.compile(optimizer(lr=lr, momentum=momentum, decay=decay),\n",
    "                        \"categorical_crossentropy\", metrics=['accuracy'])\n",
    "    else:\n",
    "        res_cnn.compile(optimizer(lr=lr, decay=decay),\n",
    "                        \"categorical_crossentropy\", metrics=['accuracy'])\n",
    "    return res_cnn"
   ]
  },
  {
   "cell_type": "markdown",
   "metadata": {
    "colab_type": "text",
    "id": "7nR0XHpb2gtN"
   },
   "source": [
    "### **Let's build a ResNet18:**"
   ]
  },
  {
   "cell_type": "code",
   "execution_count": 0,
   "metadata": {
    "colab": {
     "base_uri": "https://localhost:8080/",
     "height": 1000
    },
    "colab_type": "code",
    "id": "8FawwuFI2rLe",
    "outputId": "0b21a8e3-9af5-44cb-f5ff-a24a59b202a1"
   },
   "outputs": [
    {
     "name": "stdout",
     "output_type": "stream",
     "text": [
      "Model: \"model_2\"\n",
      "__________________________________________________________________________________________________\n",
      "Layer (type)                    Output Shape         Param #     Connected to                     \n",
      "==================================================================================================\n",
      "input_2 (InputLayer)            (None, 128, 128, 3)  0                                            \n",
      "__________________________________________________________________________________________________\n",
      "conv2d_22 (Conv2D)              (None, 64, 64, 64)   1792        input_2[0][0]                    \n",
      "__________________________________________________________________________________________________\n",
      "batch_normalization_18 (BatchNo (None, 64, 64, 64)   256         conv2d_22[0][0]                  \n",
      "__________________________________________________________________________________________________\n",
      "activation_18 (Activation)      (None, 64, 64, 64)   0           batch_normalization_18[0][0]     \n",
      "__________________________________________________________________________________________________\n",
      "zero_padding2d_2 (ZeroPadding2D (None, 66, 66, 64)   0           activation_18[0][0]              \n",
      "__________________________________________________________________________________________________\n",
      "max_pooling2d_2 (MaxPooling2D)  (None, 32, 32, 64)   0           zero_padding2d_2[0][0]           \n",
      "__________________________________________________________________________________________________\n",
      "conv2d_23 (Conv2D)              (None, 32, 32, 64)   36928       max_pooling2d_2[0][0]            \n",
      "__________________________________________________________________________________________________\n",
      "batch_normalization_19 (BatchNo (None, 32, 32, 64)   256         conv2d_23[0][0]                  \n",
      "__________________________________________________________________________________________________\n",
      "activation_19 (Activation)      (None, 32, 32, 64)   0           batch_normalization_19[0][0]     \n",
      "__________________________________________________________________________________________________\n",
      "conv2d_24 (Conv2D)              (None, 32, 32, 64)   4160        conv2d_22[0][0]                  \n",
      "__________________________________________________________________________________________________\n",
      "conv2d_25 (Conv2D)              (None, 32, 32, 64)   36928       activation_19[0][0]              \n",
      "__________________________________________________________________________________________________\n",
      "add_9 (Add)                     (None, 32, 32, 64)   0           conv2d_24[0][0]                  \n",
      "                                                                 conv2d_25[0][0]                  \n",
      "__________________________________________________________________________________________________\n",
      "batch_normalization_20 (BatchNo (None, 32, 32, 64)   256         add_9[0][0]                      \n",
      "__________________________________________________________________________________________________\n",
      "activation_20 (Activation)      (None, 32, 32, 64)   0           batch_normalization_20[0][0]     \n",
      "__________________________________________________________________________________________________\n",
      "conv2d_26 (Conv2D)              (None, 32, 32, 64)   36928       activation_20[0][0]              \n",
      "__________________________________________________________________________________________________\n",
      "batch_normalization_21 (BatchNo (None, 32, 32, 64)   256         conv2d_26[0][0]                  \n",
      "__________________________________________________________________________________________________\n",
      "activation_21 (Activation)      (None, 32, 32, 64)   0           batch_normalization_21[0][0]     \n",
      "__________________________________________________________________________________________________\n",
      "conv2d_27 (Conv2D)              (None, 32, 32, 64)   36928       activation_21[0][0]              \n",
      "__________________________________________________________________________________________________\n",
      "add_10 (Add)                    (None, 32, 32, 64)   0           add_9[0][0]                      \n",
      "                                                                 conv2d_27[0][0]                  \n",
      "__________________________________________________________________________________________________\n",
      "batch_normalization_22 (BatchNo (None, 32, 32, 64)   256         add_10[0][0]                     \n",
      "__________________________________________________________________________________________________\n",
      "activation_22 (Activation)      (None, 32, 32, 64)   0           batch_normalization_22[0][0]     \n",
      "__________________________________________________________________________________________________\n",
      "conv2d_28 (Conv2D)              (None, 16, 16, 128)  73856       activation_22[0][0]              \n",
      "__________________________________________________________________________________________________\n",
      "batch_normalization_23 (BatchNo (None, 16, 16, 128)  512         conv2d_28[0][0]                  \n",
      "__________________________________________________________________________________________________\n",
      "activation_23 (Activation)      (None, 16, 16, 128)  0           batch_normalization_23[0][0]     \n",
      "__________________________________________________________________________________________________\n",
      "conv2d_29 (Conv2D)              (None, 16, 16, 128)  8320        add_10[0][0]                     \n",
      "__________________________________________________________________________________________________\n",
      "conv2d_30 (Conv2D)              (None, 16, 16, 128)  147584      activation_23[0][0]              \n",
      "__________________________________________________________________________________________________\n",
      "add_11 (Add)                    (None, 16, 16, 128)  0           conv2d_29[0][0]                  \n",
      "                                                                 conv2d_30[0][0]                  \n",
      "__________________________________________________________________________________________________\n",
      "batch_normalization_24 (BatchNo (None, 16, 16, 128)  512         add_11[0][0]                     \n",
      "__________________________________________________________________________________________________\n",
      "activation_24 (Activation)      (None, 16, 16, 128)  0           batch_normalization_24[0][0]     \n",
      "__________________________________________________________________________________________________\n",
      "conv2d_31 (Conv2D)              (None, 16, 16, 128)  147584      activation_24[0][0]              \n",
      "__________________________________________________________________________________________________\n",
      "batch_normalization_25 (BatchNo (None, 16, 16, 128)  512         conv2d_31[0][0]                  \n",
      "__________________________________________________________________________________________________\n",
      "activation_25 (Activation)      (None, 16, 16, 128)  0           batch_normalization_25[0][0]     \n",
      "__________________________________________________________________________________________________\n",
      "conv2d_32 (Conv2D)              (None, 16, 16, 128)  147584      activation_25[0][0]              \n",
      "__________________________________________________________________________________________________\n",
      "add_12 (Add)                    (None, 16, 16, 128)  0           add_11[0][0]                     \n",
      "                                                                 conv2d_32[0][0]                  \n",
      "__________________________________________________________________________________________________\n",
      "batch_normalization_26 (BatchNo (None, 16, 16, 128)  512         add_12[0][0]                     \n",
      "__________________________________________________________________________________________________\n",
      "activation_26 (Activation)      (None, 16, 16, 128)  0           batch_normalization_26[0][0]     \n",
      "__________________________________________________________________________________________________\n",
      "conv2d_33 (Conv2D)              (None, 8, 8, 256)    295168      activation_26[0][0]              \n",
      "__________________________________________________________________________________________________\n",
      "batch_normalization_27 (BatchNo (None, 8, 8, 256)    1024        conv2d_33[0][0]                  \n",
      "__________________________________________________________________________________________________\n",
      "activation_27 (Activation)      (None, 8, 8, 256)    0           batch_normalization_27[0][0]     \n",
      "__________________________________________________________________________________________________\n",
      "conv2d_34 (Conv2D)              (None, 8, 8, 256)    33024       add_12[0][0]                     \n",
      "__________________________________________________________________________________________________\n",
      "conv2d_35 (Conv2D)              (None, 8, 8, 256)    590080      activation_27[0][0]              \n",
      "__________________________________________________________________________________________________\n",
      "add_13 (Add)                    (None, 8, 8, 256)    0           conv2d_34[0][0]                  \n",
      "                                                                 conv2d_35[0][0]                  \n",
      "__________________________________________________________________________________________________\n",
      "batch_normalization_28 (BatchNo (None, 8, 8, 256)    1024        add_13[0][0]                     \n",
      "__________________________________________________________________________________________________\n",
      "activation_28 (Activation)      (None, 8, 8, 256)    0           batch_normalization_28[0][0]     \n",
      "__________________________________________________________________________________________________\n",
      "conv2d_36 (Conv2D)              (None, 8, 8, 256)    590080      activation_28[0][0]              \n",
      "__________________________________________________________________________________________________\n",
      "batch_normalization_29 (BatchNo (None, 8, 8, 256)    1024        conv2d_36[0][0]                  \n",
      "__________________________________________________________________________________________________\n",
      "activation_29 (Activation)      (None, 8, 8, 256)    0           batch_normalization_29[0][0]     \n",
      "__________________________________________________________________________________________________\n",
      "conv2d_37 (Conv2D)              (None, 8, 8, 256)    590080      activation_29[0][0]              \n",
      "__________________________________________________________________________________________________\n",
      "add_14 (Add)                    (None, 8, 8, 256)    0           add_13[0][0]                     \n",
      "                                                                 conv2d_37[0][0]                  \n",
      "__________________________________________________________________________________________________\n",
      "batch_normalization_30 (BatchNo (None, 8, 8, 256)    1024        add_14[0][0]                     \n",
      "__________________________________________________________________________________________________\n",
      "activation_30 (Activation)      (None, 8, 8, 256)    0           batch_normalization_30[0][0]     \n",
      "__________________________________________________________________________________________________\n",
      "conv2d_38 (Conv2D)              (None, 4, 4, 512)    1180160     activation_30[0][0]              \n",
      "__________________________________________________________________________________________________\n",
      "batch_normalization_31 (BatchNo (None, 4, 4, 512)    2048        conv2d_38[0][0]                  \n",
      "__________________________________________________________________________________________________\n",
      "activation_31 (Activation)      (None, 4, 4, 512)    0           batch_normalization_31[0][0]     \n",
      "__________________________________________________________________________________________________\n",
      "conv2d_39 (Conv2D)              (None, 4, 4, 512)    131584      add_14[0][0]                     \n",
      "__________________________________________________________________________________________________\n",
      "conv2d_40 (Conv2D)              (None, 4, 4, 512)    2359808     activation_31[0][0]              \n",
      "__________________________________________________________________________________________________\n",
      "add_15 (Add)                    (None, 4, 4, 512)    0           conv2d_39[0][0]                  \n",
      "                                                                 conv2d_40[0][0]                  \n",
      "__________________________________________________________________________________________________\n",
      "batch_normalization_32 (BatchNo (None, 4, 4, 512)    2048        add_15[0][0]                     \n",
      "__________________________________________________________________________________________________\n",
      "activation_32 (Activation)      (None, 4, 4, 512)    0           batch_normalization_32[0][0]     \n",
      "__________________________________________________________________________________________________\n",
      "conv2d_41 (Conv2D)              (None, 4, 4, 512)    2359808     activation_32[0][0]              \n",
      "__________________________________________________________________________________________________\n",
      "batch_normalization_33 (BatchNo (None, 4, 4, 512)    2048        conv2d_41[0][0]                  \n",
      "__________________________________________________________________________________________________\n",
      "activation_33 (Activation)      (None, 4, 4, 512)    0           batch_normalization_33[0][0]     \n",
      "__________________________________________________________________________________________________\n",
      "conv2d_42 (Conv2D)              (None, 4, 4, 512)    2359808     activation_33[0][0]              \n",
      "__________________________________________________________________________________________________\n",
      "add_16 (Add)                    (None, 4, 4, 512)    0           add_15[0][0]                     \n",
      "                                                                 conv2d_42[0][0]                  \n",
      "__________________________________________________________________________________________________\n",
      "batch_normalization_34 (BatchNo (None, 4, 4, 512)    2048        add_16[0][0]                     \n",
      "__________________________________________________________________________________________________\n",
      "activation_34 (Activation)      (None, 4, 4, 512)    0           batch_normalization_34[0][0]     \n",
      "__________________________________________________________________________________________________\n",
      "global_average_pooling2d_2 (Glo (None, 512)          0           activation_34[0][0]              \n",
      "__________________________________________________________________________________________________\n",
      "dense_2 (Dense)                 (None, 2)            1026        global_average_pooling2d_2[0][0] \n",
      "==================================================================================================\n",
      "Total params: 11,184,834\n",
      "Trainable params: 11,177,026\n",
      "Non-trainable params: 7,808\n",
      "__________________________________________________________________________________________________\n"
     ]
    }
   ],
   "source": [
    "classes = list(iter(train_generator.class_indices))\n",
    "n_classes = len(classes)\n",
    "layers_per_block = [4, 4, 4, 4] #18 layers total with first conv and last FC\n",
    "n_filters = [64, 128, 256, 512]\n",
    "kernel_sizes = [(3,3), (3,3), (3,3), (3,3)]\n",
    "l2_reg = 0.1\n",
    "optimizer = RMSprop # Adamax, RMSprop, Adam (No: Nadam, SGD)\n",
    "lr = 1e-3\n",
    "decay = 0.01\n",
    "momentum = 0.9\n",
    "\n",
    "res_cnn = make_resnet(img_size, n_classes, layers_per_block, n_filters,\n",
    "                       kernel_sizes, l2_reg, optimizer, lr, decay, momentum)\n",
    "res_cnn.summary()"
   ]
  },
  {
   "cell_type": "markdown",
   "metadata": {
    "colab_type": "text",
    "id": "oBJOgDlhm60I"
   },
   "source": [
    "#### **Let's mount our GoogleDrive so we can later download the best model:***"
   ]
  },
  {
   "cell_type": "code",
   "execution_count": 0,
   "metadata": {
    "colab": {
     "base_uri": "https://localhost:8080/",
     "height": 34
    },
    "colab_type": "code",
    "id": "1q3nGK-zmxSQ",
    "outputId": "03ff29ee-8ee9-4a5f-b186-cc655ee58a87"
   },
   "outputs": [
    {
     "name": "stdout",
     "output_type": "stream",
     "text": [
      "Drive already mounted at /content/gdrive; to attempt to forcibly remount, call drive.mount(\"/content/gdrive\", force_remount=True).\n"
     ]
    }
   ],
   "source": [
    "from google.colab import drive\n",
    "drive.mount('/content/gdrive')"
   ]
  },
  {
   "cell_type": "markdown",
   "metadata": {
    "colab_type": "text",
    "id": "JUL3HGj4dyft"
   },
   "source": [
    "### **Let's train and validate our Base Model:**"
   ]
  },
  {
   "cell_type": "code",
   "execution_count": 0,
   "metadata": {
    "colab": {
     "base_uri": "https://localhost:8080/",
     "height": 1000
    },
    "colab_type": "code",
    "id": "fOLUaLTymmjv",
    "outputId": "579e4e03-d529-4319-afa9-3acf4f97a04d"
   },
   "outputs": [
    {
     "name": "stdout",
     "output_type": "stream",
     "text": [
      "Epoch 1/50\n",
      "1426/1426 [==============================] - 64s 45ms/step - loss: 2.6357 - acc: 0.9579 - val_loss: 0.2189 - val_acc: 0.9947\n",
      "\n",
      "Epoch 00001: val_acc improved from -inf to 0.99470, saving model to base_model.h5\n",
      "Epoch 2/50\n",
      "1426/1426 [==============================] - 59s 42ms/step - loss: 0.1929 - acc: 0.9863 - val_loss: 0.1700 - val_acc: 0.9923\n",
      "\n",
      "Epoch 00002: val_acc did not improve from 0.99470\n",
      "Epoch 3/50\n",
      "1426/1426 [==============================] - 59s 41ms/step - loss: 0.1457 - acc: 0.9909 - val_loss: 0.2336 - val_acc: 0.9562\n",
      "\n",
      "Epoch 00003: val_acc did not improve from 0.99470\n",
      "Epoch 4/50\n",
      "1426/1426 [==============================] - 59s 41ms/step - loss: 0.1207 - acc: 0.9937 - val_loss: 0.1352 - val_acc: 0.9861\n",
      "\n",
      "Epoch 00004: val_acc did not improve from 0.99470\n",
      "Epoch 5/50\n",
      "1426/1426 [==============================] - 59s 41ms/step - loss: 0.1104 - acc: 0.9947 - val_loss: 0.1096 - val_acc: 0.9918\n",
      "\n",
      "Epoch 00005: val_acc did not improve from 0.99470\n",
      "Epoch 6/50\n",
      "1426/1426 [==============================] - 59s 41ms/step - loss: 0.0982 - acc: 0.9961 - val_loss: 0.1194 - val_acc: 0.9867\n",
      "\n",
      "Epoch 00006: val_acc did not improve from 0.99470\n",
      "Epoch 7/50\n",
      "1426/1426 [==============================] - 59s 41ms/step - loss: 0.0900 - acc: 0.9967 - val_loss: 0.1048 - val_acc: 0.9894\n",
      "\n",
      "Epoch 00007: val_acc did not improve from 0.99470\n",
      "Epoch 8/50\n",
      "1426/1426 [==============================] - 59s 41ms/step - loss: 0.0817 - acc: 0.9978 - val_loss: 0.0880 - val_acc: 0.9961\n",
      "\n",
      "Epoch 00008: val_acc improved from 0.99470 to 0.99606, saving model to base_model.h5\n",
      "Epoch 9/50\n",
      "1426/1426 [==============================] - 58s 41ms/step - loss: 0.0796 - acc: 0.9974 - val_loss: 0.0814 - val_acc: 0.9959\n",
      "\n",
      "Epoch 00009: val_acc did not improve from 0.99606\n",
      "Epoch 10/50\n",
      "1426/1426 [==============================] - 58s 41ms/step - loss: 0.0746 - acc: 0.9979 - val_loss: 0.0966 - val_acc: 0.9952\n",
      "\n",
      "Epoch 00010: val_acc did not improve from 0.99606\n",
      "Epoch 11/50\n",
      "1426/1426 [==============================] - 59s 41ms/step - loss: 0.0716 - acc: 0.9983 - val_loss: 0.0957 - val_acc: 0.9959\n",
      "\n",
      "Epoch 00011: val_acc did not improve from 0.99606\n",
      "Epoch 12/50\n",
      "1426/1426 [==============================] - 59s 41ms/step - loss: 0.0690 - acc: 0.9984 - val_loss: 0.0783 - val_acc: 0.9951\n",
      "\n",
      "Epoch 00012: val_acc did not improve from 0.99606\n",
      "Epoch 13/50\n",
      "1426/1426 [==============================] - 58s 41ms/step - loss: 0.0650 - acc: 0.9989 - val_loss: 0.0746 - val_acc: 0.9966\n",
      "\n",
      "Epoch 00013: val_acc improved from 0.99606 to 0.99660, saving model to base_model.h5\n",
      "Epoch 14/50\n",
      "1426/1426 [==============================] - 58s 41ms/step - loss: 0.0639 - acc: 0.9987 - val_loss: 0.0733 - val_acc: 0.9969\n",
      "\n",
      "Epoch 00014: val_acc improved from 0.99660 to 0.99687, saving model to base_model.h5\n",
      "Epoch 15/50\n",
      "1426/1426 [==============================] - 58s 41ms/step - loss: 0.0612 - acc: 0.9987 - val_loss: 0.0686 - val_acc: 0.9963\n",
      "\n",
      "Epoch 00015: val_acc did not improve from 0.99687\n",
      "Epoch 16/50\n",
      "1426/1426 [==============================] - 58s 41ms/step - loss: 0.0594 - acc: 0.9988 - val_loss: 0.0669 - val_acc: 0.9969\n",
      "\n",
      "Epoch 00016: val_acc did not improve from 0.99687\n",
      "Epoch 17/50\n",
      "1426/1426 [==============================] - 58s 41ms/step - loss: 0.0587 - acc: 0.9988 - val_loss: 0.0658 - val_acc: 0.9973\n",
      "\n",
      "Epoch 00017: val_acc improved from 0.99687 to 0.99728, saving model to base_model.h5\n",
      "Epoch 18/50\n",
      "1426/1426 [==============================] - 58s 41ms/step - loss: 0.0569 - acc: 0.9989 - val_loss: 0.0669 - val_acc: 0.9963\n",
      "\n",
      "Epoch 00018: val_acc did not improve from 0.99728\n",
      "Epoch 19/50\n",
      "1426/1426 [==============================] - 58s 41ms/step - loss: 0.0561 - acc: 0.9989 - val_loss: 0.0632 - val_acc: 0.9969\n",
      "\n",
      "Epoch 00019: val_acc did not improve from 0.99728\n",
      "Epoch 20/50\n",
      "1426/1426 [==============================] - 58s 41ms/step - loss: 0.0549 - acc: 0.9990 - val_loss: 0.1416 - val_acc: 0.9970\n",
      "\n",
      "Epoch 00020: val_acc did not improve from 0.99728\n",
      "Epoch 21/50\n",
      "1426/1426 [==============================] - 58s 41ms/step - loss: 0.0544 - acc: 0.9987 - val_loss: 0.0593 - val_acc: 0.9971\n",
      "\n",
      "Epoch 00021: val_acc did not improve from 0.99728\n",
      "Epoch 22/50\n",
      "1426/1426 [==============================] - 59s 41ms/step - loss: 0.0540 - acc: 0.9989 - val_loss: 0.0635 - val_acc: 0.9969\n",
      "\n",
      "Epoch 00022: val_acc did not improve from 0.99728\n",
      "Epoch 23/50\n",
      "1426/1426 [==============================] - 59s 41ms/step - loss: 0.0523 - acc: 0.9989 - val_loss: 0.0577 - val_acc: 0.9969\n",
      "\n",
      "Epoch 00023: val_acc did not improve from 0.99728\n",
      "Epoch 24/50\n",
      "1426/1426 [==============================] - 58s 41ms/step - loss: 0.0510 - acc: 0.9991 - val_loss: 0.0597 - val_acc: 0.9966\n",
      "\n",
      "Epoch 00024: val_acc did not improve from 0.99728\n",
      "Epoch 25/50\n",
      "1426/1426 [==============================] - 58s 41ms/step - loss: 0.0502 - acc: 0.9991 - val_loss: 0.0611 - val_acc: 0.9965\n",
      "\n",
      "Epoch 00025: val_acc did not improve from 0.99728\n",
      "Epoch 26/50\n",
      "1426/1426 [==============================] - 58s 41ms/step - loss: 0.0497 - acc: 0.9989 - val_loss: 0.0623 - val_acc: 0.9966\n",
      "\n",
      "Epoch 00026: ReduceLROnPlateau reducing learning rate to 0.0008500000403728336.\n",
      "\n",
      "Epoch 00026: val_acc did not improve from 0.99728\n",
      "Epoch 27/50\n",
      "1426/1426 [==============================] - 59s 41ms/step - loss: 0.0493 - acc: 0.9989 - val_loss: 0.0698 - val_acc: 0.9966\n",
      "\n",
      "Epoch 00027: val_acc did not improve from 0.99728\n",
      "Epoch 28/50\n",
      "1426/1426 [==============================] - 58s 41ms/step - loss: 0.0483 - acc: 0.9991 - val_loss: 0.0599 - val_acc: 0.9966\n",
      "\n",
      "Epoch 00028: val_acc did not improve from 0.99728\n",
      "Epoch 29/50\n",
      "1426/1426 [==============================] - 58s 41ms/step - loss: 0.0479 - acc: 0.9991 - val_loss: 0.0564 - val_acc: 0.9966\n",
      "\n",
      "Epoch 00029: val_acc did not improve from 0.99728\n",
      "Epoch 30/50\n",
      "1426/1426 [==============================] - 59s 41ms/step - loss: 0.0470 - acc: 0.9993 - val_loss: 0.0681 - val_acc: 0.9962\n",
      "\n",
      "Epoch 00030: val_acc did not improve from 0.99728\n",
      "Epoch 31/50\n",
      "1426/1426 [==============================] - 58s 41ms/step - loss: 0.0469 - acc: 0.9993 - val_loss: 0.0541 - val_acc: 0.9970\n",
      "\n",
      "Epoch 00031: val_acc did not improve from 0.99728\n",
      "Epoch 32/50\n",
      "1426/1426 [==============================] - 58s 41ms/step - loss: 0.0464 - acc: 0.9993 - val_loss: 0.0559 - val_acc: 0.9969\n",
      "\n",
      "Epoch 00032: val_acc did not improve from 0.99728\n",
      "Epoch 33/50\n",
      "1426/1426 [==============================] - 58s 41ms/step - loss: 0.0466 - acc: 0.9991 - val_loss: 0.0599 - val_acc: 0.9966\n",
      "\n",
      "Epoch 00033: val_acc did not improve from 0.99728\n",
      "Epoch 34/50\n",
      "1426/1426 [==============================] - 58s 41ms/step - loss: 0.0463 - acc: 0.9992 - val_loss: 0.0715 - val_acc: 0.9963\n",
      "\n",
      "Epoch 00034: ReduceLROnPlateau reducing learning rate to 0.0007225000590551645.\n",
      "\n",
      "Epoch 00034: val_acc did not improve from 0.99728\n",
      "Epoch 35/50\n",
      "1426/1426 [==============================] - 58s 41ms/step - loss: 0.0442 - acc: 0.9995 - val_loss: 0.0530 - val_acc: 0.9970\n",
      "\n",
      "Epoch 00035: val_acc did not improve from 0.99728\n",
      "Epoch 36/50\n",
      "1426/1426 [==============================] - 58s 41ms/step - loss: 0.0438 - acc: 0.9995 - val_loss: 0.0583 - val_acc: 0.9965\n",
      "\n",
      "Epoch 00036: val_acc did not improve from 0.99728\n",
      "Epoch 37/50\n",
      "1426/1426 [==============================] - 58s 41ms/step - loss: 0.0433 - acc: 0.9994 - val_loss: 0.0592 - val_acc: 0.9966\n",
      "\n",
      "Epoch 00037: val_acc did not improve from 0.99728\n",
      "Epoch 38/50\n",
      "1426/1426 [==============================] - 58s 41ms/step - loss: 0.0430 - acc: 0.9994 - val_loss: 0.0534 - val_acc: 0.9969\n",
      "\n",
      "Epoch 00038: ReduceLROnPlateau reducing learning rate to 0.0006141250254586339.\n",
      "\n",
      "Epoch 00038: val_acc did not improve from 0.99728\n",
      "Epoch 39/50\n",
      "1426/1426 [==============================] - 58s 41ms/step - loss: 0.0429 - acc: 0.9995 - val_loss: 0.0583 - val_acc: 0.9966\n",
      "\n",
      "Epoch 00039: val_acc did not improve from 0.99728\n",
      "Epoch 40/50\n",
      "1426/1426 [==============================] - 58s 41ms/step - loss: 0.0426 - acc: 0.9994 - val_loss: 0.0536 - val_acc: 0.9966\n",
      "\n",
      "Epoch 00040: val_acc did not improve from 0.99728\n",
      "Epoch 41/50\n",
      "1426/1426 [==============================] - 58s 41ms/step - loss: 0.0426 - acc: 0.9993 - val_loss: 0.0591 - val_acc: 0.9966\n",
      "\n",
      "Epoch 00041: ReduceLROnPlateau reducing learning rate to 0.0005220062914304435.\n",
      "\n",
      "Epoch 00041: val_acc did not improve from 0.99728\n",
      "Epoch 42/50\n",
      "1426/1426 [==============================] - 58s 41ms/step - loss: 0.0421 - acc: 0.9993 - val_loss: 0.0543 - val_acc: 0.9966\n",
      "\n",
      "Epoch 00042: val_acc did not improve from 0.99728\n",
      "Epoch 43/50\n",
      "1426/1426 [==============================] - 58s 41ms/step - loss: 0.0415 - acc: 0.9995 - val_loss: 0.0531 - val_acc: 0.9965\n",
      "\n",
      "Epoch 00043: val_acc did not improve from 0.99728\n",
      "Epoch 44/50\n",
      "1426/1426 [==============================] - 58s 41ms/step - loss: 0.0414 - acc: 0.9995 - val_loss: 0.0535 - val_acc: 0.9966\n",
      "\n",
      "Epoch 00044: ReduceLROnPlateau reducing learning rate to 0.00044370535761117935.\n",
      "\n",
      "Epoch 00044: val_acc did not improve from 0.99728\n",
      "Epoch 45/50\n",
      "1426/1426 [==============================] - 58s 41ms/step - loss: 0.0410 - acc: 0.9996 - val_loss: 0.0593 - val_acc: 0.9966\n",
      "\n",
      "Epoch 00045: val_acc did not improve from 0.99728\n",
      "Epoch 46/50\n",
      "1426/1426 [==============================] - 58s 41ms/step - loss: 0.0407 - acc: 0.9995 - val_loss: 0.0553 - val_acc: 0.9966\n",
      "\n",
      "Epoch 00046: val_acc did not improve from 0.99728\n",
      "Epoch 47/50\n",
      "1426/1426 [==============================] - 58s 41ms/step - loss: 0.0415 - acc: 0.9993 - val_loss: 0.0548 - val_acc: 0.9966\n",
      "\n",
      "Epoch 00047: ReduceLROnPlateau reducing learning rate to 0.00037714955396950245.\n",
      "\n",
      "Epoch 00047: val_acc did not improve from 0.99728\n",
      "Epoch 48/50\n",
      "1426/1426 [==============================] - 58s 41ms/step - loss: 0.0409 - acc: 0.9994 - val_loss: 0.0543 - val_acc: 0.9966\n",
      "\n",
      "Epoch 00048: val_acc did not improve from 0.99728\n",
      "Epoch 49/50\n",
      "1426/1426 [==============================] - 58s 41ms/step - loss: 0.0407 - acc: 0.9994 - val_loss: 0.0544 - val_acc: 0.9966\n",
      "\n",
      "Epoch 00049: val_acc did not improve from 0.99728\n",
      "Epoch 50/50\n",
      "1426/1426 [==============================] - 58s 41ms/step - loss: 0.0401 - acc: 0.9995 - val_loss: 0.0551 - val_acc: 0.9966\n",
      "\n",
      "Epoch 00050: ReduceLROnPlateau reducing learning rate to 0.0003205771208740771.\n",
      "\n",
      "Epoch 00050: val_acc did not improve from 0.99728\n"
     ]
    }
   ],
   "source": [
    "#Pos_vs_Neg_128_s60_VS_22 .... min1250_minval_1024_inclborder FULL BALANCE\n",
    "\n",
    "## No Rotations\n",
    "## train_batch_size = 32\n",
    "\n",
    "## 128x128 stride_60\n",
    "## min_pos_pix_1250, mivalpos_1024\n",
    "## INCLUDING dish_border on training images\n",
    "## l2_reg = 0.1\n",
    "## lr = 1e-3  \n",
    "## opt_RMSprop, first_Kernel:3x3 (original ResNet is 7x7)\n",
    "\n",
    "epochs = 50\n",
    "\n",
    "train_steps = train_generator.n//train_generator.batch_size\n",
    "val_steps = val_generator.n//val_generator.batch_size\n",
    "\n",
    "# Callbacks:\n",
    "reduce_lr = ReduceLROnPlateau(monitor='val_loss', factor=0.85, patience=3, \n",
    "                                   verbose=1, mode='min', min_lr=1e-9)\n",
    "EarlyStop = EarlyStopping(monitor='val_acc', patience=70, verbose=1,\n",
    "                          min_delta=0, mode='max')\n",
    "checkpoint = ModelCheckpoint('base_model.h5', monitor='val_acc', verbose=1, \n",
    "                             save_best_only=True, mode='max')\n",
    "\n",
    "callbacks_list = [reduce_lr, checkpoint, EarlyStop] #order matters!\n",
    "\n",
    "#res_cnn.load_weights('base_model.h5')\n",
    "\n",
    "history = res_cnn.fit_generator(train_generator, steps_per_epoch=train_steps,\n",
    "                            validation_data=val_generator,\n",
    "                            validation_steps=val_steps, epochs=epochs,\n",
    "                            verbose=1, callbacks=callbacks_list, shuffle=False,\n",
    "                            class_weight=serial_pos_weights)"
   ]
  },
  {
   "cell_type": "markdown",
   "metadata": {
    "colab_type": "text",
    "id": "oM6Pg4p8ZFcp"
   },
   "source": [
    "#### **Let's download the best model to our 'Capstone' folder in GoogleDrive:**"
   ]
  },
  {
   "cell_type": "code",
   "execution_count": 0,
   "metadata": {
    "colab": {
     "base_uri": "https://localhost:8080/",
     "height": 34
    },
    "colab_type": "code",
    "id": "uzutbAnER5y8",
    "outputId": "b3998bf9-1030-4fea-8936-ddfe66ebf3d8"
   },
   "outputs": [
    {
     "data": {
      "text/plain": [
       "'gdrive/My Drive/Capstone/model_pos_neg_2.h5'"
      ]
     },
     "execution_count": 52,
     "metadata": {
      "tags": []
     },
     "output_type": "execute_result"
    }
   ],
   "source": [
    "source = './base_model.h5'\n",
    "dest = 'gdrive/My Drive/Capstone/model_pos_neg_2.h5'\n",
    "shutil.copyfile(source, dest)"
   ]
  },
  {
   "cell_type": "markdown",
   "metadata": {
    "colab_type": "text",
    "id": "MRz_1oJzJRFH"
   },
   "source": [
    "#### **Let's download the training history to a local file:**"
   ]
  },
  {
   "cell_type": "code",
   "execution_count": 0,
   "metadata": {
    "colab": {},
    "colab_type": "code",
    "id": "k5Y5GUUhcyAt"
   },
   "outputs": [],
   "source": [
    "for k,v in history.history.items():\n",
    "  history.history[k] = str(v)\n",
    "\n",
    "with open('history_dict.json', 'w') as f:\n",
    "    json.dump(history.history, f)\n",
    "\n",
    "try:\n",
    "    time.sleep(3) # To avoid warning when downloading various files at once\n",
    "    files.download('history_dict.json')\n",
    "except:\n",
    "    pass"
   ]
  },
  {
   "cell_type": "code",
   "execution_count": 0,
   "metadata": {
    "colab": {},
    "colab_type": "code",
    "id": "jxEpvYPVcyUb"
   },
   "outputs": [],
   "source": [
    "#uploaded = files.upload()\n",
    "with open('history_dict.json') as f:\n",
    "    history_dict = json.load(f)\n",
    "    \n",
    "for k,v in history_dict.items():\n",
    "  history_dict[k] = json.loads(v)\n",
    "\n",
    "history_df = pd.DataFrame(history_dict)"
   ]
  },
  {
   "cell_type": "markdown",
   "metadata": {
    "colab_type": "text",
    "id": "_eAC27OxKOLY"
   },
   "source": [
    "#### **Let's plot training and validation loss vs epochs:**"
   ]
  },
  {
   "cell_type": "code",
   "execution_count": 0,
   "metadata": {
    "colab": {
     "base_uri": "https://localhost:8080/",
     "height": 407
    },
    "colab_type": "code",
    "id": "h3brS64myvSD",
    "outputId": "454c46f2-7572-4677-fc9a-e5e5857e7df7"
   },
   "outputs": [
    {
     "data": {
      "text/plain": [
       "<matplotlib.axes._subplots.AxesSubplot at 0x7f6fecaa0e48>"
      ]
     },
     "execution_count": 56,
     "metadata": {
      "tags": []
     },
     "output_type": "execute_result"
    },
    {
     "data": {
      "image/png": "[encoded data removed]",
      "text/plain": [
       "<Figure size 720x432 with 1 Axes>"
      ]
     },
     "metadata": {
      "tags": []
     },
     "output_type": "display_data"
    }
   ],
   "source": [
    "loss = history_df[['loss','val_loss']]\n",
    "loss.columns = ['train_loss', 'val_loss']\n",
    "loss.plot(figsize=(10, 6), title='Loss vs epochs')"
   ]
  },
  {
   "cell_type": "markdown",
   "metadata": {
    "colab_type": "text",
    "id": "VSFAqg-gKlR0"
   },
   "source": [
    "#### **Let's plot training and validation accuracy vs epochs:**"
   ]
  },
  {
   "cell_type": "code",
   "execution_count": 0,
   "metadata": {
    "colab": {
     "base_uri": "https://localhost:8080/",
     "height": 407
    },
    "colab_type": "code",
    "id": "MxBp7usry3eo",
    "outputId": "e1dc7f54-a04e-4554-dcf1-442d7c69fa84"
   },
   "outputs": [
    {
     "data": {
      "text/plain": [
       "<matplotlib.axes._subplots.AxesSubplot at 0x7f6fec9a7ba8>"
      ]
     },
     "execution_count": 57,
     "metadata": {
      "tags": []
     },
     "output_type": "execute_result"
    },
    {
     "data": {
      "image/png": "[encoded data removed]",
      "text/plain": [
       "<Figure size 720x432 with 1 Axes>"
      ]
     },
     "metadata": {
      "tags": []
     },
     "output_type": "display_data"
    }
   ],
   "source": [
    "acc = history_df[['val_acc','acc']]\n",
    "acc.columns = ['val_acc', 'train_acc']\n",
    "acc.plot(figsize=(10, 6), title='Val acc & Train acc vs epochs')"
   ]
  },
  {
   "cell_type": "markdown",
   "metadata": {
    "colab_type": "text",
    "id": "B8RiTO3yLDXy"
   },
   "source": [
    "#### **Let's plot learning rate vs epochs:**"
   ]
  },
  {
   "cell_type": "code",
   "execution_count": 0,
   "metadata": {
    "colab": {
     "base_uri": "https://localhost:8080/",
     "height": 407
    },
    "colab_type": "code",
    "id": "mxKKNDsm0UCy",
    "outputId": "7326b068-98ed-44bc-bc49-39969567a7df"
   },
   "outputs": [
    {
     "data": {
      "text/plain": [
       "<matplotlib.axes._subplots.AxesSubplot at 0x7f704ea18be0>"
      ]
     },
     "execution_count": 58,
     "metadata": {
      "tags": []
     },
     "output_type": "execute_result"
    },
    {
     "data": {
      "image/png": "[encoded data removed]",
      "text/plain": [
       "<Figure size 720x432 with 1 Axes>"
      ]
     },
     "metadata": {
      "tags": []
     },
     "output_type": "display_data"
    }
   ],
   "source": [
    "lr = history_df[['lr']]\n",
    "lr.plot(figsize=(10, 6), title='Learning rate vs epochs')"
   ]
  },
  {
   "cell_type": "markdown",
   "metadata": {
    "colab_type": "text",
    "id": "pEjAnQK9Mhfy"
   },
   "source": [
    "#### **Let's evaluate the best model on the validation set and compute relevant metrics:**"
   ]
  },
  {
   "cell_type": "code",
   "execution_count": 0,
   "metadata": {
    "colab": {},
    "colab_type": "code",
    "id": "cH-tFKnoMjpw"
   },
   "outputs": [],
   "source": [
    "res_cnn.load_weights('base_model.h5')"
   ]
  },
  {
   "cell_type": "code",
   "execution_count": 0,
   "metadata": {
    "colab": {
     "base_uri": "https://localhost:8080/",
     "height": 323
    },
    "colab_type": "code",
    "id": "_GWSA3vCzAqe",
    "outputId": "dcee2e18-efa6-4a15-a9f1-a4282ed42322"
   },
   "outputs": [
    {
     "name": "stdout",
     "output_type": "stream",
     "text": [
      "\n",
      "val_acc:\n",
      " 0.9973045822102425\n",
      "\n",
      "Confusion Matrix:\n",
      " [[3690   20]\n",
      " [   0 3710]]\n",
      "\n",
      "Classification Report:\n",
      "               precision    recall  f1-score   support\n",
      "\n",
      "         neg       1.00      0.99      1.00      3710\n",
      "         pos       0.99      1.00      1.00      3710\n",
      "\n",
      "    accuracy                           1.00      7420\n",
      "   macro avg       1.00      1.00      1.00      7420\n",
      "weighted avg       1.00      1.00      1.00      7420\n",
      "\n"
     ]
    }
   ],
   "source": [
    "#Pos_vs_Neg_128_s60_VS_22 .... min1250_minval_1024_inclborder FULL BALANCE\n",
    "\n",
    "## No Rotations\n",
    "## train_batch_size = 32\n",
    "\n",
    "## 128x128 stride_60\n",
    "## min_pos_pix_1250, mivalpos_1024\n",
    "## INCLUDING dish_border on training images\n",
    "## l2_reg = 0.1\n",
    "## lr = 1e-3  \n",
    "## opt_RMSprop, first_Kernel:3x3 (original ResNet is 7x7)\n",
    "\n",
    "X, y_true = next(val_generator)\n",
    "y_pred = res_cnn.predict(X)\n",
    "for i in range(1, len(val_generator)):\n",
    "  X, y = next(val_generator)\n",
    "  y_true = np.vstack((y_true, y))\n",
    "  y_pred = np.vstack((y_pred, res_cnn.predict(X)))\n",
    "\n",
    "y_true = np.argmax(y_true, axis=1)\n",
    "y_pred = np.argmax(y_pred, axis=1)\n",
    "\n",
    "val_acc = accuracy_score(y_true, y_pred)\n",
    "#roc_auc = roc_auc_score(y_true, y_pred)\n",
    "cm = confusion_matrix(y_true, y_pred)\n",
    "class_names = [k for k in val_generator.class_indices]\n",
    "c_report = classification_report(y_true, y_pred, target_names=class_names)\n",
    "\n",
    "print('\\nval_acc:\\n', val_acc)\n",
    "print('\\nConfusion Matrix:\\n', cm)\n",
    "print('\\nClassification Report:\\n', c_report)"
   ]
  },
  {
   "cell_type": "markdown",
   "metadata": {
    "colab_type": "text",
    "id": "6yh7d39ioBHt"
   },
   "source": [
    "## **Let's evaluate the best model, when loaded from GoogleDrive:**"
   ]
  },
  {
   "cell_type": "code",
   "execution_count": 0,
   "metadata": {
    "colab": {
     "base_uri": "https://localhost:8080/",
     "height": 51
    },
    "colab_type": "code",
    "id": "cVZz7DkUzVlL",
    "outputId": "3570dbe4-43e8-4d96-bc22-4ad2d1634a7e"
   },
   "outputs": [
    {
     "name": "stdout",
     "output_type": "stream",
     "text": [
      "Downloaded content: \"model_pos_neg_2.h5\"\n",
      "Root dir content: ['.config', 'Patches', 'gdrive', 'model_pos_neg_2.h5', 'adc.json', 'base_model.h5', 'model_pos_neg.h5', 'history_dict.json', 'sample_data']\n"
     ]
    }
   ],
   "source": [
    "# Authenticate and create the PyDrive client.\n",
    "auth.authenticate_user()\n",
    "gauth = GoogleAuth()\n",
    "gauth.credentials = GoogleCredentials.get_application_default()\n",
    "drive = GoogleDrive(gauth)\n",
    "\n",
    "file_id = '1-BxPnguFXE7PHmzKadW0AnwWO9VqTywR' # model pos vs neg\n",
    "\n",
    "downloaded = drive.CreateFile({'id': file_id})\n",
    "downloaded.GetContentFile(downloaded['title'])\n",
    "print('Downloaded content: \"{}\"'.format(downloaded['title']))\n",
    "print('Root dir content: {}'.format(os.listdir()))"
   ]
  },
  {
   "cell_type": "code",
   "execution_count": 0,
   "metadata": {
    "colab": {},
    "colab_type": "code",
    "id": "up9Dz57kzV4F"
   },
   "outputs": [],
   "source": [
    "final_model = load_model(downloaded['title'])"
   ]
  },
  {
   "cell_type": "code",
   "execution_count": 0,
   "metadata": {
    "colab": {
     "base_uri": "https://localhost:8080/",
     "height": 323
    },
    "colab_type": "code",
    "id": "ydyLjGW6zWL8",
    "outputId": "9bafb220-db7a-4cd9-bb91-970b7ff23ea3"
   },
   "outputs": [
    {
     "name": "stdout",
     "output_type": "stream",
     "text": [
      "\n",
      "val_acc:\n",
      " 0.9973045822102425\n",
      "\n",
      "Confusion Matrix:\n",
      " [[3690   20]\n",
      " [   0 3710]]\n",
      "\n",
      "Classification Report:\n",
      "               precision    recall  f1-score   support\n",
      "\n",
      "         neg       1.00      0.99      1.00      3710\n",
      "         pos       0.99      1.00      1.00      3710\n",
      "\n",
      "    accuracy                           1.00      7420\n",
      "   macro avg       1.00      1.00      1.00      7420\n",
      "weighted avg       1.00      1.00      1.00      7420\n",
      "\n"
     ]
    }
   ],
   "source": [
    "## entire model loaded from GoogleDrive (not just weights)\n",
    "\n",
    "X, y_true = next(val_generator)\n",
    "y_pred = final_model.predict(X)\n",
    "for i in range(1, len(val_generator)):\n",
    "  X, y = next(val_generator)\n",
    "  y_true = np.vstack((y_true, y))\n",
    "  y_pred = np.vstack((y_pred, final_model.predict(X)))\n",
    "\n",
    "y_true = np.argmax(y_true, axis=1)\n",
    "y_pred = np.argmax(y_pred, axis=1)\n",
    "\n",
    "val_acc = accuracy_score(y_true, y_pred)\n",
    "#roc_auc = roc_auc_score(y_true, y_pred)\n",
    "cm = confusion_matrix(y_true, y_pred)\n",
    "class_names = [k for k in val_generator.class_indices]\n",
    "c_report = classification_report(y_true, y_pred, target_names=class_names)\n",
    "\n",
    "print('\\nval_acc:\\n', val_acc)\n",
    "print('\\nConfusion Matrix:\\n', cm)\n",
    "print('\\nClassification Report:\\n', c_report)"
   ]
  }
 ],
 "metadata": {
  "accelerator": "GPU",
  "colab": {
   "collapsed_sections": [],
   "machine_shape": "hm",
   "name": "pos_vs_neg_.ipynb",
   "provenance": []
  },
  "kernelspec": {
   "display_name": "Python 3",
   "language": "python",
   "name": "python3"
  },
  "language_info": {
   "codemirror_mode": {
    "name": "ipython",
    "version": 3
   },
   "file_extension": ".py",
   "mimetype": "text/x-python",
   "name": "python",
   "nbconvert_exporter": "python",
   "pygments_lexer": "ipython3",
   "version": "3.6.9"
  }
 },
 "nbformat": 4,
 "nbformat_minor": 1
}
