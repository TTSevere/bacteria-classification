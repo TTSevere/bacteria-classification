{
 "cells": [
  {
   "cell_type": "markdown",
   "metadata": {},
   "source": [
    "###  <span style=\"color:red\">**This Notebook can be run from Google Colab:**</span>\n",
    "\n",
    "https://colab.research.google.com"
   ]
  },
  {
   "cell_type": "code",
   "execution_count": 0,
   "metadata": {
    "colab": {},
    "colab_type": "code",
    "id": "kOP-GdfHXmLs"
   },
   "outputs": [],
   "source": [
    "import numpy as np\n",
    "import matplotlib.pyplot as plt\n",
    "%matplotlib inline\n",
    "import os\n",
    "import zipfile\n",
    "import shutil\n",
    "from google.colab import files\n",
    "import json\n",
    "import time\n",
    "import pandas as pd\n",
    "\n",
    "import keras\n",
    "from keras.models import Model, Sequential\n",
    "from keras.applications.resnet50 import ResNet50\n",
    "from keras.layers import Input, Dense, Activation, Dropout, BatchNormalization,\\\n",
    "                          Conv2D, MaxPooling2D, Flatten, AveragePooling2D,\\\n",
    "                          GlobalAveragePooling2D, ZeroPadding2D\n",
    "from keras.initializers import glorot_uniform\n",
    "from keras import regularizers\n",
    "from keras.preprocessing.image import ImageDataGenerator\n",
    "from keras.optimizers import RMSprop, Adam, Adamax, Nadam, SGD\n",
    "from keras.callbacks import EarlyStopping, ReduceLROnPlateau, ModelCheckpoint\n",
    "\n",
    "from sklearn.metrics import roc_auc_score, accuracy_score, confusion_matrix, \\\n",
    "                            classification_report\n",
    "\n",
    "# Import PyDrive and associated libraries (to connect with GoogleDrive)\n",
    "from pydrive.auth import GoogleAuth\n",
    "from pydrive.drive import GoogleDrive\n",
    "from google.colab import auth\n",
    "from oauth2client.client import GoogleCredentials\n",
    "\n",
    "# disable warnings\n",
    "import warnings\n",
    "warnings.simplefilter(\"ignore\")\n",
    "os.environ['TF_CPP_MIN_LOG_LEVEL'] = '3' "
   ]
  },
  {
   "cell_type": "markdown",
   "metadata": {
    "colab_type": "text",
    "id": "DItexGaqdfEA"
   },
   "source": [
    "### **Check if we are using GPU:**"
   ]
  },
  {
   "cell_type": "code",
   "execution_count": 0,
   "metadata": {
    "colab": {
     "base_uri": "https://localhost:8080/",
     "height": 34
    },
    "colab_type": "code",
    "id": "vn7AYx74dNq6",
    "outputId": "de7ecb55-239a-4e08-f678-52ee9b4418ce"
   },
   "outputs": [
    {
     "name": "stdout",
     "output_type": "stream",
     "text": [
      "Using TensorFlow version: 1.15.0 , GPU: /device:GPU:0\n"
     ]
    }
   ],
   "source": [
    "from keras import backend as K\n",
    "if K.backend() == \"tensorflow\":\n",
    "    import tensorflow as tf\n",
    "    device_name = tf.test.gpu_device_name()\n",
    "    if device_name == '':\n",
    "        device_name = \"None\"\n",
    "    print('Using TensorFlow version:', tf.__version__, ', GPU:', device_name)"
   ]
  },
  {
   "cell_type": "markdown",
   "metadata": {
    "colab_type": "text",
    "id": "QQXfhMrHlqrz"
   },
   "source": [
    "### **Download Patches from GoogleDrive:**"
   ]
  },
  {
   "cell_type": "code",
   "execution_count": 0,
   "metadata": {
    "colab": {
     "base_uri": "https://localhost:8080/",
     "height": 71
    },
    "colab_type": "code",
    "id": "ACvUlEucnnY0",
    "outputId": "dd8f0383-4f34-4098-ace1-2dc1a474dfca"
   },
   "outputs": [
    {
     "name": "stdout",
     "output_type": "stream",
     "text": [
      "Downloaded content: \"Patches_new_128_s60_vs22_min1250_minval_1024_pos_only_no_border_nonNeg_rot_every_45_balanced_train-val.zip\"\n",
      "Root dir content: ['.config', 'Patches', 'base_model (1).h5', 'adc.json', 'base_model.h5', 'history_dict.json', 'Patches_new_128_s60_vs22_min1250_minval_1024_pos_only_no_border_nonNeg_rot_every_45_balanced_train-val.zip', 'sample_data']\n"
     ]
    }
   ],
   "source": [
    "# Authenticate and create the PyDrive client.\n",
    "auth.authenticate_user()\n",
    "gauth = GoogleAuth()\n",
    "gauth.credentials = GoogleCredentials.get_application_default()\n",
    "drive = GoogleDrive(gauth)\n",
    "\n",
    "file_id = '1SM1aFESHTvMJa2bx3X6cd6HAwwYY3gPI' #NEW 128x128_STRIDE_30_no border_minpospix_1250 minposval_1024 Downsampled control ROT_EVERY_45 DOWNSAMPLED_TRAIN-VAL\n",
    "\n",
    "downloaded = drive.CreateFile({'id': file_id})\n",
    "downloaded.GetContentFile(downloaded['title'])\n",
    "print('Downloaded content: \"{}\"'.format(downloaded['title']))\n",
    "print('Root dir content: {}'.format(os.listdir()))"
   ]
  },
  {
   "cell_type": "markdown",
   "metadata": {
    "colab_type": "text",
    "id": "HSdGQav-qEJM"
   },
   "source": [
    "### **Unzip the Patches:**"
   ]
  },
  {
   "cell_type": "code",
   "execution_count": 0,
   "metadata": {
    "colab": {
     "base_uri": "https://localhost:8080/",
     "height": 34
    },
    "colab_type": "code",
    "id": "jP1-2THkn47w",
    "outputId": "f5191733-dfac-455f-c414-a5cd5c485b53"
   },
   "outputs": [
    {
     "name": "stdout",
     "output_type": "stream",
     "text": [
      "Root dir content: ['.config', 'Patches', 'base_model (1).h5', 'adc.json', 'base_model.h5', 'history_dict.json', 'sample_data']\n"
     ]
    }
   ],
   "source": [
    "# Remove 'Patches' dir if it already exists\n",
    "if 'Patches' in os.listdir():\n",
    "  shutil.rmtree('./Patches')\n",
    "with zipfile.ZipFile(downloaded['title'],\"r\") as zip:\n",
    "    zip.extractall()\n",
    "os.remove(downloaded['title'])\n",
    "print('Root dir content: {}'.format(os.listdir()))"
   ]
  },
  {
   "cell_type": "markdown",
   "metadata": {
    "colab_type": "text",
    "id": "nd7htfD3rJ6V"
   },
   "source": [
    "### **Let's count patches by type and location and save class weights in inverse proportion to the number of patches for each class:**"
   ]
  },
  {
   "cell_type": "code",
   "execution_count": 0,
   "metadata": {
    "colab": {
     "base_uri": "https://localhost:8080/",
     "height": 612
    },
    "colab_type": "code",
    "id": "DjJy7FFsvm5H",
    "outputId": "fcfa467a-6d8b-47dc-83a6-9b648ed0f668"
   },
   "outputs": [
    {
     "name": "stdout",
     "output_type": "stream",
     "text": [
      "\n",
      "Total 'Serial' Patches per location:\n",
      "total_C1: 5998 = 5998 positive + 0 negative\n",
      "total_C2-3: 5998 = 5998 positive + 0 negative\n",
      "total_C4-7: 5998 = 5998 positive + 0 negative\n",
      "total_C5: 5998 = 5998 positive + 0 negative\n",
      "total_C6: 5998 = 5998 positive + 0 negative\n",
      "total_C8: 5998 = 5998 positive + 0 negative\n",
      "total_C9: 4100 = 4100 positive + 0 negative\n",
      "total_C10: 5998 = 5998 positive + 0 negative\n",
      "Total Serial: 46086 = 46086 positive + 0 negative\n",
      "\n",
      "Total 'Control' Patches per location:\n",
      "total_C1: 364 = 364 positive + 0 negative\n",
      "total_C2-3: 364 = 364 positive + 0 negative\n",
      "total_C4-7: 364 = 364 positive + 0 negative\n",
      "total_C5: 364 = 364 positive + 0 negative\n",
      "total_C6: 364 = 364 positive + 0 negative\n",
      "total_C8: 364 = 364 positive + 0 negative\n",
      "total_C9: 364 = 364 positive + 0 negative\n",
      "total_C10: 364 = 364 positive + 0 negative\n",
      "Total Control: 2912 = 2912 positive + 0 negative\n",
      "\n",
      "Total 'Streak' Patches per location:\n",
      "total_C1: 0 = 0 positive + 0 negative\n",
      "total_C2-3: 0 = 0 positive + 0 negative\n",
      "total_C4-7: 0 = 0 positive + 0 negative\n",
      "total_C5: 0 = 0 positive + 0 negative\n",
      "total_C6: 0 = 0 positive + 0 negative\n",
      "total_C8: 0 = 0 positive + 0 negative\n",
      "total_C9: 0 = 0 positive + 0 negative\n",
      "total_C10: 0 = 0 positive + 0 negative\n",
      "Total Streak: 0 = 0 positive + 0 negative\n",
      "\n",
      "GRAND TOTAL: 48998 = 48998 positive + 0 negative\n"
     ]
    }
   ],
   "source": [
    "class_weights = {} # empty dictionary to store class weights\n",
    "classes = ['C1','C2-3','C4-7','C5','C6','C8','C9','C10']\n",
    "\n",
    "grand_total, pos_total, neg_total = 0, 0, 0\n",
    "for type in ['Serial', 'Control', 'Streak']:\n",
    "    print(\"\\nTotal '{}' Patches per location:\".format(type))\n",
    "    n_type, type_pos, type_neg = 0, 0, 0\n",
    "    class_weights[type] = {} # nested empty dictionary to store class weights\n",
    "    class_weights[type]['pos'] = {} # nested dictionary to store class weights\n",
    "    class_weights[type]['neg'] = {} # nested dictionary to store class weights\n",
    "    for cls in classes:\n",
    "        pos_folder = './Patches/Positive/{}/{}_pos'.format(type,cls)\n",
    "        neg_folder = './Patches/Negative/{}/{}_neg'.format(type,cls)\n",
    "        n_pos = len(os.listdir(pos_folder))\n",
    "        n_neg = len(os.listdir(neg_folder))\n",
    "        total = n_pos + n_neg\n",
    "        n_type += total\n",
    "        type_pos += n_pos\n",
    "        type_neg += n_neg\n",
    "        print('total_{}: {} = {} positive + {} negative'.format(cls,total,n_pos,n_neg))\n",
    "        class_weights[type]['pos']['{}'.format(cls)] = 1/n_pos if n_pos else 0\n",
    "        class_weights[type]['neg']['{}'.format(cls)] = 1/n_neg if n_neg else 0\n",
    "    print('Total {}: {} = {} positive + {} negative'.format(type,n_type,type_pos,type_neg))\n",
    "    for loc in class_weights[type]['pos'].keys():\n",
    "        class_weights[type]['pos'][loc] *= type_pos\n",
    "    for loc in class_weights[type]['neg'].keys():\n",
    "        class_weights[type]['neg'][loc] *= type_neg\n",
    "    grand_total += n_type\n",
    "    pos_total += type_pos\n",
    "    neg_total += type_neg\n",
    "print('\\nGRAND TOTAL: {} = {} positive + {} negative'.format(grand_total,pos_total,neg_total))"
   ]
  },
  {
   "cell_type": "markdown",
   "metadata": {
    "colab_type": "text",
    "id": "GNJ7lSKQpdOT"
   },
   "source": [
    "#### **Let's build image generators, using keras.preprocessing.image.ImageDataGenerator, rescaling image pixel values from [0,  255] to [0, 1]:**"
   ]
  },
  {
   "cell_type": "code",
   "execution_count": 0,
   "metadata": {
    "colab": {
     "base_uri": "https://localhost:8080/",
     "height": 102
    },
    "colab_type": "code",
    "id": "UANfdA6IUFKt",
    "outputId": "bdac8bf3-eb4a-4740-cf12-003f1020b26c"
   },
   "outputs": [
    {
     "name": "stdout",
     "output_type": "stream",
     "text": [
      "For training:\n",
      "Found 46086 images belonging to 8 classes.\n",
      "\n",
      "For validation:\n",
      "Found 2912 images belonging to 8 classes.\n"
     ]
    }
   ],
   "source": [
    "c1_pos_folder = './Patches/Positive/Serial/C1_pos'\n",
    "img = plt.imread(c1_pos_folder + '/' + os.listdir(c1_pos_folder)[:5][0])\n",
    "img_size = img.shape\n",
    "train_batch_size = 32\n",
    "val_batch_size = 64\n",
    "\n",
    "datagen = ImageDataGenerator(rescale=1./255)\n",
    "val_datagen = ImageDataGenerator(rescale=1./255)\n",
    "\n",
    "print(\"For training:\")\n",
    "train_generator = datagen.flow_from_directory(\n",
    "        './Patches/Positive/Serial',\n",
    "        target_size=(img_size[0],img_size[1]),\n",
    "        batch_size=train_batch_size,\n",
    "        class_mode='categorical',\n",
    "        shuffle=True)\n",
    "\n",
    "print(\"\\nFor validation:\")\n",
    "val_generator = val_datagen.flow_from_directory(\n",
    "        './Patches/Positive/Control',\n",
    "        target_size=(img_size[0],img_size[1]),\n",
    "        batch_size=val_batch_size,\n",
    "        class_mode='categorical',\n",
    "        shuffle=False)"
   ]
  },
  {
   "cell_type": "markdown",
   "metadata": {
    "colab_type": "text",
    "id": "44ZzUGXvwqUn"
   },
   "source": [
    "#### **Let's check what is the train generators' index for each class, so we can correclty set up the class weights:**"
   ]
  },
  {
   "cell_type": "code",
   "execution_count": 0,
   "metadata": {
    "colab": {
     "base_uri": "https://localhost:8080/",
     "height": 187
    },
    "colab_type": "code",
    "id": "tSHQNC2awn84",
    "outputId": "842e877e-ecd2-4aee-bbe5-b63ebd430685"
   },
   "outputs": [
    {
     "name": "stdout",
     "output_type": "stream",
     "text": [
      "train_generator.class_indices: {\n",
      "  \"C10_pos\": 0,\n",
      "  \"C1_pos\": 1,\n",
      "  \"C2-3_pos\": 2,\n",
      "  \"C4-7_pos\": 3,\n",
      "  \"C5_pos\": 4,\n",
      "  \"C6_pos\": 5,\n",
      "  \"C8_pos\": 6,\n",
      "  \"C9_pos\": 7\n",
      "}\n"
     ]
    }
   ],
   "source": [
    "print('train_generator.class_indices:', str(json.dumps(train_generator.class_indices, indent=2, default=str)))"
   ]
  },
  {
   "cell_type": "markdown",
   "metadata": {
    "colab_type": "text",
    "id": "o30MT4e2O7gk"
   },
   "source": [
    "#### **Let's set up the class weights in correct order:**"
   ]
  },
  {
   "cell_type": "code",
   "execution_count": 0,
   "metadata": {
    "colab": {
     "base_uri": "https://localhost:8080/",
     "height": 391
    },
    "colab_type": "code",
    "id": "U2gsR9n6w2vm",
    "outputId": "b63e6853-67dd-4d31-aa3b-a0b44c2507d2"
   },
   "outputs": [
    {
     "name": "stdout",
     "output_type": "stream",
     "text": [
      "original class weights dictionary:\n",
      "{\n",
      "  \"C1\": 7.683561187062353,\n",
      "  \"C2-3\": 7.683561187062353,\n",
      "  \"C4-7\": 7.683561187062353,\n",
      "  \"C5\": 7.683561187062353,\n",
      "  \"C6\": 7.683561187062353,\n",
      "  \"C8\": 7.683561187062353,\n",
      "  \"C9\": 11.240487804878049,\n",
      "  \"C10\": 7.683561187062353\n",
      "}\n",
      "class weights for generator, re-arranging indexes:\n",
      "[\n",
      "  7.683561187062353,\n",
      "  7.683561187062353,\n",
      "  7.683561187062353,\n",
      "  7.683561187062353,\n",
      "  7.683561187062353,\n",
      "  7.683561187062353,\n",
      "  7.683561187062353,\n",
      "  11.240487804878049\n",
      "]\n"
     ]
    }
   ],
   "source": [
    "serial_pos_weights = [class_weights['Serial']['pos']['C10']] # C10 has index 0\n",
    "for cls in classes:\n",
    "    if cls == 'C10': continue\n",
    "    serial_pos_weights.append(class_weights['Serial']['pos']['{}'.format(cls)])\n",
    "print('original class weights dictionary:')\n",
    "print(str(json.dumps(class_weights['Serial']['pos'], indent=2, default=str)))\n",
    "print('class weights for generator, re-arranging indexes:')\n",
    "print(str(json.dumps(serial_pos_weights, indent=2, default=str)))"
   ]
  },
  {
   "cell_type": "markdown",
   "metadata": {
    "colab_type": "text",
    "id": "gdXBPBsVxA39"
   },
   "source": [
    "## **Let's build our Base Model. We will use Resnet:**"
   ]
  },
  {
   "cell_type": "markdown",
   "metadata": {
    "colab_type": "text",
    "id": "AjNmNKdHw4tM"
   },
   "source": [
    "#### **First. let's create a function to build a residual block.**\n",
    "\n",
    "#### We will use the residual block proposed in  [ResNetV2](https://arxiv.org/pdf/1603.05027.pdf) and will implement it by ourselves:\n",
    "\n",
    "\n",
    ">![Google's logo](https://camo.githubusercontent.com/7ae470c333cd76078e1c669055ad98bcedaf523f/68747470733a2f2f71696974612d696d6167652d73746f72652e73332e616d617a6f6e6177732e636f6d2f302f3130303532332f61313536613563322d303236622d646535352d613666622d6534666131373732623432632e706e67)"
   ]
  },
  {
   "cell_type": "code",
   "execution_count": 0,
   "metadata": {
    "colab": {},
    "colab_type": "code",
    "id": "e-DqZH20w3ji"
   },
   "outputs": [],
   "source": [
    "def res_block(X, filters, kernel_size=(3,3), l2_reg=1e-6, residual=True,\n",
    "              first=False, subsampling=False):\n",
    "    \"\"\"\n",
    "    Function to build a residual block as proposed in ResNetV2:\n",
    "             https://arxiv.org/pdf/1603.05027.pdf:\n",
    "    :param X: The input to the residual block\n",
    "    :param filters: Integer. Number of filters / channels in the output\n",
    "    :param kernel_size: Tuple (Int, Int). kernel size for convolution operations\n",
    "    :param l2_reg: Float. L2 norm for L2 regularization\n",
    "    :param residual: Boolean. True if residual block. Otherwise 'plain' block.\n",
    "    :param first: Boolean. True if first residual block -> ZeroPad and Maxpool.\n",
    "    :param subsampling: Boolean. True if subsampling within the residual block.\n",
    "    :return: the addition output from the residual block proposed in ResNetV2:\n",
    "              https://arxiv.org/pdf/1603.05027.pdf\n",
    "    \"\"\"\n",
    "    bn = BatchNormalization()(X)\n",
    "    relu = Activation(\"relu\")(bn)\n",
    "    \n",
    "    if first: #The first layer is subsampled with Maxpool\n",
    "      pad = ZeroPadding2D(padding=(1, 1))(relu)\n",
    "      relu = MaxPooling2D(pool_size=(3, 3), strides=(2,2))(pad)    \n",
    "    \n",
    "    if subsampling: #Resnet reduces size just by using stride=2 instead of pool\n",
    "      #Here we will reduce the size (subsample) by using stride 2 \n",
    "      conv_1 = Conv2D(filters, kernel_size, strides=(2,2), padding='same',\n",
    "                         kernel_regularizer=regularizers.l2(l2_reg),\n",
    "                         kernel_initializer = glorot_uniform(0),\n",
    "                         bias_initializer = glorot_uniform(0))(relu)\n",
    "      if residual:\n",
    "        #To be able to add, we also need to reduce size of input\n",
    "        #For this, we will just use a 1x1 Conv2D with stride 2  \n",
    "        res = Conv2D(filters, kernel_size=[1,1], strides=(2,2),\n",
    "                     padding='same')(X)\n",
    "    else: #No subsampling, same size as input\n",
    "      conv_1 = Conv2D(filters, kernel_size, strides=(1,1), padding='same',\n",
    "                   kernel_regularizer=regularizers.l2(l2_reg),\n",
    "                   kernel_initializer = glorot_uniform(0),\n",
    "                   bias_initializer = glorot_uniform(0))(relu)\n",
    "      if residual:\n",
    "        if first: #The first layer is subsampled with Maxpool so, resize X\n",
    "          #For this, we will just use a 1x1 Conv2D with stride 2\n",
    "          res = Conv2D(filters, kernel_size=[1,1], strides=(2,2),\n",
    "                     padding='same')(X)\n",
    "        else:\n",
    "          res = X\n",
    "    bn = BatchNormalization()(conv_1)\n",
    "    relu = Activation(\"relu\")(bn)\n",
    "\n",
    "    conv_2 = Conv2D(filters, kernel_size, padding='same',\n",
    "                       kernel_regularizer=regularizers.l2(l2_reg),\n",
    "                       kernel_initializer = glorot_uniform(0),\n",
    "                       bias_initializer = glorot_uniform(0))(relu)\n",
    "    if residual:\n",
    "      add = keras.layers.add([res, conv_2])\n",
    "      return add\n",
    "    else:\n",
    "      return conv_2"
   ]
  },
  {
   "cell_type": "markdown",
   "metadata": {
    "colab_type": "text",
    "id": "0K3-02NNUXOV"
   },
   "source": [
    "#### **Second, let's create a function to build a Resnet network:**"
   ]
  },
  {
   "cell_type": "code",
   "execution_count": 0,
   "metadata": {
    "colab": {},
    "colab_type": "code",
    "id": "32s7rai-609p"
   },
   "outputs": [],
   "source": [
    "#from keras.layers import AveragePooling2D, GlobalAveragePooling2D\n",
    "\n",
    "def make_resnet(img_size, n_classes, layers_per_group, n_filters, \n",
    "                    kernel_sizes, l2_reg=1e-6, optimizer=keras.optimizers.SGD,\n",
    "                    lr=1e-1, decay=1e-4, momentum=0.9, residual=True):\n",
    "  \n",
    "    \"\"\"\n",
    "    Function to build ResNet network, but with some user defined parameters.\n",
    "        \n",
    "        ResNet network input size is (224,224,3) then it starts with one \n",
    "        convolution layer, (7x7x64, stride 2) followed by maxpool (3x3, stride2) \n",
    "        then it will build 4 layer groups and the user will define the number of\n",
    "        residual layers per group.\n",
    "        \n",
    "        As example, ResNet34, after the first convolution layer, it has 4 groups\n",
    "        of layers with the following number of residual 'layers_per_group':\n",
    "        [6,8,12,6]\n",
    "        Because the residual connections are made between pair of layers, the\n",
    "        number of layers for each group must be a pair number.\n",
    "        \n",
    "        The user will also be able to define the number of filters and size of\n",
    "        each filter, independently for each group of layers. All layers in the\n",
    "        same group group will have the same number of filters and each filter\n",
    "        within the group will have the same size.\n",
    "        \n",
    "        Same as ResNet, an average pooling layer follows after the 4 groups\n",
    "        of layers.\n",
    "    \n",
    "    :param img_size: Size of input image, in the form: (size, size, #channels)\n",
    "    :param n_classes: Integer. Number of classes for classification.\n",
    "    :param layers_per_group: List with # of layers per group (e.g.[6,8,12,6])\n",
    "    :param n_filters: List of length 4, with number of filters for each group of\n",
    "                      layers.\n",
    "    :param kernel_sizes: List of length 4, with kernel sizes tuples for each \n",
    "                          group of layers\n",
    "    :param l2_reg: Float. L2 norm for L2 regularization\n",
    "    :param optimizer: A keras optimizer from keras.optimizers\n",
    "    :param lr: Float. learning rate for the optimizer.\n",
    "    :param decay: Float. learning rate decay for the optimizer.\n",
    "    :param momentum: Float. Momentum for SGD if optimizer=keras.optimizers.SGD\n",
    "    :param residual: Boolean. True if residual net. Otherwise 'plain' net.\n",
    "    :return: CNN with residual connections, similar to ResNet32\n",
    "    \"\"\"\n",
    "    \n",
    "    if len(layers_per_block) != len(n_filters) or len(layers_per_block) !=\\\n",
    "        len(kernel_sizes) or len(n_filters) != len(n_filters):\n",
    "        e = \"Length of 'layers_per_block', 'n_filters' and 'kernel_sizes'\" +\\\n",
    "        \" must be the same\"\n",
    "        raise Exception(e)  \n",
    "\n",
    "    for layers in layers_per_block:\n",
    "      if layers % 2 == 1:\n",
    "        e = \"Number of 'layers_per_block' must be even/pair numbers\"\n",
    "        raise Exception(e)\n",
    "      \n",
    "    inputs = Input(shape=img_size)\n",
    "    \n",
    "    n_filters_conv1 = 64\n",
    "    kernel_sizes_conv1 = (3,3)\n",
    "    #kernel_sizes_conv1 = (5,5)\n",
    "    #kernel_sizes_conv1 = (7,7)\n",
    "    strides_conv1 = (2,2)\n",
    "    \n",
    "    conv1 = Conv2D(n_filters_conv1, kernel_sizes_conv1, strides=strides_conv1,\n",
    "                   padding='same', kernel_regularizer=regularizers.l2(l2_reg),\n",
    "                   kernel_initializer = glorot_uniform(0),\n",
    "                   bias_initializer = glorot_uniform(0))(inputs)\n",
    "    \n",
    "    layer_count = 1 # counter for the number of layers\n",
    "    \n",
    "   \n",
    "    for i in range(len(layers_per_block)):\n",
    "      for j in range(int(layers_per_block[i]/2)):\n",
    "        if j == 0:\n",
    "          if i == 0:\n",
    "            add = res_block(conv1, n_filters[i], kernel_sizes[i], l2_reg,\n",
    "                            residual, first=True)\n",
    "            #add = res_block(conv0_1, n_filters[i], kernel_sizes[i], l2_reg,\n",
    "            #                residual, subsampling=True)\n",
    "          else:\n",
    "            add = res_block(add, n_filters[i], kernel_sizes[i], l2_reg,\n",
    "                            residual, subsampling=True)\n",
    "        else:\n",
    "          add = res_block(add, n_filters[i], kernel_sizes[i], l2_reg,\n",
    "                          residual)\n",
    "          \n",
    "    bn = BatchNormalization()(add)\n",
    "    relu = Activation(\"relu\")(bn)\n",
    "\n",
    "    #pool = AveragePooling2D(pool_size=(2 ,2), padding='same')(relu)\n",
    "    #flat = Flatten()(pool)\n",
    "    flat = GlobalAveragePooling2D()(relu)\n",
    "\n",
    "    out = Dense(n_classes, activation='softmax',\n",
    "                      kernel_regularizer=regularizers.l2(l2_reg),\n",
    "                      kernel_initializer=glorot_uniform(0),\n",
    "                      bias_initializer=glorot_uniform(0))(flat)\n",
    "\n",
    "    res_cnn = Model(inputs=inputs, outputs=out)\n",
    "\n",
    "    if optimizer == keras.optimizers.Nadam:\n",
    "        res_cnn.compile(optimizer(lr=lr, schedule_decay=decay),\n",
    "                    \"categorical_crossentropy\", metrics=['accuracy'])\n",
    "    elif optimizer == keras.optimizers.SGD:\n",
    "        res_cnn.compile(optimizer(lr=lr, momentum=momentum, decay=decay),\n",
    "                        \"categorical_crossentropy\", metrics=['accuracy'])\n",
    "    else:\n",
    "        res_cnn.compile(optimizer(lr=lr, decay=decay),\n",
    "                        \"categorical_crossentropy\", metrics=['accuracy'])\n",
    "    return res_cnn"
   ]
  },
  {
   "cell_type": "markdown",
   "metadata": {
    "colab_type": "text",
    "id": "7nR0XHpb2gtN"
   },
   "source": [
    "### **Let's build a ResNet18:**"
   ]
  },
  {
   "cell_type": "code",
   "execution_count": 0,
   "metadata": {
    "colab": {
     "base_uri": "https://localhost:8080/",
     "height": 1000
    },
    "colab_type": "code",
    "id": "8FawwuFI2rLe",
    "outputId": "43764718-5feb-469f-f065-c1625345a5be"
   },
   "outputs": [
    {
     "name": "stdout",
     "output_type": "stream",
     "text": [
      "Model: \"model_3\"\n",
      "__________________________________________________________________________________________________\n",
      "Layer (type)                    Output Shape         Param #     Connected to                     \n",
      "==================================================================================================\n",
      "input_3 (InputLayer)            (None, 128, 128, 3)  0                                            \n",
      "__________________________________________________________________________________________________\n",
      "conv2d_43 (Conv2D)              (None, 64, 64, 64)   1792        input_3[0][0]                    \n",
      "__________________________________________________________________________________________________\n",
      "batch_normalization_35 (BatchNo (None, 64, 64, 64)   256         conv2d_43[0][0]                  \n",
      "__________________________________________________________________________________________________\n",
      "activation_35 (Activation)      (None, 64, 64, 64)   0           batch_normalization_35[0][0]     \n",
      "__________________________________________________________________________________________________\n",
      "zero_padding2d_3 (ZeroPadding2D (None, 66, 66, 64)   0           activation_35[0][0]              \n",
      "__________________________________________________________________________________________________\n",
      "max_pooling2d_3 (MaxPooling2D)  (None, 32, 32, 64)   0           zero_padding2d_3[0][0]           \n",
      "__________________________________________________________________________________________________\n",
      "conv2d_44 (Conv2D)              (None, 32, 32, 64)   36928       max_pooling2d_3[0][0]            \n",
      "__________________________________________________________________________________________________\n",
      "batch_normalization_36 (BatchNo (None, 32, 32, 64)   256         conv2d_44[0][0]                  \n",
      "__________________________________________________________________________________________________\n",
      "activation_36 (Activation)      (None, 32, 32, 64)   0           batch_normalization_36[0][0]     \n",
      "__________________________________________________________________________________________________\n",
      "conv2d_45 (Conv2D)              (None, 32, 32, 64)   4160        conv2d_43[0][0]                  \n",
      "__________________________________________________________________________________________________\n",
      "conv2d_46 (Conv2D)              (None, 32, 32, 64)   36928       activation_36[0][0]              \n",
      "__________________________________________________________________________________________________\n",
      "add_17 (Add)                    (None, 32, 32, 64)   0           conv2d_45[0][0]                  \n",
      "                                                                 conv2d_46[0][0]                  \n",
      "__________________________________________________________________________________________________\n",
      "batch_normalization_37 (BatchNo (None, 32, 32, 64)   256         add_17[0][0]                     \n",
      "__________________________________________________________________________________________________\n",
      "activation_37 (Activation)      (None, 32, 32, 64)   0           batch_normalization_37[0][0]     \n",
      "__________________________________________________________________________________________________\n",
      "conv2d_47 (Conv2D)              (None, 32, 32, 64)   36928       activation_37[0][0]              \n",
      "__________________________________________________________________________________________________\n",
      "batch_normalization_38 (BatchNo (None, 32, 32, 64)   256         conv2d_47[0][0]                  \n",
      "__________________________________________________________________________________________________\n",
      "activation_38 (Activation)      (None, 32, 32, 64)   0           batch_normalization_38[0][0]     \n",
      "__________________________________________________________________________________________________\n",
      "conv2d_48 (Conv2D)              (None, 32, 32, 64)   36928       activation_38[0][0]              \n",
      "__________________________________________________________________________________________________\n",
      "add_18 (Add)                    (None, 32, 32, 64)   0           add_17[0][0]                     \n",
      "                                                                 conv2d_48[0][0]                  \n",
      "__________________________________________________________________________________________________\n",
      "batch_normalization_39 (BatchNo (None, 32, 32, 64)   256         add_18[0][0]                     \n",
      "__________________________________________________________________________________________________\n",
      "activation_39 (Activation)      (None, 32, 32, 64)   0           batch_normalization_39[0][0]     \n",
      "__________________________________________________________________________________________________\n",
      "conv2d_49 (Conv2D)              (None, 16, 16, 128)  73856       activation_39[0][0]              \n",
      "__________________________________________________________________________________________________\n",
      "batch_normalization_40 (BatchNo (None, 16, 16, 128)  512         conv2d_49[0][0]                  \n",
      "__________________________________________________________________________________________________\n",
      "activation_40 (Activation)      (None, 16, 16, 128)  0           batch_normalization_40[0][0]     \n",
      "__________________________________________________________________________________________________\n",
      "conv2d_50 (Conv2D)              (None, 16, 16, 128)  8320        add_18[0][0]                     \n",
      "__________________________________________________________________________________________________\n",
      "conv2d_51 (Conv2D)              (None, 16, 16, 128)  147584      activation_40[0][0]              \n",
      "__________________________________________________________________________________________________\n",
      "add_19 (Add)                    (None, 16, 16, 128)  0           conv2d_50[0][0]                  \n",
      "                                                                 conv2d_51[0][0]                  \n",
      "__________________________________________________________________________________________________\n",
      "batch_normalization_41 (BatchNo (None, 16, 16, 128)  512         add_19[0][0]                     \n",
      "__________________________________________________________________________________________________\n",
      "activation_41 (Activation)      (None, 16, 16, 128)  0           batch_normalization_41[0][0]     \n",
      "__________________________________________________________________________________________________\n",
      "conv2d_52 (Conv2D)              (None, 16, 16, 128)  147584      activation_41[0][0]              \n",
      "__________________________________________________________________________________________________\n",
      "batch_normalization_42 (BatchNo (None, 16, 16, 128)  512         conv2d_52[0][0]                  \n",
      "__________________________________________________________________________________________________\n",
      "activation_42 (Activation)      (None, 16, 16, 128)  0           batch_normalization_42[0][0]     \n",
      "__________________________________________________________________________________________________\n",
      "conv2d_53 (Conv2D)              (None, 16, 16, 128)  147584      activation_42[0][0]              \n",
      "__________________________________________________________________________________________________\n",
      "add_20 (Add)                    (None, 16, 16, 128)  0           add_19[0][0]                     \n",
      "                                                                 conv2d_53[0][0]                  \n",
      "__________________________________________________________________________________________________\n",
      "batch_normalization_43 (BatchNo (None, 16, 16, 128)  512         add_20[0][0]                     \n",
      "__________________________________________________________________________________________________\n",
      "activation_43 (Activation)      (None, 16, 16, 128)  0           batch_normalization_43[0][0]     \n",
      "__________________________________________________________________________________________________\n",
      "conv2d_54 (Conv2D)              (None, 8, 8, 256)    295168      activation_43[0][0]              \n",
      "__________________________________________________________________________________________________\n",
      "batch_normalization_44 (BatchNo (None, 8, 8, 256)    1024        conv2d_54[0][0]                  \n",
      "__________________________________________________________________________________________________\n",
      "activation_44 (Activation)      (None, 8, 8, 256)    0           batch_normalization_44[0][0]     \n",
      "__________________________________________________________________________________________________\n",
      "conv2d_55 (Conv2D)              (None, 8, 8, 256)    33024       add_20[0][0]                     \n",
      "__________________________________________________________________________________________________\n",
      "conv2d_56 (Conv2D)              (None, 8, 8, 256)    590080      activation_44[0][0]              \n",
      "__________________________________________________________________________________________________\n",
      "add_21 (Add)                    (None, 8, 8, 256)    0           conv2d_55[0][0]                  \n",
      "                                                                 conv2d_56[0][0]                  \n",
      "__________________________________________________________________________________________________\n",
      "batch_normalization_45 (BatchNo (None, 8, 8, 256)    1024        add_21[0][0]                     \n",
      "__________________________________________________________________________________________________\n",
      "activation_45 (Activation)      (None, 8, 8, 256)    0           batch_normalization_45[0][0]     \n",
      "__________________________________________________________________________________________________\n",
      "conv2d_57 (Conv2D)              (None, 8, 8, 256)    590080      activation_45[0][0]              \n",
      "__________________________________________________________________________________________________\n",
      "batch_normalization_46 (BatchNo (None, 8, 8, 256)    1024        conv2d_57[0][0]                  \n",
      "__________________________________________________________________________________________________\n",
      "activation_46 (Activation)      (None, 8, 8, 256)    0           batch_normalization_46[0][0]     \n",
      "__________________________________________________________________________________________________\n",
      "conv2d_58 (Conv2D)              (None, 8, 8, 256)    590080      activation_46[0][0]              \n",
      "__________________________________________________________________________________________________\n",
      "add_22 (Add)                    (None, 8, 8, 256)    0           add_21[0][0]                     \n",
      "                                                                 conv2d_58[0][0]                  \n",
      "__________________________________________________________________________________________________\n",
      "batch_normalization_47 (BatchNo (None, 8, 8, 256)    1024        add_22[0][0]                     \n",
      "__________________________________________________________________________________________________\n",
      "activation_47 (Activation)      (None, 8, 8, 256)    0           batch_normalization_47[0][0]     \n",
      "__________________________________________________________________________________________________\n",
      "conv2d_59 (Conv2D)              (None, 4, 4, 512)    1180160     activation_47[0][0]              \n",
      "__________________________________________________________________________________________________\n",
      "batch_normalization_48 (BatchNo (None, 4, 4, 512)    2048        conv2d_59[0][0]                  \n",
      "__________________________________________________________________________________________________\n",
      "activation_48 (Activation)      (None, 4, 4, 512)    0           batch_normalization_48[0][0]     \n",
      "__________________________________________________________________________________________________\n",
      "conv2d_60 (Conv2D)              (None, 4, 4, 512)    131584      add_22[0][0]                     \n",
      "__________________________________________________________________________________________________\n",
      "conv2d_61 (Conv2D)              (None, 4, 4, 512)    2359808     activation_48[0][0]              \n",
      "__________________________________________________________________________________________________\n",
      "add_23 (Add)                    (None, 4, 4, 512)    0           conv2d_60[0][0]                  \n",
      "                                                                 conv2d_61[0][0]                  \n",
      "__________________________________________________________________________________________________\n",
      "batch_normalization_49 (BatchNo (None, 4, 4, 512)    2048        add_23[0][0]                     \n",
      "__________________________________________________________________________________________________\n",
      "activation_49 (Activation)      (None, 4, 4, 512)    0           batch_normalization_49[0][0]     \n",
      "__________________________________________________________________________________________________\n",
      "conv2d_62 (Conv2D)              (None, 4, 4, 512)    2359808     activation_49[0][0]              \n",
      "__________________________________________________________________________________________________\n",
      "batch_normalization_50 (BatchNo (None, 4, 4, 512)    2048        conv2d_62[0][0]                  \n",
      "__________________________________________________________________________________________________\n",
      "activation_50 (Activation)      (None, 4, 4, 512)    0           batch_normalization_50[0][0]     \n",
      "__________________________________________________________________________________________________\n",
      "conv2d_63 (Conv2D)              (None, 4, 4, 512)    2359808     activation_50[0][0]              \n",
      "__________________________________________________________________________________________________\n",
      "add_24 (Add)                    (None, 4, 4, 512)    0           add_23[0][0]                     \n",
      "                                                                 conv2d_63[0][0]                  \n",
      "__________________________________________________________________________________________________\n",
      "batch_normalization_51 (BatchNo (None, 4, 4, 512)    2048        add_24[0][0]                     \n",
      "__________________________________________________________________________________________________\n",
      "activation_51 (Activation)      (None, 4, 4, 512)    0           batch_normalization_51[0][0]     \n",
      "__________________________________________________________________________________________________\n",
      "global_average_pooling2d_3 (Glo (None, 512)          0           activation_51[0][0]              \n",
      "__________________________________________________________________________________________________\n",
      "dense_3 (Dense)                 (None, 8)            4104        global_average_pooling2d_3[0][0] \n",
      "==================================================================================================\n",
      "Total params: 11,187,912\n",
      "Trainable params: 11,180,104\n",
      "Non-trainable params: 7,808\n",
      "__________________________________________________________________________________________________\n"
     ]
    }
   ],
   "source": [
    "classes = list(iter(train_generator.class_indices))\n",
    "n_classes = len(classes)\n",
    "layers_per_block = [4, 4, 4, 4] #18 layers total with first conv and last FC\n",
    "n_filters = [64, 128, 256, 512]\n",
    "kernel_sizes = [(3,3), (3,3), (3,3), (3,3)]\n",
    "l2_reg = 0.1\n",
    "optimizer = RMSprop # Adamax, RMSprop, Adam (No: Nadam, SGD)\n",
    "lr = 1e-3\n",
    "decay = 0.01\n",
    "momentum = 0.9\n",
    "\n",
    "res_cnn = make_resnet(img_size, n_classes, layers_per_block, n_filters,\n",
    "                       kernel_sizes, l2_reg, optimizer, lr, decay, momentum)\n",
    "res_cnn.summary()"
   ]
  },
  {
   "cell_type": "markdown",
   "metadata": {
    "colab_type": "text",
    "id": "JUL3HGj4dyft"
   },
   "source": [
    "### **Let's train and validate our Base Model:**"
   ]
  },
  {
   "cell_type": "code",
   "execution_count": 0,
   "metadata": {
    "colab": {
     "base_uri": "https://localhost:8080/",
     "height": 1000
    },
    "colab_type": "code",
    "id": "c5i78fZtFGFh",
    "outputId": "558dee4b-2117-402c-c26e-62b44bae5261"
   },
   "outputs": [
    {
     "name": "stdout",
     "output_type": "stream",
     "text": [
      "Epoch 1/50\n",
      "1440/1440 [==============================] - 63s 44ms/step - loss: 3.6913 - acc: 0.5889 - val_loss: 1.6654 - val_acc: 0.4462\n",
      "\n",
      "Epoch 00001: val_acc improved from -inf to 0.44618, saving model to base_model.h5\n",
      "Epoch 2/50\n",
      "1440/1440 [==============================] - 58s 40ms/step - loss: 0.8961 - acc: 0.7985 - val_loss: 1.0345 - val_acc: 0.7286\n",
      "\n",
      "Epoch 00002: val_acc improved from 0.44618 to 0.72858, saving model to base_model.h5\n",
      "Epoch 3/50\n",
      "1440/1440 [==============================] - 58s 40ms/step - loss: 0.7354 - acc: 0.8447 - val_loss: 0.9951 - val_acc: 0.7479\n",
      "\n",
      "Epoch 00003: val_acc improved from 0.72858 to 0.74789, saving model to base_model.h5\n",
      "Epoch 4/50\n",
      "1440/1440 [==============================] - 58s 40ms/step - loss: 0.6543 - acc: 0.8663 - val_loss: 0.8148 - val_acc: 0.7995\n",
      "\n",
      "Epoch 00004: val_acc improved from 0.74789 to 0.79951, saving model to base_model.h5\n",
      "Epoch 5/50\n",
      "1440/1440 [==============================] - 58s 40ms/step - loss: 0.6058 - acc: 0.8766 - val_loss: 0.8733 - val_acc: 0.7732\n",
      "\n",
      "Epoch 00005: val_acc did not improve from 0.79951\n",
      "Epoch 6/50\n",
      "1440/1440 [==============================] - 58s 40ms/step - loss: 0.5661 - acc: 0.8871 - val_loss: 0.7576 - val_acc: 0.7756\n",
      "\n",
      "Epoch 00006: val_acc did not improve from 0.79951\n",
      "Epoch 7/50\n",
      "1440/1440 [==============================] - 58s 40ms/step - loss: 0.5432 - acc: 0.8948 - val_loss: 1.0647 - val_acc: 0.7465\n",
      "\n",
      "Epoch 00007: val_acc did not improve from 0.79951\n",
      "Epoch 8/50\n",
      "1440/1440 [==============================] - 58s 40ms/step - loss: 0.5176 - acc: 0.8999 - val_loss: 0.9544 - val_acc: 0.7721\n",
      "\n",
      "Epoch 00008: val_acc did not improve from 0.79951\n",
      "Epoch 9/50\n",
      "1440/1440 [==============================] - 58s 40ms/step - loss: 0.4974 - acc: 0.9085 - val_loss: 0.8424 - val_acc: 0.7918\n",
      "\n",
      "Epoch 00009: ReduceLROnPlateau reducing learning rate to 0.0008500000403728336.\n",
      "\n",
      "Epoch 00009: val_acc did not improve from 0.79951\n",
      "Epoch 10/50\n",
      "1440/1440 [==============================] - 58s 40ms/step - loss: 0.4738 - acc: 0.9171 - val_loss: 0.7337 - val_acc: 0.8048\n",
      "\n",
      "Epoch 00010: val_acc improved from 0.79951 to 0.80478, saving model to base_model.h5\n",
      "Epoch 11/50\n",
      "1440/1440 [==============================] - 58s 40ms/step - loss: 0.4580 - acc: 0.9214 - val_loss: 0.8127 - val_acc: 0.8118\n",
      "\n",
      "Epoch 00011: val_acc improved from 0.80478 to 0.81180, saving model to base_model.h5\n",
      "Epoch 12/50\n",
      "1440/1440 [==============================] - 58s 40ms/step - loss: 0.4457 - acc: 0.9252 - val_loss: 0.9469 - val_acc: 0.7591\n",
      "\n",
      "Epoch 00012: val_acc did not improve from 0.81180\n",
      "Epoch 13/50\n",
      "1440/1440 [==============================] - 58s 40ms/step - loss: 0.4351 - acc: 0.9281 - val_loss: 0.7254 - val_acc: 0.8209\n",
      "\n",
      "Epoch 00013: val_acc improved from 0.81180 to 0.82093, saving model to base_model.h5\n",
      "Epoch 14/50\n",
      "1440/1440 [==============================] - 58s 40ms/step - loss: 0.4243 - acc: 0.9333 - val_loss: 0.7418 - val_acc: 0.7911\n",
      "\n",
      "Epoch 00014: val_acc did not improve from 0.82093\n",
      "Epoch 15/50\n",
      "1440/1440 [==============================] - 58s 40ms/step - loss: 0.4173 - acc: 0.9359 - val_loss: 0.8288 - val_acc: 0.8072\n",
      "\n",
      "Epoch 00015: val_acc did not improve from 0.82093\n",
      "Epoch 16/50\n",
      "1440/1440 [==============================] - 57s 40ms/step - loss: 0.4111 - acc: 0.9368 - val_loss: 0.6545 - val_acc: 0.8388\n",
      "\n",
      "Epoch 00016: val_acc improved from 0.82093 to 0.83883, saving model to base_model.h5\n",
      "Epoch 17/50\n",
      "1440/1440 [==============================] - 57s 40ms/step - loss: 0.4044 - acc: 0.9412 - val_loss: 0.8538 - val_acc: 0.7760\n",
      "\n",
      "Epoch 00017: val_acc did not improve from 0.83883\n",
      "Epoch 18/50\n",
      "1440/1440 [==============================] - 58s 40ms/step - loss: 0.3933 - acc: 0.9446 - val_loss: 0.7041 - val_acc: 0.8244\n",
      "\n",
      "Epoch 00018: val_acc did not improve from 0.83883\n",
      "Epoch 19/50\n",
      "1440/1440 [==============================] - 58s 40ms/step - loss: 0.3904 - acc: 0.9448 - val_loss: 0.7256 - val_acc: 0.8220\n",
      "\n",
      "Epoch 00019: ReduceLROnPlateau reducing learning rate to 0.0007225000590551645.\n",
      "\n",
      "Epoch 00019: val_acc did not improve from 0.83883\n",
      "Epoch 20/50\n",
      "1440/1440 [==============================] - 58s 40ms/step - loss: 0.3763 - acc: 0.9512 - val_loss: 0.6843 - val_acc: 0.8385\n",
      "\n",
      "Epoch 00020: val_acc did not improve from 0.83883\n",
      "Epoch 21/50\n",
      "1440/1440 [==============================] - 58s 40ms/step - loss: 0.3712 - acc: 0.9526 - val_loss: 0.7555 - val_acc: 0.8167\n",
      "\n",
      "Epoch 00021: val_acc did not improve from 0.83883\n",
      "Epoch 22/50\n",
      "1440/1440 [==============================] - 57s 40ms/step - loss: 0.3681 - acc: 0.9548 - val_loss: 0.6788 - val_acc: 0.8353\n",
      "\n",
      "Epoch 00022: ReduceLROnPlateau reducing learning rate to 0.0006141250254586339.\n",
      "\n",
      "Epoch 00022: val_acc did not improve from 0.83883\n",
      "Epoch 23/50\n",
      "1440/1440 [==============================] - 57s 40ms/step - loss: 0.3560 - acc: 0.9597 - val_loss: 0.7258 - val_acc: 0.8129\n",
      "\n",
      "Epoch 00023: val_acc did not improve from 0.83883\n",
      "Epoch 24/50\n",
      "1440/1440 [==============================] - 57s 40ms/step - loss: 0.3532 - acc: 0.9617 - val_loss: 0.8393 - val_acc: 0.7956\n",
      "\n",
      "Epoch 00024: val_acc did not improve from 0.83883\n",
      "Epoch 25/50\n",
      "1440/1440 [==============================] - 57s 40ms/step - loss: 0.3452 - acc: 0.9641 - val_loss: 0.6943 - val_acc: 0.8438\n",
      "\n",
      "Epoch 00025: ReduceLROnPlateau reducing learning rate to 0.0005220062914304435.\n",
      "\n",
      "Epoch 00025: val_acc improved from 0.83883 to 0.84375, saving model to base_model.h5\n",
      "Epoch 26/50\n",
      "1440/1440 [==============================] - 57s 40ms/step - loss: 0.3379 - acc: 0.9674 - val_loss: 0.7150 - val_acc: 0.8199\n",
      "\n",
      "Epoch 00026: val_acc did not improve from 0.84375\n",
      "Epoch 27/50\n",
      "1440/1440 [==============================] - 58s 40ms/step - loss: 0.3333 - acc: 0.9698 - val_loss: 0.6694 - val_acc: 0.8381\n",
      "\n",
      "Epoch 00027: val_acc did not improve from 0.84375\n",
      "Epoch 28/50\n",
      "1440/1440 [==============================] - 57s 40ms/step - loss: 0.3281 - acc: 0.9712 - val_loss: 0.7459 - val_acc: 0.8171\n",
      "\n",
      "Epoch 00028: ReduceLROnPlateau reducing learning rate to 0.00044370535761117935.\n",
      "\n",
      "Epoch 00028: val_acc did not improve from 0.84375\n",
      "Epoch 29/50\n",
      "1440/1440 [==============================] - 57s 40ms/step - loss: 0.3199 - acc: 0.9750 - val_loss: 0.8146 - val_acc: 0.8178\n",
      "\n",
      "Epoch 00029: val_acc did not improve from 0.84375\n",
      "Epoch 30/50\n",
      "1440/1440 [==============================] - 57s 40ms/step - loss: 0.3183 - acc: 0.9763 - val_loss: 0.6758 - val_acc: 0.8423\n",
      "\n",
      "Epoch 00030: val_acc did not improve from 0.84375\n",
      "Epoch 31/50\n",
      "1440/1440 [==============================] - 57s 40ms/step - loss: 0.3170 - acc: 0.9756 - val_loss: 0.7338 - val_acc: 0.8353\n",
      "\n",
      "Epoch 00031: ReduceLROnPlateau reducing learning rate to 0.00037714955396950245.\n",
      "\n",
      "Epoch 00031: val_acc did not improve from 0.84375\n",
      "Epoch 32/50\n",
      "1440/1440 [==============================] - 57s 40ms/step - loss: 0.3094 - acc: 0.9791 - val_loss: 0.6759 - val_acc: 0.8494\n",
      "\n",
      "Epoch 00032: val_acc improved from 0.84375 to 0.84937, saving model to base_model.h5\n",
      "Epoch 33/50\n",
      "1440/1440 [==============================] - 57s 40ms/step - loss: 0.3080 - acc: 0.9798 - val_loss: 0.6830 - val_acc: 0.8455\n",
      "\n",
      "Epoch 00033: val_acc did not improve from 0.84937\n",
      "Epoch 34/50\n",
      "1440/1440 [==============================] - 57s 40ms/step - loss: 0.3049 - acc: 0.9811 - val_loss: 0.7736 - val_acc: 0.8357\n",
      "\n",
      "Epoch 00034: ReduceLROnPlateau reducing learning rate to 0.0003205771208740771.\n",
      "\n",
      "Epoch 00034: val_acc did not improve from 0.84937\n",
      "Epoch 35/50\n",
      "1440/1440 [==============================] - 57s 40ms/step - loss: 0.3002 - acc: 0.9831 - val_loss: 0.6879 - val_acc: 0.8567\n",
      "\n",
      "Epoch 00035: val_acc improved from 0.84937 to 0.85674, saving model to base_model.h5\n",
      "Epoch 36/50\n",
      "1440/1440 [==============================] - 57s 40ms/step - loss: 0.2977 - acc: 0.9842 - val_loss: 0.7547 - val_acc: 0.8399\n",
      "\n",
      "Epoch 00036: val_acc did not improve from 0.85674\n",
      "Epoch 37/50\n",
      "1440/1440 [==============================] - 57s 40ms/step - loss: 0.2942 - acc: 0.9857 - val_loss: 0.7558 - val_acc: 0.8392\n",
      "\n",
      "Epoch 00037: ReduceLROnPlateau reducing learning rate to 0.0002724905527429655.\n",
      "\n",
      "Epoch 00037: val_acc did not improve from 0.85674\n",
      "Epoch 38/50\n",
      "1440/1440 [==============================] - 58s 40ms/step - loss: 0.2919 - acc: 0.9865 - val_loss: 0.7412 - val_acc: 0.8427\n",
      "\n",
      "Epoch 00038: val_acc did not improve from 0.85674\n",
      "Epoch 39/50\n",
      "1440/1440 [==============================] - 57s 40ms/step - loss: 0.2905 - acc: 0.9869 - val_loss: 0.7444 - val_acc: 0.8430\n",
      "\n",
      "Epoch 00039: val_acc did not improve from 0.85674\n",
      "Epoch 40/50\n",
      "1440/1440 [==============================] - 57s 40ms/step - loss: 0.2895 - acc: 0.9875 - val_loss: 0.7709 - val_acc: 0.8423\n",
      "\n",
      "Epoch 00040: ReduceLROnPlateau reducing learning rate to 0.00023161696735769509.\n",
      "\n",
      "Epoch 00040: val_acc did not improve from 0.85674\n",
      "Epoch 41/50\n",
      "1440/1440 [==============================] - 57s 40ms/step - loss: 0.2863 - acc: 0.9884 - val_loss: 0.7669 - val_acc: 0.8416\n",
      "\n",
      "Epoch 00041: val_acc did not improve from 0.85674\n",
      "Epoch 42/50\n",
      "1440/1440 [==============================] - 57s 40ms/step - loss: 0.2827 - acc: 0.9897 - val_loss: 0.8178 - val_acc: 0.8265\n",
      "\n",
      "Epoch 00042: val_acc did not improve from 0.85674\n",
      "Epoch 43/50\n",
      "1440/1440 [==============================] - 57s 40ms/step - loss: 0.2836 - acc: 0.9896 - val_loss: 0.7884 - val_acc: 0.8413\n",
      "\n",
      "Epoch 00043: ReduceLROnPlateau reducing learning rate to 0.00019687442472786642.\n",
      "\n",
      "Epoch 00043: val_acc did not improve from 0.85674\n",
      "Epoch 44/50\n",
      "1440/1440 [==============================] - 57s 40ms/step - loss: 0.2805 - acc: 0.9905 - val_loss: 0.8109 - val_acc: 0.8378\n",
      "\n",
      "Epoch 00044: val_acc did not improve from 0.85674\n",
      "Epoch 45/50\n",
      "1440/1440 [==============================] - 57s 40ms/step - loss: 0.2801 - acc: 0.9898 - val_loss: 0.8224 - val_acc: 0.8315\n",
      "\n",
      "Epoch 00045: val_acc did not improve from 0.85674\n",
      "Epoch 46/50\n",
      "1440/1440 [==============================] - 57s 40ms/step - loss: 0.2778 - acc: 0.9918 - val_loss: 0.8277 - val_acc: 0.8322\n",
      "\n",
      "Epoch 00046: ReduceLROnPlateau reducing learning rate to 0.00016734325545257888.\n",
      "\n",
      "Epoch 00046: val_acc did not improve from 0.85674\n",
      "Epoch 47/50\n",
      "1440/1440 [==============================] - 57s 40ms/step - loss: 0.2769 - acc: 0.9914 - val_loss: 0.8090 - val_acc: 0.8375\n",
      "\n",
      "Epoch 00047: val_acc did not improve from 0.85674\n",
      "Epoch 48/50\n",
      "1440/1440 [==============================] - 57s 40ms/step - loss: 0.2765 - acc: 0.9913 - val_loss: 0.8361 - val_acc: 0.8308\n",
      "\n",
      "Epoch 00048: val_acc did not improve from 0.85674\n",
      "Epoch 49/50\n",
      "1440/1440 [==============================] - 57s 40ms/step - loss: 0.2742 - acc: 0.9927 - val_loss: 0.8298 - val_acc: 0.8318\n",
      "\n",
      "Epoch 00049: ReduceLROnPlateau reducing learning rate to 0.00014224176775314845.\n",
      "\n",
      "Epoch 00049: val_acc did not improve from 0.85674\n",
      "Epoch 50/50\n",
      "1440/1440 [==============================] - 57s 40ms/step - loss: 0.2745 - acc: 0.9930 - val_loss: 0.8135 - val_acc: 0.8357\n",
      "\n",
      "Epoch 00050: val_acc did not improve from 0.85674\n"
     ]
    }
   ],
   "source": [
    "## Balanced training and val\n",
    "## Rotations every 45\n",
    "## train_batch_size = 32\n",
    "\n",
    "## 128x128 stride_60\n",
    "## min_pos_pix_1250, mivalpos_1024\n",
    "## no_dish_border on training images\n",
    "## l2_reg = 0.1\n",
    "## lr = 1e-3  \n",
    "## opt_RMSprop, first_Kernel:3x3 (original ResNet is 7x7)\n",
    "\n",
    "epochs = 50\n",
    "\n",
    "train_steps = train_generator.n//train_generator.batch_size\n",
    "val_steps = val_generator.n//val_generator.batch_size\n",
    "\n",
    "# Callbacks:\n",
    "reduce_lr = ReduceLROnPlateau(monitor='val_loss', factor=0.85, patience=3, \n",
    "                                   verbose=1, mode='min', min_lr=1e-9)\n",
    "EarlyStop = EarlyStopping(monitor='val_acc', patience=70, verbose=1,\n",
    "                          min_delta=0, mode='max')\n",
    "checkpoint = ModelCheckpoint('base_model.h5', monitor='val_acc', verbose=1, \n",
    "                             save_best_only=True, mode='max')\n",
    "\n",
    "callbacks_list = [reduce_lr, checkpoint, EarlyStop] #order matters!\n",
    "\n",
    "#res_cnn.load_weights('base_model.h5')\n",
    "\n",
    "history = res_cnn.fit_generator(train_generator, steps_per_epoch=train_steps,\n",
    "                            validation_data=val_generator,\n",
    "                            validation_steps=val_steps, epochs=epochs,\n",
    "                            verbose=1, callbacks=callbacks_list, shuffle=False,\n",
    "                            class_weight=serial_pos_weights)"
   ]
  },
  {
   "cell_type": "markdown",
   "metadata": {
    "colab_type": "text",
    "id": "CZoWGz1EIuF2"
   },
   "source": [
    "#### **Let's mount our GoogleDrive to download the best model:**"
   ]
  },
  {
   "cell_type": "code",
   "execution_count": 0,
   "metadata": {
    "colab": {
     "base_uri": "https://localhost:8080/",
     "height": 122
    },
    "colab_type": "code",
    "id": "R-86HYTJRpAf",
    "outputId": "96d19d15-0ecb-4ace-8b48-cdffa77c0b60"
   },
   "outputs": [
    {
     "name": "stdout",
     "output_type": "stream",
     "text": [
      "Go to this URL in a browser: https://accounts.google.com/o/oauth2/auth?client_id=947318989803-6bn6qk8qdgf4n4g3pfee6491hc0brc4i.apps.googleusercontent.com&redirect_uri=urn%3aietf%3awg%3aoauth%3a2.0%3aoob&response_type=code&scope=email%20https%3a%2f%2fwww.googleapis.com%2fauth%2fdocs.test%20https%3a%2f%2fwww.googleapis.com%2fauth%2fdrive%20https%3a%2f%2fwww.googleapis.com%2fauth%2fdrive.photos.readonly%20https%3a%2f%2fwww.googleapis.com%2fauth%2fpeopleapi.readonly\n",
      "\n",
      "Enter your authorization code:\n",
      "··········\n",
      "Mounted at /content/gdrive\n"
     ]
    }
   ],
   "source": [
    "from google.colab import drive\n",
    "drive.mount('/content/gdrive')"
   ]
  },
  {
   "cell_type": "markdown",
   "metadata": {
    "colab_type": "text",
    "id": "oM6Pg4p8ZFcp"
   },
   "source": [
    "#### **Let's download the best model to our 'Capstone' folder in GoogleDrive:**"
   ]
  },
  {
   "cell_type": "code",
   "execution_count": 0,
   "metadata": {
    "colab": {
     "base_uri": "https://localhost:8080/",
     "height": 34
    },
    "colab_type": "code",
    "id": "uzutbAnER5y8",
    "outputId": "1de0e7b1-11f1-4822-b2a9-fba6fa22c71f"
   },
   "outputs": [
    {
     "data": {
      "text/plain": [
       "'gdrive/My Drive/Capstone/base_model_085.h5'"
      ]
     },
     "execution_count": 56,
     "metadata": {
      "tags": []
     },
     "output_type": "execute_result"
    }
   ],
   "source": [
    "source = './base_model.h5'\n",
    "dest = 'gdrive/My Drive/Capstone/base_model_085.h5'\n",
    "shutil.copyfile(source, dest)"
   ]
  },
  {
   "cell_type": "markdown",
   "metadata": {
    "colab_type": "text",
    "id": "MRz_1oJzJRFH"
   },
   "source": [
    "#### **Let's download the training history to a local file:**"
   ]
  },
  {
   "cell_type": "code",
   "execution_count": 0,
   "metadata": {
    "colab": {},
    "colab_type": "code",
    "id": "k5Y5GUUhcyAt"
   },
   "outputs": [],
   "source": [
    "for k,v in history.history.items():\n",
    "  history.history[k] = str(v)\n",
    "\n",
    "with open('history_dict.json', 'w') as f:\n",
    "    json.dump(history.history, f)\n",
    "\n",
    "try:\n",
    "    time.sleep(3) # To avoid warning when downloading various files at once\n",
    "    files.download('history_dict.json')\n",
    "except:\n",
    "    pass"
   ]
  },
  {
   "cell_type": "code",
   "execution_count": 0,
   "metadata": {
    "colab": {},
    "colab_type": "code",
    "id": "jxEpvYPVcyUb"
   },
   "outputs": [],
   "source": [
    "#uploaded = files.upload()\n",
    "with open('history_dict.json') as f:\n",
    "    history_dict = json.load(f)\n",
    "    \n",
    "for k,v in history_dict.items():\n",
    "  history_dict[k] = json.loads(v)\n",
    "\n",
    "history_df = pd.DataFrame(history_dict)"
   ]
  },
  {
   "cell_type": "markdown",
   "metadata": {
    "colab_type": "text",
    "id": "_eAC27OxKOLY"
   },
   "source": [
    "#### **Let's plot training and validation loss vs epochs:**"
   ]
  },
  {
   "cell_type": "code",
   "execution_count": 0,
   "metadata": {
    "colab": {
     "base_uri": "https://localhost:8080/",
     "height": 407
    },
    "colab_type": "code",
    "id": "6Hms1mGMEb0z",
    "outputId": "a09e14b8-90a2-4cb0-890a-8b54a808d459"
   },
   "outputs": [
    {
     "data": {
      "text/plain": [
       "<matplotlib.axes._subplots.AxesSubplot at 0x7f7aba525940>"
      ]
     },
     "execution_count": 59,
     "metadata": {
      "tags": []
     },
     "output_type": "execute_result"
    },
    {
     "data": {
      "image/png": "[encoded data removed]",
      "text/plain": [
       "<Figure size 720x432 with 1 Axes>"
      ]
     },
     "metadata": {
      "tags": []
     },
     "output_type": "display_data"
    }
   ],
   "source": [
    "loss = history_df[['loss','val_loss']]\n",
    "loss.columns = ['train_loss', 'val_loss']\n",
    "loss.plot(figsize=(10, 6), title='Loss vs epochs')"
   ]
  },
  {
   "cell_type": "markdown",
   "metadata": {
    "colab_type": "text",
    "id": "VSFAqg-gKlR0"
   },
   "source": [
    "#### **Let's plot training and validation accuracy vs epochs:**"
   ]
  },
  {
   "cell_type": "code",
   "execution_count": 0,
   "metadata": {
    "colab": {
     "base_uri": "https://localhost:8080/",
     "height": 407
    },
    "colab_type": "code",
    "id": "J_ZREWKUEh8-",
    "outputId": "2acfa4da-36b3-4e11-b047-4cdc9ed1b344"
   },
   "outputs": [
    {
     "data": {
      "text/plain": [
       "<matplotlib.axes._subplots.AxesSubplot at 0x7f7ab82fa978>"
      ]
     },
     "execution_count": 61,
     "metadata": {
      "tags": []
     },
     "output_type": "execute_result"
    },
    {
     "data": {
      "image/png": "[encoded data removed]",
      "text/plain": [
       "<Figure size 720x432 with 1 Axes>"
      ]
     },
     "metadata": {
      "tags": []
     },
     "output_type": "display_data"
    }
   ],
   "source": [
    "acc = history_df[['val_acc','acc']]\n",
    "acc.columns = ['val_acc', 'train_acc']\n",
    "acc.plot(figsize=(10, 6), title='Val acc & Train acc vs epochs')"
   ]
  },
  {
   "cell_type": "markdown",
   "metadata": {
    "colab_type": "text",
    "id": "B8RiTO3yLDXy"
   },
   "source": [
    "#### **Let's plot learning rate vs epochs:**"
   ]
  },
  {
   "cell_type": "code",
   "execution_count": 0,
   "metadata": {
    "colab": {
     "base_uri": "https://localhost:8080/",
     "height": 407
    },
    "colab_type": "code",
    "id": "mxKKNDsm0UCy",
    "outputId": "1028bad0-c3be-4b34-88e0-c2ebb60b4d90"
   },
   "outputs": [
    {
     "data": {
      "text/plain": [
       "<matplotlib.axes._subplots.AxesSubplot at 0x7f7ab82d8860>"
      ]
     },
     "execution_count": 62,
     "metadata": {
      "tags": []
     },
     "output_type": "execute_result"
    },
    {
     "data": {
      "image/png": "[encoded data removed]",
      "text/plain": [
       "<Figure size 720x432 with 1 Axes>"
      ]
     },
     "metadata": {
      "tags": []
     },
     "output_type": "display_data"
    }
   ],
   "source": [
    "lr = history_df[['lr']]\n",
    "lr.plot(figsize=(10, 6), title='Learning rate vs epochs')"
   ]
  },
  {
   "cell_type": "markdown",
   "metadata": {
    "colab_type": "text",
    "id": "pEjAnQK9Mhfy"
   },
   "source": [
    "#### **Let's evaluate the best model, on the validation set and compute relevant metrics:**"
   ]
  },
  {
   "cell_type": "code",
   "execution_count": 0,
   "metadata": {
    "colab": {},
    "colab_type": "code",
    "id": "cH-tFKnoMjpw"
   },
   "outputs": [],
   "source": [
    "res_cnn.load_weights('base_model.h5')"
   ]
  },
  {
   "cell_type": "code",
   "execution_count": 0,
   "metadata": {
    "colab": {
     "base_uri": "https://localhost:8080/",
     "height": 527
    },
    "colab_type": "code",
    "id": "QLEwLhSbdtZj",
    "outputId": "da790950-77c6-4ec3-a056-8715f3f1ce2c"
   },
   "outputs": [
    {
     "name": "stdout",
     "output_type": "stream",
     "text": [
      "\n",
      "val_acc:\n",
      " 0.8464972527472527\n",
      "\n",
      "Confusion Matrix:\n",
      " [[363   0   1   0   0   0   0   0]\n",
      " [  2 352   3   0   0   0   7   0]\n",
      " [  0 101 254   0   0   0   9   0]\n",
      " [  0   0   1 299  62   0   2   0]\n",
      " [  0   0   0 213 151   0   0   0]\n",
      " [  0   0   1   4   0 359   0   0]\n",
      " [  0   8   0  33   0   0 323   0]\n",
      " [  0   0   0   0   0   0   0 364]]\n",
      "\n",
      "Classification Report:\n",
      "               precision    recall  f1-score   support\n",
      "\n",
      "     C10_pos       0.99      1.00      1.00       364\n",
      "      C1_pos       0.76      0.97      0.85       364\n",
      "    C2-3_pos       0.98      0.70      0.81       364\n",
      "    C4-7_pos       0.54      0.82      0.65       364\n",
      "      C5_pos       0.71      0.41      0.52       364\n",
      "      C6_pos       1.00      0.99      0.99       364\n",
      "      C8_pos       0.95      0.89      0.92       364\n",
      "      C9_pos       1.00      1.00      1.00       364\n",
      "\n",
      "    accuracy                           0.85      2912\n",
      "   macro avg       0.87      0.85      0.84      2912\n",
      "weighted avg       0.87      0.85      0.84      2912\n",
      "\n"
     ]
    }
   ],
   "source": [
    "## Balanced training and val\n",
    "## Rotations every 45\n",
    "## train_batch_size = 32\n",
    "\n",
    "## 128x128 stride_60\n",
    "## min_pos_pix_1250, mivalpos_1024\n",
    "## no_dish_border on training images\n",
    "## l2_reg = 0.1\n",
    "## lr = 1e-3  \n",
    "## opt_RMSprop, first_Kernel:3x3 (original ResNet is 7x7)\n",
    "\n",
    "X, y_true = next(val_generator)\n",
    "y_pred = res_cnn.predict(X)\n",
    "for i in range(1, len(val_generator)):\n",
    "  X, y = next(val_generator)\n",
    "  y_true = np.vstack((y_true, y))\n",
    "  y_pred = np.vstack((y_pred, res_cnn.predict(X)))\n",
    "\n",
    "y_true = np.argmax(y_true, axis=1)\n",
    "y_pred = np.argmax(y_pred, axis=1)\n",
    "\n",
    "val_acc = accuracy_score(y_true, y_pred)\n",
    "#roc_auc = roc_auc_score(y_true, y_pred)\n",
    "cm = confusion_matrix(y_true, y_pred)\n",
    "class_names = [k for k in val_generator.class_indices]\n",
    "c_report = classification_report(y_true, y_pred, target_names=class_names)\n",
    "\n",
    "print('\\nval_acc:\\n', val_acc)\n",
    "print('\\nConfusion Matrix:\\n', cm)\n",
    "print('\\nClassification Report:\\n', c_report)"
   ]
  },
  {
   "cell_type": "markdown",
   "metadata": {},
   "source": [
    "\n",
    "# <span style=\"color:red\">*Conclusions and next steps:*</span>\n",
    "\n",
    "#### **As we can see above in the confusion matrix, the model is having difficulty to differentiate between classes 'C1' and 'C2-3' and between classes 'C4-7' and 'C5'. \n",
    "\n",
    "#### As a next step, we will train a model specifically trained to differentiate 'C1' vs 'C2-3' vs 'all_other' classes. Similarly, we will train a model specifically trained to differentiate 'C4-7' vs 'C5' vs 'all_other' classes.\n",
    "\n",
    "#### In addition, we will also train a model specifically trained to differentiate between positive bacterial colony patches (of any class) and negative patches (either petri-dish background, petri-dish border or white image background).\n",
    "\n",
    "#### As a final step, we will combine our models and test them in test data to evaluate performance just once."
   ]
  },
  {
   "cell_type": "code",
   "execution_count": null,
   "metadata": {},
   "outputs": [],
   "source": []
  }
 ],
 "metadata": {
  "accelerator": "GPU",
  "colab": {
   "collapsed_sections": [],
   "machine_shape": "hm",
   "name": "Downsample Base_Model 8 classes train Serial validate Control.ipynb",
   "provenance": []
  },
  "kernelspec": {
   "display_name": "Python 3",
   "language": "python",
   "name": "python3"
  },
  "language_info": {
   "codemirror_mode": {
    "name": "ipython",
    "version": 3
   },
   "file_extension": ".py",
   "mimetype": "text/x-python",
   "name": "python",
   "nbconvert_exporter": "python",
   "pygments_lexer": "ipython3",
   "version": "3.6.9"
  }
 },
 "nbformat": 4,
 "nbformat_minor": 1
}
