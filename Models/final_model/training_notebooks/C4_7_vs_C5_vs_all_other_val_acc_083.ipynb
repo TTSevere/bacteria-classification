{
 "cells": [
  {
   "cell_type": "markdown",
   "metadata": {},
   "source": [
    "###  <span style=\"color:red\">**This Notebook can be run from Google Colab:**</span>\n",
    "\n",
    "https://colab.research.google.com"
   ]
  },
  {
   "cell_type": "code",
   "execution_count": null,
   "metadata": {},
   "outputs": [],
   "source": [
    "import numpy as np\n",
    "import matplotlib.pyplot as plt\n",
    "%matplotlib inline\n",
    "import os\n",
    "import zipfile\n",
    "import shutil\n",
    "from google.colab import files\n",
    "import json\n",
    "import time\n",
    "import pandas as pd\n",
    "\n",
    "import keras\n",
    "from keras.models import Model, Sequential, load_model\n",
    "from keras.applications.resnet50 import ResNet50\n",
    "from keras.layers import Input, Dense, Activation, Dropout, BatchNormalization,\\\n",
    "                          Conv2D, MaxPooling2D, Flatten, AveragePooling2D,\\\n",
    "                          GlobalAveragePooling2D, ZeroPadding2D\n",
    "from keras.initializers import glorot_uniform\n",
    "from keras import regularizers\n",
    "from keras.preprocessing.image import ImageDataGenerator\n",
    "from keras.optimizers import RMSprop, Adam, Adamax, Nadam, SGD\n",
    "from keras.callbacks import EarlyStopping, ReduceLROnPlateau, ModelCheckpoint\n",
    "\n",
    "from sklearn.metrics import roc_auc_score, accuracy_score, confusion_matrix, \\\n",
    "                            classification_report\n",
    "\n",
    "# Import PyDrive and associated libraries (to connect with GoogleDrive)\n",
    "from pydrive.auth import GoogleAuth\n",
    "from pydrive.drive import GoogleDrive\n",
    "from google.colab import auth\n",
    "from oauth2client.client import GoogleCredentials\n",
    "\n",
    "# disable warnings\n",
    "import warnings\n",
    "warnings.simplefilter(\"ignore\")\n",
    "os.environ['TF_CPP_MIN_LOG_LEVEL'] = '3' "
   ]
  },
  {
   "cell_type": "markdown",
   "metadata": {
    "colab_type": "text",
    "id": "DItexGaqdfEA"
   },
   "source": [
    "### **Check if we are using GPU:**"
   ]
  },
  {
   "cell_type": "code",
   "execution_count": 91,
   "metadata": {
    "colab": {
     "base_uri": "https://localhost:8080/",
     "height": 35
    },
    "colab_type": "code",
    "id": "vn7AYx74dNq6",
    "outputId": "7a172a70-061a-4c1d-b341-4acaf8bf51c0"
   },
   "outputs": [
    {
     "name": "stdout",
     "output_type": "stream",
     "text": [
      "Using TensorFlow version: 1.15.0 , GPU: /device:GPU:0\n"
     ]
    }
   ],
   "source": [
    "from keras import backend as K\n",
    "if K.backend() == \"tensorflow\":\n",
    "    import tensorflow as tf\n",
    "    device_name = tf.test.gpu_device_name()\n",
    "    if device_name == '':\n",
    "        device_name = \"None\"\n",
    "    print('Using TensorFlow version:', tf.__version__, ', GPU:', device_name)"
   ]
  },
  {
   "cell_type": "markdown",
   "metadata": {
    "colab_type": "text",
    "id": "QQXfhMrHlqrz"
   },
   "source": [
    "### **Download Patches from GoogleDrive:**"
   ]
  },
  {
   "cell_type": "code",
   "execution_count": 92,
   "metadata": {
    "colab": {
     "base_uri": "https://localhost:8080/",
     "height": 74
    },
    "colab_type": "code",
    "id": "ACvUlEucnnY0",
    "outputId": "a8e974a9-b913-4037-f408-8c1fb971ef70"
   },
   "outputs": [
    {
     "name": "stdout",
     "output_type": "stream",
     "text": [
      "Downloaded content: \"Patches_new_128_s60_vs22_min1250_minval_1024_pos_only_no_border_nonNeg_rot_45_135_225_315.zip\"\n",
      "Root dir content: ['.config', 'Patches', 'gdrive', 'base_model_C4-7_C5_08223.h5', 'adc.json', 'Patches_new_128_s60_vs22_min1250_minval_1024_pos_only_no_border_nonNeg_rot_45_135_225_315.zip', 'base_model.h5', 'base_model_C4-7_C5_082875.h5', 'history_dict.json', 'sample_data']\n"
     ]
    }
   ],
   "source": [
    "# Authenticate and create the PyDrive client.\n",
    "auth.authenticate_user()\n",
    "gauth = GoogleAuth()\n",
    "gauth.credentials = GoogleCredentials.get_application_default()\n",
    "drive = GoogleDrive(gauth)\n",
    "\n",
    "file_id = '14JL8bMdA66NdcKxl9bnBsiKfyD_n6xfX' #NEW 128x128_s60_no border_minpospix_1250 minposval_1024 ROTATIONS_45,135,225,315\n",
    "\n",
    "downloaded = drive.CreateFile({'id': file_id})\n",
    "downloaded.GetContentFile(downloaded['title'])\n",
    "print('Downloaded content: \"{}\"'.format(downloaded['title']))\n",
    "print('Root dir content: {}'.format(os.listdir()))"
   ]
  },
  {
   "cell_type": "markdown",
   "metadata": {
    "colab_type": "text",
    "id": "HSdGQav-qEJM"
   },
   "source": [
    "### **Unzip the Patches:**"
   ]
  },
  {
   "cell_type": "code",
   "execution_count": 93,
   "metadata": {
    "colab": {
     "base_uri": "https://localhost:8080/",
     "height": 35
    },
    "colab_type": "code",
    "id": "jP1-2THkn47w",
    "outputId": "a852a79f-be07-4038-e749-3a0995694354"
   },
   "outputs": [
    {
     "name": "stdout",
     "output_type": "stream",
     "text": [
      "Root dir content: ['.config', 'Patches', 'gdrive', 'base_model_C4-7_C5_08223.h5', 'adc.json', 'base_model.h5', 'base_model_C4-7_C5_082875.h5', 'history_dict.json', 'sample_data']\n"
     ]
    }
   ],
   "source": [
    "# Remove 'Patches' dir if it already exists\n",
    "if 'Patches' in os.listdir():\n",
    "  shutil.rmtree('./Patches')\n",
    "with zipfile.ZipFile(downloaded['title'],\"r\") as zip:\n",
    "    zip.extractall()\n",
    "os.remove(downloaded['title'])\n",
    "print('Root dir content: {}'.format(os.listdir()))"
   ]
  },
  {
   "cell_type": "markdown",
   "metadata": {
    "colab_type": "text",
    "id": "nd7htfD3rJ6V"
   },
   "source": [
    "### **Let's count patches by type and class:**"
   ]
  },
  {
   "cell_type": "code",
   "execution_count": 94,
   "metadata": {
    "colab": {
     "base_uri": "https://localhost:8080/",
     "height": 654
    },
    "colab_type": "code",
    "id": "DjJy7FFsvm5H",
    "outputId": "44581e7a-1b91-45b1-b344-aeb51c28801a"
   },
   "outputs": [
    {
     "name": "stdout",
     "output_type": "stream",
     "text": [
      "\n",
      "Total 'Serial' Patches per location:\n",
      "total_C1: 2969 = 2969 positive + 0 negative\n",
      "total_C2-3: 5649 = 5649 positive + 0 negative\n",
      "total_C4-7: 12233 = 12233 positive + 0 negative\n",
      "total_C5: 6062 = 6062 positive + 0 negative\n",
      "total_C6: 3373 = 3373 positive + 0 negative\n",
      "total_C8: 4438 = 4438 positive + 0 negative\n",
      "total_C9: 2066 = 2066 positive + 0 negative\n",
      "total_C10: 7816 = 7816 positive + 0 negative\n",
      "Total Serial: 44606 = 44606 positive + 0 negative\n",
      "\n",
      "Total 'Control' Patches per location:\n",
      "total_C1: 364 = 364 positive + 0 negative\n",
      "total_C2-3: 364 = 364 positive + 0 negative\n",
      "total_C4-7: 364 = 364 positive + 0 negative\n",
      "total_C5: 364 = 364 positive + 0 negative\n",
      "total_C6: 364 = 364 positive + 0 negative\n",
      "total_C8: 364 = 364 positive + 0 negative\n",
      "total_C9: 364 = 364 positive + 0 negative\n",
      "total_C10: 364 = 364 positive + 0 negative\n",
      "Total Control: 2912 = 2912 positive + 0 negative\n",
      "\n",
      "Total 'Streak' Patches per location:\n",
      "total_C1: 0 = 0 positive + 0 negative\n",
      "total_C2-3: 0 = 0 positive + 0 negative\n",
      "total_C4-7: 0 = 0 positive + 0 negative\n",
      "total_C5: 0 = 0 positive + 0 negative\n",
      "total_C6: 0 = 0 positive + 0 negative\n",
      "total_C8: 0 = 0 positive + 0 negative\n",
      "total_C9: 0 = 0 positive + 0 negative\n",
      "total_C10: 0 = 0 positive + 0 negative\n",
      "Total Streak: 0 = 0 positive + 0 negative\n",
      "\n",
      "GRAND TOTAL: 47518 = 47518 positive + 0 negative\n"
     ]
    }
   ],
   "source": [
    "class_weights = {} # empty dictionary to store class weights\n",
    "classes = ['C1','C2-3','C4-7','C5','C6','C8','C9','C10']\n",
    "\n",
    "grand_total, pos_total, neg_total = 0, 0, 0\n",
    "for type in ['Serial', 'Control', 'Streak']:\n",
    "    print(\"\\nTotal '{}' Patches per location:\".format(type))\n",
    "    n_type, type_pos, type_neg = 0, 0, 0\n",
    "    class_weights[type] = {} # nested empty dictionary to store class weights\n",
    "    class_weights[type]['pos'] = {} # nested dictionary to store class weights\n",
    "    class_weights[type]['neg'] = {} # nested dictionary to store class weights\n",
    "    for cls in classes:\n",
    "        pos_folder = './Patches/Positive/{}/{}_pos'.format(type,cls)\n",
    "        neg_folder = './Patches/Negative/{}/{}_neg'.format(type,cls)\n",
    "        n_pos = len(os.listdir(pos_folder))\n",
    "        n_neg = len(os.listdir(neg_folder))\n",
    "        total = n_pos + n_neg\n",
    "        n_type += total\n",
    "        type_pos += n_pos\n",
    "        type_neg += n_neg\n",
    "        print('total_{}: {} = {} positive + {} negative'.format(cls,total,n_pos,n_neg))\n",
    "        class_weights[type]['pos']['{}'.format(cls)] = 1/n_pos if n_pos else 0\n",
    "        class_weights[type]['neg']['{}'.format(cls)] = 1/n_neg if n_neg else 0\n",
    "    print('Total {}: {} = {} positive + {} negative'.format(type,n_type,type_pos,type_neg))\n",
    "    for loc in class_weights[type]['pos'].keys():\n",
    "        class_weights[type]['pos'][loc] *= type_pos\n",
    "    for loc in class_weights[type]['neg'].keys():\n",
    "        class_weights[type]['neg'][loc] *= type_neg\n",
    "    grand_total += n_type\n",
    "    pos_total += type_pos\n",
    "    neg_total += type_neg\n",
    "print('\\nGRAND TOTAL: {} = {} positive + {} negative'.format(grand_total,pos_total,neg_total))"
   ]
  },
  {
   "cell_type": "markdown",
   "metadata": {
    "colab_type": "text",
    "id": "TLfSmpKFPLFu"
   },
   "source": [
    "### **Let's downsample training ('Serial') classes to no more than the minimum between 'C4-7' and 'C5':**"
   ]
  },
  {
   "cell_type": "code",
   "execution_count": 95,
   "metadata": {
    "colab": {
     "base_uri": "https://localhost:8080/",
     "height": 417
    },
    "colab_type": "code",
    "id": "IPt4zNrWPJed",
    "outputId": "34cd4b68-797e-4aeb-92e0-05cc37528290"
   },
   "outputs": [
    {
     "name": "stdout",
     "output_type": "stream",
     "text": [
      "Before downsampling training patches:\n",
      "total_C1: 2969 = 2969 positive + 0 negative\n",
      "total_C2-3: 5649 = 5649 positive + 0 negative\n",
      "total_C4-7: 12233 = 12233 positive + 0 negative\n",
      "total_C5: 6062 = 6062 positive + 0 negative\n",
      "total_C6: 3373 = 3373 positive + 0 negative\n",
      "total_C8: 4438 = 4438 positive + 0 negative\n",
      "total_C9: 2066 = 2066 positive + 0 negative\n",
      "total_C10: 7816 = 7816 positive + 0 negative\n",
      "Total Serial: 44606 = 44606 positive + 0 negative\n",
      "\n",
      "After downsampling validation patches:\n",
      "total_C1: 2969 = 2969 positive + 0 negative\n",
      "total_C2-3: 5649 = 5649 positive + 0 negative\n",
      "total_C4-7: 6062 = 6062 positive + 0 negative\n",
      "total_C5: 6062 = 6062 positive + 0 negative\n",
      "total_C6: 3373 = 3373 positive + 0 negative\n",
      "total_C8: 4438 = 4438 positive + 0 negative\n",
      "total_C9: 2066 = 2066 positive + 0 negative\n",
      "total_C10: 6062 = 6062 positive + 0 negative\n",
      "Total Serial: 36681 = 36681 positive + 0 negative\n",
      "\n"
     ]
    }
   ],
   "source": [
    "train_type = 'Serial'\n",
    "print('Before downsampling training patches:')\n",
    "totals = {}\n",
    "n_type, type_pos, type_neg = 0, 0, 0\n",
    "for cls in classes:\n",
    "    pos_folder = './Patches/Positive/{}/{}_pos'.format(train_type,cls)\n",
    "    neg_folder = './Patches/Negative/{}/{}_neg'.format(train_type,cls)\n",
    "    n_pos = len(os.listdir(pos_folder))\n",
    "    n_neg = len(os.listdir(neg_folder))\n",
    "    total = n_pos + n_neg\n",
    "    n_type += total\n",
    "    type_pos += n_pos\n",
    "    type_neg += n_neg\n",
    "    print('total_{}: {} = {} positive + {} negative'.format(cls,total,n_pos,n_neg))\n",
    "    totals['{}'.format(cls)] = n_pos if n_pos else 0\n",
    "print('Total {}: {} = {} positive + {} negative\\n'.format(train_type,n_type,type_pos,type_neg))\n",
    "\n",
    "if totals['C4-7'] < totals['C5']:\n",
    "    minority = 'C4-7'\n",
    "else:\n",
    "    minority = 'C5'\n",
    "n_min = totals[minority]\n",
    "for key, value in totals.items():\n",
    "    #if key != minority and key not in ['C4-7','C5']:\n",
    "    if key != minority:\n",
    "        n_to_delete = max(value-n_min, 0)\n",
    "        root = './Patches/Positive/{}/{}_pos/'.format(train_type,key)\n",
    "        patches = os.listdir(root)\n",
    "        patches_to_delete = np.random.choice(patches, n_to_delete, replace=False)\n",
    "        for patch in patches_to_delete:\n",
    "            pass\n",
    "            os.remove(root + patch)\n",
    "\n",
    "print('After downsampling validation patches:')\n",
    "totals = {}\n",
    "n_type, type_pos, type_neg = 0, 0, 0\n",
    "for cls in classes:\n",
    "    pos_folder = './Patches/Positive/{}/{}_pos'.format(train_type,cls)\n",
    "    neg_folder = './Patches/Negative/{}/{}_neg'.format(train_type,cls)\n",
    "    n_pos = len(os.listdir(pos_folder))\n",
    "    n_neg = len(os.listdir(neg_folder))\n",
    "    total = n_pos + n_neg\n",
    "    n_type += total\n",
    "    type_pos += n_pos\n",
    "    type_neg += n_neg\n",
    "    print('total_{}: {} = {} positive + {} negative'.format(cls,total,n_pos,n_neg))\n",
    "    totals['{}'.format(cls)] = n_pos if n_pos else 0\n",
    "print('Total {}: {} = {} positive + {} negative\\n'.format(train_type,n_type,type_pos,type_neg))"
   ]
  },
  {
   "cell_type": "markdown",
   "metadata": {
    "colab_type": "text",
    "id": "e8a8ZcfKKvw5"
   },
   "source": [
    "### **Let's move all patches for classes other than 'C4-7' or 'C5', to a single folder called 'all_other':**"
   ]
  },
  {
   "cell_type": "code",
   "execution_count": 0,
   "metadata": {
    "colab": {},
    "colab_type": "code",
    "id": "Dz9V2uuxLM50"
   },
   "outputs": [],
   "source": [
    "for patch_type in ['Positive','Negative']:\n",
    "    if patch_type == 'Positive': sufix = '_pos'\n",
    "    if patch_type == 'Negative': sufix = '_neg'\n",
    "    for type_ in ['Serial', 'Control', 'Streak']:\n",
    "        folder = './Patches/{}/{}/'.format(patch_type,type_)\n",
    "        if 'all_other' + sufix not in os.listdir(folder):\n",
    "            dest = folder + 'all_other' + sufix\n",
    "            os.mkdir(dest)\n",
    "\n",
    "        for cls in classes:\n",
    "            if cls in ['C4-7','C5']: continue\n",
    "            cls_folder = folder + cls + sufix\n",
    "            for patch in os.listdir(cls_folder):\n",
    "                source = cls_folder + '/' + patch\n",
    "                shutil.move(source, dest)\n",
    "            shutil.rmtree(cls_folder)"
   ]
  },
  {
   "cell_type": "markdown",
   "metadata": {
    "colab_type": "text",
    "id": "1sPAFxK7REM7"
   },
   "source": [
    "### **Let's count patches by type and class again:**"
   ]
  },
  {
   "cell_type": "code",
   "execution_count": 97,
   "metadata": {
    "colab": {
     "base_uri": "https://localhost:8080/",
     "height": 381
    },
    "colab_type": "code",
    "id": "WmKlpYPZRE-_",
    "outputId": "772fbdcf-75c7-4e59-9622-ba58b2e6e1b1"
   },
   "outputs": [
    {
     "name": "stdout",
     "output_type": "stream",
     "text": [
      "\n",
      "Total 'Serial' Patches per location:\n",
      "total_C4-7: 6062 = 6062 positive + 0 negative\n",
      "total_C5: 6062 = 6062 positive + 0 negative\n",
      "total_all_other: 24557 = 24557 positive + 0 negative\n",
      "Total Serial: 36681 = 36681 positive + 0 negative\n",
      "\n",
      "Total 'Control' Patches per location:\n",
      "total_C4-7: 364 = 364 positive + 0 negative\n",
      "total_C5: 364 = 364 positive + 0 negative\n",
      "total_all_other: 2184 = 2184 positive + 0 negative\n",
      "Total Control: 2912 = 2912 positive + 0 negative\n",
      "\n",
      "Total 'Streak' Patches per location:\n",
      "total_C4-7: 0 = 0 positive + 0 negative\n",
      "total_C5: 0 = 0 positive + 0 negative\n",
      "total_all_other: 0 = 0 positive + 0 negative\n",
      "Total Streak: 0 = 0 positive + 0 negative\n",
      "\n",
      "GRAND TOTAL: 39593 = 39593 positive + 0 negative\n"
     ]
    }
   ],
   "source": [
    "class_weights = {} # empty dictionary to store class weights\n",
    "classes = ['C4-7','C5','all_other']\n",
    "grand_total, pos_total, neg_total = 0, 0, 0\n",
    "\n",
    "for type in ['Serial', 'Control', 'Streak']:\n",
    "    print(\"\\nTotal '{}' Patches per location:\".format(type))\n",
    "    n_type, type_pos, type_neg = 0, 0, 0\n",
    "    class_weights[type] = {} # nested empty dictionary to store class weights\n",
    "    class_weights[type]['pos'] = {} # nested dictionary to store class weights\n",
    "    class_weights[type]['neg'] = {} # nested dictionary to store class weights\n",
    "    for cls in classes:\n",
    "        pos_folder = './Patches/Positive/{}/{}_pos'.format(type,cls)\n",
    "        neg_folder = './Patches/Negative/{}/{}_neg'.format(type,cls)\n",
    "        n_pos = len(os.listdir(pos_folder))\n",
    "        n_neg = len(os.listdir(neg_folder))\n",
    "        total = n_pos + n_neg\n",
    "        n_type += total\n",
    "        type_pos += n_pos\n",
    "        type_neg += n_neg\n",
    "        print('total_{}: {} = {} positive + {} negative'.format(cls,total,n_pos,n_neg))\n",
    "        class_weights[type]['pos']['{}'.format(cls)] = 1/n_pos if n_pos else 0\n",
    "        class_weights[type]['neg']['{}'.format(cls)] = 1/n_neg if n_neg else 0\n",
    "    print('Total {}: {} = {} positive + {} negative'.format(type,n_type,type_pos,type_neg))\n",
    "    for loc in class_weights[type]['pos'].keys():\n",
    "        class_weights[type]['pos'][loc] *= type_pos\n",
    "    for loc in class_weights[type]['neg'].keys():\n",
    "        class_weights[type]['neg'][loc] *= type_neg\n",
    "    grand_total += n_type\n",
    "    pos_total += type_pos\n",
    "    neg_total += type_neg\n",
    "print('\\nGRAND TOTAL: {} = {} positive + {} negative'.format(grand_total,pos_total,neg_total))"
   ]
  },
  {
   "cell_type": "markdown",
   "metadata": {
    "colab_type": "text",
    "id": "Vb9BMr39R9LH"
   },
   "source": [
    "### **Since we want to focus on 'C4-7' and 'C5', let's downsample again:**"
   ]
  },
  {
   "cell_type": "code",
   "execution_count": 98,
   "metadata": {
    "colab": {
     "base_uri": "https://localhost:8080/",
     "height": 235
    },
    "colab_type": "code",
    "id": "31ZsitULR-Ap",
    "outputId": "c050dcce-fca0-404b-f892-385b4a820cc3"
   },
   "outputs": [
    {
     "name": "stdout",
     "output_type": "stream",
     "text": [
      "Before downsampling training patches:\n",
      "total_C4-7: 6062 = 6062 positive + 0 negative\n",
      "total_C5: 6062 = 6062 positive + 0 negative\n",
      "total_all_other: 24557 = 24557 positive + 0 negative\n",
      "Total Serial: 36681 = 36681 positive + 0 negative\n",
      "\n",
      "After downsampling validation patches:\n",
      "total_C4-7: 6062 = 6062 positive + 0 negative\n",
      "total_C5: 6062 = 6062 positive + 0 negative\n",
      "total_all_other: 6062 = 6062 positive + 0 negative\n",
      "Total Serial: 18186 = 18186 positive + 0 negative\n",
      "\n"
     ]
    }
   ],
   "source": [
    "train_type = 'Serial'\n",
    "print('Before downsampling training patches:')\n",
    "totals = {}\n",
    "n_type, type_pos, type_neg = 0, 0, 0\n",
    "for cls in classes:\n",
    "    pos_folder = './Patches/Positive/{}/{}_pos'.format(train_type,cls)\n",
    "    neg_folder = './Patches/Negative/{}/{}_neg'.format(train_type,cls)\n",
    "    n_pos = len(os.listdir(pos_folder))\n",
    "    n_neg = len(os.listdir(neg_folder))\n",
    "    total = n_pos + n_neg\n",
    "    n_type += total\n",
    "    type_pos += n_pos\n",
    "    type_neg += n_neg\n",
    "    print('total_{}: {} = {} positive + {} negative'.format(cls,total,n_pos,n_neg))\n",
    "    totals['{}'.format(cls)] = n_pos if n_pos else 0\n",
    "print('Total {}: {} = {} positive + {} negative\\n'.format(train_type,n_type,type_pos,type_neg))\n",
    "\n",
    "minority = min(totals, key=totals.get)\n",
    "n_min = totals[minority]\n",
    "for key, value in totals.items():\n",
    "    if key != minority and key not in ['C4-7','C5']:\n",
    "        n_to_delete = value - n_min\n",
    "        root = './Patches/Positive/{}/{}_pos/'.format(train_type,key)\n",
    "        patches = os.listdir(root)\n",
    "        patches_to_delete = np.random.choice(patches, n_to_delete, replace=False)\n",
    "        for patch in patches_to_delete:\n",
    "            pass\n",
    "            os.remove(root + patch)\n",
    "\n",
    "print('After downsampling validation patches:')\n",
    "totals = {}\n",
    "n_type, type_pos, type_neg = 0, 0, 0\n",
    "for cls in classes:\n",
    "    pos_folder = './Patches/Positive/{}/{}_pos'.format(train_type,cls)\n",
    "    neg_folder = './Patches/Negative/{}/{}_neg'.format(train_type,cls)\n",
    "    n_pos = len(os.listdir(pos_folder))\n",
    "    n_neg = len(os.listdir(neg_folder))\n",
    "    total = n_pos + n_neg\n",
    "    n_type += total\n",
    "    type_pos += n_pos\n",
    "    type_neg += n_neg\n",
    "    print('total_{}: {} = {} positive + {} negative'.format(cls,total,n_pos,n_neg))\n",
    "    class_weights[train_type]['pos']['{}'.format(cls)] = 1/n_pos if n_pos else 0\n",
    "    totals['{}'.format(cls)] = n_pos if n_pos else 0\n",
    "print('Total {}: {} = {} positive + {} negative\\n'.format(train_type,n_type,type_pos,type_neg))\n",
    "for loc in class_weights[train_type]['pos'].keys():\n",
    "    class_weights[train_type]['pos'][loc] *= type_pos"
   ]
  },
  {
   "cell_type": "markdown",
   "metadata": {
    "colab_type": "text",
    "id": "_pnI1G0ywLOp"
   },
   "source": [
    "#### **Since we still have slightly imbalanced training data, we have set different class weights to give more importance to the minority classes:**"
   ]
  },
  {
   "cell_type": "code",
   "execution_count": 99,
   "metadata": {
    "colab": {
     "base_uri": "https://localhost:8080/",
     "height": 235
    },
    "colab_type": "code",
    "id": "zCcbwQX7mKQq",
    "outputId": "baeefd01-4208-46bf-d728-ca0214eea6fe"
   },
   "outputs": [
    {
     "name": "stdout",
     "output_type": "stream",
     "text": [
      "Class Weights: {\n",
      "  \"pos\": {\n",
      "    \"C4-7\": 3.0,\n",
      "    \"C5\": 3.0,\n",
      "    \"all_other\": 3.0\n",
      "  },\n",
      "  \"neg\": {\n",
      "    \"C4-7\": 0,\n",
      "    \"C5\": 0,\n",
      "    \"all_other\": 0\n",
      "  }\n",
      "}\n"
     ]
    }
   ],
   "source": [
    "print('Class Weights:', str(json.dumps(class_weights['Serial'], indent=2, default=str)))"
   ]
  },
  {
   "cell_type": "markdown",
   "metadata": {
    "colab_type": "text",
    "id": "i2gctgbsF-fF"
   },
   "source": [
    "### **Let's downsample positive majority classes in validation ('Control')patches**"
   ]
  },
  {
   "cell_type": "code",
   "execution_count": 100,
   "metadata": {
    "colab": {
     "base_uri": "https://localhost:8080/",
     "height": 235
    },
    "colab_type": "code",
    "id": "tJETu-bSF_R8",
    "outputId": "e3bb2fd7-a101-4864-cc6e-13735996587f"
   },
   "outputs": [
    {
     "name": "stdout",
     "output_type": "stream",
     "text": [
      "Before downsampling validation patches:\n",
      "total_C4-7: 364 = 364 positive + 0 negative\n",
      "total_C5: 364 = 364 positive + 0 negative\n",
      "total_all_other: 2184 = 2184 positive + 0 negative\n",
      "Total Control: 2912 = 2912 positive + 0 negative\n",
      "\n",
      "After downsampling validation patches:\n",
      "total_C4-7: 364 = 364 positive + 0 negative\n",
      "total_C5: 364 = 364 positive + 0 negative\n",
      "total_all_other: 364 = 364 positive + 0 negative\n",
      "Total Control: 1092 = 1092 positive + 0 negative\n",
      "\n"
     ]
    }
   ],
   "source": [
    "val_type = 'Control'\n",
    "print('Before downsampling validation patches:')\n",
    "totals = {}\n",
    "n_type, type_pos, type_neg = 0, 0, 0\n",
    "for cls in classes:\n",
    "    pos_folder = './Patches/Positive/{}/{}_pos'.format(val_type,cls)\n",
    "    neg_folder = './Patches/Negative/{}/{}_neg'.format(val_type,cls)\n",
    "    n_pos = len(os.listdir(pos_folder))\n",
    "    n_neg = len(os.listdir(neg_folder))\n",
    "    total = n_pos + n_neg\n",
    "    n_type += total\n",
    "    type_pos += n_pos\n",
    "    type_neg += n_neg\n",
    "    print('total_{}: {} = {} positive + {} negative'.format(cls,total,n_pos,n_neg))\n",
    "    totals['{}'.format(cls)] = n_pos if n_pos else 0\n",
    "print('Total {}: {} = {} positive + {} negative\\n'.format(val_type,n_type,type_pos,type_neg))\n",
    "\n",
    "minority = min(totals, key=totals.get)\n",
    "n_min = totals[minority]\n",
    "for key, value in totals.items():\n",
    "    if key != minority:\n",
    "        n_to_delete = value - n_min\n",
    "        root = './Patches/Positive/{}/{}_pos/'.format(val_type,key)\n",
    "        patches = os.listdir(root)\n",
    "        patches_to_delete = np.random.choice(patches, n_to_delete, replace=False)\n",
    "        for patch in patches_to_delete:\n",
    "            os.remove(root + patch)\n",
    "\n",
    "print('After downsampling validation patches:')\n",
    "totals = {}\n",
    "n_type, type_pos, type_neg = 0, 0, 0\n",
    "for cls in classes:\n",
    "    pos_folder = './Patches/Positive/{}/{}_pos'.format(val_type,cls)\n",
    "    neg_folder = './Patches/Negative/{}/{}_neg'.format(val_type,cls)\n",
    "    n_pos = len(os.listdir(pos_folder))\n",
    "    n_neg = len(os.listdir(neg_folder))\n",
    "    total = n_pos + n_neg\n",
    "    n_type += total\n",
    "    type_pos += n_pos\n",
    "    type_neg += n_neg\n",
    "    print('total_{}: {} = {} positive + {} negative'.format(cls,total,n_pos,n_neg))\n",
    "    totals['{}'.format(cls)] = n_pos if n_pos else 0\n",
    "print('Total {}: {} = {} positive + {} negative\\n'.format(val_type,n_type,type_pos,type_neg))"
   ]
  },
  {
   "cell_type": "markdown",
   "metadata": {
    "colab_type": "text",
    "id": "GNJ7lSKQpdOT"
   },
   "source": [
    "#### **Let's build image generators, using keras.preprocessing.image.ImageDataGenerator, rescaling image pixel values from [0,  255] to [0, 1]:**"
   ]
  },
  {
   "cell_type": "code",
   "execution_count": 101,
   "metadata": {
    "colab": {
     "base_uri": "https://localhost:8080/",
     "height": 108
    },
    "colab_type": "code",
    "id": "UANfdA6IUFKt",
    "outputId": "0d68afe4-2d71-40cd-b151-830f9548ef5b"
   },
   "outputs": [
    {
     "name": "stdout",
     "output_type": "stream",
     "text": [
      "For training:\n",
      "Found 18186 images belonging to 3 classes.\n",
      "\n",
      "For validation:\n",
      "Found 1092 images belonging to 3 classes.\n"
     ]
    }
   ],
   "source": [
    "c1_pos_folder = './Patches/Positive/Serial/C5_pos'\n",
    "img = plt.imread(c1_pos_folder + '/' + os.listdir(c1_pos_folder)[:5][0])\n",
    "img_size = img.shape\n",
    "train_batch_size = 32\n",
    "val_batch_size = 64\n",
    "\n",
    "datagen = ImageDataGenerator(rescale=1./255)\n",
    "val_datagen = ImageDataGenerator(rescale=1./255)\n",
    "\n",
    "print(\"For training:\")\n",
    "train_generator = datagen.flow_from_directory(\n",
    "        './Patches/Positive/Serial',\n",
    "        target_size=(img_size[0],img_size[1]),\n",
    "        batch_size=train_batch_size,\n",
    "        class_mode='categorical',\n",
    "        shuffle=True)\n",
    "\n",
    "print(\"\\nFor validation:\")\n",
    "val_generator = val_datagen.flow_from_directory(\n",
    "        './Patches/Positive/Control',\n",
    "        target_size=(img_size[0],img_size[1]),\n",
    "        batch_size=val_batch_size,\n",
    "        class_mode='categorical',\n",
    "        shuffle=False)"
   ]
  },
  {
   "cell_type": "markdown",
   "metadata": {
    "colab_type": "text",
    "id": "44ZzUGXvwqUn"
   },
   "source": [
    "#### **Let's check what is the training generator's index for each class, so we can correclty set up the class weights:**"
   ]
  },
  {
   "cell_type": "code",
   "execution_count": 102,
   "metadata": {
    "colab": {
     "base_uri": "https://localhost:8080/",
     "height": 108
    },
    "colab_type": "code",
    "id": "tSHQNC2awn84",
    "outputId": "323511d0-a6f4-43ab-d6e2-95b2c8c08bf0"
   },
   "outputs": [
    {
     "name": "stdout",
     "output_type": "stream",
     "text": [
      "train_generator.class_indices: {\n",
      "  \"C4-7_pos\": 0,\n",
      "  \"C5_pos\": 1,\n",
      "  \"all_other_pos\": 2\n",
      "}\n"
     ]
    }
   ],
   "source": [
    "print('train_generator.class_indices:', str(json.dumps(train_generator.class_indices, indent=2, default=str)))"
   ]
  },
  {
   "cell_type": "markdown",
   "metadata": {
    "colab_type": "text",
    "id": "o30MT4e2O7gk"
   },
   "source": [
    "#### **Let's set up the class weights in correct order:**"
   ]
  },
  {
   "cell_type": "code",
   "execution_count": 103,
   "metadata": {
    "colab": {
     "base_uri": "https://localhost:8080/",
     "height": 235
    },
    "colab_type": "code",
    "id": "U2gsR9n6w2vm",
    "outputId": "280c97ff-8b0e-4e9a-af01-4fd76df3bce9"
   },
   "outputs": [
    {
     "name": "stdout",
     "output_type": "stream",
     "text": [
      "original class weights dictionary:\n",
      "{\n",
      "  \"C4-7\": 3.0,\n",
      "  \"C5\": 3.0,\n",
      "  \"all_other\": 3.0\n",
      "}\n",
      "class weights for generator, re-arranging indexes:\n",
      "[\n",
      "  3.0,\n",
      "  3.0,\n",
      "  3.0\n",
      "]\n"
     ]
    }
   ],
   "source": [
    "serial_pos_weights = []\n",
    "for cls in classes:\n",
    "    serial_pos_weights.append(class_weights['Serial']['pos']['{}'.format(cls)])\n",
    "print('original class weights dictionary:')\n",
    "print(str(json.dumps(class_weights['Serial']['pos'], indent=2, default=str)))\n",
    "print('class weights for generator, re-arranging indexes:')\n",
    "print(str(json.dumps(serial_pos_weights, indent=2, default=str)))"
   ]
  },
  {
   "cell_type": "markdown",
   "metadata": {
    "colab_type": "text",
    "id": "gdXBPBsVxA39"
   },
   "source": [
    "## **Let's build our Base Model. We will use Resnet:**"
   ]
  },
  {
   "cell_type": "markdown",
   "metadata": {
    "colab_type": "text",
    "id": "AjNmNKdHw4tM"
   },
   "source": [
    "#### **First. let's create a function to build a residual block.**\n",
    "\n",
    "#### We will use the residual block proposed in  [ResNetV2](https://arxiv.org/pdf/1603.05027.pdf) and will implement it by ourselves:\n",
    "\n",
    "\n",
    ">![Google's logo](https://camo.githubusercontent.com/7ae470c333cd76078e1c669055ad98bcedaf523f/68747470733a2f2f71696974612d696d6167652d73746f72652e73332e616d617a6f6e6177732e636f6d2f302f3130303532332f61313536613563322d303236622d646535352d613666622d6534666131373732623432632e706e67)"
   ]
  },
  {
   "cell_type": "code",
   "execution_count": 0,
   "metadata": {
    "colab": {},
    "colab_type": "code",
    "id": "e-DqZH20w3ji"
   },
   "outputs": [],
   "source": [
    "def res_block(X, filters, kernel_size=(3,3), l2_reg=1e-6, residual=True,\n",
    "              first=False, subsampling=False):\n",
    "    \"\"\"\n",
    "    Function to build a residual block as proposed in ResNetV2:\n",
    "             https://arxiv.org/pdf/1603.05027.pdf:\n",
    "    :param X: The input to the residual block\n",
    "    :param filters: Integer. Number of filters / channels in the output\n",
    "    :param kernel_size: Tuple (Int, Int). kernel size for convolution operations\n",
    "    :param l2_reg: Float. L2 norm for L2 regularization\n",
    "    :param residual: Boolean. True if residual block. Otherwise 'plain' block.\n",
    "    :param first: Boolean. True if first residual block -> ZeroPad and Maxpool.\n",
    "    :param subsampling: Boolean. True if subsampling within the residual block.\n",
    "    :return: the addition output from the residual block proposed in ResNetV2:\n",
    "              https://arxiv.org/pdf/1603.05027.pdf\n",
    "    \"\"\"\n",
    "    bn = BatchNormalization()(X)\n",
    "    relu = Activation(\"relu\")(bn)\n",
    "    \n",
    "    if first: #The first layer is subsampled with Maxpool\n",
    "      pad = ZeroPadding2D(padding=(1, 1))(relu)\n",
    "      relu = MaxPooling2D(pool_size=(3, 3), strides=(2,2))(pad)    \n",
    "    \n",
    "    if subsampling: #Resnet reduces size just by using stride=2 instead of pool\n",
    "      #Here we will reduce the size (subsample) by using stride 2 \n",
    "      conv_1 = Conv2D(filters, kernel_size, strides=(2,2), padding='same',\n",
    "                         kernel_regularizer=regularizers.l2(l2_reg),\n",
    "                         kernel_initializer = glorot_uniform(0),\n",
    "                         bias_initializer = glorot_uniform(0))(relu)\n",
    "      if residual:\n",
    "        #To be able to add, we also need to reduce size of input\n",
    "        #For this, we will just use a 1x1 Conv2D with stride 2  \n",
    "        res = Conv2D(filters, kernel_size=[1,1], strides=(2,2),\n",
    "                     padding='same')(X)\n",
    "    else: #No subsampling, same size as input\n",
    "      conv_1 = Conv2D(filters, kernel_size, strides=(1,1), padding='same',\n",
    "                   kernel_regularizer=regularizers.l2(l2_reg),\n",
    "                   kernel_initializer = glorot_uniform(0),\n",
    "                   bias_initializer = glorot_uniform(0))(relu)\n",
    "      if residual:\n",
    "        if first: #The first layer is subsampled with Maxpool so, resize X\n",
    "          #For this, we will just use a 1x1 Conv2D with stride 2\n",
    "          res = Conv2D(filters, kernel_size=[1,1], strides=(2,2),\n",
    "                     padding='same')(X)\n",
    "        else:\n",
    "          res = X\n",
    "    bn = BatchNormalization()(conv_1)\n",
    "    relu = Activation(\"relu\")(bn)\n",
    "\n",
    "    conv_2 = Conv2D(filters, kernel_size, padding='same',\n",
    "                       kernel_regularizer=regularizers.l2(l2_reg),\n",
    "                       kernel_initializer = glorot_uniform(0),\n",
    "                       bias_initializer = glorot_uniform(0))(relu)\n",
    "    if residual:\n",
    "      add = keras.layers.add([res, conv_2])\n",
    "      return add\n",
    "    else:\n",
    "      return conv_2"
   ]
  },
  {
   "cell_type": "markdown",
   "metadata": {
    "colab_type": "text",
    "id": "0K3-02NNUXOV"
   },
   "source": [
    "#### **Second, let's create a function to build a Resnet network:**"
   ]
  },
  {
   "cell_type": "code",
   "execution_count": 0,
   "metadata": {
    "colab": {},
    "colab_type": "code",
    "id": "32s7rai-609p"
   },
   "outputs": [],
   "source": [
    "#from keras.layers import AveragePooling2D, GlobalAveragePooling2D\n",
    "\n",
    "def make_resnet(img_size, n_classes, layers_per_group, n_filters, \n",
    "                    kernel_sizes, l2_reg=1e-6, optimizer=keras.optimizers.SGD,\n",
    "                    lr=1e-1, decay=1e-4, momentum=0.9, residual=True):\n",
    "  \n",
    "    \"\"\"\n",
    "    Function to build ResNet network, but with some user defined parameters.\n",
    "        \n",
    "        ResNet network input size is (224,224,3) then it starts with one \n",
    "        convolution layer, (7x7x64, stride 2) followed by maxpool (3x3, stride2) \n",
    "        then it will build 4 layer groups and the user will define the number of\n",
    "        residual layers per group.\n",
    "        \n",
    "        As example, ResNet34, after the first convolution layer, it has 4 groups\n",
    "        of layers with the following number of residual 'layers_per_group':\n",
    "        [6,8,12,6]\n",
    "        Because the residual connections are made between pair of layers, the\n",
    "        number of layers for each group must be a pair number.\n",
    "        \n",
    "        The user will also be able to define the number of filters and size of\n",
    "        each filter, independently for each group of layers. All layers in the\n",
    "        same group group will have the same number of filters and each filter\n",
    "        within the group will have the same size.\n",
    "        \n",
    "        Same as ResNet, an average pooling layer follows after the 4 groups\n",
    "        of layers.\n",
    "    \n",
    "    :param img_size: Size of input image, in the form: (size, size, #channels)\n",
    "    :param n_classes: Integer. Number of classes for classification.\n",
    "    :param layers_per_group: List with # of layers per group (e.g.[6,8,12,6])\n",
    "    :param n_filters: List of length 4, with number of filters for each group of\n",
    "                      layers.\n",
    "    :param kernel_sizes: List of length 4, with kernel sizes tuples for each \n",
    "                          group of layers\n",
    "    :param l2_reg: Float. L2 norm for L2 regularization\n",
    "    :param optimizer: A keras optimizer from keras.optimizers\n",
    "    :param lr: Float. learning rate for the optimizer.\n",
    "    :param decay: Float. learning rate decay for the optimizer.\n",
    "    :param momentum: Float. Momentum for SGD if optimizer=keras.optimizers.SGD\n",
    "    :param residual: Boolean. True if residual net. Otherwise 'plain' net.\n",
    "    :return: CNN with residual connections, similar to ResNet32\n",
    "    \"\"\"\n",
    "    \n",
    "    if len(layers_per_block) != len(n_filters) or len(layers_per_block) !=\\\n",
    "        len(kernel_sizes) or len(n_filters) != len(n_filters):\n",
    "        e = \"Length of 'layers_per_block', 'n_filters' and 'kernel_sizes'\" +\\\n",
    "        \" must be the same\"\n",
    "        raise Exception(e)  \n",
    "\n",
    "    for layers in layers_per_block:\n",
    "      if layers % 2 == 1:\n",
    "        e = \"Number of 'layers_per_block' must be even/pair numbers\"\n",
    "        raise Exception(e)\n",
    "      \n",
    "    inputs = Input(shape=img_size)\n",
    "    \n",
    "    n_filters_conv1 = 64\n",
    "    kernel_sizes_conv1 = (3,3) # kernel size for very first conv layer\n",
    "    strides_conv1 = (2,2)\n",
    "    \n",
    "    conv1 = Conv2D(n_filters_conv1, kernel_sizes_conv1, strides=strides_conv1,\n",
    "                   padding='same', kernel_regularizer=regularizers.l2(l2_reg),\n",
    "                   kernel_initializer = glorot_uniform(0),\n",
    "                   bias_initializer = glorot_uniform(0))(inputs)\n",
    "    \n",
    "    layer_count = 1 # counter for the number of layers\n",
    "    for i in range(len(layers_per_block)):\n",
    "      for j in range(int(layers_per_block[i]/2)):\n",
    "        if j == 0:\n",
    "          if i == 0:\n",
    "            add = res_block(conv1, n_filters[i], kernel_sizes[i], l2_reg,\n",
    "                            residual, first=True)\n",
    "            #add = res_block(conv0_1, n_filters[i], kernel_sizes[i], l2_reg,\n",
    "            #                residual, subsampling=True)\n",
    "          else:\n",
    "            add = res_block(add, n_filters[i], kernel_sizes[i], l2_reg,\n",
    "                            residual, subsampling=True)\n",
    "        else:\n",
    "          add = res_block(add, n_filters[i], kernel_sizes[i], l2_reg,\n",
    "                          residual)\n",
    "          \n",
    "    bn = BatchNormalization()(add)\n",
    "    relu = Activation(\"relu\")(bn)\n",
    "\n",
    "    flat = GlobalAveragePooling2D()(relu)\n",
    "\n",
    "    out = Dense(n_classes, activation='softmax',\n",
    "                      kernel_regularizer=regularizers.l2(l2_reg),\n",
    "                      kernel_initializer=glorot_uniform(0),\n",
    "                      bias_initializer=glorot_uniform(0))(flat)\n",
    "\n",
    "    res_cnn = Model(inputs=inputs, outputs=out)\n",
    "\n",
    "    if optimizer == keras.optimizers.Nadam:\n",
    "        res_cnn.compile(optimizer(lr=lr, schedule_decay=decay),\n",
    "                    \"categorical_crossentropy\", metrics=['accuracy'])\n",
    "    elif optimizer == keras.optimizers.SGD:\n",
    "        res_cnn.compile(optimizer(lr=lr, momentum=momentum, decay=decay),\n",
    "                        \"categorical_crossentropy\", metrics=['accuracy'])\n",
    "    else:\n",
    "        res_cnn.compile(optimizer(lr=lr, decay=decay),\n",
    "                        \"categorical_crossentropy\", metrics=['accuracy'])\n",
    "    return res_cnn"
   ]
  },
  {
   "cell_type": "markdown",
   "metadata": {
    "colab_type": "text",
    "id": "m21vIzndbOIZ"
   },
   "source": [
    "### **Let's build a ResNet18:**"
   ]
  },
  {
   "cell_type": "code",
   "execution_count": 106,
   "metadata": {
    "colab": {
     "base_uri": "https://localhost:8080/",
     "height": 1000
    },
    "colab_type": "code",
    "id": "rLvSCOTsAuKF",
    "outputId": "8c3c3a91-6634-4234-8099-46432a13cbbb"
   },
   "outputs": [
    {
     "name": "stdout",
     "output_type": "stream",
     "text": [
      "Model: \"model_4\"\n",
      "__________________________________________________________________________________________________\n",
      "Layer (type)                    Output Shape         Param #     Connected to                     \n",
      "==================================================================================================\n",
      "input_4 (InputLayer)            (None, 128, 128, 3)  0                                            \n",
      "__________________________________________________________________________________________________\n",
      "conv2d_64 (Conv2D)              (None, 64, 64, 64)   1792        input_4[0][0]                    \n",
      "__________________________________________________________________________________________________\n",
      "batch_normalization_52 (BatchNo (None, 64, 64, 64)   256         conv2d_64[0][0]                  \n",
      "__________________________________________________________________________________________________\n",
      "activation_52 (Activation)      (None, 64, 64, 64)   0           batch_normalization_52[0][0]     \n",
      "__________________________________________________________________________________________________\n",
      "zero_padding2d_4 (ZeroPadding2D (None, 66, 66, 64)   0           activation_52[0][0]              \n",
      "__________________________________________________________________________________________________\n",
      "max_pooling2d_4 (MaxPooling2D)  (None, 32, 32, 64)   0           zero_padding2d_4[0][0]           \n",
      "__________________________________________________________________________________________________\n",
      "conv2d_65 (Conv2D)              (None, 32, 32, 64)   36928       max_pooling2d_4[0][0]            \n",
      "__________________________________________________________________________________________________\n",
      "batch_normalization_53 (BatchNo (None, 32, 32, 64)   256         conv2d_65[0][0]                  \n",
      "__________________________________________________________________________________________________\n",
      "activation_53 (Activation)      (None, 32, 32, 64)   0           batch_normalization_53[0][0]     \n",
      "__________________________________________________________________________________________________\n",
      "conv2d_66 (Conv2D)              (None, 32, 32, 64)   4160        conv2d_64[0][0]                  \n",
      "__________________________________________________________________________________________________\n",
      "conv2d_67 (Conv2D)              (None, 32, 32, 64)   36928       activation_53[0][0]              \n",
      "__________________________________________________________________________________________________\n",
      "add_25 (Add)                    (None, 32, 32, 64)   0           conv2d_66[0][0]                  \n",
      "                                                                 conv2d_67[0][0]                  \n",
      "__________________________________________________________________________________________________\n",
      "batch_normalization_54 (BatchNo (None, 32, 32, 64)   256         add_25[0][0]                     \n",
      "__________________________________________________________________________________________________\n",
      "activation_54 (Activation)      (None, 32, 32, 64)   0           batch_normalization_54[0][0]     \n",
      "__________________________________________________________________________________________________\n",
      "conv2d_68 (Conv2D)              (None, 32, 32, 64)   36928       activation_54[0][0]              \n",
      "__________________________________________________________________________________________________\n",
      "batch_normalization_55 (BatchNo (None, 32, 32, 64)   256         conv2d_68[0][0]                  \n",
      "__________________________________________________________________________________________________\n",
      "activation_55 (Activation)      (None, 32, 32, 64)   0           batch_normalization_55[0][0]     \n",
      "__________________________________________________________________________________________________\n",
      "conv2d_69 (Conv2D)              (None, 32, 32, 64)   36928       activation_55[0][0]              \n",
      "__________________________________________________________________________________________________\n",
      "add_26 (Add)                    (None, 32, 32, 64)   0           add_25[0][0]                     \n",
      "                                                                 conv2d_69[0][0]                  \n",
      "__________________________________________________________________________________________________\n",
      "batch_normalization_56 (BatchNo (None, 32, 32, 64)   256         add_26[0][0]                     \n",
      "__________________________________________________________________________________________________\n",
      "activation_56 (Activation)      (None, 32, 32, 64)   0           batch_normalization_56[0][0]     \n",
      "__________________________________________________________________________________________________\n",
      "conv2d_70 (Conv2D)              (None, 16, 16, 128)  73856       activation_56[0][0]              \n",
      "__________________________________________________________________________________________________\n",
      "batch_normalization_57 (BatchNo (None, 16, 16, 128)  512         conv2d_70[0][0]                  \n",
      "__________________________________________________________________________________________________\n",
      "activation_57 (Activation)      (None, 16, 16, 128)  0           batch_normalization_57[0][0]     \n",
      "__________________________________________________________________________________________________\n",
      "conv2d_71 (Conv2D)              (None, 16, 16, 128)  8320        add_26[0][0]                     \n",
      "__________________________________________________________________________________________________\n",
      "conv2d_72 (Conv2D)              (None, 16, 16, 128)  147584      activation_57[0][0]              \n",
      "__________________________________________________________________________________________________\n",
      "add_27 (Add)                    (None, 16, 16, 128)  0           conv2d_71[0][0]                  \n",
      "                                                                 conv2d_72[0][0]                  \n",
      "__________________________________________________________________________________________________\n",
      "batch_normalization_58 (BatchNo (None, 16, 16, 128)  512         add_27[0][0]                     \n",
      "__________________________________________________________________________________________________\n",
      "activation_58 (Activation)      (None, 16, 16, 128)  0           batch_normalization_58[0][0]     \n",
      "__________________________________________________________________________________________________\n",
      "conv2d_73 (Conv2D)              (None, 16, 16, 128)  147584      activation_58[0][0]              \n",
      "__________________________________________________________________________________________________\n",
      "batch_normalization_59 (BatchNo (None, 16, 16, 128)  512         conv2d_73[0][0]                  \n",
      "__________________________________________________________________________________________________\n",
      "activation_59 (Activation)      (None, 16, 16, 128)  0           batch_normalization_59[0][0]     \n",
      "__________________________________________________________________________________________________\n",
      "conv2d_74 (Conv2D)              (None, 16, 16, 128)  147584      activation_59[0][0]              \n",
      "__________________________________________________________________________________________________\n",
      "add_28 (Add)                    (None, 16, 16, 128)  0           add_27[0][0]                     \n",
      "                                                                 conv2d_74[0][0]                  \n",
      "__________________________________________________________________________________________________\n",
      "batch_normalization_60 (BatchNo (None, 16, 16, 128)  512         add_28[0][0]                     \n",
      "__________________________________________________________________________________________________\n",
      "activation_60 (Activation)      (None, 16, 16, 128)  0           batch_normalization_60[0][0]     \n",
      "__________________________________________________________________________________________________\n",
      "conv2d_75 (Conv2D)              (None, 8, 8, 256)    295168      activation_60[0][0]              \n",
      "__________________________________________________________________________________________________\n",
      "batch_normalization_61 (BatchNo (None, 8, 8, 256)    1024        conv2d_75[0][0]                  \n",
      "__________________________________________________________________________________________________\n",
      "activation_61 (Activation)      (None, 8, 8, 256)    0           batch_normalization_61[0][0]     \n",
      "__________________________________________________________________________________________________\n",
      "conv2d_76 (Conv2D)              (None, 8, 8, 256)    33024       add_28[0][0]                     \n",
      "__________________________________________________________________________________________________\n",
      "conv2d_77 (Conv2D)              (None, 8, 8, 256)    590080      activation_61[0][0]              \n",
      "__________________________________________________________________________________________________\n",
      "add_29 (Add)                    (None, 8, 8, 256)    0           conv2d_76[0][0]                  \n",
      "                                                                 conv2d_77[0][0]                  \n",
      "__________________________________________________________________________________________________\n",
      "batch_normalization_62 (BatchNo (None, 8, 8, 256)    1024        add_29[0][0]                     \n",
      "__________________________________________________________________________________________________\n",
      "activation_62 (Activation)      (None, 8, 8, 256)    0           batch_normalization_62[0][0]     \n",
      "__________________________________________________________________________________________________\n",
      "conv2d_78 (Conv2D)              (None, 8, 8, 256)    590080      activation_62[0][0]              \n",
      "__________________________________________________________________________________________________\n",
      "batch_normalization_63 (BatchNo (None, 8, 8, 256)    1024        conv2d_78[0][0]                  \n",
      "__________________________________________________________________________________________________\n",
      "activation_63 (Activation)      (None, 8, 8, 256)    0           batch_normalization_63[0][0]     \n",
      "__________________________________________________________________________________________________\n",
      "conv2d_79 (Conv2D)              (None, 8, 8, 256)    590080      activation_63[0][0]              \n",
      "__________________________________________________________________________________________________\n",
      "add_30 (Add)                    (None, 8, 8, 256)    0           add_29[0][0]                     \n",
      "                                                                 conv2d_79[0][0]                  \n",
      "__________________________________________________________________________________________________\n",
      "batch_normalization_64 (BatchNo (None, 8, 8, 256)    1024        add_30[0][0]                     \n",
      "__________________________________________________________________________________________________\n",
      "activation_64 (Activation)      (None, 8, 8, 256)    0           batch_normalization_64[0][0]     \n",
      "__________________________________________________________________________________________________\n",
      "conv2d_80 (Conv2D)              (None, 4, 4, 512)    1180160     activation_64[0][0]              \n",
      "__________________________________________________________________________________________________\n",
      "batch_normalization_65 (BatchNo (None, 4, 4, 512)    2048        conv2d_80[0][0]                  \n",
      "__________________________________________________________________________________________________\n",
      "activation_65 (Activation)      (None, 4, 4, 512)    0           batch_normalization_65[0][0]     \n",
      "__________________________________________________________________________________________________\n",
      "conv2d_81 (Conv2D)              (None, 4, 4, 512)    131584      add_30[0][0]                     \n",
      "__________________________________________________________________________________________________\n",
      "conv2d_82 (Conv2D)              (None, 4, 4, 512)    2359808     activation_65[0][0]              \n",
      "__________________________________________________________________________________________________\n",
      "add_31 (Add)                    (None, 4, 4, 512)    0           conv2d_81[0][0]                  \n",
      "                                                                 conv2d_82[0][0]                  \n",
      "__________________________________________________________________________________________________\n",
      "batch_normalization_66 (BatchNo (None, 4, 4, 512)    2048        add_31[0][0]                     \n",
      "__________________________________________________________________________________________________\n",
      "activation_66 (Activation)      (None, 4, 4, 512)    0           batch_normalization_66[0][0]     \n",
      "__________________________________________________________________________________________________\n",
      "conv2d_83 (Conv2D)              (None, 4, 4, 512)    2359808     activation_66[0][0]              \n",
      "__________________________________________________________________________________________________\n",
      "batch_normalization_67 (BatchNo (None, 4, 4, 512)    2048        conv2d_83[0][0]                  \n",
      "__________________________________________________________________________________________________\n",
      "activation_67 (Activation)      (None, 4, 4, 512)    0           batch_normalization_67[0][0]     \n",
      "__________________________________________________________________________________________________\n",
      "conv2d_84 (Conv2D)              (None, 4, 4, 512)    2359808     activation_67[0][0]              \n",
      "__________________________________________________________________________________________________\n",
      "add_32 (Add)                    (None, 4, 4, 512)    0           add_31[0][0]                     \n",
      "                                                                 conv2d_84[0][0]                  \n",
      "__________________________________________________________________________________________________\n",
      "batch_normalization_68 (BatchNo (None, 4, 4, 512)    2048        add_32[0][0]                     \n",
      "__________________________________________________________________________________________________\n",
      "activation_68 (Activation)      (None, 4, 4, 512)    0           batch_normalization_68[0][0]     \n",
      "__________________________________________________________________________________________________\n",
      "global_average_pooling2d_4 (Glo (None, 512)          0           activation_68[0][0]              \n",
      "__________________________________________________________________________________________________\n",
      "dense_4 (Dense)                 (None, 3)            1539        global_average_pooling2d_4[0][0] \n",
      "==================================================================================================\n",
      "Total params: 11,185,347\n",
      "Trainable params: 11,177,539\n",
      "Non-trainable params: 7,808\n",
      "__________________________________________________________________________________________________\n"
     ]
    }
   ],
   "source": [
    "classes = list(iter(train_generator.class_indices))\n",
    "n_classes = len(classes)\n",
    "layers_per_block = [4, 4, 4, 4] #18 layers total with first conv and last FC\n",
    "n_filters = [64, 128, 256, 512]\n",
    "kernel_sizes = [(3,3), (3,3), (3,3), (3,3)]\n",
    "l2_reg = 0.1\n",
    "optimizer = RMSprop # Adamax, RMSprop, Adam (No: Nadam, SGD)\n",
    "lr = 1e-3\n",
    "decay = 0.01\n",
    "momentum = 0.9\n",
    "\n",
    "res_cnn = make_resnet(img_size, n_classes, layers_per_block, n_filters,\n",
    "                       kernel_sizes, l2_reg, optimizer, lr, decay, momentum)\n",
    "res_cnn.summary()"
   ]
  },
  {
   "cell_type": "markdown",
   "metadata": {
    "colab_type": "text",
    "id": "4GZSdBwZul7U"
   },
   "source": [
    "#### **Let's mount our GoogleDrive to download the best model (need to authenticate again):**"
   ]
  },
  {
   "cell_type": "code",
   "execution_count": 78,
   "metadata": {
    "colab": {
     "base_uri": "https://localhost:8080/",
     "height": 35
    },
    "colab_type": "code",
    "id": "YjYcj5zrumc5",
    "outputId": "a478c2bc-b8f1-4b45-f976-61387966c79f"
   },
   "outputs": [
    {
     "name": "stdout",
     "output_type": "stream",
     "text": [
      "Drive already mounted at /content/gdrive; to attempt to forcibly remount, call drive.mount(\"/content/gdrive\", force_remount=True).\n"
     ]
    }
   ],
   "source": [
    "from google.colab import drive\n",
    "drive.mount('/content/gdrive')"
   ]
  },
  {
   "cell_type": "markdown",
   "metadata": {
    "colab_type": "text",
    "id": "JUL3HGj4dyft"
   },
   "source": [
    "### **Let's train and validate our Base Model:**"
   ]
  },
  {
   "cell_type": "code",
   "execution_count": 52,
   "metadata": {
    "colab": {
     "base_uri": "https://localhost:8080/",
     "height": 1000
    },
    "colab_type": "code",
    "id": "N1-xGeCJ9jRe",
    "outputId": "a0962138-9bec-4a93-966f-87d8361d81f8"
   },
   "outputs": [
    {
     "name": "stdout",
     "output_type": "stream",
     "text": [
      "Epoch 1/70\n",
      "568/568 [==============================] - 32s 56ms/step - loss: 6.4826 - acc: 0.5964 - val_loss: 1.0617 - val_acc: 0.6222\n",
      "\n",
      "Epoch 00001: val_acc improved from -inf to 0.62224, saving model to base_model.h5\n",
      "Epoch 2/70\n",
      "568/568 [==============================] - 27s 47ms/step - loss: 0.8314 - acc: 0.6528 - val_loss: 1.3205 - val_acc: 0.5379\n",
      "\n",
      "Epoch 00002: val_acc did not improve from 0.62224\n",
      "Epoch 3/70\n",
      "568/568 [==============================] - 26s 46ms/step - loss: 0.7399 - acc: 0.7049 - val_loss: 1.1446 - val_acc: 0.6031\n",
      "\n",
      "Epoch 00003: val_acc did not improve from 0.62224\n",
      "Epoch 4/70\n",
      "568/568 [==============================] - 26s 46ms/step - loss: 0.6888 - acc: 0.7288 - val_loss: 0.7440 - val_acc: 0.7393\n",
      "\n",
      "Epoch 00004: val_acc improved from 0.62224 to 0.73930, saving model to base_model.h5\n",
      "Epoch 5/70\n",
      "568/568 [==============================] - 26s 46ms/step - loss: 0.6587 - acc: 0.7379 - val_loss: 0.7969 - val_acc: 0.6119\n",
      "\n",
      "Epoch 00005: val_acc did not improve from 0.73930\n",
      "Epoch 6/70\n",
      "568/568 [==============================] - 26s 46ms/step - loss: 0.6372 - acc: 0.7407 - val_loss: 0.7173 - val_acc: 0.6537\n",
      "\n",
      "Epoch 00006: val_acc did not improve from 0.73930\n",
      "Epoch 7/70\n",
      "568/568 [==============================] - 26s 46ms/step - loss: 0.6150 - acc: 0.7512 - val_loss: 0.7160 - val_acc: 0.6839\n",
      "\n",
      "Epoch 00007: val_acc did not improve from 0.73930\n",
      "Epoch 8/70\n",
      "568/568 [==============================] - 26s 46ms/step - loss: 0.5992 - acc: 0.7607 - val_loss: 1.1895 - val_acc: 0.6634\n",
      "\n",
      "Epoch 00008: val_acc did not improve from 0.73930\n",
      "Epoch 9/70\n",
      "568/568 [==============================] - 26s 46ms/step - loss: 0.5871 - acc: 0.7684 - val_loss: 0.5892 - val_acc: 0.8152\n",
      "\n",
      "Epoch 00009: val_acc improved from 0.73930 to 0.81518, saving model to base_model.h5\n",
      "Epoch 10/70\n",
      "568/568 [==============================] - 26s 46ms/step - loss: 0.5753 - acc: 0.7741 - val_loss: 0.6196 - val_acc: 0.7354\n",
      "\n",
      "Epoch 00010: val_acc did not improve from 0.81518\n",
      "Epoch 11/70\n",
      "568/568 [==============================] - 26s 46ms/step - loss: 0.5663 - acc: 0.7816 - val_loss: 0.5991 - val_acc: 0.7111\n",
      "\n",
      "Epoch 00011: val_acc did not improve from 0.81518\n",
      "Epoch 12/70\n",
      "568/568 [==============================] - 26s 46ms/step - loss: 0.5506 - acc: 0.7891 - val_loss: 0.7117 - val_acc: 0.7218\n",
      "\n",
      "Epoch 00012: ReduceLROnPlateau reducing learning rate to 0.0008500000403728336.\n",
      "\n",
      "Epoch 00012: val_acc did not improve from 0.81518\n",
      "Epoch 13/70\n",
      "568/568 [==============================] - 26s 46ms/step - loss: 0.5321 - acc: 0.8028 - val_loss: 0.6464 - val_acc: 0.7938\n",
      "\n",
      "Epoch 00013: val_acc did not improve from 0.81518\n",
      "Epoch 14/70\n",
      "568/568 [==============================] - 26s 46ms/step - loss: 0.5232 - acc: 0.8092 - val_loss: 1.1395 - val_acc: 0.6323\n",
      "\n",
      "Epoch 00014: val_acc did not improve from 0.81518\n",
      "Epoch 15/70\n",
      "568/568 [==============================] - 26s 46ms/step - loss: 0.5070 - acc: 0.8218 - val_loss: 0.6744 - val_acc: 0.7529\n",
      "\n",
      "Epoch 00015: ReduceLROnPlateau reducing learning rate to 0.0007225000590551645.\n",
      "\n",
      "Epoch 00015: val_acc did not improve from 0.81518\n",
      "Epoch 16/70\n",
      "568/568 [==============================] - 26s 46ms/step - loss: 0.4935 - acc: 0.8322 - val_loss: 0.7158 - val_acc: 0.7004\n",
      "\n",
      "Epoch 00016: val_acc did not improve from 0.81518\n",
      "Epoch 17/70\n",
      "568/568 [==============================] - 26s 46ms/step - loss: 0.4864 - acc: 0.8361 - val_loss: 0.6319 - val_acc: 0.7704\n",
      "\n",
      "Epoch 00017: val_acc did not improve from 0.81518\n",
      "Epoch 18/70\n",
      "568/568 [==============================] - 26s 46ms/step - loss: 0.4743 - acc: 0.8436 - val_loss: 0.5229 - val_acc: 0.8375\n",
      "\n",
      "Epoch 00018: val_acc improved from 0.81518 to 0.83755, saving model to base_model.h5\n",
      "Epoch 19/70\n",
      "568/568 [==============================] - 26s 46ms/step - loss: 0.4697 - acc: 0.8475 - val_loss: 0.6259 - val_acc: 0.7500\n",
      "\n",
      "Epoch 00019: val_acc did not improve from 0.83755\n",
      "Epoch 20/70\n",
      "568/568 [==============================] - 26s 46ms/step - loss: 0.4629 - acc: 0.8511 - val_loss: 0.5781 - val_acc: 0.7461\n",
      "\n",
      "Epoch 00020: val_acc did not improve from 0.83755\n",
      "Epoch 21/70\n",
      "568/568 [==============================] - 26s 46ms/step - loss: 0.4549 - acc: 0.8551 - val_loss: 0.6558 - val_acc: 0.6965\n",
      "\n",
      "Epoch 00021: ReduceLROnPlateau reducing learning rate to 0.0006141250254586339.\n",
      "\n",
      "Epoch 00021: val_acc did not improve from 0.83755\n",
      "Epoch 22/70\n",
      "568/568 [==============================] - 26s 46ms/step - loss: 0.4434 - acc: 0.8646 - val_loss: 0.7052 - val_acc: 0.6819\n",
      "\n",
      "Epoch 00022: val_acc did not improve from 0.83755\n",
      "Epoch 23/70\n",
      "568/568 [==============================] - 26s 46ms/step - loss: 0.4357 - acc: 0.8707 - val_loss: 0.7539 - val_acc: 0.6683\n",
      "\n",
      "Epoch 00023: val_acc did not improve from 0.83755\n",
      "Epoch 24/70\n",
      "568/568 [==============================] - 27s 47ms/step - loss: 0.4293 - acc: 0.8727 - val_loss: 0.5980 - val_acc: 0.7286\n",
      "\n",
      "Epoch 00024: ReduceLROnPlateau reducing learning rate to 0.0005220062914304435.\n",
      "\n",
      "Epoch 00024: val_acc did not improve from 0.83755\n",
      "Epoch 25/70\n",
      "568/568 [==============================] - 27s 48ms/step - loss: 0.4156 - acc: 0.8807 - val_loss: 0.5949 - val_acc: 0.7617\n",
      "\n",
      "Epoch 00025: val_acc did not improve from 0.83755\n",
      "Epoch 26/70\n",
      "568/568 [==============================] - 27s 47ms/step - loss: 0.4086 - acc: 0.8867 - val_loss: 0.5701 - val_acc: 0.7753\n",
      "\n",
      "Epoch 00026: val_acc did not improve from 0.83755\n",
      "Epoch 27/70\n",
      "568/568 [==============================] - 27s 47ms/step - loss: 0.3998 - acc: 0.8903 - val_loss: 0.7663 - val_acc: 0.7101\n",
      "\n",
      "Epoch 00027: ReduceLROnPlateau reducing learning rate to 0.00044370535761117935.\n",
      "\n",
      "Epoch 00027: val_acc did not improve from 0.83755\n",
      "Epoch 28/70\n",
      "568/568 [==============================] - 27s 47ms/step - loss: 0.3868 - acc: 0.8985 - val_loss: 0.6902 - val_acc: 0.7403\n",
      "\n",
      "Epoch 00028: val_acc did not improve from 0.83755\n",
      "Epoch 29/70\n",
      "568/568 [==============================] - 26s 46ms/step - loss: 0.3796 - acc: 0.8999 - val_loss: 0.6468 - val_acc: 0.7325\n",
      "\n",
      "Epoch 00029: val_acc did not improve from 0.83755\n",
      "Epoch 30/70\n",
      "568/568 [==============================] - 27s 47ms/step - loss: 0.3725 - acc: 0.9049 - val_loss: 0.5713 - val_acc: 0.7811\n",
      "\n",
      "Epoch 00030: ReduceLROnPlateau reducing learning rate to 0.00037714955396950245.\n",
      "\n",
      "Epoch 00030: val_acc did not improve from 0.83755\n",
      "Epoch 31/70\n",
      "568/568 [==============================] - 26s 47ms/step - loss: 0.3646 - acc: 0.9110 - val_loss: 0.8395 - val_acc: 0.6984\n",
      "\n",
      "Epoch 00031: val_acc did not improve from 0.83755\n",
      "Epoch 32/70\n",
      "568/568 [==============================] - 26s 46ms/step - loss: 0.3487 - acc: 0.9182 - val_loss: 1.0423 - val_acc: 0.7072\n",
      "\n",
      "Epoch 00032: val_acc did not improve from 0.83755\n",
      "Epoch 33/70\n",
      "568/568 [==============================] - 26s 45ms/step - loss: 0.3521 - acc: 0.9169 - val_loss: 0.7616 - val_acc: 0.7325\n",
      "\n",
      "Epoch 00033: ReduceLROnPlateau reducing learning rate to 0.0003205771208740771.\n",
      "\n",
      "Epoch 00033: val_acc did not improve from 0.83755\n",
      "Epoch 34/70\n",
      "568/568 [==============================] - 26s 46ms/step - loss: 0.3401 - acc: 0.9235 - val_loss: 0.7620 - val_acc: 0.7169\n",
      "\n",
      "Epoch 00034: val_acc did not improve from 0.83755\n",
      "Epoch 35/70\n",
      "568/568 [==============================] - 26s 46ms/step - loss: 0.3298 - acc: 0.9277 - val_loss: 0.8343 - val_acc: 0.6984\n",
      "\n",
      "Epoch 00035: val_acc did not improve from 0.83755\n",
      "Epoch 36/70\n",
      "568/568 [==============================] - 26s 46ms/step - loss: 0.3263 - acc: 0.9319 - val_loss: 0.8757 - val_acc: 0.7247\n",
      "\n",
      "Epoch 00036: ReduceLROnPlateau reducing learning rate to 0.0002724905527429655.\n",
      "\n",
      "Epoch 00036: val_acc did not improve from 0.83755\n",
      "Epoch 37/70\n",
      "568/568 [==============================] - 26s 46ms/step - loss: 0.3143 - acc: 0.9377 - val_loss: 0.8449 - val_acc: 0.6976\n",
      "\n",
      "Epoch 00037: val_acc did not improve from 0.83755\n",
      "Epoch 38/70\n",
      "568/568 [==============================] - 26s 46ms/step - loss: 0.3161 - acc: 0.9341 - val_loss: 0.9387 - val_acc: 0.7072\n",
      "\n",
      "Epoch 00038: val_acc did not improve from 0.83755\n",
      "Epoch 39/70\n",
      "568/568 [==============================] - 26s 46ms/step - loss: 0.3153 - acc: 0.9358 - val_loss: 0.8137 - val_acc: 0.7189\n",
      "\n",
      "Epoch 00039: ReduceLROnPlateau reducing learning rate to 0.00023161696735769509.\n",
      "\n",
      "Epoch 00039: val_acc did not improve from 0.83755\n",
      "Epoch 40/70\n",
      "568/568 [==============================] - 26s 46ms/step - loss: 0.2977 - acc: 0.9442 - val_loss: 0.8376 - val_acc: 0.7160\n",
      "\n",
      "Epoch 00040: val_acc did not improve from 0.83755\n",
      "Epoch 41/70\n",
      "568/568 [==============================] - 26s 46ms/step - loss: 0.2965 - acc: 0.9469 - val_loss: 0.8368 - val_acc: 0.7364\n",
      "\n",
      "Epoch 00041: val_acc did not improve from 0.83755\n",
      "Epoch 42/70\n",
      "568/568 [==============================] - 26s 46ms/step - loss: 0.2901 - acc: 0.9483 - val_loss: 0.8646 - val_acc: 0.7228\n",
      "\n",
      "Epoch 00042: ReduceLROnPlateau reducing learning rate to 0.00019687442472786642.\n",
      "\n",
      "Epoch 00042: val_acc did not improve from 0.83755\n",
      "Epoch 43/70\n",
      "568/568 [==============================] - 26s 46ms/step - loss: 0.2826 - acc: 0.9515 - val_loss: 0.9975 - val_acc: 0.7257\n",
      "\n",
      "Epoch 00043: val_acc did not improve from 0.83755\n",
      "Epoch 44/70\n",
      "568/568 [==============================] - 26s 46ms/step - loss: 0.2749 - acc: 0.9561 - val_loss: 0.7735 - val_acc: 0.7617\n",
      "\n",
      "Epoch 00044: val_acc did not improve from 0.83755\n",
      "Epoch 45/70\n",
      "568/568 [==============================] - 26s 46ms/step - loss: 0.2754 - acc: 0.9564 - val_loss: 0.8901 - val_acc: 0.7461\n",
      "\n",
      "Epoch 00045: ReduceLROnPlateau reducing learning rate to 0.00016734325545257888.\n",
      "\n",
      "Epoch 00045: val_acc did not improve from 0.83755\n",
      "Epoch 46/70\n",
      "568/568 [==============================] - 26s 46ms/step - loss: 0.2758 - acc: 0.9564 - val_loss: 0.9269 - val_acc: 0.7500\n",
      "\n",
      "Epoch 00046: val_acc did not improve from 0.83755\n",
      "Epoch 47/70\n",
      "568/568 [==============================] - 26s 46ms/step - loss: 0.2659 - acc: 0.9594 - val_loss: 0.9432 - val_acc: 0.7305\n",
      "\n",
      "Epoch 00047: val_acc did not improve from 0.83755\n",
      "Epoch 48/70\n",
      "568/568 [==============================] - 26s 46ms/step - loss: 0.2627 - acc: 0.9630 - val_loss: 0.8137 - val_acc: 0.7665\n",
      "\n",
      "Epoch 00048: ReduceLROnPlateau reducing learning rate to 0.00014224176775314845.\n",
      "\n",
      "Epoch 00048: val_acc did not improve from 0.83755\n",
      "Epoch 49/70\n",
      "568/568 [==============================] - 26s 46ms/step - loss: 0.2581 - acc: 0.9635 - val_loss: 0.9721 - val_acc: 0.7247\n",
      "\n",
      "Epoch 00049: val_acc did not improve from 0.83755\n",
      "Epoch 50/70\n",
      "568/568 [==============================] - 26s 46ms/step - loss: 0.2555 - acc: 0.9635 - val_loss: 0.9863 - val_acc: 0.7364\n",
      "\n",
      "Epoch 00050: val_acc did not improve from 0.83755\n",
      "Epoch 51/70\n",
      "568/568 [==============================] - 26s 46ms/step - loss: 0.2539 - acc: 0.9662 - val_loss: 1.1114 - val_acc: 0.7053\n",
      "\n",
      "Epoch 00051: ReduceLROnPlateau reducing learning rate to 0.00012090550444554538.\n",
      "\n",
      "Epoch 00051: val_acc did not improve from 0.83755\n",
      "Epoch 52/70\n",
      "568/568 [==============================] - 26s 46ms/step - loss: 0.2476 - acc: 0.9674 - val_loss: 1.0347 - val_acc: 0.7208\n",
      "\n",
      "Epoch 00052: val_acc did not improve from 0.83755\n",
      "Epoch 53/70\n",
      "568/568 [==============================] - 26s 46ms/step - loss: 0.2448 - acc: 0.9708 - val_loss: 1.0781 - val_acc: 0.7101\n",
      "\n",
      "Epoch 00053: val_acc did not improve from 0.83755\n",
      "Epoch 54/70\n",
      "568/568 [==============================] - 26s 46ms/step - loss: 0.2494 - acc: 0.9679 - val_loss: 0.9376 - val_acc: 0.7364\n",
      "\n",
      "Epoch 00054: ReduceLROnPlateau reducing learning rate to 0.00010276967877871357.\n",
      "\n",
      "Epoch 00054: val_acc did not improve from 0.83755\n",
      "Epoch 55/70\n",
      "568/568 [==============================] - 26s 46ms/step - loss: 0.2402 - acc: 0.9717 - val_loss: 1.0527 - val_acc: 0.7215\n",
      "\n",
      "Epoch 00055: val_acc did not improve from 0.83755\n",
      "Epoch 56/70\n",
      "568/568 [==============================] - 26s 47ms/step - loss: 0.2383 - acc: 0.9727 - val_loss: 1.0453 - val_acc: 0.7198\n",
      "\n",
      "Epoch 00056: val_acc did not improve from 0.83755\n",
      "Epoch 57/70\n",
      "568/568 [==============================] - 26s 46ms/step - loss: 0.2400 - acc: 0.9722 - val_loss: 1.1316 - val_acc: 0.7101\n",
      "\n",
      "Epoch 00057: ReduceLROnPlateau reducing learning rate to 8.735422634345013e-05.\n",
      "\n",
      "Epoch 00057: val_acc did not improve from 0.83755\n",
      "Epoch 58/70\n",
      "568/568 [==============================] - 26s 46ms/step - loss: 0.2380 - acc: 0.9730 - val_loss: 1.0711 - val_acc: 0.7208\n",
      "\n",
      "Epoch 00058: val_acc did not improve from 0.83755\n",
      "Epoch 59/70\n",
      "568/568 [==============================] - 26s 46ms/step - loss: 0.2374 - acc: 0.9731 - val_loss: 1.1120 - val_acc: 0.7062\n",
      "\n",
      "Epoch 00059: val_acc did not improve from 0.83755\n",
      "Epoch 60/70\n",
      "568/568 [==============================] - 26s 46ms/step - loss: 0.2334 - acc: 0.9753 - val_loss: 1.1338 - val_acc: 0.7091\n",
      "\n",
      "Epoch 00060: ReduceLROnPlateau reducing learning rate to 7.425108960887882e-05.\n",
      "\n",
      "Epoch 00060: val_acc did not improve from 0.83755\n",
      "Epoch 61/70\n",
      "568/568 [==============================] - 26s 46ms/step - loss: 0.2297 - acc: 0.9753 - val_loss: 1.0654 - val_acc: 0.7228\n",
      "\n",
      "Epoch 00061: val_acc did not improve from 0.83755\n",
      "Epoch 62/70\n",
      "568/568 [==============================] - 26s 46ms/step - loss: 0.2362 - acc: 0.9733 - val_loss: 1.0816 - val_acc: 0.7257\n",
      "\n",
      "Epoch 00062: val_acc did not improve from 0.83755\n",
      "Epoch 63/70\n",
      "568/568 [==============================] - 26s 46ms/step - loss: 0.2304 - acc: 0.9750 - val_loss: 0.9936 - val_acc: 0.7403\n",
      "\n",
      "Epoch 00063: ReduceLROnPlateau reducing learning rate to 6.31134258583188e-05.\n",
      "\n",
      "Epoch 00063: val_acc did not improve from 0.83755\n",
      "Epoch 64/70\n",
      "568/568 [==============================] - 26s 46ms/step - loss: 0.2243 - acc: 0.9794 - val_loss: 1.0083 - val_acc: 0.7519\n",
      "\n",
      "Epoch 00064: val_acc did not improve from 0.83755\n",
      "Epoch 65/70\n",
      "568/568 [==============================] - 26s 46ms/step - loss: 0.2299 - acc: 0.9777 - val_loss: 1.1012 - val_acc: 0.7364\n",
      "\n",
      "Epoch 00065: val_acc did not improve from 0.83755\n",
      "Epoch 66/70\n",
      "568/568 [==============================] - 26s 46ms/step - loss: 0.2309 - acc: 0.9759 - val_loss: 0.9771 - val_acc: 0.7539\n",
      "\n",
      "Epoch 00066: ReduceLROnPlateau reducing learning rate to 5.364641074265819e-05.\n",
      "\n",
      "Epoch 00066: val_acc did not improve from 0.83755\n",
      "Epoch 67/70\n",
      "568/568 [==============================] - 26s 46ms/step - loss: 0.2238 - acc: 0.9799 - val_loss: 1.1570 - val_acc: 0.7130\n",
      "\n",
      "Epoch 00067: val_acc did not improve from 0.83755\n",
      "Epoch 68/70\n",
      "568/568 [==============================] - 26s 45ms/step - loss: 0.2239 - acc: 0.9783 - val_loss: 1.1125 - val_acc: 0.7383\n",
      "\n",
      "Epoch 00068: val_acc did not improve from 0.83755\n",
      "Epoch 69/70\n",
      "568/568 [==============================] - 26s 46ms/step - loss: 0.2246 - acc: 0.9789 - val_loss: 1.1661 - val_acc: 0.7101\n",
      "\n",
      "Epoch 00069: ReduceLROnPlateau reducing learning rate to 4.559944882203126e-05.\n",
      "\n",
      "Epoch 00069: val_acc did not improve from 0.83755\n",
      "Epoch 70/70\n",
      "568/568 [==============================] - 26s 46ms/step - loss: 0.2238 - acc: 0.9792 - val_loss: 1.2195 - val_acc: 0.7198\n",
      "\n",
      "Epoch 00070: val_acc did not improve from 0.83755\n"
     ]
    }
   ],
   "source": [
    "## fully balanced training\n",
    "## Rot 45,135,225,315\n",
    "## 'C4-7' vs 'C5' vs 'all_other' - Downsampling training\n",
    "\n",
    "## 128x128, stride_60,\n",
    "##min_pos_pix_1250, mivalpos_1024\n",
    "## ReduceLROnPlateau(monitor='val_loss'... )\n",
    "## train_batch_32, opt_RMSprop, Kernel_3x3:\n",
    "\n",
    "epochs = 70\n",
    "\n",
    "train_steps = train_generator.n//train_generator.batch_size\n",
    "val_steps = val_generator.n//val_generator.batch_size\n",
    "\n",
    "# Callbacks:\n",
    "reduce_lr = ReduceLROnPlateau(monitor='val_loss', factor=0.85, patience=3, \n",
    "                                   verbose=1, mode='min', min_lr=1e-9)\n",
    "EarlyStop = EarlyStopping(monitor='val_acc', patience=70, verbose=1,\n",
    "                          min_delta=0, mode='max')\n",
    "checkpoint = ModelCheckpoint('base_model.h5', monitor='val_acc', verbose=1, \n",
    "                             save_best_only=True, mode='max')\n",
    "\n",
    "callbacks_list = [reduce_lr, checkpoint, EarlyStop] #order matters!\n",
    "\n",
    "#res_cnn.load_weights('base_model.h5')\n",
    "\n",
    "history = res_cnn.fit_generator(train_generator, steps_per_epoch=train_steps,\n",
    "                            validation_data=val_generator,\n",
    "                            validation_steps=val_steps, epochs=epochs,\n",
    "                            verbose=1, callbacks=callbacks_list, shuffle=False,\n",
    "                            class_weight=serial_pos_weights)"
   ]
  },
  {
   "cell_type": "markdown",
   "metadata": {
    "colab_type": "text",
    "id": "E5mhZnDUvLsL"
   },
   "source": [
    "#### **Let's download the best model to our 'Capstone' folder in GoogleDrive:**"
   ]
  },
  {
   "cell_type": "code",
   "execution_count": 53,
   "metadata": {
    "colab": {
     "base_uri": "https://localhost:8080/",
     "height": 35
    },
    "colab_type": "code",
    "id": "a4nSrCq4vQCi",
    "outputId": "0bb742b3-0b2f-4c21-eadd-1ef15dbf69b7"
   },
   "outputs": [
    {
     "data": {
      "text/plain": [
       "'gdrive/My Drive/Capstone/base_model_C4-7_C5_08375.h5'"
      ]
     },
     "execution_count": 53,
     "metadata": {
      "tags": []
     },
     "output_type": "execute_result"
    }
   ],
   "source": [
    "source = './base_model.h5'\n",
    "dest = 'gdrive/My Drive/Capstone/base_model_C4-7_C5_08375.h5'\n",
    "shutil.copyfile(source, dest)\n"
   ]
  },
  {
   "cell_type": "markdown",
   "metadata": {
    "colab_type": "text",
    "id": "MRz_1oJzJRFH"
   },
   "source": [
    "#### **Let's download the training history to a local file (just in case colab's session is interrupted):**"
   ]
  },
  {
   "cell_type": "code",
   "execution_count": 0,
   "metadata": {
    "colab": {},
    "colab_type": "code",
    "id": "k5Y5GUUhcyAt"
   },
   "outputs": [],
   "source": [
    "for k,v in history.history.items():\n",
    "  history.history[k] = str(v)\n",
    "\n",
    "with open('history_dict.json', 'w') as f:\n",
    "    json.dump(history.history, f)\n",
    "\n",
    "try:\n",
    "    time.sleep(3) # To avoid warning when downloading various files at once\n",
    "    files.download('history_dict.json')\n",
    "except:\n",
    "    pass"
   ]
  },
  {
   "cell_type": "code",
   "execution_count": 0,
   "metadata": {
    "colab": {},
    "colab_type": "code",
    "id": "jxEpvYPVcyUb"
   },
   "outputs": [],
   "source": [
    "#uploaded = files.upload()\n",
    "with open('history_dict.json') as f:\n",
    "    history_dict = json.load(f)\n",
    "    \n",
    "for k,v in history_dict.items():\n",
    "  history_dict[k] = json.loads(v)\n",
    "\n",
    "history_df = pd.DataFrame(history_dict)"
   ]
  },
  {
   "cell_type": "markdown",
   "metadata": {
    "colab_type": "text",
    "id": "_eAC27OxKOLY"
   },
   "source": [
    "#### **Let's plot training and validation loss vs epochs:**"
   ]
  },
  {
   "cell_type": "code",
   "execution_count": 56,
   "metadata": {
    "colab": {
     "base_uri": "https://localhost:8080/",
     "height": 408
    },
    "colab_type": "code",
    "id": "DCtryy1abrRA",
    "outputId": "67c4caea-7af4-43ba-9eff-14152a6150a8"
   },
   "outputs": [
    {
     "data": {
      "text/plain": [
       "<matplotlib.axes._subplots.AxesSubplot at 0x7f5b6e89c1d0>"
      ]
     },
     "execution_count": 56,
     "metadata": {
      "tags": []
     },
     "output_type": "execute_result"
    },
    {
     "data": {
      "image/png": "[encoded data removed]",
      "text/plain": [
       "<Figure size 720x432 with 1 Axes>"
      ]
     },
     "metadata": {
      "tags": []
     },
     "output_type": "display_data"
    }
   ],
   "source": [
    "loss = history_df[['loss','val_loss']]\n",
    "loss.columns = ['train_loss', 'val_loss']\n",
    "loss.plot(figsize=(10, 6), title='Loss vs epochs')"
   ]
  },
  {
   "cell_type": "markdown",
   "metadata": {
    "colab_type": "text",
    "id": "VSFAqg-gKlR0"
   },
   "source": [
    "#### **Let's plot training and validation accuracy vs epochs:**"
   ]
  },
  {
   "cell_type": "code",
   "execution_count": 57,
   "metadata": {
    "colab": {
     "base_uri": "https://localhost:8080/",
     "height": 408
    },
    "colab_type": "code",
    "id": "bAbt9je3b1x1",
    "outputId": "03ea0e89-2a7a-4d84-ec89-afc354364083"
   },
   "outputs": [
    {
     "data": {
      "text/plain": [
       "<matplotlib.axes._subplots.AxesSubplot at 0x7f5afd4c1b00>"
      ]
     },
     "execution_count": 57,
     "metadata": {
      "tags": []
     },
     "output_type": "execute_result"
    },
    {
     "data": {
      "image/png": "[encoded data removed]",
      "text/plain": [
       "<Figure size 720x432 with 1 Axes>"
      ]
     },
     "metadata": {
      "tags": []
     },
     "output_type": "display_data"
    }
   ],
   "source": [
    "acc = history_df[['val_acc','acc']]\n",
    "acc.columns = ['val_acc', 'train_acc']\n",
    "acc.plot(figsize=(10, 6), title='Val acc & Train acc vs epochs')"
   ]
  },
  {
   "cell_type": "markdown",
   "metadata": {
    "colab_type": "text",
    "id": "B8RiTO3yLDXy"
   },
   "source": [
    "#### **Let's plot learning rate vs epochs:**"
   ]
  },
  {
   "cell_type": "code",
   "execution_count": 58,
   "metadata": {
    "colab": {
     "base_uri": "https://localhost:8080/",
     "height": 408
    },
    "colab_type": "code",
    "id": "o2ggKlccOAHA",
    "outputId": "ea40c994-b4b7-46ee-a2dc-6d3834d3a0d3"
   },
   "outputs": [
    {
     "data": {
      "text/plain": [
       "<matplotlib.axes._subplots.AxesSubplot at 0x7f5b60d9f278>"
      ]
     },
     "execution_count": 58,
     "metadata": {
      "tags": []
     },
     "output_type": "execute_result"
    },
    {
     "data": {
      "image/png": "[encoded data removed]",
      "text/plain": [
       "<Figure size 720x432 with 1 Axes>"
      ]
     },
     "metadata": {
      "tags": []
     },
     "output_type": "display_data"
    }
   ],
   "source": [
    "lr = history_df[['lr']]\n",
    "lr.plot(figsize=(10, 6), title='Learning rate vs epochs')"
   ]
  },
  {
   "cell_type": "markdown",
   "metadata": {
    "colab_type": "text",
    "id": "pEjAnQK9Mhfy"
   },
   "source": [
    "#### **Let's evaluate the best model, on the validation set and compute relevant metrics:**"
   ]
  },
  {
   "cell_type": "code",
   "execution_count": 0,
   "metadata": {
    "colab": {},
    "colab_type": "code",
    "id": "NKttpsSSFyfD"
   },
   "outputs": [],
   "source": [
    "#uploaded = files.upload()\n",
    "res_cnn.load_weights('base_model.h5')"
   ]
  },
  {
   "cell_type": "code",
   "execution_count": 60,
   "metadata": {
    "colab": {
     "base_uri": "https://localhost:8080/",
     "height": 381
    },
    "colab_type": "code",
    "id": "hkPgAlWuF0t4",
    "outputId": "60c629ab-a730-47d6-fd54-67d6619c62aa"
   },
   "outputs": [
    {
     "name": "stdout",
     "output_type": "stream",
     "text": [
      "\n",
      "val_acc:\n",
      " 0.8287545787545788\n",
      "\n",
      "Confusion Matrix:\n",
      " [[229 130   5]\n",
      " [ 29 333   2]\n",
      " [ 11  10 343]]\n",
      "\n",
      "Classification Report:\n",
      "                precision    recall  f1-score   support\n",
      "\n",
      "     C4-7_pos       0.85      0.63      0.72       364\n",
      "       C5_pos       0.70      0.91      0.80       364\n",
      "all_other_pos       0.98      0.94      0.96       364\n",
      "\n",
      "     accuracy                           0.83      1092\n",
      "    macro avg       0.85      0.83      0.83      1092\n",
      " weighted avg       0.85      0.83      0.83      1092\n",
      "\n"
     ]
    }
   ],
   "source": [
    "# 0.83755\n",
    "X, y_true = next(val_generator)\n",
    "y_pred = res_cnn.predict(X)\n",
    "for i in range(1, len(val_generator)):\n",
    "  X, y = next(val_generator)\n",
    "  y_true = np.vstack((y_true, y))\n",
    "  y_pred = np.vstack((y_pred, res_cnn.predict(X)))\n",
    "\n",
    "y_true = np.argmax(y_true, axis=1)\n",
    "y_pred = np.argmax(y_pred, axis=1)\n",
    "\n",
    "val_acc = accuracy_score(y_true, y_pred)\n",
    "#roc_auc = roc_auc_score(y_true, y_pred)\n",
    "cm = confusion_matrix(y_true, y_pred)\n",
    "class_names = [k for k in val_generator.class_indices]\n",
    "c_report = classification_report(y_true, y_pred, target_names=class_names)\n",
    "\n",
    "print('\\nval_acc:\\n', val_acc)\n",
    "print('\\nConfusion Matrix:\\n', cm)\n",
    "print('\\nClassification Report:\\n', c_report)"
   ]
  },
  {
   "cell_type": "markdown",
   "metadata": {
    "colab_type": "text",
    "id": "VCyuxkmCWFmc"
   },
   "source": [
    "## **Let's evaluate the best model when loaded from GoogleDrive:**"
   ]
  },
  {
   "cell_type": "code",
   "execution_count": 114,
   "metadata": {
    "colab": {
     "base_uri": "https://localhost:8080/",
     "height": 74
    },
    "colab_type": "code",
    "id": "qUocxlDZwrmQ",
    "outputId": "73a923f0-136b-410f-be5c-425853149af0"
   },
   "outputs": [
    {
     "name": "stdout",
     "output_type": "stream",
     "text": [
      "Downloaded content: \"base_model_C4-7_C5_083.h5\"\n",
      "Root dir content: ['.config', 'Patches', 'gdrive', 'base_model_C4-7_C5_08223.h5', 'base_model_C4-7_C5_083.h5', 'adc.json', 'base_model.h5', 'base_model_C4-7_C5_082875.h5', 'history_dict.json', 'sample_data']\n"
     ]
    }
   ],
   "source": [
    "# Authenticate and create the PyDrive client.\n",
    "auth.authenticate_user()\n",
    "gauth = GoogleAuth()\n",
    "gauth.credentials = GoogleCredentials.get_application_default()\n",
    "drive = GoogleDrive(gauth)\n",
    "\n",
    "file_id = '1-4e6W-yR13q3ckpgo8O9QVMTncWITHwg' # final model_C4-7_C5_2_0.8223\n",
    "\n",
    "downloaded = drive.CreateFile({'id': file_id})\n",
    "downloaded.GetContentFile(downloaded['title'])\n",
    "print('Downloaded content: \"{}\"'.format(downloaded['title']))\n",
    "print('Root dir content: {}'.format(os.listdir()))"
   ]
  },
  {
   "cell_type": "markdown",
   "metadata": {
    "colab_type": "text",
    "id": "5tEWiFP8Wit9"
   },
   "source": [
    "#### **Results when creating a fresh network and only weights are loaded:**"
   ]
  },
  {
   "cell_type": "code",
   "execution_count": 0,
   "metadata": {
    "colab": {},
    "colab_type": "code",
    "id": "oxt1DQx0WhqH"
   },
   "outputs": [],
   "source": [
    "classes = list(iter(train_generator.class_indices))\n",
    "n_classes = len(classes)\n",
    "layers_per_block = [4, 4, 4, 4] #18 layers total with first conv and last FC\n",
    "n_filters = [64, 128, 256, 512]\n",
    "kernel_sizes = [(3,3), (3,3), (3,3), (3,3)]\n",
    "l2_reg = 0.1\n",
    "optimizer = RMSprop # Adamax, RMSprop, Adam (No: Nadam, SGD)\n",
    "lr = 1e-3\n",
    "decay = 0.01\n",
    "momentum = 0.9\n",
    "\n",
    "res_cnn = make_resnet(img_size, n_classes, layers_per_block, n_filters,\n",
    "                       kernel_sizes, l2_reg, optimizer, lr, decay, momentum)\n",
    "#load weights:\n",
    "res_cnn.load_weights(downloaded['title'])"
   ]
  },
  {
   "cell_type": "code",
   "execution_count": 116,
   "metadata": {
    "colab": {
     "base_uri": "https://localhost:8080/",
     "height": 381
    },
    "colab_type": "code",
    "id": "7o2tsHVcRFge",
    "outputId": "c26f816c-6cab-4917-836d-7a345c0b3a87"
   },
   "outputs": [
    {
     "name": "stdout",
     "output_type": "stream",
     "text": [
      "\n",
      "val_acc:\n",
      " 0.8315018315018315\n",
      "\n",
      "Confusion Matrix:\n",
      " [[229 130   5]\n",
      " [ 29 333   2]\n",
      " [ 11   7 346]]\n",
      "\n",
      "Classification Report:\n",
      "                precision    recall  f1-score   support\n",
      "\n",
      "     C4-7_pos       0.85      0.63      0.72       364\n",
      "       C5_pos       0.71      0.91      0.80       364\n",
      "all_other_pos       0.98      0.95      0.97       364\n",
      "\n",
      "     accuracy                           0.83      1092\n",
      "    macro avg       0.85      0.83      0.83      1092\n",
      " weighted avg       0.85      0.83      0.83      1092\n",
      "\n"
     ]
    }
   ],
   "source": [
    "X, y_true = next(val_generator)\n",
    "y_pred = res_cnn.predict(X)\n",
    "for i in range(1, len(val_generator)):\n",
    "  X, y = next(val_generator)\n",
    "  y_true = np.vstack((y_true, y))\n",
    "  y_pred = np.vstack((y_pred, res_cnn.predict(X)))\n",
    "\n",
    "y_true = np.argmax(y_true, axis=1)\n",
    "y_pred = np.argmax(y_pred, axis=1)\n",
    "\n",
    "val_acc = accuracy_score(y_true, y_pred)\n",
    "#roc_auc = roc_auc_score(y_true, y_pred)\n",
    "cm = confusion_matrix(y_true, y_pred)\n",
    "class_names = [k for k in val_generator.class_indices]\n",
    "c_report = classification_report(y_true, y_pred, target_names=class_names)\n",
    "\n",
    "print('\\nval_acc:\\n', val_acc)\n",
    "print('\\nConfusion Matrix:\\n', cm)\n",
    "print('\\nClassification Report:\\n', c_report)"
   ]
  },
  {
   "cell_type": "markdown",
   "metadata": {
    "colab_type": "text",
    "id": "8-yH-sS3XikP"
   },
   "source": [
    "#### **Results when loading the entire model (not just weights):**"
   ]
  },
  {
   "cell_type": "code",
   "execution_count": 0,
   "metadata": {
    "colab": {},
    "colab_type": "code",
    "id": "pYFZl3FRxqAi"
   },
   "outputs": [],
   "source": [
    "#uploaded = files.upload()\n",
    "final_model = load_model(downloaded['title'])"
   ]
  },
  {
   "cell_type": "code",
   "execution_count": 118,
   "metadata": {
    "colab": {
     "base_uri": "https://localhost:8080/",
     "height": 381
    },
    "colab_type": "code",
    "id": "hkeC7XBBZVvj",
    "outputId": "38c96492-075d-4778-ae49-47b9544b0382"
   },
   "outputs": [
    {
     "name": "stdout",
     "output_type": "stream",
     "text": [
      "\n",
      "val_acc:\n",
      " 0.8315018315018315\n",
      "\n",
      "Confusion Matrix:\n",
      " [[229 130   5]\n",
      " [ 29 333   2]\n",
      " [ 11   7 346]]\n",
      "\n",
      "Classification Report:\n",
      "                precision    recall  f1-score   support\n",
      "\n",
      "     C4-7_pos       0.85      0.63      0.72       364\n",
      "       C5_pos       0.71      0.91      0.80       364\n",
      "all_other_pos       0.98      0.95      0.97       364\n",
      "\n",
      "     accuracy                           0.83      1092\n",
      "    macro avg       0.85      0.83      0.83      1092\n",
      " weighted avg       0.85      0.83      0.83      1092\n",
      "\n"
     ]
    }
   ],
   "source": [
    "X, y_true = next(val_generator)\n",
    "y_pred = final_model.predict(X)\n",
    "for i in range(1, len(val_generator)):\n",
    "  X, y = next(val_generator)\n",
    "  y_true = np.vstack((y_true, y))\n",
    "  y_pred = np.vstack((y_pred, final_model.predict(X)))\n",
    "\n",
    "y_true = np.argmax(y_true, axis=1)\n",
    "y_pred = np.argmax(y_pred, axis=1)\n",
    "\n",
    "val_acc = accuracy_score(y_true, y_pred)\n",
    "#roc_auc = roc_auc_score(y_true, y_pred)\n",
    "cm = confusion_matrix(y_true, y_pred)\n",
    "class_names = [k for k in val_generator.class_indices]\n",
    "c_report = classification_report(y_true, y_pred, target_names=class_names)\n",
    "\n",
    "print('\\nval_acc:\\n', val_acc)\n",
    "print('\\nConfusion Matrix:\\n', cm)\n",
    "print('\\nClassification Report:\\n', c_report)"
   ]
  }
 ],
 "metadata": {
  "accelerator": "GPU",
  "colab": {
   "collapsed_sections": [],
   "machine_shape": "hm",
   "name": "'C4-7' vs 'C5' vs all_other (downsample).ipynb",
   "provenance": []
  },
  "kernelspec": {
   "display_name": "Python 3",
   "language": "python",
   "name": "python3"
  },
  "language_info": {
   "codemirror_mode": {
    "name": "ipython",
    "version": 3
   },
   "file_extension": ".py",
   "mimetype": "text/x-python",
   "name": "python",
   "nbconvert_exporter": "python",
   "pygments_lexer": "ipython3",
   "version": "3.6.9"
  }
 },
 "nbformat": 4,
 "nbformat_minor": 1
}
