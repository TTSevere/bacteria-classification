{
  "nbformat": 4,
  "nbformat_minor": 0,
  "metadata": {
    "colab": {
      "name": "bacteria-cnn-64x64.ipynb",
      "provenance": [],
      "collapsed_sections": [
        "VQtK0KfarUO3",
        "HJqxzoOgrFok",
        "G-tPut9SKeBO",
        "rqBgoAueWycl"
      ],
      "toc_visible": true
    },
    "kernelspec": {
      "name": "python3",
      "display_name": "Python 3"
    }
  },
  "cells": [
    {
      "cell_type": "markdown",
      "metadata": {
        "id": "QoRNDsO6tgOB",
        "colab_type": "text"
      },
      "source": [
        "# Shallow Convolutional Neural Network\n",
        "\n",
        "Author: Akhil Punia\n",
        "\n",
        "Date: 11.24.19\n",
        "\n",
        "**Completed:**\n",
        "\n",
        "1.   Build Basic CNN Architecture\n",
        "2.   Set Train, Test & Valid Routine\n",
        "3.   Reweigh Loss Function for Class Imabalance\n",
        "4.   Normalize Images\n",
        "5.   He Weight Initialisation & Adam Optimizer\n",
        "6.   Confusion Matrix\n",
        "\n",
        "**TO DO:**\n",
        "\n",
        "1.   Log Train, Test Error to Tensorboard  \n",
        "2.   Log PR Curve to Tensorboard\n",
        "3.   Plot Class Activation Maps\n",
        "4.   Use Learning Rate Scheduler for setting Cyclical Learning Rate\n",
        "\n"
      ]
    },
    {
      "cell_type": "markdown",
      "metadata": {
        "id": "MnCrERbQtrvG",
        "colab_type": "text"
      },
      "source": [
        "\n",
        "## Setting up the Environment\n"
      ]
    },
    {
      "cell_type": "code",
      "metadata": {
        "id": "eBYv15xvlOR_",
        "colab_type": "code",
        "colab": {}
      },
      "source": [
        "import torch\n",
        "import torchvision\n",
        "\n",
        "import numpy as np \n",
        "from torchvision import transforms, datasets"
      ],
      "execution_count": 0,
      "outputs": []
    },
    {
      "cell_type": "markdown",
      "metadata": {
        "id": "soHVzYt_t0NB",
        "colab_type": "text"
      },
      "source": [
        "## Preparing the Dataset\n"
      ]
    },
    {
      "cell_type": "code",
      "metadata": {
        "id": "mdbTZ-pmoXUs",
        "colab_type": "code",
        "colab": {}
      },
      "source": [
        "! wget -q 'https://storage.googleapis.com/capstone-fs7/img_patches_64_c8.zip'\n",
        "! unzip -q '/content/img_patches_64_c8.zip' "
      ],
      "execution_count": 0,
      "outputs": []
    },
    {
      "cell_type": "code",
      "metadata": {
        "id": "HnQYLhjAlPPM",
        "colab_type": "code",
        "outputId": "5ef97773-fd27-48a4-d837-70e43b7dea00",
        "colab": {
          "base_uri": "https://localhost:8080/",
          "height": 35
        }
      },
      "source": [
        "n_epochs = 10\n",
        "log_interval = 50\n",
        "\n",
        "data_dir='/content/img_patches_64_c8'\n",
        "train_dir = data_dir + '/serial-train'\n",
        "valid_dir = data_dir + '/serial-val'\n",
        "test_dir = data_dir + '/control'\n",
        "\n",
        "batch_size_train = 64\n",
        "batch_size_valid = 4103\n",
        "batch_size_test = 3655\n",
        "\n",
        "random_seed = 1\n",
        "torch.backends.cudnn.enabled = False\n",
        "torch.manual_seed(random_seed)"
      ],
      "execution_count": 2,
      "outputs": [
        {
          "output_type": "execute_result",
          "data": {
            "text/plain": [
              "<torch._C.Generator at 0x7fdb8c650770>"
            ]
          },
          "metadata": {
            "tags": []
          },
          "execution_count": 2
        }
      ]
    },
    {
      "cell_type": "markdown",
      "metadata": {
        "id": "Aix4dYObt5cf",
        "colab_type": "text"
      },
      "source": [
        "For repeatable experiments we have to set random seeds for anything using random number generation - this means `numpy` and `random` as well! It's also worth mentioning that cuDNN uses nondeterministic algorithms which can be disabled setting `torch.backends.cudnn.enabled = False`.\n"
      ]
    },
    {
      "cell_type": "code",
      "metadata": {
        "id": "r-FKjL_dcIoV",
        "colab_type": "code",
        "colab": {}
      },
      "source": [
        "# scale the image down by it's global mean and std. deviation\n",
        "# https://discuss.pytorch.org/t/about-normalization-using-pre-trained-vgg16-networks/23560/6\n",
        "\n",
        "def mean_std(dir, batch_size):\n",
        "  dataset = datasets.ImageFolder(dir, transform=transforms.Compose([transforms.ToTensor()]))\n",
        "\n",
        "  loader = torch.utils.data.DataLoader(dataset,\n",
        "                                      batch_size=batch_size,\n",
        "                                      num_workers=1,\n",
        "                                      shuffle=False)\n",
        "\n",
        "  mean = 0.\n",
        "  std = 0.\n",
        "\n",
        "  nb_samples = 0.\n",
        "  for data, target in loader:\n",
        "\n",
        "    batch_samples = data.size(0)\n",
        "    data = data.view(batch_samples, data.size(1), -1)\n",
        "    mean += data.mean(2).sum(0)\n",
        "    std += data.std(2).sum(0)\n",
        "    nb_samples += batch_samples\n",
        "\n",
        "  mean /= nb_samples\n",
        "  std /= nb_samples\n",
        "  print(dir+':: \\n Mean: ', mean, '\\t Std: ', std )\n",
        "\n",
        "  mean = list(mean.numpy())\n",
        "  std = list(std.numpy())\n",
        "  return mean, std"
      ],
      "execution_count": 0,
      "outputs": []
    },
    {
      "cell_type": "code",
      "metadata": {
        "id": "jCTZzOjBkdC4",
        "colab_type": "code",
        "outputId": "d179c5f6-565f-425d-e05e-02fbb63e0abc",
        "colab": {
          "base_uri": "https://localhost:8080/",
          "height": 121
        }
      },
      "source": [
        "mean_tr, std_tr = mean_std(train_dir, batch_size_train)\n",
        "mean_va, std_va = mean_std(valid_dir, batch_size_valid)\n",
        "mean_te, std_te = mean_std(test_dir, batch_size_test)"
      ],
      "execution_count": 4,
      "outputs": [
        {
          "output_type": "stream",
          "text": [
            "/content/img_patches_64_c8/serial-train:: \n",
            " Mean:  tensor([0.5976, 0.5493, 0.4729]) \t Std:  tensor([0.1306, 0.1371, 0.1429])\n",
            "/content/img_patches_64_c8/serial-val:: \n",
            " Mean:  tensor([0.5981, 0.5500, 0.4732]) \t Std:  tensor([0.1307, 0.1376, 0.1436])\n",
            "/content/img_patches_64_c8/control:: \n",
            " Mean:  tensor([0.5507, 0.5032, 0.4275]) \t Std:  tensor([0.1037, 0.1033, 0.1051])\n"
          ],
          "name": "stdout"
        }
      ]
    },
    {
      "cell_type": "markdown",
      "metadata": {
        "id": "h8O3g_DsAPWi",
        "colab_type": "text"
      },
      "source": [
        "Now we'll also need DataLoaders for the dataset. This is where TorchVision comes into play. It let's use load the dataset in a handy way. We'll use a `batch_size` of 64 for **training** and size `867` for **testing** on this dataset. \n",
        "\n",
        "The values `[0.6453, 0.6027, 0.5345]` and `[0.1899, 0.2030, 0.2196]` used for the `Normalize()` transformation below are the global mean and standard deviation of the dataset, we'll take them as a given here.\n",
        "\n",
        "TorchVision offers a lot of handy transformations, such as cropping or normalization."
      ]
    },
    {
      "cell_type": "code",
      "metadata": {
        "id": "AiCKXU5MlYZZ",
        "colab_type": "code",
        "colab": {}
      },
      "source": [
        "# 2.1 Define transforms for the training, validation, and testing sets\n",
        "\n",
        "train_transforms = transforms.Compose([#transforms.RandomHorizontalFlip(),\n",
        "                                       transforms.ToTensor(),\n",
        "                                       transforms.Normalize(mean_tr,\n",
        "                                                            std_tr)])\n",
        "\n",
        "valid_transforms = transforms.Compose([transforms.ToTensor(),\n",
        "                                       transforms.Normalize(mean_va, \n",
        "                                                            std_va)])\n",
        "\n",
        "test_transforms  = transforms.Compose([transforms.ToTensor(),\n",
        "                                       transforms.Normalize(mean_te,\n",
        "                                                            std_te)])\n",
        "\n",
        "# 2.2 Load the datasets with ImageFolder\n",
        "\n",
        "train_dataset = datasets.ImageFolder(train_dir, \n",
        "                                     transform=train_transforms)\n",
        "\n",
        "valid_dataset = datasets.ImageFolder(valid_dir, \n",
        "                                     transform=valid_transforms)\n",
        "\n",
        "test_dataset  = datasets.ImageFolder(test_dir, \n",
        "                                     transform=test_transforms)\n",
        "\n",
        "# 2.3 Using the image datasets and the transforms, define the dataloaders\n",
        "\n",
        "train_loader = torch.utils.data.DataLoader(train_dataset, \n",
        "                                           batch_size=batch_size_train, \n",
        "                                           shuffle=True)\n",
        "\n",
        "valid_loader = torch.utils.data.DataLoader(valid_dataset, \n",
        "                                           batch_size=batch_size_valid)\n",
        "\n",
        "test_loader  = torch.utils.data.DataLoader(test_dataset, \n",
        "                                           batch_size=batch_size_test,\n",
        "                                           shuffle=True)"
      ],
      "execution_count": 0,
      "outputs": []
    },
    {
      "cell_type": "code",
      "metadata": {
        "id": "v1PfDOkljSVV",
        "colab_type": "code",
        "colab": {}
      },
      "source": [
        "# train_dataset : 16395\n",
        "# valid_dataset : 4103\n",
        "# test_dataset : 3655"
      ],
      "execution_count": 0,
      "outputs": []
    },
    {
      "cell_type": "markdown",
      "metadata": {
        "id": "0LAzrs5XuQ3D",
        "colab_type": "text"
      },
      "source": [
        "PyTorch's `DataLoader` contain a few interesting options other than the dataset and batch size. For example we could use `num_workers > 1` to use subprocesses to asynchronously load data or using pinned RAM (via `pin_memory`) to speed up RAM to GPU transfers. But since these mostly matter when we're using a GPU we can omit them here.\n",
        "\n",
        "Now let's take a look at some examples. We'll use the `test_loader` for this."
      ]
    },
    {
      "cell_type": "code",
      "metadata": {
        "id": "c0lfXsovl778",
        "colab_type": "code",
        "colab": {}
      },
      "source": [
        "examples = enumerate(test_loader)\n",
        "batch_idx, (example_data, example_targets) = next(examples)"
      ],
      "execution_count": 0,
      "outputs": []
    },
    {
      "cell_type": "markdown",
      "metadata": {
        "id": "4cxEQ15OuYiN",
        "colab_type": "text"
      },
      "source": [
        "Ok let's see what one test data batch consists of."
      ]
    },
    {
      "cell_type": "code",
      "metadata": {
        "id": "oZZypOoemEjY",
        "colab_type": "code",
        "outputId": "4883fabc-f862-4991-e1fe-9571bc4ef430",
        "colab": {
          "base_uri": "https://localhost:8080/",
          "height": 35
        }
      },
      "source": [
        "example_data.shape"
      ],
      "execution_count": 8,
      "outputs": [
        {
          "output_type": "execute_result",
          "data": {
            "text/plain": [
              "torch.Size([3655, 3, 64, 64])"
            ]
          },
          "metadata": {
            "tags": []
          },
          "execution_count": 8
        }
      ]
    },
    {
      "cell_type": "code",
      "metadata": {
        "id": "zhF_IHLYsA0v",
        "colab_type": "code",
        "colab": {}
      },
      "source": [
        "# https://discuss.pytorch.org/t/simple-way-to-inverse-transform-normalization/4821/3\n",
        "\n",
        "class UnNormalize(object):\n",
        "    def __init__(self, mean, std):\n",
        "        self.mean = mean\n",
        "        self.std = std\n",
        "\n",
        "    def __call__(self, tensor):\n",
        "        \"\"\"\n",
        "        Args:\n",
        "            tensor (Tensor): Tensor image of size (C, H, W) to be normalized.\n",
        "        Returns:\n",
        "            Tensor: Normalized image.\n",
        "        \"\"\"\n",
        "        for t, m, s in zip(tensor, self.mean, self.std):\n",
        "            t.mul_(s).add_(m)\n",
        "            # The normalize code -> t.sub_(m).div_(s)\n",
        "        return tensor"
      ],
      "execution_count": 0,
      "outputs": []
    },
    {
      "cell_type": "code",
      "metadata": {
        "id": "GHATBVABsXuI",
        "colab_type": "code",
        "colab": {}
      },
      "source": [
        "unorm = UnNormalize(mean=mean_te, std=std_te)"
      ],
      "execution_count": 0,
      "outputs": []
    },
    {
      "cell_type": "code",
      "metadata": {
        "id": "Il7utjffl6UC",
        "colab_type": "code",
        "colab": {}
      },
      "source": [
        "# https://stackoverflow.com/questions/42014545/how-to-change-numpy-array-from-128-128-3-to-3-128-128\n",
        "\n",
        "def disp_image(arr):\n",
        "  arr = unorm(arr) # unnormalize\n",
        "  arr = arr.numpy()\n",
        "  return(np.swapaxes(arr, 2,0))"
      ],
      "execution_count": 0,
      "outputs": []
    },
    {
      "cell_type": "markdown",
      "metadata": {
        "id": "DEDBfyPgubd_",
        "colab_type": "text"
      },
      "source": [
        "So one test data batch is a  tensor of shape: `torch.Size([867, 3, 128, 128])` . This means we have 867 examples of 128x128 pixels (i.e. rgb channels, hence three). We can plot some of them using matplotlib."
      ]
    },
    {
      "cell_type": "code",
      "metadata": {
        "id": "oQyAxAL5mHxC",
        "colab_type": "code",
        "outputId": "d2264587-9e7d-4282-b2ff-d73f5955c291",
        "colab": {
          "base_uri": "https://localhost:8080/",
          "height": 500
        }
      },
      "source": [
        "import matplotlib.pyplot as plt\n",
        "\n",
        "fig = plt.figure(figsize=(7,7))\n",
        "for i in range(9):\n",
        "  plt.subplot(3,3,i+1)\n",
        "  plt.tight_layout()\n",
        "  plt.imshow(disp_image(example_data[i]), interpolation='none')\n",
        "  plt.title(\"Ground Truth: {}\".format(example_targets[i]))\n",
        "  plt.xticks([])\n",
        "  plt.yticks([])"
      ],
      "execution_count": 12,
      "outputs": [
        {
          "output_type": "display_data",
          "data": {
            "image/png": "[encoded data removed]",
            "text/plain": [
              "<Figure size 504x504 with 9 Axes>"
            ]
          },
          "metadata": {
            "tags": []
          }
        }
      ]
    },
    {
      "cell_type": "markdown",
      "metadata": {
        "id": "6rvKopaZun1U",
        "colab_type": "text"
      },
      "source": [
        "\n",
        "## Building the Network\n",
        "\n",
        "Now let's go ahead and build our network. We'll use two 2-D convolutional layers followed by two fully-connected (or linear) layers. As activation function we'll choose rectified linear units (ReLUs in short) and as a means of regularization we'll use two dropout layers. In PyTorch a nice way to build a network is by creating a new class for the network we wish to build. Let's import a few submodules here for more readable code."
      ]
    },
    {
      "cell_type": "code",
      "metadata": {
        "id": "Vf9tiXIimK90",
        "colab_type": "code",
        "colab": {}
      },
      "source": [
        "import torch.nn as nn\n",
        "import torch.nn.functional as F\n",
        "import torch.optim as optim"
      ],
      "execution_count": 0,
      "outputs": []
    },
    {
      "cell_type": "code",
      "metadata": {
        "id": "TEQEq3p-mVbt",
        "colab_type": "code",
        "colab": {}
      },
      "source": [
        "# https://github.com/rasbt/deeplearning-models/blob/master/pytorch_ipynb/cnn/cnn-he-init.ipynb\n",
        "\n",
        "class Net(nn.Module):\n",
        "    def __init__(self):\n",
        "        super(Net, self).__init__()\n",
        "        \n",
        "        # calculate same padding:\n",
        "        # (w - k + 2*p)/s + 1 = o\n",
        "        # => p = (s(o-1) - w + k)/2\n",
        "        \n",
        "        # 64x64x3 => 64x64x6\n",
        "        self.conv1 = nn.Conv2d(in_channels=3, \n",
        "                               out_channels=6, \n",
        "                               kernel_size=5,\n",
        "                               padding= 2) # p = (1(128-1) - 128 + 5)/2 = 2\n",
        "\n",
        "        # 32x32x6 => 32x32x12\n",
        "        self.conv2 = nn.Conv2d(in_channels=6, \n",
        "                               out_channels=12, \n",
        "                               kernel_size=5,\n",
        "                               padding= 2) # p = (1(64-1) - 64 + 5)/2 = 2\n",
        "        self.conv2_drop = nn.Dropout2d()\n",
        "\n",
        "        # 16x16x12 => 16x16x16\n",
        "        self.conv3 = nn.Conv2d(in_channels=12, \n",
        "                               out_channels=16, \n",
        "                               kernel_size=5,\n",
        "                               padding= 2) # p = (1(64-1) - 64 + 5)/2 = 2\n",
        "        self.conv3_drop = nn.Dropout2d()\n",
        "\n",
        "        # 8x8x16 => 8x8x16\n",
        "        self.conv4 = nn.Conv2d(in_channels=16, \n",
        "                               out_channels=16, \n",
        "                               kernel_size=5,\n",
        "                               padding= 2) # p = (1(64-1) - 64 + 5)/2 = 2\n",
        "        self.conv4_drop = nn.Dropout2d()\n",
        "        \n",
        "        self.fc1 = nn.Linear(256, 64)\n",
        "        self.fc2 = nn.Linear(64, 10)\n",
        "        \n",
        "        # initialising weights with He initialisation\n",
        "        for m in self.modules():\n",
        "          if isinstance(m, torch.nn.Conv2d):\n",
        "              nn.init.kaiming_normal_(m.weight.detach())\n",
        "              m.bias.detach().zero_()\n",
        "          elif isinstance(m, torch.nn.Linear):\n",
        "              nn.init.kaiming_normal_(m.weight.detach())\n",
        "              m.bias.detach().zero_()\n",
        "\n",
        "    def forward(self, x):\n",
        "        x = F.relu(F.max_pool2d(self.conv1(x), 2))\n",
        "        x = F.relu(F.max_pool2d(self.conv2_drop(self.conv2(x)), 2))\n",
        "        x = F.relu(F.max_pool2d(self.conv3_drop(self.conv3(x)), 2))\n",
        "        x = F.relu(F.max_pool2d(self.conv4_drop(self.conv4(x)), 2))\n",
        "        x = x.view(-1, 256)\n",
        "        x = F.relu(self.fc1(x))\n",
        "        x = F.dropout(x, training=self.training)\n",
        "        x = self.fc2(x)\n",
        "        return F.log_softmax(x)\n"
      ],
      "execution_count": 0,
      "outputs": []
    },
    {
      "cell_type": "code",
      "metadata": {
        "id": "P4-jgIoorBv0",
        "colab_type": "code",
        "colab": {}
      },
      "source": [
        "for data, target in test_loader:\n",
        "  pass"
      ],
      "execution_count": 0,
      "outputs": []
    },
    {
      "cell_type": "code",
      "metadata": {
        "id": "C-KOINz7DBOr",
        "colab_type": "code",
        "outputId": "2bfcff73-b216-4601-a499-dbe470e543e8",
        "colab": {
          "base_uri": "https://localhost:8080/",
          "height": 52
        }
      },
      "source": [
        "def weight_scale(x):\n",
        "  unique, counts = np.unique(x, return_counts=True)\n",
        "  print(counts.sum()/counts)\n",
        "\n",
        "target = target.numpy()\n",
        "\n",
        "# weigh class weights\n",
        "weight = weight_scale(target)"
      ],
      "execution_count": 16,
      "outputs": [
        {
          "output_type": "stream",
          "text": [
            "[23.58064516 14.00383142  3.79543094  7.76008493 25.92198582 17.82926829\n",
            " 44.03614458  2.65625   ]\n"
          ],
          "name": "stdout"
        }
      ]
    },
    {
      "cell_type": "markdown",
      "metadata": {
        "id": "zXnYATg_vDqd",
        "colab_type": "text"
      },
      "source": [
        "Broadly speaking we can think of the torch.nn layers as which contain trainable parameters while `torch.nn.functional` are purely functional. The `forward()` pass defines the way we compute our output using the given layers and functions. It would be perfectly fine to print out tensors somewhere in the forward pass for easier debugging. This comes in handy when experimenting with more complex models. Note that the forward pass could make use of e.g. a member variable or even the data itself to determine the execution path - and it can also make use of multiple arguments!\n",
        "\n",
        "Now let's `initialize` the network and the optimizer."
      ]
    },
    {
      "cell_type": "code",
      "metadata": {
        "id": "OaqjMFWHmc7M",
        "colab_type": "code",
        "colab": {}
      },
      "source": [
        "network = Net()\n",
        "optimizer = optim.Adam(network.parameters())\n",
        "criterion = nn.NLLLoss(weight)"
      ],
      "execution_count": 0,
      "outputs": []
    },
    {
      "cell_type": "markdown",
      "metadata": {
        "id": "oOddIOsMvKUX",
        "colab_type": "text"
      },
      "source": [
        "**Note**: If we were using a GPU for training, we should have also sent the network parameters to the GPU using e.g. `network.cuda()`. It is important to transfer the network's parameters to the appropriate device before passing them to the optimizer, otherwise the optimizer will not be able to keep track of them in the right way.\n",
        "\n",
        "## Training the Model\n",
        "\n",
        "Time to build our training loop. First we want to make sure our network is in training mode. Then we iterate over all training data once per epoch. Loading the individual batches is handled by the DataLoader. First we need to manually set the gradients to zero using `optimizer.zero_grad()` since PyTorch by default accumulates gradients. We then produce the output of our network (forward pass) and compute a negative log-likelihodd loss between the output and the ground truth label. The `backward()` call we now collect a new set of gradients which we propagate back into each of the network's parameters using `optimizer.step()`. For more detailed information about the inner workings of PyTorch's automatic gradient system, see the official docs for autograd (highly recommended).\n",
        "\n",
        "We'll also keep track of the progress with some printouts. In order to create a nice training curve later on we also create two lists for saving training and testing losses. On the x-axis we want to display the number of training examples the network has seen during training. "
      ]
    },
    {
      "cell_type": "code",
      "metadata": {
        "id": "xY95KzWOmo8y",
        "colab_type": "code",
        "colab": {}
      },
      "source": [
        "train_losses = []\n",
        "train_counter = []\n",
        "valid_losses = []\n",
        "valid_counter = [i*len(train_loader.dataset) for i in range(n_epochs + 1)]"
      ],
      "execution_count": 0,
      "outputs": []
    },
    {
      "cell_type": "markdown",
      "metadata": {
        "id": "lryFUMxxvh34",
        "colab_type": "text"
      },
      "source": [
        "We'll run our test loop once before even starting the training to see what accuracy/loss we achieve just with randomly initialized network parameters. Can you guess what our accuracy might look like for this case?"
      ]
    },
    {
      "cell_type": "code",
      "metadata": {
        "id": "TWm0DgoWmrii",
        "colab_type": "code",
        "colab": {}
      },
      "source": [
        "def train(epoch):\n",
        "  network.train()\n",
        "\n",
        "  for batch_idx, (data, target) in enumerate(train_loader):\n",
        "    optimizer.zero_grad()\n",
        "    output = network(data)\n",
        "    loss = criterion(output, target)\n",
        "    loss.backward()\n",
        "    optimizer.step()\n",
        "\n",
        "    if batch_idx % log_interval == 0:\n",
        "      print('Train Epoch: {} [{}/{} ({:.0f}%)]\\tLoss: {:.6f}'.format(\n",
        "            epoch, \n",
        "            batch_idx * len(data), \n",
        "            len(train_loader.dataset),\n",
        "            100. * batch_idx / len(train_loader), \n",
        "            loss.item()))\n",
        "      \n",
        "      train_losses.append(loss.item())\n",
        "      train_counter.append(\n",
        "        (batch_idx*64) + ((epoch-1)*len(train_loader.dataset)))\n",
        "      \n",
        "      torch.save(network.state_dict(), '/results/model.pth')\n",
        "      torch.save(optimizer.state_dict(), '/results/optimizer.pth')"
      ],
      "execution_count": 0,
      "outputs": []
    },
    {
      "cell_type": "markdown",
      "metadata": {
        "id": "ZlHQCwD1rhYv",
        "colab_type": "text"
      },
      "source": [
        "Neural network modules as well as optimizers have the ability to save and load their internal state using `.state_dict()`. With this we can continue training from previously saved state dicts if needed - we'd just need to call `.load_state_dict(state_dict)`. \n",
        "\n",
        "Now for our test loop. Here we sum up the test loss and keep track of correctly classified digits to compute the accuracy of the network. "
      ]
    },
    {
      "cell_type": "code",
      "metadata": {
        "id": "pOwJvduYmtlJ",
        "colab_type": "code",
        "colab": {}
      },
      "source": [
        "# def test():\n",
        "#   network.eval()\n",
        "#   test_loss = 0\n",
        "#   correct = 0\n",
        "\n",
        "#   with torch.no_grad():\n",
        "    \n",
        "#     for data, target in test_loader:\n",
        "      \n",
        "#       output = network(data)\n",
        "#       test_loss += criterion(output, \n",
        "#                              target).item()\n",
        "#       pred = output.data.max(1, keepdim=True)[1]\n",
        "#       correct += pred.eq(target.data.view_as(pred)).sum()\n",
        "\n",
        "#   test_loss /= len(test_loader.dataset)\n",
        "#   test_losses.append(test_loss)\n",
        "\n",
        "#   print('\\nTest set: Avg. loss: {:.4f}, Accuracy: {}/{} ({:.0f}%)\\n'.format(\n",
        "#         test_loss, \n",
        "#         correct, \n",
        "#         len(test_loader.dataset),\n",
        "#         100. * correct / len(test_loader.dataset)))\n",
        "\n",
        "def valid():\n",
        "  network.eval()\n",
        "  valid_loss = 0\n",
        "  correct = 0\n",
        "\n",
        "  with torch.no_grad():\n",
        "    \n",
        "    for data, target in valid_loader:\n",
        "      \n",
        "      output = network(data)\n",
        "      valid_loss += criterion(output, \n",
        "                             target).item()\n",
        "      pred = output.data.max(1, keepdim=True)[1]\n",
        "      correct += pred.eq(target.data.view_as(pred)).sum()\n",
        "\n",
        "  # valid_loss /= len(valid_loader.dataset)\n",
        "  valid_losses.append(valid_loss)\n",
        "\n",
        "  print('\\Vaild set: Avg. loss: {:.4f}, Accuracy: {}/{} ({:.0f}%)\\n'.format(\n",
        "        valid_loss, \n",
        "        correct, \n",
        "        len(valid_loader.dataset),\n",
        "        100. * correct / len(valid_loader.dataset)))"
      ],
      "execution_count": 0,
      "outputs": []
    },
    {
      "cell_type": "code",
      "metadata": {
        "id": "d_-0Dmj6nwzC",
        "colab_type": "code",
        "colab": {}
      },
      "source": [
        "# ! mkdir ../results/ # run once."
      ],
      "execution_count": 0,
      "outputs": []
    },
    {
      "cell_type": "markdown",
      "metadata": {
        "id": "Til15bK4rZRs",
        "colab_type": "text"
      },
      "source": [
        "Using the context manager `no_grad()` we can avoid storing the computations done producing the output of our network in the computation graph.\n",
        "\n",
        "Time to run the training! We'll manually add a `test()` call before we loop over n_epochs to evaluate our model with randomly initialized parameters."
      ]
    },
    {
      "cell_type": "code",
      "metadata": {
        "id": "X3Nr3B7Dm-n2",
        "colab_type": "code",
        "outputId": "0ac94f86-4706-40cb-8100-84fd242389d4",
        "colab": {
          "base_uri": "https://localhost:8080/",
          "height": 1000
        }
      },
      "source": [
        "valid()\n",
        "\n",
        "for epoch in range(1, n_epochs + 1):\n",
        "  train(epoch)\n",
        "  valid()"
      ],
      "execution_count": 21,
      "outputs": [
        {
          "output_type": "stream",
          "text": [
            "/usr/local/lib/python3.6/dist-packages/ipykernel_launcher.py:58: UserWarning: Implicit dimension choice for log_softmax has been deprecated. Change the call to include dim=X as an argument.\n"
          ],
          "name": "stderr"
        },
        {
          "output_type": "stream",
          "text": [
            "\\Vaild set: Avg. loss: 3.3363, Accuracy: 462/4103 (11%)\n",
            "\n",
            "Train Epoch: 1 [0/16395 (0%)]\tLoss: 9.068793\n",
            "Train Epoch: 1 [3200/16395 (19%)]\tLoss: 2.126881\n",
            "Train Epoch: 1 [6400/16395 (39%)]\tLoss: 1.840046\n",
            "Train Epoch: 1 [9600/16395 (58%)]\tLoss: 2.118570\n",
            "Train Epoch: 1 [12800/16395 (78%)]\tLoss: 2.068029\n",
            "Train Epoch: 1 [16000/16395 (97%)]\tLoss: 1.853153\n",
            "\\Vaild set: Avg. loss: 1.8125, Accuracy: 1733/4103 (42%)\n",
            "\n",
            "Train Epoch: 2 [0/16395 (0%)]\tLoss: 1.782166\n",
            "Train Epoch: 2 [3200/16395 (19%)]\tLoss: 1.935001\n",
            "Train Epoch: 2 [6400/16395 (39%)]\tLoss: 1.942133\n",
            "Train Epoch: 2 [9600/16395 (58%)]\tLoss: 1.790068\n",
            "Train Epoch: 2 [12800/16395 (78%)]\tLoss: 1.728032\n",
            "Train Epoch: 2 [16000/16395 (97%)]\tLoss: 1.711177\n",
            "\\Vaild set: Avg. loss: 1.5487, Accuracy: 1972/4103 (48%)\n",
            "\n",
            "Train Epoch: 3 [0/16395 (0%)]\tLoss: 1.699775\n",
            "Train Epoch: 3 [3200/16395 (19%)]\tLoss: 1.611069\n",
            "Train Epoch: 3 [6400/16395 (39%)]\tLoss: 1.892721\n",
            "Train Epoch: 3 [9600/16395 (58%)]\tLoss: 1.552980\n",
            "Train Epoch: 3 [12800/16395 (78%)]\tLoss: 1.549069\n",
            "Train Epoch: 3 [16000/16395 (97%)]\tLoss: 1.476576\n",
            "\\Vaild set: Avg. loss: 1.4703, Accuracy: 1991/4103 (49%)\n",
            "\n",
            "Train Epoch: 4 [0/16395 (0%)]\tLoss: 1.489477\n",
            "Train Epoch: 4 [3200/16395 (19%)]\tLoss: 1.266205\n",
            "Train Epoch: 4 [6400/16395 (39%)]\tLoss: 1.575517\n",
            "Train Epoch: 4 [9600/16395 (58%)]\tLoss: 1.333170\n",
            "Train Epoch: 4 [12800/16395 (78%)]\tLoss: 1.529428\n",
            "Train Epoch: 4 [16000/16395 (97%)]\tLoss: 1.378297\n",
            "\\Vaild set: Avg. loss: 1.4780, Accuracy: 1988/4103 (48%)\n",
            "\n",
            "Train Epoch: 5 [0/16395 (0%)]\tLoss: 1.345681\n",
            "Train Epoch: 5 [3200/16395 (19%)]\tLoss: 1.411477\n",
            "Train Epoch: 5 [6400/16395 (39%)]\tLoss: 1.442346\n",
            "Train Epoch: 5 [9600/16395 (58%)]\tLoss: 1.509683\n",
            "Train Epoch: 5 [12800/16395 (78%)]\tLoss: 1.249245\n",
            "Train Epoch: 5 [16000/16395 (97%)]\tLoss: 1.273993\n",
            "\\Vaild set: Avg. loss: 1.4059, Accuracy: 2018/4103 (49%)\n",
            "\n",
            "Train Epoch: 6 [0/16395 (0%)]\tLoss: 1.351401\n",
            "Train Epoch: 6 [3200/16395 (19%)]\tLoss: 1.380878\n",
            "Train Epoch: 6 [6400/16395 (39%)]\tLoss: 1.550638\n",
            "Train Epoch: 6 [9600/16395 (58%)]\tLoss: 1.265818\n",
            "Train Epoch: 6 [12800/16395 (78%)]\tLoss: 1.144794\n",
            "Train Epoch: 6 [16000/16395 (97%)]\tLoss: 1.316277\n",
            "\\Vaild set: Avg. loss: 1.4810, Accuracy: 2076/4103 (51%)\n",
            "\n",
            "Train Epoch: 7 [0/16395 (0%)]\tLoss: 1.182067\n",
            "Train Epoch: 7 [3200/16395 (19%)]\tLoss: 1.206947\n",
            "Train Epoch: 7 [6400/16395 (39%)]\tLoss: 1.259076\n",
            "Train Epoch: 7 [9600/16395 (58%)]\tLoss: 1.259114\n",
            "Train Epoch: 7 [12800/16395 (78%)]\tLoss: 1.334817\n",
            "Train Epoch: 7 [16000/16395 (97%)]\tLoss: 1.404612\n",
            "\\Vaild set: Avg. loss: 1.4445, Accuracy: 2104/4103 (51%)\n",
            "\n",
            "Train Epoch: 8 [0/16395 (0%)]\tLoss: 1.165007\n",
            "Train Epoch: 8 [3200/16395 (19%)]\tLoss: 1.131638\n",
            "Train Epoch: 8 [6400/16395 (39%)]\tLoss: 1.050571\n",
            "Train Epoch: 8 [9600/16395 (58%)]\tLoss: 1.238172\n",
            "Train Epoch: 8 [12800/16395 (78%)]\tLoss: 1.236177\n",
            "Train Epoch: 8 [16000/16395 (97%)]\tLoss: 1.277092\n",
            "\\Vaild set: Avg. loss: 1.4296, Accuracy: 2135/4103 (52%)\n",
            "\n",
            "Train Epoch: 9 [0/16395 (0%)]\tLoss: 1.021508\n",
            "Train Epoch: 9 [3200/16395 (19%)]\tLoss: 1.201782\n",
            "Train Epoch: 9 [6400/16395 (39%)]\tLoss: 1.103741\n",
            "Train Epoch: 9 [9600/16395 (58%)]\tLoss: 1.050010\n",
            "Train Epoch: 9 [12800/16395 (78%)]\tLoss: 1.059186\n",
            "Train Epoch: 9 [16000/16395 (97%)]\tLoss: 1.148007\n",
            "\\Vaild set: Avg. loss: 1.1872, Accuracy: 2184/4103 (53%)\n",
            "\n",
            "Train Epoch: 10 [0/16395 (0%)]\tLoss: 1.082466\n",
            "Train Epoch: 10 [3200/16395 (19%)]\tLoss: 1.188346\n",
            "Train Epoch: 10 [6400/16395 (39%)]\tLoss: 1.093127\n",
            "Train Epoch: 10 [9600/16395 (58%)]\tLoss: 1.197966\n",
            "Train Epoch: 10 [12800/16395 (78%)]\tLoss: 1.116637\n",
            "Train Epoch: 10 [16000/16395 (97%)]\tLoss: 0.954657\n",
            "\\Vaild set: Avg. loss: 1.0772, Accuracy: 2322/4103 (57%)\n",
            "\n"
          ],
          "name": "stdout"
        }
      ]
    },
    {
      "cell_type": "markdown",
      "metadata": {
        "id": "VQtK0KfarUO3",
        "colab_type": "text"
      },
      "source": [
        "## Evaluating the Model's Performance\n",
        "\n",
        "And that's it. With just 3 epochs of training we  managed to achieve 39% accuracy on the test set! We started out with randomly initialized parameters and as expected only got about 2% accuracy on the test set before starting the training.\n",
        "\n",
        "Let's plot our training curve."
      ]
    },
    {
      "cell_type": "code",
      "metadata": {
        "id": "oqeLSmXonJxU",
        "colab_type": "code",
        "outputId": "2d39a1ea-1625-4c55-c7f6-e1c41679d953",
        "colab": {
          "base_uri": "https://localhost:8080/",
          "height": 351
        }
      },
      "source": [
        "# Fix it to say Valid Loss\n",
        "\n",
        "fig = plt.figure(figsize=(8,5))\n",
        "plt.plot(train_counter, train_losses, color='blue')\n",
        "plt.scatter(valid_counter, valid_losses, color='red')\n",
        "plt.legend(['Train Loss', 'Test Loss'], loc='upper right')\n",
        "plt.xlabel('number of training examples seen')\n",
        "plt.ylabel('negative log likelihood loss')"
      ],
      "execution_count": 31,
      "outputs": [
        {
          "output_type": "execute_result",
          "data": {
            "text/plain": [
              "Text(0, 0.5, 'negative log likelihood loss')"
            ]
          },
          "metadata": {
            "tags": []
          },
          "execution_count": 31
        },
        {
          "output_type": "display_data",
          "data": {
            "image/png": "[encoded data removed]",
            "text/plain": [
              "<Figure size 576x360 with 1 Axes>"
            ]
          },
          "metadata": {
            "tags": []
          }
        }
      ]
    },
    {
      "cell_type": "markdown",
      "metadata": {
        "id": "AA3PiXm_rOTI",
        "colab_type": "text"
      },
      "source": [
        "Judging from the training curve  it looks like we could even continue training for a few more epochs!\n",
        "\n",
        "\n",
        "But before that let's again look at a few examples as we did earlier and compare the model's output."
      ]
    },
    {
      "cell_type": "code",
      "metadata": {
        "id": "vKZ9FLXjFB9T",
        "colab_type": "code",
        "colab": {}
      },
      "source": [
        "examples = enumerate(test_loader)\n",
        "batch_idx, (example_data, example_targets) = next(examples)"
      ],
      "execution_count": 0,
      "outputs": []
    },
    {
      "cell_type": "code",
      "metadata": {
        "id": "J5j6uvRnophS",
        "colab_type": "code",
        "outputId": "bb8a6fff-722f-4ea5-e3af-6546fb788f61",
        "colab": {
          "base_uri": "https://localhost:8080/",
          "height": 89
        }
      },
      "source": [
        "# sample output\n",
        "\n",
        "with torch.no_grad():\n",
        "  output = network(example_data)\n",
        "\n",
        "output[0]"
      ],
      "execution_count": 33,
      "outputs": [
        {
          "output_type": "stream",
          "text": [
            "/usr/local/lib/python3.6/dist-packages/ipykernel_launcher.py:58: UserWarning: Implicit dimension choice for log_softmax has been deprecated. Change the call to include dim=X as an argument.\n"
          ],
          "name": "stderr"
        },
        {
          "output_type": "execute_result",
          "data": {
            "text/plain": [
              "tensor([-2.1029, -1.5769, -1.8366, -2.3662, -2.1099, -1.8768, -3.6144, -2.1818,\n",
              "        -6.7372, -5.8709])"
            ]
          },
          "metadata": {
            "tags": []
          },
          "execution_count": 33
        }
      ]
    },
    {
      "cell_type": "code",
      "metadata": {
        "id": "DqRcbIQ9o08g",
        "colab_type": "code",
        "outputId": "057768d5-f025-45a6-9973-aeae2ac6751a",
        "colab": {
          "base_uri": "https://localhost:8080/",
          "height": 500
        }
      },
      "source": [
        "fig = plt.figure(figsize=(7,7))\n",
        "\n",
        "for i in range(9):\n",
        "  plt.subplot(3,3,i+1)\n",
        "  plt.tight_layout()\n",
        "  plt.imshow(disp_image(example_data[i]), interpolation='none')\n",
        "  plt.title(\"Prediction: {}\".format(\n",
        "    output.data.max(1, keepdim=True)[1][i].item()))\n",
        "  plt.xticks([])\n",
        "  plt.yticks([])"
      ],
      "execution_count": 34,
      "outputs": [
        {
          "output_type": "display_data",
          "data": {
            "image/png": "[encoded data removed]",
            "text/plain": [
              "<Figure size 504x504 with 9 Axes>"
            ]
          },
          "metadata": {
            "tags": []
          }
        }
      ]
    },
    {
      "cell_type": "markdown",
      "metadata": {
        "id": "HJqxzoOgrFok",
        "colab_type": "text"
      },
      "source": [
        "\n",
        "\n",
        "## Continued Training from Checkpoints\n",
        "\n",
        "Now let's continue training the network, or rather see how we can continue training from the state_dicts we saved during our first training run. We'll initialize a new set of network and optimizers."
      ]
    },
    {
      "cell_type": "code",
      "metadata": {
        "id": "wejeP6XGo335",
        "colab_type": "code",
        "colab": {}
      },
      "source": [
        "continued_network = Net()\n",
        "continued_optimizer = optim.Adam(network.parameters())"
      ],
      "execution_count": 0,
      "outputs": []
    },
    {
      "cell_type": "markdown",
      "metadata": {
        "id": "sivwUYHvrA6C",
        "colab_type": "text"
      },
      "source": [
        "Using `.load_state_dict()` we can now load the internal state of the network and optimizer when we last saved them."
      ]
    },
    {
      "cell_type": "code",
      "metadata": {
        "id": "0PsXltKcpDyP",
        "colab_type": "code",
        "colab": {}
      },
      "source": [
        "network_state_dict = torch.load('/results/model.pth')\n",
        "continued_network.load_state_dict(network_state_dict)\n",
        "\n",
        "optimizer_state_dict = torch.load('/results/optimizer.pth')\n",
        "continued_optimizer.load_state_dict(optimizer_state_dict)"
      ],
      "execution_count": 0,
      "outputs": []
    },
    {
      "cell_type": "markdown",
      "metadata": {
        "id": "DzM4XYfDq-Dm",
        "colab_type": "text"
      },
      "source": [
        "Again running a training loop should immediately pick up the training where we left it. To check on that let's simply use the same lists as before to keep track of the loss values. Due to the way we constructed the test counter for the number of training examples seen we manually have to append to it here."
      ]
    },
    {
      "cell_type": "code",
      "metadata": {
        "id": "_uhydGnjpdNP",
        "colab_type": "code",
        "outputId": "b3fa71fe-1e29-4fdf-b7e6-668ddceafcb2",
        "colab": {
          "base_uri": "https://localhost:8080/",
          "height": 1000
        }
      },
      "source": [
        "# change the range to 11,20 for next run..\n",
        "for i in range(10,20):\n",
        "  valid_counter.append(i*len(train_loader.dataset))\n",
        "  train(i)\n",
        "  valid()"
      ],
      "execution_count": 37,
      "outputs": [
        {
          "output_type": "stream",
          "text": [
            "/usr/local/lib/python3.6/dist-packages/ipykernel_launcher.py:58: UserWarning: Implicit dimension choice for log_softmax has been deprecated. Change the call to include dim=X as an argument.\n"
          ],
          "name": "stderr"
        },
        {
          "output_type": "stream",
          "text": [
            "Train Epoch: 10 [0/16395 (0%)]\tLoss: 1.045149\n",
            "Train Epoch: 10 [3200/16395 (19%)]\tLoss: 1.195759\n",
            "Train Epoch: 10 [6400/16395 (39%)]\tLoss: 1.219162\n",
            "Train Epoch: 10 [9600/16395 (58%)]\tLoss: 1.287989\n",
            "Train Epoch: 10 [12800/16395 (78%)]\tLoss: 1.330945\n",
            "Train Epoch: 10 [16000/16395 (97%)]\tLoss: 0.985981\n",
            "\\Vaild set: Avg. loss: 1.1197, Accuracy: 2242/4103 (55%)\n",
            "\n",
            "Train Epoch: 11 [0/16395 (0%)]\tLoss: 0.821502\n",
            "Train Epoch: 11 [3200/16395 (19%)]\tLoss: 1.091441\n",
            "Train Epoch: 11 [6400/16395 (39%)]\tLoss: 0.893576\n",
            "Train Epoch: 11 [9600/16395 (58%)]\tLoss: 1.282753\n",
            "Train Epoch: 11 [12800/16395 (78%)]\tLoss: 1.082549\n",
            "Train Epoch: 11 [16000/16395 (97%)]\tLoss: 1.198062\n",
            "\\Vaild set: Avg. loss: 1.0749, Accuracy: 2326/4103 (57%)\n",
            "\n",
            "Train Epoch: 12 [0/16395 (0%)]\tLoss: 1.314803\n",
            "Train Epoch: 12 [3200/16395 (19%)]\tLoss: 0.999921\n",
            "Train Epoch: 12 [6400/16395 (39%)]\tLoss: 0.925832\n",
            "Train Epoch: 12 [9600/16395 (58%)]\tLoss: 1.200610\n",
            "Train Epoch: 12 [12800/16395 (78%)]\tLoss: 0.908380\n",
            "Train Epoch: 12 [16000/16395 (97%)]\tLoss: 1.074780\n",
            "\\Vaild set: Avg. loss: 1.0539, Accuracy: 2330/4103 (57%)\n",
            "\n",
            "Train Epoch: 13 [0/16395 (0%)]\tLoss: 0.937180\n",
            "Train Epoch: 13 [3200/16395 (19%)]\tLoss: 1.068336\n",
            "Train Epoch: 13 [6400/16395 (39%)]\tLoss: 1.066846\n",
            "Train Epoch: 13 [9600/16395 (58%)]\tLoss: 0.975602\n",
            "Train Epoch: 13 [12800/16395 (78%)]\tLoss: 1.155225\n",
            "Train Epoch: 13 [16000/16395 (97%)]\tLoss: 1.043547\n",
            "\\Vaild set: Avg. loss: 1.1743, Accuracy: 2220/4103 (54%)\n",
            "\n",
            "Train Epoch: 14 [0/16395 (0%)]\tLoss: 0.828016\n",
            "Train Epoch: 14 [3200/16395 (19%)]\tLoss: 1.022944\n",
            "Train Epoch: 14 [6400/16395 (39%)]\tLoss: 1.178605\n",
            "Train Epoch: 14 [9600/16395 (58%)]\tLoss: 0.861932\n",
            "Train Epoch: 14 [12800/16395 (78%)]\tLoss: 1.091375\n",
            "Train Epoch: 14 [16000/16395 (97%)]\tLoss: 0.972349\n",
            "\\Vaild set: Avg. loss: 1.0974, Accuracy: 2278/4103 (56%)\n",
            "\n",
            "Train Epoch: 15 [0/16395 (0%)]\tLoss: 1.165528\n",
            "Train Epoch: 15 [3200/16395 (19%)]\tLoss: 1.070667\n",
            "Train Epoch: 15 [6400/16395 (39%)]\tLoss: 1.013047\n",
            "Train Epoch: 15 [9600/16395 (58%)]\tLoss: 1.043083\n",
            "Train Epoch: 15 [12800/16395 (78%)]\tLoss: 1.372730\n",
            "Train Epoch: 15 [16000/16395 (97%)]\tLoss: 0.914509\n",
            "\\Vaild set: Avg. loss: 0.9753, Accuracy: 2420/4103 (59%)\n",
            "\n",
            "Train Epoch: 16 [0/16395 (0%)]\tLoss: 1.217746\n",
            "Train Epoch: 16 [3200/16395 (19%)]\tLoss: 1.133112\n",
            "Train Epoch: 16 [6400/16395 (39%)]\tLoss: 0.939574\n",
            "Train Epoch: 16 [9600/16395 (58%)]\tLoss: 1.048236\n",
            "Train Epoch: 16 [12800/16395 (78%)]\tLoss: 1.180800\n",
            "Train Epoch: 16 [16000/16395 (97%)]\tLoss: 1.246178\n",
            "\\Vaild set: Avg. loss: 1.1247, Accuracy: 2251/4103 (55%)\n",
            "\n",
            "Train Epoch: 17 [0/16395 (0%)]\tLoss: 0.951892\n",
            "Train Epoch: 17 [3200/16395 (19%)]\tLoss: 1.340142\n",
            "Train Epoch: 17 [6400/16395 (39%)]\tLoss: 1.020362\n",
            "Train Epoch: 17 [9600/16395 (58%)]\tLoss: 1.011236\n",
            "Train Epoch: 17 [12800/16395 (78%)]\tLoss: 1.157548\n",
            "Train Epoch: 17 [16000/16395 (97%)]\tLoss: 1.030868\n",
            "\\Vaild set: Avg. loss: 1.1196, Accuracy: 2256/4103 (55%)\n",
            "\n",
            "Train Epoch: 18 [0/16395 (0%)]\tLoss: 0.892165\n",
            "Train Epoch: 18 [3200/16395 (19%)]\tLoss: 1.023321\n",
            "Train Epoch: 18 [6400/16395 (39%)]\tLoss: 0.883525\n",
            "Train Epoch: 18 [9600/16395 (58%)]\tLoss: 1.073145\n",
            "Train Epoch: 18 [12800/16395 (78%)]\tLoss: 1.072007\n",
            "Train Epoch: 18 [16000/16395 (97%)]\tLoss: 0.979062\n",
            "\\Vaild set: Avg. loss: 0.9275, Accuracy: 2536/4103 (62%)\n",
            "\n",
            "Train Epoch: 19 [0/16395 (0%)]\tLoss: 1.093741\n",
            "Train Epoch: 19 [3200/16395 (19%)]\tLoss: 1.001167\n",
            "Train Epoch: 19 [6400/16395 (39%)]\tLoss: 1.018180\n",
            "Train Epoch: 19 [9600/16395 (58%)]\tLoss: 0.871705\n",
            "Train Epoch: 19 [12800/16395 (78%)]\tLoss: 0.816945\n",
            "Train Epoch: 19 [16000/16395 (97%)]\tLoss: 0.875385\n",
            "\\Vaild set: Avg. loss: 0.8672, Accuracy: 2631/4103 (64%)\n",
            "\n"
          ],
          "name": "stdout"
        }
      ]
    },
    {
      "cell_type": "markdown",
      "metadata": {
        "id": "veMHKm7Qq43f",
        "colab_type": "text"
      },
      "source": [
        "Great! We again see a (much slower) increase in test set accuracy from epoch to epoch. Let's visualize this to further inspect the training progress."
      ]
    },
    {
      "cell_type": "code",
      "metadata": {
        "id": "7AAvgZuupfsf",
        "colab_type": "code",
        "outputId": "2401efc7-1f1f-42a8-f6ed-0f71231ede84",
        "colab": {
          "base_uri": "https://localhost:8080/",
          "height": 351
        }
      },
      "source": [
        "fig = plt.figure(figsize=(8,5))\n",
        "plt.plot(train_counter, train_losses, color='blue')\n",
        "plt.scatter(valid_counter, valid_losses, color='red')\n",
        "plt.legend(['Train Loss', 'Valid Loss'], loc='upper right')\n",
        "plt.xlabel('number of training examples seen')\n",
        "plt.ylabel('negative log likelihood loss')"
      ],
      "execution_count": 38,
      "outputs": [
        {
          "output_type": "execute_result",
          "data": {
            "text/plain": [
              "Text(0, 0.5, 'negative log likelihood loss')"
            ]
          },
          "metadata": {
            "tags": []
          },
          "execution_count": 38
        },
        {
          "output_type": "display_data",
          "data": {
            "image/png": "[encoded data removed]",
            "text/plain": [
              "<Figure size 576x360 with 1 Axes>"
            ]
          },
          "metadata": {
            "tags": []
          }
        }
      ]
    },
    {
      "cell_type": "markdown",
      "metadata": {
        "id": "2YpkFKKfqzbg",
        "colab_type": "text"
      },
      "source": [
        "That still looks like a rather smooth learning curve just as if we initially would've trained for 8 epochs! Remember that we just appended values to the same lists starting from the 5th red dot onward.\n",
        "\n",
        "From this we can conclue two things:\n",
        "\n",
        "1. Continuing from the checkpointed internal state worked as intended.\n",
        "\n",
        "2. We still don't seem to run into overfitting issues! It looks like our dropout layers did a good job regularizing the model.\n",
        "\n",
        "In summary we built a new environment with PyTorch and TorchVision, used it to classifiy handwritten digits from the MNIST dataset and hopefully developed a good intuition using PyTorch. For further information the official PyTorch documentation is really nicely written and the forums are also quite active!"
      ]
    },
    {
      "cell_type": "markdown",
      "metadata": {
        "id": "G-tPut9SKeBO",
        "colab_type": "text"
      },
      "source": [
        "## Confusion Matrix"
      ]
    },
    {
      "cell_type": "code",
      "metadata": {
        "id": "p6D86dpuKKcI",
        "colab_type": "code",
        "outputId": "525ce107-fcf5-48ea-c250-3ba544aac76a",
        "colab": {
          "base_uri": "https://localhost:8080/",
          "height": 55
        }
      },
      "source": [
        "network.eval()\n",
        "\n",
        "with torch.no_grad():\n",
        "  for data, target in test_loader:\n",
        "    output = network(data)\n",
        "    pred = output.data.max(1, keepdim=True)[1]"
      ],
      "execution_count": 39,
      "outputs": [
        {
          "output_type": "stream",
          "text": [
            "/usr/local/lib/python3.6/dist-packages/ipykernel_launcher.py:58: UserWarning: Implicit dimension choice for log_softmax has been deprecated. Change the call to include dim=X as an argument.\n"
          ],
          "name": "stderr"
        }
      ]
    },
    {
      "cell_type": "code",
      "metadata": {
        "id": "Z9N0XHetKsvx",
        "colab_type": "code",
        "colab": {}
      },
      "source": [
        "pred = pred.numpy().reshape(-1)"
      ],
      "execution_count": 0,
      "outputs": []
    },
    {
      "cell_type": "code",
      "metadata": {
        "id": "wEbqaywXKvBm",
        "colab_type": "code",
        "outputId": "69b95b2e-8993-4c34-c56d-00ebc89b4eb3",
        "colab": {
          "base_uri": "https://localhost:8080/",
          "height": 35
        }
      },
      "source": [
        "pred.shape"
      ],
      "execution_count": 41,
      "outputs": [
        {
          "output_type": "execute_result",
          "data": {
            "text/plain": [
              "(3655,)"
            ]
          },
          "metadata": {
            "tags": []
          },
          "execution_count": 41
        }
      ]
    },
    {
      "cell_type": "code",
      "metadata": {
        "id": "pyOcRfmiK0JP",
        "colab_type": "code",
        "colab": {}
      },
      "source": [
        "target = target.numpy()"
      ],
      "execution_count": 0,
      "outputs": []
    },
    {
      "cell_type": "code",
      "metadata": {
        "id": "WeMlJnSkLGgg",
        "colab_type": "code",
        "colab": {}
      },
      "source": [
        "from pandas import DataFrame as df\n",
        "from sklearn.metrics import confusion_matrix"
      ],
      "execution_count": 0,
      "outputs": []
    },
    {
      "cell_type": "code",
      "metadata": {
        "id": "LqbzrQkiLlRB",
        "colab_type": "code",
        "colab": {}
      },
      "source": [
        "cm = confusion_matrix(target, pred)"
      ],
      "execution_count": 0,
      "outputs": []
    },
    {
      "cell_type": "code",
      "metadata": {
        "id": "N1yRe92bNLvz",
        "colab_type": "code",
        "colab": {}
      },
      "source": [
        "vals = [i+1 for i in range(8)]"
      ],
      "execution_count": 0,
      "outputs": []
    },
    {
      "cell_type": "code",
      "metadata": {
        "id": "OlzaEPKrNWlb",
        "colab_type": "code",
        "outputId": "2fdd3763-b598-4ce6-de4e-efd25d2eb4e6",
        "colab": {
          "base_uri": "https://localhost:8080/",
          "height": 288
        }
      },
      "source": [
        "df2 = df(cm, vals, vals)\n",
        "df2"
      ],
      "execution_count": 48,
      "outputs": [
        {
          "output_type": "execute_result",
          "data": {
            "text/html": [
              "<div>\n",
              "<style scoped>\n",
              "    .dataframe tbody tr th:only-of-type {\n",
              "        vertical-align: middle;\n",
              "    }\n",
              "\n",
              "    .dataframe tbody tr th {\n",
              "        vertical-align: top;\n",
              "    }\n",
              "\n",
              "    .dataframe thead th {\n",
              "        text-align: right;\n",
              "    }\n",
              "</style>\n",
              "<table border=\"1\" class=\"dataframe\">\n",
              "  <thead>\n",
              "    <tr style=\"text-align: right;\">\n",
              "      <th></th>\n",
              "      <th>1</th>\n",
              "      <th>2</th>\n",
              "      <th>3</th>\n",
              "      <th>4</th>\n",
              "      <th>5</th>\n",
              "      <th>6</th>\n",
              "      <th>7</th>\n",
              "      <th>8</th>\n",
              "    </tr>\n",
              "  </thead>\n",
              "  <tbody>\n",
              "    <tr>\n",
              "      <th>1</th>\n",
              "      <td>0</td>\n",
              "      <td>80</td>\n",
              "      <td>0</td>\n",
              "      <td>0</td>\n",
              "      <td>0</td>\n",
              "      <td>75</td>\n",
              "      <td>0</td>\n",
              "      <td>0</td>\n",
              "    </tr>\n",
              "    <tr>\n",
              "      <th>2</th>\n",
              "      <td>0</td>\n",
              "      <td>124</td>\n",
              "      <td>0</td>\n",
              "      <td>0</td>\n",
              "      <td>0</td>\n",
              "      <td>137</td>\n",
              "      <td>0</td>\n",
              "      <td>0</td>\n",
              "    </tr>\n",
              "    <tr>\n",
              "      <th>3</th>\n",
              "      <td>0</td>\n",
              "      <td>10</td>\n",
              "      <td>944</td>\n",
              "      <td>0</td>\n",
              "      <td>0</td>\n",
              "      <td>2</td>\n",
              "      <td>0</td>\n",
              "      <td>7</td>\n",
              "    </tr>\n",
              "    <tr>\n",
              "      <th>4</th>\n",
              "      <td>0</td>\n",
              "      <td>0</td>\n",
              "      <td>471</td>\n",
              "      <td>0</td>\n",
              "      <td>0</td>\n",
              "      <td>0</td>\n",
              "      <td>0</td>\n",
              "      <td>0</td>\n",
              "    </tr>\n",
              "    <tr>\n",
              "      <th>5</th>\n",
              "      <td>0</td>\n",
              "      <td>47</td>\n",
              "      <td>45</td>\n",
              "      <td>0</td>\n",
              "      <td>0</td>\n",
              "      <td>47</td>\n",
              "      <td>0</td>\n",
              "      <td>2</td>\n",
              "    </tr>\n",
              "    <tr>\n",
              "      <th>6</th>\n",
              "      <td>0</td>\n",
              "      <td>10</td>\n",
              "      <td>109</td>\n",
              "      <td>0</td>\n",
              "      <td>0</td>\n",
              "      <td>86</td>\n",
              "      <td>0</td>\n",
              "      <td>0</td>\n",
              "    </tr>\n",
              "    <tr>\n",
              "      <th>7</th>\n",
              "      <td>1</td>\n",
              "      <td>15</td>\n",
              "      <td>17</td>\n",
              "      <td>0</td>\n",
              "      <td>0</td>\n",
              "      <td>14</td>\n",
              "      <td>26</td>\n",
              "      <td>10</td>\n",
              "    </tr>\n",
              "    <tr>\n",
              "      <th>8</th>\n",
              "      <td>0</td>\n",
              "      <td>7</td>\n",
              "      <td>0</td>\n",
              "      <td>0</td>\n",
              "      <td>0</td>\n",
              "      <td>0</td>\n",
              "      <td>10</td>\n",
              "      <td>1359</td>\n",
              "    </tr>\n",
              "  </tbody>\n",
              "</table>\n",
              "</div>"
            ],
            "text/plain": [
              "   1    2    3  4  5    6   7     8\n",
              "1  0   80    0  0  0   75   0     0\n",
              "2  0  124    0  0  0  137   0     0\n",
              "3  0   10  944  0  0    2   0     7\n",
              "4  0    0  471  0  0    0   0     0\n",
              "5  0   47   45  0  0   47   0     2\n",
              "6  0   10  109  0  0   86   0     0\n",
              "7  1   15   17  0  0   14  26    10\n",
              "8  0    7    0  0  0    0  10  1359"
            ]
          },
          "metadata": {
            "tags": []
          },
          "execution_count": 48
        }
      ]
    },
    {
      "cell_type": "code",
      "metadata": {
        "id": "uepyRYXVNtqD",
        "colab_type": "code",
        "colab": {}
      },
      "source": [
        "def value_counts(x):\n",
        "  unique, counts = np.unique(x, return_counts=True)\n",
        "  print(np.asarray((unique, counts)).T)"
      ],
      "execution_count": 0,
      "outputs": []
    },
    {
      "cell_type": "code",
      "metadata": {
        "id": "P9mSxE54NqES",
        "colab_type": "code",
        "outputId": "62d81a08-0a08-4079-d239-4f844282bea3",
        "colab": {
          "base_uri": "https://localhost:8080/",
          "height": 155
        }
      },
      "source": [
        "value_counts(target)"
      ],
      "execution_count": 50,
      "outputs": [
        {
          "output_type": "stream",
          "text": [
            "[[   0  155]\n",
            " [   1  261]\n",
            " [   2  963]\n",
            " [   3  471]\n",
            " [   4  141]\n",
            " [   5  205]\n",
            " [   6   83]\n",
            " [   7 1376]]\n"
          ],
          "name": "stdout"
        }
      ]
    },
    {
      "cell_type": "code",
      "metadata": {
        "id": "TeYdTBBMNr9s",
        "colab_type": "code",
        "outputId": "313cab82-ca9d-426e-8862-844550c9eee9",
        "colab": {
          "base_uri": "https://localhost:8080/",
          "height": 121
        }
      },
      "source": [
        "value_counts(pred)"
      ],
      "execution_count": 52,
      "outputs": [
        {
          "output_type": "stream",
          "text": [
            "[[   0    1]\n",
            " [   1  293]\n",
            " [   2 1586]\n",
            " [   5  361]\n",
            " [   6   36]\n",
            " [   7 1378]]\n"
          ],
          "name": "stdout"
        }
      ]
    },
    {
      "cell_type": "markdown",
      "metadata": {
        "id": "rqBgoAueWycl",
        "colab_type": "text"
      },
      "source": [
        "## Visualise Activations"
      ]
    },
    {
      "cell_type": "code",
      "metadata": {
        "id": "NutwEk1WXHTg",
        "colab_type": "code",
        "colab": {}
      },
      "source": [
        "# from torch.utils.tensorboard import SummaryWriter\n",
        "# import numpy as np\n",
        "\n",
        "# writer = SummaryWriter()\n",
        "\n",
        "# writer.add_pr_curve('pr_curve', target, pred, 0)\n",
        "# writer.close()"
      ],
      "execution_count": 0,
      "outputs": []
    },
    {
      "cell_type": "code",
      "metadata": {
        "id": "G25amWNgYf28",
        "colab_type": "code",
        "outputId": "1ff002f8-4c15-4882-a150-af5b2c96c178",
        "colab": {
          "base_uri": "https://localhost:8080/",
          "height": 89
        }
      },
      "source": [
        "# ! zip -r -X runs.zip runs"
      ],
      "execution_count": 0,
      "outputs": [
        {
          "output_type": "stream",
          "text": [
            "  adding: runs/ (stored 0%)\n",
            "  adding: runs/Nov24_07-48-13_6abaa22567ef/ (stored 0%)\n",
            "  adding: runs/Nov24_07-48-13_6abaa22567ef/events.out.tfevents.1574581693.6abaa22567ef.123.5 (deflated 5%)\n"
          ],
          "name": "stdout"
        }
      ]
    },
    {
      "cell_type": "code",
      "metadata": {
        "id": "oLLga_0SZseH",
        "colab_type": "code",
        "colab": {}
      },
      "source": [
        "# https://pytorch.org/docs/stable/tensorboard.html\n",
        "# %load_ext tensorboard\n",
        "# %tensorboard --logdir \"$runs\""
      ],
      "execution_count": 0,
      "outputs": []
    },
    {
      "cell_type": "code",
      "metadata": {
        "id": "_8VNi_mE6oUw",
        "colab_type": "code",
        "colab": {}
      },
      "source": [
        "# http://snappishproductions.com/blog/2018/01/03/class-activation-mapping-in-pytorch.html\n",
        "# https://github.com/utkuozbulak/pytorch-cnn-visualizations/blob/master/src/gradcam.py\n",
        "\n"
      ],
      "execution_count": 0,
      "outputs": []
    },
    {
      "cell_type": "code",
      "metadata": {
        "id": "rWSCi7UPJOg_",
        "colab_type": "code",
        "colab": {}
      },
      "source": [
        "# https://pytorch.org/docs/stable/_modules/torch/optim/lr_scheduler.html"
      ],
      "execution_count": 0,
      "outputs": []
    },
    {
      "cell_type": "code",
      "metadata": {
        "id": "3M_79UqGJPv6",
        "colab_type": "code",
        "colab": {}
      },
      "source": [
        ""
      ],
      "execution_count": 0,
      "outputs": []
    }
  ]
}