{
  "nbformat": 4,
  "nbformat_minor": 0,
  "metadata": {
    "colab": {
      "name": "bacteria-cnn.ipynb",
      "provenance": [],
      "toc_visible": true
    },
    "kernelspec": {
      "name": "python3",
      "display_name": "Python 3"
    }
  },
  "cells": [
    {
      "cell_type": "markdown",
      "metadata": {
        "id": "QoRNDsO6tgOB",
        "colab_type": "text"
      },
      "source": [
        "# Shallow Convolutional Neural Network\n",
        "\n",
        "Author: Akhil Punia\n",
        "\n",
        "Date: 11.24.19\n",
        "\n",
        "**Completed:**\n",
        "\n",
        "1.   Build Basic CNN Architecture\n",
        "2.   Set Train, Test & Valid Routine\n",
        "3.   Normalize Images\n",
        "4.   He Weight Initialisation & Adam Optimizer\n",
        "5.   Confusion Matrix\n",
        "\n",
        "**TO DO:**\n",
        "\n",
        "1.   Reweigh Loss Function for Class Imabalance\n",
        "2.   Log Train, Test Error to Tensorboard  \n",
        "3.   Log PR Curve to Tensorboard\n",
        "4.   Plot Class Activation Maps\n",
        "\n"
      ]
    },
    {
      "cell_type": "markdown",
      "metadata": {
        "id": "MnCrERbQtrvG",
        "colab_type": "text"
      },
      "source": [
        "\n",
        "## Setting up the Environment\n"
      ]
    },
    {
      "cell_type": "code",
      "metadata": {
        "id": "eBYv15xvlOR_",
        "colab_type": "code",
        "colab": {}
      },
      "source": [
        "import torch\n",
        "import torchvision\n",
        "\n",
        "import numpy as np \n",
        "from torchvision import transforms, datasets"
      ],
      "execution_count": 0,
      "outputs": []
    },
    {
      "cell_type": "markdown",
      "metadata": {
        "id": "soHVzYt_t0NB",
        "colab_type": "text"
      },
      "source": [
        "## Preparing the Dataset\n"
      ]
    },
    {
      "cell_type": "code",
      "metadata": {
        "id": "mdbTZ-pmoXUs",
        "colab_type": "code",
        "colab": {}
      },
      "source": [
        "! wget -q https://storage.googleapis.com/capston-fs7/img_patches_128_c7.zip\n",
        "! unzip -q '/content/img_patches_128_c7.zip' "
      ],
      "execution_count": 0,
      "outputs": []
    },
    {
      "cell_type": "code",
      "metadata": {
        "id": "HnQYLhjAlPPM",
        "colab_type": "code",
        "outputId": "9912f78f-3808-44b2-9e64-f4bbc84605d5",
        "colab": {
          "base_uri": "https://localhost:8080/",
          "height": 35
        }
      },
      "source": [
        "n_epochs = 10\n",
        "# batch_size_train = 64\n",
        "# batch_size_test = 1000\n",
        "learning_rate = 0.01\n",
        "momentum = 0.5\n",
        "log_interval = 20\n",
        "\n",
        "data_dir='/content/img_patches_128_c7'\n",
        "train_dir = data_dir + '/Serial'\n",
        "# valid_dir = data_dir + '/Streak'\n",
        "test_dir = data_dir + '/Control'\n",
        "\n",
        "batch_size_train = 64\n",
        "# batch_size_valid = 64\n",
        "batch_size_test = 867\n",
        "\n",
        "random_seed = 1\n",
        "torch.backends.cudnn.enabled = False\n",
        "torch.manual_seed(random_seed)"
      ],
      "execution_count": 5,
      "outputs": [
        {
          "output_type": "execute_result",
          "data": {
            "text/plain": [
              "<torch._C.Generator at 0x7fb9f9745c50>"
            ]
          },
          "metadata": {
            "tags": []
          },
          "execution_count": 5
        }
      ]
    },
    {
      "cell_type": "code",
      "metadata": {
        "id": "r-FKjL_dcIoV",
        "colab_type": "code",
        "colab": {}
      },
      "source": [
        "# scale the image down by it's global mean and std. deviation\n",
        "# https://discuss.pytorch.org/t/about-normalization-using-pre-trained-vgg16-networks/23560/6\n",
        "\n",
        "dataset = datasets.ImageFolder(train_dir, transform=transforms.Compose([transforms.ToTensor()]))\n",
        "\n",
        "loader = torch.utils.data.DataLoader(dataset,\n",
        "                                     batch_size=4764,\n",
        "                                     num_workers=1,\n",
        "                                     shuffle=False)\n",
        "\n",
        "mean = 0.\n",
        "std = 0.\n",
        "\n",
        "nb_samples = 0.\n",
        "for data, target in loader:\n",
        "\n",
        "  batch_samples = data.size(0)\n",
        "  data = data.view(batch_samples, data.size(1), -1)\n",
        "  mean += data.mean(2).sum(0)\n",
        "  std += data.std(2).sum(0)\n",
        "  nb_samples += batch_samples\n",
        "\n",
        "mean /= nb_samples\n",
        "std /= nb_samples"
      ],
      "execution_count": 0,
      "outputs": []
    },
    {
      "cell_type": "code",
      "metadata": {
        "id": "jCTZzOjBkdC4",
        "colab_type": "code",
        "colab": {
          "base_uri": "https://localhost:8080/",
          "height": 86
        },
        "outputId": "4b46cd43-2495-481a-dbbc-e70e2e03253b"
      },
      "source": [
        "print('Mean: ', mean,'\\n')\n",
        "print('Std. Dev.: ', std,'\\n')"
      ],
      "execution_count": 7,
      "outputs": [
        {
          "output_type": "stream",
          "text": [
            "Mean:  tensor([0.6453, 0.6027, 0.5345]) \n",
            "\n",
            "Std. Dev.:  tensor([0.1899, 0.2030, 0.2196]) \n",
            "\n"
          ],
          "name": "stdout"
        }
      ]
    },
    {
      "cell_type": "markdown",
      "metadata": {
        "id": "Aix4dYObt5cf",
        "colab_type": "text"
      },
      "source": [
        "For repeatable experiments we have to set random seeds for anything using random number generation - this means `numpy` and `random` as well! It's also worth mentioning that cuDNN uses nondeterministic algorithms which can be disabled setting `torch.backends.cudnn.enabled = False`.\n",
        "\n",
        "Now we'll also need DataLoaders for the dataset. This is where TorchVision comes into play. It let's use load the dataset in a handy way. We'll use a `batch_size` of 64 for training and size 867 for testing on this dataset. \n",
        "\n",
        "The values `0.1307` and `0.3081` used for the `Normalize()` transformation below are the global mean and standard deviation of the dataset, we'll take them as a given here.\n",
        "\n",
        "TorchVision offers a lot of handy transformations, such as cropping or normalization."
      ]
    },
    {
      "cell_type": "code",
      "metadata": {
        "id": "AiCKXU5MlYZZ",
        "colab_type": "code",
        "colab": {}
      },
      "source": [
        "# Define transforms for the training, validation, and testing sets\n",
        "\n",
        "train_transforms = transforms.Compose([#transforms.RandomRotation(30),\n",
        "                                       #transforms.RandomResizedCrop(224),\n",
        "                                       #transforms.RandomHorizontalFlip(),\n",
        "                                       transforms.ToTensor(),\n",
        "                                       transforms.Normalize((0.6453, 0.6027, 0.5345), \n",
        "                                                            (0.1899, 0.2030, 0.2196))])\n",
        "\n",
        "# valid_transforms = transforms.Compose([#transforms.Resize(256),\n",
        "#                                        #transforms.CenterCrop(224),\n",
        "#                                        transforms.ToTensor(),\n",
        "#                                        transforms.Normalize((0.2907, 0.2054, 0.0691), \n",
        "#                                                             (0.3798, 0.4060, 0.4392))])\n",
        "\n",
        "test_transforms  = transforms.Compose([#transforms.Resize(256),\n",
        "                                       #transforms.CenterCrop(224),\n",
        "                                       transforms.ToTensor(),\n",
        "                                       transforms.Normalize((0.6453, 0.6027, 0.5345), \n",
        "                                                            (0.1899, 0.2030, 0.2196))])\n",
        "\n",
        "# TODO: Load the datasets with ImageFolder\n",
        "train_dataset = datasets.ImageFolder(train_dir, \n",
        "                                     transform=train_transforms)\n",
        "\n",
        "# valid_dataset = datasets.ImageFolder(valid_dir, \n",
        "#                                      transform=valid_transforms)\n",
        "\n",
        "test_dataset  = datasets.ImageFolder(test_dir, \n",
        "                                     transform=test_transforms)\n",
        "\n",
        "# TODO: Using the image datasets and the trainforms, define the dataloaders\n",
        "train_loader = torch.utils.data.DataLoader(train_dataset, \n",
        "                                           batch_size=batch_size_train, \n",
        "                                           shuffle=True)\n",
        "\n",
        "# valid_loader = torch.utils.data.DataLoader(valid_dataset, \n",
        "#                                            batch_size=batch_size_valid)\n",
        "\n",
        "test_loader  = torch.utils.data.DataLoader(test_dataset, \n",
        "                                           batch_size=batch_size_test,\n",
        "                                           shuffle=True)"
      ],
      "execution_count": 0,
      "outputs": []
    },
    {
      "cell_type": "code",
      "metadata": {
        "id": "v1PfDOkljSVV",
        "colab_type": "code",
        "colab": {}
      },
      "source": [
        "# train_dataset : 4764\n",
        "# valid_dataset : 8108\n",
        "# test_dataset : 867"
      ],
      "execution_count": 0,
      "outputs": []
    },
    {
      "cell_type": "markdown",
      "metadata": {
        "id": "0LAzrs5XuQ3D",
        "colab_type": "text"
      },
      "source": [
        "PyTorch's `DataLoader` contain a few interesting options other than the dataset and batch size. For example we could use `num_workers > 1` to use subprocesses to asynchronously load data or using pinned RAM (via `pin_memory`) to speed up RAM to GPU transfers. But since these mostly matter when we're using a GPU we can omit them here.\n",
        "\n",
        "Now let's take a look at some examples. We'll use the `test_loader` for this."
      ]
    },
    {
      "cell_type": "code",
      "metadata": {
        "id": "c0lfXsovl778",
        "colab_type": "code",
        "colab": {}
      },
      "source": [
        "examples = enumerate(test_loader)\n",
        "batch_idx, (example_data, example_targets) = next(examples)"
      ],
      "execution_count": 0,
      "outputs": []
    },
    {
      "cell_type": "markdown",
      "metadata": {
        "id": "4cxEQ15OuYiN",
        "colab_type": "text"
      },
      "source": [
        "Ok let's see what one test data batch consists of."
      ]
    },
    {
      "cell_type": "code",
      "metadata": {
        "id": "oZZypOoemEjY",
        "colab_type": "code",
        "outputId": "a18b7db6-538d-4c76-f910-22d2fdc4648f",
        "colab": {
          "base_uri": "https://localhost:8080/",
          "height": 35
        }
      },
      "source": [
        "example_data.shape"
      ],
      "execution_count": 10,
      "outputs": [
        {
          "output_type": "execute_result",
          "data": {
            "text/plain": [
              "torch.Size([867, 3, 128, 128])"
            ]
          },
          "metadata": {
            "tags": []
          },
          "execution_count": 10
        }
      ]
    },
    {
      "cell_type": "code",
      "metadata": {
        "id": "zhF_IHLYsA0v",
        "colab_type": "code",
        "colab": {}
      },
      "source": [
        "# https://discuss.pytorch.org/t/simple-way-to-inverse-transform-normalization/4821/3\n",
        "\n",
        "class UnNormalize(object):\n",
        "    def __init__(self, mean, std):\n",
        "        self.mean = mean\n",
        "        self.std = std\n",
        "\n",
        "    def __call__(self, tensor):\n",
        "        \"\"\"\n",
        "        Args:\n",
        "            tensor (Tensor): Tensor image of size (C, H, W) to be normalized.\n",
        "        Returns:\n",
        "            Tensor: Normalized image.\n",
        "        \"\"\"\n",
        "        for t, m, s in zip(tensor, self.mean, self.std):\n",
        "            t.mul_(s).add_(m)\n",
        "            # The normalize code -> t.sub_(m).div_(s)\n",
        "        return tensor"
      ],
      "execution_count": 0,
      "outputs": []
    },
    {
      "cell_type": "code",
      "metadata": {
        "id": "GHATBVABsXuI",
        "colab_type": "code",
        "colab": {}
      },
      "source": [
        "unorm = UnNormalize(mean=(0.6453, 0.6027, 0.5345), std=(0.1899, 0.2030, 0.2196))"
      ],
      "execution_count": 0,
      "outputs": []
    },
    {
      "cell_type": "code",
      "metadata": {
        "id": "Il7utjffl6UC",
        "colab_type": "code",
        "colab": {}
      },
      "source": [
        "# https://stackoverflow.com/questions/42014545/how-to-change-numpy-array-from-128-128-3-to-3-128-128\n",
        "\n",
        "def disp_image(arr):\n",
        "  arr = unorm(arr) # unnormalize\n",
        "  arr = arr.numpy()\n",
        "  return(np.swapaxes(arr, 2,0))"
      ],
      "execution_count": 0,
      "outputs": []
    },
    {
      "cell_type": "markdown",
      "metadata": {
        "id": "DEDBfyPgubd_",
        "colab_type": "text"
      },
      "source": [
        "So one test data batch is a  tensor of shape: `torch.Size([867, 3, 128, 128])` . This means we have 867 examples of 128x128 pixels (i.e. rgb channels, hence three). We can plot some of them using matplotlib."
      ]
    },
    {
      "cell_type": "code",
      "metadata": {
        "id": "oQyAxAL5mHxC",
        "colab_type": "code",
        "outputId": "414fd891-b9e4-4ec5-a669-3f2f33d5861f",
        "colab": {
          "base_uri": "https://localhost:8080/",
          "height": 500
        }
      },
      "source": [
        "import matplotlib.pyplot as plt\n",
        "\n",
        "fig = plt.figure(figsize=(7,7))\n",
        "for i in range(9):\n",
        "  plt.subplot(3,3,i+1)\n",
        "  plt.tight_layout()\n",
        "  plt.imshow(disp_image(example_data[i]), interpolation='none')\n",
        "  plt.title(\"Ground Truth: {}\".format(example_targets[i]))\n",
        "  plt.xticks([])\n",
        "  plt.yticks([])"
      ],
      "execution_count": 14,
      "outputs": [
        {
          "output_type": "display_data",
          "data": {
            "image/png": "[encoded data removed]",
            "text/plain": [
              "<Figure size 504x504 with 9 Axes>"
            ]
          },
          "metadata": {
            "tags": []
          }
        }
      ]
    },
    {
      "cell_type": "markdown",
      "metadata": {
        "id": "6rvKopaZun1U",
        "colab_type": "text"
      },
      "source": [
        "\n",
        "## Building the Network\n",
        "\n",
        "Now let's go ahead and build our network. We'll use two 2-D convolutional layers followed by two fully-connected (or linear) layers. As activation function we'll choose rectified linear units (ReLUs in short) and as a means of regularization we'll use two dropout layers. In PyTorch a nice way to build a network is by creating a new class for the network we wish to build. Let's import a few submodules here for more readable code."
      ]
    },
    {
      "cell_type": "code",
      "metadata": {
        "id": "Vf9tiXIimK90",
        "colab_type": "code",
        "colab": {}
      },
      "source": [
        "import torch.nn as nn\n",
        "import torch.nn.functional as F\n",
        "import torch.optim as optim"
      ],
      "execution_count": 0,
      "outputs": []
    },
    {
      "cell_type": "code",
      "metadata": {
        "id": "TEQEq3p-mVbt",
        "colab_type": "code",
        "colab": {}
      },
      "source": [
        "# https://github.com/rasbt/deeplearning-models/blob/master/pytorch_ipynb/cnn/cnn-he-init.ipynb\n",
        "\n",
        "class Net(nn.Module):\n",
        "    def __init__(self):\n",
        "        super(Net, self).__init__()\n",
        "        \n",
        "        # calculate same padding:\n",
        "        # (w - k + 2*p)/s + 1 = o\n",
        "        # => p = (s(o-1) - w + k)/2\n",
        "        \n",
        "        # 128x128x3 => 128x128x6\n",
        "        self.conv1 = nn.Conv2d(in_channels=3, \n",
        "                               out_channels=6, \n",
        "                               kernel_size=5,\n",
        "                               padding= 2) # p = (1(128-1) - 128 + 5)/2 = 2\n",
        "\n",
        "        # 64x64x6 => 64x64x12\n",
        "        self.conv2 = nn.Conv2d(in_channels=6, \n",
        "                               out_channels=12, \n",
        "                               kernel_size=5,\n",
        "                               padding= 2) # p = (1(64-1) - 64 + 5)/2 = 2\n",
        "        self.conv2_drop = nn.Dropout2d()\n",
        "\n",
        "        # 32x32x12 => 32x32x12\n",
        "        self.conv3 = nn.Conv2d(in_channels=12, \n",
        "                               out_channels=12, \n",
        "                               kernel_size=5,\n",
        "                               padding= 2) # p = (1(64-1) - 64 + 5)/2 = 2\n",
        "        self.conv3_drop = nn.Dropout2d()\n",
        "\n",
        "        # 16x16x12 => 16x16x16\n",
        "        self.conv4 = nn.Conv2d(in_channels=12, \n",
        "                               out_channels=16, \n",
        "                               kernel_size=5,\n",
        "                               padding= 2) # p = (1(64-1) - 64 + 5)/2 = 2\n",
        "        self.conv4_drop = nn.Dropout2d()\n",
        "        \n",
        "        self.fc1 = nn.Linear(1024, 64)\n",
        "        self.fc2 = nn.Linear(64, 10)\n",
        "        \n",
        "        # initialising weights with He initialisation\n",
        "        for m in self.modules():\n",
        "          if isinstance(m, torch.nn.Conv2d):\n",
        "              nn.init.kaiming_normal_(m.weight.detach())\n",
        "              m.bias.detach().zero_()\n",
        "          elif isinstance(m, torch.nn.Linear):\n",
        "              nn.init.kaiming_normal_(m.weight.detach())\n",
        "              m.bias.detach().zero_()\n",
        "\n",
        "    def forward(self, x):\n",
        "        x = F.relu(F.max_pool2d(self.conv1(x), 2))\n",
        "        x = F.relu(F.max_pool2d(self.conv2_drop(self.conv2(x)), 2))\n",
        "        x = F.relu(F.max_pool2d(self.conv3_drop(self.conv3(x)), 2))\n",
        "        x = F.relu(F.max_pool2d(self.conv4_drop(self.conv4(x)), 2))\n",
        "        x = x.view(-1, 1024)\n",
        "        x = F.relu(self.fc1(x))\n",
        "        x = F.dropout(x, training=self.training)\n",
        "        x = self.fc2(x)\n",
        "        return F.log_softmax(x)\n"
      ],
      "execution_count": 0,
      "outputs": []
    },
    {
      "cell_type": "markdown",
      "metadata": {
        "id": "zXnYATg_vDqd",
        "colab_type": "text"
      },
      "source": [
        "Broadly speaking we can think of the torch.nn layers as which contain trainable parameters while `torch.nn.functional` are purely functional. The `forward()` pass defines the way we compute our output using the given layers and functions. It would be perfectly fine to print out tensors somewhere in the forward pass for easier debugging. This comes in handy when experimenting with more complex models. Note that the forward pass could make use of e.g. a member variable or even the data itself to determine the execution path - and it can also make use of multiple arguments!\n",
        "\n",
        "Now let's `initialize` the network and the optimizer."
      ]
    },
    {
      "cell_type": "code",
      "metadata": {
        "id": "OaqjMFWHmc7M",
        "colab_type": "code",
        "colab": {}
      },
      "source": [
        "network = Net()\n",
        "optimizer = optim.Adam(network.parameters())"
      ],
      "execution_count": 0,
      "outputs": []
    },
    {
      "cell_type": "markdown",
      "metadata": {
        "id": "oOddIOsMvKUX",
        "colab_type": "text"
      },
      "source": [
        "**Note**: If we were using a GPU for training, we should have also sent the network parameters to the GPU using e.g. `network.cuda()`. It is important to transfer the network's parameters to the appropriate device before passing them to the optimizer, otherwise the optimizer will not be able to keep track of them in the right way.\n",
        "\n",
        "## Training the Model\n",
        "\n",
        "Time to build our training loop. First we want to make sure our network is in training mode. Then we iterate over all training data once per epoch. Loading the individual batches is handled by the DataLoader. First we need to manually set the gradients to zero using `optimizer.zero_grad()` since PyTorch by default accumulates gradients. We then produce the output of our network (forward pass) and compute a negative log-likelihodd loss between the output and the ground truth label. The `backward()` call we now collect a new set of gradients which we propagate back into each of the network's parameters using `optimizer.step()`. For more detailed information about the inner workings of PyTorch's automatic gradient system, see the official docs for autograd (highly recommended).\n",
        "\n",
        "We'll also keep track of the progress with some printouts. In order to create a nice training curve later on we also create two lists for saving training and testing losses. On the x-axis we want to display the number of training examples the network has seen during training. "
      ]
    },
    {
      "cell_type": "code",
      "metadata": {
        "id": "xY95KzWOmo8y",
        "colab_type": "code",
        "colab": {}
      },
      "source": [
        "train_losses = []\n",
        "train_counter = []\n",
        "test_losses = []\n",
        "test_counter = [i*len(train_loader.dataset) for i in range(n_epochs + 1)]"
      ],
      "execution_count": 0,
      "outputs": []
    },
    {
      "cell_type": "code",
      "metadata": {
        "id": "P4-jgIoorBv0",
        "colab_type": "code",
        "colab": {}
      },
      "source": [
        "#  for batch_idx, (data, target) in enumerate(valid_loader):\n",
        "#    print(data.shape)"
      ],
      "execution_count": 0,
      "outputs": []
    },
    {
      "cell_type": "markdown",
      "metadata": {
        "id": "lryFUMxxvh34",
        "colab_type": "text"
      },
      "source": [
        "We'll run our test loop once before even starting the training to see what accuracy/loss we achieve just with randomly initialized network parameters. Can you guess what our accuracy might look like for this case?"
      ]
    },
    {
      "cell_type": "code",
      "metadata": {
        "id": "TWm0DgoWmrii",
        "colab_type": "code",
        "colab": {}
      },
      "source": [
        "def train(epoch):\n",
        "  network.train()\n",
        "\n",
        "  for batch_idx, (data, target) in enumerate(train_loader):\n",
        "    optimizer.zero_grad()\n",
        "    output = network(data)\n",
        "    loss = F.nll_loss(output, target)\n",
        "    loss.backward()\n",
        "    optimizer.step()\n",
        "\n",
        "    if batch_idx % log_interval == 0:\n",
        "      print('Train Epoch: {} [{}/{} ({:.0f}%)]\\tLoss: {:.6f}'.format(\n",
        "            epoch, \n",
        "            batch_idx * len(data), \n",
        "            len(train_loader.dataset),\n",
        "            100. * batch_idx / len(train_loader), \n",
        "            loss.item()))\n",
        "      \n",
        "      train_losses.append(loss.item())\n",
        "      train_counter.append(\n",
        "        (batch_idx*64) + ((epoch-1)*len(train_loader.dataset)))\n",
        "      \n",
        "      torch.save(network.state_dict(), '/results/model.pth')\n",
        "      torch.save(optimizer.state_dict(), '/results/optimizer.pth')"
      ],
      "execution_count": 0,
      "outputs": []
    },
    {
      "cell_type": "markdown",
      "metadata": {
        "id": "ZlHQCwD1rhYv",
        "colab_type": "text"
      },
      "source": [
        "Neural network modules as well as optimizers have the ability to save and load their internal state using `.state_dict()`. With this we can continue training from previously saved state dicts if needed - we'd just need to call `.load_state_dict(state_dict)`. \n",
        "\n",
        "Now for our test loop. Here we sum up the test loss and keep track of correctly classified digits to compute the accuracy of the network. "
      ]
    },
    {
      "cell_type": "code",
      "metadata": {
        "id": "pOwJvduYmtlJ",
        "colab_type": "code",
        "colab": {}
      },
      "source": [
        "def test():\n",
        "  network.eval()\n",
        "  test_loss = 0\n",
        "  correct = 0\n",
        "\n",
        "  with torch.no_grad():\n",
        "    \n",
        "    for data, target in test_loader:\n",
        "      \n",
        "      output = network(data)\n",
        "      test_loss += F.nll_loss(output, \n",
        "                              target, \n",
        "                              size_average=False).item()\n",
        "      pred = output.data.max(1, keepdim=True)[1]\n",
        "      correct += pred.eq(target.data.view_as(pred)).sum()\n",
        "\n",
        "  test_loss /= len(test_loader.dataset)\n",
        "  test_losses.append(test_loss)\n",
        "\n",
        "  print('\\nTest set: Avg. loss: {:.4f}, Accuracy: {}/{} ({:.0f}%)\\n'.format(\n",
        "        test_loss, \n",
        "        correct, \n",
        "        len(test_loader.dataset),\n",
        "        100. * correct / len(test_loader.dataset)))"
      ],
      "execution_count": 0,
      "outputs": []
    },
    {
      "cell_type": "code",
      "metadata": {
        "id": "d_-0Dmj6nwzC",
        "colab_type": "code",
        "outputId": "e7952952-50fa-4926-bc48-f9a504017230",
        "colab": {
          "base_uri": "https://localhost:8080/",
          "height": 35
        }
      },
      "source": [
        "! mkdir ../results/ "
      ],
      "execution_count": 23,
      "outputs": [
        {
          "output_type": "stream",
          "text": [
            "mkdir: cannot create directory ‘../results/’: File exists\n"
          ],
          "name": "stdout"
        }
      ]
    },
    {
      "cell_type": "markdown",
      "metadata": {
        "id": "Til15bK4rZRs",
        "colab_type": "text"
      },
      "source": [
        "Using the context manager `no_grad()` we can avoid storing the computations done producing the output of our network in the computation graph.\n",
        "\n",
        "Time to run the training! We'll manually add a `test()` call before we loop over n_epochs to evaluate our model with randomly initialized parameters."
      ]
    },
    {
      "cell_type": "code",
      "metadata": {
        "id": "X3Nr3B7Dm-n2",
        "colab_type": "code",
        "outputId": "d1d1f42f-df76-4fc4-be5f-2ae58dba223c",
        "colab": {
          "base_uri": "https://localhost:8080/",
          "height": 1000
        }
      },
      "source": [
        "test()\n",
        "\n",
        "for epoch in range(1, n_epochs + 1):\n",
        "  train(epoch)\n",
        "  test()"
      ],
      "execution_count": 24,
      "outputs": [
        {
          "output_type": "stream",
          "text": [
            "/usr/local/lib/python3.6/dist-packages/ipykernel_launcher.py:48: UserWarning: Implicit dimension choice for log_softmax has been deprecated. Change the call to include dim=X as an argument.\n",
            "/usr/local/lib/python3.6/dist-packages/torch/nn/_reduction.py:43: UserWarning: size_average and reduce args will be deprecated, please use reduction='sum' instead.\n",
            "  warnings.warn(warning.format(ret))\n"
          ],
          "name": "stderr"
        },
        {
          "output_type": "stream",
          "text": [
            "\n",
            "Test set: Avg. loss: 2.2690, Accuracy: 388/867 (45%)\n",
            "\n",
            "Train Epoch: 1 [0/4764 (0%)]\tLoss: 2.301488\n",
            "Train Epoch: 1 [1280/4764 (27%)]\tLoss: 1.845988\n",
            "Train Epoch: 1 [2560/4764 (53%)]\tLoss: 1.713529\n",
            "Train Epoch: 1 [3840/4764 (80%)]\tLoss: 1.943876\n",
            "\n",
            "Test set: Avg. loss: 1.4918, Accuracy: 388/867 (45%)\n",
            "\n",
            "Train Epoch: 2 [0/4764 (0%)]\tLoss: 1.686973\n",
            "Train Epoch: 2 [1280/4764 (27%)]\tLoss: 1.676515\n",
            "Train Epoch: 2 [2560/4764 (53%)]\tLoss: 1.723389\n",
            "Train Epoch: 2 [3840/4764 (80%)]\tLoss: 1.200627\n",
            "\n",
            "Test set: Avg. loss: 1.1109, Accuracy: 564/867 (65%)\n",
            "\n",
            "Train Epoch: 3 [0/4764 (0%)]\tLoss: 1.425684\n",
            "Train Epoch: 3 [1280/4764 (27%)]\tLoss: 1.566130\n",
            "Train Epoch: 3 [2560/4764 (53%)]\tLoss: 1.296209\n",
            "Train Epoch: 3 [3840/4764 (80%)]\tLoss: 1.375407\n",
            "\n",
            "Test set: Avg. loss: 1.0543, Accuracy: 561/867 (65%)\n",
            "\n",
            "Train Epoch: 4 [0/4764 (0%)]\tLoss: 1.385564\n",
            "Train Epoch: 4 [1280/4764 (27%)]\tLoss: 1.409726\n",
            "Train Epoch: 4 [2560/4764 (53%)]\tLoss: 1.282072\n",
            "Train Epoch: 4 [3840/4764 (80%)]\tLoss: 1.173180\n",
            "\n",
            "Test set: Avg. loss: 1.0058, Accuracy: 568/867 (66%)\n",
            "\n",
            "Train Epoch: 5 [0/4764 (0%)]\tLoss: 1.239516\n",
            "Train Epoch: 5 [1280/4764 (27%)]\tLoss: 1.300352\n",
            "Train Epoch: 5 [2560/4764 (53%)]\tLoss: 1.284207\n",
            "Train Epoch: 5 [3840/4764 (80%)]\tLoss: 1.653906\n",
            "\n",
            "Test set: Avg. loss: 1.0027, Accuracy: 563/867 (65%)\n",
            "\n",
            "Train Epoch: 6 [0/4764 (0%)]\tLoss: 1.450805\n",
            "Train Epoch: 6 [1280/4764 (27%)]\tLoss: 1.430980\n",
            "Train Epoch: 6 [2560/4764 (53%)]\tLoss: 1.456199\n",
            "Train Epoch: 6 [3840/4764 (80%)]\tLoss: 1.268701\n",
            "\n",
            "Test set: Avg. loss: 1.0291, Accuracy: 556/867 (64%)\n",
            "\n",
            "Train Epoch: 7 [0/4764 (0%)]\tLoss: 1.216003\n",
            "Train Epoch: 7 [1280/4764 (27%)]\tLoss: 1.165971\n",
            "Train Epoch: 7 [2560/4764 (53%)]\tLoss: 1.170429\n",
            "Train Epoch: 7 [3840/4764 (80%)]\tLoss: 1.204847\n",
            "\n",
            "Test set: Avg. loss: 0.9955, Accuracy: 564/867 (65%)\n",
            "\n",
            "Train Epoch: 8 [0/4764 (0%)]\tLoss: 1.313309\n",
            "Train Epoch: 8 [1280/4764 (27%)]\tLoss: 1.316257\n",
            "Train Epoch: 8 [2560/4764 (53%)]\tLoss: 1.290638\n",
            "Train Epoch: 8 [3840/4764 (80%)]\tLoss: 1.198724\n",
            "\n",
            "Test set: Avg. loss: 1.0265, Accuracy: 549/867 (63%)\n",
            "\n",
            "Train Epoch: 9 [0/4764 (0%)]\tLoss: 1.257631\n",
            "Train Epoch: 9 [1280/4764 (27%)]\tLoss: 1.116874\n",
            "Train Epoch: 9 [2560/4764 (53%)]\tLoss: 1.126490\n",
            "Train Epoch: 9 [3840/4764 (80%)]\tLoss: 1.293977\n",
            "\n",
            "Test set: Avg. loss: 1.0152, Accuracy: 556/867 (64%)\n",
            "\n",
            "Train Epoch: 10 [0/4764 (0%)]\tLoss: 1.430824\n",
            "Train Epoch: 10 [1280/4764 (27%)]\tLoss: 1.275669\n",
            "Train Epoch: 10 [2560/4764 (53%)]\tLoss: 1.355636\n",
            "Train Epoch: 10 [3840/4764 (80%)]\tLoss: 1.274066\n",
            "\n",
            "Test set: Avg. loss: 0.9924, Accuracy: 559/867 (64%)\n",
            "\n"
          ],
          "name": "stdout"
        }
      ]
    },
    {
      "cell_type": "markdown",
      "metadata": {
        "id": "VQtK0KfarUO3",
        "colab_type": "text"
      },
      "source": [
        "## Evaluating the Model's Performance\n",
        "\n",
        "And that's it. With just 3 epochs of training we  managed to achieve 39% accuracy on the test set! We started out with randomly initialized parameters and as expected only got about 2% accuracy on the test set before starting the training.\n",
        "\n",
        "Let's plot our training curve."
      ]
    },
    {
      "cell_type": "code",
      "metadata": {
        "id": "oqeLSmXonJxU",
        "colab_type": "code",
        "outputId": "5d28692a-9f03-4c91-a830-8c85450c7dd1",
        "colab": {
          "base_uri": "https://localhost:8080/",
          "height": 296
        }
      },
      "source": [
        "fig = plt.figure()\n",
        "plt.plot(train_counter, train_losses, color='blue')\n",
        "plt.scatter(test_counter, test_losses, color='red')\n",
        "plt.legend(['Train Loss', 'Test Loss'], loc='upper right')\n",
        "plt.xlabel('number of training examples seen')\n",
        "plt.ylabel('negative log likelihood loss')"
      ],
      "execution_count": 25,
      "outputs": [
        {
          "output_type": "execute_result",
          "data": {
            "text/plain": [
              "Text(0, 0.5, 'negative log likelihood loss')"
            ]
          },
          "metadata": {
            "tags": []
          },
          "execution_count": 25
        },
        {
          "output_type": "display_data",
          "data": {
            "image/png": "[encoded data removed]",
            "text/plain": [
              "<Figure size 432x288 with 1 Axes>"
            ]
          },
          "metadata": {
            "tags": []
          }
        }
      ]
    },
    {
      "cell_type": "markdown",
      "metadata": {
        "id": "AA3PiXm_rOTI",
        "colab_type": "text"
      },
      "source": [
        "Judging from the training curve  it looks like we could even continue training for a few more epochs!\n",
        "\n",
        "\n",
        "But before that let's again look at a few examples as we did earlier and compare the model's output."
      ]
    },
    {
      "cell_type": "code",
      "metadata": {
        "id": "J5j6uvRnophS",
        "colab_type": "code",
        "outputId": "fa1f8078-4604-4352-e5bd-ca1063ace3a1",
        "colab": {
          "base_uri": "https://localhost:8080/",
          "height": 55
        }
      },
      "source": [
        "with torch.no_grad():\n",
        "  output = network(example_data)"
      ],
      "execution_count": 26,
      "outputs": [
        {
          "output_type": "stream",
          "text": [
            "/usr/local/lib/python3.6/dist-packages/ipykernel_launcher.py:48: UserWarning: Implicit dimension choice for log_softmax has been deprecated. Change the call to include dim=X as an argument.\n"
          ],
          "name": "stderr"
        }
      ]
    },
    {
      "cell_type": "code",
      "metadata": {
        "id": "ZgCt-e6FwV6S",
        "colab_type": "code",
        "colab": {
          "base_uri": "https://localhost:8080/",
          "height": 52
        },
        "outputId": "dea7e282-f80e-43f5-9cb1-ba757e126374"
      },
      "source": [
        "output[0]"
      ],
      "execution_count": 28,
      "outputs": [
        {
          "output_type": "execute_result",
          "data": {
            "text/plain": [
              "tensor([-2.5652, -2.0844, -1.0489, -1.6185, -2.3974, -1.9616, -4.0728, -7.6187,\n",
              "        -7.5413, -7.4896])"
            ]
          },
          "metadata": {
            "tags": []
          },
          "execution_count": 28
        }
      ]
    },
    {
      "cell_type": "code",
      "metadata": {
        "id": "DqRcbIQ9o08g",
        "colab_type": "code",
        "outputId": "3c05c671-c5a1-4cbe-9e26-dbc707fb04a8",
        "colab": {
          "base_uri": "https://localhost:8080/",
          "height": 284
        }
      },
      "source": [
        "fig = plt.figure()\n",
        "for i in range(6):\n",
        "  plt.subplot(2,3,i+1)\n",
        "  plt.tight_layout()\n",
        "  plt.imshow(disp_image(example_data[i]), interpolation='none')\n",
        "  plt.title(\"Prediction: {}\".format(\n",
        "    output.data.max(1, keepdim=True)[1][i].item()))\n",
        "  plt.xticks([])\n",
        "  plt.yticks([])"
      ],
      "execution_count": 29,
      "outputs": [
        {
          "output_type": "display_data",
          "data": {
            "image/png": "[encoded data removed]",
            "text/plain": [
              "<Figure size 432x288 with 6 Axes>"
            ]
          },
          "metadata": {
            "tags": []
          }
        }
      ]
    },
    {
      "cell_type": "markdown",
      "metadata": {
        "id": "HJqxzoOgrFok",
        "colab_type": "text"
      },
      "source": [
        "\n",
        "\n",
        "## Continued Training from Checkpoints\n",
        "\n",
        "Now let's continue training the network, or rather see how we can continue training from the state_dicts we saved during our first training run. We'll initialize a new set of network and optimizers."
      ]
    },
    {
      "cell_type": "code",
      "metadata": {
        "id": "wejeP6XGo335",
        "colab_type": "code",
        "colab": {}
      },
      "source": [
        "continued_network = Net()\n",
        "continued_optimizer = optim.SGD(network.parameters(), lr=learning_rate,\n",
        "                                momentum=momentum)"
      ],
      "execution_count": 0,
      "outputs": []
    },
    {
      "cell_type": "markdown",
      "metadata": {
        "id": "sivwUYHvrA6C",
        "colab_type": "text"
      },
      "source": [
        "Using `.load_state_dict()` we can now load the internal state of the network and optimizer when we last saved them."
      ]
    },
    {
      "cell_type": "code",
      "metadata": {
        "id": "0PsXltKcpDyP",
        "colab_type": "code",
        "colab": {}
      },
      "source": [
        "network_state_dict = torch.load('/results/model.pth')\n",
        "continued_network.load_state_dict(network_state_dict)\n",
        "\n",
        "optimizer_state_dict = torch.load('/results/optimizer.pth')\n",
        "continued_optimizer.load_state_dict(optimizer_state_dict)"
      ],
      "execution_count": 0,
      "outputs": []
    },
    {
      "cell_type": "markdown",
      "metadata": {
        "id": "DzM4XYfDq-Dm",
        "colab_type": "text"
      },
      "source": [
        "Again running a training loop should immediately pick up the training where we left it. To check on that let's simply use the same lists as before to keep track of the loss values. Due to the way we constructed the test counter for the number of training examples seen we manually have to append to it here."
      ]
    },
    {
      "cell_type": "code",
      "metadata": {
        "id": "_uhydGnjpdNP",
        "colab_type": "code",
        "outputId": "a6e0f691-606e-41ff-b6ca-255a37d2b656",
        "colab": {
          "base_uri": "https://localhost:8080/",
          "height": 694
        }
      },
      "source": [
        "for i in range(10,15):\n",
        "  test_counter.append(i*len(train_loader.dataset))\n",
        "  train(i)\n",
        "  test()"
      ],
      "execution_count": 32,
      "outputs": [
        {
          "output_type": "stream",
          "text": [
            "/usr/local/lib/python3.6/dist-packages/ipykernel_launcher.py:48: UserWarning: Implicit dimension choice for log_softmax has been deprecated. Change the call to include dim=X as an argument.\n"
          ],
          "name": "stderr"
        },
        {
          "output_type": "stream",
          "text": [
            "Train Epoch: 10 [0/4764 (0%)]\tLoss: 1.281219\n",
            "Train Epoch: 10 [1280/4764 (27%)]\tLoss: 1.425139\n",
            "Train Epoch: 10 [2560/4764 (53%)]\tLoss: 1.269139\n",
            "Train Epoch: 10 [3840/4764 (80%)]\tLoss: 1.180478\n"
          ],
          "name": "stdout"
        },
        {
          "output_type": "stream",
          "text": [
            "/usr/local/lib/python3.6/dist-packages/torch/nn/_reduction.py:43: UserWarning: size_average and reduce args will be deprecated, please use reduction='sum' instead.\n",
            "  warnings.warn(warning.format(ret))\n"
          ],
          "name": "stderr"
        },
        {
          "output_type": "stream",
          "text": [
            "\n",
            "Test set: Avg. loss: 0.9455, Accuracy: 566/867 (65%)\n",
            "\n",
            "Train Epoch: 11 [0/4764 (0%)]\tLoss: 1.101654\n",
            "Train Epoch: 11 [1280/4764 (27%)]\tLoss: 1.239906\n",
            "Train Epoch: 11 [2560/4764 (53%)]\tLoss: 1.394278\n",
            "Train Epoch: 11 [3840/4764 (80%)]\tLoss: 1.249182\n",
            "\n",
            "Test set: Avg. loss: 0.9193, Accuracy: 558/867 (64%)\n",
            "\n",
            "Train Epoch: 12 [0/4764 (0%)]\tLoss: 1.354859\n",
            "Train Epoch: 12 [1280/4764 (27%)]\tLoss: 1.266654\n",
            "Train Epoch: 12 [2560/4764 (53%)]\tLoss: 0.981148\n",
            "Train Epoch: 12 [3840/4764 (80%)]\tLoss: 1.218153\n",
            "\n",
            "Test set: Avg. loss: 0.9143, Accuracy: 557/867 (64%)\n",
            "\n",
            "Train Epoch: 13 [0/4764 (0%)]\tLoss: 1.167419\n",
            "Train Epoch: 13 [1280/4764 (27%)]\tLoss: 0.871023\n",
            "Train Epoch: 13 [2560/4764 (53%)]\tLoss: 1.218031\n",
            "Train Epoch: 13 [3840/4764 (80%)]\tLoss: 1.254324\n",
            "\n",
            "Test set: Avg. loss: 0.9485, Accuracy: 560/867 (65%)\n",
            "\n",
            "Train Epoch: 14 [0/4764 (0%)]\tLoss: 1.186867\n",
            "Train Epoch: 14 [1280/4764 (27%)]\tLoss: 1.315589\n",
            "Train Epoch: 14 [2560/4764 (53%)]\tLoss: 1.163035\n",
            "Train Epoch: 14 [3840/4764 (80%)]\tLoss: 1.067689\n",
            "\n",
            "Test set: Avg. loss: 0.8701, Accuracy: 558/867 (64%)\n",
            "\n"
          ],
          "name": "stdout"
        }
      ]
    },
    {
      "cell_type": "markdown",
      "metadata": {
        "id": "veMHKm7Qq43f",
        "colab_type": "text"
      },
      "source": [
        "Great! We again see a (much slower) increase in test set accuracy from epoch to epoch. Let's visualize this to further inspect the training progress."
      ]
    },
    {
      "cell_type": "code",
      "metadata": {
        "id": "7AAvgZuupfsf",
        "colab_type": "code",
        "outputId": "2b4b2565-6935-445d-905d-32b64e127de2",
        "colab": {
          "base_uri": "https://localhost:8080/",
          "height": 296
        }
      },
      "source": [
        "fig = plt.figure()\n",
        "plt.plot(train_counter, train_losses, color='blue')\n",
        "plt.scatter(test_counter, test_losses, color='red')\n",
        "plt.legend(['Train Loss', 'Test Loss'], loc='upper right')\n",
        "plt.xlabel('number of training examples seen')\n",
        "plt.ylabel('negative log likelihood loss')"
      ],
      "execution_count": 33,
      "outputs": [
        {
          "output_type": "execute_result",
          "data": {
            "text/plain": [
              "Text(0, 0.5, 'negative log likelihood loss')"
            ]
          },
          "metadata": {
            "tags": []
          },
          "execution_count": 33
        },
        {
          "output_type": "display_data",
          "data": {
            "image/png": "[encoded data removed]",
            "text/plain": [
              "<Figure size 432x288 with 1 Axes>"
            ]
          },
          "metadata": {
            "tags": []
          }
        }
      ]
    },
    {
      "cell_type": "markdown",
      "metadata": {
        "id": "2YpkFKKfqzbg",
        "colab_type": "text"
      },
      "source": [
        "That still looks like a rather smooth learning curve just as if we initially would've trained for 8 epochs! Remember that we just appended values to the same lists starting from the 5th red dot onward.\n",
        "\n",
        "From this we can conclue two things:\n",
        "\n",
        "1. Continuing from the checkpointed internal state worked as intended.\n",
        "\n",
        "2. We still don't seem to run into overfitting issues! It looks like our dropout layers did a good job regularizing the model.\n",
        "\n",
        "In summary we built a new environment with PyTorch and TorchVision, used it to classifiy handwritten digits from the MNIST dataset and hopefully developed a good intuition using PyTorch. For further information the official PyTorch documentation is really nicely written and the forums are also quite active!"
      ]
    },
    {
      "cell_type": "markdown",
      "metadata": {
        "id": "G-tPut9SKeBO",
        "colab_type": "text"
      },
      "source": [
        "## Confusion Matrix"
      ]
    },
    {
      "cell_type": "code",
      "metadata": {
        "id": "p6D86dpuKKcI",
        "colab_type": "code",
        "outputId": "eb9de0ce-1552-4938-8e82-c17a9593c871",
        "colab": {
          "base_uri": "https://localhost:8080/",
          "height": 55
        }
      },
      "source": [
        "network.eval()\n",
        "\n",
        "with torch.no_grad():\n",
        "  for data, target in test_loader:\n",
        "    output = network(data)\n",
        "    pred = output.data.max(1, keepdim=True)[1]"
      ],
      "execution_count": 34,
      "outputs": [
        {
          "output_type": "stream",
          "text": [
            "/usr/local/lib/python3.6/dist-packages/ipykernel_launcher.py:48: UserWarning: Implicit dimension choice for log_softmax has been deprecated. Change the call to include dim=X as an argument.\n"
          ],
          "name": "stderr"
        }
      ]
    },
    {
      "cell_type": "code",
      "metadata": {
        "id": "Z9N0XHetKsvx",
        "colab_type": "code",
        "colab": {}
      },
      "source": [
        "pred = pred.numpy().reshape(-1)"
      ],
      "execution_count": 0,
      "outputs": []
    },
    {
      "cell_type": "code",
      "metadata": {
        "id": "wEbqaywXKvBm",
        "colab_type": "code",
        "outputId": "0a08b89a-84c0-420f-eecc-8a5b93143242",
        "colab": {
          "base_uri": "https://localhost:8080/",
          "height": 35
        }
      },
      "source": [
        "pred.shape"
      ],
      "execution_count": 36,
      "outputs": [
        {
          "output_type": "execute_result",
          "data": {
            "text/plain": [
              "(867,)"
            ]
          },
          "metadata": {
            "tags": []
          },
          "execution_count": 36
        }
      ]
    },
    {
      "cell_type": "code",
      "metadata": {
        "id": "pyOcRfmiK0JP",
        "colab_type": "code",
        "colab": {}
      },
      "source": [
        "target = target.numpy()"
      ],
      "execution_count": 0,
      "outputs": []
    },
    {
      "cell_type": "code",
      "metadata": {
        "id": "WeMlJnSkLGgg",
        "colab_type": "code",
        "colab": {}
      },
      "source": [
        "from pandas import DataFrame as df\n",
        "from sklearn.metrics import confusion_matrix"
      ],
      "execution_count": 0,
      "outputs": []
    },
    {
      "cell_type": "code",
      "metadata": {
        "id": "LqbzrQkiLlRB",
        "colab_type": "code",
        "colab": {}
      },
      "source": [
        "cm = confusion_matrix(target, pred)"
      ],
      "execution_count": 0,
      "outputs": []
    },
    {
      "cell_type": "code",
      "metadata": {
        "id": "N1yRe92bNLvz",
        "colab_type": "code",
        "colab": {}
      },
      "source": [
        "vals = [i+1 for i in range(7)]"
      ],
      "execution_count": 0,
      "outputs": []
    },
    {
      "cell_type": "code",
      "metadata": {
        "id": "OlzaEPKrNWlb",
        "colab_type": "code",
        "outputId": "96d15b29-7f62-47ba-f41f-c2a20d80c30d",
        "colab": {
          "base_uri": "https://localhost:8080/",
          "height": 258
        }
      },
      "source": [
        "df2 = df(cm, vals, vals)\n",
        "df2"
      ],
      "execution_count": 43,
      "outputs": [
        {
          "output_type": "execute_result",
          "data": {
            "text/html": [
              "<div>\n",
              "<style scoped>\n",
              "    .dataframe tbody tr th:only-of-type {\n",
              "        vertical-align: middle;\n",
              "    }\n",
              "\n",
              "    .dataframe tbody tr th {\n",
              "        vertical-align: top;\n",
              "    }\n",
              "\n",
              "    .dataframe thead th {\n",
              "        text-align: right;\n",
              "    }\n",
              "</style>\n",
              "<table border=\"1\" class=\"dataframe\">\n",
              "  <thead>\n",
              "    <tr style=\"text-align: right;\">\n",
              "      <th></th>\n",
              "      <th>1</th>\n",
              "      <th>2</th>\n",
              "      <th>3</th>\n",
              "      <th>4</th>\n",
              "      <th>5</th>\n",
              "      <th>6</th>\n",
              "      <th>7</th>\n",
              "    </tr>\n",
              "  </thead>\n",
              "  <tbody>\n",
              "    <tr>\n",
              "      <th>1</th>\n",
              "      <td>0</td>\n",
              "      <td>0</td>\n",
              "      <td>33</td>\n",
              "      <td>0</td>\n",
              "      <td>0</td>\n",
              "      <td>0</td>\n",
              "      <td>0</td>\n",
              "    </tr>\n",
              "    <tr>\n",
              "      <th>2</th>\n",
              "      <td>0</td>\n",
              "      <td>0</td>\n",
              "      <td>54</td>\n",
              "      <td>0</td>\n",
              "      <td>0</td>\n",
              "      <td>0</td>\n",
              "      <td>0</td>\n",
              "    </tr>\n",
              "    <tr>\n",
              "      <th>3</th>\n",
              "      <td>0</td>\n",
              "      <td>0</td>\n",
              "      <td>231</td>\n",
              "      <td>0</td>\n",
              "      <td>0</td>\n",
              "      <td>2</td>\n",
              "      <td>0</td>\n",
              "    </tr>\n",
              "    <tr>\n",
              "      <th>4</th>\n",
              "      <td>0</td>\n",
              "      <td>0</td>\n",
              "      <td>114</td>\n",
              "      <td>0</td>\n",
              "      <td>0</td>\n",
              "      <td>0</td>\n",
              "      <td>0</td>\n",
              "    </tr>\n",
              "    <tr>\n",
              "      <th>5</th>\n",
              "      <td>0</td>\n",
              "      <td>0</td>\n",
              "      <td>31</td>\n",
              "      <td>0</td>\n",
              "      <td>0</td>\n",
              "      <td>0</td>\n",
              "      <td>0</td>\n",
              "    </tr>\n",
              "    <tr>\n",
              "      <th>6</th>\n",
              "      <td>0</td>\n",
              "      <td>0</td>\n",
              "      <td>61</td>\n",
              "      <td>0</td>\n",
              "      <td>0</td>\n",
              "      <td>327</td>\n",
              "      <td>0</td>\n",
              "    </tr>\n",
              "    <tr>\n",
              "      <th>7</th>\n",
              "      <td>0</td>\n",
              "      <td>0</td>\n",
              "      <td>8</td>\n",
              "      <td>0</td>\n",
              "      <td>0</td>\n",
              "      <td>6</td>\n",
              "      <td>0</td>\n",
              "    </tr>\n",
              "  </tbody>\n",
              "</table>\n",
              "</div>"
            ],
            "text/plain": [
              "   1  2    3  4  5    6  7\n",
              "1  0  0   33  0  0    0  0\n",
              "2  0  0   54  0  0    0  0\n",
              "3  0  0  231  0  0    2  0\n",
              "4  0  0  114  0  0    0  0\n",
              "5  0  0   31  0  0    0  0\n",
              "6  0  0   61  0  0  327  0\n",
              "7  0  0    8  0  0    6  0"
            ]
          },
          "metadata": {
            "tags": []
          },
          "execution_count": 43
        }
      ]
    },
    {
      "cell_type": "code",
      "metadata": {
        "id": "uepyRYXVNtqD",
        "colab_type": "code",
        "colab": {}
      },
      "source": [
        "def value_counts(x):\n",
        "  unique, counts = np.unique(x, return_counts=True)\n",
        "  print(np.asarray((unique, counts)).T)\n",
        "\n",
        "def weight_scale(x):\n",
        "  unique, counts = np.unique(x, return_counts=True)\n",
        "  print(counts/counts.sum())"
      ],
      "execution_count": 0,
      "outputs": []
    },
    {
      "cell_type": "code",
      "metadata": {
        "id": "P9mSxE54NqES",
        "colab_type": "code",
        "outputId": "8a1dbe70-42f5-48de-a39e-c55b08495167",
        "colab": {
          "base_uri": "https://localhost:8080/",
          "height": 138
        }
      },
      "source": [
        "value_counts(target)"
      ],
      "execution_count": 45,
      "outputs": [
        {
          "output_type": "stream",
          "text": [
            "[[  0  33]\n",
            " [  1  54]\n",
            " [  2 233]\n",
            " [  3 114]\n",
            " [  4  31]\n",
            " [  5 388]\n",
            " [  6  14]]\n"
          ],
          "name": "stdout"
        }
      ]
    },
    {
      "cell_type": "code",
      "metadata": {
        "id": "5-GQYZN_3dxR",
        "colab_type": "code",
        "colab": {
          "base_uri": "https://localhost:8080/",
          "height": 52
        },
        "outputId": "a82371b9-ab66-4531-d4ee-acc5b96416b3"
      },
      "source": [
        "# weigh class weights\n",
        "weight_scale(target)"
      ],
      "execution_count": 51,
      "outputs": [
        {
          "output_type": "stream",
          "text": [
            "[0.03806228 0.06228374 0.26874279 0.13148789 0.03575548 0.44752018\n",
            " 0.01614764]\n"
          ],
          "name": "stdout"
        }
      ]
    },
    {
      "cell_type": "code",
      "metadata": {
        "id": "TeYdTBBMNr9s",
        "colab_type": "code",
        "outputId": "ec126634-a37e-4694-bbb7-9f9a49541e5d",
        "colab": {
          "base_uri": "https://localhost:8080/",
          "height": 52
        }
      },
      "source": [
        "value_counts(pred)"
      ],
      "execution_count": 46,
      "outputs": [
        {
          "output_type": "stream",
          "text": [
            "[[  2 532]\n",
            " [  5 335]]\n"
          ],
          "name": "stdout"
        }
      ]
    },
    {
      "cell_type": "code",
      "metadata": {
        "id": "2isav3KUXh2O",
        "colab_type": "code",
        "colab": {}
      },
      "source": [
        "! rm -rf runs"
      ],
      "execution_count": 0,
      "outputs": []
    },
    {
      "cell_type": "markdown",
      "metadata": {
        "id": "rqBgoAueWycl",
        "colab_type": "text"
      },
      "source": [
        "## Visualise Activations"
      ]
    },
    {
      "cell_type": "code",
      "metadata": {
        "id": "NutwEk1WXHTg",
        "colab_type": "code",
        "colab": {}
      },
      "source": [
        "# from torch.utils.tensorboard import SummaryWriter\n",
        "# import numpy as np\n",
        "\n",
        "# writer = SummaryWriter()\n",
        "\n",
        "# writer.add_pr_curve('pr_curve', target, pred, 0)\n",
        "# writer.close()"
      ],
      "execution_count": 0,
      "outputs": []
    },
    {
      "cell_type": "code",
      "metadata": {
        "id": "G25amWNgYf28",
        "colab_type": "code",
        "outputId": "1ff002f8-4c15-4882-a150-af5b2c96c178",
        "colab": {
          "base_uri": "https://localhost:8080/",
          "height": 89
        }
      },
      "source": [
        "# ! zip -r -X runs.zip runs"
      ],
      "execution_count": 0,
      "outputs": [
        {
          "output_type": "stream",
          "text": [
            "  adding: runs/ (stored 0%)\n",
            "  adding: runs/Nov24_07-48-13_6abaa22567ef/ (stored 0%)\n",
            "  adding: runs/Nov24_07-48-13_6abaa22567ef/events.out.tfevents.1574581693.6abaa22567ef.123.5 (deflated 5%)\n"
          ],
          "name": "stdout"
        }
      ]
    },
    {
      "cell_type": "code",
      "metadata": {
        "id": "oLLga_0SZseH",
        "colab_type": "code",
        "colab": {}
      },
      "source": [
        "# %load_ext tensorboard\n",
        "# %tensorboard --logdir \"$runs\""
      ],
      "execution_count": 0,
      "outputs": []
    },
    {
      "cell_type": "code",
      "metadata": {
        "id": "_8VNi_mE6oUw",
        "colab_type": "code",
        "colab": {}
      },
      "source": [
        "# http://snappishproductions.com/blog/2018/01/03/class-activation-mapping-in-pytorch.html\n",
        "# https://github.com/utkuozbulak/pytorch-cnn-visualizations/blob/master/src/gradcam.py\n",
        "\n"
      ],
      "execution_count": 0,
      "outputs": []
    }
  ]
}